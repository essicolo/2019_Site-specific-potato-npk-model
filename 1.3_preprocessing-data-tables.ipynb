{
 "cells": [
  {
   "cell_type": "markdown",
   "metadata": {},
   "source": [
    "## 1.3. The data tables for modeling\n",
    "\n",
    "This notebook builds different data tables for Machine learning in Python with respect to the outputs."
   ]
  },
  {
   "cell_type": "code",
   "execution_count": 1,
   "metadata": {},
   "outputs": [
    {
     "name": "stderr",
     "output_type": "stream",
     "text": [
      "-- \u001b[1mAttaching packages\u001b[22m --------------------------------------- tidyverse 1.3.0 --\n",
      "\n",
      "\u001b[32mv\u001b[39m \u001b[34mggplot2\u001b[39m 3.3.0     \u001b[32mv\u001b[39m \u001b[34mpurrr  \u001b[39m 0.3.3\n",
      "\u001b[32mv\u001b[39m \u001b[34mtibble \u001b[39m 2.1.3     \u001b[32mv\u001b[39m \u001b[34mdplyr  \u001b[39m 0.8.5\n",
      "\u001b[32mv\u001b[39m \u001b[34mtidyr  \u001b[39m 1.0.2     \u001b[32mv\u001b[39m \u001b[34mstringr\u001b[39m 1.4.0\n",
      "\u001b[32mv\u001b[39m \u001b[34mreadr  \u001b[39m 1.3.1     \u001b[32mv\u001b[39m \u001b[34mforcats\u001b[39m 0.5.0\n",
      "\n",
      "-- \u001b[1mConflicts\u001b[22m ------------------------------------------ tidyverse_conflicts() --\n",
      "\u001b[31mx\u001b[39m \u001b[34mdplyr\u001b[39m::\u001b[32mfilter()\u001b[39m masks \u001b[34mstats\u001b[39m::filter()\n",
      "\u001b[31mx\u001b[39m \u001b[34mdplyr\u001b[39m::\u001b[32mlag()\u001b[39m    masks \u001b[34mstats\u001b[39m::lag()\n",
      "\n"
     ]
    }
   ],
   "source": [
    "library(\"tidyverse\")\n",
    "library(\"skimr\")"
   ]
  },
  {
   "cell_type": "markdown",
   "metadata": {},
   "source": [
    "The data in file __`pr_potato_df.csv`__ is imported from __`1.2_preprocessing-2.ipynb`__ file."
   ]
  },
  {
   "cell_type": "code",
   "execution_count": 2,
   "metadata": {},
   "outputs": [],
   "source": [
    "data_ml <- read.csv(file = 'output/pr_potato_df.csv')\n",
    "data_ml$index <- 1:nrow(data_ml)\n",
    "keys_col <- c(\"NoEssai\", \"NoBloc\", \"NoTraitement\", \"ID\", \"ID_bl\")\n",
    "dose_vars <- c('NtotDose', 'PtotDose', 'KtotDose', 'test_type')"
   ]
  },
  {
   "cell_type": "markdown",
   "metadata": {},
   "source": [
    "Blocks containing only one value are deleted. Unique identifiers are defined as the concatenation of trials and the block (`NoEssai-NoBloc`), and as the concatenation of trial, block and treatment (`NoEssai-NoBloc-NoTraitement`). "
   ]
  },
  {
   "cell_type": "code",
   "execution_count": 3,
   "metadata": {},
   "outputs": [
    {
     "data": {
      "text/html": [
       "8096"
      ],
      "text/latex": [
       "8096"
      ],
      "text/markdown": [
       "8096"
      ],
      "text/plain": [
       "[1] 8096"
      ]
     },
     "metadata": {},
     "output_type": "display_data"
    }
   ],
   "source": [
    "data_ml <- subset(data_ml, !Bloc_numLevels == 1) %>%\n",
    "    mutate(ID = paste0(NoEssai, '-', NoBloc, '-', NoTraitement),\n",
    "           ID_bl = paste0(NoEssai, '-', NoBloc))\n",
    "nrow(data_ml)"
   ]
  },
  {
   "cell_type": "code",
   "execution_count": 4,
   "metadata": {},
   "outputs": [
    {
     "data": {
      "text/html": [
       "1979"
      ],
      "text/latex": [
       "1979"
      ],
      "text/markdown": [
       "1979"
      ],
      "text/plain": [
       "[1] 1979"
      ]
     },
     "metadata": {},
     "output_type": "display_data"
    },
    {
     "data": {
      "text/html": [
       "2017"
      ],
      "text/latex": [
       "2017"
      ],
      "text/markdown": [
       "2017"
      ],
      "text/plain": [
       "[1] 2017"
      ]
     },
     "metadata": {},
     "output_type": "display_data"
    }
   ],
   "source": [
    "# Time-span in data_ml\n",
    "min(data_ml$Annee, na.rm = TRUE)\n",
    "max(data_ml$Annee, na.rm = TRUE)"
   ]
  },
  {
   "cell_type": "markdown",
   "metadata": {},
   "source": [
    "### Remove dots from column names \n",
    "\n",
    "Note single elements (_e.g. soil_Al_) must be listed after balances to avoid replacing it befor parsing the balance (_if `soil_Al` is parsed before, `soil_Al.P` is translated to `soil Al.P`_)."
   ]
  },
  {
   "cell_type": "code",
   "execution_count": 5,
   "metadata": {},
   "outputs": [
    {
     "name": "stderr",
     "output_type": "stream",
     "text": [
      "Parsed with column specification:\n",
      "cols(\n",
      "  from_name_mm = \u001b[31mcol_character()\u001b[39m,\n",
      "  to_name_mm = \u001b[31mcol_character()\u001b[39m,\n",
      "  to_name_mm_long = \u001b[31mcol_character()\u001b[39m,\n",
      "  to_name_mm_long_fr = \u001b[31mcol_character()\u001b[39m\n",
      ")\n",
      "\n"
     ]
    }
   ],
   "source": [
    "# Local useful csv table to remove some characters in colnames\n",
    "translate_col <- read_csv(file = 'data/translate_col.csv')"
   ]
  },
  {
   "cell_type": "code",
   "execution_count": 6,
   "metadata": {},
   "outputs": [],
   "source": [
    "for (i in 1:nrow(translate_col)) {\n",
    "  index <- which(colnames(data_ml) == translate_col$from_name_mm[i])\n",
    "  colnames(data_ml)[index] <- translate_col$to_name_mm[i]\n",
    "}"
   ]
  },
  {
   "cell_type": "markdown",
   "metadata": {},
   "source": [
    "### Select usefull columns\n",
    "\n",
    "As a first step, we select useful columns for the prediction. The data table will then be filtered to remove rows containing at least one missing values. We must assure to select meaningful columns which are not inducing too much NAs."
   ]
  },
  {
   "cell_type": "code",
   "execution_count": 7,
   "metadata": {},
   "outputs": [],
   "source": [
    "var_ml <- c(\n",
    "    # Response variables\n",
    "    \"RendVendableMaxParEssai\",\n",
    "    ## other outputs are added separately in codes below\n",
    "    # Keys (Random effect)\n",
    "    \"NoEssai\", \"NoBloc\", \"NoTraitement\", \"ID\", \"ID_bl\",\n",
    "    # Management\n",
    "    \"DensitePlants\", \"PrecCropFiveClasses\",  \n",
    "    # Cultivar\n",
    "    \"Cultivar\", \"Maturity5\", \"growing.season\", \n",
    "    # Weather\n",
    "    'temp_moy_5years', 'prec_tot_5years', 'sdi_5years', 'gdd_5years',\n",
    "    # Doses\n",
    "    ## Nitrogen\n",
    "    \"NtotDose\",\n",
    "    ## Phosphorous\n",
    "    \"PtotDose\",\n",
    "    ## Potassium\n",
    "    \"KtotDose\",\n",
    "    # Soil\n",
    "    \"soilTextIlr1\", \"soilTextIlr2\", \"soilTextIlr3\",\n",
    "    \"soilTypeIlr1_3\", \"soilTypeIlr2_3\",\n",
    "    \"soil_pH\",\n",
    "    \"soil_P1_Fv.AlP\", \"soil_P1_Al.P\", #sbp1 \n",
    "    \"soil_K2_FvMgCa.K\", \"soil_K2_Fv.MgCa\", \"soil_K2_Mg.Ca\", # sbp2\n",
    "    \"soil_P\", \"soil_K\", \"soil_Al\", \"ISP1\" # CRAAQ\n",
    ")"
   ]
  },
  {
   "cell_type": "markdown",
   "metadata": {},
   "source": [
    "The following chains filter out trials whose highest yield is below 28 Mg/ha. This is done to prevent the use of data highly perturbed by factors that were not monitored like diseases, management failures or extreme weather events. Useless features are also discarded. Then we remove lines containing NAs. The last operation of the chain resets the levels of factors to avoid encoding factors containing categories (levels) ruled out from the dataset. \n",
    "\n",
    "Different tables are built for different outputs. The number of complete cases varies depending on the output variables."
   ]
  },
  {
   "cell_type": "markdown",
   "metadata": {},
   "source": [
    "### Complete cases with all the outputs\n",
    "This table gathers trials common to all the outputs."
   ]
  },
  {
   "cell_type": "code",
   "execution_count": 8,
   "metadata": {},
   "outputs": [],
   "source": [
    "ml_df <- data_ml %>%\n",
    "  filter(RendVendableMaxParEssai >= 28) %>%\n",
    "  select(one_of(c(\"index\", \"RendVendable\", 'tsizeMS_L', 'tsizeS_M', \"PoidsSpec\", var_ml, \"Annee\"))) %>%\n",
    "  na.omit() %>%\n",
    "  droplevels()"
   ]
  },
  {
   "cell_type": "code",
   "execution_count": 9,
   "metadata": {},
   "outputs": [],
   "source": [
    "ml_df <- ml_df %>% select(-Annee)\n",
    "ml_df$Cultivar <- factor(ml_df$Cultivar)"
   ]
  },
  {
   "cell_type": "markdown",
   "metadata": {},
   "source": [
    "We merge the `test_type` column (not included previously to avoid remove rows with missing `test_type`)."
   ]
  },
  {
   "cell_type": "code",
   "execution_count": 10,
   "metadata": {},
   "outputs": [
    {
     "data": {
      "text/html": [
       "8096"
      ],
      "text/latex": [
       "8096"
      ],
      "text/markdown": [
       "8096"
      ],
      "text/plain": [
       "[1] 8096"
      ]
     },
     "metadata": {},
     "output_type": "display_data"
    }
   ],
   "source": [
    "test_type <- data_ml %>%\n",
    "    select(index, test_type)\n",
    "nrow(test_type)"
   ]
  },
  {
   "cell_type": "code",
   "execution_count": 11,
   "metadata": {},
   "outputs": [],
   "source": [
    "ml_df <- left_join(ml_df, test_type, by = \"index\") %>% \n",
    "                    select(-index, -RendVendableMaxParEssai)"
   ]
  },
  {
   "cell_type": "markdown",
   "metadata": {},
   "source": [
    "We export this table as `df_all.csv` for multioutput machine learning in Python."
   ]
  },
  {
   "cell_type": "code",
   "execution_count": 12,
   "metadata": {},
   "outputs": [],
   "source": [
    "write_csv(ml_df, \"output/df_all.csv\")"
   ]
  },
  {
   "cell_type": "markdown",
   "metadata": {},
   "source": [
    "### Marketable yield\n",
    "Process a data frame with `RendVendable` or marketable yield solely as response variable. Process identically as for multitask GP but only select `RendVendable`, ID and var_ml. The test_type data frame remains the same\""
   ]
  },
  {
   "cell_type": "code",
   "execution_count": 13,
   "metadata": {},
   "outputs": [],
   "source": [
    "RendVendable_ml_df <- data_ml %>%\n",
    "  filter(RendVendableMaxParEssai >= 28) %>%\n",
    "  select(one_of(c(\"index\", \"RendVendable\", var_ml, \"Annee\"))) %>%\n",
    "  na.omit() %>% # many NAs in pH and OM, and some in yield\n",
    "  droplevels()  # Make sure not having extra factors to have a start vector of correct length\n",
    "RendVendable_ml_df$Cultivar <- factor(RendVendable_ml_df$Cultivar)"
   ]
  },
  {
   "cell_type": "markdown",
   "metadata": {},
   "source": [
    "Stats marketable yield data (structure per year):"
   ]
  },
  {
   "cell_type": "code",
   "execution_count": 14,
   "metadata": {},
   "outputs": [
    {
     "data": {
      "text/html": [
       "1979"
      ],
      "text/latex": [
       "1979"
      ],
      "text/markdown": [
       "1979"
      ],
      "text/plain": [
       "[1] 1979"
      ]
     },
     "metadata": {},
     "output_type": "display_data"
    },
    {
     "data": {
      "text/html": [
       "2017"
      ],
      "text/latex": [
       "2017"
      ],
      "text/markdown": [
       "2017"
      ],
      "text/plain": [
       "[1] 2017"
      ]
     },
     "metadata": {},
     "output_type": "display_data"
    }
   ],
   "source": [
    "# Time span filtered trials\n",
    "min(RendVendable_ml_df$Annee, na.rm = T)\n",
    "max(RendVendable_ml_df$Annee, na.rm = T)"
   ]
  },
  {
   "cell_type": "raw",
   "metadata": {},
   "source": [
    "skim(RendVendable_ml_df)"
   ]
  },
  {
   "cell_type": "code",
   "execution_count": 15,
   "metadata": {},
   "outputs": [
    {
     "data": {
      "text/html": [
       "<table>\n",
       "<caption>A tibble: 29 × 23</caption>\n",
       "<thead>\n",
       "\t<tr><th scope=col>Annee</th><th scope=col>n_samples</th><th scope=col>n_trials</th><th scope=col>percent</th><th scope=col>min_nblocs</th><th scope=col>max_nblocs</th><th scope=col>min_ntreat</th><th scope=col>max_ntreat</th><th scope=col>min_GS</th><th scope=col>mean_GS</th><th scope=col>...</th><th scope=col>max_T</th><th scope=col>min_PPT</th><th scope=col>mean_PPT</th><th scope=col>max_PPT</th><th scope=col>min_GDD</th><th scope=col>mean_GDD</th><th scope=col>max_GDD</th><th scope=col>min_RV</th><th scope=col>mean_RV</th><th scope=col>max_RV</th></tr>\n",
       "\t<tr><th scope=col>&lt;int&gt;</th><th scope=col>&lt;int&gt;</th><th scope=col>&lt;int&gt;</th><th scope=col>&lt;dbl&gt;</th><th scope=col>&lt;int&gt;</th><th scope=col>&lt;int&gt;</th><th scope=col>&lt;int&gt;</th><th scope=col>&lt;int&gt;</th><th scope=col>&lt;int&gt;</th><th scope=col>&lt;dbl&gt;</th><th scope=col>...</th><th scope=col>&lt;dbl&gt;</th><th scope=col>&lt;dbl&gt;</th><th scope=col>&lt;dbl&gt;</th><th scope=col>&lt;dbl&gt;</th><th scope=col>&lt;dbl&gt;</th><th scope=col>&lt;dbl&gt;</th><th scope=col>&lt;dbl&gt;</th><th scope=col>&lt;dbl&gt;</th><th scope=col>&lt;dbl&gt;</th><th scope=col>&lt;dbl&gt;</th></tr>\n",
       "</thead>\n",
       "<tbody>\n",
       "\t<tr><td>1979</td><td> 10</td><td> 1</td><td>0.1691189</td><td>3</td><td>3</td><td> 4</td><td> 4</td><td>116</td><td>116.0000</td><td>...</td><td>15.75853</td><td>365.48</td><td>365.4800</td><td>365.48</td><td>1505.20</td><td>1505.200</td><td>1505.20</td><td> 8.500000</td><td>25.00000</td><td>31.10000</td></tr>\n",
       "\t<tr><td>1980</td><td> 10</td><td> 1</td><td>0.1691189</td><td>3</td><td>3</td><td> 4</td><td> 4</td><td>116</td><td>116.0000</td><td>...</td><td>16.11900</td><td>354.92</td><td>354.9200</td><td>354.92</td><td>1565.00</td><td>1565.000</td><td>1565.00</td><td> 5.600000</td><td>25.08000</td><td>32.90000</td></tr>\n",
       "\t<tr><td>1981</td><td> 30</td><td> 3</td><td>0.5073567</td><td>6</td><td>6</td><td> 4</td><td> 4</td><td>116</td><td>116.0000</td><td>...</td><td>16.30964</td><td>383.66</td><td>405.3867</td><td>420.98</td><td>1569.48</td><td>1721.120</td><td>1871.88</td><td>14.300000</td><td>29.61667</td><td>40.10000</td></tr>\n",
       "\t<tr><td>1987</td><td>  8</td><td> 1</td><td>0.1352951</td><td>2</td><td>2</td><td> 4</td><td> 4</td><td>110</td><td>110.0000</td><td>...</td><td>16.47429</td><td>437.06</td><td>437.0600</td><td>437.06</td><td>1815.76</td><td>1815.760</td><td>1815.76</td><td>16.980000</td><td>34.58500</td><td>44.23000</td></tr>\n",
       "\t<tr><td>1993</td><td>144</td><td> 6</td><td>2.4353120</td><td>3</td><td>3</td><td>27</td><td>27</td><td>121</td><td>124.9375</td><td>...</td><td>16.79694</td><td>412.28</td><td>419.0437</td><td>424.62</td><td>1952.96</td><td>2046.755</td><td>2082.16</td><td>14.071038</td><td>36.68887</td><td>53.30556</td></tr>\n",
       "\t<tr><td>1994</td><td> 84</td><td> 3</td><td>1.4205987</td><td>3</td><td>3</td><td>10</td><td>10</td><td>124</td><td>124.6429</td><td>...</td><td>17.27429</td><td>439.32</td><td>440.6571</td><td>441.40</td><td>2145.36</td><td>2151.056</td><td>2154.22</td><td> 7.468124</td><td>36.03904</td><td>51.93989</td></tr>\n",
       "\t<tr><td>1995</td><td> 81</td><td> 3</td><td>1.3698630</td><td>3</td><td>3</td><td> 9</td><td> 9</td><td>106</td><td>108.6667</td><td>...</td><td>17.79911</td><td>444.46</td><td>450.8600</td><td>463.66</td><td>1890.40</td><td>1927.600</td><td>2002.00</td><td>15.519126</td><td>27.61283</td><td>40.27322</td></tr>\n",
       "\t<tr><td>1996</td><td>258</td><td> 8</td><td>4.3632674</td><td>6</td><td>6</td><td>11</td><td>11</td><td>102</td><td>120.6860</td><td>...</td><td>18.68296</td><td>371.40</td><td>445.9235</td><td>529.12</td><td>1631.00</td><td>2099.052</td><td>2264.86</td><td> 3.333333</td><td>34.24359</td><td>58.94809</td></tr>\n",
       "\t<tr><td>1997</td><td>306</td><td> 8</td><td>5.1750381</td><td>6</td><td>6</td><td>22</td><td>22</td><td> 98</td><td>116.3333</td><td>...</td><td>18.81005</td><td>343.84</td><td>470.6990</td><td>537.64</td><td>1627.28</td><td>1990.232</td><td>2116.28</td><td> 2.535918</td><td>26.87887</td><td>46.43400</td></tr>\n",
       "\t<tr><td>1998</td><td>280</td><td>14</td><td>4.7353289</td><td>6</td><td>6</td><td> 5</td><td> 5</td><td>107</td><td>122.7714</td><td>...</td><td>17.94491</td><td>358.68</td><td>387.7474</td><td>443.46</td><td>1983.14</td><td>2081.409</td><td>2132.68</td><td> 4.295082</td><td>33.63736</td><td>61.05000</td></tr>\n",
       "\t<tr><td>1999</td><td>431</td><td>18</td><td>7.2890242</td><td>6</td><td>6</td><td>14</td><td>14</td><td>120</td><td>127.8051</td><td>...</td><td>18.26183</td><td>377.40</td><td>437.7488</td><td>506.56</td><td>2042.16</td><td>2101.606</td><td>2165.40</td><td>10.607650</td><td>31.05169</td><td>58.30000</td></tr>\n",
       "\t<tr><td>2000</td><td>184</td><td> 8</td><td>3.1117876</td><td>6</td><td>6</td><td> 5</td><td> 5</td><td>122</td><td>122.0000</td><td>...</td><td>18.72810</td><td>279.80</td><td>279.8000</td><td>279.80</td><td>1833.22</td><td>1833.220</td><td>1833.22</td><td>13.967213</td><td>35.97210</td><td>48.86776</td></tr>\n",
       "\t<tr><td>2001</td><td>152</td><td> 8</td><td>2.5706071</td><td>4</td><td>4</td><td> 5</td><td> 5</td><td>115</td><td>129.7368</td><td>...</td><td>17.93973</td><td>379.04</td><td>451.8768</td><td>458.12</td><td>2055.54</td><td>2082.656</td><td>2084.98</td><td>12.287617</td><td>29.23687</td><td>42.91813</td></tr>\n",
       "\t<tr><td>2002</td><td>183</td><td> 8</td><td>3.0948757</td><td>4</td><td>4</td><td>11</td><td>11</td><td> 98</td><td>117.3552</td><td>...</td><td>17.74918</td><td>308.12</td><td>395.2576</td><td>504.18</td><td>1571.58</td><td>1885.059</td><td>2225.96</td><td>13.857924</td><td>32.61909</td><td>68.17561</td></tr>\n",
       "\t<tr><td>2003</td><td>348</td><td>21</td><td>5.8853374</td><td>4</td><td>4</td><td>10</td><td>10</td><td> 98</td><td>112.3506</td><td>...</td><td>18.50810</td><td>284.78</td><td>358.9809</td><td>406.68</td><td>1462.74</td><td>1876.181</td><td>2111.08</td><td> 7.901639</td><td>29.28821</td><td>63.74320</td></tr>\n",
       "\t<tr><td>2004</td><td>267</td><td>11</td><td>4.5154744</td><td>3</td><td>3</td><td>11</td><td>11</td><td> 98</td><td>121.4045</td><td>...</td><td>17.87477</td><td>281.04</td><td>381.2110</td><td>490.30</td><td>1522.24</td><td>1946.832</td><td>2323.72</td><td>10.045477</td><td>36.10679</td><td>65.78151</td></tr>\n",
       "\t<tr><td>2005</td><td>574</td><td>20</td><td>9.7074243</td><td>4</td><td>4</td><td>11</td><td>11</td><td>110</td><td>124.4704</td><td>...</td><td>17.64846</td><td>311.02</td><td>388.6644</td><td>529.72</td><td>1613.94</td><td>2027.433</td><td>2259.26</td><td> 6.403484</td><td>30.11936</td><td>58.01796</td></tr>\n",
       "\t<tr><td>2006</td><td>186</td><td>10</td><td>3.1456114</td><td>3</td><td>3</td><td>10</td><td>10</td><td>104</td><td>116.2419</td><td>...</td><td>17.99642</td><td>  0.00</td><td>246.4242</td><td>431.10</td><td> 845.84</td><td>1514.733</td><td>2379.88</td><td> 4.070716</td><td>28.29807</td><td>51.24599</td></tr>\n",
       "\t<tr><td>2007</td><td>297</td><td>15</td><td>5.0228311</td><td>3</td><td>3</td><td>12</td><td>12</td><td>108</td><td>120.2323</td><td>...</td><td>18.18317</td><td>325.28</td><td>417.3420</td><td>523.62</td><td>1602.34</td><td>1963.060</td><td>2293.96</td><td>10.421511</td><td>35.75783</td><td>51.88351</td></tr>\n",
       "\t<tr><td>2008</td><td>107</td><td> 6</td><td>1.8095721</td><td>3</td><td>3</td><td> 7</td><td> 7</td><td>116</td><td>117.6822</td><td>...</td><td>17.83380</td><td>398.62</td><td>431.1034</td><td>454.68</td><td>1475.72</td><td>1821.309</td><td>2072.14</td><td> 4.761965</td><td>24.14834</td><td>45.30685</td></tr>\n",
       "\t<tr><td>2009</td><td>118</td><td> 6</td><td>1.9956029</td><td>5</td><td>5</td><td> 8</td><td> 8</td><td>130</td><td>135.3390</td><td>...</td><td>17.23544</td><td>476.08</td><td>536.4863</td><td>580.94</td><td>1939.02</td><td>2196.603</td><td>2421.80</td><td>16.400000</td><td>43.79470</td><td>83.20000</td></tr>\n",
       "\t<tr><td>2010</td><td>154</td><td> 8</td><td>2.6044309</td><td>4</td><td>4</td><td> 8</td><td> 8</td><td>110</td><td>119.6623</td><td>...</td><td>17.64958</td><td>367.94</td><td>458.8318</td><td>505.02</td><td>1278.66</td><td>1931.122</td><td>2243.28</td><td>13.223727</td><td>32.73063</td><td>54.00604</td></tr>\n",
       "\t<tr><td>2011</td><td>261</td><td>13</td><td>4.4140030</td><td>4</td><td>4</td><td> 8</td><td> 8</td><td>103</td><td>110.6858</td><td>...</td><td>18.41442</td><td>246.00</td><td>392.3609</td><td>457.90</td><td>1146.30</td><td>1717.573</td><td>2071.08</td><td>14.001641</td><td>32.38997</td><td>56.28389</td></tr>\n",
       "\t<tr><td>2012</td><td>268</td><td>13</td><td>4.5323863</td><td>4</td><td>4</td><td> 8</td><td> 8</td><td>103</td><td>121.2500</td><td>...</td><td>17.65248</td><td>311.50</td><td>468.6505</td><td>545.02</td><td>1087.94</td><td>1882.487</td><td>2291.56</td><td> 5.136165</td><td>36.02612</td><td>78.74775</td></tr>\n",
       "\t<tr><td>2013</td><td>344</td><td>16</td><td>5.8176898</td><td>4</td><td>4</td><td> 8</td><td> 8</td><td> 91</td><td>119.2558</td><td>...</td><td>18.17355</td><td>280.24</td><td>434.8460</td><td>505.28</td><td>1093.74</td><td>1766.939</td><td>2231.86</td><td>10.939208</td><td>35.64967</td><td>86.15722</td></tr>\n",
       "\t<tr><td>2014</td><td>535</td><td>25</td><td>9.0478606</td><td>4</td><td>4</td><td>10</td><td>10</td><td> 94</td><td>116.9813</td><td>...</td><td>19.90396</td><td> 61.68</td><td>339.8817</td><td>574.72</td><td> 340.84</td><td>1560.704</td><td>2330.10</td><td> 5.621215</td><td>36.54708</td><td>60.39669</td></tr>\n",
       "\t<tr><td>2015</td><td> 33</td><td> 2</td><td>0.5580923</td><td>3</td><td>3</td><td> 6</td><td> 6</td><td>125</td><td>128.2727</td><td>...</td><td>19.10064</td><td>357.72</td><td>420.3055</td><td>472.46</td><td>2312.76</td><td>2375.825</td><td>2428.38</td><td>26.530000</td><td>48.15424</td><td>68.24000</td></tr>\n",
       "\t<tr><td>2016</td><td> 48</td><td> 5</td><td>0.8117707</td><td>3</td><td>3</td><td> 6</td><td> 6</td><td>115</td><td>125.1667</td><td>...</td><td>18.60586</td><td>389.34</td><td>463.7142</td><td>515.32</td><td> 653.92</td><td>1684.890</td><td>2430.20</td><td>12.450000</td><td>34.51750</td><td>58.02000</td></tr>\n",
       "\t<tr><td>2017</td><td>212</td><td>12</td><td>3.5853205</td><td>3</td><td>3</td><td> 8</td><td> 8</td><td>106</td><td>119.9057</td><td>...</td><td>19.00922</td><td>279.20</td><td>377.2143</td><td>440.74</td><td> 638.92</td><td>1512.194</td><td>2093.74</td><td>17.030000</td><td>39.07014</td><td>70.93000</td></tr>\n",
       "</tbody>\n",
       "</table>\n"
      ],
      "text/latex": [
       "A tibble: 29 × 23\n",
       "\\begin{tabular}{lllllllllllllllllllll}\n",
       " Annee & n\\_samples & n\\_trials & percent & min\\_nblocs & max\\_nblocs & min\\_ntreat & max\\_ntreat & min\\_GS & mean\\_GS & ... & max\\_T & min\\_PPT & mean\\_PPT & max\\_PPT & min\\_GDD & mean\\_GDD & max\\_GDD & min\\_RV & mean\\_RV & max\\_RV\\\\\n",
       " <int> & <int> & <int> & <dbl> & <int> & <int> & <int> & <int> & <int> & <dbl> & ... & <dbl> & <dbl> & <dbl> & <dbl> & <dbl> & <dbl> & <dbl> & <dbl> & <dbl> & <dbl>\\\\\n",
       "\\hline\n",
       "\t 1979 &  10 &  1 & 0.1691189 & 3 & 3 &  4 &  4 & 116 & 116.0000 & ... & 15.75853 & 365.48 & 365.4800 & 365.48 & 1505.20 & 1505.200 & 1505.20 &  8.500000 & 25.00000 & 31.10000\\\\\n",
       "\t 1980 &  10 &  1 & 0.1691189 & 3 & 3 &  4 &  4 & 116 & 116.0000 & ... & 16.11900 & 354.92 & 354.9200 & 354.92 & 1565.00 & 1565.000 & 1565.00 &  5.600000 & 25.08000 & 32.90000\\\\\n",
       "\t 1981 &  30 &  3 & 0.5073567 & 6 & 6 &  4 &  4 & 116 & 116.0000 & ... & 16.30964 & 383.66 & 405.3867 & 420.98 & 1569.48 & 1721.120 & 1871.88 & 14.300000 & 29.61667 & 40.10000\\\\\n",
       "\t 1987 &   8 &  1 & 0.1352951 & 2 & 2 &  4 &  4 & 110 & 110.0000 & ... & 16.47429 & 437.06 & 437.0600 & 437.06 & 1815.76 & 1815.760 & 1815.76 & 16.980000 & 34.58500 & 44.23000\\\\\n",
       "\t 1993 & 144 &  6 & 2.4353120 & 3 & 3 & 27 & 27 & 121 & 124.9375 & ... & 16.79694 & 412.28 & 419.0437 & 424.62 & 1952.96 & 2046.755 & 2082.16 & 14.071038 & 36.68887 & 53.30556\\\\\n",
       "\t 1994 &  84 &  3 & 1.4205987 & 3 & 3 & 10 & 10 & 124 & 124.6429 & ... & 17.27429 & 439.32 & 440.6571 & 441.40 & 2145.36 & 2151.056 & 2154.22 &  7.468124 & 36.03904 & 51.93989\\\\\n",
       "\t 1995 &  81 &  3 & 1.3698630 & 3 & 3 &  9 &  9 & 106 & 108.6667 & ... & 17.79911 & 444.46 & 450.8600 & 463.66 & 1890.40 & 1927.600 & 2002.00 & 15.519126 & 27.61283 & 40.27322\\\\\n",
       "\t 1996 & 258 &  8 & 4.3632674 & 6 & 6 & 11 & 11 & 102 & 120.6860 & ... & 18.68296 & 371.40 & 445.9235 & 529.12 & 1631.00 & 2099.052 & 2264.86 &  3.333333 & 34.24359 & 58.94809\\\\\n",
       "\t 1997 & 306 &  8 & 5.1750381 & 6 & 6 & 22 & 22 &  98 & 116.3333 & ... & 18.81005 & 343.84 & 470.6990 & 537.64 & 1627.28 & 1990.232 & 2116.28 &  2.535918 & 26.87887 & 46.43400\\\\\n",
       "\t 1998 & 280 & 14 & 4.7353289 & 6 & 6 &  5 &  5 & 107 & 122.7714 & ... & 17.94491 & 358.68 & 387.7474 & 443.46 & 1983.14 & 2081.409 & 2132.68 &  4.295082 & 33.63736 & 61.05000\\\\\n",
       "\t 1999 & 431 & 18 & 7.2890242 & 6 & 6 & 14 & 14 & 120 & 127.8051 & ... & 18.26183 & 377.40 & 437.7488 & 506.56 & 2042.16 & 2101.606 & 2165.40 & 10.607650 & 31.05169 & 58.30000\\\\\n",
       "\t 2000 & 184 &  8 & 3.1117876 & 6 & 6 &  5 &  5 & 122 & 122.0000 & ... & 18.72810 & 279.80 & 279.8000 & 279.80 & 1833.22 & 1833.220 & 1833.22 & 13.967213 & 35.97210 & 48.86776\\\\\n",
       "\t 2001 & 152 &  8 & 2.5706071 & 4 & 4 &  5 &  5 & 115 & 129.7368 & ... & 17.93973 & 379.04 & 451.8768 & 458.12 & 2055.54 & 2082.656 & 2084.98 & 12.287617 & 29.23687 & 42.91813\\\\\n",
       "\t 2002 & 183 &  8 & 3.0948757 & 4 & 4 & 11 & 11 &  98 & 117.3552 & ... & 17.74918 & 308.12 & 395.2576 & 504.18 & 1571.58 & 1885.059 & 2225.96 & 13.857924 & 32.61909 & 68.17561\\\\\n",
       "\t 2003 & 348 & 21 & 5.8853374 & 4 & 4 & 10 & 10 &  98 & 112.3506 & ... & 18.50810 & 284.78 & 358.9809 & 406.68 & 1462.74 & 1876.181 & 2111.08 &  7.901639 & 29.28821 & 63.74320\\\\\n",
       "\t 2004 & 267 & 11 & 4.5154744 & 3 & 3 & 11 & 11 &  98 & 121.4045 & ... & 17.87477 & 281.04 & 381.2110 & 490.30 & 1522.24 & 1946.832 & 2323.72 & 10.045477 & 36.10679 & 65.78151\\\\\n",
       "\t 2005 & 574 & 20 & 9.7074243 & 4 & 4 & 11 & 11 & 110 & 124.4704 & ... & 17.64846 & 311.02 & 388.6644 & 529.72 & 1613.94 & 2027.433 & 2259.26 &  6.403484 & 30.11936 & 58.01796\\\\\n",
       "\t 2006 & 186 & 10 & 3.1456114 & 3 & 3 & 10 & 10 & 104 & 116.2419 & ... & 17.99642 &   0.00 & 246.4242 & 431.10 &  845.84 & 1514.733 & 2379.88 &  4.070716 & 28.29807 & 51.24599\\\\\n",
       "\t 2007 & 297 & 15 & 5.0228311 & 3 & 3 & 12 & 12 & 108 & 120.2323 & ... & 18.18317 & 325.28 & 417.3420 & 523.62 & 1602.34 & 1963.060 & 2293.96 & 10.421511 & 35.75783 & 51.88351\\\\\n",
       "\t 2008 & 107 &  6 & 1.8095721 & 3 & 3 &  7 &  7 & 116 & 117.6822 & ... & 17.83380 & 398.62 & 431.1034 & 454.68 & 1475.72 & 1821.309 & 2072.14 &  4.761965 & 24.14834 & 45.30685\\\\\n",
       "\t 2009 & 118 &  6 & 1.9956029 & 5 & 5 &  8 &  8 & 130 & 135.3390 & ... & 17.23544 & 476.08 & 536.4863 & 580.94 & 1939.02 & 2196.603 & 2421.80 & 16.400000 & 43.79470 & 83.20000\\\\\n",
       "\t 2010 & 154 &  8 & 2.6044309 & 4 & 4 &  8 &  8 & 110 & 119.6623 & ... & 17.64958 & 367.94 & 458.8318 & 505.02 & 1278.66 & 1931.122 & 2243.28 & 13.223727 & 32.73063 & 54.00604\\\\\n",
       "\t 2011 & 261 & 13 & 4.4140030 & 4 & 4 &  8 &  8 & 103 & 110.6858 & ... & 18.41442 & 246.00 & 392.3609 & 457.90 & 1146.30 & 1717.573 & 2071.08 & 14.001641 & 32.38997 & 56.28389\\\\\n",
       "\t 2012 & 268 & 13 & 4.5323863 & 4 & 4 &  8 &  8 & 103 & 121.2500 & ... & 17.65248 & 311.50 & 468.6505 & 545.02 & 1087.94 & 1882.487 & 2291.56 &  5.136165 & 36.02612 & 78.74775\\\\\n",
       "\t 2013 & 344 & 16 & 5.8176898 & 4 & 4 &  8 &  8 &  91 & 119.2558 & ... & 18.17355 & 280.24 & 434.8460 & 505.28 & 1093.74 & 1766.939 & 2231.86 & 10.939208 & 35.64967 & 86.15722\\\\\n",
       "\t 2014 & 535 & 25 & 9.0478606 & 4 & 4 & 10 & 10 &  94 & 116.9813 & ... & 19.90396 &  61.68 & 339.8817 & 574.72 &  340.84 & 1560.704 & 2330.10 &  5.621215 & 36.54708 & 60.39669\\\\\n",
       "\t 2015 &  33 &  2 & 0.5580923 & 3 & 3 &  6 &  6 & 125 & 128.2727 & ... & 19.10064 & 357.72 & 420.3055 & 472.46 & 2312.76 & 2375.825 & 2428.38 & 26.530000 & 48.15424 & 68.24000\\\\\n",
       "\t 2016 &  48 &  5 & 0.8117707 & 3 & 3 &  6 &  6 & 115 & 125.1667 & ... & 18.60586 & 389.34 & 463.7142 & 515.32 &  653.92 & 1684.890 & 2430.20 & 12.450000 & 34.51750 & 58.02000\\\\\n",
       "\t 2017 & 212 & 12 & 3.5853205 & 3 & 3 &  8 &  8 & 106 & 119.9057 & ... & 19.00922 & 279.20 & 377.2143 & 440.74 &  638.92 & 1512.194 & 2093.74 & 17.030000 & 39.07014 & 70.93000\\\\\n",
       "\\end{tabular}\n"
      ],
      "text/markdown": [
       "\n",
       "A tibble: 29 × 23\n",
       "\n",
       "| Annee &lt;int&gt; | n_samples &lt;int&gt; | n_trials &lt;int&gt; | percent &lt;dbl&gt; | min_nblocs &lt;int&gt; | max_nblocs &lt;int&gt; | min_ntreat &lt;int&gt; | max_ntreat &lt;int&gt; | min_GS &lt;int&gt; | mean_GS &lt;dbl&gt; | ... ... | max_T &lt;dbl&gt; | min_PPT &lt;dbl&gt; | mean_PPT &lt;dbl&gt; | max_PPT &lt;dbl&gt; | min_GDD &lt;dbl&gt; | mean_GDD &lt;dbl&gt; | max_GDD &lt;dbl&gt; | min_RV &lt;dbl&gt; | mean_RV &lt;dbl&gt; | max_RV &lt;dbl&gt; |\n",
       "|---|---|---|---|---|---|---|---|---|---|---|---|---|---|---|---|---|---|---|---|---|\n",
       "| 1979 |  10 |  1 | 0.1691189 | 3 | 3 |  4 |  4 | 116 | 116.0000 | ... | 15.75853 | 365.48 | 365.4800 | 365.48 | 1505.20 | 1505.200 | 1505.20 |  8.500000 | 25.00000 | 31.10000 |\n",
       "| 1980 |  10 |  1 | 0.1691189 | 3 | 3 |  4 |  4 | 116 | 116.0000 | ... | 16.11900 | 354.92 | 354.9200 | 354.92 | 1565.00 | 1565.000 | 1565.00 |  5.600000 | 25.08000 | 32.90000 |\n",
       "| 1981 |  30 |  3 | 0.5073567 | 6 | 6 |  4 |  4 | 116 | 116.0000 | ... | 16.30964 | 383.66 | 405.3867 | 420.98 | 1569.48 | 1721.120 | 1871.88 | 14.300000 | 29.61667 | 40.10000 |\n",
       "| 1987 |   8 |  1 | 0.1352951 | 2 | 2 |  4 |  4 | 110 | 110.0000 | ... | 16.47429 | 437.06 | 437.0600 | 437.06 | 1815.76 | 1815.760 | 1815.76 | 16.980000 | 34.58500 | 44.23000 |\n",
       "| 1993 | 144 |  6 | 2.4353120 | 3 | 3 | 27 | 27 | 121 | 124.9375 | ... | 16.79694 | 412.28 | 419.0437 | 424.62 | 1952.96 | 2046.755 | 2082.16 | 14.071038 | 36.68887 | 53.30556 |\n",
       "| 1994 |  84 |  3 | 1.4205987 | 3 | 3 | 10 | 10 | 124 | 124.6429 | ... | 17.27429 | 439.32 | 440.6571 | 441.40 | 2145.36 | 2151.056 | 2154.22 |  7.468124 | 36.03904 | 51.93989 |\n",
       "| 1995 |  81 |  3 | 1.3698630 | 3 | 3 |  9 |  9 | 106 | 108.6667 | ... | 17.79911 | 444.46 | 450.8600 | 463.66 | 1890.40 | 1927.600 | 2002.00 | 15.519126 | 27.61283 | 40.27322 |\n",
       "| 1996 | 258 |  8 | 4.3632674 | 6 | 6 | 11 | 11 | 102 | 120.6860 | ... | 18.68296 | 371.40 | 445.9235 | 529.12 | 1631.00 | 2099.052 | 2264.86 |  3.333333 | 34.24359 | 58.94809 |\n",
       "| 1997 | 306 |  8 | 5.1750381 | 6 | 6 | 22 | 22 |  98 | 116.3333 | ... | 18.81005 | 343.84 | 470.6990 | 537.64 | 1627.28 | 1990.232 | 2116.28 |  2.535918 | 26.87887 | 46.43400 |\n",
       "| 1998 | 280 | 14 | 4.7353289 | 6 | 6 |  5 |  5 | 107 | 122.7714 | ... | 17.94491 | 358.68 | 387.7474 | 443.46 | 1983.14 | 2081.409 | 2132.68 |  4.295082 | 33.63736 | 61.05000 |\n",
       "| 1999 | 431 | 18 | 7.2890242 | 6 | 6 | 14 | 14 | 120 | 127.8051 | ... | 18.26183 | 377.40 | 437.7488 | 506.56 | 2042.16 | 2101.606 | 2165.40 | 10.607650 | 31.05169 | 58.30000 |\n",
       "| 2000 | 184 |  8 | 3.1117876 | 6 | 6 |  5 |  5 | 122 | 122.0000 | ... | 18.72810 | 279.80 | 279.8000 | 279.80 | 1833.22 | 1833.220 | 1833.22 | 13.967213 | 35.97210 | 48.86776 |\n",
       "| 2001 | 152 |  8 | 2.5706071 | 4 | 4 |  5 |  5 | 115 | 129.7368 | ... | 17.93973 | 379.04 | 451.8768 | 458.12 | 2055.54 | 2082.656 | 2084.98 | 12.287617 | 29.23687 | 42.91813 |\n",
       "| 2002 | 183 |  8 | 3.0948757 | 4 | 4 | 11 | 11 |  98 | 117.3552 | ... | 17.74918 | 308.12 | 395.2576 | 504.18 | 1571.58 | 1885.059 | 2225.96 | 13.857924 | 32.61909 | 68.17561 |\n",
       "| 2003 | 348 | 21 | 5.8853374 | 4 | 4 | 10 | 10 |  98 | 112.3506 | ... | 18.50810 | 284.78 | 358.9809 | 406.68 | 1462.74 | 1876.181 | 2111.08 |  7.901639 | 29.28821 | 63.74320 |\n",
       "| 2004 | 267 | 11 | 4.5154744 | 3 | 3 | 11 | 11 |  98 | 121.4045 | ... | 17.87477 | 281.04 | 381.2110 | 490.30 | 1522.24 | 1946.832 | 2323.72 | 10.045477 | 36.10679 | 65.78151 |\n",
       "| 2005 | 574 | 20 | 9.7074243 | 4 | 4 | 11 | 11 | 110 | 124.4704 | ... | 17.64846 | 311.02 | 388.6644 | 529.72 | 1613.94 | 2027.433 | 2259.26 |  6.403484 | 30.11936 | 58.01796 |\n",
       "| 2006 | 186 | 10 | 3.1456114 | 3 | 3 | 10 | 10 | 104 | 116.2419 | ... | 17.99642 |   0.00 | 246.4242 | 431.10 |  845.84 | 1514.733 | 2379.88 |  4.070716 | 28.29807 | 51.24599 |\n",
       "| 2007 | 297 | 15 | 5.0228311 | 3 | 3 | 12 | 12 | 108 | 120.2323 | ... | 18.18317 | 325.28 | 417.3420 | 523.62 | 1602.34 | 1963.060 | 2293.96 | 10.421511 | 35.75783 | 51.88351 |\n",
       "| 2008 | 107 |  6 | 1.8095721 | 3 | 3 |  7 |  7 | 116 | 117.6822 | ... | 17.83380 | 398.62 | 431.1034 | 454.68 | 1475.72 | 1821.309 | 2072.14 |  4.761965 | 24.14834 | 45.30685 |\n",
       "| 2009 | 118 |  6 | 1.9956029 | 5 | 5 |  8 |  8 | 130 | 135.3390 | ... | 17.23544 | 476.08 | 536.4863 | 580.94 | 1939.02 | 2196.603 | 2421.80 | 16.400000 | 43.79470 | 83.20000 |\n",
       "| 2010 | 154 |  8 | 2.6044309 | 4 | 4 |  8 |  8 | 110 | 119.6623 | ... | 17.64958 | 367.94 | 458.8318 | 505.02 | 1278.66 | 1931.122 | 2243.28 | 13.223727 | 32.73063 | 54.00604 |\n",
       "| 2011 | 261 | 13 | 4.4140030 | 4 | 4 |  8 |  8 | 103 | 110.6858 | ... | 18.41442 | 246.00 | 392.3609 | 457.90 | 1146.30 | 1717.573 | 2071.08 | 14.001641 | 32.38997 | 56.28389 |\n",
       "| 2012 | 268 | 13 | 4.5323863 | 4 | 4 |  8 |  8 | 103 | 121.2500 | ... | 17.65248 | 311.50 | 468.6505 | 545.02 | 1087.94 | 1882.487 | 2291.56 |  5.136165 | 36.02612 | 78.74775 |\n",
       "| 2013 | 344 | 16 | 5.8176898 | 4 | 4 |  8 |  8 |  91 | 119.2558 | ... | 18.17355 | 280.24 | 434.8460 | 505.28 | 1093.74 | 1766.939 | 2231.86 | 10.939208 | 35.64967 | 86.15722 |\n",
       "| 2014 | 535 | 25 | 9.0478606 | 4 | 4 | 10 | 10 |  94 | 116.9813 | ... | 19.90396 |  61.68 | 339.8817 | 574.72 |  340.84 | 1560.704 | 2330.10 |  5.621215 | 36.54708 | 60.39669 |\n",
       "| 2015 |  33 |  2 | 0.5580923 | 3 | 3 |  6 |  6 | 125 | 128.2727 | ... | 19.10064 | 357.72 | 420.3055 | 472.46 | 2312.76 | 2375.825 | 2428.38 | 26.530000 | 48.15424 | 68.24000 |\n",
       "| 2016 |  48 |  5 | 0.8117707 | 3 | 3 |  6 |  6 | 115 | 125.1667 | ... | 18.60586 | 389.34 | 463.7142 | 515.32 |  653.92 | 1684.890 | 2430.20 | 12.450000 | 34.51750 | 58.02000 |\n",
       "| 2017 | 212 | 12 | 3.5853205 | 3 | 3 |  8 |  8 | 106 | 119.9057 | ... | 19.00922 | 279.20 | 377.2143 | 440.74 |  638.92 | 1512.194 | 2093.74 | 17.030000 | 39.07014 | 70.93000 |\n",
       "\n"
      ],
      "text/plain": [
       "   Annee n_samples n_trials percent   min_nblocs max_nblocs min_ntreat\n",
       "1  1979   10        1       0.1691189 3          3           4        \n",
       "2  1980   10        1       0.1691189 3          3           4        \n",
       "3  1981   30        3       0.5073567 6          6           4        \n",
       "4  1987    8        1       0.1352951 2          2           4        \n",
       "5  1993  144        6       2.4353120 3          3          27        \n",
       "6  1994   84        3       1.4205987 3          3          10        \n",
       "7  1995   81        3       1.3698630 3          3           9        \n",
       "8  1996  258        8       4.3632674 6          6          11        \n",
       "9  1997  306        8       5.1750381 6          6          22        \n",
       "10 1998  280       14       4.7353289 6          6           5        \n",
       "11 1999  431       18       7.2890242 6          6          14        \n",
       "12 2000  184        8       3.1117876 6          6           5        \n",
       "13 2001  152        8       2.5706071 4          4           5        \n",
       "14 2002  183        8       3.0948757 4          4          11        \n",
       "15 2003  348       21       5.8853374 4          4          10        \n",
       "16 2004  267       11       4.5154744 3          3          11        \n",
       "17 2005  574       20       9.7074243 4          4          11        \n",
       "18 2006  186       10       3.1456114 3          3          10        \n",
       "19 2007  297       15       5.0228311 3          3          12        \n",
       "20 2008  107        6       1.8095721 3          3           7        \n",
       "21 2009  118        6       1.9956029 5          5           8        \n",
       "22 2010  154        8       2.6044309 4          4           8        \n",
       "23 2011  261       13       4.4140030 4          4           8        \n",
       "24 2012  268       13       4.5323863 4          4           8        \n",
       "25 2013  344       16       5.8176898 4          4           8        \n",
       "26 2014  535       25       9.0478606 4          4          10        \n",
       "27 2015   33        2       0.5580923 3          3           6        \n",
       "28 2016   48        5       0.8117707 3          3           6        \n",
       "29 2017  212       12       3.5853205 3          3           8        \n",
       "   max_ntreat min_GS mean_GS  ... max_T    min_PPT mean_PPT max_PPT min_GDD\n",
       "1   4         116    116.0000 ... 15.75853 365.48  365.4800 365.48  1505.20\n",
       "2   4         116    116.0000 ... 16.11900 354.92  354.9200 354.92  1565.00\n",
       "3   4         116    116.0000 ... 16.30964 383.66  405.3867 420.98  1569.48\n",
       "4   4         110    110.0000 ... 16.47429 437.06  437.0600 437.06  1815.76\n",
       "5  27         121    124.9375 ... 16.79694 412.28  419.0437 424.62  1952.96\n",
       "6  10         124    124.6429 ... 17.27429 439.32  440.6571 441.40  2145.36\n",
       "7   9         106    108.6667 ... 17.79911 444.46  450.8600 463.66  1890.40\n",
       "8  11         102    120.6860 ... 18.68296 371.40  445.9235 529.12  1631.00\n",
       "9  22          98    116.3333 ... 18.81005 343.84  470.6990 537.64  1627.28\n",
       "10  5         107    122.7714 ... 17.94491 358.68  387.7474 443.46  1983.14\n",
       "11 14         120    127.8051 ... 18.26183 377.40  437.7488 506.56  2042.16\n",
       "12  5         122    122.0000 ... 18.72810 279.80  279.8000 279.80  1833.22\n",
       "13  5         115    129.7368 ... 17.93973 379.04  451.8768 458.12  2055.54\n",
       "14 11          98    117.3552 ... 17.74918 308.12  395.2576 504.18  1571.58\n",
       "15 10          98    112.3506 ... 18.50810 284.78  358.9809 406.68  1462.74\n",
       "16 11          98    121.4045 ... 17.87477 281.04  381.2110 490.30  1522.24\n",
       "17 11         110    124.4704 ... 17.64846 311.02  388.6644 529.72  1613.94\n",
       "18 10         104    116.2419 ... 17.99642   0.00  246.4242 431.10   845.84\n",
       "19 12         108    120.2323 ... 18.18317 325.28  417.3420 523.62  1602.34\n",
       "20  7         116    117.6822 ... 17.83380 398.62  431.1034 454.68  1475.72\n",
       "21  8         130    135.3390 ... 17.23544 476.08  536.4863 580.94  1939.02\n",
       "22  8         110    119.6623 ... 17.64958 367.94  458.8318 505.02  1278.66\n",
       "23  8         103    110.6858 ... 18.41442 246.00  392.3609 457.90  1146.30\n",
       "24  8         103    121.2500 ... 17.65248 311.50  468.6505 545.02  1087.94\n",
       "25  8          91    119.2558 ... 18.17355 280.24  434.8460 505.28  1093.74\n",
       "26 10          94    116.9813 ... 19.90396  61.68  339.8817 574.72   340.84\n",
       "27  6         125    128.2727 ... 19.10064 357.72  420.3055 472.46  2312.76\n",
       "28  6         115    125.1667 ... 18.60586 389.34  463.7142 515.32   653.92\n",
       "29  8         106    119.9057 ... 19.00922 279.20  377.2143 440.74   638.92\n",
       "   mean_GDD max_GDD min_RV    mean_RV  max_RV  \n",
       "1  1505.200 1505.20  8.500000 25.00000 31.10000\n",
       "2  1565.000 1565.00  5.600000 25.08000 32.90000\n",
       "3  1721.120 1871.88 14.300000 29.61667 40.10000\n",
       "4  1815.760 1815.76 16.980000 34.58500 44.23000\n",
       "5  2046.755 2082.16 14.071038 36.68887 53.30556\n",
       "6  2151.056 2154.22  7.468124 36.03904 51.93989\n",
       "7  1927.600 2002.00 15.519126 27.61283 40.27322\n",
       "8  2099.052 2264.86  3.333333 34.24359 58.94809\n",
       "9  1990.232 2116.28  2.535918 26.87887 46.43400\n",
       "10 2081.409 2132.68  4.295082 33.63736 61.05000\n",
       "11 2101.606 2165.40 10.607650 31.05169 58.30000\n",
       "12 1833.220 1833.22 13.967213 35.97210 48.86776\n",
       "13 2082.656 2084.98 12.287617 29.23687 42.91813\n",
       "14 1885.059 2225.96 13.857924 32.61909 68.17561\n",
       "15 1876.181 2111.08  7.901639 29.28821 63.74320\n",
       "16 1946.832 2323.72 10.045477 36.10679 65.78151\n",
       "17 2027.433 2259.26  6.403484 30.11936 58.01796\n",
       "18 1514.733 2379.88  4.070716 28.29807 51.24599\n",
       "19 1963.060 2293.96 10.421511 35.75783 51.88351\n",
       "20 1821.309 2072.14  4.761965 24.14834 45.30685\n",
       "21 2196.603 2421.80 16.400000 43.79470 83.20000\n",
       "22 1931.122 2243.28 13.223727 32.73063 54.00604\n",
       "23 1717.573 2071.08 14.001641 32.38997 56.28389\n",
       "24 1882.487 2291.56  5.136165 36.02612 78.74775\n",
       "25 1766.939 2231.86 10.939208 35.64967 86.15722\n",
       "26 1560.704 2330.10  5.621215 36.54708 60.39669\n",
       "27 2375.825 2428.38 26.530000 48.15424 68.24000\n",
       "28 1684.890 2430.20 12.450000 34.51750 58.02000\n",
       "29 1512.194 2093.74 17.030000 39.07014 70.93000"
      ]
     },
     "metadata": {},
     "output_type": "display_data"
    }
   ],
   "source": [
    "stat_rv <- RendVendable_ml_df %>%\n",
    "    select(\"NoEssai\", \"NoBloc\", \"NoTraitement\", \"Cultivar\", \"Maturity5\", \"Annee\", \"DensitePlants\",  \n",
    "           \"growing.season\", 'temp_moy_5years', 'prec_tot_5years', 'gdd_5years', \"RendVendable\") %>%\n",
    "    group_by(Annee) %>%\n",
    "    summarise(n_samples = n(), \n",
    "              n_trials = n_distinct(NoEssai),\n",
    "              percent = 100*n_samples/nrow(RendVendable_ml_df), \n",
    "              min_nblocs = min(n_distinct(NoBloc)), max_nblocs = max(n_distinct(NoBloc)),\n",
    "              min_ntreat = min(n_distinct(NoTraitement)), max_ntreat = max(n_distinct(NoTraitement)),\n",
    "              min_GS = min(growing.season), mean_GS = mean(growing.season), max_GS = max(growing.season),\n",
    "              min_T = min(temp_moy_5years), mean_T = mean(temp_moy_5years), max_T = max(temp_moy_5years),\n",
    "              min_PPT = min(prec_tot_5years), mean_PPT = mean(prec_tot_5years), max_PPT = max(prec_tot_5years),\n",
    "              min_GDD = min(gdd_5years), mean_GDD = mean(gdd_5years), max_GDD = max(gdd_5years),\n",
    "              min_RV = min(RendVendable), mean_RV = mean(RendVendable), max_RV = max(RendVendable))\n",
    "stat_rv\n",
    "write_csv(stat_rv, \"output/stat_rv.csv\")"
   ]
  },
  {
   "cell_type": "code",
   "execution_count": 16,
   "metadata": {},
   "outputs": [
    {
     "data": {
      "text/html": [
       "<table>\n",
       "<caption>A tibble: 5 × 4</caption>\n",
       "<thead>\n",
       "\t<tr><th scope=col>Maturity5</th><th scope=col>n_samples</th><th scope=col>n_trials</th><th scope=col>percent</th></tr>\n",
       "\t<tr><th scope=col>&lt;fct&gt;</th><th scope=col>&lt;int&gt;</th><th scope=col>&lt;int&gt;</th><th scope=col>&lt;dbl&gt;</th></tr>\n",
       "</thead>\n",
       "<tbody>\n",
       "\t<tr><td>early           </td><td> 248</td><td> 13</td><td> 4.194148</td></tr>\n",
       "\t<tr><td>early mid-season</td><td> 741</td><td> 36</td><td>12.531710</td></tr>\n",
       "\t<tr><td>late            </td><td> 518</td><td> 26</td><td> 8.760359</td></tr>\n",
       "\t<tr><td>mid-season      </td><td>3667</td><td>162</td><td>62.015897</td></tr>\n",
       "\t<tr><td>mid-season late </td><td> 739</td><td> 36</td><td>12.497886</td></tr>\n",
       "</tbody>\n",
       "</table>\n"
      ],
      "text/latex": [
       "A tibble: 5 × 4\n",
       "\\begin{tabular}{llll}\n",
       " Maturity5 & n\\_samples & n\\_trials & percent\\\\\n",
       " <fct> & <int> & <int> & <dbl>\\\\\n",
       "\\hline\n",
       "\t early            &  248 &  13 &  4.194148\\\\\n",
       "\t early mid-season &  741 &  36 & 12.531710\\\\\n",
       "\t late             &  518 &  26 &  8.760359\\\\\n",
       "\t mid-season       & 3667 & 162 & 62.015897\\\\\n",
       "\t mid-season late  &  739 &  36 & 12.497886\\\\\n",
       "\\end{tabular}\n"
      ],
      "text/markdown": [
       "\n",
       "A tibble: 5 × 4\n",
       "\n",
       "| Maturity5 &lt;fct&gt; | n_samples &lt;int&gt; | n_trials &lt;int&gt; | percent &lt;dbl&gt; |\n",
       "|---|---|---|---|\n",
       "| early            |  248 |  13 |  4.194148 |\n",
       "| early mid-season |  741 |  36 | 12.531710 |\n",
       "| late             |  518 |  26 |  8.760359 |\n",
       "| mid-season       | 3667 | 162 | 62.015897 |\n",
       "| mid-season late  |  739 |  36 | 12.497886 |\n",
       "\n"
      ],
      "text/plain": [
       "  Maturity5        n_samples n_trials percent  \n",
       "1 early             248       13       4.194148\n",
       "2 early mid-season  741       36      12.531710\n",
       "3 late              518       26       8.760359\n",
       "4 mid-season       3667      162      62.015897\n",
       "5 mid-season late   739       36      12.497886"
      ]
     },
     "metadata": {},
     "output_type": "display_data"
    }
   ],
   "source": [
    "RendVendable_ml_df %>%\n",
    "    select(\"NoEssai\", \"NoBloc\", \"NoTraitement\", \"Cultivar\", \"Maturity5\", \"Annee\", \"DensitePlants\",  \n",
    "           \"growing.season\", 'temp_moy_5years', 'prec_tot_5years', 'gdd_5years', \"RendVendable\") %>%\n",
    "    group_by(Maturity5) %>%\n",
    "    summarise(n_samples = n(), \n",
    "              n_trials = n_distinct(NoEssai),\n",
    "              percent = 100*n_samples/nrow(RendVendable_ml_df))"
   ]
  },
  {
   "cell_type": "markdown",
   "metadata": {},
   "source": [
    "We merge the `test_type` column (not included previously to avoid removing rows with missing test_type)."
   ]
  },
  {
   "cell_type": "code",
   "execution_count": 56,
   "metadata": {},
   "outputs": [],
   "source": [
    "test_type <- data_ml %>%\n",
    "    select(index, test_type)\n",
    "# join it to the data frame\n",
    "RendVendable_ml_df <- left_join(RendVendable_ml_df, test_type, by = \"index\") %>% \n",
    "                            select(-index, -RendVendableMaxParEssai, -Annee)"
   ]
  },
  {
   "cell_type": "markdown",
   "metadata": {},
   "source": [
    "Stats 1 (the __df_RendVend.csv__ global structure):"
   ]
  },
  {
   "cell_type": "code",
   "execution_count": 60,
   "metadata": {},
   "outputs": [
    {
     "name": "stderr",
     "output_type": "stream",
     "text": [
      "Warning message:\n",
      "\"Factor `test_type` contains implicit NA, consider using `forcats::fct_explicit_na`\"\n"
     ]
    },
    {
     "data": {
      "text/html": [
       "<table>\n",
       "<caption>A tibble: 5 × 10</caption>\n",
       "<thead>\n",
       "\t<tr><th scope=col>test_type</th><th scope=col>n_samples</th><th scope=col>n_trials</th><th scope=col>percent</th><th scope=col>N_min</th><th scope=col>N_max</th><th scope=col>P_min</th><th scope=col>P_max</th><th scope=col>K_min</th><th scope=col>K_max</th></tr>\n",
       "\t<tr><th scope=col>&lt;fct&gt;</th><th scope=col>&lt;int&gt;</th><th scope=col>&lt;int&gt;</th><th scope=col>&lt;dbl&gt;</th><th scope=col>&lt;dbl&gt;</th><th scope=col>&lt;dbl&gt;</th><th scope=col>&lt;dbl&gt;</th><th scope=col>&lt;dbl&gt;</th><th scope=col>&lt;dbl&gt;</th><th scope=col>&lt;dbl&gt;</th></tr>\n",
       "</thead>\n",
       "<tbody>\n",
       "\t<tr><td>K  </td><td> 936</td><td> 45</td><td>15.829528</td><td> 80</td><td>260</td><td> 75</td><td>240</td><td> 0</td><td>420</td></tr>\n",
       "\t<tr><td>N  </td><td>3068</td><td>151</td><td>51.885676</td><td>  0</td><td>250</td><td> 88</td><td>250</td><td>57</td><td>270</td></tr>\n",
       "\t<tr><td>NPK</td><td> 591</td><td> 16</td><td> 9.994926</td><td>  0</td><td>225</td><td>  0</td><td>300</td><td> 0</td><td>300</td></tr>\n",
       "\t<tr><td>P  </td><td>1300</td><td> 60</td><td>21.985456</td><td>  0</td><td>260</td><td>  0</td><td>300</td><td> 0</td><td>270</td></tr>\n",
       "\t<tr><td>NA </td><td>  18</td><td>  1</td><td> 0.304414</td><td>218</td><td>218</td><td>110</td><td>110</td><td>55</td><td> 55</td></tr>\n",
       "</tbody>\n",
       "</table>\n"
      ],
      "text/latex": [
       "A tibble: 5 × 10\n",
       "\\begin{tabular}{llllllllll}\n",
       " test\\_type & n\\_samples & n\\_trials & percent & N\\_min & N\\_max & P\\_min & P\\_max & K\\_min & K\\_max\\\\\n",
       " <fct> & <int> & <int> & <dbl> & <dbl> & <dbl> & <dbl> & <dbl> & <dbl> & <dbl>\\\\\n",
       "\\hline\n",
       "\t K   &  936 &  45 & 15.829528 &  80 & 260 &  75 & 240 &  0 & 420\\\\\n",
       "\t N   & 3068 & 151 & 51.885676 &   0 & 250 &  88 & 250 & 57 & 270\\\\\n",
       "\t NPK &  591 &  16 &  9.994926 &   0 & 225 &   0 & 300 &  0 & 300\\\\\n",
       "\t P   & 1300 &  60 & 21.985456 &   0 & 260 &   0 & 300 &  0 & 270\\\\\n",
       "\t NA  &   18 &   1 &  0.304414 & 218 & 218 & 110 & 110 & 55 &  55\\\\\n",
       "\\end{tabular}\n"
      ],
      "text/markdown": [
       "\n",
       "A tibble: 5 × 10\n",
       "\n",
       "| test_type &lt;fct&gt; | n_samples &lt;int&gt; | n_trials &lt;int&gt; | percent &lt;dbl&gt; | N_min &lt;dbl&gt; | N_max &lt;dbl&gt; | P_min &lt;dbl&gt; | P_max &lt;dbl&gt; | K_min &lt;dbl&gt; | K_max &lt;dbl&gt; |\n",
       "|---|---|---|---|---|---|---|---|---|---|\n",
       "| K   |  936 |  45 | 15.829528 |  80 | 260 |  75 | 240 |  0 | 420 |\n",
       "| N   | 3068 | 151 | 51.885676 |   0 | 250 |  88 | 250 | 57 | 270 |\n",
       "| NPK |  591 |  16 |  9.994926 |   0 | 225 |   0 | 300 |  0 | 300 |\n",
       "| P   | 1300 |  60 | 21.985456 |   0 | 260 |   0 | 300 |  0 | 270 |\n",
       "| NA  |   18 |   1 |  0.304414 | 218 | 218 | 110 | 110 | 55 |  55 |\n",
       "\n"
      ],
      "text/plain": [
       "  test_type n_samples n_trials percent   N_min N_max P_min P_max K_min K_max\n",
       "1 K          936       45      15.829528  80   260    75   240    0    420  \n",
       "2 N         3068      151      51.885676   0   250    88   250   57    270  \n",
       "3 NPK        591       16       9.994926   0   225     0   300    0    300  \n",
       "4 P         1300       60      21.985456   0   260     0   300    0    270  \n",
       "5 NA          18        1       0.304414 218   218   110   110   55     55  "
      ]
     },
     "metadata": {},
     "output_type": "display_data"
    }
   ],
   "source": [
    "stat1 <- RendVendable_ml_df %>%\n",
    "    select(\"NoEssai\", \"NoBloc\", \"NoTraitement\", \"NtotDose\", \"PtotDose\", \"KtotDose\", 'test_type', \"RendVendable\") %>%\n",
    "    group_by(test_type) %>%\n",
    "    summarise(n_samples = n(), \n",
    "              n_trials = n_distinct(NoEssai),\n",
    "              percent = 100*n_samples/nrow(RendVendable_ml_df), \n",
    "              N_min = min(NtotDose), N_max = max(NtotDose),\n",
    "              P_min = min(PtotDose), P_max = max(PtotDose),\n",
    "              K_min = min(KtotDose), K_max = max(KtotDose))\n",
    "stat1"
   ]
  },
  {
   "cell_type": "markdown",
   "metadata": {},
   "source": [
    "We export this table as __`df_RendVend.csv`__ for GP in Python."
   ]
  },
  {
   "cell_type": "code",
   "execution_count": 61,
   "metadata": {},
   "outputs": [],
   "source": [
    "write_csv(RendVendable_ml_df, \"output/df_RendVend.csv\")"
   ]
  },
  {
   "cell_type": "markdown",
   "metadata": {},
   "source": [
    "### Proportions for tuber size: `tsizeMS_L`, `tsizeS_M`."
   ]
  },
  {
   "cell_type": "code",
   "execution_count": 62,
   "metadata": {},
   "outputs": [],
   "source": [
    "tuberSize <- data_ml %>%\n",
    "  filter(RendVendableMaxParEssai >= 28) %>%\n",
    "  select(one_of(c(\"index\", 'tsizeMS_L', 'tsizeS_M', var_ml, \"Annee\"))) %>%\n",
    "  na.omit() %>%\n",
    "  droplevels()\n",
    "\n",
    "tuberSize$Cultivar <- factor(tuberSize$Cultivar)"
   ]
  },
  {
   "cell_type": "raw",
   "metadata": {},
   "source": [
    "glimpse(tuberSize)"
   ]
  },
  {
   "cell_type": "code",
   "execution_count": 63,
   "metadata": {},
   "outputs": [
    {
     "data": {
      "text/html": [
       "<table>\n",
       "<caption>A tibble: 24 × 20</caption>\n",
       "<thead>\n",
       "\t<tr><th scope=col>Annee</th><th scope=col>n_samples</th><th scope=col>n_trials</th><th scope=col>percent</th><th scope=col>min_nblocs</th><th scope=col>max_nblocs</th><th scope=col>min_ntreat</th><th scope=col>max_ntreat</th><th scope=col>min_GS</th><th scope=col>mean_GS</th><th scope=col>max_GS</th><th scope=col>min_T</th><th scope=col>mean_T</th><th scope=col>max_T</th><th scope=col>min_PPT</th><th scope=col>mean_PPT</th><th scope=col>max_PPT</th><th scope=col>min_GDD</th><th scope=col>mean_GDD</th><th scope=col>max_GDD</th></tr>\n",
       "\t<tr><th scope=col>&lt;int&gt;</th><th scope=col>&lt;int&gt;</th><th scope=col>&lt;int&gt;</th><th scope=col>&lt;dbl&gt;</th><th scope=col>&lt;int&gt;</th><th scope=col>&lt;int&gt;</th><th scope=col>&lt;int&gt;</th><th scope=col>&lt;int&gt;</th><th scope=col>&lt;int&gt;</th><th scope=col>&lt;dbl&gt;</th><th scope=col>&lt;int&gt;</th><th scope=col>&lt;dbl&gt;</th><th scope=col>&lt;dbl&gt;</th><th scope=col>&lt;dbl&gt;</th><th scope=col>&lt;dbl&gt;</th><th scope=col>&lt;dbl&gt;</th><th scope=col>&lt;dbl&gt;</th><th scope=col>&lt;dbl&gt;</th><th scope=col>&lt;dbl&gt;</th><th scope=col>&lt;dbl&gt;</th></tr>\n",
       "</thead>\n",
       "<tbody>\n",
       "\t<tr><td>1993</td><td>117</td><td> 5</td><td> 2.5674786</td><td>3</td><td>3</td><td> 9</td><td> 9</td><td>121</td><td>125.1538</td><td>127</td><td>16.45143</td><td>16.57760</td><td>16.63368</td><td>418.82</td><td>420.6046</td><td>424.62</td><td>1952.96</td><td>2038.585</td><td>2076.64</td></tr>\n",
       "\t<tr><td>1994</td><td> 84</td><td> 3</td><td> 1.8433180</td><td>3</td><td>3</td><td>10</td><td>10</td><td>124</td><td>124.6429</td><td>125</td><td>17.20701</td><td>17.23104</td><td>17.27429</td><td>439.32</td><td>440.6571</td><td>441.40</td><td>2145.36</td><td>2151.056</td><td>2154.22</td></tr>\n",
       "\t<tr><td>1995</td><td> 81</td><td> 3</td><td> 1.7774852</td><td>3</td><td>3</td><td> 9</td><td> 9</td><td>106</td><td>108.6667</td><td>114</td><td>17.52958</td><td>17.70927</td><td>17.79911</td><td>444.46</td><td>450.8600</td><td>463.66</td><td>1890.40</td><td>1927.600</td><td>2002.00</td></tr>\n",
       "\t<tr><td>1996</td><td> 60</td><td> 2</td><td> 1.3166557</td><td>6</td><td>6</td><td> 5</td><td> 5</td><td>102</td><td>118.0000</td><td>134</td><td>15.96156</td><td>16.42587</td><td>16.89019</td><td>378.04</td><td>453.5800</td><td>529.12</td><td>1631.00</td><td>1947.930</td><td>2264.86</td></tr>\n",
       "\t<tr><td>1997</td><td>198</td><td> 4</td><td> 4.3449638</td><td>3</td><td>3</td><td>22</td><td>22</td><td>123</td><td>123.0000</td><td>123</td><td>16.90796</td><td>17.03372</td><td>17.18476</td><td>518.32</td><td>529.7700</td><td>537.64</td><td>2083.04</td><td>2097.780</td><td>2116.28</td></tr>\n",
       "\t<tr><td>1998</td><td>184</td><td> 8</td><td> 4.0377441</td><td>6</td><td>6</td><td> 5</td><td> 5</td><td>131</td><td>131.0000</td><td>131</td><td>17.94491</td><td>17.94491</td><td>17.94491</td><td>358.68</td><td>358.6800</td><td>358.68</td><td>2132.68</td><td>2132.680</td><td>2132.68</td></tr>\n",
       "\t<tr><td>1999</td><td>288</td><td>11</td><td> 6.3199473</td><td>6</td><td>6</td><td>14</td><td>14</td><td>120</td><td>125.3611</td><td>128</td><td>16.98877</td><td>17.82402</td><td>18.26183</td><td>377.40</td><td>413.6835</td><td>506.56</td><td>2042.16</td><td>2100.595</td><td>2165.40</td></tr>\n",
       "\t<tr><td>2000</td><td>184</td><td> 8</td><td> 4.0377441</td><td>6</td><td>6</td><td> 5</td><td> 5</td><td>122</td><td>122.0000</td><td>122</td><td>18.72810</td><td>18.72810</td><td>18.72810</td><td>279.80</td><td>279.8000</td><td>279.80</td><td>1833.22</td><td>1833.220</td><td>1833.22</td></tr>\n",
       "\t<tr><td>2002</td><td>165</td><td> 7</td><td> 3.6208032</td><td>4</td><td>4</td><td>11</td><td>11</td><td> 98</td><td>117.4667</td><td>137</td><td>16.37548</td><td>16.68475</td><td>16.94787</td><td>308.12</td><td>397.5435</td><td>504.18</td><td>1571.58</td><td>1869.148</td><td>2225.96</td></tr>\n",
       "\t<tr><td>2003</td><td>238</td><td>15</td><td> 5.2227343</td><td>3</td><td>3</td><td>10</td><td>10</td><td> 98</td><td>111.0840</td><td>122</td><td>16.51102</td><td>17.15811</td><td>18.50810</td><td>296.16</td><td>350.3797</td><td>394.76</td><td>1626.76</td><td>1814.324</td><td>2035.10</td></tr>\n",
       "\t<tr><td>2004</td><td>267</td><td>11</td><td> 5.8591178</td><td>3</td><td>3</td><td>11</td><td>11</td><td> 98</td><td>121.4045</td><td>133</td><td>16.47265</td><td>16.95083</td><td>17.87477</td><td>281.04</td><td>381.2110</td><td>490.30</td><td>1522.24</td><td>1946.832</td><td>2323.72</td></tr>\n",
       "\t<tr><td>2005</td><td>294</td><td>13</td><td> 6.4516129</td><td>3</td><td>3</td><td>11</td><td>11</td><td>110</td><td>119.2041</td><td>133</td><td>15.98275</td><td>16.55007</td><td>17.64846</td><td>311.02</td><td>361.8304</td><td>529.72</td><td>1613.94</td><td>1849.998</td><td>2259.26</td></tr>\n",
       "\t<tr><td>2006</td><td>114</td><td> 4</td><td> 2.5016458</td><td>3</td><td>3</td><td>10</td><td>10</td><td>104</td><td>116.0789</td><td>134</td><td>16.55007</td><td>17.06612</td><td>17.73383</td><td>  0.00</td><td>273.1763</td><td>431.10</td><td> 880.76</td><td>1584.699</td><td>2379.88</td></tr>\n",
       "\t<tr><td>2007</td><td>246</td><td>11</td><td> 5.3982883</td><td>3</td><td>3</td><td>12</td><td>12</td><td>108</td><td>118.6341</td><td>131</td><td>16.27537</td><td>17.07964</td><td>18.18317</td><td>325.28</td><td>407.0132</td><td>513.24</td><td>1602.34</td><td>1965.939</td><td>2293.96</td></tr>\n",
       "\t<tr><td>2008</td><td>107</td><td> 6</td><td> 2.3480360</td><td>3</td><td>3</td><td> 7</td><td> 7</td><td>116</td><td>117.6822</td><td>120</td><td>15.56268</td><td>16.87866</td><td>17.83380</td><td>398.62</td><td>431.1034</td><td>454.68</td><td>1475.72</td><td>1821.309</td><td>2072.14</td></tr>\n",
       "\t<tr><td>2009</td><td>118</td><td> 6</td><td> 2.5894229</td><td>5</td><td>5</td><td> 8</td><td> 8</td><td>130</td><td>135.3390</td><td>143</td><td>16.00858</td><td>16.66334</td><td>17.23544</td><td>476.08</td><td>536.4863</td><td>580.94</td><td>1939.02</td><td>2196.603</td><td>2421.80</td></tr>\n",
       "\t<tr><td>2010</td><td>154</td><td> 8</td><td> 3.3794163</td><td>4</td><td>4</td><td> 8</td><td> 8</td><td>110</td><td>119.6623</td><td>129</td><td>16.01102</td><td>17.05666</td><td>17.64958</td><td>367.94</td><td>458.8318</td><td>505.02</td><td>1278.66</td><td>1931.122</td><td>2243.28</td></tr>\n",
       "\t<tr><td>2011</td><td>260</td><td>13</td><td> 5.7055080</td><td>4</td><td>4</td><td> 8</td><td> 8</td><td>103</td><td>110.7115</td><td>119</td><td>11.85925</td><td>16.92746</td><td>18.41442</td><td>246.00</td><td>392.3154</td><td>457.90</td><td>1146.30</td><td>1716.828</td><td>2071.08</td></tr>\n",
       "\t<tr><td>2012</td><td>268</td><td>13</td><td> 5.8810621</td><td>4</td><td>4</td><td> 8</td><td> 8</td><td>103</td><td>121.2500</td><td>136</td><td>15.37791</td><td>16.93269</td><td>17.65248</td><td>311.50</td><td>468.6505</td><td>545.02</td><td>1087.94</td><td>1882.487</td><td>2291.56</td></tr>\n",
       "\t<tr><td>2013</td><td>344</td><td>16</td><td> 7.5488260</td><td>4</td><td>4</td><td> 8</td><td> 8</td><td> 91</td><td>119.2558</td><td>136</td><td>14.70788</td><td>16.95766</td><td>18.17355</td><td>280.24</td><td>434.8460</td><td>505.28</td><td>1093.74</td><td>1766.939</td><td>2231.86</td></tr>\n",
       "\t<tr><td>2014</td><td>535</td><td>25</td><td>11.7401799</td><td>4</td><td>4</td><td>10</td><td>10</td><td> 94</td><td>116.9813</td><td>133</td><td>11.74825</td><td>17.31335</td><td>19.90396</td><td> 61.68</td><td>339.8817</td><td>574.72</td><td> 340.84</td><td>1560.704</td><td>2330.10</td></tr>\n",
       "\t<tr><td>2015</td><td> 33</td><td> 2</td><td> 0.7241606</td><td>3</td><td>3</td><td> 6</td><td> 6</td><td>125</td><td>128.2727</td><td>131</td><td>18.62190</td><td>18.83951</td><td>19.10064</td><td>357.72</td><td>420.3055</td><td>472.46</td><td>2312.76</td><td>2375.825</td><td>2428.38</td></tr>\n",
       "\t<tr><td>2016</td><td> 42</td><td> 4</td><td> 0.9216590</td><td>3</td><td>3</td><td> 6</td><td> 6</td><td>117</td><td>126.6190</td><td>136</td><td>16.67367</td><td>17.61475</td><td>18.60586</td><td>389.34</td><td>465.5876</td><td>515.32</td><td> 653.92</td><td>1672.303</td><td>2430.20</td></tr>\n",
       "\t<tr><td>2017</td><td>176</td><td>10</td><td> 3.8621900</td><td>3</td><td>3</td><td> 8</td><td> 8</td><td>106</td><td>119.0682</td><td>135</td><td>16.64905</td><td>17.38832</td><td>19.00922</td><td>279.20</td><td>368.8739</td><td>440.74</td><td> 638.92</td><td>1483.589</td><td>2093.74</td></tr>\n",
       "</tbody>\n",
       "</table>\n"
      ],
      "text/latex": [
       "A tibble: 24 × 20\n",
       "\\begin{tabular}{llllllllllllllllllll}\n",
       " Annee & n\\_samples & n\\_trials & percent & min\\_nblocs & max\\_nblocs & min\\_ntreat & max\\_ntreat & min\\_GS & mean\\_GS & max\\_GS & min\\_T & mean\\_T & max\\_T & min\\_PPT & mean\\_PPT & max\\_PPT & min\\_GDD & mean\\_GDD & max\\_GDD\\\\\n",
       " <int> & <int> & <int> & <dbl> & <int> & <int> & <int> & <int> & <int> & <dbl> & <int> & <dbl> & <dbl> & <dbl> & <dbl> & <dbl> & <dbl> & <dbl> & <dbl> & <dbl>\\\\\n",
       "\\hline\n",
       "\t 1993 & 117 &  5 &  2.5674786 & 3 & 3 &  9 &  9 & 121 & 125.1538 & 127 & 16.45143 & 16.57760 & 16.63368 & 418.82 & 420.6046 & 424.62 & 1952.96 & 2038.585 & 2076.64\\\\\n",
       "\t 1994 &  84 &  3 &  1.8433180 & 3 & 3 & 10 & 10 & 124 & 124.6429 & 125 & 17.20701 & 17.23104 & 17.27429 & 439.32 & 440.6571 & 441.40 & 2145.36 & 2151.056 & 2154.22\\\\\n",
       "\t 1995 &  81 &  3 &  1.7774852 & 3 & 3 &  9 &  9 & 106 & 108.6667 & 114 & 17.52958 & 17.70927 & 17.79911 & 444.46 & 450.8600 & 463.66 & 1890.40 & 1927.600 & 2002.00\\\\\n",
       "\t 1996 &  60 &  2 &  1.3166557 & 6 & 6 &  5 &  5 & 102 & 118.0000 & 134 & 15.96156 & 16.42587 & 16.89019 & 378.04 & 453.5800 & 529.12 & 1631.00 & 1947.930 & 2264.86\\\\\n",
       "\t 1997 & 198 &  4 &  4.3449638 & 3 & 3 & 22 & 22 & 123 & 123.0000 & 123 & 16.90796 & 17.03372 & 17.18476 & 518.32 & 529.7700 & 537.64 & 2083.04 & 2097.780 & 2116.28\\\\\n",
       "\t 1998 & 184 &  8 &  4.0377441 & 6 & 6 &  5 &  5 & 131 & 131.0000 & 131 & 17.94491 & 17.94491 & 17.94491 & 358.68 & 358.6800 & 358.68 & 2132.68 & 2132.680 & 2132.68\\\\\n",
       "\t 1999 & 288 & 11 &  6.3199473 & 6 & 6 & 14 & 14 & 120 & 125.3611 & 128 & 16.98877 & 17.82402 & 18.26183 & 377.40 & 413.6835 & 506.56 & 2042.16 & 2100.595 & 2165.40\\\\\n",
       "\t 2000 & 184 &  8 &  4.0377441 & 6 & 6 &  5 &  5 & 122 & 122.0000 & 122 & 18.72810 & 18.72810 & 18.72810 & 279.80 & 279.8000 & 279.80 & 1833.22 & 1833.220 & 1833.22\\\\\n",
       "\t 2002 & 165 &  7 &  3.6208032 & 4 & 4 & 11 & 11 &  98 & 117.4667 & 137 & 16.37548 & 16.68475 & 16.94787 & 308.12 & 397.5435 & 504.18 & 1571.58 & 1869.148 & 2225.96\\\\\n",
       "\t 2003 & 238 & 15 &  5.2227343 & 3 & 3 & 10 & 10 &  98 & 111.0840 & 122 & 16.51102 & 17.15811 & 18.50810 & 296.16 & 350.3797 & 394.76 & 1626.76 & 1814.324 & 2035.10\\\\\n",
       "\t 2004 & 267 & 11 &  5.8591178 & 3 & 3 & 11 & 11 &  98 & 121.4045 & 133 & 16.47265 & 16.95083 & 17.87477 & 281.04 & 381.2110 & 490.30 & 1522.24 & 1946.832 & 2323.72\\\\\n",
       "\t 2005 & 294 & 13 &  6.4516129 & 3 & 3 & 11 & 11 & 110 & 119.2041 & 133 & 15.98275 & 16.55007 & 17.64846 & 311.02 & 361.8304 & 529.72 & 1613.94 & 1849.998 & 2259.26\\\\\n",
       "\t 2006 & 114 &  4 &  2.5016458 & 3 & 3 & 10 & 10 & 104 & 116.0789 & 134 & 16.55007 & 17.06612 & 17.73383 &   0.00 & 273.1763 & 431.10 &  880.76 & 1584.699 & 2379.88\\\\\n",
       "\t 2007 & 246 & 11 &  5.3982883 & 3 & 3 & 12 & 12 & 108 & 118.6341 & 131 & 16.27537 & 17.07964 & 18.18317 & 325.28 & 407.0132 & 513.24 & 1602.34 & 1965.939 & 2293.96\\\\\n",
       "\t 2008 & 107 &  6 &  2.3480360 & 3 & 3 &  7 &  7 & 116 & 117.6822 & 120 & 15.56268 & 16.87866 & 17.83380 & 398.62 & 431.1034 & 454.68 & 1475.72 & 1821.309 & 2072.14\\\\\n",
       "\t 2009 & 118 &  6 &  2.5894229 & 5 & 5 &  8 &  8 & 130 & 135.3390 & 143 & 16.00858 & 16.66334 & 17.23544 & 476.08 & 536.4863 & 580.94 & 1939.02 & 2196.603 & 2421.80\\\\\n",
       "\t 2010 & 154 &  8 &  3.3794163 & 4 & 4 &  8 &  8 & 110 & 119.6623 & 129 & 16.01102 & 17.05666 & 17.64958 & 367.94 & 458.8318 & 505.02 & 1278.66 & 1931.122 & 2243.28\\\\\n",
       "\t 2011 & 260 & 13 &  5.7055080 & 4 & 4 &  8 &  8 & 103 & 110.7115 & 119 & 11.85925 & 16.92746 & 18.41442 & 246.00 & 392.3154 & 457.90 & 1146.30 & 1716.828 & 2071.08\\\\\n",
       "\t 2012 & 268 & 13 &  5.8810621 & 4 & 4 &  8 &  8 & 103 & 121.2500 & 136 & 15.37791 & 16.93269 & 17.65248 & 311.50 & 468.6505 & 545.02 & 1087.94 & 1882.487 & 2291.56\\\\\n",
       "\t 2013 & 344 & 16 &  7.5488260 & 4 & 4 &  8 &  8 &  91 & 119.2558 & 136 & 14.70788 & 16.95766 & 18.17355 & 280.24 & 434.8460 & 505.28 & 1093.74 & 1766.939 & 2231.86\\\\\n",
       "\t 2014 & 535 & 25 & 11.7401799 & 4 & 4 & 10 & 10 &  94 & 116.9813 & 133 & 11.74825 & 17.31335 & 19.90396 &  61.68 & 339.8817 & 574.72 &  340.84 & 1560.704 & 2330.10\\\\\n",
       "\t 2015 &  33 &  2 &  0.7241606 & 3 & 3 &  6 &  6 & 125 & 128.2727 & 131 & 18.62190 & 18.83951 & 19.10064 & 357.72 & 420.3055 & 472.46 & 2312.76 & 2375.825 & 2428.38\\\\\n",
       "\t 2016 &  42 &  4 &  0.9216590 & 3 & 3 &  6 &  6 & 117 & 126.6190 & 136 & 16.67367 & 17.61475 & 18.60586 & 389.34 & 465.5876 & 515.32 &  653.92 & 1672.303 & 2430.20\\\\\n",
       "\t 2017 & 176 & 10 &  3.8621900 & 3 & 3 &  8 &  8 & 106 & 119.0682 & 135 & 16.64905 & 17.38832 & 19.00922 & 279.20 & 368.8739 & 440.74 &  638.92 & 1483.589 & 2093.74\\\\\n",
       "\\end{tabular}\n"
      ],
      "text/markdown": [
       "\n",
       "A tibble: 24 × 20\n",
       "\n",
       "| Annee &lt;int&gt; | n_samples &lt;int&gt; | n_trials &lt;int&gt; | percent &lt;dbl&gt; | min_nblocs &lt;int&gt; | max_nblocs &lt;int&gt; | min_ntreat &lt;int&gt; | max_ntreat &lt;int&gt; | min_GS &lt;int&gt; | mean_GS &lt;dbl&gt; | max_GS &lt;int&gt; | min_T &lt;dbl&gt; | mean_T &lt;dbl&gt; | max_T &lt;dbl&gt; | min_PPT &lt;dbl&gt; | mean_PPT &lt;dbl&gt; | max_PPT &lt;dbl&gt; | min_GDD &lt;dbl&gt; | mean_GDD &lt;dbl&gt; | max_GDD &lt;dbl&gt; |\n",
       "|---|---|---|---|---|---|---|---|---|---|---|---|---|---|---|---|---|---|---|---|\n",
       "| 1993 | 117 |  5 |  2.5674786 | 3 | 3 |  9 |  9 | 121 | 125.1538 | 127 | 16.45143 | 16.57760 | 16.63368 | 418.82 | 420.6046 | 424.62 | 1952.96 | 2038.585 | 2076.64 |\n",
       "| 1994 |  84 |  3 |  1.8433180 | 3 | 3 | 10 | 10 | 124 | 124.6429 | 125 | 17.20701 | 17.23104 | 17.27429 | 439.32 | 440.6571 | 441.40 | 2145.36 | 2151.056 | 2154.22 |\n",
       "| 1995 |  81 |  3 |  1.7774852 | 3 | 3 |  9 |  9 | 106 | 108.6667 | 114 | 17.52958 | 17.70927 | 17.79911 | 444.46 | 450.8600 | 463.66 | 1890.40 | 1927.600 | 2002.00 |\n",
       "| 1996 |  60 |  2 |  1.3166557 | 6 | 6 |  5 |  5 | 102 | 118.0000 | 134 | 15.96156 | 16.42587 | 16.89019 | 378.04 | 453.5800 | 529.12 | 1631.00 | 1947.930 | 2264.86 |\n",
       "| 1997 | 198 |  4 |  4.3449638 | 3 | 3 | 22 | 22 | 123 | 123.0000 | 123 | 16.90796 | 17.03372 | 17.18476 | 518.32 | 529.7700 | 537.64 | 2083.04 | 2097.780 | 2116.28 |\n",
       "| 1998 | 184 |  8 |  4.0377441 | 6 | 6 |  5 |  5 | 131 | 131.0000 | 131 | 17.94491 | 17.94491 | 17.94491 | 358.68 | 358.6800 | 358.68 | 2132.68 | 2132.680 | 2132.68 |\n",
       "| 1999 | 288 | 11 |  6.3199473 | 6 | 6 | 14 | 14 | 120 | 125.3611 | 128 | 16.98877 | 17.82402 | 18.26183 | 377.40 | 413.6835 | 506.56 | 2042.16 | 2100.595 | 2165.40 |\n",
       "| 2000 | 184 |  8 |  4.0377441 | 6 | 6 |  5 |  5 | 122 | 122.0000 | 122 | 18.72810 | 18.72810 | 18.72810 | 279.80 | 279.8000 | 279.80 | 1833.22 | 1833.220 | 1833.22 |\n",
       "| 2002 | 165 |  7 |  3.6208032 | 4 | 4 | 11 | 11 |  98 | 117.4667 | 137 | 16.37548 | 16.68475 | 16.94787 | 308.12 | 397.5435 | 504.18 | 1571.58 | 1869.148 | 2225.96 |\n",
       "| 2003 | 238 | 15 |  5.2227343 | 3 | 3 | 10 | 10 |  98 | 111.0840 | 122 | 16.51102 | 17.15811 | 18.50810 | 296.16 | 350.3797 | 394.76 | 1626.76 | 1814.324 | 2035.10 |\n",
       "| 2004 | 267 | 11 |  5.8591178 | 3 | 3 | 11 | 11 |  98 | 121.4045 | 133 | 16.47265 | 16.95083 | 17.87477 | 281.04 | 381.2110 | 490.30 | 1522.24 | 1946.832 | 2323.72 |\n",
       "| 2005 | 294 | 13 |  6.4516129 | 3 | 3 | 11 | 11 | 110 | 119.2041 | 133 | 15.98275 | 16.55007 | 17.64846 | 311.02 | 361.8304 | 529.72 | 1613.94 | 1849.998 | 2259.26 |\n",
       "| 2006 | 114 |  4 |  2.5016458 | 3 | 3 | 10 | 10 | 104 | 116.0789 | 134 | 16.55007 | 17.06612 | 17.73383 |   0.00 | 273.1763 | 431.10 |  880.76 | 1584.699 | 2379.88 |\n",
       "| 2007 | 246 | 11 |  5.3982883 | 3 | 3 | 12 | 12 | 108 | 118.6341 | 131 | 16.27537 | 17.07964 | 18.18317 | 325.28 | 407.0132 | 513.24 | 1602.34 | 1965.939 | 2293.96 |\n",
       "| 2008 | 107 |  6 |  2.3480360 | 3 | 3 |  7 |  7 | 116 | 117.6822 | 120 | 15.56268 | 16.87866 | 17.83380 | 398.62 | 431.1034 | 454.68 | 1475.72 | 1821.309 | 2072.14 |\n",
       "| 2009 | 118 |  6 |  2.5894229 | 5 | 5 |  8 |  8 | 130 | 135.3390 | 143 | 16.00858 | 16.66334 | 17.23544 | 476.08 | 536.4863 | 580.94 | 1939.02 | 2196.603 | 2421.80 |\n",
       "| 2010 | 154 |  8 |  3.3794163 | 4 | 4 |  8 |  8 | 110 | 119.6623 | 129 | 16.01102 | 17.05666 | 17.64958 | 367.94 | 458.8318 | 505.02 | 1278.66 | 1931.122 | 2243.28 |\n",
       "| 2011 | 260 | 13 |  5.7055080 | 4 | 4 |  8 |  8 | 103 | 110.7115 | 119 | 11.85925 | 16.92746 | 18.41442 | 246.00 | 392.3154 | 457.90 | 1146.30 | 1716.828 | 2071.08 |\n",
       "| 2012 | 268 | 13 |  5.8810621 | 4 | 4 |  8 |  8 | 103 | 121.2500 | 136 | 15.37791 | 16.93269 | 17.65248 | 311.50 | 468.6505 | 545.02 | 1087.94 | 1882.487 | 2291.56 |\n",
       "| 2013 | 344 | 16 |  7.5488260 | 4 | 4 |  8 |  8 |  91 | 119.2558 | 136 | 14.70788 | 16.95766 | 18.17355 | 280.24 | 434.8460 | 505.28 | 1093.74 | 1766.939 | 2231.86 |\n",
       "| 2014 | 535 | 25 | 11.7401799 | 4 | 4 | 10 | 10 |  94 | 116.9813 | 133 | 11.74825 | 17.31335 | 19.90396 |  61.68 | 339.8817 | 574.72 |  340.84 | 1560.704 | 2330.10 |\n",
       "| 2015 |  33 |  2 |  0.7241606 | 3 | 3 |  6 |  6 | 125 | 128.2727 | 131 | 18.62190 | 18.83951 | 19.10064 | 357.72 | 420.3055 | 472.46 | 2312.76 | 2375.825 | 2428.38 |\n",
       "| 2016 |  42 |  4 |  0.9216590 | 3 | 3 |  6 |  6 | 117 | 126.6190 | 136 | 16.67367 | 17.61475 | 18.60586 | 389.34 | 465.5876 | 515.32 |  653.92 | 1672.303 | 2430.20 |\n",
       "| 2017 | 176 | 10 |  3.8621900 | 3 | 3 |  8 |  8 | 106 | 119.0682 | 135 | 16.64905 | 17.38832 | 19.00922 | 279.20 | 368.8739 | 440.74 |  638.92 | 1483.589 | 2093.74 |\n",
       "\n"
      ],
      "text/plain": [
       "   Annee n_samples n_trials percent    min_nblocs max_nblocs min_ntreat\n",
       "1  1993  117        5        2.5674786 3          3           9        \n",
       "2  1994   84        3        1.8433180 3          3          10        \n",
       "3  1995   81        3        1.7774852 3          3           9        \n",
       "4  1996   60        2        1.3166557 6          6           5        \n",
       "5  1997  198        4        4.3449638 3          3          22        \n",
       "6  1998  184        8        4.0377441 6          6           5        \n",
       "7  1999  288       11        6.3199473 6          6          14        \n",
       "8  2000  184        8        4.0377441 6          6           5        \n",
       "9  2002  165        7        3.6208032 4          4          11        \n",
       "10 2003  238       15        5.2227343 3          3          10        \n",
       "11 2004  267       11        5.8591178 3          3          11        \n",
       "12 2005  294       13        6.4516129 3          3          11        \n",
       "13 2006  114        4        2.5016458 3          3          10        \n",
       "14 2007  246       11        5.3982883 3          3          12        \n",
       "15 2008  107        6        2.3480360 3          3           7        \n",
       "16 2009  118        6        2.5894229 5          5           8        \n",
       "17 2010  154        8        3.3794163 4          4           8        \n",
       "18 2011  260       13        5.7055080 4          4           8        \n",
       "19 2012  268       13        5.8810621 4          4           8        \n",
       "20 2013  344       16        7.5488260 4          4           8        \n",
       "21 2014  535       25       11.7401799 4          4          10        \n",
       "22 2015   33        2        0.7241606 3          3           6        \n",
       "23 2016   42        4        0.9216590 3          3           6        \n",
       "24 2017  176       10        3.8621900 3          3           8        \n",
       "   max_ntreat min_GS mean_GS  max_GS min_T    mean_T   max_T    min_PPT\n",
       "1   9         121    125.1538 127    16.45143 16.57760 16.63368 418.82 \n",
       "2  10         124    124.6429 125    17.20701 17.23104 17.27429 439.32 \n",
       "3   9         106    108.6667 114    17.52958 17.70927 17.79911 444.46 \n",
       "4   5         102    118.0000 134    15.96156 16.42587 16.89019 378.04 \n",
       "5  22         123    123.0000 123    16.90796 17.03372 17.18476 518.32 \n",
       "6   5         131    131.0000 131    17.94491 17.94491 17.94491 358.68 \n",
       "7  14         120    125.3611 128    16.98877 17.82402 18.26183 377.40 \n",
       "8   5         122    122.0000 122    18.72810 18.72810 18.72810 279.80 \n",
       "9  11          98    117.4667 137    16.37548 16.68475 16.94787 308.12 \n",
       "10 10          98    111.0840 122    16.51102 17.15811 18.50810 296.16 \n",
       "11 11          98    121.4045 133    16.47265 16.95083 17.87477 281.04 \n",
       "12 11         110    119.2041 133    15.98275 16.55007 17.64846 311.02 \n",
       "13 10         104    116.0789 134    16.55007 17.06612 17.73383   0.00 \n",
       "14 12         108    118.6341 131    16.27537 17.07964 18.18317 325.28 \n",
       "15  7         116    117.6822 120    15.56268 16.87866 17.83380 398.62 \n",
       "16  8         130    135.3390 143    16.00858 16.66334 17.23544 476.08 \n",
       "17  8         110    119.6623 129    16.01102 17.05666 17.64958 367.94 \n",
       "18  8         103    110.7115 119    11.85925 16.92746 18.41442 246.00 \n",
       "19  8         103    121.2500 136    15.37791 16.93269 17.65248 311.50 \n",
       "20  8          91    119.2558 136    14.70788 16.95766 18.17355 280.24 \n",
       "21 10          94    116.9813 133    11.74825 17.31335 19.90396  61.68 \n",
       "22  6         125    128.2727 131    18.62190 18.83951 19.10064 357.72 \n",
       "23  6         117    126.6190 136    16.67367 17.61475 18.60586 389.34 \n",
       "24  8         106    119.0682 135    16.64905 17.38832 19.00922 279.20 \n",
       "   mean_PPT max_PPT min_GDD mean_GDD max_GDD\n",
       "1  420.6046 424.62  1952.96 2038.585 2076.64\n",
       "2  440.6571 441.40  2145.36 2151.056 2154.22\n",
       "3  450.8600 463.66  1890.40 1927.600 2002.00\n",
       "4  453.5800 529.12  1631.00 1947.930 2264.86\n",
       "5  529.7700 537.64  2083.04 2097.780 2116.28\n",
       "6  358.6800 358.68  2132.68 2132.680 2132.68\n",
       "7  413.6835 506.56  2042.16 2100.595 2165.40\n",
       "8  279.8000 279.80  1833.22 1833.220 1833.22\n",
       "9  397.5435 504.18  1571.58 1869.148 2225.96\n",
       "10 350.3797 394.76  1626.76 1814.324 2035.10\n",
       "11 381.2110 490.30  1522.24 1946.832 2323.72\n",
       "12 361.8304 529.72  1613.94 1849.998 2259.26\n",
       "13 273.1763 431.10   880.76 1584.699 2379.88\n",
       "14 407.0132 513.24  1602.34 1965.939 2293.96\n",
       "15 431.1034 454.68  1475.72 1821.309 2072.14\n",
       "16 536.4863 580.94  1939.02 2196.603 2421.80\n",
       "17 458.8318 505.02  1278.66 1931.122 2243.28\n",
       "18 392.3154 457.90  1146.30 1716.828 2071.08\n",
       "19 468.6505 545.02  1087.94 1882.487 2291.56\n",
       "20 434.8460 505.28  1093.74 1766.939 2231.86\n",
       "21 339.8817 574.72   340.84 1560.704 2330.10\n",
       "22 420.3055 472.46  2312.76 2375.825 2428.38\n",
       "23 465.5876 515.32   653.92 1672.303 2430.20\n",
       "24 368.8739 440.74   638.92 1483.589 2093.74"
      ]
     },
     "metadata": {},
     "output_type": "display_data"
    }
   ],
   "source": [
    "stat_ts <- tuberSize %>%\n",
    "    select(\"NoEssai\", \"NoBloc\", \"NoTraitement\", \"Cultivar\", \"Maturity5\", \"Annee\", \"DensitePlants\",  \n",
    "           \"growing.season\", 'temp_moy_5years', 'prec_tot_5years', 'gdd_5years') %>%\n",
    "    group_by(Annee) %>%\n",
    "    summarise(n_samples = n(), \n",
    "              n_trials = n_distinct(NoEssai),\n",
    "              percent = 100*n_samples/nrow(tuberSize), \n",
    "              min_nblocs = min(n_distinct(NoBloc)), max_nblocs = max(n_distinct(NoBloc)),\n",
    "              min_ntreat = min(n_distinct(NoTraitement)), max_ntreat = max(n_distinct(NoTraitement)),\n",
    "              min_GS = min(growing.season), mean_GS = mean(growing.season), max_GS = max(growing.season),\n",
    "              min_T = min(temp_moy_5years), mean_T = mean(temp_moy_5years), max_T = max(temp_moy_5years),\n",
    "              min_PPT = min(prec_tot_5years), mean_PPT = mean(prec_tot_5years), max_PPT = max(prec_tot_5years),\n",
    "              min_GDD = min(gdd_5years), mean_GDD = mean(gdd_5years), max_GDD = max(gdd_5years)\n",
    "              )\n",
    "stat_ts\n",
    "write_csv(stat_ts, \"output/stat_ts.csv\")"
   ]
  },
  {
   "cell_type": "code",
   "execution_count": 64,
   "metadata": {},
   "outputs": [],
   "source": [
    "tuberSize <- left_join(tuberSize, test_type, by = \"index\") %>% \n",
    "                    select(-index, -RendVendableMaxParEssai, -Annee)"
   ]
  },
  {
   "cell_type": "markdown",
   "metadata": {},
   "source": [
    "The __tuberSize.csv__ table global structure:"
   ]
  },
  {
   "cell_type": "code",
   "execution_count": 65,
   "metadata": {},
   "outputs": [
    {
     "name": "stderr",
     "output_type": "stream",
     "text": [
      "Warning message:\n",
      "\"Factor `test_type` contains implicit NA, consider using `forcats::fct_explicit_na`\"\n"
     ]
    },
    {
     "data": {
      "text/html": [
       "<table>\n",
       "<caption>A tibble: 5 × 10</caption>\n",
       "<thead>\n",
       "\t<tr><th scope=col>test_type</th><th scope=col>n_samples</th><th scope=col>n_trials</th><th scope=col>percent</th><th scope=col>N_min</th><th scope=col>N_max</th><th scope=col>P_min</th><th scope=col>P_max</th><th scope=col>K_min</th><th scope=col>K_max</th></tr>\n",
       "\t<tr><th scope=col>&lt;fct&gt;</th><th scope=col>&lt;int&gt;</th><th scope=col>&lt;int&gt;</th><th scope=col>&lt;dbl&gt;</th><th scope=col>&lt;dbl&gt;</th><th scope=col>&lt;dbl&gt;</th><th scope=col>&lt;dbl&gt;</th><th scope=col>&lt;dbl&gt;</th><th scope=col>&lt;dbl&gt;</th><th scope=col>&lt;dbl&gt;</th></tr>\n",
       "</thead>\n",
       "<tbody>\n",
       "\t<tr><td>K  </td><td> 901</td><td> 43</td><td>19.7717797</td><td> 80</td><td>220</td><td> 75</td><td>200</td><td> 0</td><td>300</td></tr>\n",
       "\t<tr><td>N  </td><td>2378</td><td>122</td><td>52.1834540</td><td>  0</td><td>250</td><td>100</td><td>216</td><td>57</td><td>270</td></tr>\n",
       "\t<tr><td>NPK</td><td> 363</td><td>  9</td><td> 7.9657670</td><td>  0</td><td>225</td><td>  0</td><td>300</td><td> 0</td><td>300</td></tr>\n",
       "\t<tr><td>P  </td><td> 897</td><td> 33</td><td>19.6840026</td><td>110</td><td>210</td><td>  0</td><td>300</td><td> 0</td><td>270</td></tr>\n",
       "\t<tr><td>NA </td><td>  18</td><td>  1</td><td> 0.3949967</td><td>218</td><td>218</td><td>110</td><td>110</td><td>55</td><td> 55</td></tr>\n",
       "</tbody>\n",
       "</table>\n"
      ],
      "text/latex": [
       "A tibble: 5 × 10\n",
       "\\begin{tabular}{llllllllll}\n",
       " test\\_type & n\\_samples & n\\_trials & percent & N\\_min & N\\_max & P\\_min & P\\_max & K\\_min & K\\_max\\\\\n",
       " <fct> & <int> & <int> & <dbl> & <dbl> & <dbl> & <dbl> & <dbl> & <dbl> & <dbl>\\\\\n",
       "\\hline\n",
       "\t K   &  901 &  43 & 19.7717797 &  80 & 220 &  75 & 200 &  0 & 300\\\\\n",
       "\t N   & 2378 & 122 & 52.1834540 &   0 & 250 & 100 & 216 & 57 & 270\\\\\n",
       "\t NPK &  363 &   9 &  7.9657670 &   0 & 225 &   0 & 300 &  0 & 300\\\\\n",
       "\t P   &  897 &  33 & 19.6840026 & 110 & 210 &   0 & 300 &  0 & 270\\\\\n",
       "\t NA  &   18 &   1 &  0.3949967 & 218 & 218 & 110 & 110 & 55 &  55\\\\\n",
       "\\end{tabular}\n"
      ],
      "text/markdown": [
       "\n",
       "A tibble: 5 × 10\n",
       "\n",
       "| test_type &lt;fct&gt; | n_samples &lt;int&gt; | n_trials &lt;int&gt; | percent &lt;dbl&gt; | N_min &lt;dbl&gt; | N_max &lt;dbl&gt; | P_min &lt;dbl&gt; | P_max &lt;dbl&gt; | K_min &lt;dbl&gt; | K_max &lt;dbl&gt; |\n",
       "|---|---|---|---|---|---|---|---|---|---|\n",
       "| K   |  901 |  43 | 19.7717797 |  80 | 220 |  75 | 200 |  0 | 300 |\n",
       "| N   | 2378 | 122 | 52.1834540 |   0 | 250 | 100 | 216 | 57 | 270 |\n",
       "| NPK |  363 |   9 |  7.9657670 |   0 | 225 |   0 | 300 |  0 | 300 |\n",
       "| P   |  897 |  33 | 19.6840026 | 110 | 210 |   0 | 300 |  0 | 270 |\n",
       "| NA  |   18 |   1 |  0.3949967 | 218 | 218 | 110 | 110 | 55 |  55 |\n",
       "\n"
      ],
      "text/plain": [
       "  test_type n_samples n_trials percent    N_min N_max P_min P_max K_min K_max\n",
       "1 K          901       43      19.7717797  80   220    75   200    0    300  \n",
       "2 N         2378      122      52.1834540   0   250   100   216   57    270  \n",
       "3 NPK        363        9       7.9657670   0   225     0   300    0    300  \n",
       "4 P          897       33      19.6840026 110   210     0   300    0    270  \n",
       "5 NA          18        1       0.3949967 218   218   110   110   55     55  "
      ]
     },
     "metadata": {},
     "output_type": "display_data"
    }
   ],
   "source": [
    "stat2 <- tuberSize %>%\n",
    "    select(\"NoEssai\", \"NoBloc\", \"NoTraitement\", \"NtotDose\", \"PtotDose\", \"KtotDose\", 'test_type') %>%\n",
    "    group_by(test_type) %>%\n",
    "    summarise(n_samples = n(), \n",
    "              n_trials = n_distinct(NoEssai),\n",
    "              percent = 100*n_samples/nrow(tuberSize), \n",
    "              N_min = min(NtotDose), N_max = max(NtotDose),\n",
    "              P_min = min(PtotDose), P_max = max(PtotDose),\n",
    "              K_min = min(KtotDose), K_max = max(KtotDose))\n",
    "stat2"
   ]
  },
  {
   "cell_type": "markdown",
   "metadata": {},
   "source": [
    "We export this table as __`df_tuberSize.csv`__ for GP in Python."
   ]
  },
  {
   "cell_type": "code",
   "execution_count": 66,
   "metadata": {},
   "outputs": [],
   "source": [
    "write_csv(tuberSize, \"output/df_tuberSize.csv\")"
   ]
  },
  {
   "cell_type": "markdown",
   "metadata": {},
   "source": [
    "### Specific gravity, `PoidsSpec` as response variable"
   ]
  },
  {
   "cell_type": "code",
   "execution_count": 67,
   "metadata": {},
   "outputs": [],
   "source": [
    "PoidsSpec_ml_df <- data_ml %>%\n",
    "  filter(RendVendableMaxParEssai >= 28) %>%\n",
    "  select(one_of(c(\"index\", \"PoidsSpec\", var_ml, \"Annee\"))) %>%\n",
    "  na.omit() %>%\n",
    "  droplevels()\n",
    "\n",
    "PoidsSpec_ml_df$Cultivar <- factor(PoidsSpec_ml_df$Cultivar)"
   ]
  },
  {
   "cell_type": "code",
   "execution_count": 68,
   "metadata": {},
   "outputs": [
    {
     "data": {
      "text/html": [
       "<table>\n",
       "<caption>A tibble: 24 × 20</caption>\n",
       "<thead>\n",
       "\t<tr><th scope=col>Annee</th><th scope=col>n_samples</th><th scope=col>n_trials</th><th scope=col>percent</th><th scope=col>min_nblocs</th><th scope=col>max_nblocs</th><th scope=col>min_ntreat</th><th scope=col>max_ntreat</th><th scope=col>min_GS</th><th scope=col>mean_GS</th><th scope=col>max_GS</th><th scope=col>min_T</th><th scope=col>mean_T</th><th scope=col>max_T</th><th scope=col>min_PPT</th><th scope=col>mean_PPT</th><th scope=col>max_PPT</th><th scope=col>min_GDD</th><th scope=col>mean_GDD</th><th scope=col>max_GDD</th></tr>\n",
       "\t<tr><th scope=col>&lt;int&gt;</th><th scope=col>&lt;int&gt;</th><th scope=col>&lt;int&gt;</th><th scope=col>&lt;dbl&gt;</th><th scope=col>&lt;int&gt;</th><th scope=col>&lt;int&gt;</th><th scope=col>&lt;int&gt;</th><th scope=col>&lt;int&gt;</th><th scope=col>&lt;int&gt;</th><th scope=col>&lt;dbl&gt;</th><th scope=col>&lt;int&gt;</th><th scope=col>&lt;dbl&gt;</th><th scope=col>&lt;dbl&gt;</th><th scope=col>&lt;dbl&gt;</th><th scope=col>&lt;dbl&gt;</th><th scope=col>&lt;dbl&gt;</th><th scope=col>&lt;dbl&gt;</th><th scope=col>&lt;dbl&gt;</th><th scope=col>&lt;dbl&gt;</th><th scope=col>&lt;dbl&gt;</th></tr>\n",
       "</thead>\n",
       "<tbody>\n",
       "\t<tr><td>1993</td><td>144</td><td> 6</td><td> 3.3850494</td><td>3</td><td>3</td><td>27</td><td>27</td><td>121</td><td>124.9375</td><td>127</td><td>16.45143</td><td>16.61873</td><td>16.79694</td><td>412.28</td><td>419.0437</td><td>424.62</td><td>1952.96</td><td>2046.755</td><td>2082.16</td></tr>\n",
       "\t<tr><td>1994</td><td> 84</td><td> 3</td><td> 1.9746121</td><td>3</td><td>3</td><td>10</td><td>10</td><td>124</td><td>124.6429</td><td>125</td><td>17.20701</td><td>17.23104</td><td>17.27429</td><td>439.32</td><td>440.6571</td><td>441.40</td><td>2145.36</td><td>2151.056</td><td>2154.22</td></tr>\n",
       "\t<tr><td>1995</td><td> 81</td><td> 3</td><td> 1.9040903</td><td>3</td><td>3</td><td> 9</td><td> 9</td><td>106</td><td>108.6667</td><td>114</td><td>17.52958</td><td>17.70927</td><td>17.79911</td><td>444.46</td><td>450.8600</td><td>463.66</td><td>1890.40</td><td>1927.600</td><td>2002.00</td></tr>\n",
       "\t<tr><td>1996</td><td>118</td><td> 8</td><td> 2.7738599</td><td>6</td><td>6</td><td>11</td><td>11</td><td>102</td><td>119.8729</td><td>134</td><td>15.96156</td><td>17.09373</td><td>18.68296</td><td>371.40</td><td>449.8437</td><td>529.12</td><td>1631.00</td><td>2048.192</td><td>2264.86</td></tr>\n",
       "\t<tr><td>1997</td><td>306</td><td> 8</td><td> 7.1932299</td><td>6</td><td>6</td><td>22</td><td>22</td><td> 98</td><td>116.3333</td><td>123</td><td>15.76802</td><td>17.15782</td><td>18.81005</td><td>343.84</td><td>470.6990</td><td>537.64</td><td>1627.28</td><td>1990.232</td><td>2116.28</td></tr>\n",
       "\t<tr><td>1998</td><td>273</td><td>14</td><td> 6.4174894</td><td>6</td><td>6</td><td> 5</td><td> 5</td><td>107</td><td>122.7363</td><td>131</td><td>17.06717</td><td>17.64268</td><td>17.94491</td><td>358.68</td><td>387.8716</td><td>443.46</td><td>1983.14</td><td>2081.190</td><td>2132.68</td></tr>\n",
       "\t<tr><td>1999</td><td>285</td><td>11</td><td> 6.6995769</td><td>6</td><td>6</td><td>14</td><td>14</td><td>120</td><td>125.4175</td><td>128</td><td>16.98877</td><td>17.83282</td><td>18.26183</td><td>377.40</td><td>413.1774</td><td>506.56</td><td>2042.16</td><td>2101.210</td><td>2165.40</td></tr>\n",
       "\t<tr><td>2000</td><td>183</td><td> 8</td><td> 4.3018336</td><td>6</td><td>6</td><td> 5</td><td> 5</td><td>122</td><td>122.0000</td><td>122</td><td>18.72810</td><td>18.72810</td><td>18.72810</td><td>279.80</td><td>279.8000</td><td>279.80</td><td>1833.22</td><td>1833.220</td><td>1833.22</td></tr>\n",
       "\t<tr><td>2002</td><td> 68</td><td> 2</td><td> 1.5984955</td><td>4</td><td>4</td><td>11</td><td>11</td><td>137</td><td>137.0000</td><td>137</td><td>16.94787</td><td>16.94787</td><td>16.94787</td><td>504.18</td><td>504.1800</td><td>504.18</td><td>2225.96</td><td>2225.960</td><td>2225.96</td></tr>\n",
       "\t<tr><td>2003</td><td>154</td><td>14</td><td> 3.6201222</td><td>3</td><td>3</td><td>10</td><td>10</td><td> 98</td><td>111.5974</td><td>122</td><td>16.51102</td><td>17.36567</td><td>18.50810</td><td>296.16</td><td>351.6496</td><td>394.76</td><td>1626.76</td><td>1839.950</td><td>2035.10</td></tr>\n",
       "\t<tr><td>2004</td><td>144</td><td> 9</td><td> 3.3850494</td><td>3</td><td>3</td><td>10</td><td>10</td><td> 98</td><td>125.5625</td><td>133</td><td>16.47265</td><td>17.09950</td><td>17.87477</td><td>281.04</td><td>406.4617</td><td>490.30</td><td>1522.24</td><td>2058.211</td><td>2323.72</td></tr>\n",
       "\t<tr><td>2005</td><td>209</td><td>13</td><td> 4.9130230</td><td>3</td><td>3</td><td>11</td><td>11</td><td>110</td><td>121.6746</td><td>133</td><td>15.98275</td><td>16.77822</td><td>17.64846</td><td>311.02</td><td>379.2301</td><td>529.72</td><td>1613.94</td><td>1944.485</td><td>2259.26</td></tr>\n",
       "\t<tr><td>2006</td><td> 74</td><td> 4</td><td> 1.7395393</td><td>3</td><td>3</td><td>10</td><td>10</td><td>104</td><td>122.6081</td><td>134</td><td>16.55007</td><td>17.34507</td><td>17.73383</td><td>  0.00</td><td>245.1419</td><td>431.10</td><td> 880.76</td><td>1606.893</td><td>2379.88</td></tr>\n",
       "\t<tr><td>2007</td><td>168</td><td>11</td><td> 3.9492243</td><td>3</td><td>3</td><td>11</td><td>11</td><td>108</td><td>123.5714</td><td>131</td><td>16.27537</td><td>17.45304</td><td>18.18317</td><td>325.28</td><td>444.9607</td><td>513.24</td><td>1602.34</td><td>2134.752</td><td>2293.96</td></tr>\n",
       "\t<tr><td>2008</td><td> 62</td><td> 3</td><td> 1.4574518</td><td>3</td><td>3</td><td> 7</td><td> 7</td><td>116</td><td>116.0000</td><td>116</td><td>17.83380</td><td>17.83380</td><td>17.83380</td><td>454.68</td><td>454.6800</td><td>454.68</td><td>2072.14</td><td>2072.140</td><td>2072.14</td></tr>\n",
       "\t<tr><td>2009</td><td>117</td><td> 6</td><td> 2.7503526</td><td>5</td><td>5</td><td> 8</td><td> 8</td><td>130</td><td>135.2821</td><td>143</td><td>16.00858</td><td>16.66053</td><td>17.23544</td><td>476.08</td><td>536.1520</td><td>580.94</td><td>1939.02</td><td>2194.755</td><td>2421.80</td></tr>\n",
       "\t<tr><td>2010</td><td>148</td><td> 8</td><td> 3.4790785</td><td>4</td><td>4</td><td> 8</td><td> 8</td><td>110</td><td>119.6486</td><td>129</td><td>16.01102</td><td>17.07535</td><td>17.64958</td><td>367.94</td><td>460.8293</td><td>505.02</td><td>1278.66</td><td>1935.434</td><td>2243.28</td></tr>\n",
       "\t<tr><td>2011</td><td>214</td><td>11</td><td> 5.0305595</td><td>4</td><td>4</td><td> 8</td><td> 8</td><td>103</td><td>112.1589</td><td>119</td><td>11.85925</td><td>16.61874</td><td>17.92179</td><td>246.00</td><td>390.1529</td><td>457.90</td><td>1146.30</td><td>1678.601</td><td>2071.08</td></tr>\n",
       "\t<tr><td>2012</td><td>268</td><td>13</td><td> 6.2999530</td><td>4</td><td>4</td><td> 8</td><td> 8</td><td>103</td><td>121.2500</td><td>136</td><td>15.37791</td><td>16.93269</td><td>17.65248</td><td>311.50</td><td>468.6505</td><td>545.02</td><td>1087.94</td><td>1882.487</td><td>2291.56</td></tr>\n",
       "\t<tr><td>2013</td><td>342</td><td>16</td><td> 8.0394922</td><td>4</td><td>4</td><td> 8</td><td> 8</td><td> 91</td><td>119.1813</td><td>136</td><td>14.70788</td><td>16.95789</td><td>18.17355</td><td>280.24</td><td>434.4810</td><td>505.28</td><td>1093.74</td><td>1765.290</td><td>2231.86</td></tr>\n",
       "\t<tr><td>2014</td><td>534</td><td>25</td><td>12.5528914</td><td>4</td><td>4</td><td>10</td><td>10</td><td> 94</td><td>116.9981</td><td>133</td><td>11.74825</td><td>17.31508</td><td>19.90396</td><td> 61.68</td><td>339.8381</td><td>574.72</td><td> 340.84</td><td>1560.519</td><td>2330.10</td></tr>\n",
       "\t<tr><td>2015</td><td> 18</td><td> 1</td><td> 0.4231312</td><td>3</td><td>3</td><td> 6</td><td> 6</td><td>131</td><td>131.0000</td><td>131</td><td>18.62190</td><td>18.62190</td><td>18.62190</td><td>472.46</td><td>472.4600</td><td>472.46</td><td>2428.38</td><td>2428.380</td><td>2428.38</td></tr>\n",
       "\t<tr><td>2016</td><td> 48</td><td> 5</td><td> 1.1283498</td><td>3</td><td>3</td><td> 6</td><td> 6</td><td>115</td><td>125.1667</td><td>136</td><td>16.67367</td><td>17.67821</td><td>18.60586</td><td>389.34</td><td>463.7142</td><td>515.32</td><td> 653.92</td><td>1684.890</td><td>2430.20</td></tr>\n",
       "\t<tr><td>2017</td><td>212</td><td>12</td><td> 4.9835449</td><td>3</td><td>3</td><td> 8</td><td> 8</td><td>106</td><td>119.9057</td><td>135</td><td>16.64905</td><td>17.37066</td><td>19.00922</td><td>279.20</td><td>377.2143</td><td>440.74</td><td> 638.92</td><td>1512.194</td><td>2093.74</td></tr>\n",
       "</tbody>\n",
       "</table>\n"
      ],
      "text/latex": [
       "A tibble: 24 × 20\n",
       "\\begin{tabular}{llllllllllllllllllll}\n",
       " Annee & n\\_samples & n\\_trials & percent & min\\_nblocs & max\\_nblocs & min\\_ntreat & max\\_ntreat & min\\_GS & mean\\_GS & max\\_GS & min\\_T & mean\\_T & max\\_T & min\\_PPT & mean\\_PPT & max\\_PPT & min\\_GDD & mean\\_GDD & max\\_GDD\\\\\n",
       " <int> & <int> & <int> & <dbl> & <int> & <int> & <int> & <int> & <int> & <dbl> & <int> & <dbl> & <dbl> & <dbl> & <dbl> & <dbl> & <dbl> & <dbl> & <dbl> & <dbl>\\\\\n",
       "\\hline\n",
       "\t 1993 & 144 &  6 &  3.3850494 & 3 & 3 & 27 & 27 & 121 & 124.9375 & 127 & 16.45143 & 16.61873 & 16.79694 & 412.28 & 419.0437 & 424.62 & 1952.96 & 2046.755 & 2082.16\\\\\n",
       "\t 1994 &  84 &  3 &  1.9746121 & 3 & 3 & 10 & 10 & 124 & 124.6429 & 125 & 17.20701 & 17.23104 & 17.27429 & 439.32 & 440.6571 & 441.40 & 2145.36 & 2151.056 & 2154.22\\\\\n",
       "\t 1995 &  81 &  3 &  1.9040903 & 3 & 3 &  9 &  9 & 106 & 108.6667 & 114 & 17.52958 & 17.70927 & 17.79911 & 444.46 & 450.8600 & 463.66 & 1890.40 & 1927.600 & 2002.00\\\\\n",
       "\t 1996 & 118 &  8 &  2.7738599 & 6 & 6 & 11 & 11 & 102 & 119.8729 & 134 & 15.96156 & 17.09373 & 18.68296 & 371.40 & 449.8437 & 529.12 & 1631.00 & 2048.192 & 2264.86\\\\\n",
       "\t 1997 & 306 &  8 &  7.1932299 & 6 & 6 & 22 & 22 &  98 & 116.3333 & 123 & 15.76802 & 17.15782 & 18.81005 & 343.84 & 470.6990 & 537.64 & 1627.28 & 1990.232 & 2116.28\\\\\n",
       "\t 1998 & 273 & 14 &  6.4174894 & 6 & 6 &  5 &  5 & 107 & 122.7363 & 131 & 17.06717 & 17.64268 & 17.94491 & 358.68 & 387.8716 & 443.46 & 1983.14 & 2081.190 & 2132.68\\\\\n",
       "\t 1999 & 285 & 11 &  6.6995769 & 6 & 6 & 14 & 14 & 120 & 125.4175 & 128 & 16.98877 & 17.83282 & 18.26183 & 377.40 & 413.1774 & 506.56 & 2042.16 & 2101.210 & 2165.40\\\\\n",
       "\t 2000 & 183 &  8 &  4.3018336 & 6 & 6 &  5 &  5 & 122 & 122.0000 & 122 & 18.72810 & 18.72810 & 18.72810 & 279.80 & 279.8000 & 279.80 & 1833.22 & 1833.220 & 1833.22\\\\\n",
       "\t 2002 &  68 &  2 &  1.5984955 & 4 & 4 & 11 & 11 & 137 & 137.0000 & 137 & 16.94787 & 16.94787 & 16.94787 & 504.18 & 504.1800 & 504.18 & 2225.96 & 2225.960 & 2225.96\\\\\n",
       "\t 2003 & 154 & 14 &  3.6201222 & 3 & 3 & 10 & 10 &  98 & 111.5974 & 122 & 16.51102 & 17.36567 & 18.50810 & 296.16 & 351.6496 & 394.76 & 1626.76 & 1839.950 & 2035.10\\\\\n",
       "\t 2004 & 144 &  9 &  3.3850494 & 3 & 3 & 10 & 10 &  98 & 125.5625 & 133 & 16.47265 & 17.09950 & 17.87477 & 281.04 & 406.4617 & 490.30 & 1522.24 & 2058.211 & 2323.72\\\\\n",
       "\t 2005 & 209 & 13 &  4.9130230 & 3 & 3 & 11 & 11 & 110 & 121.6746 & 133 & 15.98275 & 16.77822 & 17.64846 & 311.02 & 379.2301 & 529.72 & 1613.94 & 1944.485 & 2259.26\\\\\n",
       "\t 2006 &  74 &  4 &  1.7395393 & 3 & 3 & 10 & 10 & 104 & 122.6081 & 134 & 16.55007 & 17.34507 & 17.73383 &   0.00 & 245.1419 & 431.10 &  880.76 & 1606.893 & 2379.88\\\\\n",
       "\t 2007 & 168 & 11 &  3.9492243 & 3 & 3 & 11 & 11 & 108 & 123.5714 & 131 & 16.27537 & 17.45304 & 18.18317 & 325.28 & 444.9607 & 513.24 & 1602.34 & 2134.752 & 2293.96\\\\\n",
       "\t 2008 &  62 &  3 &  1.4574518 & 3 & 3 &  7 &  7 & 116 & 116.0000 & 116 & 17.83380 & 17.83380 & 17.83380 & 454.68 & 454.6800 & 454.68 & 2072.14 & 2072.140 & 2072.14\\\\\n",
       "\t 2009 & 117 &  6 &  2.7503526 & 5 & 5 &  8 &  8 & 130 & 135.2821 & 143 & 16.00858 & 16.66053 & 17.23544 & 476.08 & 536.1520 & 580.94 & 1939.02 & 2194.755 & 2421.80\\\\\n",
       "\t 2010 & 148 &  8 &  3.4790785 & 4 & 4 &  8 &  8 & 110 & 119.6486 & 129 & 16.01102 & 17.07535 & 17.64958 & 367.94 & 460.8293 & 505.02 & 1278.66 & 1935.434 & 2243.28\\\\\n",
       "\t 2011 & 214 & 11 &  5.0305595 & 4 & 4 &  8 &  8 & 103 & 112.1589 & 119 & 11.85925 & 16.61874 & 17.92179 & 246.00 & 390.1529 & 457.90 & 1146.30 & 1678.601 & 2071.08\\\\\n",
       "\t 2012 & 268 & 13 &  6.2999530 & 4 & 4 &  8 &  8 & 103 & 121.2500 & 136 & 15.37791 & 16.93269 & 17.65248 & 311.50 & 468.6505 & 545.02 & 1087.94 & 1882.487 & 2291.56\\\\\n",
       "\t 2013 & 342 & 16 &  8.0394922 & 4 & 4 &  8 &  8 &  91 & 119.1813 & 136 & 14.70788 & 16.95789 & 18.17355 & 280.24 & 434.4810 & 505.28 & 1093.74 & 1765.290 & 2231.86\\\\\n",
       "\t 2014 & 534 & 25 & 12.5528914 & 4 & 4 & 10 & 10 &  94 & 116.9981 & 133 & 11.74825 & 17.31508 & 19.90396 &  61.68 & 339.8381 & 574.72 &  340.84 & 1560.519 & 2330.10\\\\\n",
       "\t 2015 &  18 &  1 &  0.4231312 & 3 & 3 &  6 &  6 & 131 & 131.0000 & 131 & 18.62190 & 18.62190 & 18.62190 & 472.46 & 472.4600 & 472.46 & 2428.38 & 2428.380 & 2428.38\\\\\n",
       "\t 2016 &  48 &  5 &  1.1283498 & 3 & 3 &  6 &  6 & 115 & 125.1667 & 136 & 16.67367 & 17.67821 & 18.60586 & 389.34 & 463.7142 & 515.32 &  653.92 & 1684.890 & 2430.20\\\\\n",
       "\t 2017 & 212 & 12 &  4.9835449 & 3 & 3 &  8 &  8 & 106 & 119.9057 & 135 & 16.64905 & 17.37066 & 19.00922 & 279.20 & 377.2143 & 440.74 &  638.92 & 1512.194 & 2093.74\\\\\n",
       "\\end{tabular}\n"
      ],
      "text/markdown": [
       "\n",
       "A tibble: 24 × 20\n",
       "\n",
       "| Annee &lt;int&gt; | n_samples &lt;int&gt; | n_trials &lt;int&gt; | percent &lt;dbl&gt; | min_nblocs &lt;int&gt; | max_nblocs &lt;int&gt; | min_ntreat &lt;int&gt; | max_ntreat &lt;int&gt; | min_GS &lt;int&gt; | mean_GS &lt;dbl&gt; | max_GS &lt;int&gt; | min_T &lt;dbl&gt; | mean_T &lt;dbl&gt; | max_T &lt;dbl&gt; | min_PPT &lt;dbl&gt; | mean_PPT &lt;dbl&gt; | max_PPT &lt;dbl&gt; | min_GDD &lt;dbl&gt; | mean_GDD &lt;dbl&gt; | max_GDD &lt;dbl&gt; |\n",
       "|---|---|---|---|---|---|---|---|---|---|---|---|---|---|---|---|---|---|---|---|\n",
       "| 1993 | 144 |  6 |  3.3850494 | 3 | 3 | 27 | 27 | 121 | 124.9375 | 127 | 16.45143 | 16.61873 | 16.79694 | 412.28 | 419.0437 | 424.62 | 1952.96 | 2046.755 | 2082.16 |\n",
       "| 1994 |  84 |  3 |  1.9746121 | 3 | 3 | 10 | 10 | 124 | 124.6429 | 125 | 17.20701 | 17.23104 | 17.27429 | 439.32 | 440.6571 | 441.40 | 2145.36 | 2151.056 | 2154.22 |\n",
       "| 1995 |  81 |  3 |  1.9040903 | 3 | 3 |  9 |  9 | 106 | 108.6667 | 114 | 17.52958 | 17.70927 | 17.79911 | 444.46 | 450.8600 | 463.66 | 1890.40 | 1927.600 | 2002.00 |\n",
       "| 1996 | 118 |  8 |  2.7738599 | 6 | 6 | 11 | 11 | 102 | 119.8729 | 134 | 15.96156 | 17.09373 | 18.68296 | 371.40 | 449.8437 | 529.12 | 1631.00 | 2048.192 | 2264.86 |\n",
       "| 1997 | 306 |  8 |  7.1932299 | 6 | 6 | 22 | 22 |  98 | 116.3333 | 123 | 15.76802 | 17.15782 | 18.81005 | 343.84 | 470.6990 | 537.64 | 1627.28 | 1990.232 | 2116.28 |\n",
       "| 1998 | 273 | 14 |  6.4174894 | 6 | 6 |  5 |  5 | 107 | 122.7363 | 131 | 17.06717 | 17.64268 | 17.94491 | 358.68 | 387.8716 | 443.46 | 1983.14 | 2081.190 | 2132.68 |\n",
       "| 1999 | 285 | 11 |  6.6995769 | 6 | 6 | 14 | 14 | 120 | 125.4175 | 128 | 16.98877 | 17.83282 | 18.26183 | 377.40 | 413.1774 | 506.56 | 2042.16 | 2101.210 | 2165.40 |\n",
       "| 2000 | 183 |  8 |  4.3018336 | 6 | 6 |  5 |  5 | 122 | 122.0000 | 122 | 18.72810 | 18.72810 | 18.72810 | 279.80 | 279.8000 | 279.80 | 1833.22 | 1833.220 | 1833.22 |\n",
       "| 2002 |  68 |  2 |  1.5984955 | 4 | 4 | 11 | 11 | 137 | 137.0000 | 137 | 16.94787 | 16.94787 | 16.94787 | 504.18 | 504.1800 | 504.18 | 2225.96 | 2225.960 | 2225.96 |\n",
       "| 2003 | 154 | 14 |  3.6201222 | 3 | 3 | 10 | 10 |  98 | 111.5974 | 122 | 16.51102 | 17.36567 | 18.50810 | 296.16 | 351.6496 | 394.76 | 1626.76 | 1839.950 | 2035.10 |\n",
       "| 2004 | 144 |  9 |  3.3850494 | 3 | 3 | 10 | 10 |  98 | 125.5625 | 133 | 16.47265 | 17.09950 | 17.87477 | 281.04 | 406.4617 | 490.30 | 1522.24 | 2058.211 | 2323.72 |\n",
       "| 2005 | 209 | 13 |  4.9130230 | 3 | 3 | 11 | 11 | 110 | 121.6746 | 133 | 15.98275 | 16.77822 | 17.64846 | 311.02 | 379.2301 | 529.72 | 1613.94 | 1944.485 | 2259.26 |\n",
       "| 2006 |  74 |  4 |  1.7395393 | 3 | 3 | 10 | 10 | 104 | 122.6081 | 134 | 16.55007 | 17.34507 | 17.73383 |   0.00 | 245.1419 | 431.10 |  880.76 | 1606.893 | 2379.88 |\n",
       "| 2007 | 168 | 11 |  3.9492243 | 3 | 3 | 11 | 11 | 108 | 123.5714 | 131 | 16.27537 | 17.45304 | 18.18317 | 325.28 | 444.9607 | 513.24 | 1602.34 | 2134.752 | 2293.96 |\n",
       "| 2008 |  62 |  3 |  1.4574518 | 3 | 3 |  7 |  7 | 116 | 116.0000 | 116 | 17.83380 | 17.83380 | 17.83380 | 454.68 | 454.6800 | 454.68 | 2072.14 | 2072.140 | 2072.14 |\n",
       "| 2009 | 117 |  6 |  2.7503526 | 5 | 5 |  8 |  8 | 130 | 135.2821 | 143 | 16.00858 | 16.66053 | 17.23544 | 476.08 | 536.1520 | 580.94 | 1939.02 | 2194.755 | 2421.80 |\n",
       "| 2010 | 148 |  8 |  3.4790785 | 4 | 4 |  8 |  8 | 110 | 119.6486 | 129 | 16.01102 | 17.07535 | 17.64958 | 367.94 | 460.8293 | 505.02 | 1278.66 | 1935.434 | 2243.28 |\n",
       "| 2011 | 214 | 11 |  5.0305595 | 4 | 4 |  8 |  8 | 103 | 112.1589 | 119 | 11.85925 | 16.61874 | 17.92179 | 246.00 | 390.1529 | 457.90 | 1146.30 | 1678.601 | 2071.08 |\n",
       "| 2012 | 268 | 13 |  6.2999530 | 4 | 4 |  8 |  8 | 103 | 121.2500 | 136 | 15.37791 | 16.93269 | 17.65248 | 311.50 | 468.6505 | 545.02 | 1087.94 | 1882.487 | 2291.56 |\n",
       "| 2013 | 342 | 16 |  8.0394922 | 4 | 4 |  8 |  8 |  91 | 119.1813 | 136 | 14.70788 | 16.95789 | 18.17355 | 280.24 | 434.4810 | 505.28 | 1093.74 | 1765.290 | 2231.86 |\n",
       "| 2014 | 534 | 25 | 12.5528914 | 4 | 4 | 10 | 10 |  94 | 116.9981 | 133 | 11.74825 | 17.31508 | 19.90396 |  61.68 | 339.8381 | 574.72 |  340.84 | 1560.519 | 2330.10 |\n",
       "| 2015 |  18 |  1 |  0.4231312 | 3 | 3 |  6 |  6 | 131 | 131.0000 | 131 | 18.62190 | 18.62190 | 18.62190 | 472.46 | 472.4600 | 472.46 | 2428.38 | 2428.380 | 2428.38 |\n",
       "| 2016 |  48 |  5 |  1.1283498 | 3 | 3 |  6 |  6 | 115 | 125.1667 | 136 | 16.67367 | 17.67821 | 18.60586 | 389.34 | 463.7142 | 515.32 |  653.92 | 1684.890 | 2430.20 |\n",
       "| 2017 | 212 | 12 |  4.9835449 | 3 | 3 |  8 |  8 | 106 | 119.9057 | 135 | 16.64905 | 17.37066 | 19.00922 | 279.20 | 377.2143 | 440.74 |  638.92 | 1512.194 | 2093.74 |\n",
       "\n"
      ],
      "text/plain": [
       "   Annee n_samples n_trials percent    min_nblocs max_nblocs min_ntreat\n",
       "1  1993  144        6        3.3850494 3          3          27        \n",
       "2  1994   84        3        1.9746121 3          3          10        \n",
       "3  1995   81        3        1.9040903 3          3           9        \n",
       "4  1996  118        8        2.7738599 6          6          11        \n",
       "5  1997  306        8        7.1932299 6          6          22        \n",
       "6  1998  273       14        6.4174894 6          6           5        \n",
       "7  1999  285       11        6.6995769 6          6          14        \n",
       "8  2000  183        8        4.3018336 6          6           5        \n",
       "9  2002   68        2        1.5984955 4          4          11        \n",
       "10 2003  154       14        3.6201222 3          3          10        \n",
       "11 2004  144        9        3.3850494 3          3          10        \n",
       "12 2005  209       13        4.9130230 3          3          11        \n",
       "13 2006   74        4        1.7395393 3          3          10        \n",
       "14 2007  168       11        3.9492243 3          3          11        \n",
       "15 2008   62        3        1.4574518 3          3           7        \n",
       "16 2009  117        6        2.7503526 5          5           8        \n",
       "17 2010  148        8        3.4790785 4          4           8        \n",
       "18 2011  214       11        5.0305595 4          4           8        \n",
       "19 2012  268       13        6.2999530 4          4           8        \n",
       "20 2013  342       16        8.0394922 4          4           8        \n",
       "21 2014  534       25       12.5528914 4          4          10        \n",
       "22 2015   18        1        0.4231312 3          3           6        \n",
       "23 2016   48        5        1.1283498 3          3           6        \n",
       "24 2017  212       12        4.9835449 3          3           8        \n",
       "   max_ntreat min_GS mean_GS  max_GS min_T    mean_T   max_T    min_PPT\n",
       "1  27         121    124.9375 127    16.45143 16.61873 16.79694 412.28 \n",
       "2  10         124    124.6429 125    17.20701 17.23104 17.27429 439.32 \n",
       "3   9         106    108.6667 114    17.52958 17.70927 17.79911 444.46 \n",
       "4  11         102    119.8729 134    15.96156 17.09373 18.68296 371.40 \n",
       "5  22          98    116.3333 123    15.76802 17.15782 18.81005 343.84 \n",
       "6   5         107    122.7363 131    17.06717 17.64268 17.94491 358.68 \n",
       "7  14         120    125.4175 128    16.98877 17.83282 18.26183 377.40 \n",
       "8   5         122    122.0000 122    18.72810 18.72810 18.72810 279.80 \n",
       "9  11         137    137.0000 137    16.94787 16.94787 16.94787 504.18 \n",
       "10 10          98    111.5974 122    16.51102 17.36567 18.50810 296.16 \n",
       "11 10          98    125.5625 133    16.47265 17.09950 17.87477 281.04 \n",
       "12 11         110    121.6746 133    15.98275 16.77822 17.64846 311.02 \n",
       "13 10         104    122.6081 134    16.55007 17.34507 17.73383   0.00 \n",
       "14 11         108    123.5714 131    16.27537 17.45304 18.18317 325.28 \n",
       "15  7         116    116.0000 116    17.83380 17.83380 17.83380 454.68 \n",
       "16  8         130    135.2821 143    16.00858 16.66053 17.23544 476.08 \n",
       "17  8         110    119.6486 129    16.01102 17.07535 17.64958 367.94 \n",
       "18  8         103    112.1589 119    11.85925 16.61874 17.92179 246.00 \n",
       "19  8         103    121.2500 136    15.37791 16.93269 17.65248 311.50 \n",
       "20  8          91    119.1813 136    14.70788 16.95789 18.17355 280.24 \n",
       "21 10          94    116.9981 133    11.74825 17.31508 19.90396  61.68 \n",
       "22  6         131    131.0000 131    18.62190 18.62190 18.62190 472.46 \n",
       "23  6         115    125.1667 136    16.67367 17.67821 18.60586 389.34 \n",
       "24  8         106    119.9057 135    16.64905 17.37066 19.00922 279.20 \n",
       "   mean_PPT max_PPT min_GDD mean_GDD max_GDD\n",
       "1  419.0437 424.62  1952.96 2046.755 2082.16\n",
       "2  440.6571 441.40  2145.36 2151.056 2154.22\n",
       "3  450.8600 463.66  1890.40 1927.600 2002.00\n",
       "4  449.8437 529.12  1631.00 2048.192 2264.86\n",
       "5  470.6990 537.64  1627.28 1990.232 2116.28\n",
       "6  387.8716 443.46  1983.14 2081.190 2132.68\n",
       "7  413.1774 506.56  2042.16 2101.210 2165.40\n",
       "8  279.8000 279.80  1833.22 1833.220 1833.22\n",
       "9  504.1800 504.18  2225.96 2225.960 2225.96\n",
       "10 351.6496 394.76  1626.76 1839.950 2035.10\n",
       "11 406.4617 490.30  1522.24 2058.211 2323.72\n",
       "12 379.2301 529.72  1613.94 1944.485 2259.26\n",
       "13 245.1419 431.10   880.76 1606.893 2379.88\n",
       "14 444.9607 513.24  1602.34 2134.752 2293.96\n",
       "15 454.6800 454.68  2072.14 2072.140 2072.14\n",
       "16 536.1520 580.94  1939.02 2194.755 2421.80\n",
       "17 460.8293 505.02  1278.66 1935.434 2243.28\n",
       "18 390.1529 457.90  1146.30 1678.601 2071.08\n",
       "19 468.6505 545.02  1087.94 1882.487 2291.56\n",
       "20 434.4810 505.28  1093.74 1765.290 2231.86\n",
       "21 339.8381 574.72   340.84 1560.519 2330.10\n",
       "22 472.4600 472.46  2428.38 2428.380 2428.38\n",
       "23 463.7142 515.32   653.92 1684.890 2430.20\n",
       "24 377.2143 440.74   638.92 1512.194 2093.74"
      ]
     },
     "metadata": {},
     "output_type": "display_data"
    }
   ],
   "source": [
    "stat_sg <- PoidsSpec_ml_df %>%\n",
    "    select(\"NoEssai\", \"NoBloc\", \"NoTraitement\", \"Cultivar\", \"Maturity5\", \"Annee\", \"DensitePlants\",  \n",
    "           \"growing.season\", 'temp_moy_5years', 'prec_tot_5years', 'gdd_5years') %>%\n",
    "    group_by(Annee) %>%\n",
    "    summarise(n_samples = n(), \n",
    "              n_trials = n_distinct(NoEssai),\n",
    "              percent = 100*n_samples/nrow(PoidsSpec_ml_df), \n",
    "              min_nblocs = min(n_distinct(NoBloc)), max_nblocs = max(n_distinct(NoBloc)),\n",
    "              min_ntreat = min(n_distinct(NoTraitement)), max_ntreat = max(n_distinct(NoTraitement)),\n",
    "              min_GS = min(growing.season), mean_GS = mean(growing.season), max_GS = max(growing.season),\n",
    "              min_T = min(temp_moy_5years), mean_T = mean(temp_moy_5years), max_T = max(temp_moy_5years),\n",
    "              min_PPT = min(prec_tot_5years), mean_PPT = mean(prec_tot_5years), max_PPT = max(prec_tot_5years),\n",
    "              min_GDD = min(gdd_5years), mean_GDD = mean(gdd_5years), max_GDD = max(gdd_5years)\n",
    "              )\n",
    "stat_sg\n",
    "write_csv(stat_sg, \"output/stat_sg.csv\")"
   ]
  },
  {
   "cell_type": "code",
   "execution_count": 69,
   "metadata": {},
   "outputs": [],
   "source": [
    "PoidsSpec_ml_df <- left_join(PoidsSpec_ml_df, test_type, by = \"index\") %>% \n",
    "                    select(-index, -RendVendableMaxParEssai, -Annee)"
   ]
  },
  {
   "cell_type": "markdown",
   "metadata": {},
   "source": [
    "The __df_PoidsSpec.csv__ global structure:"
   ]
  },
  {
   "cell_type": "code",
   "execution_count": 70,
   "metadata": {},
   "outputs": [
    {
     "name": "stderr",
     "output_type": "stream",
     "text": [
      "Warning message:\n",
      "\"Factor `test_type` contains implicit NA, consider using `forcats::fct_explicit_na`\"\n"
     ]
    },
    {
     "data": {
      "text/html": [
       "<table>\n",
       "<caption>A tibble: 5 × 10</caption>\n",
       "<thead>\n",
       "\t<tr><th scope=col>test_type</th><th scope=col>n_samples</th><th scope=col>n_trials</th><th scope=col>percent</th><th scope=col>N_min</th><th scope=col>N_max</th><th scope=col>P_min</th><th scope=col>P_max</th><th scope=col>K_min</th><th scope=col>K_max</th></tr>\n",
       "\t<tr><th scope=col>&lt;fct&gt;</th><th scope=col>&lt;int&gt;</th><th scope=col>&lt;int&gt;</th><th scope=col>&lt;dbl&gt;</th><th scope=col>&lt;dbl&gt;</th><th scope=col>&lt;dbl&gt;</th><th scope=col>&lt;dbl&gt;</th><th scope=col>&lt;dbl&gt;</th><th scope=col>&lt;dbl&gt;</th><th scope=col>&lt;dbl&gt;</th></tr>\n",
       "</thead>\n",
       "<tbody>\n",
       "\t<tr><td>K  </td><td> 880</td><td> 42</td><td>20.6864128</td><td> 80</td><td>260</td><td> 75</td><td>240</td><td> 0</td><td>420</td></tr>\n",
       "\t<tr><td>N  </td><td>1956</td><td>117</td><td>45.9802539</td><td>  0</td><td>250</td><td> 88</td><td>215</td><td>57</td><td>270</td></tr>\n",
       "\t<tr><td>NPK</td><td> 410</td><td> 16</td><td> 9.6379878</td><td>  0</td><td>225</td><td>  0</td><td>300</td><td> 0</td><td>300</td></tr>\n",
       "\t<tr><td>P  </td><td> 990</td><td> 38</td><td>23.2722144</td><td>110</td><td>260</td><td>  0</td><td>300</td><td> 0</td><td>270</td></tr>\n",
       "\t<tr><td>NA </td><td>  18</td><td>  1</td><td> 0.4231312</td><td>218</td><td>218</td><td>110</td><td>110</td><td>55</td><td> 55</td></tr>\n",
       "</tbody>\n",
       "</table>\n"
      ],
      "text/latex": [
       "A tibble: 5 × 10\n",
       "\\begin{tabular}{llllllllll}\n",
       " test\\_type & n\\_samples & n\\_trials & percent & N\\_min & N\\_max & P\\_min & P\\_max & K\\_min & K\\_max\\\\\n",
       " <fct> & <int> & <int> & <dbl> & <dbl> & <dbl> & <dbl> & <dbl> & <dbl> & <dbl>\\\\\n",
       "\\hline\n",
       "\t K   &  880 &  42 & 20.6864128 &  80 & 260 &  75 & 240 &  0 & 420\\\\\n",
       "\t N   & 1956 & 117 & 45.9802539 &   0 & 250 &  88 & 215 & 57 & 270\\\\\n",
       "\t NPK &  410 &  16 &  9.6379878 &   0 & 225 &   0 & 300 &  0 & 300\\\\\n",
       "\t P   &  990 &  38 & 23.2722144 & 110 & 260 &   0 & 300 &  0 & 270\\\\\n",
       "\t NA  &   18 &   1 &  0.4231312 & 218 & 218 & 110 & 110 & 55 &  55\\\\\n",
       "\\end{tabular}\n"
      ],
      "text/markdown": [
       "\n",
       "A tibble: 5 × 10\n",
       "\n",
       "| test_type &lt;fct&gt; | n_samples &lt;int&gt; | n_trials &lt;int&gt; | percent &lt;dbl&gt; | N_min &lt;dbl&gt; | N_max &lt;dbl&gt; | P_min &lt;dbl&gt; | P_max &lt;dbl&gt; | K_min &lt;dbl&gt; | K_max &lt;dbl&gt; |\n",
       "|---|---|---|---|---|---|---|---|---|---|\n",
       "| K   |  880 |  42 | 20.6864128 |  80 | 260 |  75 | 240 |  0 | 420 |\n",
       "| N   | 1956 | 117 | 45.9802539 |   0 | 250 |  88 | 215 | 57 | 270 |\n",
       "| NPK |  410 |  16 |  9.6379878 |   0 | 225 |   0 | 300 |  0 | 300 |\n",
       "| P   |  990 |  38 | 23.2722144 | 110 | 260 |   0 | 300 |  0 | 270 |\n",
       "| NA  |   18 |   1 |  0.4231312 | 218 | 218 | 110 | 110 | 55 |  55 |\n",
       "\n"
      ],
      "text/plain": [
       "  test_type n_samples n_trials percent    N_min N_max P_min P_max K_min K_max\n",
       "1 K          880       42      20.6864128  80   260    75   240    0    420  \n",
       "2 N         1956      117      45.9802539   0   250    88   215   57    270  \n",
       "3 NPK        410       16       9.6379878   0   225     0   300    0    300  \n",
       "4 P          990       38      23.2722144 110   260     0   300    0    270  \n",
       "5 NA          18        1       0.4231312 218   218   110   110   55     55  "
      ]
     },
     "metadata": {},
     "output_type": "display_data"
    }
   ],
   "source": [
    "stat3 <- PoidsSpec_ml_df %>%\n",
    "    select(\"NoEssai\", \"NoBloc\", \"NoTraitement\", \"NtotDose\", \"PtotDose\", \"KtotDose\", 'test_type') %>%\n",
    "    group_by(test_type) %>%\n",
    "    summarise(n_samples = n(), \n",
    "              n_trials = n_distinct(NoEssai),\n",
    "              percent = 100*n_samples/nrow(PoidsSpec_ml_df), \n",
    "              N_min = min(NtotDose), N_max = max(NtotDose),\n",
    "              P_min = min(PtotDose), P_max = max(PtotDose),\n",
    "              K_min = min(KtotDose), K_max = max(KtotDose))\n",
    "stat3"
   ]
  },
  {
   "cell_type": "markdown",
   "metadata": {},
   "source": [
    "We export this table as __`df_PoidsSpec.csv`__ for GP in Python."
   ]
  },
  {
   "cell_type": "code",
   "execution_count": 71,
   "metadata": {},
   "outputs": [],
   "source": [
    "write_csv(PoidsSpec_ml_df, \"output/df_PoidsSpec.csv\")"
   ]
  },
  {
   "cell_type": "markdown",
   "metadata": {},
   "source": [
    "### Common table for trial selection in python codes"
   ]
  },
  {
   "cell_type": "code",
   "execution_count": 68,
   "metadata": {},
   "outputs": [],
   "source": [
    "sg_inliers <- read.csv('output/sg_inliers.csv') # after the deletion of outliers in the dataset used for specific gravity (1.4.4)."
   ]
  },
  {
   "cell_type": "code",
   "execution_count": 23,
   "metadata": {},
   "outputs": [],
   "source": [
    "common_df <- RendVendable_ml_df %>%\n",
    "    filter(NoEssai %in% tuberSize$NoEssai) %>%\n",
    "    filter(NoEssai %in% sg_inliers$NoEssai) %>%\n",
    "    select(keys_col, dose_vars, RendVendable)\n",
    "write_csv(common_df, 'output/common_df.csv')"
   ]
  },
  {
   "cell_type": "markdown",
   "metadata": {},
   "source": [
    "### Other informations for the article"
   ]
  },
  {
   "cell_type": "code",
   "execution_count": 24,
   "metadata": {},
   "outputs": [
    {
     "name": "stderr",
     "output_type": "stream",
     "text": [
      "Warning message:\n",
      "\"Factor `test_type` contains implicit NA, consider using `forcats::fct_explicit_na`\"Adding missing grouping variables: `test_type`\n"
     ]
    },
    {
     "data": {
      "text/html": [
       "<table>\n",
       "<caption>A matrix: 2 × 5 of type chr</caption>\n",
       "<tbody>\n",
       "\t<tr><th scope=row>test_type</th><td>K    </td><td>N    </td><td>NPK  </td><td>P    </td><td>NA   </td></tr>\n",
       "\t<tr><th scope=row>DensitePlants</th><td>36430</td><td>36036</td><td>43716</td><td>33118</td><td>31223</td></tr>\n",
       "</tbody>\n",
       "</table>\n"
      ],
      "text/latex": [
       "A matrix: 2 × 5 of type chr\n",
       "\\begin{tabular}{r|lllll}\n",
       "\ttest\\_type & K     & N     & NPK   & P     & NA   \\\\\n",
       "\tDensitePlants & 36430 & 36036 & 43716 & 33118 & 31223\\\\\n",
       "\\end{tabular}\n"
      ],
      "text/markdown": [
       "\n",
       "A matrix: 2 × 5 of type chr\n",
       "\n",
       "| test_type | K     | N     | NPK   | P     | NA    |\n",
       "| DensitePlants | 36430 | 36036 | 43716 | 33118 | 31223 |\n",
       "\n"
      ],
      "text/plain": [
       "              [,1]  [,2]  [,3]  [,4]  [,5] \n",
       "test_type     K     N     NPK   P     NA   \n",
       "DensitePlants 36430 36036 43716 33118 31223"
      ]
     },
     "metadata": {},
     "output_type": "display_data"
    }
   ],
   "source": [
    "t(RendVendable_ml_df %>%\n",
    "    group_by(test_type) %>%\n",
    "    select(DensitePlants) %>%\n",
    "    summarize_all(list(median)))"
   ]
  },
  {
   "cell_type": "code",
   "execution_count": 25,
   "metadata": {},
   "outputs": [
    {
     "data": {
      "text/plain": [
       "  RendVendable    growing.season  DensitePlants   temp_moy_5years\n",
       " Min.   : 2.536   Min.   : 91.0   Min.   :26667   Min.   :11.75  \n",
       " 1st Qu.:26.284   1st Qu.:113.0   1st Qu.:31227   1st Qu.:16.67  \n",
       " Median :32.557   Median :122.0   Median :36430   Median :17.12  \n",
       " Mean   :33.208   Mean   :120.4   Mean   :37580   Mean   :17.20  \n",
       " 3rd Qu.:39.426   3rd Qu.:130.0   3rd Qu.:43716   3rd Qu.:17.80  \n",
       " Max.   :86.157   Max.   :143.0   Max.   :54645   Max.   :19.90  \n",
       " prec_tot_5years    soil_pH          soil_P            soil_K      \n",
       " Min.   :  0.0   Min.   :4.617   Min.   :  2.153   Min.   : 10.06  \n",
       " 1st Qu.:358.7   1st Qu.:5.400   1st Qu.: 49.038   1st Qu.: 69.15  \n",
       " Median :412.3   Median :5.550   Median :110.000   Median :122.00  \n",
       " Mean   :402.6   Mean   :5.645   Mean   :144.843   Mean   :134.43  \n",
       " 3rd Qu.:461.8   3rd Qu.:5.876   3rd Qu.:169.000   3rd Qu.:179.62  \n",
       " Max.   :580.9   Max.   :6.986   Max.   :667.500   Max.   :497.18  \n",
       "    soil_Al      \n",
       " Min.   : 343.2  \n",
       " 1st Qu.:1280.8  \n",
       " Median :1445.9  \n",
       " Mean   :1531.7  \n",
       " 3rd Qu.:1830.1  \n",
       " Max.   :3343.6  "
      ]
     },
     "metadata": {},
     "output_type": "display_data"
    }
   ],
   "source": [
    "summary(RendVendable_ml_df %>% \n",
    "            select(RendVendable, growing.season, DensitePlants, temp_moy_5years, prec_tot_5years, soil_pH, soil_P, soil_K, soil_Al))"
   ]
  },
  {
   "cell_type": "code",
   "execution_count": 28,
   "metadata": {},
   "outputs": [
    {
     "data": {
      "text/html": [
       "<table>\n",
       "<caption>A data.frame: 1 × 4</caption>\n",
       "<thead>\n",
       "\t<tr><th scope=col>X</th><th scope=col>NoEssai</th><th scope=col>test_type</th><th scope=col>ID</th></tr>\n",
       "\t<tr><th scope=col>&lt;int&gt;</th><th scope=col>&lt;int&gt;</th><th scope=col>&lt;fct&gt;</th><th scope=col>&lt;fct&gt;</th></tr>\n",
       "</thead>\n",
       "<tbody>\n",
       "\t<tr><td>2540</td><td>194</td><td>P</td><td>194-2-4</td></tr>\n",
       "</tbody>\n",
       "</table>\n"
      ],
      "text/latex": [
       "A data.frame: 1 × 4\n",
       "\\begin{tabular}{r|llll}\n",
       " X & NoEssai & test\\_type & ID\\\\\n",
       " <int> & <int> & <fct> & <fct>\\\\\n",
       "\\hline\n",
       "\t 2540 & 194 & P & 194-2-4\\\\\n",
       "\\end{tabular}\n"
      ],
      "text/markdown": [
       "\n",
       "A data.frame: 1 × 4\n",
       "\n",
       "| X &lt;int&gt; | NoEssai &lt;int&gt; | test_type &lt;fct&gt; | ID &lt;fct&gt; |\n",
       "|---|---|---|---|\n",
       "| 2540 | 194 | P | 194-2-4 |\n",
       "\n"
      ],
      "text/plain": [
       "  X    NoEssai test_type ID     \n",
       "1 2540 194     P         194-2-4"
      ]
     },
     "metadata": {},
     "output_type": "display_data"
    },
    {
     "data": {
      "text/html": [
       "<table>\n",
       "<caption>A data.frame: 3 × 4</caption>\n",
       "<thead>\n",
       "\t<tr><th scope=col>X</th><th scope=col>NoEssai</th><th scope=col>test_type</th><th scope=col>ID</th></tr>\n",
       "\t<tr><th scope=col>&lt;int&gt;</th><th scope=col>&lt;int&gt;</th><th scope=col>&lt;fct&gt;</th><th scope=col>&lt;fct&gt;</th></tr>\n",
       "</thead>\n",
       "<tbody>\n",
       "\t<tr><td>1745</td><td>8804</td><td>N</td><td>8804-5-5</td></tr>\n",
       "\t<tr><td>5524</td><td> 412</td><td>P</td><td>412-3-4 </td></tr>\n",
       "\t<tr><td>3843</td><td> 320</td><td>K</td><td>320-3-3 </td></tr>\n",
       "</tbody>\n",
       "</table>\n"
      ],
      "text/latex": [
       "A data.frame: 3 × 4\n",
       "\\begin{tabular}{r|llll}\n",
       " X & NoEssai & test\\_type & ID\\\\\n",
       " <int> & <int> & <fct> & <fct>\\\\\n",
       "\\hline\n",
       "\t 1745 & 8804 & N & 8804-5-5\\\\\n",
       "\t 5524 &  412 & P & 412-3-4 \\\\\n",
       "\t 3843 &  320 & K & 320-3-3 \\\\\n",
       "\\end{tabular}\n"
      ],
      "text/markdown": [
       "\n",
       "A data.frame: 3 × 4\n",
       "\n",
       "| X &lt;int&gt; | NoEssai &lt;int&gt; | test_type &lt;fct&gt; | ID &lt;fct&gt; |\n",
       "|---|---|---|---|\n",
       "| 1745 | 8804 | N | 8804-5-5 |\n",
       "| 5524 |  412 | P | 412-3-4  |\n",
       "| 3843 |  320 | K | 320-3-3  |\n",
       "\n"
      ],
      "text/plain": [
       "  X    NoEssai test_type ID      \n",
       "1 1745 8804    N         8804-5-5\n",
       "2 5524  412    P         412-3-4 \n",
       "3 3843  320    K         320-3-3 "
      ]
     },
     "metadata": {},
     "output_type": "display_data"
    }
   ],
   "source": [
    "(r_sample <- read.csv('output/r_sample.csv'))\n",
    "(test_types <- read.csv('output/test_types.csv'))"
   ]
  },
  {
   "cell_type": "code",
   "execution_count": 27,
   "metadata": {},
   "outputs": [
    {
     "data": {
      "text/html": [
       "<table>\n",
       "<caption>A matrix: 20 × 4 of type chr</caption>\n",
       "<tbody>\n",
       "\t<tr><th scope=row>NoEssai</th><td>8804      </td><td> 194            </td><td> 320      </td><td> 412        </td></tr>\n",
       "\t<tr><th scope=row>test_type</th><td>N         </td><td>P               </td><td>K         </td><td>P           </td></tr>\n",
       "\t<tr><th scope=row>Cultivar</th><td>FL 1533   </td><td>Superior        </td><td>Krantz    </td><td>Goldrush    </td></tr>\n",
       "\t<tr><th scope=row>Maturity5</th><td>mid-season</td><td>early mid-season</td><td>mid-season</td><td>mid-season  </td></tr>\n",
       "\t<tr><th scope=row>growing.season</th><td>131       </td><td>102             </td><td>112       </td><td>108         </td></tr>\n",
       "\t<tr><th scope=row>DensitePlants</th><td>43716     </td><td>36430           </td><td>31226     </td><td>36433       </td></tr>\n",
       "\t<tr><th scope=row>temp_moy_5years</th><td>17.94491  </td><td>15.96156        </td><td>17.64958  </td><td>16.39004    </td></tr>\n",
       "\t<tr><th scope=row>prec_tot_5years</th><td>358.68    </td><td>378.04          </td><td>447.88    </td><td>363.16      </td></tr>\n",
       "\t<tr><th scope=row>soil_pH</th><td>5.5333    </td><td>5.5000          </td><td>6.1307    </td><td>5.7599      </td></tr>\n",
       "\t<tr><th scope=row>soil_P</th><td>175.00000 </td><td> 22.56000       </td><td>348.60023 </td><td> 46.33619   </td></tr>\n",
       "\t<tr><th scope=row>soil_K</th><td>265.00000 </td><td> 83.11000       </td><td>199.77644 </td><td> 71.54357   </td></tr>\n",
       "\t<tr><th scope=row>soil_Al</th><td>1570.000  </td><td>1579.700        </td><td>1216.207  </td><td>2838.761    </td></tr>\n",
       "\t<tr><th scope=row>ISP1</th><td>11.146497 </td><td> 1.428119       </td><td>28.662907 </td><td> 1.632268   </td></tr>\n",
       "\t<tr><th scope=row>Texture</th><td>Sable fin </td><td>Loam sableux    </td><td>Loam      </td><td>Loam sableux</td></tr>\n",
       "\t<tr><th scope=row>N_minDoseTrial</th><td>  0       </td><td>140             </td><td>150       </td><td>165         </td></tr>\n",
       "\t<tr><th scope=row>N_maxDoseTrial</th><td>200       </td><td>140             </td><td>150       </td><td>165         </td></tr>\n",
       "\t<tr><th scope=row>P_minDoseTrial</th><td>190       </td><td>  0             </td><td>100       </td><td>  0         </td></tr>\n",
       "\t<tr><th scope=row>P_maxDoseTrial</th><td>190       </td><td>300             </td><td>100       </td><td>200         </td></tr>\n",
       "\t<tr><th scope=row>K_minDoseTrial</th><td>143       </td><td>136             </td><td>  0       </td><td>170         </td></tr>\n",
       "\t<tr><th scope=row>K_maxDoseTrial</th><td>143       </td><td>136             </td><td>300       </td><td>170         </td></tr>\n",
       "</tbody>\n",
       "</table>\n"
      ],
      "text/latex": [
       "A matrix: 20 × 4 of type chr\n",
       "\\begin{tabular}{r|llll}\n",
       "\tNoEssai & 8804       &  194             &  320       &  412        \\\\\n",
       "\ttest\\_type & N          & P                & K          & P           \\\\\n",
       "\tCultivar & FL 1533    & Superior         & Krantz     & Goldrush    \\\\\n",
       "\tMaturity5 & mid-season & early mid-season & mid-season & mid-season  \\\\\n",
       "\tgrowing.season & 131        & 102              & 112        & 108         \\\\\n",
       "\tDensitePlants & 43716      & 36430            & 31226      & 36433       \\\\\n",
       "\ttemp\\_moy\\_5years & 17.94491   & 15.96156         & 17.64958   & 16.39004    \\\\\n",
       "\tprec\\_tot\\_5years & 358.68     & 378.04           & 447.88     & 363.16      \\\\\n",
       "\tsoil\\_pH & 5.5333     & 5.5000           & 6.1307     & 5.7599      \\\\\n",
       "\tsoil\\_P & 175.00000  &  22.56000        & 348.60023  &  46.33619   \\\\\n",
       "\tsoil\\_K & 265.00000  &  83.11000        & 199.77644  &  71.54357   \\\\\n",
       "\tsoil\\_Al & 1570.000   & 1579.700         & 1216.207   & 2838.761    \\\\\n",
       "\tISP1 & 11.146497  &  1.428119        & 28.662907  &  1.632268   \\\\\n",
       "\tTexture & Sable fin  & Loam sableux     & Loam       & Loam sableux\\\\\n",
       "\tN\\_minDoseTrial &   0        & 140              & 150        & 165         \\\\\n",
       "\tN\\_maxDoseTrial & 200        & 140              & 150        & 165         \\\\\n",
       "\tP\\_minDoseTrial & 190        &   0              & 100        &   0         \\\\\n",
       "\tP\\_maxDoseTrial & 190        & 300              & 100        & 200         \\\\\n",
       "\tK\\_minDoseTrial & 143        & 136              &   0        & 170         \\\\\n",
       "\tK\\_maxDoseTrial & 143        & 136              & 300        & 170         \\\\\n",
       "\\end{tabular}\n"
      ],
      "text/markdown": [
       "\n",
       "A matrix: 20 × 4 of type chr\n",
       "\n",
       "| NoEssai | 8804       |  194             |  320       |  412         |\n",
       "| test_type | N          | P                | K          | P            |\n",
       "| Cultivar | FL 1533    | Superior         | Krantz     | Goldrush     |\n",
       "| Maturity5 | mid-season | early mid-season | mid-season | mid-season   |\n",
       "| growing.season | 131        | 102              | 112        | 108          |\n",
       "| DensitePlants | 43716      | 36430            | 31226      | 36433        |\n",
       "| temp_moy_5years | 17.94491   | 15.96156         | 17.64958   | 16.39004     |\n",
       "| prec_tot_5years | 358.68     | 378.04           | 447.88     | 363.16       |\n",
       "| soil_pH | 5.5333     | 5.5000           | 6.1307     | 5.7599       |\n",
       "| soil_P | 175.00000  |  22.56000        | 348.60023  |  46.33619    |\n",
       "| soil_K | 265.00000  |  83.11000        | 199.77644  |  71.54357    |\n",
       "| soil_Al | 1570.000   | 1579.700         | 1216.207   | 2838.761     |\n",
       "| ISP1 | 11.146497  |  1.428119        | 28.662907  |  1.632268    |\n",
       "| Texture | Sable fin  | Loam sableux     | Loam       | Loam sableux |\n",
       "| N_minDoseTrial |   0        | 140              | 150        | 165          |\n",
       "| N_maxDoseTrial | 200        | 140              | 150        | 165          |\n",
       "| P_minDoseTrial | 190        |   0              | 100        |   0          |\n",
       "| P_maxDoseTrial | 190        | 300              | 100        | 200          |\n",
       "| K_minDoseTrial | 143        | 136              |   0        | 170          |\n",
       "| K_maxDoseTrial | 143        | 136              | 300        | 170          |\n",
       "\n"
      ],
      "text/plain": [
       "                [,1]       [,2]             [,3]       [,4]        \n",
       "NoEssai         8804        194              320        412        \n",
       "test_type       N          P                K          P           \n",
       "Cultivar        FL 1533    Superior         Krantz     Goldrush    \n",
       "Maturity5       mid-season early mid-season mid-season mid-season  \n",
       "growing.season  131        102              112        108         \n",
       "DensitePlants   43716      36430            31226      36433       \n",
       "temp_moy_5years 17.94491   15.96156         17.64958   16.39004    \n",
       "prec_tot_5years 358.68     378.04           447.88     363.16      \n",
       "soil_pH         5.5333     5.5000           6.1307     5.7599      \n",
       "soil_P          175.00000   22.56000        348.60023   46.33619   \n",
       "soil_K          265.00000   83.11000        199.77644   71.54357   \n",
       "soil_Al         1570.000   1579.700         1216.207   2838.761    \n",
       "ISP1            11.146497   1.428119        28.662907   1.632268   \n",
       "Texture         Sable fin  Loam sableux     Loam       Loam sableux\n",
       "N_minDoseTrial    0        140              150        165         \n",
       "N_maxDoseTrial  200        140              150        165         \n",
       "P_minDoseTrial  190          0              100          0         \n",
       "P_maxDoseTrial  190        300              100        200         \n",
       "K_minDoseTrial  143        136                0        170         \n",
       "K_maxDoseTrial  143        136              300        170         "
      ]
     },
     "metadata": {},
     "output_type": "display_data"
    }
   ],
   "source": [
    "features <- c(\"NoEssai\", \"test_type\", \"Cultivar\", \"Maturity5\", \"growing.season\", \n",
    "              \"DensitePlants\", 'temp_moy_5years', 'prec_tot_5years', \n",
    "              \"soil_pH\", \"soil_P\", \"soil_K\", \"soil_Al\", \"ISP1\", \"Texture\",\n",
    "              \"N_minDoseTrial\", \"N_maxDoseTrial\", \"P_minDoseTrial\",\n",
    "              \"P_maxDoseTrial\", \"K_minDoseTrial\", \"K_maxDoseTrial\")\n",
    "data_ml %>% \n",
    "    filter(NoEssai %in% c(r_sample$NoEssai, test_types$NoEssai) & NoBloc == 1 & NoTraitement ==1) %>% \n",
    "    select(features) %>%\n",
    "    t()"
   ]
  },
  {
   "cell_type": "code",
   "execution_count": 23,
   "metadata": {},
   "outputs": [],
   "source": [
    "ts <- data_ml %>%\n",
    "  filter(RendVendableMaxParEssai >= 28) %>%\n",
    "  select(one_of(c(\"index\", 'tsizeMS_L', 'tsizeS_M', \n",
    "                  \"RendGros\", \"RendMoy\", \"RendPetit\",\n",
    "                  var_ml))) %>%\n",
    "  na.omit() %>%\n",
    "  droplevels()"
   ]
  },
  {
   "cell_type": "code",
   "execution_count": 24,
   "metadata": {},
   "outputs": [
    {
     "data": {
      "text/html": [
       "0.207592714505157"
      ],
      "text/latex": [
       "0.207592714505157"
      ],
      "text/markdown": [
       "0.207592714505157"
      ],
      "text/plain": [
       "[1] 0.2075927"
      ]
     },
     "metadata": {},
     "output_type": "display_data"
    }
   ],
   "source": [
    "ts %>% filter(RendGros == 0) %>% nrow() / nrow(ts)"
   ]
  },
  {
   "cell_type": "code",
   "execution_count": 25,
   "metadata": {},
   "outputs": [
    {
     "data": {
      "text/html": [
       "0.000658327847267939"
      ],
      "text/latex": [
       "0.000658327847267939"
      ],
      "text/markdown": [
       "0.000658327847267939"
      ],
      "text/plain": [
       "[1] 0.0006583278"
      ]
     },
     "metadata": {},
     "output_type": "display_data"
    }
   ],
   "source": [
    "ts %>% filter(RendMoy == 0) %>% nrow() / nrow(ts)"
   ]
  },
  {
   "cell_type": "code",
   "execution_count": 26,
   "metadata": {},
   "outputs": [
    {
     "data": {
      "text/html": [
       "0.00394996708360764"
      ],
      "text/latex": [
       "0.00394996708360764"
      ],
      "text/markdown": [
       "0.00394996708360764"
      ],
      "text/plain": [
       "[1] 0.003949967"
      ]
     },
     "metadata": {},
     "output_type": "display_data"
    }
   ],
   "source": [
    "ts %>% filter(RendPetit == 0) %>% nrow() / nrow(ts)"
   ]
  },
  {
   "cell_type": "raw",
   "metadata": {},
   "source": []
  }
 ],
 "metadata": {
  "kernelspec": {
   "display_name": "R",
   "language": "R",
   "name": "ir"
  },
  "language_info": {
   "codemirror_mode": "r",
   "file_extension": ".r",
   "mimetype": "text/x-r-source",
   "name": "R",
   "pygments_lexer": "r",
   "version": "4.0.3"
  }
 },
 "nbformat": 4,
 "nbformat_minor": 4
}
