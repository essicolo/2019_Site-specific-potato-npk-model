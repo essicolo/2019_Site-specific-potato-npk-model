{
 "cells": [
  {
   "cell_type": "markdown",
   "metadata": {},
   "source": [
    "## 2.2 Modeling quality: 1. [medium, small | large] size tubers\n",
    "### The data set"
   ]
  },
  {
   "cell_type": "code",
   "execution_count": 1,
   "metadata": {},
   "outputs": [],
   "source": [
    "import numpy as np\n",
    "import pandas as pd\n",
    "import matplotlib.pyplot as plt\n",
    "from matplotlib import gridspec\n",
    "import scipy.stats as stats\n",
    "import time # Show computation time\n",
    "np.random.seed(seed = 505730)"
   ]
  },
  {
   "cell_type": "markdown",
   "metadata": {},
   "source": [
    "Custom function to generate a grid with all possible combinations of vectors in a dictionnary (source: [pandas documentation](http://pandas.pydata.org/pandas-docs/stable/user_guide/cookbook.html?highlight=expand_grid#creating-example-data))."
   ]
  },
  {
   "cell_type": "code",
   "execution_count": 2,
   "metadata": {},
   "outputs": [],
   "source": [
    "import itertools\n",
    "def expand_grid(data_dict):\n",
    "   rows = itertools.product(*data_dict.values())\n",
    "   return pd.DataFrame.from_records(rows, columns = data_dict.keys())"
   ]
  },
  {
   "cell_type": "markdown",
   "metadata": {},
   "source": [
    "Load data."
   ]
  },
  {
   "cell_type": "code",
   "execution_count": 3,
   "metadata": {},
   "outputs": [
    {
     "data": {
      "text/plain": [
       "Index(['tsizeMS_L', 'tsizeS_M', 'NoEssai', 'NoBloc', 'NoTraitement', 'ID',\n",
       "       'ID_bl', 'DensitePlants', 'PrecCropFiveClasses', 'Cultivar',\n",
       "       'Maturity5', 'growing.season', 'temp_moy_5years', 'prec_tot_5years',\n",
       "       'sdi_5years', 'gdd_5years', 'NtotDose', 'PtotDose', 'KtotDose',\n",
       "       'soilTextIlr1', 'soilTextIlr2', 'soilTextIlr3', 'soilTypeIlr1_3',\n",
       "       'soilTypeIlr2_3', 'soil_pH', 'soil_P1_Fv.AlP', 'soil_P1_Al.P',\n",
       "       'soil_K2_FvMgCa.K', 'soil_K2_Fv.MgCa', 'soil_K2_Mg.Ca', 'soil_P',\n",
       "       'soil_K', 'soil_Al', 'ISP1', 'test_type'],\n",
       "      dtype='object')"
      ]
     },
     "execution_count": 3,
     "metadata": {},
     "output_type": "execute_result"
    }
   ],
   "source": [
    "df_ml = pd.read_csv('output/df_tuberSize.csv')\n",
    "df_ml.columns"
   ]
  },
  {
   "cell_type": "markdown",
   "metadata": {},
   "source": [
    "I create vectors categorizing response and predictors."
   ]
  },
  {
   "cell_type": "code",
   "execution_count": 4,
   "metadata": {},
   "outputs": [],
   "source": [
    "num_vars = ['DensitePlants', 'growing.season',\n",
    "            'temp_moy_5years', 'prec_tot_5years', 'sdi_5years', 'gdd_5years',\n",
    "            'NtotDose', 'PtotDose', 'KtotDose',\n",
    "            'soilTextIlr1', 'soilTextIlr2', 'soilTextIlr3',\n",
    "            'soilTypeIlr1_3', 'soilTypeIlr2_3',\n",
    "            'soil_pH', \n",
    "            'soil_P1_Fv.AlP', 'soil_P1_Al.P', 'soil_K2_FvMgCa.K', 'soil_K2_Fv.MgCa', 'soil_K2_Mg.Ca']\n",
    "cat_vars = ['PrecCropFiveClasses']\n",
    "resp_vars = ['tsizeMS_L']\n",
    "dose_vars = ['NtotDose', 'PtotDose', 'KtotDose']"
   ]
  },
  {
   "cell_type": "markdown",
   "metadata": {},
   "source": [
    "In __N__ tests, __P__ and __K__ doses are in excess, which drags recommandations upwards. In all N tests, we set the __P__ and __K__ doses according to the CRAAQ fertilisation guide. The next cells are used to correct abnormally high non-limiting __P__ and __K__ dosage for some trials."
   ]
  },
  {
   "cell_type": "code",
   "execution_count": 5,
   "metadata": {},
   "outputs": [],
   "source": [
    "def craaq_P(x): # x, ISP\n",
    "    if x <= 2.5:\n",
    "        recommandation = 200\n",
    "    elif x <= 5:\n",
    "        recommandation = 150\n",
    "    elif x <= 10:\n",
    "        recommandation = 150\n",
    "    elif x <= 15:\n",
    "        recommandation = 120\n",
    "    elif x <= 25:\n",
    "        recommandation = 75\n",
    "    else:\n",
    "        recommandation = 50\n",
    "    return recommandation"
   ]
  },
  {
   "cell_type": "code",
   "execution_count": 6,
   "metadata": {},
   "outputs": [],
   "source": [
    "def craaq_K(x): # x, K in kg K_M3 / ha\n",
    "    if x <= 75:\n",
    "        recommandation = 240\n",
    "    elif x <= 150:\n",
    "        recommandation = 215\n",
    "    elif x <= 225:\n",
    "        recommandation = 160\n",
    "    elif x <= 300:\n",
    "        recommandation = 120\n",
    "    elif x <= 375:\n",
    "        recommandation = 80\n",
    "    elif x <= 450:\n",
    "        recommandation = 50\n",
    "    else:\n",
    "        recommandation = 20\n",
    "    return recommandation"
   ]
  },
  {
   "cell_type": "code",
   "execution_count": 7,
   "metadata": {},
   "outputs": [],
   "source": [
    "df_ml.loc[df_ml.test_type == 'N', \"PtotDose\"] = df_ml.ISP1.apply(lambda x: craaq_P(x))\n",
    "df_ml.loc[df_ml.test_type == 'N', \"KtotDose\"] = df_ml.soil_K.apply(lambda x: craaq_K(x)) \n",
    "\n",
    "df_ml.loc[df_ml.test_type.isna(), \"PtotDose\"] = df_ml.ISP1.apply(lambda x: craaq_P(x))\n",
    "df_ml.loc[df_ml.test_type.isna(), \"KtotDose\"] = df_ml.soil_K.apply(lambda x: craaq_K(x)) \n",
    "\n",
    "df_ml.loc[df_ml.test_type == 'P', \"KtotDose\"] = df_ml.soil_K.apply(lambda x: craaq_K(x))\n",
    "df_ml.loc[df_ml.test_type == 'K', \"PtotDose\"] = df_ml.ISP1.apply(lambda x: craaq_P(x))"
   ]
  },
  {
   "cell_type": "markdown",
   "metadata": {},
   "source": [
    "Verify max doses per element: N-P-K respectively, and drop other useless columns (related to soil elements and trial identifiers)."
   ]
  },
  {
   "cell_type": "code",
   "execution_count": 8,
   "metadata": {},
   "outputs": [
    {
     "data": {
      "text/plain": [
       "(250.0, 300.0, 300.0)"
      ]
     },
     "execution_count": 8,
     "metadata": {},
     "output_type": "execute_result"
    }
   ],
   "source": [
    "np.max(df_ml.NtotDose), np.max(df_ml.PtotDose), np.max(df_ml.KtotDose)"
   ]
  },
  {
   "cell_type": "code",
   "execution_count": 9,
   "metadata": {},
   "outputs": [],
   "source": [
    "id_table = df_ml[['ID', 'NoEssai', 'NoBloc','ID_bl', 'NoTraitement', 'test_type']]\n",
    "id_table.index = df_ml.index\n",
    "soil_table = df_ml[['soil_P', 'soil_Al', 'soil_K', 'ISP1']]\n",
    "soil_table.index = df_ml.index\n",
    "df_ml = df_ml.drop(['ID', 'NoEssai', 'NoBloc', 'ID_bl', 'NoTraitement', 'soil_P', 'soil_Al', 'soil_K', 'ISP1', 'tsizeS_M'], axis = 1)"
   ]
  },
  {
   "cell_type": "markdown",
   "metadata": {},
   "source": [
    "I use the `panda.get_dummies()` function to transform each categorical feature with **m** possible values into **m** binary features, *with only one active*. The output will be a sparse matrix where each column corresponds to one possible value of one feature: one (__1__) indicates category membership; otherwise zero (__0__) is indicated."
   ]
  },
  {
   "cell_type": "code",
   "execution_count": 10,
   "metadata": {},
   "outputs": [],
   "source": [
    "df_ml[\"PrecCropFiveClasses\"] = df_ml[\"PrecCropFiveClasses\"].astype('category')\n",
    "df_ml[\"test_type\"] = df_ml[\"test_type\"].astype('category')\n",
    "df_ml[\"Cultivar\"] = df_ml[\"Cultivar\"].astype('category')\n",
    "df_ml[\"Maturity5\"] = df_ml[\"Maturity5\"].astype('category')"
   ]
  },
  {
   "cell_type": "code",
   "execution_count": 11,
   "metadata": {},
   "outputs": [],
   "source": [
    "df_ml = pd.get_dummies(df_ml, columns = [\"PrecCropFiveClasses\"])\n",
    "df_ml = pd.get_dummies(df_ml, columns = [\"test_type\"])\n",
    "df_ml = pd.get_dummies(df_ml, columns = [\"Cultivar\"])\n",
    "df_ml = pd.get_dummies(df_ml, columns = [\"Maturity5\"])"
   ]
  },
  {
   "cell_type": "markdown",
   "metadata": {},
   "source": [
    "If `test_type`, `Cultivar` or `Maturity5` variables should be removed before modeling, the next cell is activated or not:"
   ]
  },
  {
   "cell_type": "code",
   "execution_count": 12,
   "metadata": {},
   "outputs": [],
   "source": [
    "df_ml = df_ml.loc[:, ~df_ml.columns.str.startswith('test_type')]\n",
    "df_ml = df_ml.loc[:, ~df_ml.columns.str.startswith('Cultivar')]\n",
    "df_ml = df_ml.loc[:, ~df_ml.columns.str.startswith('Maturity5')]"
   ]
  },
  {
   "cell_type": "markdown",
   "metadata": {},
   "source": [
    "### Data set __train__ and __test__ split"
   ]
  },
  {
   "cell_type": "markdown",
   "metadata": {},
   "source": [
    "If we need to predict a whole dose-response curve, we need to split by trials.\n",
    "\n",
    "The split proportions are set to obtain __~70% of data__ in the training set. This kind of split is the most robust since the training and test sets are independant data. I split at _bloc level_. This split allows to mix data from the same experimental plots, but on different blocks. Data in both sets are independant, but because blocks are similar units the model might behave wrongly on new sites with less usual data."
   ]
  },
  {
   "cell_type": "code",
   "execution_count": 13,
   "metadata": {},
   "outputs": [],
   "source": [
    "np.random.seed(seed = 48327)\n",
    "blocks = id_table['ID_bl']\n",
    "N_blocks = blocks[id_table.test_type == 'N'].unique()\n",
    "N_blocks_inTrain = np.random.choice(a = N_blocks, \n",
    "                                    size = np.around(0.7 * len(N_blocks)).astype(int), \n",
    "                                    replace = False)\n",
    "\n",
    "P_blocks = blocks[id_table.test_type == 'P'].unique()\n",
    "P_blocks_inTrain = np.random.choice(a = P_blocks, \n",
    "                                    size = np.around(0.7 * len(P_blocks)).astype(int), \n",
    "                                    replace = False)\n",
    "\n",
    "K_blocks = blocks[id_table.test_type == 'K'].unique()\n",
    "K_blocks_inTrain = np.random.choice(a = K_blocks, \n",
    "                                    size = np.around(0.7 * len(K_blocks)).astype(int), \n",
    "                                    replace = False)\n",
    "\n",
    "npk_blocks = blocks[id_table.test_type == 'NPK'].unique()\n",
    "npk_blocks_inTrain = np.random.choice(a = npk_blocks, \n",
    "                                      size = np.around(len(npk_blocks) * 0.7).astype(int), \n",
    "                                      replace = False)\n",
    "\n",
    "na_blocks = blocks[id_table.test_type.isna()].unique()\n",
    "na_blocks_inTrain = np.random.choice(a = na_blocks, \n",
    "                                     size = np.around(len(na_blocks) * 0.7).astype(int), \n",
    "                                     replace = False)"
   ]
  },
  {
   "cell_type": "code",
   "execution_count": 14,
   "metadata": {},
   "outputs": [],
   "source": [
    "blocks_inTrain = np.concatenate([N_blocks_inTrain, \n",
    "                                 P_blocks_inTrain, \n",
    "                                 K_blocks_inTrain, \n",
    "                                 npk_blocks_inTrain, \n",
    "                                 na_blocks_inTrain])\n",
    "\n",
    "blocks_inTest = blocks[~blocks.isin(blocks_inTrain)].unique()"
   ]
  },
  {
   "cell_type": "markdown",
   "metadata": {},
   "source": [
    "Numerical variables are scaled before modeling. Both predictive and response variables are set to null (__0__) mean and unit (__1__) variance using the training set mean and standard error. This chunk computes the mean and standard error of predictive variables."
   ]
  },
  {
   "cell_type": "code",
   "execution_count": 15,
   "metadata": {},
   "outputs": [],
   "source": [
    "mean_numvars = df_ml.loc[blocks.isin(blocks_inTrain), num_vars].apply(axis = 0, func = np.mean)\n",
    "std_numvars = df_ml.loc[blocks.isin(blocks_inTrain), num_vars].apply(axis = 0, func = np.std)\n",
    "df_ml_sc = df_ml.copy()\n",
    "for var in num_vars:\n",
    "    df_ml_sc[var] = (df_ml[var] - df_ml.loc[blocks.isin(blocks_inTrain), var].mean()) / df_ml.loc[blocks.isin(blocks_inTrain), var].std()"
   ]
  },
  {
   "cell_type": "markdown",
   "metadata": {},
   "source": [
    "The response is also scaled:"
   ]
  },
  {
   "cell_type": "code",
   "execution_count": 16,
   "metadata": {},
   "outputs": [],
   "source": [
    "mean_respvars = df_ml.loc[blocks.isin(blocks_inTrain), resp_vars].mean()\n",
    "std_respvars = df_ml.loc[blocks.isin(blocks_inTrain), resp_vars].std()\n",
    "for var in resp_vars:\n",
    "    df_ml_sc[var] = (df_ml[var] - mean_respvars[var]) / std_respvars[var]"
   ]
  },
  {
   "cell_type": "code",
   "execution_count": 17,
   "metadata": {},
   "outputs": [],
   "source": [
    "#min_respvars = df_ml.loc[blocks.isin(blocks_inTrain), resp_vars].min()\n",
    "#max_respvars = df_ml.loc[blocks.isin(blocks_inTrain), resp_vars].max()\n",
    "#mean_respvars[0], std_respvars[0], min_respvars[0], max_respvars[0]"
   ]
  },
  {
   "cell_type": "markdown",
   "metadata": {},
   "source": [
    "Then, separate train and test arrays are created for predictive and response variables."
   ]
  },
  {
   "cell_type": "code",
   "execution_count": 18,
   "metadata": {},
   "outputs": [],
   "source": [
    "X_train = df_ml_sc.loc[blocks.isin(blocks_inTrain), df_ml.columns.isin(num_vars) | df_ml.columns.str.startswith(cat_vars[0])].values\n",
    "X_test = df_ml_sc.loc[~blocks.isin(blocks_inTrain), df_ml.columns.isin(num_vars) | df_ml.columns.str.startswith(cat_vars[0])].values\n",
    "Y_train = df_ml_sc[resp_vars][blocks.isin(blocks_inTrain)].values\n",
    "Y_test = df_ml_sc[resp_vars][~blocks.isin(blocks_inTrain)].values"
   ]
  },
  {
   "cell_type": "code",
   "execution_count": 19,
   "metadata": {},
   "outputs": [
    {
     "data": {
      "text/plain": [
       "((3203, 25), (1354, 25), (3203, 1), (1354, 1))"
      ]
     },
     "execution_count": 19,
     "metadata": {},
     "output_type": "execute_result"
    }
   ],
   "source": [
    "X_train.shape, X_test.shape, Y_train.shape, Y_test.shape"
   ]
  },
  {
   "cell_type": "markdown",
   "metadata": {},
   "source": [
    "Let's check the proportion of data in the traning set:"
   ]
  },
  {
   "cell_type": "code",
   "execution_count": 20,
   "metadata": {},
   "outputs": [
    {
     "data": {
      "text/plain": [
       "0.703"
      ]
     },
     "execution_count": 20,
     "metadata": {},
     "output_type": "execute_result"
    }
   ],
   "source": [
    "round(df_ml.loc[blocks.isin(blocks_inTrain)].shape[0]/df_ml.shape[0], 3)"
   ]
  },
  {
   "cell_type": "markdown",
   "metadata": {},
   "source": [
    "### Feature importance\n",
    "\n",
    "I use the python scikit-learn _ExtraTreesRegressor_ algorithm to select features that contributed most as predictive variables. The process ranks features importance."
   ]
  },
  {
   "cell_type": "code",
   "execution_count": 21,
   "metadata": {},
   "outputs": [
    {
     "data": {
      "text/plain": [
       "ExtraTreesRegressor(bootstrap=False, criterion='mse', max_depth=None,\n",
       "                    max_features='auto', max_leaf_nodes=None,\n",
       "                    min_impurity_decrease=0.0, min_impurity_split=None,\n",
       "                    min_samples_leaf=1, min_samples_split=2,\n",
       "                    min_weight_fraction_leaf=0.0, n_estimators=50, n_jobs=None,\n",
       "                    oob_score=False, random_state=None, verbose=0,\n",
       "                    warm_start=False)"
      ]
     },
     "execution_count": 21,
     "metadata": {},
     "output_type": "execute_result"
    }
   ],
   "source": [
    "from sklearn.ensemble import ExtraTreesRegressor\n",
    "import altair as alt\n",
    "fs_reg = ExtraTreesRegressor(n_estimators = 50)\n",
    "fs_reg.fit(X_train, Y_train.ravel())"
   ]
  },
  {
   "cell_type": "markdown",
   "metadata": {},
   "source": [
    "There is a need to show column names in English rather than their names in the data frame. We created a `csv` as translation table (`translate_col2.csv`). This table is merged to the variable importance table, which is then ranked and plotted."
   ]
  },
  {
   "cell_type": "code",
   "execution_count": 22,
   "metadata": {},
   "outputs": [
    {
     "data": {
      "image/png": "[encoded data removed]",
      "text/plain": [
       "<Figure size 288x720 with 1 Axes>"
      ]
     },
     "metadata": {
      "needs_background": "light"
     },
     "output_type": "display_data"
    }
   ],
   "source": [
    "rf_varimp = pd.DataFrame({'columns': df_ml_sc.drop('tsizeMS_L', axis = 1).columns, \n",
    "                          'importance': fs_reg.feature_importances_})\n",
    "translate_columns = pd.read_csv(\"csv/translate_col2.csv\")\n",
    "rf_varimp_en = pd.merge(rf_varimp,\n",
    "                        translate_columns.drop(\"fr\", axis = 1),\n",
    "                        on = \"columns\", how = 'left').\\\n",
    "  sort_values(by = [\"importance\"])\n",
    "rf_varimp_en.to_csv('output/varImp_ilrSML.csv', index_label = \"ID\") # common plot (in 1.4.1)\n",
    "\n",
    "plt.figure(figsize = (4, 10))\n",
    "plt.barh(rf_varimp_en.en, rf_varimp_en.importance, color = \"black\");\n",
    "plt.grid(axis = 'x')"
   ]
  },
  {
   "cell_type": "markdown",
   "metadata": {},
   "source": [
    "The preceeding crop categories could be removed."
   ]
  },
  {
   "cell_type": "code",
   "execution_count": 23,
   "metadata": {},
   "outputs": [],
   "source": [
    "remove_var_names = ['PrecCropFiveClasses_Cereal',\n",
    "                    'PrecCropFiveClasses_Grassland',\n",
    "                    'PrecCropFiveClasses_HRC',\n",
    "                    'PrecCropFiveClasses_LRC',\n",
    "                    'PrecCropFiveClasses_Legume']\n",
    "keep_vars = ~ df_ml_sc.drop('tsizeMS_L', axis = 1).columns.isin(remove_var_names)\n",
    "X_train = X_train[:, keep_vars]\n",
    "X_test = X_test[:, keep_vars]"
   ]
  },
  {
   "cell_type": "markdown",
   "metadata": {},
   "source": [
    "### Modeling\n",
    "#### _General packages_"
   ]
  },
  {
   "cell_type": "code",
   "execution_count": 24,
   "metadata": {},
   "outputs": [],
   "source": [
    "#from sklearn.model_selection import GridSearchCV # Grid Search\n",
    "from sklearn.model_selection import RandomizedSearchCV # Random Search\n",
    "from sklearn.metrics import r2_score\n",
    "from sklearn.metrics import mean_absolute_error\n",
    "from sklearn.metrics import mean_squared_error\n",
    "from pprint import pprint # print default parameters of models"
   ]
  },
  {
   "cell_type": "markdown",
   "metadata": {},
   "source": [
    "### k-nearest neighbors (knn) algorithm\n",
    "#### _The default parameters_"
   ]
  },
  {
   "cell_type": "code",
   "execution_count": 25,
   "metadata": {},
   "outputs": [],
   "source": [
    "from sklearn.neighbors import KNeighborsRegressor"
   ]
  },
  {
   "cell_type": "code",
   "execution_count": 26,
   "metadata": {},
   "outputs": [
    {
     "name": "stdout",
     "output_type": "stream",
     "text": [
      "Parameters currently in use:\n",
      "\n",
      "{'algorithm': 'auto',\n",
      " 'leaf_size': 30,\n",
      " 'metric': 'minkowski',\n",
      " 'metric_params': None,\n",
      " 'n_jobs': None,\n",
      " 'n_neighbors': 5,\n",
      " 'p': 2,\n",
      " 'weights': 'uniform'}\n"
     ]
    }
   ],
   "source": [
    "knn_reg = KNeighborsRegressor()\n",
    "print('Parameters currently in use:\\n')\n",
    "pprint(knn_reg.get_params())"
   ]
  },
  {
   "cell_type": "markdown",
   "metadata": {},
   "source": [
    "#### _Optimisation (paraneters tuning)_"
   ]
  },
  {
   "cell_type": "code",
   "execution_count": 27,
   "metadata": {},
   "outputs": [],
   "source": [
    "knn_param = {'n_neighbors': stats.randint(3, 20), \n",
    "             'weights': ['uniform', 'distance']}\n",
    "n_iter_search = 50"
   ]
  },
  {
   "cell_type": "code",
   "execution_count": 28,
   "metadata": {},
   "outputs": [
    {
     "name": "stdout",
     "output_type": "stream",
     "text": [
      "\n",
      "Running random search to tune up KNN hyperparameters ...\n",
      "Duration: 10.514766693115234 secondes ---\n"
     ]
    },
    {
     "name": "stderr",
     "output_type": "stream",
     "text": [
      "C:\\Users\\zcoul\\Anaconda3\\lib\\site-packages\\sklearn\\model_selection\\_search.py:813: DeprecationWarning: The default of the `iid` parameter will change from True to False in version 0.22 and will be removed in 0.24. This will change numeric results when test-set sizes are unequal.\n",
      "  DeprecationWarning)\n"
     ]
    },
    {
     "data": {
      "text/plain": [
       "KNeighborsRegressor(algorithm='auto', leaf_size=30, metric='minkowski',\n",
       "                    metric_params=None, n_jobs=None, n_neighbors=19, p=2,\n",
       "                    weights='uniform')"
      ]
     },
     "execution_count": 28,
     "metadata": {},
     "output_type": "execute_result"
    }
   ],
   "source": [
    "print(\"\\nRunning random search to tune up KNN hyperparameters ...\")\n",
    "start_time = time.time()\n",
    "knn_random_search = RandomizedSearchCV(estimator = knn_reg, param_distributions = knn_param, n_iter = n_iter_search, cv = 5, n_jobs = -1)\n",
    "knn_random_search.fit(X_train, Y_train)\n",
    "print(\"Duration: %s secondes ---\" % (time.time() - start_time))\n",
    "knn_random_search.best_estimator_"
   ]
  },
  {
   "cell_type": "raw",
   "metadata": {},
   "source": [
    "knn_random_search.best_estimator_ = \n",
    "KNeighborsRegressor(algorithm='auto', leaf_size=30, metric='minkowski',\n",
    "                    metric_params=None, n_jobs=None, n_neighbors=19, p=2,\n",
    "                    weights='uniform')"
   ]
  },
  {
   "cell_type": "markdown",
   "metadata": {},
   "source": [
    "#### _The __knn__ model_"
   ]
  },
  {
   "cell_type": "code",
   "execution_count": 29,
   "metadata": {},
   "outputs": [],
   "source": [
    "knn_reg = KNeighborsRegressor(algorithm='auto', leaf_size=30, metric='minkowski',\n",
    "                              metric_params=None, n_jobs=None, n_neighbors=19, p=2,\n",
    "                              weights='uniform')\n",
    "knn = knn_reg.fit(X_train, Y_train)"
   ]
  },
  {
   "cell_type": "markdown",
   "metadata": {},
   "source": [
    "Performance in train and test"
   ]
  },
  {
   "cell_type": "code",
   "execution_count": 30,
   "metadata": {},
   "outputs": [],
   "source": [
    "Y_train_obs = df_ml[resp_vars][blocks.isin(blocks_inTrain)].values\n",
    "Y_test_obs = df_ml[resp_vars][~blocks.isin(blocks_inTrain)].values"
   ]
  },
  {
   "cell_type": "code",
   "execution_count": 31,
   "metadata": {},
   "outputs": [],
   "source": [
    "Y_train_predknn = knn.predict(X_train) * std_respvars.values + mean_respvars.values\n",
    "Y_test_predknn = knn.predict(X_test) * std_respvars.values + mean_respvars.values"
   ]
  },
  {
   "cell_type": "code",
   "execution_count": 32,
   "metadata": {},
   "outputs": [
    {
     "data": {
      "text/html": [
       "<div>\n",
       "<style scoped>\n",
       "    .dataframe tbody tr th:only-of-type {\n",
       "        vertical-align: middle;\n",
       "    }\n",
       "\n",
       "    .dataframe tbody tr th {\n",
       "        vertical-align: top;\n",
       "    }\n",
       "\n",
       "    .dataframe thead th {\n",
       "        text-align: right;\n",
       "    }\n",
       "</style>\n",
       "<table border=\"1\" class=\"dataframe\">\n",
       "  <thead>\n",
       "    <tr style=\"text-align: right;\">\n",
       "      <th></th>\n",
       "      <th>Train_R2</th>\n",
       "      <th>Train_MAE</th>\n",
       "      <th>Train_RMSE</th>\n",
       "      <th>Test_R2</th>\n",
       "      <th>Test_MAE</th>\n",
       "      <th>Test_RMSE</th>\n",
       "    </tr>\n",
       "  </thead>\n",
       "  <tbody>\n",
       "    <tr>\n",
       "      <th>k-nearest neighbors</th>\n",
       "      <td>0.716</td>\n",
       "      <td>0.7144</td>\n",
       "      <td>0.9811</td>\n",
       "      <td>0.551</td>\n",
       "      <td>0.9069</td>\n",
       "      <td>1.183</td>\n",
       "    </tr>\n",
       "  </tbody>\n",
       "</table>\n",
       "</div>"
      ],
      "text/plain": [
       "                     Train_R2  Train_MAE  Train_RMSE  Test_R2  Test_MAE  \\\n",
       "k-nearest neighbors     0.716     0.7144      0.9811    0.551    0.9069   \n",
       "\n",
       "                     Test_RMSE  \n",
       "k-nearest neighbors      1.183  "
      ]
     },
     "execution_count": 32,
     "metadata": {},
     "output_type": "execute_result"
    }
   ],
   "source": [
    "index = ['k-nearest neighbors']\n",
    "knn_scores = pd.DataFrame({\"Train_R2\": r2_score(Y_train, knn.predict(X_train)).round(3),\n",
    "                           \"Train_MAE\": mean_absolute_error(Y_train_obs, Y_train_predknn).round(4),\n",
    "                           \"Train_RMSE\": np.sqrt(mean_squared_error(Y_train_obs, Y_train_predknn)).round(4),\n",
    "                           \"Test_R2\": r2_score(Y_test, knn.predict(X_test)).round(3),\n",
    "                           \"Test_MAE\": mean_absolute_error(Y_test_obs, Y_test_predknn).round(4),\n",
    "                           \"Test_RMSE\": np.sqrt(mean_squared_error(Y_test_obs, Y_test_predknn)).round(4)}, \n",
    "                           index = index)\n",
    "knn_scores"
   ]
  },
  {
   "cell_type": "raw",
   "metadata": {},
   "source": [
    "test_std_resp = df_ml.loc[~blocks.isin(blocks_inTrain), resp_vars].std()\n",
    "test_std_resp/2"
   ]
  },
  {
   "cell_type": "markdown",
   "metadata": {},
   "source": [
    "The __knn__ ressults plot"
   ]
  },
  {
   "cell_type": "code",
   "execution_count": 33,
   "metadata": {},
   "outputs": [
    {
     "data": {
      "text/plain": [
       "Text(0.5, 1.0, 'Test')"
      ]
     },
     "execution_count": 33,
     "metadata": {},
     "output_type": "execute_result"
    },
    {
     "data": {
      "image/png": "[encoded data removed]",
      "text/plain": [
       "<Figure size 432x288 with 2 Axes>"
      ]
     },
     "metadata": {
      "needs_background": "light"
     },
     "output_type": "display_data"
    }
   ],
   "source": [
    "plt.subplot(1, 2, 1)\n",
    "plt.plot(Y_train, knn.predict(X_train), \n",
    "         marker = 'x', color = 'black', linestyle = 'None', alpha = 0.1)\n",
    "plt.plot([-2, 2], [-2, 2], color = 'black', linewidth = 2)\n",
    "plt.title('Train')\n",
    "\n",
    "plt.subplot(1, 2, 2)\n",
    "plt.plot(Y_test, knn.predict(X_test), \n",
    "         marker = 'x', color = 'black', linestyle = 'None', alpha = 0.2)\n",
    "plt.plot([-2, 2], [-2, 2], color = 'black', linewidth = 2)\n",
    "plt.title('Test')"
   ]
  },
  {
   "cell_type": "code",
   "execution_count": 34,
   "metadata": {},
   "outputs": [
    {
     "data": {
      "application/vnd.vegalite.v3+json": {
       "$schema": "https://vega.github.io/schema/vega-lite/v3.4.0.json",
       "config": {
        "mark": {
         "tooltip": null
        },
        "view": {
         "height": 300,
         "width": 400
        }
       },
       "data": {
        "name": "data-88d5abb4c4deba10786844ee84e704e5"
       },
       "datasets": {
        "data-88d5abb4c4deba10786844ee84e704e5": [
         {
          "Actual": 0.46117382193245626,
          "Predicted": 0.7741469443938176
         },
         {
          "Actual": 1.0290059968134548,
          "Predicted": 1.034179560554468
         },
         {
          "Actual": 0.8886528318656676,
          "Predicted": 1.1296524084706172
         },
         {
          "Actual": 1.1067716038066946,
          "Predicted": 1.1803408308604382
         },
         {
          "Actual": 1.1220649394638975,
          "Predicted": 1.1931226455881476
         },
         {
          "Actual": 1.0696678932240267,
          "Predicted": 1.1941504414160058
         },
         {
          "Actual": 1.0866787395538982,
          "Predicted": 1.2260436238073258
         },
         {
          "Actual": 1.3012302003614857,
          "Predicted": 1.2389051396890414
         },
         {
          "Actual": 0.3201611842388828,
          "Predicted": 0.7941650498096856
         },
         {
          "Actual": 0.7326706987280636,
          "Predicted": 1.0339453803422112
         },
         {
          "Actual": 1.2079804927872306,
          "Predicted": 1.124177993169888
         },
         {
          "Actual": 1.1967263278508584,
          "Predicted": 1.2010182324170862
         },
         {
          "Actual": 1.054529754515235,
          "Predicted": 1.2312483829390082
         },
         {
          "Actual": 0.842083644315978,
          "Predicted": 1.2293639896088995
         },
         {
          "Actual": 1.096388646957643,
          "Predicted": 1.181108368301647
         },
         {
          "Actual": 1.1374542567718025,
          "Predicted": 1.196763654348443
         },
         {
          "Actual": 0.5574574824397709,
          "Predicted": 0.7741469443938176
         },
         {
          "Actual": 1.0227339785876237,
          "Predicted": 1.0346032104704352
         },
         {
          "Actual": 1.1298850548333355,
          "Predicted": 1.113671759712466
         },
         {
          "Actual": 0.9974054049983506,
          "Predicted": 1.1580246591076866
         },
         {
          "Actual": 0.9314670920224063,
          "Predicted": 1.1535069686039556
         },
         {
          "Actual": 1.0172960318398867,
          "Predicted": 1.2094896044732788
         },
         {
          "Actual": 0.7382356613754314,
          "Predicted": 1.2142617208071969
         },
         {
          "Actual": 1.102742226425722,
          "Predicted": 1.233149023962286
         },
         {
          "Actual": 0.5278540365808482,
          "Predicted": 0.8151421606412578
         },
         {
          "Actual": 0.921298575989079,
          "Predicted": 1.1204575289292602
         },
         {
          "Actual": 1.2009493099794568,
          "Predicted": 1.1673816004335902
         },
         {
          "Actual": 1.3205572768613223,
          "Predicted": 1.2755095381663566
         },
         {
          "Actual": 1.5338360899210381,
          "Predicted": 1.2393427227724187
         },
         {
          "Actual": 1.273387424625666,
          "Predicted": 1.228230190810251
         },
         {
          "Actual": 1.6565165688868289,
          "Predicted": 1.2362459818743126
         },
         {
          "Actual": 1.241774206750943,
          "Predicted": 1.2380540154216764
         },
         {
          "Actual": 0.4719886817910467,
          "Predicted": 0.8017794398089751
         },
         {
          "Actual": 1.3900462899166652,
          "Predicted": 1.0911351482494052
         },
         {
          "Actual": 1.2888592363786424,
          "Predicted": 1.2244642602668425
         },
         {
          "Actual": 1.4212139289058077,
          "Predicted": 1.2373062822082148
         },
         {
          "Actual": 1.6777649255628164,
          "Predicted": 1.2856850395622168
         },
         {
          "Actual": 1.4194225270522873,
          "Predicted": 1.2715063747817716
         },
         {
          "Actual": 1.506063340267051,
          "Predicted": 1.2858069833991197
         },
         {
          "Actual": 1.046360065952307,
          "Predicted": 1.2708722638131196
         },
         {
          "Actual": -1.7340517377500981,
          "Predicted": 0.25719329355730886
         },
         {
          "Actual": 1.3292639113046414,
          "Predicted": 0.9588613981383726
         },
         {
          "Actual": 1.0666655810479526,
          "Predicted": 1.0781206645686598
         },
         {
          "Actual": 1.3125079284579422,
          "Predicted": 1.2334992694674192
         },
         {
          "Actual": 1.4483658020169703,
          "Predicted": 1.2550109044808144
         },
         {
          "Actual": 1.465630363753392,
          "Predicted": 1.2375542351490154
         },
         {
          "Actual": 1.3418248084560152,
          "Predicted": 1.2769385625651366
         },
         {
          "Actual": 1.4342990347110274,
          "Predicted": 1.2769385625651366
         },
         {
          "Actual": 1.2452151091207688,
          "Predicted": 1.0062510011965817
         },
         {
          "Actual": 1.2373861944213151,
          "Predicted": 1.1057792289451709
         },
         {
          "Actual": 1.2105880448281798,
          "Predicted": 1.0769141052148932
         },
         {
          "Actual": 1.2027158431480247,
          "Predicted": 1.0769141052148932
         },
         {
          "Actual": 1.3413550629646172,
          "Predicted": 1.0503214644680292
         },
         {
          "Actual": 1.3083917708769413,
          "Predicted": 1.0503214644680294
         },
         {
          "Actual": 1.2654270067086169,
          "Predicted": 1.0296792086567237
         },
         {
          "Actual": 1.4485643587528947,
          "Predicted": 1.0296792086567237
         },
         {
          "Actual": 1.2397799851627684,
          "Predicted": 1.0503214644680294
         },
         {
          "Actual": 1.5596016793541785,
          "Predicted": 1.0296792086567237
         },
         {
          "Actual": 1.561610284993239,
          "Predicted": 1.0296792086567237
         },
         {
          "Actual": -1.7186693891345526,
          "Predicted": -0.5403854742876181
         },
         {
          "Actual": -0.5661916850136774,
          "Predicted": -0.3908110359453003
         },
         {
          "Actual": -1.733926124518466,
          "Predicted": -0.27873738314811347
         },
         {
          "Actual": -0.6191996671662094,
          "Predicted": -0.019296636804540402
         },
         {
          "Actual": 0.2490432055621813,
          "Predicted": 0.19014595084926955
         },
         {
          "Actual": -0.5066231483454661,
          "Predicted": 0.2983218452967207
         },
         {
          "Actual": -1.7147633993113194,
          "Predicted": -0.09171844797702325
         },
         {
          "Actual": -0.595814404210922,
          "Predicted": -0.04278509583883368
         },
         {
          "Actual": -0.6005591203098656,
          "Predicted": -0.10476049022678742
         },
         {
          "Actual": 0.1691883972909379,
          "Predicted": -0.018548011144076577
         },
         {
          "Actual": 0.09254584953393209,
          "Predicted": 0.30101581847435666
         },
         {
          "Actual": 0.2601767559706423,
          "Predicted": 0.654116317969592
         },
         {
          "Actual": -1.7041163497799285,
          "Predicted": -0.46721440406418774
         },
         {
          "Actual": -1.716904870543247,
          "Predicted": -0.21265624097228256
         },
         {
          "Actual": 0.30689919578428887,
          "Predicted": -0.16187990420554965
         },
         {
          "Actual": 0.5489707256116438,
          "Predicted": -0.018625021164945098
         },
         {
          "Actual": 0.9469946433537056,
          "Predicted": 0.17472448844462796
         },
         {
          "Actual": 0.5077596113989621,
          "Predicted": 0.3672618836178753
         },
         {
          "Actual": 0.10272611004588453,
          "Predicted": 0.21201723680091522
         },
         {
          "Actual": 0.47610778281526017,
          "Predicted": 0.21754167666010465
         },
         {
          "Actual": 0.5193928240529685,
          "Predicted": 0.5732480580142979
         },
         {
          "Actual": 0.969098009853359,
          "Predicted": 0.6300884094175445
         },
         {
          "Actual": 0.6285111500537061,
          "Predicted": 0.8707197814285446
         },
         {
          "Actual": 0.9540818595562084,
          "Predicted": 0.893100705605618
         },
         {
          "Actual": 0.3941994296962461,
          "Predicted": 0.19667412403388768
         },
         {
          "Actual": 0.1212071724211305,
          "Predicted": 0.07899388488281985
         },
         {
          "Actual": 1.024188365813867,
          "Predicted": 0.4025734411735904
         },
         {
          "Actual": 0.8325304197356637,
          "Predicted": 0.5028762340574261
         },
         {
          "Actual": 0.45099626260986286,
          "Predicted": 0.5325389682197694
         },
         {
          "Actual": 0.6677869242402198,
          "Predicted": 0.7667024673618449
         },
         {
          "Actual": -1.7313387188349838,
          "Predicted": -0.7693292225187175
         },
         {
          "Actual": -1.708055106697049,
          "Predicted": -0.5004045534446194
         },
         {
          "Actual": -0.777518400402223,
          "Predicted": -0.33909557288189557
         },
         {
          "Actual": 0.0029152870618811663,
          "Predicted": -0.17910738958461847
         },
         {
          "Actual": 0.26720673881537604,
          "Predicted": 0.03992801381824934
         },
         {
          "Actual": -0.06628108758344896,
          "Predicted": -0.027165811744252342
         },
         {
          "Actual": -0.4575942496940446,
          "Predicted": -1.039891115911489
         },
         {
          "Actual": -0.08672357643863646,
          "Predicted": -0.8479854563414612
         },
         {
          "Actual": 0.10169397817232238,
          "Predicted": -0.446820249020633
         },
         {
          "Actual": 0.3746893573256964,
          "Predicted": -0.32299470131809477
         },
         {
          "Actual": -0.38483491121155033,
          "Predicted": -0.38324217876370575
         },
         {
          "Actual": 0.5364463888348845,
          "Predicted": -0.3850533873764435
         },
         {
          "Actual": -1.7253683750501103,
          "Predicted": -1.3214601242808393
         },
         {
          "Actual": -1.7192449561268195,
          "Predicted": -1.1769334641309224
         },
         {
          "Actual": -0.3180614692338375,
          "Predicted": -0.7208729830973557
         },
         {
          "Actual": -0.6601910016052787,
          "Predicted": -0.7550688809722143
         },
         {
          "Actual": 0.35735434682291006,
          "Predicted": -0.8552911571287828
         },
         {
          "Actual": 0.31723782624815744,
          "Predicted": -0.7489557202693979
         },
         {
          "Actual": 0.9898870514535507,
          "Predicted": 0.6860462323703732
         },
         {
          "Actual": 1.0072235616892713,
          "Predicted": 0.7480532444706158
         },
         {
          "Actual": 0.9147397950316101,
          "Predicted": 0.9184970188845263
         },
         {
          "Actual": 1.347216966431275,
          "Predicted": 0.9586662092429038
         },
         {
          "Actual": 1.1098899153850383,
          "Predicted": 1.042832449300775
         },
         {
          "Actual": 1.372101350361042,
          "Predicted": 1.1009005412941766
         },
         {
          "Actual": 0.6232206524580867,
          "Predicted": 0.6295780126020483
         },
         {
          "Actual": 0.6964386559884815,
          "Predicted": 0.7688899479341362
         },
         {
          "Actual": 1.1265164098127416,
          "Predicted": 0.9503421487726305
         },
         {
          "Actual": 1.1426015189301293,
          "Predicted": 0.9928006504529506
         },
         {
          "Actual": 1.0110203913405087,
          "Predicted": 0.9730240920514125
         },
         {
          "Actual": 1.1408073111841113,
          "Predicted": 0.9596083140541208
         },
         {
          "Actual": 0.04685774442833916,
          "Predicted": 0.5810913727272862
         },
         {
          "Actual": 0.45427917949965757,
          "Predicted": 0.4041320691834485
         },
         {
          "Actual": 0.3276747654648868,
          "Predicted": 0.4413396509563602
         },
         {
          "Actual": 0.3427072254295894,
          "Predicted": 0.42720085649716716
         },
         {
          "Actual": 0.5353011423746961,
          "Predicted": 0.4788369328209553
         },
         {
          "Actual": 0.5947024049196776,
          "Predicted": 0.5063747224036291
         },
         {
          "Actual": 0.5450681622106401,
          "Predicted": 0.5558370098989348
         },
         {
          "Actual": 0.7297276005416765,
          "Predicted": 0.5623285201496951
         },
         {
          "Actual": 0.6777266947376237,
          "Predicted": 0.5063747224036291
         },
         {
          "Actual": 0.7833384532679604,
          "Predicted": 0.5558370098989348
         },
         {
          "Actual": 0.8298166359142256,
          "Predicted": 0.5623285201496951
         },
         {
          "Actual": 0.07639439958263984,
          "Predicted": 0.43340023737546535
         },
         {
          "Actual": 0.48879996631682937,
          "Predicted": 0.42544110885554476
         },
         {
          "Actual": 0.08965881998709718,
          "Predicted": 0.4783420458852441
         },
         {
          "Actual": 0.4788459610828766,
          "Predicted": 0.5854801584556798
         },
         {
          "Actual": 0.7352754378022773,
          "Predicted": 0.5820404934840849
         },
         {
          "Actual": 0.8592523760444415,
          "Predicted": 0.6211494147827262
         },
         {
          "Actual": 0.5181370528276799,
          "Predicted": 0.591439595007678
         },
         {
          "Actual": 1.110769425422819,
          "Predicted": 0.6112494423869905
         },
         {
          "Actual": 0.5882186648216656,
          "Predicted": 0.6211494147827262
         },
         {
          "Actual": 0.9382060898256559,
          "Predicted": 0.591439595007678
         },
         {
          "Actual": 0.8919642402551522,
          "Predicted": 0.6112494423869905
         },
         {
          "Actual": -1.63114533644751,
          "Predicted": -1.275010463113847
         },
         {
          "Actual": -1.624932127137781,
          "Predicted": -0.7086065874790686
         },
         {
          "Actual": -0.4310167108998409,
          "Predicted": -0.2778513822482102
         },
         {
          "Actual": -0.414388477240741,
          "Predicted": 0.022317526794972137
         },
         {
          "Actual": -1.5627420978824806,
          "Predicted": -1.1708313912558863
         },
         {
          "Actual": -0.4803221666150284,
          "Predicted": -0.9634824900879266
         },
         {
          "Actual": -0.4215515313272883,
          "Predicted": -0.4607274105465929
         },
         {
          "Actual": 0.45012611389877827,
          "Predicted": -0.16439014855688905
         },
         {
          "Actual": -1.6233736404155883,
          "Predicted": -1.1714932254543227
         },
         {
          "Actual": -1.5389523837698047,
          "Predicted": -0.7039177449814771
         },
         {
          "Actual": -1.486753720487372,
          "Predicted": -0.2778513822482102
         },
         {
          "Actual": -0.33672237097363633,
          "Predicted": 0.022317526794972148
         },
         {
          "Actual": -1.5398672830764324,
          "Predicted": -1.0405465204607363
         },
         {
          "Actual": -1.50012896722733,
          "Predicted": -0.6809824533586564
         },
         {
          "Actual": -1.2252502121968616,
          "Predicted": -0.44351376652814745
         },
         {
          "Actual": -0.033251284700707685,
          "Predicted": -0.11058475793419889
         },
         {
          "Actual": -1.5596999391302981,
          "Predicted": -1.2250801868519172
         },
         {
          "Actual": -1.6386543074788253,
          "Predicted": -0.7151763160746348
         },
         {
          "Actual": -1.4774119638692573,
          "Predicted": -0.25851388487219445
         },
         {
          "Actual": 0.1693476886412161,
          "Predicted": -0.008231772342998843
         },
         {
          "Actual": -1.6890801485991418,
          "Predicted": -0.9388188482801487
         },
         {
          "Actual": -1.676862634986669,
          "Predicted": -0.6541226798527827
         },
         {
          "Actual": -1.6180553802812616,
          "Predicted": -0.5407002812967718
         },
         {
          "Actual": -0.166157820720014,
          "Predicted": -0.12343359673267855
         },
         {
          "Actual": -1.732960095808843,
          "Predicted": -1.2859697309118854
         },
         {
          "Actual": -1.5050934986768385,
          "Predicted": -0.8827820643776075
         },
         {
          "Actual": -1.6854687123738,
          "Predicted": -0.6432399410854136
         },
         {
          "Actual": 0.1781515093993653,
          "Predicted": -0.4387898005711962
         },
         {
          "Actual": -1.6289136905041275,
          "Predicted": -0.2324029235106662
         },
         {
          "Actual": -1.7087384299912287,
          "Predicted": 0.07336834609718833
         },
         {
          "Actual": -1.7340057991666609,
          "Predicted": 0.30238619210401224
         },
         {
          "Actual": -1.734046068505887,
          "Predicted": 0.21030238293893885
         },
         {
          "Actual": -1.728117104499182,
          "Predicted": 0.4436236062203523
         },
         {
          "Actual": -0.7378306768539337,
          "Predicted": 0.46113310862062223
         },
         {
          "Actual": -1.2393473716652177,
          "Predicted": -0.38636351290165105
         },
         {
          "Actual": -1.6830781555797543,
          "Predicted": -0.02103121876724572
         },
         {
          "Actual": -1.7222425960084509,
          "Predicted": 0.2879007106211126
         },
         {
          "Actual": -1.6073342695623016,
          "Predicted": 0.31595993682695456
         },
         {
          "Actual": -1.7304719028425155,
          "Predicted": 0.2663647990669899
         },
         {
          "Actual": -1.7146754200265095,
          "Predicted": 0.3721129821198143
         },
         {
          "Actual": -1.3555378956974864,
          "Predicted": -0.3075274045100116
         },
         {
          "Actual": -1.6511703754795675,
          "Predicted": 0.16913124591928036
         },
         {
          "Actual": -0.4941580865575602,
          "Predicted": 0.3928588226266032
         },
         {
          "Actual": -1.7154595678634008,
          "Predicted": 0.39364860104907123
         },
         {
          "Actual": -1.7016691671848512,
          "Predicted": 0.20492910064746436
         },
         {
          "Actual": -1.733851587179074,
          "Predicted": 0.2469860650138392
         },
         {
          "Actual": -1.5149807282752994,
          "Predicted": -0.2324029235106662
         },
         {
          "Actual": 0.815834279455802,
          "Predicted": 0.07336834609718833
         },
         {
          "Actual": 0.9659637507166099,
          "Predicted": 0.30238619210401224
         },
         {
          "Actual": 1.0281753738856294,
          "Predicted": 0.21030238293893885
         },
         {
          "Actual": 0.9602168958688966,
          "Predicted": 0.4436236062203523
         },
         {
          "Actual": 0.9526041704778914,
          "Predicted": 0.46113310862062223
         },
         {
          "Actual": 0.4666292671831265,
          "Predicted": -0.38636351290165105
         },
         {
          "Actual": 0.9700849613570814,
          "Predicted": -0.02103121876724572
         },
         {
          "Actual": 1.0786804942637493,
          "Predicted": 0.2879007106211126
         },
         {
          "Actual": 0.9936150762644375,
          "Predicted": 0.31595993682695456
         },
         {
          "Actual": 1.1670807300690658,
          "Predicted": 0.2663647990669899
         },
         {
          "Actual": 1.2373146151302634,
          "Predicted": 0.3721129821198143
         },
         {
          "Actual": -1.6584560625101747,
          "Predicted": -0.3075274045100116
         },
         {
          "Actual": 0.7787184297330254,
          "Predicted": 0.16913124591928036
         },
         {
          "Actual": 0.85749185886834,
          "Predicted": 0.3928588226266032
         },
         {
          "Actual": -0.2947369082180337,
          "Predicted": 0.39364860104907123
         },
         {
          "Actual": 0.9394757231642096,
          "Predicted": 0.20492910064746436
         },
         {
          "Actual": 0.682521335014642,
          "Predicted": 0.2469860650138392
         },
         {
          "Actual": -0.3165393639447492,
          "Predicted": -0.006824673338754145
         },
         {
          "Actual": 1.0705884396323198,
          "Predicted": 0.5505651607703503
         },
         {
          "Actual": 1.275721264541579,
          "Predicted": 1.1280302433130909
         },
         {
          "Actual": 1.240445824250106,
          "Predicted": 1.2101200487115196
         },
         {
          "Actual": 1.4097212074043393,
          "Predicted": 1.2241805328180717
         },
         {
          "Actual": 1.4179867601191616,
          "Predicted": 1.1128643422117777
         },
         {
          "Actual": 0.4458219235301411,
          "Predicted": 0.3420947481390413
         },
         {
          "Actual": 1.3923888076223314,
          "Predicted": 0.6968025385918244
         },
         {
          "Actual": 1.2234901168570718,
          "Predicted": 1.2241805328180717
         },
         {
          "Actual": 0.165112710350306,
          "Predicted": -0.06575834313786386
         },
         {
          "Actual": 1.3275264717329003,
          "Predicted": 0.652253148995162
         },
         {
          "Actual": 1.6278607623850851,
          "Predicted": 1.093456173026908
         },
         {
          "Actual": 1.3971770529768064,
          "Predicted": 1.4268661548344839
         },
         {
          "Actual": 1.5805183166000956,
          "Predicted": 1.2874728248965903
         },
         {
          "Actual": 1.245878304990904,
          "Predicted": 1.0791178857098338
         },
         {
          "Actual": 0.8220855512454824,
          "Predicted": 0.3420947481390413
         },
         {
          "Actual": 1.2329908224469817,
          "Predicted": 0.5995964831928308
         },
         {
          "Actual": 1.051536827343452,
          "Predicted": 1.2874728248965903
         },
         {
          "Actual": 0.0698579839856404,
          "Predicted": -0.38636351290165105
         },
         {
          "Actual": 0.2029250175515191,
          "Predicted": -0.02103121876724572
         },
         {
          "Actual": 0.3891654853281619,
          "Predicted": 0.2879007106211126
         },
         {
          "Actual": 0.6722687417616505,
          "Predicted": 0.31595993682695456
         },
         {
          "Actual": 0.8504278299138499,
          "Predicted": 0.2663647990669899
         },
         {
          "Actual": 0.8808226706864403,
          "Predicted": 0.3721129821198143
         },
         {
          "Actual": 0.4499735765481431,
          "Predicted": -0.3075274045100116
         },
         {
          "Actual": -0.12384149690878202,
          "Predicted": 0.16913124591928036
         },
         {
          "Actual": 0.6848992169584753,
          "Predicted": 0.3928588226266032
         },
         {
          "Actual": 0.4460607746296855,
          "Predicted": 0.39364860104907123
         },
         {
          "Actual": 0.5260179619364009,
          "Predicted": 0.20492910064746436
         },
         {
          "Actual": 0.18820947076620873,
          "Predicted": 0.2469860650138392
         },
         {
          "Actual": 0.1203017917579299,
          "Predicted": -0.006824673338754145
         },
         {
          "Actual": 1.1618161296452192,
          "Predicted": 0.5505651607703503
         },
         {
          "Actual": 1.2335632563037267,
          "Predicted": 1.1280302433130909
         },
         {
          "Actual": 1.50065593499461,
          "Predicted": 1.2101200487115196
         },
         {
          "Actual": 1.7396909509923306,
          "Predicted": 1.2241805328180717
         },
         {
          "Actual": 1.3973598119531323,
          "Predicted": 1.1128643422117777
         },
         {
          "Actual": -0.09193155534077604,
          "Predicted": 0.3420947481390413
         },
         {
          "Actual": 1.4757294006739403,
          "Predicted": 0.6968025385918244
         },
         {
          "Actual": 1.0305757468153802,
          "Predicted": 1.2241805328180717
         },
         {
          "Actual": 0.4142777774927579,
          "Predicted": -0.06575834313786386
         },
         {
          "Actual": 0.7074961357350225,
          "Predicted": 0.652253148995162
         },
         {
          "Actual": 1.3525218777800256,
          "Predicted": 1.093456173026908
         },
         {
          "Actual": 1.6721130553767636,
          "Predicted": 1.4268661548344839
         },
         {
          "Actual": 1.606731640813153,
          "Predicted": 1.2874728248965903
         },
         {
          "Actual": 2.0448167026124673,
          "Predicted": 1.0791178857098338
         },
         {
          "Actual": 0.6516448860016313,
          "Predicted": 0.3420947481390413
         },
         {
          "Actual": 1.5941207482015063,
          "Predicted": 0.5995964831928308
         },
         {
          "Actual": 1.351151350477004,
          "Predicted": 1.2874728248965903
         },
         {
          "Actual": 0.9629329557495568,
          "Predicted": 0.08050367165891728
         },
         {
          "Actual": 1.6155324123266712,
          "Predicted": 0.6494782904593341
         },
         {
          "Actual": 1.5769916703886968,
          "Predicted": 0.9712542668457612
         },
         {
          "Actual": 1.3106444175602663,
          "Predicted": 0.7901187157357678
         },
         {
          "Actual": 1.9293456679947034,
          "Predicted": 0.8160148643641262
         },
         {
          "Actual": -1.7076310854028558,
          "Predicted": 0.798275954554024
         },
         {
          "Actual": -1.7324142861595355,
          "Predicted": 0.3420947481390413
         },
         {
          "Actual": 1.7097930346379535,
          "Predicted": 0.4842660760115011
         },
         {
          "Actual": 1.3304194858665923,
          "Predicted": 0.8160148643641262
         },
         {
          "Actual": -0.0932931666999606,
          "Predicted": -0.2324029235106662
         },
         {
          "Actual": 0.7189951490794152,
          "Predicted": 0.07336834609718833
         },
         {
          "Actual": 1.3618548716980141,
          "Predicted": 0.30238619210401224
         },
         {
          "Actual": 1.4046764342276046,
          "Predicted": 0.21030238293893885
         },
         {
          "Actual": 1.1174807275968746,
          "Predicted": 0.4436236062203523
         },
         {
          "Actual": 1.3555787749434025,
          "Predicted": 0.46113310862062223
         },
         {
          "Actual": -1.6292251341557422,
          "Predicted": -0.38636351290165105
         },
         {
          "Actual": 1.0044679793516997,
          "Predicted": -0.02103121876724572
         },
         {
          "Actual": 0.8241396854816538,
          "Predicted": 0.2879007106211126
         },
         {
          "Actual": 1.4890509502027276,
          "Predicted": 0.31595993682695456
         },
         {
          "Actual": 1.1887592843879227,
          "Predicted": 0.2663647990669899
         },
         {
          "Actual": 1.448186157259716,
          "Predicted": 0.3721129821198143
         },
         {
          "Actual": -0.08516624167706438,
          "Predicted": -0.3075274045100116
         },
         {
          "Actual": 0.8593238154835646,
          "Predicted": 0.16913124591928036
         },
         {
          "Actual": 1.3066552901629787,
          "Predicted": 0.3928588226266032
         },
         {
          "Actual": 1.3411875685880612,
          "Predicted": 0.39364860104907123
         },
         {
          "Actual": 1.3793529928017008,
          "Predicted": 0.20492910064746436
         },
         {
          "Actual": 1.7464149663983044,
          "Predicted": 0.2469860650138392
         },
         {
          "Actual": -1.5287927860094397,
          "Predicted": -1.203170843049153
         },
         {
          "Actual": -0.3882294166729707,
          "Predicted": -1.014438619513027
         },
         {
          "Actual": -1.7316265389925536,
          "Predicted": -1.1676532083187259
         },
         {
          "Actual": -1.7049695335203794,
          "Predicted": -0.9984703461167214
         },
         {
          "Actual": -0.2177770413567978,
          "Predicted": -0.8486268435703532
         },
         {
          "Actual": -0.04602951711874762,
          "Predicted": -0.8600392593441151
         },
         {
          "Actual": -1.5745011168264074,
          "Predicted": -1.014438619513027
         },
         {
          "Actual": -1.6498228252015288,
          "Predicted": -1.014438619513027
         },
         {
          "Actual": -1.7057112144801048,
          "Predicted": -0.9984703461167214
         },
         {
          "Actual": -1.6371141712436432,
          "Predicted": -0.851084891984897
         },
         {
          "Actual": -1.3411734425924189,
          "Predicted": -1.2031708430491528
         },
         {
          "Actual": -1.626259412079719,
          "Predicted": -1.1686037579416735
         },
         {
          "Actual": -1.6496265929931648,
          "Predicted": -0.9940686564527301
         },
         {
          "Actual": -0.11062214557817908,
          "Predicted": -0.9255102053154554
         },
         {
          "Actual": -0.5900874812933989,
          "Predicted": -0.9111284988082604
         },
         {
          "Actual": -1.6849236191162233,
          "Predicted": -0.9283760357520712
         },
         {
          "Actual": -1.4415873445696188,
          "Predicted": -1.1686037579416735
         },
         {
          "Actual": -1.7026242838413572,
          "Predicted": -1.1686037579416735
         },
         {
          "Actual": -0.3584062411127023,
          "Predicted": -0.9255102053154554
         },
         {
          "Actual": -1.7326297637267805,
          "Predicted": -0.995528344906914
         },
         {
          "Actual": -1.6823450208228292,
          "Predicted": -1.203170843049153
         },
         {
          "Actual": -0.1884357547583553,
          "Predicted": -1.014438619513027
         },
         {
          "Actual": -1.726884075804322,
          "Predicted": -1.1676532083187259
         },
         {
          "Actual": -0.20245432124166832,
          "Predicted": -0.9984703461167214
         },
         {
          "Actual": -1.7338729332577452,
          "Predicted": -0.8486268435703532
         },
         {
          "Actual": -0.5301575231740762,
          "Predicted": -0.8600392593441151
         },
         {
          "Actual": -0.6022568745403309,
          "Predicted": -1.014438619513027
         },
         {
          "Actual": -1.7340012748578617,
          "Predicted": -1.014438619513027
         },
         {
          "Actual": -0.012341704928622153,
          "Predicted": -0.9984703461167214
         },
         {
          "Actual": 0.01682210572725822,
          "Predicted": -0.851084891984897
         },
         {
          "Actual": -1.6752575235185327,
          "Predicted": -1.074573164767602
         },
         {
          "Actual": 0.5626799174372694,
          "Predicted": -1.102449459021896
         },
         {
          "Actual": 0.14655881862281403,
          "Predicted": -0.9299695300366871
         },
         {
          "Actual": -1.7240478701626964,
          "Predicted": -0.9094318608863583
         },
         {
          "Actual": -0.22444490721682578,
          "Predicted": -0.7637861234566442
         },
         {
          "Actual": -0.4693782943901753,
          "Predicted": -0.9371152166021454
         },
         {
          "Actual": -1.7306638799839338,
          "Predicted": -1.102449459021896
         },
         {
          "Actual": 0.27901573687804254,
          "Predicted": -1.102449459021896
         },
         {
          "Actual": -1.7289437221354844,
          "Predicted": -0.9094318608863583
         },
         {
          "Actual": -1.7340517267912408,
          "Predicted": -0.9840572658657338
         },
         {
          "Actual": -0.25621944029340116,
          "Predicted": -1.2031708430491528
         },
         {
          "Actual": -0.5436488553074462,
          "Predicted": -1.1686037579416735
         },
         {
          "Actual": -0.3453838637685019,
          "Predicted": -0.9940686564527301
         },
         {
          "Actual": -1.7266202686628955,
          "Predicted": -0.9255102053154554
         },
         {
          "Actual": -0.1580166670458765,
          "Predicted": -0.9111284988082604
         },
         {
          "Actual": -1.71768897269431,
          "Predicted": -0.9283760357520712
         },
         {
          "Actual": 0.2529913190432835,
          "Predicted": -1.1686037579416735
         },
         {
          "Actual": -1.7334686339080414,
          "Predicted": -1.1686037579416735
         },
         {
          "Actual": -1.733079346037299,
          "Predicted": -0.9255102053154554
         },
         {
          "Actual": -0.25591864066883,
          "Predicted": -0.995528344906914
         },
         {
          "Actual": 0.44475928121189534,
          "Predicted": 1.2680217751622953
         },
         {
          "Actual": 0.8546831152153719,
          "Predicted": 1.1948192665010915
         },
         {
          "Actual": 1.2329348028061486,
          "Predicted": 1.3419795551018137
         },
         {
          "Actual": 1.4185742120145162,
          "Predicted": 1.2467001101500534
         },
         {
          "Actual": 1.273517805750556,
          "Predicted": 1.2738209462317804
         },
         {
          "Actual": 1.2964152506137971,
          "Predicted": 1.2467001101500534
         },
         {
          "Actual": 1.3861777289872383,
          "Predicted": 1.2467001101500534
         },
         {
          "Actual": 1.0677218210454962,
          "Predicted": 1.2467001101500534
         },
         {
          "Actual": 0.44177389439419534,
          "Predicted": 1.3169874238129184
         },
         {
          "Actual": 1.1993365228558548,
          "Predicted": 1.3010182929416247
         },
         {
          "Actual": 1.3084306437380495,
          "Predicted": 1.4495443046691519
         },
         {
          "Actual": 1.351383574305234,
          "Predicted": 1.4360246012154496
         },
         {
          "Actual": 1.566121721062925,
          "Predicted": 1.3324682499175402
         },
         {
          "Actual": 1.1958667832874952,
          "Predicted": 1.4360246012154496
         },
         {
          "Actual": 1.3410326410578157,
          "Predicted": 1.4360246012154496
         },
         {
          "Actual": 1.280915973745326,
          "Predicted": 1.4360246012154496
         },
         {
          "Actual": 1.6235944929458872,
          "Predicted": 1.310039369312146
         },
         {
          "Actual": 1.8694904254525107,
          "Predicted": 1.3347764043034493
         },
         {
          "Actual": 1.9360343178005008,
          "Predicted": 1.4727274927456477
         },
         {
          "Actual": 1.4941628023378188,
          "Predicted": 1.3611632665466311
         },
         {
          "Actual": 1.5454474559665985,
          "Predicted": 1.3099915775167448
         },
         {
          "Actual": 2.2593029340756625,
          "Predicted": 1.381776496376359
         },
         {
          "Actual": 1.7860060142529575,
          "Predicted": 1.4857811035530073
         },
         {
          "Actual": 1.7217398168536462,
          "Predicted": 1.3831042264401976
         },
         {
          "Actual": 1.7658498683254218,
          "Predicted": 1.316774393336132
         },
         {
          "Actual": 1.7841145869653667,
          "Predicted": 1.4001269706322912
         },
         {
          "Actual": 2.0896577086649692,
          "Predicted": 1.438807962840246
         },
         {
          "Actual": 1.5264363712929487,
          "Predicted": 1.2951090564944872
         },
         {
          "Actual": 0.7537568970397923,
          "Predicted": 1.2827293137990623
         },
         {
          "Actual": 1.2317399039896377,
          "Predicted": 1.310035932363414
         },
         {
          "Actual": 1.4428011974606427,
          "Predicted": 1.352430620398267
         },
         {
          "Actual": 1.2699760376463578,
          "Predicted": 1.2624385149486292
         },
         {
          "Actual": 1.1651957810914662,
          "Predicted": 1.3099915775167448
         },
         {
          "Actual": 1.2325000120902332,
          "Predicted": 1.310035932363414
         },
         {
          "Actual": 1.403665417590862,
          "Predicted": 1.4857811035530073
         },
         {
          "Actual": 1.4763947640560866,
          "Predicted": 1.3831042264401976
         },
         {
          "Actual": 0.8904641383720724,
          "Predicted": 1.2585528798964978
         },
         {
          "Actual": 1.3297285872443159,
          "Predicted": 1.3886812178058512
         },
         {
          "Actual": 1.1593103843031287,
          "Predicted": 1.3636555425557575
         },
         {
          "Actual": 1.2635611821595465,
          "Predicted": 1.3590652239626633
         },
         {
          "Actual": -1.5409338601121645,
          "Predicted": -0.6177236901772533
         },
         {
          "Actual": 0.6552253822672934,
          "Predicted": -0.30381798504746044
         },
         {
          "Actual": 0.44222264708251297,
          "Predicted": 0.21734841700545504
         },
         {
          "Actual": 0.34415075831367375,
          "Predicted": 0.4118853551432908
         },
         {
          "Actual": 0.4144251959409676,
          "Predicted": 0.5401626110630753
         },
         {
          "Actual": 0.6639868947465833,
          "Predicted": 0.4292817220835682
         },
         {
          "Actual": 0.5722031325312683,
          "Predicted": -0.5601186887167156
         },
         {
          "Actual": -0.12747180171063852,
          "Predicted": -0.4538710506050387
         },
         {
          "Actual": 0.07282819196602335,
          "Predicted": 0.020662548135488963
         },
         {
          "Actual": 1.0248659760418888,
          "Predicted": 0.21220040246647714
         },
         {
          "Actual": 0.7540239666600497,
          "Predicted": 0.3504466059602867
         },
         {
          "Actual": 0.18040795642931298,
          "Predicted": 0.21220040246647712
         },
         {
          "Actual": -1.7017553002128147,
          "Predicted": -0.6562461032541513
         },
         {
          "Actual": 0.22875540099660352,
          "Predicted": -0.5615342884550983
         },
         {
          "Actual": 0.29218297781715913,
          "Predicted": -0.22105986255644505
         },
         {
          "Actual": 0.07846172483514056,
          "Predicted": -0.09827199723451167
         },
         {
          "Actual": 0.2553165299187407,
          "Predicted": 0.12727552122568758
         },
         {
          "Actual": -0.08595265705318622,
          "Predicted": -0.044880051811513694
         },
         {
          "Actual": 0.05866949701219488,
          "Predicted": -0.6077148337964571
         },
         {
          "Actual": -1.7314183300543482,
          "Predicted": -0.5032571459252537
         },
         {
          "Actual": 0.449704046242668,
          "Predicted": 0.2173484170054551
         },
         {
          "Actual": 0.5967803471253131,
          "Predicted": 0.4118853551432908
         },
         {
          "Actual": 0.6619364131067328,
          "Predicted": 0.5790460628050895
         },
         {
          "Actual": 0.3722759308429425,
          "Predicted": 0.4292817220835681
         },
         {
          "Actual": -1.7141693039400419,
          "Predicted": -0.5522979518385623
         },
         {
          "Actual": 0.23437783069513082,
          "Predicted": -0.4538710506050387
         },
         {
          "Actual": 0.1523818683181678,
          "Predicted": 0.11166485827669764
         },
         {
          "Actual": 0.34930336961589853,
          "Predicted": 0.22743857751398944
         },
         {
          "Actual": 0.810453441508171,
          "Predicted": 0.43524177131391584
         },
         {
          "Actual": 0.6798343414811683,
          "Predicted": 0.3230307578610983
         },
         {
          "Actual": -1.729120537124574,
          "Predicted": -0.6562461032541512
         },
         {
          "Actual": -1.6599128890725356,
          "Predicted": -0.6779087668141431
         },
         {
          "Actual": -1.415192195056207,
          "Predicted": -0.3223692154449471
         },
         {
          "Actual": -1.7040177902874012,
          "Predicted": -0.0982719972345117
         },
         {
          "Actual": 0.9324234636058079,
          "Predicted": 0.0738493999320227
         },
         {
          "Actual": 0.42063057906416174,
          "Predicted": -0.025206841954816806
         },
         {
          "Actual": 0.051538919334397484,
          "Predicted": -0.607714833796457
         },
         {
          "Actual": -1.6077981044059753,
          "Predicted": -0.5032571459252537
         },
         {
          "Actual": 0.63239091831764,
          "Predicted": 0.21734841700545504
         },
         {
          "Actual": 1.078636494464393,
          "Predicted": 0.4118853551432908
         },
         {
          "Actual": -0.26107233791958323,
          "Predicted": 0.5790460628050895
         },
         {
          "Actual": 0.5173799644094874,
          "Predicted": 0.4292817220835681
         },
         {
          "Actual": 0.8230179037055138,
          "Predicted": 0.4118853551432908
         },
         {
          "Actual": -1.6176226836589604,
          "Predicted": 0.21734841700545504
         },
         {
          "Actual": 0.8757571165886274,
          "Predicted": 0.4118853551432908
         },
         {
          "Actual": 0.43373157781723387,
          "Predicted": 0.4118853551432908
         },
         {
          "Actual": 0.2843950194401788,
          "Predicted": 0.4118853551432908
         },
         {
          "Actual": 0.7644221715407007,
          "Predicted": 0.4118853551432908
         },
         {
          "Actual": -1.6757315815268445,
          "Predicted": -0.5742049889284433
         },
         {
          "Actual": 0.6764874222890154,
          "Predicted": -0.5615342884550981
         },
         {
          "Actual": 0.14358897713224586,
          "Predicted": -0.23936525135108389
         },
         {
          "Actual": -1.7262224840614593,
          "Predicted": -0.0627160705805122
         },
         {
          "Actual": 0.19363788050753764,
          "Predicted": 0.10193191824266548
         },
         {
          "Actual": 0.30725502122257914,
          "Predicted": 0.041665588111568286
         },
         {
          "Actual": -1.7335008216548609,
          "Predicted": -0.0627160705805122
         },
         {
          "Actual": -0.33461262155579324,
          "Predicted": -0.23936525135108389
         },
         {
          "Actual": 0.6483892194062745,
          "Predicted": -0.0627160705805122
         },
         {
          "Actual": 0.5991924947889065,
          "Predicted": -0.0627160705805122
         },
         {
          "Actual": 0.29041201478191836,
          "Predicted": -0.0627160705805122
         },
         {
          "Actual": 0.6215363695168153,
          "Predicted": -0.0627160705805122
         },
         {
          "Actual": -0.5802590473578004,
          "Predicted": -0.9211193183708142
         },
         {
          "Actual": 0.11825340294158992,
          "Predicted": -0.9211193183708141
         },
         {
          "Actual": -0.3733886832622545,
          "Predicted": -0.9211193183708141
         },
         {
          "Actual": -0.12634491145879032,
          "Predicted": -1.044251132727154
         },
         {
          "Actual": -0.44531124019440355,
          "Predicted": -1.044251132727154
         },
         {
          "Actual": -0.6033055392382325,
          "Predicted": -1.044251132727154
         },
         {
          "Actual": -0.20883079816638836,
          "Predicted": -1.0442511327271538
         },
         {
          "Actual": -1.5070593355984094,
          "Predicted": -1.04454364241092
         },
         {
          "Actual": -1.5513675874597974,
          "Predicted": -1.0342838058386477
         },
         {
          "Actual": -0.3323347927204897,
          "Predicted": -1.0342838058386477
         },
         {
          "Actual": -0.6095888452203931,
          "Predicted": -0.4183822885443925
         },
         {
          "Actual": -0.9124611562267633,
          "Predicted": -0.4576315444967694
         },
         {
          "Actual": -0.0726235205603797,
          "Predicted": -0.24261090483052508
         },
         {
          "Actual": -0.1842481083628419,
          "Predicted": -0.1813609024626924
         },
         {
          "Actual": -0.04332619020688285,
          "Predicted": -0.24261090483052508
         },
         {
          "Actual": -0.31271632021287776,
          "Predicted": -0.24261090483052508
         },
         {
          "Actual": -0.09357134971542085,
          "Predicted": -0.24261090483052508
         },
         {
          "Actual": -1.5568521436478464,
          "Predicted": -0.5110066883104464
         },
         {
          "Actual": -0.2907601695969949,
          "Predicted": -0.4766994645257311
         },
         {
          "Actual": -0.24343081091533272,
          "Predicted": -0.22576995428167487
         },
         {
          "Actual": -0.2205120435930618,
          "Predicted": -0.21900846944746244
         },
         {
          "Actual": -0.5845241956644873,
          "Predicted": -0.22576995428167487
         },
         {
          "Actual": -0.22283402316834736,
          "Predicted": -0.22576995428167487
         },
         {
          "Actual": -0.1685184823242877,
          "Predicted": -0.22576995428167487
         },
         {
          "Actual": -1.72266082232936,
          "Predicted": -0.5206875690077604
         },
         {
          "Actual": -0.8552314076649417,
          "Predicted": -0.4766994645257312
         },
         {
          "Actual": -0.21870965322334365,
          "Predicted": -0.22576995428167487
         },
         {
          "Actual": -0.17351368562523606,
          "Predicted": -0.21900846944746244
         },
         {
          "Actual": 0.32987104027553,
          "Predicted": -0.22576995428167487
         },
         {
          "Actual": 0.054464538451903244,
          "Predicted": -0.22576995428167487
         },
         {
          "Actual": -0.22181972739187145,
          "Predicted": -0.22576995428167487
         },
         {
          "Actual": 0.0005304824752868044,
          "Predicted": -0.5351791309482371
         },
         {
          "Actual": -0.9497061060965225,
          "Predicted": -0.4766994645257311
         },
         {
          "Actual": -1.0280200929235084,
          "Predicted": -0.22576995428167487
         },
         {
          "Actual": -0.6032175185362152,
          "Predicted": -0.2190084694474624
         },
         {
          "Actual": 0.45694800529292307,
          "Predicted": -0.22576995428167487
         },
         {
          "Actual": -0.10085728264009489,
          "Predicted": -0.22576995428167487
         },
         {
          "Actual": -0.8227178186708308,
          "Predicted": -0.22576995428167487
         },
         {
          "Actual": -1.6677323657662617,
          "Predicted": -0.3465992326741179
         },
         {
          "Actual": -0.350602094623033,
          "Predicted": -0.45866365534738757
         },
         {
          "Actual": -0.6693404068838968,
          "Predicted": -0.2359827227844221
         },
         {
          "Actual": -0.49945343441775336,
          "Predicted": -0.2175832306178649
         },
         {
          "Actual": 0.12516472587156668,
          "Predicted": -0.2359827227844221
         },
         {
          "Actual": -0.07446057417904652,
          "Predicted": -0.2359827227844221
         },
         {
          "Actual": -0.07131776014487236,
          "Predicted": -0.2359827227844221
         },
         {
          "Actual": -1.727569980894315,
          "Predicted": -1.4185549219430917
         },
         {
          "Actual": -1.6943076053204886,
          "Predicted": -1.313206695510589
         },
         {
          "Actual": 0.21634077083997277,
          "Predicted": -0.9865354178812681
         },
         {
          "Actual": -0.06308456339373339,
          "Predicted": -0.6586145541213754
         },
         {
          "Actual": 0.3218672206879918,
          "Predicted": -0.7094822387308599
         },
         {
          "Actual": -1.7314160703490056,
          "Predicted": -1.4970761353468496
         },
         {
          "Actual": -1.6489400416543993,
          "Predicted": -1.3239560987197987
         },
         {
          "Actual": -1.706653409048786,
          "Predicted": -0.9780798171096794
         },
         {
          "Actual": -1.6673197235160135,
          "Predicted": -0.6817673305321158
         },
         {
          "Actual": -0.3164371899433002,
          "Predicted": -0.7869951503794077
         },
         {
          "Actual": -1.7312475699663101,
          "Predicted": -1.4868873146767423
         },
         {
          "Actual": -1.7329819532256725,
          "Predicted": -1.3059894226009856
         },
         {
          "Actual": -0.7115790200564586,
          "Predicted": -0.9560239276810167
         },
         {
          "Actual": -0.7379860756062822,
          "Predicted": -0.6740620764379204
         },
         {
          "Actual": 0.05878994681263344,
          "Predicted": -0.7768063297093003
         },
         {
          "Actual": -1.7080882097345087,
          "Predicted": -1.4185549219430917
         },
         {
          "Actual": -1.7340565721677381,
          "Predicted": -1.313206695510589
         },
         {
          "Actual": -0.23390808772637622,
          "Predicted": -0.9865354178812681
         },
         {
          "Actual": 0.130142917349623,
          "Predicted": -0.6586145541213754
         },
         {
          "Actual": -0.4918036452098585,
          "Predicted": -0.7094822387308599
         },
         {
          "Actual": -1.723715469966878,
          "Predicted": -1.4970761353468496
         },
         {
          "Actual": -1.6997655451869005,
          "Predicted": -1.3239560987197987
         },
         {
          "Actual": -1.725811142397775,
          "Predicted": -0.9780798171096794
         },
         {
          "Actual": 0.06576173019727918,
          "Predicted": -0.6817673305321158
         },
         {
          "Actual": -1.7207934595484111,
          "Predicted": -0.7869951503794077
         },
         {
          "Actual": -1.60080819145692,
          "Predicted": -1.4868873146767423
         },
         {
          "Actual": -1.6926970971880662,
          "Predicted": -1.3059894226009856
         },
         {
          "Actual": -0.6114644691516475,
          "Predicted": -0.9560239276810167
         },
         {
          "Actual": -1.7284216463710727,
          "Predicted": -0.6740620764379204
         },
         {
          "Actual": -0.40329175481715773,
          "Predicted": -0.7768063297093003
         },
         {
          "Actual": -1.7309117963589042,
          "Predicted": -1.497745141908121
         },
         {
          "Actual": -0.6983086217229301,
          "Predicted": -1.3232983816693409
         },
         {
          "Actual": 0.20362964617581467,
          "Predicted": -0.9234513972462501
         },
         {
          "Actual": -1.6120029924488388,
          "Predicted": -0.7743085223994357
         },
         {
          "Actual": -1.658288621948689,
          "Predicted": -0.787664156940679
         },
         {
          "Actual": -1.718750946007611,
          "Predicted": -1.4868873146767423
         },
         {
          "Actual": -0.6547571197829092,
          "Predicted": -1.3059628818646645
         },
         {
          "Actual": -1.6994926986664438,
          "Predicted": -0.903315668551334
         },
         {
          "Actual": -0.287600955014379,
          "Predicted": -0.5725125612498366
         },
         {
          "Actual": -1.626315263831948,
          "Predicted": -0.7768063297093003
         },
         {
          "Actual": -1.6632547169909335,
          "Predicted": -1.6047266876133413
         },
         {
          "Actual": -1.7180800659993445,
          "Predicted": -1.6145980320714417
         },
         {
          "Actual": -1.7316482924645238,
          "Predicted": -1.7008958608105467
         },
         {
          "Actual": -1.7182349778742738,
          "Predicted": -1.703533347497806
         },
         {
          "Actual": -1.6774251610719826,
          "Predicted": -1.6212575889185867
         },
         {
          "Actual": -1.7336984129952977,
          "Predicted": -1.354204762883554
         },
         {
          "Actual": -1.733808816927232,
          "Predicted": -1.7053293847145248
         },
         {
          "Actual": -1.7333425853209752,
          "Predicted": -1.6989694541778615
         },
         {
          "Actual": -1.7340555151441668,
          "Predicted": -1.704708852659192
         },
         {
          "Actual": -1.646887333384306,
          "Predicted": -1.7038938365573764
         },
         {
          "Actual": -1.7290800190709585,
          "Predicted": -1.704528036835833
         },
         {
          "Actual": -1.7070932669378263,
          "Predicted": -1.6047266876133413
         },
         {
          "Actual": -1.732832093699234,
          "Predicted": -1.6145980320714417
         },
         {
          "Actual": -1.6529064903816553,
          "Predicted": -1.7008958608105467
         },
         {
          "Actual": -1.6908077831155797,
          "Predicted": -1.7047484045373522
         },
         {
          "Actual": -1.7212440779899765,
          "Predicted": -1.6210336921625643
         },
         {
          "Actual": -1.6579774224218355,
          "Predicted": -1.4412868015773677
         },
         {
          "Actual": -1.62797519391336,
          "Predicted": -1.7053293847145248
         },
         {
          "Actual": -1.7237484351531647,
          "Predicted": -1.6988284907820763
         },
         {
          "Actual": -1.7269748323099585,
          "Predicted": -1.6969452302098647
         },
         {
          "Actual": -1.7320624410867953,
          "Predicted": -1.7038938365573764
         },
         {
          "Actual": -1.7264017145510355,
          "Predicted": -1.704528036835833
         },
         {
          "Actual": -1.1752453995989325,
          "Predicted": -1.5974120364442281
         },
         {
          "Actual": -1.6904300682504165,
          "Predicted": -1.6184289528081919
         },
         {
          "Actual": -1.7312687171313446,
          "Predicted": -1.7014932578761663
         },
         {
          "Actual": -1.7200195363896693,
          "Predicted": -1.7030467585015079
         },
         {
          "Actual": -1.5071090674022887,
          "Predicted": -1.6207022050223683
         },
         {
          "Actual": -1.7196712927567417,
          "Predicted": -1.372955043944968
         },
         {
          "Actual": -1.6163413625378176,
          "Predicted": -1.7072133912454768
         },
         {
          "Actual": -1.688547593881895,
          "Predicted": -1.6906053143325561
         },
         {
          "Actual": -1.654214638413391,
          "Predicted": -1.7053062497248117
         },
         {
          "Actual": -1.6964406317457046,
          "Predicted": -1.702961416564453
         },
         {
          "Actual": -1.7280024735175903,
          "Predicted": -1.6989037370014548
         },
         {
          "Actual": -1.6055299033400248,
          "Predicted": -1.5871872711733979
         },
         {
          "Actual": -1.7022737310475045,
          "Predicted": -1.5871872711733979
         },
         {
          "Actual": -1.7266079833094146,
          "Predicted": -1.6292962619817586
         },
         {
          "Actual": -1.6999976568997386,
          "Predicted": -1.6292962619817586
         },
         {
          "Actual": -1.6764957362514776,
          "Predicted": -1.699616570311103
         },
         {
          "Actual": -1.676911573148365,
          "Predicted": -1.699616570311103
         },
         {
          "Actual": -1.7010865221372777,
          "Predicted": -1.7030467585015079
         },
         {
          "Actual": -1.7334749040094195,
          "Predicted": -1.7030467585015079
         },
         {
          "Actual": -1.7263016530067163,
          "Predicted": -1.6226972908629016
         },
         {
          "Actual": -1.7339646787802012,
          "Predicted": -1.6226972908629016
         },
         {
          "Actual": -1.73353901281591,
          "Predicted": -1.3686915288746107
         },
         {
          "Actual": -1.733306507187301,
          "Predicted": -1.3686915288746107
         },
         {
          "Actual": -1.7027317284043162,
          "Predicted": -1.7072133912454768
         },
         {
          "Actual": -1.7319000928408361,
          "Predicted": -1.7072133912454768
         },
         {
          "Actual": -1.72663991857115,
          "Predicted": -1.7005356337800268
         },
         {
          "Actual": -1.7118588725821275,
          "Predicted": -1.7005356337800268
         },
         {
          "Actual": -1.7233752808359728,
          "Predicted": -1.6974117127010757
         },
         {
          "Actual": -1.7187156653076785,
          "Predicted": -1.6974117127010757
         },
         {
          "Actual": -1.7292941397816093,
          "Predicted": -1.7029614165644527
         },
         {
          "Actual": -1.6598788522733992,
          "Predicted": -1.7029614165644527
         },
         {
          "Actual": -1.7338054290506324,
          "Predicted": -1.7093886972600572
         },
         {
          "Actual": -1.7337543009952128,
          "Predicted": -1.7093886972600572
         },
         {
          "Actual": -1.4168576487571407,
          "Predicted": -1.5974120364442284
         },
         {
          "Actual": -1.4630422004266823,
          "Predicted": -1.5974120364442284
         },
         {
          "Actual": -1.6627390138350577,
          "Predicted": -1.6242650297556878
         },
         {
          "Actual": -1.682423002263144,
          "Predicted": -1.6242650297556878
         },
         {
          "Actual": -1.7339716095824733,
          "Predicted": -1.699616570311103
         },
         {
          "Actual": -1.734038040839479,
          "Predicted": -1.699616570311103
         },
         {
          "Actual": -1.6579312543973506,
          "Predicted": -1.7030467585015074
         },
         {
          "Actual": -1.671721673630298,
          "Predicted": -1.7030467585015074
         },
         {
          "Actual": -1.7252563265681222,
          "Predicted": -1.6138146510484925
         },
         {
          "Actual": -0.23704935876682326,
          "Predicted": -1.6138146510484925
         },
         {
          "Actual": -1.7313673642576304,
          "Predicted": -1.4234098510870439
         },
         {
          "Actual": -1.7300644388732471,
          "Predicted": -1.4234098510870439
         },
         {
          "Actual": -1.7305413724880698,
          "Predicted": -1.7072133912454768
         },
         {
          "Actual": -1.7318310471091831,
          "Predicted": -1.7072133912454768
         },
         {
          "Actual": -1.5476233083963324,
          "Predicted": -1.6190467303487317
         },
         {
          "Actual": -1.6987570120945998,
          "Predicted": -1.6190467303487317
         },
         {
          "Actual": -1.6905419257588392,
          "Predicted": -1.70119418170464
         },
         {
          "Actual": -1.7235307326276952,
          "Predicted": -1.70119418170464
         },
         {
          "Actual": -1.733936371356117,
          "Predicted": -1.702961416564453
         },
         {
          "Actual": -1.733055596451815,
          "Predicted": -1.702961416564453
         },
         {
          "Actual": -1.703816468225638,
          "Predicted": -1.6237550683652222
         },
         {
          "Actual": -1.5903308737719315,
          "Predicted": -1.6237550683652222
         },
         {
          "Actual": -1.7021699919332147,
          "Predicted": -1.1943098929548648
         },
         {
          "Actual": -1.6356665175223692,
          "Predicted": -1.3305498277192425
         },
         {
          "Actual": -1.683576119419195,
          "Predicted": -1.2933394880902342
         },
         {
          "Actual": -1.5905944578754,
          "Predicted": -1.4624906668192268
         },
         {
          "Actual": -1.6032389703776309,
          "Predicted": -1.1689084274785189
         },
         {
          "Actual": -1.61811788308697,
          "Predicted": -0.8250568857035112
         },
         {
          "Actual": -1.605564911406003,
          "Predicted": -0.9880686362176804
         },
         {
          "Actual": -1.596504130570245,
          "Predicted": -1.5518833821953537
         },
         {
          "Actual": -1.6210813041149406,
          "Predicted": -1.571036968505512
         },
         {
          "Actual": -1.6415494582424903,
          "Predicted": -1.5600926619925541
         },
         {
          "Actual": -1.683788913343414,
          "Predicted": -1.5563463126737422
         },
         {
          "Actual": -1.6548598839372175,
          "Predicted": -1.10394965989677
         },
         {
          "Actual": -1.591584688310156,
          "Predicted": -1.5491525588323538
         },
         {
          "Actual": -1.6319058933554769,
          "Predicted": -1.6486803378911663
         },
         {
          "Actual": -1.5975752957511542,
          "Predicted": -1.5511325374883205
         },
         {
          "Actual": -0.09137250737092537,
          "Predicted": -1.4839908740033532
         },
         {
          "Actual": -1.6094232819136292,
          "Predicted": -1.0051517654167836
         },
         {
          "Actual": -1.6398736120456494,
          "Predicted": -1.3419190641437198
         },
         {
          "Actual": -1.623795061814991,
          "Predicted": -1.4967081034843008
         },
         {
          "Actual": -1.6479578396033578,
          "Predicted": -1.5790877247642436
         },
         {
          "Actual": -1.6611659700092773,
          "Predicted": -1.5510170364815885
         },
         {
          "Actual": -1.5630222546987864,
          "Predicted": -1.5536268270914413
         },
         {
          "Actual": -1.732295780148051,
          "Predicted": -1.5299092935646674
         },
         {
          "Actual": -1.7340585330019145,
          "Predicted": -1.5299092935646674
         },
         {
          "Actual": -1.7030345098054742,
          "Predicted": -1.669725921443857
         },
         {
          "Actual": -1.7340585330019145,
          "Predicted": -1.669725921443857
         },
         {
          "Actual": -0.13166382688155065,
          "Predicted": -1.4954375810480756
         },
         {
          "Actual": 0.08516963429830327,
          "Predicted": -1.4954375810480756
         },
         {
          "Actual": -1.7214868029869483,
          "Predicted": -1.4987794046681056
         },
         {
          "Actual": -1.661296801712803,
          "Predicted": -1.4987794046681056
         },
         {
          "Actual": -1.6873000931809246,
          "Predicted": -1.6616211060207182
         },
         {
          "Actual": -1.7340585330019145,
          "Predicted": -1.6616211060207182
         },
         {
          "Actual": -1.7259287139728725,
          "Predicted": -1.6901668092538922
         },
         {
          "Actual": -1.7340585330019145,
          "Predicted": -1.6901668092538922
         },
         {
          "Actual": -1.723811454720042,
          "Predicted": -1.6861762212038394
         },
         {
          "Actual": -1.6572869665636947,
          "Predicted": -1.6861762212038394
         },
         {
          "Actual": -1.7207816153442679,
          "Predicted": -1.660289163363802
         },
         {
          "Actual": -1.6838495814087786,
          "Predicted": -1.660289163363802
         },
         {
          "Actual": -1.7330866413343153,
          "Predicted": -1.6905868384384337
         },
         {
          "Actual": -1.7265660585656033,
          "Predicted": -1.6905868384384337
         },
         {
          "Actual": -1.6533790527054923,
          "Predicted": -1.6872450148184037
         },
         {
          "Actual": -1.7340585330019145,
          "Predicted": -1.6872450148184037
         },
         {
          "Actual": -1.6163708483569803,
          "Predicted": -1.5986100537435177
         },
         {
          "Actual": -1.5587335521093633,
          "Predicted": -1.5986100537435177
         },
         {
          "Actual": -1.6939681810234535,
          "Predicted": -1.6423648701957196
         },
         {
          "Actual": -1.6660978166938587,
          "Predicted": -1.6423648701957196
         },
         {
          "Actual": -1.6105473985988936,
          "Predicted": -1.5838029258964392
         },
         {
          "Actual": -1.6793807893753752,
          "Predicted": -1.5838029258964392
         },
         {
          "Actual": -1.6784862883392484,
          "Predicted": -1.4157015498344991
         },
         {
          "Actual": -1.6770218472599157,
          "Predicted": -1.4157015498344991
         },
         {
          "Actual": -1.6420952759292355,
          "Predicted": -1.4132040836143984
         },
         {
          "Actual": -1.6319216114541113,
          "Predicted": -1.4132040836143984
         },
         {
          "Actual": -1.679286117475284,
          "Predicted": -1.5843743705659457
         },
         {
          "Actual": -1.5713405541751544,
          "Predicted": -1.5843743705659457
         },
         {
          "Actual": -1.7014137148563415,
          "Predicted": -0.8800298972469546
         },
         {
          "Actual": -1.6863685715498982,
          "Predicted": -0.8800298972469546
         },
         {
          "Actual": -1.7082615352252255,
          "Predicted": -1.5989998998554984
         },
         {
          "Actual": -1.6928818366948557,
          "Predicted": -1.5989998998554984
         },
         {
          "Actual": -1.6454299785129418,
          "Predicted": -1.5871543904283922
         },
         {
          "Actual": -1.509005533228578,
          "Predicted": -1.5871543904283922
         },
         {
          "Actual": -1.6876559402940199,
          "Predicted": -1.661889771261847
         },
         {
          "Actual": -1.7234863584868205,
          "Predicted": -1.661889771261847
         },
         {
          "Actual": -1.55928137416766,
          "Predicted": -1.664387237481948
         },
         {
          "Actual": -1.6440298586370816,
          "Predicted": -1.664387237481948
         },
         {
          "Actual": -1.620211648763433,
          "Predicted": -1.5816566857725778
         },
         {
          "Actual": -0.3788336090914828,
          "Predicted": -1.5816566857725778
         },
         {
          "Actual": 0.06241741492003134,
          "Predicted": -0.09644771667502679
         },
         {
          "Actual": -1.5418171915711647,
          "Predicted": -0.2062593922916675
         },
         {
          "Actual": -1.1752453995989325,
          "Predicted": -0.43710142014795833
         },
         {
          "Actual": -0.1249624023782447,
          "Predicted": -0.5901958190802781
         },
         {
          "Actual": 0.6203993049346194,
          "Predicted": -0.5901958190802781
         },
         {
          "Actual": -0.09457717422334667,
          "Predicted": -0.4847304595854769
         },
         {
          "Actual": -0.18162416646760807,
          "Predicted": -0.4847304595854769
         },
         {
          "Actual": 0.08289006425535331,
          "Predicted": -0.2986133699760529
         },
         {
          "Actual": 0.37962703648323937,
          "Predicted": -0.2986133699760529
         },
         {
          "Actual": -1.4655425164082383,
          "Predicted": -0.4013809905264582
         },
         {
          "Actual": 0.1743213553460657,
          "Predicted": -0.16495733964458284
         },
         {
          "Actual": -1.4153190792870338,
          "Predicted": -0.3226819436059155
         },
         {
          "Actual": -0.02750989830091049,
          "Predicted": -0.2440928160926489
         },
         {
          "Actual": 0.22631766910106446,
          "Predicted": -0.3738757511781889
         },
         {
          "Actual": -0.11438334475816611,
          "Predicted": -0.3738757511781889
         },
         {
          "Actual": -1.448555256922795,
          "Predicted": -0.20465112974376423
         },
         {
          "Actual": -0.48685427992353486,
          "Predicted": -0.20465112974376423
         },
         {
          "Actual": -1.5594713820148987,
          "Predicted": -0.20666312699503114
         },
         {
          "Actual": -1.563591225741151,
          "Predicted": -0.20666312699503114
         },
         {
          "Actual": -1.3859187346235649,
          "Predicted": -0.2143723222386209
         },
         {
          "Actual": 0.6208793203079358,
          "Predicted": 0.12510441463436087
         },
         {
          "Actual": -1.5574866881475729,
          "Predicted": 0.14239261174620169
         },
         {
          "Actual": 0.2147159038183434,
          "Predicted": 0.2738137134509628
         },
         {
          "Actual": 0.896850607047979,
          "Predicted": 0.2883751759328011
         },
         {
          "Actual": 0.06041475045784795,
          "Predicted": 0.2883751759328011
         },
         {
          "Actual": 0.47680347704790443,
          "Predicted": 0.3159988613813277
         },
         {
          "Actual": 0.6006667223109134,
          "Predicted": 0.3159988613813277
         },
         {
          "Actual": 0.12757557045610785,
          "Predicted": 0.47831152909055846
         },
         {
          "Actual": 0.49785551608667417,
          "Predicted": 0.47831152909055846
         },
         {
          "Actual": 0.5027971004710403,
          "Predicted": 0.4783115290905586
         },
         {
          "Actual": 0.6640321615803261,
          "Predicted": -0.030990687012845176
         },
         {
          "Actual": -0.22992450717697124,
          "Predicted": 0.08241292779742783
         },
         {
          "Actual": -0.3885903833880427,
          "Predicted": 0.11390233781217388
         },
         {
          "Actual": 0.026820453206251114,
          "Predicted": 0.17752057892266543
         },
         {
          "Actual": 0.5319753547069234,
          "Predicted": 0.17752057892266543
         },
         {
          "Actual": 0.7896522495022199,
          "Predicted": 0.1722264367546634
         },
         {
          "Actual": 0.667798423791562,
          "Predicted": 0.1722264367546634
         },
         {
          "Actual": 1.137665130400351,
          "Predicted": 0.016395389729975424
         },
         {
          "Actual": 0.31859670199897255,
          "Predicted": 0.016395389729975424
         },
         {
          "Actual": 0.12043122661073018,
          "Predicted": 0.0163953897299754
         },
         {
          "Actual": 0.440478618111055,
          "Predicted": -0.04497375294533977
         },
         {
          "Actual": 0.07340778914569303,
          "Predicted": 0.056178088244601194
         },
         {
          "Actual": 0.5791932968781214,
          "Predicted": 0.24383716760084126
         },
         {
          "Actual": 0.6845107335219865,
          "Predicted": 0.4361998290092374
         },
         {
          "Actual": 0.5754956653404594,
          "Predicted": 0.4361998290092374
         },
         {
          "Actual": 0.22275129171589264,
          "Predicted": 0.5178088849541026
         },
         {
          "Actual": 0.756684958151127,
          "Predicted": 0.5178088849541026
         },
         {
          "Actual": 0.5847910674301283,
          "Predicted": 0.4353749958735245
         },
         {
          "Actual": 0.5530725475096444,
          "Predicted": 0.4353749958735245
         },
         {
          "Actual": 0.635254624388028,
          "Predicted": 0.4224057462076816
         },
         {
          "Actual": 0.32253099986361267,
          "Predicted": -0.06038147851540914
         },
         {
          "Actual": 0.32902711930898837,
          "Predicted": -0.06038147851540914
         },
         {
          "Actual": 0.23771559602906558,
          "Predicted": -0.06038147851540914
         },
         {
          "Actual": 0.002624456781033096,
          "Predicted": -0.06038147851540914
         },
         {
          "Actual": 0.46426516557204256,
          "Predicted": -0.06038147851540914
         },
         {
          "Actual": -0.04416301742734566,
          "Predicted": 0.03838528643583749
         },
         {
          "Actual": 0.4928687550068252,
          "Predicted": 0.0383852864358375
         },
         {
          "Actual": 0.3948896694854779,
          "Predicted": 0.03838528643583749
         },
         {
          "Actual": 0.03252166879346823,
          "Predicted": 0.023614075622443227
         },
         {
          "Actual": 0.363543069709844,
          "Predicted": 0.0383852864358375
         },
         {
          "Actual": 0.3243607586154549,
          "Predicted": -0.06038147851540914
         },
         {
          "Actual": 0.3265794074187642,
          "Predicted": -0.06038147851540914
         },
         {
          "Actual": 0.14639914032209025,
          "Predicted": -0.06038147851540914
         },
         {
          "Actual": -0.13208631807281077,
          "Predicted": -0.06038147851540914
         },
         {
          "Actual": 0.09675507547204457,
          "Predicted": 0.0383852864358375
         },
         {
          "Actual": 0.4932156242410364,
          "Predicted": 0.03838528643583749
         },
         {
          "Actual": 0.001335878917370568,
          "Predicted": 0.023614075622443227
         },
         {
          "Actual": 0.72030134332182,
          "Predicted": 0.6878458386620202
         },
         {
          "Actual": 0.8790415286035043,
          "Predicted": 0.669941028736215
         },
         {
          "Actual": 0.872326041632908,
          "Predicted": 0.8051862399485832
         },
         {
          "Actual": 1.2403359464632442,
          "Predicted": 0.9276512078877651
         },
         {
          "Actual": 0.9729000908032556,
          "Predicted": 0.9276512078877651
         },
         {
          "Actual": -1.5814034885244648,
          "Predicted": 0.617002555738329
         },
         {
          "Actual": 0.20528987451954056,
          "Predicted": 0.6112145127804492
         },
         {
          "Actual": 0.8560788263905222,
          "Predicted": 0.7820675183977421
         },
         {
          "Actual": 0.7752073589823285,
          "Predicted": 0.9840781957938659
         },
         {
          "Actual": 1.0184699653124512,
          "Predicted": 0.9840781957938661
         },
         {
          "Actual": 0.3780002782800471,
          "Predicted": 0.7002126293307338
         },
         {
          "Actual": 1.0508429603900031,
          "Predicted": 0.673694471088612
         },
         {
          "Actual": 0.7543141696127615,
          "Predicted": 0.9020233535435824
         },
         {
          "Actual": 0.7432747767914161,
          "Predicted": 0.9331591676521414
         },
         {
          "Actual": 0.1323487503042499,
          "Predicted": 0.9620623416282081
         },
         {
          "Actual": 0.2590858843881913,
          "Predicted": 0.6333837994814504
         },
         {
          "Actual": 0.40604293795392804,
          "Predicted": 0.6208586856683209
         },
         {
          "Actual": 0.38605347826559033,
          "Predicted": 0.9280404989832067
         },
         {
          "Actual": 0.9115796840118139,
          "Predicted": 0.9360274462516156
         },
         {
          "Actual": 0.6153559266305823,
          "Predicted": 0.9360274462516156
         },
         {
          "Actual": 0.7656868747525992,
          "Predicted": 0.6862488831937528
         },
         {
          "Actual": -0.06357812376437184,
          "Predicted": 0.7917750502576473
         },
         {
          "Actual": 0.8952767367808063,
          "Predicted": 0.8142543298951982
         },
         {
          "Actual": 1.0085346464515437,
          "Predicted": 1.0052097754508866
         },
         {
          "Actual": 1.0253064092417237,
          "Predicted": 0.8977847652756988
         },
         {
          "Actual": 0.7536845555804355,
          "Predicted": 0.6424597508629046
         },
         {
          "Actual": 0.9430109718439713,
          "Predicted": 0.6428836034937226
         },
         {
          "Actual": 0.8617054861914656,
          "Predicted": 0.8555374028458814
         },
         {
          "Actual": 1.2099937925661637,
          "Predicted": 0.9732940613178953
         },
         {
          "Actual": 1.1831962099024163,
          "Predicted": 0.9328935236187521
         },
         {
          "Actual": 0.7073620939510149,
          "Predicted": 0.9030326126345415
         },
         {
          "Actual": 0.8340498481403301,
          "Predicted": 0.9775026826885055
         },
         {
          "Actual": 1.0158506648566725,
          "Predicted": 1.0152451767840185
         },
         {
          "Actual": 1.1974348873699947,
          "Predicted": 1.0603895908045102
         },
         {
          "Actual": 0.6704055319328072,
          "Predicted": 1.0603895908045102
         },
         {
          "Actual": 1.001343401468669,
          "Predicted": 0.9030326126345415
         },
         {
          "Actual": 0.9627899611249348,
          "Predicted": 0.9775026826885055
         },
         {
          "Actual": 1.1058142529029282,
          "Predicted": 1.0152451767840187
         },
         {
          "Actual": 1.1979285959024475,
          "Predicted": 1.0591816594809362
         },
         {
          "Actual": 0.9627756995543004,
          "Predicted": 1.0668734449377546
         },
         {
          "Actual": -0.3612049794818384,
          "Predicted": 0.04855356159616658
         },
         {
          "Actual": -1.6652305065660482,
          "Predicted": 0.4772029674742181
         },
         {
          "Actual": -0.16026479037232044,
          "Predicted": 0.5492448235428913
         },
         {
          "Actual": -1.694424126032309,
          "Predicted": 0.379163266268116
         },
         {
          "Actual": -0.1072011937709187,
          "Predicted": 0.33308846456579483
         },
         {
          "Actual": 0.1019940681921871,
          "Predicted": 0.4374688540692262
         },
         {
          "Actual": -1.5899135473540258,
          "Predicted": 0.5656635467309845
         },
         {
          "Actual": 0.07140724186124396,
          "Predicted": 0.6184228830807771
         },
         {
          "Actual": 0.6391180424506702,
          "Predicted": 0.6739542514525114
         },
         {
          "Actual": -0.028538292297289998,
          "Predicted": 0.612103442144015
         },
         {
          "Actual": -0.3522264784518674,
          "Predicted": 0.4716235197488091
         },
         {
          "Actual": -0.20446861560666313,
          "Predicted": 0.49531315333059456
         },
         {
          "Actual": 0.5648507761175727,
          "Predicted": 0.6404689294486245
         },
         {
          "Actual": 1.2434737704373646,
          "Predicted": 0.7234404543749872
         },
         {
          "Actual": 0.516112321038136,
          "Predicted": 0.6404689294486245
         },
         {
          "Actual": 1.3553792793286945,
          "Predicted": 0.3472940052467208
         },
         {
          "Actual": 1.547170395903154,
          "Predicted": 0.8418746910267273
         },
         {
          "Actual": 1.592580055649535,
          "Predicted": 0.7773848425274744
         },
         {
          "Actual": 1.5497387756123697,
          "Predicted": 0.8711916070551657
         },
         {
          "Actual": 1.4986096687329218,
          "Predicted": 0.8711916070551657
         },
         {
          "Actual": 1.5919496197560439,
          "Predicted": 0.6506005038768132
         },
         {
          "Actual": 1.2557332995441004,
          "Predicted": 0.819784843319659
         },
         {
          "Actual": 1.61245171304187,
          "Predicted": 0.9505916526623619
         },
         {
          "Actual": 1.890726939373355,
          "Predicted": 1.0054388579672553
         },
         {
          "Actual": 1.8901067779602392,
          "Predicted": 1.0167562020315455
         },
         {
          "Actual": 1.3114846063018957,
          "Predicted": 0.4160093866459409
         },
         {
          "Actual": 1.2916094580938697,
          "Predicted": 0.558657320637102
         },
         {
          "Actual": 1.638344585442897,
          "Predicted": 0.6160232199846923
         },
         {
          "Actual": 1.3622925103370083,
          "Predicted": 0.7327937338879768
         },
         {
          "Actual": 1.3719898574641682,
          "Predicted": 0.6931050624038538
         },
         {
          "Actual": -0.4247943790878767,
          "Predicted": -0.5080745286084846
         },
         {
          "Actual": 0.003897448384088535,
          "Predicted": -0.07393118806958775
         },
         {
          "Actual": 0.371902122666412,
          "Predicted": -0.009238496903162375
         },
         {
          "Actual": 0.44892356361074615,
          "Predicted": 0.20573196523606904
         },
         {
          "Actual": 0.1978164318700913,
          "Predicted": 0.1760326583810971
         },
         {
          "Actual": 0.5947333297341575,
          "Predicted": 0.0672677848871991
         },
         {
          "Actual": 0.2304478593746676,
          "Predicted": -0.036442855062767295
         },
         {
          "Actual": 0.3493862051164664,
          "Predicted": 0.13895381159304893
         },
         {
          "Actual": 0.3324897759517549,
          "Predicted": 0.17438021530660858
         },
         {
          "Actual": 0.12840188490244925,
          "Predicted": -0.5419651079680855
         },
         {
          "Actual": -0.27158024384201435,
          "Predicted": -0.015526466190037943
         },
         {
          "Actual": 0.39687323007625247,
          "Predicted": 0.11148149232251614
         },
         {
          "Actual": 0.1936634521756531,
          "Predicted": 0.239689384664177
         },
         {
          "Actual": 0.25175621081986205,
          "Predicted": 0.18669427620584586
         },
         {
          "Actual": 0.2858938243754199,
          "Predicted": 0.05133971969113504
         },
         {
          "Actual": 0.47827120136658274,
          "Predicted": 0.05679950159143925
         },
         {
          "Actual": 0.2078165974175124,
          "Predicted": 0.09526671561946881
         },
         {
          "Actual": 0.036451536106295854,
          "Predicted": 0.24456006013594903
         },
         {
          "Actual": 0.06080876089826441,
          "Predicted": -0.5419651079680855
         },
         {
          "Actual": -0.016890979424494582,
          "Predicted": -0.006027228976236669
         },
         {
          "Actual": 0.24999432702812985,
          "Predicted": 0.07956876179521773
         },
         {
          "Actual": 0.2549392643241841,
          "Predicted": 0.18180886443995609
         },
         {
          "Actual": 0.16101351276493198,
          "Predicted": 0.18519346114216934
         },
         {
          "Actual": 0.11977532607880177,
          "Predicted": 0.16172025029038065
         },
         {
          "Actual": 0.16962325184033103,
          "Predicted": -0.0846205457867538
         },
         {
          "Actual": 0.5543894495450796,
          "Predicted": 0.039630582242173466
         },
         {
          "Actual": -0.08900220951633783,
          "Predicted": 0.13484027171144197
         },
         {
          "Actual": -1.0889850775316696,
          "Predicted": -0.6788582287629843
         },
         {
          "Actual": -0.7281429572788787,
          "Predicted": -0.5413812305350313
         },
         {
          "Actual": -0.9407890176572047,
          "Predicted": -0.37576653111249014
         },
         {
          "Actual": -1.2409296634295037,
          "Predicted": -0.4129769145708937
         },
         {
          "Actual": -0.434669735894816,
          "Predicted": -0.4129769145708937
         },
         {
          "Actual": -1.6581287051617872,
          "Predicted": -0.4071144905999543
         },
         {
          "Actual": -0.4435823723951683,
          "Predicted": -0.31396103138234505
         },
         {
          "Actual": -0.6327082602993059,
          "Predicted": -0.37576653111249014
         },
         {
          "Actual": -0.6766428331850373,
          "Predicted": -0.4129769145708937
         },
         {
          "Actual": -1.662673337583119,
          "Predicted": -0.6654535306357464
         },
         {
          "Actual": -1.6549716873317497,
          "Predicted": -0.57095744451406
         },
         {
          "Actual": -0.6070780464171324,
          "Predicted": -0.5716671705459168
         },
         {
          "Actual": -0.3555533730978494,
          "Predicted": -0.48516179667850506
         },
         {
          "Actual": -0.7369920300219867,
          "Predicted": -0.48516179667850506
         },
         {
          "Actual": -1.0814028684339232,
          "Predicted": -0.4898724131937672
         },
         {
          "Actual": -1.6685082043623767,
          "Predicted": -0.4219419144157991
         },
         {
          "Actual": -1.1430530518819326,
          "Predicted": -0.5716671705459168
         },
         {
          "Actual": -1.2479566349396176,
          "Predicted": -0.48516179667850506
         },
         {
          "Actual": -0.23012979940028594,
          "Predicted": -0.6788582287629843
         },
         {
          "Actual": -0.14658163032861152,
          "Predicted": -0.5413812305350313
         },
         {
          "Actual": -0.022021581279760297,
          "Predicted": -0.37576653111249014
         },
         {
          "Actual": 0.03863634519134701,
          "Predicted": -0.4129769145708937
         },
         {
          "Actual": 0.12283013223145892,
          "Predicted": -0.4129769145708937
         },
         {
          "Actual": -0.11208923907058296,
          "Predicted": -0.4071144905999543
         },
         {
          "Actual": 0.031975342584923155,
          "Predicted": -0.31396103138234505
         },
         {
          "Actual": -0.10498476953567941,
          "Predicted": -0.37576653111249014
         },
         {
          "Actual": -0.1262360758700847,
          "Predicted": -0.4129769145708937
         },
         {
          "Actual": -0.028348393851175116,
          "Predicted": -0.6788582287629843
         },
         {
          "Actual": 0.003983399768640879,
          "Predicted": -0.36366875824026207
         },
         {
          "Actual": -0.06499432043897536,
          "Predicted": -0.3609943969667744
         },
         {
          "Actual": 0.06847067880126338,
          "Predicted": -0.3763607913089608
         },
         {
          "Actual": -0.21957957885591833,
          "Predicted": -0.3763607913089608
         },
         {
          "Actual": 0.11347607126813652,
          "Predicted": -0.4071144905999543
         },
         {
          "Actual": -0.09610767507993423,
          "Predicted": -0.2899050706281809
         },
         {
          "Actual": -0.28507312477718266,
          "Predicted": -0.3609943969667744
         },
         {
          "Actual": 0.3193068939599476,
          "Predicted": -0.3763607913089608
         },
         {
          "Actual": -0.9875555988874243,
          "Predicted": -0.6759299117251022
         },
         {
          "Actual": -0.6262758701917868,
          "Predicted": -0.5528847170606773
         },
         {
          "Actual": -0.8866855160788163,
          "Predicted": -0.23825515370343417
         },
         {
          "Actual": -0.4698164884577183,
          "Predicted": -0.07113614740647647
         },
         {
          "Actual": -0.30630971366125037,
          "Predicted": -0.10205646123961523
         },
         {
          "Actual": 0.2696664455899985,
          "Predicted": -0.011560134903592183
         },
         {
          "Actual": -0.04108571995475358,
          "Predicted": 0.026401444992603176
         },
         {
          "Actual": -0.4284192601198801,
          "Predicted": -0.3490652013975536
         },
         {
          "Actual": -0.2241075335152092,
          "Predicted": -0.08888510989530111
         },
         {
          "Actual": -1.6264072272560588,
          "Predicted": -0.6759299117251022
         },
         {
          "Actual": -1.0784301923637851,
          "Predicted": -0.5265636712185067
         },
         {
          "Actual": -0.51003347230261,
          "Predicted": -0.42078787423904895
         },
         {
          "Actual": -0.33609850475829334,
          "Predicted": -0.06141005467536562
         },
         {
          "Actual": -0.5091371469984314,
          "Predicted": -0.061580199088952646
         },
         {
          "Actual": -0.4665837445995646,
          "Predicted": -0.011560134903592183
         },
         {
          "Actual": -0.36027329693553106,
          "Predicted": 0.02640144499260319
         },
         {
          "Actual": -0.8761995285031783,
          "Predicted": -0.3022614141619827
         },
         {
          "Actual": -0.19454598191711095,
          "Predicted": -0.01565778399504934
         },
         {
          "Actual": -1.6314766067198405,
          "Predicted": -0.5869526985360171
         },
         {
          "Actual": -1.585266587130859,
          "Predicted": -0.46295425016510494
         },
         {
          "Actual": -1.0336350897978,
          "Predicted": -0.3350251794468103
         },
         {
          "Actual": -0.10285648412614713,
          "Predicted": -0.05197959189081327
         },
         {
          "Actual": -0.41782822724142804,
          "Predicted": -0.002051819476057854
         },
         {
          "Actual": -0.0293932778985952,
          "Predicted": 0.08334412444579727
         },
         {
          "Actual": -0.2335354876749694,
          "Predicted": 0.047889411848074395
         },
         {
          "Actual": -0.5288529562240204,
          "Predicted": -0.3490652013975536
         },
         {
          "Actual": -0.29528032447985875,
          "Predicted": -0.05857057519786699
         },
         {
          "Actual": -0.07191499261337327,
          "Predicted": -0.6759299117251022
         },
         {
          "Actual": 0.1486318959792934,
          "Predicted": -0.42169174564392786
         },
         {
          "Actual": -0.10296665064105887,
          "Predicted": -0.240043819318534
         },
         {
          "Actual": 0.5755300467161398,
          "Predicted": -0.01053041077183173
         },
         {
          "Actual": 0.3661593586609378,
          "Predicted": -0.01053041077183173
         },
         {
          "Actual": 0.6375562949863192,
          "Predicted": 0.15349755845066526
         },
         {
          "Actual": 0.44457767503948353,
          "Predicted": 0.11754978370077163
         },
         {
          "Actual": -0.8073459805753637,
          "Predicted": -0.240043819318534
         },
         {
          "Actual": -0.8398867134338293,
          "Predicted": -0.01053041077183173
         },
         {
          "Actual": -0.6188442250027362,
          "Predicted": -0.586952698536017
         },
         {
          "Actual": 0.3199785606736052,
          "Predicted": -0.4735340395209633
         },
         {
          "Actual": 0.4027093983264447,
          "Predicted": -0.26641632062990406
         },
         {
          "Actual": 0.5897355133061287,
          "Predicted": -0.061580199088952646
         },
         {
          "Actual": 0.3044082959427587,
          "Predicted": -0.061580199088952646
         },
         {
          "Actual": -0.3323896830389785,
          "Predicted": 0.1153477278169588
         },
         {
          "Actual": 0.3073227269756803,
          "Predicted": 0.11944262868901602
         },
         {
          "Actual": 0.09623131042349173,
          "Predicted": -0.26641632062990406
         },
         {
          "Actual": -0.023525037453443046,
          "Predicted": -0.061580199088952646
         },
         {
          "Actual": -0.28933594565688714,
          "Predicted": -0.6794874445674277
         },
         {
          "Actual": 0.14051585863894347,
          "Predicted": -0.45619149850276075
         },
         {
          "Actual": 0.1504767633873744,
          "Predicted": -0.3350251794468104
         },
         {
          "Actual": 0.6794182948326004,
          "Predicted": -0.0020518194760578774
         },
         {
          "Actual": 0.26626701719138857,
          "Predicted": -0.0020518194760578774
         },
         {
          "Actual": 0.3528924417387892,
          "Predicted": 0.1160999947122645
         },
         {
          "Actual": 0.6120305226064462,
          "Predicted": 0.0995096949106199
         },
         {
          "Actual": -1.1727352093955616,
          "Predicted": -0.3350251794468104
         },
         {
          "Actual": 0.10023952974164371,
          "Predicted": -0.0020518194760578774
         },
         {
          "Actual": -0.7345922678352873,
          "Predicted": -0.6246124216999792
         },
         {
          "Actual": -1.5641024993940376,
          "Predicted": -0.3861180981216184
         },
         {
          "Actual": -1.5981499321926274,
          "Predicted": -0.467455247246037
         },
         {
          "Actual": -0.645993914368475,
          "Predicted": -0.473631136481451
         },
         {
          "Actual": -0.8171766360919979,
          "Predicted": -0.473631136481451
         },
         {
          "Actual": -0.036418745911880164,
          "Predicted": -0.3050852086679542
         },
         {
          "Actual": -0.4121721841560532,
          "Predicted": -0.32175450143760037
         },
         {
          "Actual": -0.24068437440531845,
          "Predicted": -0.467455247246037
         },
         {
          "Actual": -0.20795908375255415,
          "Predicted": -0.467455247246037
         },
         {
          "Actual": -0.8791625463814042,
          "Predicted": -0.6246124216999791
         },
         {
          "Actual": -0.481548014117514,
          "Predicted": -0.3812253304518151
         },
         {
          "Actual": -0.9094030854013194,
          "Predicted": -0.43586189300841055
         },
         {
          "Actual": -0.6559840614447294,
          "Predicted": -0.4373813024398032
         },
         {
          "Actual": -0.20691275850083773,
          "Predicted": -0.4373813024398032
         },
         {
          "Actual": -1.5983564218615458,
          "Predicted": -0.30508520866795424
         },
         {
          "Actual": -0.8468143470410119,
          "Predicted": -0.34462712206630336
         },
         {
          "Actual": -0.6464306297711102,
          "Predicted": -0.43586189300841055
         },
         {
          "Actual": 0.02242739285868004,
          "Predicted": -0.43586189300841055
         },
         {
          "Actual": -0.985695881005487,
          "Predicted": -0.5450524572469787
         },
         {
          "Actual": -0.16560270910694697,
          "Predicted": -0.3861180981216184
         },
         {
          "Actual": 0.26184544556764433,
          "Predicted": -0.5020235883654651
         },
         {
          "Actual": -0.5442311214390361,
          "Predicted": -0.3793157966510492
         },
         {
          "Actual": -0.1798839021508334,
          "Predicted": -0.3793157966510492
         },
         {
          "Actual": -0.06435581761598189,
          "Predicted": -0.30508520866795424
         },
         {
          "Actual": -0.0007288048716428662,
          "Predicted": -0.3446271220663034
         },
         {
          "Actual": 0.09172003543771495,
          "Predicted": -0.5020235883654651
         },
         {
          "Actual": -0.3753324787121034,
          "Predicted": -0.5020235883654651
         },
         {
          "Actual": -0.2565263542386047,
          "Predicted": -0.6246124216999791
         },
         {
          "Actual": -0.23386007590051927,
          "Predicted": -0.3812253304518151
         },
         {
          "Actual": -0.5315195749330676,
          "Predicted": -0.43586189300841055
         },
         {
          "Actual": 0.29853554789688386,
          "Predicted": -0.4373813024398032
         },
         {
          "Actual": -0.04990678520705504,
          "Predicted": -0.4373813024398032
         },
         {
          "Actual": -0.10623555668413523,
          "Predicted": -0.30508520866795424
         },
         {
          "Actual": -0.03833119753897357,
          "Predicted": -0.34462712206630336
         },
         {
          "Actual": -0.17583415556130774,
          "Predicted": -0.43586189300841055
         },
         {
          "Actual": -1.0782768796266209,
          "Predicted": -0.43586189300841055
         },
         {
          "Actual": -1.6297582896943552,
          "Predicted": -0.6795763390201173
         },
         {
          "Actual": 0.42904294815980015,
          "Predicted": -0.38185597055791876
         },
         {
          "Actual": 0.07973787342174692,
          "Predicted": -0.2277032512398221
         },
         {
          "Actual": 0.09567430852113176,
          "Predicted": -0.31280548484147985
         },
         {
          "Actual": 0.5302541004664914,
          "Predicted": -0.31280548484147985
         },
         {
          "Actual": -0.5175806666914484,
          "Predicted": -0.3166806533642964
         },
         {
          "Actual": -0.2210422541021436,
          "Predicted": -0.288075268281802
         },
         {
          "Actual": -0.01231406688128968,
          "Predicted": -0.2277032512398221
         },
         {
          "Actual": 0.17270045914800883,
          "Predicted": -0.2277032512398221
         },
         {
          "Actual": -1.6434919416625542,
          "Predicted": -0.8886398277576532
         },
         {
          "Actual": -1.677334413593562,
          "Predicted": -0.8577830419579477
         },
         {
          "Actual": -0.31666703476597763,
          "Predicted": -0.8577830419579477
         },
         {
          "Actual": -1.6036325536615827,
          "Predicted": -0.8577830419579477
         },
         {
          "Actual": -0.04905247667869722,
          "Predicted": -0.8577830419579477
         },
         {
          "Actual": -1.6233850331428497,
          "Predicted": -0.8635383955449438
         },
         {
          "Actual": -1.5694884210127031,
          "Predicted": -0.8635383955449438
         },
         {
          "Actual": -1.6036646749551933,
          "Predicted": -0.8635383955449438
         },
         {
          "Actual": -1.4043980474519757,
          "Predicted": -0.8635383955449438
         },
         {
          "Actual": 0.07499533192221262,
          "Predicted": -0.4459031247425945
         },
         {
          "Actual": -1.4864285311361174,
          "Predicted": -0.4459031247425945
         },
         {
          "Actual": -0.29658992858364014,
          "Predicted": -0.4459031247425945
         },
         {
          "Actual": 0.1612236461021535,
          "Predicted": -0.4459031247425945
         },
         {
          "Actual": -0.20696451055395296,
          "Predicted": -0.10802518424818078
         },
         {
          "Actual": -0.027942967508834713,
          "Predicted": -0.10802518424818078
         },
         {
          "Actual": 0.2296722768963484,
          "Predicted": -0.10802518424818078
         },
         {
          "Actual": -0.0872993703926152,
          "Predicted": -0.10802518424818078
         },
         {
          "Actual": -1.6304777064430298,
          "Predicted": -0.9066014424776856
         },
         {
          "Actual": -0.08798988224580942,
          "Predicted": -0.8144110675075614
         },
         {
          "Actual": -0.32749487453105197,
          "Predicted": -0.8144110675075614
         },
         {
          "Actual": -1.613205833185132,
          "Predicted": -0.8144110675075614
         },
         {
          "Actual": -1.5277091142008972,
          "Predicted": -0.8144110675075614
         },
         {
          "Actual": -1.6405432438535936,
          "Predicted": -0.42787685206947795
         },
         {
          "Actual": -0.399276374491424,
          "Predicted": -0.42787685206947795
         },
         {
          "Actual": -1.5732725623615205,
          "Predicted": -0.42787685206947795
         },
         {
          "Actual": 0.2730687637347246,
          "Predicted": -0.42787685206947795
         },
         {
          "Actual": -1.4943663416025146,
          "Predicted": -0.5133222935508323
         },
         {
          "Actual": -1.5227284388395008,
          "Predicted": -0.5133222935508323
         },
         {
          "Actual": 0.6735910461590618,
          "Predicted": -0.5133222935508323
         },
         {
          "Actual": 0.5063991373938256,
          "Predicted": -0.5133222935508323
         },
         {
          "Actual": 0.6901351902499931,
          "Predicted": -0.11423748569646826
         },
         {
          "Actual": -0.03670764718916412,
          "Predicted": -0.11423748569646826
         },
         {
          "Actual": -1.415347946872671,
          "Predicted": -0.11423748569646826
         },
         {
          "Actual": 0.013590989558912107,
          "Predicted": -0.11423748569646826
         },
         {
          "Actual": -1.5725556969664145,
          "Predicted": -1.0454733590729188
         },
         {
          "Actual": -0.05173822383112518,
          "Predicted": -0.9282172547292298
         },
         {
          "Actual": -0.012670732522548236,
          "Predicted": -0.9282172547292298
         },
         {
          "Actual": -0.05476131197459481,
          "Predicted": -0.9282172547292298
         },
         {
          "Actual": -1.5525465516313302,
          "Predicted": -0.934268001868061
         },
         {
          "Actual": -1.4516581161686035,
          "Predicted": -0.934268001868061
         },
         {
          "Actual": -0.3602460716949326,
          "Predicted": -0.934268001868061
         },
         {
          "Actual": -0.2172858975471586,
          "Predicted": -0.5090076865604218
         },
         {
          "Actual": 0.18821458406342167,
          "Predicted": -0.5090076865604218
         },
         {
          "Actual": -0.1531435180696825,
          "Predicted": -0.5090076865604218
         },
         {
          "Actual": 0.024995626792876657,
          "Predicted": -0.2424090674499839
         },
         {
          "Actual": 0.6949874867373961,
          "Predicted": -0.2424090674499839
         },
         {
          "Actual": -0.1301219753506961,
          "Predicted": -0.2424090674499839
         },
         {
          "Actual": -1.646164308325525,
          "Predicted": -0.9234223349916586
         },
         {
          "Actual": -0.3801236808567794,
          "Predicted": -0.8733334891285773
         },
         {
          "Actual": -0.4413258260749204,
          "Predicted": -0.8733334891285773
         },
         {
          "Actual": -1.6458247607056495,
          "Predicted": -0.8733334891285773
         },
         {
          "Actual": -1.6396320863233023,
          "Predicted": -0.8733334891285773
         },
         {
          "Actual": -1.6367184135435473,
          "Predicted": -0.8733334891285773
         },
         {
          "Actual": -1.5742568701807629,
          "Predicted": -0.7141074680828262
         },
         {
          "Actual": -0.3820964975297094,
          "Predicted": -0.7141074680828262
         },
         {
          "Actual": -0.38489392737921146,
          "Predicted": -0.7141074680828262
         },
         {
          "Actual": -1.5078326798422674,
          "Predicted": -0.7141074680828262
         },
         {
          "Actual": -0.09482736985729193,
          "Predicted": -0.7141074680828262
         },
         {
          "Actual": -0.3671843465731087,
          "Predicted": -0.5858093462042089
         },
         {
          "Actual": -0.3255771066819915,
          "Predicted": -0.5858093462042089
         },
         {
          "Actual": 0.12348587462376874,
          "Predicted": -0.5858093462042089
         },
         {
          "Actual": -1.6446469160669757,
          "Predicted": -0.5858093462042089
         },
         {
          "Actual": -1.5781477397487447,
          "Predicted": -0.5858093462042089
         },
         {
          "Actual": -1.611357703530038,
          "Predicted": -0.5858093462042089
         },
         {
          "Actual": 0.582819229314934,
          "Predicted": -0.4300793172147893
         },
         {
          "Actual": 0.28055744670775984,
          "Predicted": -0.4300793172147893
         },
         {
          "Actual": -0.03100884240467565,
          "Predicted": -0.4300793172147893
         },
         {
          "Actual": -0.148161218834521,
          "Predicted": -0.4300793172147893
         },
         {
          "Actual": -0.7179355685629745,
          "Predicted": -0.4300793172147893
         },
         {
          "Actual": -1.5861561313513937,
          "Predicted": -0.4300793172147893
         },
         {
          "Actual": -0.40123491307921033,
          "Predicted": -0.9284636494875391
         },
         {
          "Actual": -1.6810022607492459,
          "Predicted": -0.7222458628643903
         },
         {
          "Actual": -0.12643707173456337,
          "Predicted": -0.7222458628643903
         },
         {
          "Actual": -1.5979771881694893,
          "Predicted": -0.7222458628643903
         },
         {
          "Actual": -0.3009696815072704,
          "Predicted": -0.7222458628643903
         },
         {
          "Actual": 0.6200073822974241,
          "Predicted": -0.7835203380616825
         },
         {
          "Actual": -1.6387775181574562,
          "Predicted": -0.7835203380616825
         },
         {
          "Actual": -1.595059417251802,
          "Predicted": -0.7835203380616825
         },
         {
          "Actual": -1.7087763427479272,
          "Predicted": -0.7835203380616825
         },
         {
          "Actual": -0.38571678509303936,
          "Predicted": -0.6404361652299554
         },
         {
          "Actual": -1.58168230137116,
          "Predicted": -0.6404361652299554
         },
         {
          "Actual": -1.5372176599372296,
          "Predicted": -0.6404361652299554
         },
         {
          "Actual": -1.458732285372355,
          "Predicted": -0.6404361652299554
         },
         {
          "Actual": -0.3212323711715478,
          "Predicted": -0.6404361652299554
         },
         {
          "Actual": -0.23452412012563167,
          "Predicted": -0.33890025540507135
         },
         {
          "Actual": -1.4822967783198606,
          "Predicted": -0.33890025540507135
         },
         {
          "Actual": 0.1532448683819491,
          "Predicted": -0.33890025540507135
         },
         {
          "Actual": 0.03261747748175396,
          "Predicted": -0.33890025540507135
         },
         {
          "Actual": -1.4746354423976316,
          "Predicted": -0.33890025540507135
         },
         {
          "Actual": -1.645585541182578,
          "Predicted": -1.1063033044190995
         },
         {
          "Actual": -1.4989676738524442,
          "Predicted": -0.7512024478910185
         },
         {
          "Actual": -0.3243949996069522,
          "Predicted": -0.7512024478910185
         },
         {
          "Actual": -1.5084167814453042,
          "Predicted": -0.7512024478910185
         },
         {
          "Actual": -0.2677501717182247,
          "Predicted": -0.7512024478910185
         },
         {
          "Actual": 0.015056056990224838,
          "Predicted": -0.12795232459176278
         },
         {
          "Actual": 0.03285966284841386,
          "Predicted": -0.12795232459176278
         },
         {
          "Actual": -1.504005810354215,
          "Predicted": -0.12795232459176278
         },
         {
          "Actual": 0.4722781926384538,
          "Predicted": -0.12795232459176278
         },
         {
          "Actual": 0.24892004534743523,
          "Predicted": -0.05544732374132058
         },
         {
          "Actual": 0.3849237951671109,
          "Predicted": -0.05544732374132058
         },
         {
          "Actual": 0.18684198044604383,
          "Predicted": -0.05544732374132058
         },
         {
          "Actual": 0.4651515656205004,
          "Predicted": -0.05544732374132058
         },
         {
          "Actual": -1.5739462963596302,
          "Predicted": -0.05544732374132058
         },
         {
          "Actual": 0.6140882501163779,
          "Predicted": 0.22970127766281986
         },
         {
          "Actual": -1.5294260742696535,
          "Predicted": 0.22970127766281986
         },
         {
          "Actual": 0.09823796154892674,
          "Predicted": 0.22970127766281986
         },
         {
          "Actual": 0.45447788935007616,
          "Predicted": 0.22970127766281986
         },
         {
          "Actual": 0.39906289110710313,
          "Predicted": 0.22970127766281986
         },
         {
          "Actual": -1.7340332183088945,
          "Predicted": -1.2889444891507167
         },
         {
          "Actual": -1.5070455239137057,
          "Predicted": -1.0026100537570457
         },
         {
          "Actual": -1.510596740949001,
          "Predicted": -1.0026100537570457
         },
         {
          "Actual": -1.575004547251173,
          "Predicted": -1.0026100537570457
         },
         {
          "Actual": 0.16024846529701547,
          "Predicted": -0.7852944798743325
         },
         {
          "Actual": -0.04578515625436713,
          "Predicted": -0.7852944798743325
         },
         {
          "Actual": -1.6903804201055814,
          "Predicted": -0.7852944798743325
         },
         {
          "Actual": 0.703012811875159,
          "Predicted": -0.05589548280672022
         },
         {
          "Actual": -0.20071018893641232,
          "Predicted": -0.05589548280672022
         },
         {
          "Actual": -1.2900601000227425,
          "Predicted": -0.05589548280672022
         },
         {
          "Actual": 0.9334764356876446,
          "Predicted": 0.2805852178613431
         },
         {
          "Actual": 1.037648657478612,
          "Predicted": 0.2805852178613431
         },
         {
          "Actual": 0.5020016055275318,
          "Predicted": 0.2805852178613431
         },
         {
          "Actual": -1.5852957457692107,
          "Predicted": -0.6216421671819232
         },
         {
          "Actual": -1.5392497625523835,
          "Predicted": -0.6216421671819232
         },
         {
          "Actual": -0.16698566154898326,
          "Predicted": -0.6216421671819232
         },
         {
          "Actual": 0.36040680145068715,
          "Predicted": -0.1508823845584279
         },
         {
          "Actual": -0.006277813008933577,
          "Predicted": -0.1508823845584279
         },
         {
          "Actual": -0.3076782074136076,
          "Predicted": -0.1508823845584279
         },
         {
          "Actual": 0.42846041210381264,
          "Predicted": 0.19810339152144674
         },
         {
          "Actual": 0.11770877264277774,
          "Predicted": 0.19810339152144674
         },
         {
          "Actual": -0.10568250306005746,
          "Predicted": 0.19810339152144674
         },
         {
          "Actual": 0.13159846822095547,
          "Predicted": 0.19810339152144674
         },
         {
          "Actual": 0.6726577961916215,
          "Predicted": 0.3810233350116667
         },
         {
          "Actual": 0.7409135194754256,
          "Predicted": 0.3810233350116667
         },
         {
          "Actual": 0.6269310658484046,
          "Predicted": 0.3810233350116667
         },
         {
          "Actual": 0.20859743039947598,
          "Predicted": 0.3810233350116667
         },
         {
          "Actual": 0.4068089730742291,
          "Predicted": -0.8219332627369197
         },
         {
          "Actual": 0.0511235342170888,
          "Predicted": -0.5630197914252304
         },
         {
          "Actual": -0.1069360534520935,
          "Predicted": -0.4626869676982131
         },
         {
          "Actual": 0.3872325514894333,
          "Predicted": 0.04530419773306438
         },
         {
          "Actual": -1.6537444515554258,
          "Predicted": -0.8697631056661654
         },
         {
          "Actual": 0.03776524594279731,
          "Predicted": -0.5224444799112835
         },
         {
          "Actual": 0.18035852333389724,
          "Predicted": -0.5224444799112835
         },
         {
          "Actual": 0.0853986850113308,
          "Predicted": -0.5224444799112835
         },
         {
          "Actual": -1.5709128414071063,
          "Predicted": -0.5224444799112835
         },
         {
          "Actual": 0.43629088787145115,
          "Predicted": -0.17704937549997254
         },
         {
          "Actual": 0.6234079082936034,
          "Predicted": -0.17704937549997254
         },
         {
          "Actual": 0.20708079148663414,
          "Predicted": -0.17704937549997254
         },
         {
          "Actual": 0.2639005053992883,
          "Predicted": -0.17704937549997254
         },
         {
          "Actual": 0.10036343509973378,
          "Predicted": -0.09824526449906107
         },
         {
          "Actual": -0.44485698733143686,
          "Predicted": -0.09824526449906107
         },
         {
          "Actual": 0.45498440961660336,
          "Predicted": -0.09824526449906107
         },
         {
          "Actual": -0.12402982800939198,
          "Predicted": -0.09824526449906107
         },
         {
          "Actual": -1.4224364076148028,
          "Predicted": -0.09824526449906107
         },
         {
          "Actual": 0.664421884402838,
          "Predicted": 0.008260136303494892
         },
         {
          "Actual": 0.30855292179934984,
          "Predicted": 0.008260136303494892
         },
         {
          "Actual": 0.3032342552649991,
          "Predicted": 0.008260136303494892
         },
         {
          "Actual": 0.6753967592440574,
          "Predicted": 0.008260136303494892
         },
         {
          "Actual": 0.08320104732878768,
          "Predicted": 0.008260136303494892
         },
         {
          "Actual": -1.6740353044650382,
          "Predicted": -0.9501913025569639
         },
         {
          "Actual": -1.6626248238188734,
          "Predicted": -0.8411231384570043
         },
         {
          "Actual": -1.5891257350760692,
          "Predicted": -0.8411231384570043
         },
         {
          "Actual": -1.5482871401745455,
          "Predicted": -0.8461359720070115
         },
         {
          "Actual": 0.14206209650146967,
          "Predicted": -0.8461359720070115
         },
         {
          "Actual": -1.6745335776267307,
          "Predicted": -0.43640281931389435
         },
         {
          "Actual": -1.5518108393591328,
          "Predicted": -0.43640281931389435
         },
         {
          "Actual": -0.4476715670940026,
          "Predicted": -0.23242728454832354
         },
         {
          "Actual": -0.08730110233097282,
          "Predicted": -0.23242728454832354
         },
         {
          "Actual": -0.14823983986067044,
          "Predicted": -0.8170717607040742
         },
         {
          "Actual": -1.5842534585298333,
          "Predicted": -0.5604738428455545
         },
         {
          "Actual": 0.06410569955734793,
          "Predicted": -0.5604738428455545
         },
         {
          "Actual": -0.35381939716846805,
          "Predicted": -0.5604738428455545
         },
         {
          "Actual": 0.17072698747983742,
          "Predicted": -0.5604738428455545
         },
         {
          "Actual": -0.1644157132822279,
          "Predicted": -0.209443419080352
         },
         {
          "Actual": -0.16568221327564425,
          "Predicted": -0.209443419080352
         },
         {
          "Actual": -0.39857998968863145,
          "Predicted": -0.209443419080352
         },
         {
          "Actual": 0.555375898511168,
          "Predicted": -0.209443419080352
         },
         {
          "Actual": -1.5017553473849399,
          "Predicted": -0.4792936537504758
         },
         {
          "Actual": -0.03711611730800356,
          "Predicted": -0.4792936537504758
         },
         {
          "Actual": 0.3474605929160332,
          "Predicted": -0.4792936537504758
         },
         {
          "Actual": -0.46503064385834575,
          "Predicted": -0.05734607637648695
         },
         {
          "Actual": 0.23512431520513255,
          "Predicted": -0.05734607637648695
         },
         {
          "Actual": -0.21092920135652238,
          "Predicted": -0.05734607637648695
         },
         {
          "Actual": 0.1644568149133967,
          "Predicted": -0.05734607637648695
         },
         {
          "Actual": -1.6280186159399495,
          "Predicted": -0.5352788117870574
         },
         {
          "Actual": 0.602989572636153,
          "Predicted": -0.6031593980312937
         },
         {
          "Actual": -1.4355368850845327,
          "Predicted": -0.6031593980312937
         },
         {
          "Actual": 0.049468786605048935,
          "Predicted": -0.6031593980312937
         },
         {
          "Actual": 0.22038921227983277,
          "Predicted": -0.4819900455690145
         },
         {
          "Actual": -1.5548248838202094,
          "Predicted": -0.4819900455690145
         },
         {
          "Actual": 0.544201275177402,
          "Predicted": -0.4819900455690145
         },
         {
          "Actual": 0.8678048265949109,
          "Predicted": -0.2736209099491731
         },
         {
          "Actual": 0.6088754659735701,
          "Predicted": -0.2736209099491731
         },
         {
          "Actual": 0.29651769415236784,
          "Predicted": -0.2736209099491731
         },
         {
          "Actual": 0.19957845194343282,
          "Predicted": -0.2736209099491731
         },
         {
          "Actual": -1.5282822842489205,
          "Predicted": -0.2736209099491731
         },
         {
          "Actual": 0.11441555932502417,
          "Predicted": -0.3389002554050713
         },
         {
          "Actual": 0.7194020425492526,
          "Predicted": -0.3389002554050713
         },
         {
          "Actual": 0.0807050992176128,
          "Predicted": -0.3389002554050713
         },
         {
          "Actual": 0.49205368972114577,
          "Predicted": -0.3389002554050713
         },
         {
          "Actual": 0.24919068561937202,
          "Predicted": -0.674106088495664
         },
         {
          "Actual": 0.3234201913264756,
          "Predicted": -0.674106088495664
         },
         {
          "Actual": 0.7295381711837996,
          "Predicted": -0.1281742877519998
         },
         {
          "Actual": -0.02278638924861103,
          "Predicted": -0.1281742877519998
         },
         {
          "Actual": 0.8077653658745038,
          "Predicted": 0.1363604044383424
         },
         {
          "Actual": -1.5781635964041336,
          "Predicted": 0.1363604044383424
         },
         {
          "Actual": 0.35322824227955557,
          "Predicted": 0.1363604044383424
         },
         {
          "Actual": 1.0463699065201608,
          "Predicted": 0.15161786384362932
         },
         {
          "Actual": 0.8917285343389856,
          "Predicted": 0.15161786384362932
         },
         {
          "Actual": 0.6219371162164261,
          "Predicted": 0.15161786384362932
         },
         {
          "Actual": -1.6434703999942706,
          "Predicted": -1.042038845411055
         },
         {
          "Actual": -1.542099571711655,
          "Predicted": -0.9988565012077385
         },
         {
          "Actual": -1.6115095556180246,
          "Predicted": -0.9988565012077385
         },
         {
          "Actual": -1.5945837345140954,
          "Predicted": -0.9988565012077385
         },
         {
          "Actual": -0.022635508139047338,
          "Predicted": -0.9988565012077385
         },
         {
          "Actual": -1.5770261636842045,
          "Predicted": -0.9988565012077385
         },
         {
          "Actual": 0.02612539553958782,
          "Predicted": -0.5580149185535899
         },
         {
          "Actual": 0.087189832682525,
          "Predicted": -0.5580149185535899
         },
         {
          "Actual": 0.13718313376049823,
          "Predicted": -0.5580149185535899
         },
         {
          "Actual": -0.23689965976364405,
          "Predicted": -0.5580149185535899
         },
         {
          "Actual": -1.6300178859034506,
          "Predicted": -0.5580149185535899
         },
         {
          "Actual": -0.36315780502327516,
          "Predicted": 0.03509807369659947
         },
         {
          "Actual": 0.29023967898788067,
          "Predicted": 0.03509807369659947
         },
         {
          "Actual": -0.07799653126075386,
          "Predicted": 0.03509807369659947
         },
         {
          "Actual": 0.18853545641612754,
          "Predicted": 0.03509807369659947
         },
         {
          "Actual": 0.40733210068996045,
          "Predicted": 0.03509807369659947
         },
         {
          "Actual": 0.2990061713050971,
          "Predicted": 0.2953115942899962
         },
         {
          "Actual": 0.37827348633398583,
          "Predicted": 0.2953115942899962
         },
         {
          "Actual": 0.26700628808115356,
          "Predicted": 0.2953115942899962
         },
         {
          "Actual": 0.3122621784900856,
          "Predicted": 0.2953115942899962
         },
         {
          "Actual": 0.4360626012959632,
          "Predicted": 0.2953115942899962
         },
         {
          "Actual": -1.635293992103468,
          "Predicted": -1.1583697908971262
         },
         {
          "Actual": -0.29521928169464545,
          "Predicted": -0.6298288013782335
         },
         {
          "Actual": 0.2031161698809089,
          "Predicted": -0.6298288013782335
         },
         {
          "Actual": -1.4679322641155435,
          "Predicted": -0.6298288013782335
         },
         {
          "Actual": 0.44027028710929245,
          "Predicted": -0.6298288013782335
         },
         {
          "Actual": -0.35384976708468535,
          "Predicted": -0.22673213373055479
         },
         {
          "Actual": 0.1829751753394985,
          "Predicted": -0.22673213373055479
         },
         {
          "Actual": -0.04897597834283345,
          "Predicted": -0.22673213373055479
         },
         {
          "Actual": 0.5784618391954506,
          "Predicted": -0.22673213373055479
         },
         {
          "Actual": 0.5673837520373699,
          "Predicted": 0.1974108177527655
         },
         {
          "Actual": -1.6163587982477468,
          "Predicted": 0.1974108177527655
         },
         {
          "Actual": 0.41526927946389763,
          "Predicted": 0.1974108177527655
         },
         {
          "Actual": 0.20043096619997153,
          "Predicted": 0.1974108177527655
         },
         {
          "Actual": 0.6499910362688591,
          "Predicted": 0.30293992119247604
         },
         {
          "Actual": 0.5904190606680583,
          "Predicted": 0.30293992119247604
         },
         {
          "Actual": 0.21598015916188235,
          "Predicted": 0.30293992119247604
         },
         {
          "Actual": 0.9220162491531693,
          "Predicted": 0.30293992119247604
         },
         {
          "Actual": -1.694211241041526,
          "Predicted": -1.1902220527540304
         },
         {
          "Actual": -0.47608111915798157,
          "Predicted": -0.9881286368744625
         },
         {
          "Actual": -1.61509274325436,
          "Predicted": -0.9881286368744625
         },
         {
          "Actual": -1.5358099280142463,
          "Predicted": -0.9881286368744625
         },
         {
          "Actual": -0.4511817150059775,
          "Predicted": -0.748947698447245
         },
         {
          "Actual": -1.6107334842707124,
          "Predicted": -0.748947698447245
         },
         {
          "Actual": -0.4511080401846605,
          "Predicted": -0.748947698447245
         },
         {
          "Actual": -0.382632944784673,
          "Predicted": -0.5392281711789839
         },
         {
          "Actual": -0.053587156135107984,
          "Predicted": -0.5392281711789839
         },
         {
          "Actual": -0.1600597465286459,
          "Predicted": -0.5392281711789839
         },
         {
          "Actual": -0.46816266234165127,
          "Predicted": -0.5392281711789839
         },
         {
          "Actual": 0.27704370652752197,
          "Predicted": -0.42053974195676275
         },
         {
          "Actual": -0.009288777063584604,
          "Predicted": -0.42053974195676275
         },
         {
          "Actual": -1.5902965407141245,
          "Predicted": -0.42053974195676275
         },
         {
          "Actual": -1.5770762751664211,
          "Predicted": -0.42053974195676275
         },
         {
          "Actual": -1.5634147321216028,
          "Predicted": -1.2479437957495318
         },
         {
          "Actual": -1.5930537728398477,
          "Predicted": -1.1443281784323205
         },
         {
          "Actual": -1.5852274110861846,
          "Predicted": -1.1443281784323205
         },
         {
          "Actual": -1.6317989939921094,
          "Predicted": -1.1443281784323205
         },
         {
          "Actual": -1.6213386173150763,
          "Predicted": -1.1443281784323205
         },
         {
          "Actual": -1.5584508447981846,
          "Predicted": -1.1443281784323205
         },
         {
          "Actual": -1.5785029711367495,
          "Predicted": -1.0451262930907201
         },
         {
          "Actual": -1.5791826246401603,
          "Predicted": -1.0451262930907201
         },
         {
          "Actual": -0.2251503991263314,
          "Predicted": -1.0451262930907201
         },
         {
          "Actual": 0.1383158526974878,
          "Predicted": -1.0451262930907201
         },
         {
          "Actual": -1.5800836158572884,
          "Predicted": -1.0451262930907201
         },
         {
          "Actual": -0.15877640864560713,
          "Predicted": -0.676946703153306
         },
         {
          "Actual": 0.01719529171237785,
          "Predicted": -0.676946703153306
         },
         {
          "Actual": -0.5448147863210095,
          "Predicted": -0.676946703153306
         },
         {
          "Actual": -1.559174513613338,
          "Predicted": -0.676946703153306
         },
         {
          "Actual": -0.10285644329971468,
          "Predicted": -0.676946703153306
         },
         {
          "Actual": 0.03903877329996113,
          "Predicted": -0.676946703153306
         },
         {
          "Actual": -0.37223101779843937,
          "Predicted": -0.5110408729784511
         },
         {
          "Actual": -0.48717876670390736,
          "Predicted": -0.5110408729784511
         },
         {
          "Actual": -1.3497071135358902,
          "Predicted": -0.5110408729784511
         },
         {
          "Actual": -1.5712547975396534,
          "Predicted": -0.5110408729784511
         },
         {
          "Actual": -0.03329061978562381,
          "Predicted": -0.5110408729784511
         },
         {
          "Actual": 0.13238405581383414,
          "Predicted": -0.5110408729784511
         },
         {
          "Actual": -1.644854153934695,
          "Predicted": -0.9756323235879589
         },
         {
          "Actual": -0.4859135625231053,
          "Predicted": -0.8547385081094482
         },
         {
          "Actual": -1.6141412712402086,
          "Predicted": -0.8547385081094482
         },
         {
          "Actual": -0.14005520824205903,
          "Predicted": -0.8547385081094482
         },
         {
          "Actual": -0.442588226614457,
          "Predicted": -0.618498964753195
         },
         {
          "Actual": -0.10969617081642485,
          "Predicted": -0.618498964753195
         },
         {
          "Actual": -0.11626425405203306,
          "Predicted": -0.618498964753195
         },
         {
          "Actual": -1.5516726031528947,
          "Predicted": -0.22964424193281183
         },
         {
          "Actual": -0.21869538212545703,
          "Predicted": -0.22964424193281183
         },
         {
          "Actual": -0.16689431996460952,
          "Predicted": -0.22964424193281183
         },
         {
          "Actual": -0.16927245424309023,
          "Predicted": -0.22964424193281183
         },
         {
          "Actual": -0.027676779500649337,
          "Predicted": -0.4174401073655832
         },
         {
          "Actual": 0.6963666411023604,
          "Predicted": -0.4174401073655832
         },
         {
          "Actual": 0.47557081392823203,
          "Predicted": -0.4174401073655832
         },
         {
          "Actual": 0.10567429994052482,
          "Predicted": -0.4174401073655832
         },
         {
          "Actual": -0.21298727672422912,
          "Predicted": -1.2165162937952807
         },
         {
          "Actual": -0.0260961429080107,
          "Predicted": -1.2165162937952807
         },
         {
          "Actual": -0.3614665571998838,
          "Predicted": -1.2165162937952807
         },
         {
          "Actual": -1.6044091714656497,
          "Predicted": -0.8899403949113577
         },
         {
          "Actual": -1.5967245910225747,
          "Predicted": -0.8899403949113577
         },
         {
          "Actual": -1.532404321273679,
          "Predicted": -0.8899403949113577
         },
         {
          "Actual": 0.24344945957269074,
          "Predicted": -0.6645413770117607
         },
         {
          "Actual": 0.07733629752105518,
          "Predicted": -0.6645413770117607
         },
         {
          "Actual": -1.5234480585351435,
          "Predicted": -0.6645413770117607
         },
         {
          "Actual": -1.4414363709161317,
          "Predicted": -0.6645413770117607
         },
         {
          "Actual": 0.7141332308004352,
          "Predicted": -0.6937230505716068
         },
         {
          "Actual": 0.0046874028386672565,
          "Predicted": -0.6937230505716068
         },
         {
          "Actual": -1.520537845669882,
          "Predicted": -0.6937230505716068
         },
         {
          "Actual": -1.594851416892594,
          "Predicted": -0.6937230505716068
         },
         {
          "Actual": -1.5543700195749193,
          "Predicted": -0.7394391833494783
         },
         {
          "Actual": -0.32476055429344447,
          "Predicted": -0.7246638292307059
         },
         {
          "Actual": 0.8967411121118508,
          "Predicted": -0.7246638292307059
         },
         {
          "Actual": -0.40045057116719185,
          "Predicted": -0.7246638292307059
         },
         {
          "Actual": -0.08210988208114293,
          "Predicted": -0.7246638292307059
         },
         {
          "Actual": 0.29851270761030024,
          "Predicted": -0.504466843060297
         },
         {
          "Actual": -1.5966402854131176,
          "Predicted": -0.504466843060297
         },
         {
          "Actual": -1.481111675687381,
          "Predicted": -0.504466843060297
         },
         {
          "Actual": -1.695002329885141,
          "Predicted": -0.504466843060297
         },
         {
          "Actual": -0.11342597364479694,
          "Predicted": -0.14104928366341624
         },
         {
          "Actual": -1.6884548606558267,
          "Predicted": -0.14104928366341624
         },
         {
          "Actual": 0.44162979662712337,
          "Predicted": -0.14104928366341624
         },
         {
          "Actual": 0.23746670738492073,
          "Predicted": -0.14104928366341624
         },
         {
          "Actual": -0.0813780396533338,
          "Predicted": 0.029472333390992932
         },
         {
          "Actual": 0.6118383391192873,
          "Predicted": 0.029472333390992932
         },
         {
          "Actual": 0.42136193520952064,
          "Predicted": 0.029472333390992932
         },
         {
          "Actual": 1.1285856369931142,
          "Predicted": 0.029472333390992932
         },
         {
          "Actual": -1.6384586748478676,
          "Predicted": -0.7750205370761961
         },
         {
          "Actual": -0.4021991083639194,
          "Predicted": -0.5105897528143803
         },
         {
          "Actual": -1.5387411889493539,
          "Predicted": -0.5105897528143803
         },
         {
          "Actual": -1.4050085333538351,
          "Predicted": -0.5105897528143803
         },
         {
          "Actual": -1.5352909896503733,
          "Predicted": -0.5105897528143803
         },
         {
          "Actual": -0.1831309685858947,
          "Predicted": -0.5105897528143803
         },
         {
          "Actual": -1.4424271152532773,
          "Predicted": -0.5048708408534581
         },
         {
          "Actual": 0.18993902770593585,
          "Predicted": -0.5048708408534581
         },
         {
          "Actual": -0.4560560735743261,
          "Predicted": -0.5048708408534581
         },
         {
          "Actual": -1.5784856515671537,
          "Predicted": -0.5048708408534581
         },
         {
          "Actual": 0.2896089929744293,
          "Predicted": -0.5048708408534581
         },
         {
          "Actual": -0.395464500692377,
          "Predicted": -0.08350136015834302
         },
         {
          "Actual": -0.03773106212441554,
          "Predicted": -0.08350136015834302
         },
         {
          "Actual": 0.4282183122577305,
          "Predicted": -0.08350136015834302
         },
         {
          "Actual": 0.24725219573647922,
          "Predicted": -0.08350136015834302
         },
         {
          "Actual": 0.14493530223858167,
          "Predicted": -0.08350136015834302
         },
         {
          "Actual": -0.2658957268563772,
          "Predicted": 0.21443560833383485
         },
         {
          "Actual": 0.3064786887354912,
          "Predicted": 0.21443560833383485
         },
         {
          "Actual": -0.1937183049928288,
          "Predicted": 0.21443560833383485
         },
         {
          "Actual": 0.2296166530239008,
          "Predicted": 0.21443560833383485
         },
         {
          "Actual": -0.16388600922887211,
          "Predicted": 0.21443560833383485
         },
         {
          "Actual": -1.6526993535657863,
          "Predicted": -0.81960711747892
         },
         {
          "Actual": 0.11022116683972857,
          "Predicted": -0.8028408876693147
         },
         {
          "Actual": -0.39432113389422474,
          "Predicted": -0.8028408876693147
         },
         {
          "Actual": -0.46099591655015715,
          "Predicted": -0.8028408876693147
         },
         {
          "Actual": 0.456137490443469,
          "Predicted": -0.27476586413690657
         },
         {
          "Actual": -1.5099983995491555,
          "Predicted": -0.27476586413690657
         },
         {
          "Actual": -1.5936418770920484,
          "Predicted": -0.27476586413690657
         },
         {
          "Actual": 0.04414665600336511,
          "Predicted": -0.0762311718488526
         },
         {
          "Actual": 0.3850336955037934,
          "Predicted": -0.0762311718488526
         },
         {
          "Actual": 0.714355513376047,
          "Predicted": -0.0762311718488526
         },
         {
          "Actual": -0.03244643627464364,
          "Predicted": -0.0762311718488526
         },
         {
          "Actual": 0.8471054813116655,
          "Predicted": 0.15366769138629244
         },
         {
          "Actual": 0.4843918393734684,
          "Predicted": 0.15366769138629244
         },
         {
          "Actual": -0.05695495381083123,
          "Predicted": 0.15366769138629244
         },
         {
          "Actual": -1.6100544859069608,
          "Predicted": 0.15366769138629244
         },
         {
          "Actual": -1.6444308121672935,
          "Predicted": -0.45896407501710845
         },
         {
          "Actual": -0.17087140256678127,
          "Predicted": -0.34181742737285953
         },
         {
          "Actual": -0.3383910895040594,
          "Predicted": -0.34181742737285953
         },
         {
          "Actual": -0.4016074182632666,
          "Predicted": -0.34181742737285953
         },
         {
          "Actual": 0.5147547187324526,
          "Predicted": -0.34181742737285953
         },
         {
          "Actual": 0.3097666421363624,
          "Predicted": -0.09706672827618879
         },
         {
          "Actual": -0.42040009401197426,
          "Predicted": -0.09706672827618879
         },
         {
          "Actual": 0.10615583963609915,
          "Predicted": -0.09706672827618879
         },
         {
          "Actual": 0.06285625454650573,
          "Predicted": -0.09706672827618879
         },
         {
          "Actual": 0.15708310799759162,
          "Predicted": 0.10242773540640462
         },
         {
          "Actual": 0.11359035474451264,
          "Predicted": 0.10242773540640462
         },
         {
          "Actual": -0.05080333749453209,
          "Predicted": 0.10242773540640462
         },
         {
          "Actual": 0.34184885471318927,
          "Predicted": 0.10242773540640462
         },
         {
          "Actual": -0.13320851790806773,
          "Predicted": 0.10242773540640462
         },
         {
          "Actual": 0.7871468736631958,
          "Predicted": 0.2710667157710125
         },
         {
          "Actual": 0.7921187363140046,
          "Predicted": 0.2710667157710125
         },
         {
          "Actual": 0.21929727307703809,
          "Predicted": 0.2710667157710125
         },
         {
          "Actual": 0.0916556632994793,
          "Predicted": 0.2710667157710125
         },
         {
          "Actual": 0.0742886916474678,
          "Predicted": 0.2710667157710125
         },
         {
          "Actual": -1.5167014016321905,
          "Predicted": -0.7383857789512221
         },
         {
          "Actual": -0.03867419910120268,
          "Predicted": 0.040052169350653394
         },
         {
          "Actual": 0.6622529911829719,
          "Predicted": -0.03242706395646809
         },
         {
          "Actual": -1.2505145984349106,
          "Predicted": 0.16393313775462065
         },
         {
          "Actual": -1.5515825460093762,
          "Predicted": -0.5819142740148945
         },
         {
          "Actual": 0.40509107161172525,
          "Predicted": 0.07891472943642631
         },
         {
          "Actual": -0.1404222971433333,
          "Predicted": 0.10740869023698847
         },
         {
          "Actual": 0.04218405979282064,
          "Predicted": 0.1210817319305009
         },
         {
          "Actual": 0.05985686401413057,
          "Predicted": 0.15989338349626134
         },
         {
          "Actual": 1.0124293153896728,
          "Predicted": 0.8282419756712875
         },
         {
          "Actual": 0.8128037269622927,
          "Predicted": 0.8680073579202655
         },
         {
          "Actual": 1.1152264464084007,
          "Predicted": 0.8962979685322561
         },
         {
          "Actual": 1.1576150330742299,
          "Predicted": 0.9198878849309254
         },
         {
          "Actual": 1.1289464943587408,
          "Predicted": 0.9808034635367473
         },
         {
          "Actual": 0.7672067661902533,
          "Predicted": 0.8962979685322561
         },
         {
          "Actual": 0.588034459439495,
          "Predicted": 0.8167103377254857
         },
         {
          "Actual": 0.9765553835478529,
          "Predicted": 0.8660047484159734
         },
         {
          "Actual": 1.092140874109014,
          "Predicted": 0.8962979685322562
         },
         {
          "Actual": 1.1220249095541657,
          "Predicted": 0.9255835871270837
         },
         {
          "Actual": 1.0135071487018175,
          "Predicted": 0.9449216107331379
         },
         {
          "Actual": 1.1387601032621057,
          "Predicted": 0.8962979685322562
         },
         {
          "Actual": 0.6323098246031226,
          "Predicted": 0.7168294555302669
         },
         {
          "Actual": 0.6723963780321732,
          "Predicted": 0.8706420468534294
         },
         {
          "Actual": 0.8371633706660863,
          "Predicted": 0.8903808627237213
         },
         {
          "Actual": 0.7292669689139198,
          "Predicted": 0.9585297636281972
         },
         {
          "Actual": 0.6935156892927665,
          "Predicted": 0.9093665600371816
         },
         {
          "Actual": 0.7991137900845381,
          "Predicted": 0.8903808627237213
         },
         {
          "Actual": 0.740666077670672,
          "Predicted": 0.7776547851258067
         },
         {
          "Actual": 0.8183456596997855,
          "Predicted": 0.8492100104184502
         },
         {
          "Actual": 0.8101259901969889,
          "Predicted": 0.8286814993811575
         },
         {
          "Actual": 0.7687139063265064,
          "Predicted": 0.8538273648728987
         },
         {
          "Actual": 0.6734012938425376,
          "Predicted": 0.8898015758089656
         },
         {
          "Actual": 0.8583237299622037,
          "Predicted": 0.8286814993811575
         },
         {
          "Actual": 0.3184627793384638,
          "Predicted": 0.6890672390016702
         },
         {
          "Actual": 0.7469874080186163,
          "Predicted": 0.8322569383548885
         },
         {
          "Actual": 0.8722488243695454,
          "Predicted": 0.9613050775150719
         },
         {
          "Actual": 0.762888306089391,
          "Predicted": 0.959812886383829
         },
         {
          "Actual": 0.35674207297272964,
          "Predicted": 0.9475905501627224
         },
         {
          "Actual": 0.4369874137946336,
          "Predicted": 0.5341899450864114
         },
         {
          "Actual": 0.7583040573795622,
          "Predicted": 0.6518210521699701
         },
         {
          "Actual": 0.5183635142211342,
          "Predicted": 0.6721761055482102
         },
         {
          "Actual": 0.18070622902676758,
          "Predicted": 0.6726978577315261
         },
         {
          "Actual": 0.8621540442534593,
          "Predicted": 0.6904003799977159
         },
         {
          "Actual": 0.5890546394802975,
          "Predicted": 0.6721761055482102
         },
         {
          "Actual": 0.7775699826930362,
          "Predicted": 0.6904003799977159
         },
         {
          "Actual": 0.5831383490352335,
          "Predicted": 0.4773298579823162
         },
         {
          "Actual": 0.8182615935581339,
          "Predicted": 0.6541913112646045
         },
         {
          "Actual": 0.4263803336903611,
          "Predicted": 0.6721761055482103
         },
         {
          "Actual": 0.994523637167292,
          "Predicted": 0.6726978577315261
         },
         {
          "Actual": 0.7834900901620862,
          "Predicted": 0.6904003799977158
         },
         {
          "Actual": 0.7166905717117618,
          "Predicted": 0.6721761055482103
         },
         {
          "Actual": 0.814300603660219,
          "Predicted": 0.6904003799977158
         },
         {
          "Actual": 0.6680100655078288,
          "Predicted": 0.4885441571703487
         },
         {
          "Actual": 0.7454325568700971,
          "Predicted": 0.6648757780380501
         },
         {
          "Actual": 0.5232167078816303,
          "Predicted": 0.6751090219147765
         },
         {
          "Actual": 0.28289769148097094,
          "Predicted": 0.6726978577315261
         },
         {
          "Actual": 0.7495521996753077,
          "Predicted": 0.6904003799977158
         },
         {
          "Actual": 0.7655865202198037,
          "Predicted": 0.6751090219147765
         },
         {
          "Actual": 0.8525763777410033,
          "Predicted": 0.6904003799977158
         },
         {
          "Actual": 0.10064621253003894,
          "Predicted": -0.6506891774876756
         },
         {
          "Actual": 0.662154289761825,
          "Predicted": -0.5239077054833935
         },
         {
          "Actual": -0.23305996033585039,
          "Predicted": -0.5004497088032553
         },
         {
          "Actual": 0.28067439630093755,
          "Predicted": -0.4842790085685311
         },
         {
          "Actual": -0.0063161923385226994,
          "Predicted": -0.31411580191037514
         },
         {
          "Actual": 0.18178284354471558,
          "Predicted": -0.6506891774876757
         },
         {
          "Actual": 0.18812061859237353,
          "Predicted": -0.5239077054833935
         },
         {
          "Actual": 0.45904606038022944,
          "Predicted": -0.425487631134868
         },
         {
          "Actual": 0.3615889967187807,
          "Predicted": -0.4842790085685311
         },
         {
          "Actual": 0.18767951184070672,
          "Predicted": 0.6256019220252407
         },
         {
          "Actual": 0.4653849659891261,
          "Predicted": 0.614851897784193
         },
         {
          "Actual": 0.6610160694166273,
          "Predicted": 0.6781512514446846
         },
         {
          "Actual": 0.5564178349249994,
          "Predicted": 0.6824400244384601
         },
         {
          "Actual": 0.46081327287762613,
          "Predicted": 0.7307628195335831
         },
         {
          "Actual": 0.6983607561591877,
          "Predicted": 0.7663287146913295
         },
         {
          "Actual": 0.21643036082494566,
          "Predicted": 0.5807651488424161
         },
         {
          "Actual": 0.31000044590530834,
          "Predicted": 0.7016942112618538
         },
         {
          "Actual": 0.6415140966951635,
          "Predicted": 0.7534387317984524
         },
         {
          "Actual": 0.45066958186996947,
          "Predicted": 0.7226639143370247
         },
         {
          "Actual": 0.5625861493609032,
          "Predicted": 0.7834351040017691
         },
         {
          "Actual": 0.710737373639277,
          "Predicted": 0.7852548870179884
         },
         {
          "Actual": 0.3661359495051931,
          "Predicted": 0.5494070005138646
         },
         {
          "Actual": 0.39289798909374823,
          "Predicted": 0.7036908551659342
         },
         {
          "Actual": 0.7885212274380982,
          "Predicted": 0.7651438192670823
         },
         {
          "Actual": 0.7404100446614462,
          "Predicted": 0.8040163735101971
         },
         {
          "Actual": 0.6736665404855486,
          "Predicted": 0.8445497219695844
         },
         {
          "Actual": 0.9126287740829704,
          "Predicted": 0.8459761734090844
         },
         {
          "Actual": 0.4856919764871726,
          "Predicted": 0.5834454787203965
         },
         {
          "Actual": 0.719852694030301,
          "Predicted": 0.709256690938677
         },
         {
          "Actual": 0.6905608396835312,
          "Predicted": 0.8145119293769207
         },
         {
          "Actual": 0.854851860326504,
          "Predicted": 0.8186862780474131
         },
         {
          "Actual": 1.002298959385012,
          "Predicted": 0.8458050597530045
         },
         {
          "Actual": 1.0778206092652491,
          "Predicted": 0.838179231395148
         },
         {
          "Actual": 0.2569705236210632,
          "Predicted": 0.5638613702811824
         },
         {
          "Actual": 0.7772771607481685,
          "Predicted": 0.7221423781190431
         },
         {
          "Actual": 0.594039657968291,
          "Predicted": 0.7697597449730686
         },
         {
          "Actual": 0.8890560768133072,
          "Predicted": 0.8040163735101972
         },
         {
          "Actual": 0.9270762229004137,
          "Predicted": 0.8327583782175981
         },
         {
          "Actual": 0.8583053844225742,
          "Predicted": 0.8328447414569938
         },
         {
          "Actual": -1.4299770194220958,
          "Predicted": -1.1075887681775374
         },
         {
          "Actual": 0.17051370591286,
          "Predicted": -0.49734874862992223
         },
         {
          "Actual": 0.8461834776842275,
          "Predicted": -0.2944562211820201
         },
         {
          "Actual": -1.6426801962055246,
          "Predicted": -0.9509015883005034
         },
         {
          "Actual": -0.1358756180790953,
          "Predicted": -0.2222107384073518
         },
         {
          "Actual": -1.7327749035961382,
          "Predicted": 0.02153761169747517
         },
         {
          "Actual": -0.4776180431743645,
          "Predicted": -0.027077896023303776
         },
         {
          "Actual": -1.7245764839552684,
          "Predicted": 0.010602243402901047
         },
         {
          "Actual": -0.6315570963350183,
          "Predicted": 0.02153761169747517
         },
         {
          "Actual": -1.3011952378055867,
          "Predicted": -0.6977919895117366
         },
         {
          "Actual": 0.6615944325575179,
          "Predicted": -0.09961465002348814
         },
         {
          "Actual": 0.5936269016071088,
          "Predicted": 0.00245981639992105
         },
         {
          "Actual": 0.5520421673847832,
          "Predicted": 0.02917460330413119
         },
         {
          "Actual": 0.8677314659163703,
          "Predicted": 0.12889535274041944
         },
         {
          "Actual": 0.9330382764801014,
          "Predicted": 0.00245981639992105
         },
         {
          "Actual": -1.3408890119678547,
          "Predicted": -0.6131200718126266
         },
         {
          "Actual": 0.5516373182883582,
          "Predicted": 0.028780472120674864
         },
         {
          "Actual": 0.3599824151290624,
          "Predicted": 0.0762521688707541
         },
         {
          "Actual": 0.8976137151043514,
          "Predicted": 0.03977000433840473
         },
         {
          "Actual": 0.24429175628924607,
          "Predicted": 0.29358209274385344
         },
         {
          "Actual": 1.471603991016878,
          "Predicted": 0.0762521688707541
         },
         {
          "Actual": -1.6398050368610342,
          "Predicted": -1.3742067398064493
         },
         {
          "Actual": -1.5663262314431485,
          "Predicted": -1.4787945219995229
         },
         {
          "Actual": -1.5838195100911572,
          "Predicted": -1.4254727400555496
         },
         {
          "Actual": -0.4561216589570134,
          "Predicted": -1.4254727400555496
         },
         {
          "Actual": -1.5405163961770973,
          "Predicted": -1.2191170756283671
         },
         {
          "Actual": -1.667699063850016,
          "Predicted": -1.4382041370149703
         },
         {
          "Actual": -0.7413444898614096,
          "Predicted": -1.4227636761984392
         },
         {
          "Actual": -0.741344490096368,
          "Predicted": -1.4227636761984395
         },
         {
          "Actual": -1.6444655203310496,
          "Predicted": -1.3026315071121637
         },
         {
          "Actual": -1.5941233276841025,
          "Predicted": -1.4726532146340277
         },
         {
          "Actual": -1.4663903050056368,
          "Predicted": -1.4257180286592346
         },
         {
          "Actual": -1.6025239408718543,
          "Predicted": -1.4257180286592346
         },
         {
          "Actual": -1.551014223905607,
          "Predicted": -1.1921469425548414
         },
         {
          "Actual": -1.655521500712647,
          "Predicted": -1.3650368527108367
         },
         {
          "Actual": -1.5512862343963734,
          "Predicted": -1.4257180286592348
         },
         {
          "Actual": -1.5615807906232697,
          "Predicted": -1.4257180286592346
         },
         {
          "Actual": -1.554892682307936,
          "Predicted": -1.2191170756283676
         },
         {
          "Actual": -1.5761552604385733,
          "Predicted": -1.4810224629208424
         },
         {
          "Actual": -1.535521434257871,
          "Predicted": -1.4810224629208426
         },
         {
          "Actual": -1.5761552604385733,
          "Predicted": -1.4221227518227886
         },
         {
          "Actual": -1.582847273682171,
          "Predicted": -1.4221227518227884
         },
         {
          "Actual": -1.582847273682171,
          "Predicted": -1.4221227518227884
         },
         {
          "Actual": 0.5669023713541944,
          "Predicted": 0.29218690733088615
         },
         {
          "Actual": 0.008789483356510112,
          "Predicted": 0.34242761910143577
         },
         {
          "Actual": 0.37797437423670305,
          "Predicted": 0.31199170731072917
         },
         {
          "Actual": 0.6522324579266363,
          "Predicted": 0.35973771571009755
         },
         {
          "Actual": 0.4178952981727209,
          "Predicted": 0.4544448793265936
         },
         {
          "Actual": 0.30321641917294784,
          "Predicted": 0.10327087911745823
         },
         {
          "Actual": -0.23145438687755424,
          "Predicted": 0.29634849252268486
         },
         {
          "Actual": 0.38174505878159487,
          "Predicted": 0.34418778493112934
         },
         {
          "Actual": 0.39757305184441155,
          "Predicted": 0.34479635016693194
         },
         {
          "Actual": 0.14321896151529231,
          "Predicted": 0.43063868037209785
         },
         {
          "Actual": -0.4813731282047689,
          "Predicted": -0.04740429963510373
         },
         {
          "Actual": 0.6868682205906033,
          "Predicted": 0.2551555811020738
         },
         {
          "Actual": 0.14613741789703158,
          "Predicted": 0.28935317721761944
         },
         {
          "Actual": 0.21743895603519253,
          "Predicted": 0.34959008304047395
         },
         {
          "Actual": 0.43441045349401114,
          "Predicted": 0.3535732031683527
         },
         {
          "Actual": 0.21402380530338885,
          "Predicted": -0.06019787346782802
         },
         {
          "Actual": -0.258902923537111,
          "Predicted": 0.27651897396308306
         },
         {
          "Actual": 0.48149591570597816,
          "Predicted": 0.27888504132198294
         },
         {
          "Actual": 0.3364574710081852,
          "Predicted": 0.32863461964634233
         },
         {
          "Actual": 0.007374788847102102,
          "Predicted": -0.41014069357094024
         },
         {
          "Actual": 0.6368506687452631,
          "Predicted": 0.4773976634121926
         },
         {
          "Actual": 0.5359491616641908,
          "Predicted": 0.590148383035677
         },
         {
          "Actual": 0.3973091806246624,
          "Predicted": 0.6110970102852592
         },
         {
          "Actual": 0.3620209213027068,
          "Predicted": 0.5500704319071393
         },
         {
          "Actual": -0.48137312782353336,
          "Predicted": -0.4627982443400055
         },
         {
          "Actual": 0.14613741793995352,
          "Predicted": 0.33567194093256864
         },
         {
          "Actual": 0.4344104535243551,
          "Predicted": 0.6249613219191043
         },
         {
          "Actual": 0.21743895596318075,
          "Predicted": 0.6249613219191041
         },
         {
          "Actual": 0.686868220539636,
          "Predicted": 0.5461447401124246
         },
         {
          "Actual": 0.28598599174605455,
          "Predicted": -0.08040743747176152
         },
         {
          "Actual": 0.2421333966648251,
          "Predicted": 0.14378434334247492
         },
         {
          "Actual": 0.19184987652063581,
          "Predicted": 0.14378434334247486
         },
         {
          "Actual": 0.4248734151626604,
          "Predicted": 0.3472116581409619
         },
         {
          "Actual": 0.5762563010461497,
          "Predicted": 0.3472116581409619
         },
         {
          "Actual": -1.706952691871629,
          "Predicted": -0.08040743747176152
         },
         {
          "Actual": 0.2365011492577216,
          "Predicted": 0.19779868210342463
         },
         {
          "Actual": 0.17250814558057237,
          "Predicted": 0.19779868210342463
         },
         {
          "Actual": 0.1768499043293863,
          "Predicted": 0.347211658140962
         },
         {
          "Actual": 0.5934238994752402,
          "Predicted": 0.33714438939721475
         },
         {
          "Actual": -0.4113461410198051,
          "Predicted": -0.01892105071312275
         },
         {
          "Actual": 0.0326734449505753,
          "Predicted": 0.19452336463456252
         },
         {
          "Actual": 0.10359101142576958,
          "Predicted": 0.19300494922988257
         },
         {
          "Actual": 0.3050267232919043,
          "Predicted": 0.3257248368993822
         },
         {
          "Actual": 0.08446876578620761,
          "Predicted": 0.36317660729164924
         },
         {
          "Actual": -1.6989728698040758,
          "Predicted": -1.152189099330258
         },
         {
          "Actual": -1.7053352302822977,
          "Predicted": -0.7213195032448642
         },
         {
          "Actual": -1.6650058099049982,
          "Predicted": -0.8097449761082964
         },
         {
          "Actual": -1.611468180846489,
          "Predicted": -0.762039414791582
         },
         {
          "Actual": 0.28058150839619406,
          "Predicted": -0.9461751389662981
         },
         {
          "Actual": -1.6682092513576603,
          "Predicted": -0.7633610519637294
         },
         {
          "Actual": -1.7051171349400303,
          "Predicted": -1.0280241987399419
         },
         {
          "Actual": -1.6700361770644516,
          "Predicted": -0.525298810798891
         },
         {
          "Actual": -1.6725093923381906,
          "Predicted": -0.4119847019347865
         },
         {
          "Actual": -0.10011506460872559,
          "Predicted": -0.39521653058521633
         },
         {
          "Actual": -1.673548938330143,
          "Predicted": -0.33932710711606456
         },
         {
          "Actual": -0.24078220678404083,
          "Predicted": -0.4326661086814574
         },
         {
          "Actual": 0.3974879287296773,
          "Predicted": 0.5519705541741771
         },
         {
          "Actual": 0.7457056150019334,
          "Predicted": 0.8121670933116044
         },
         {
          "Actual": 0.6731555278479276,
          "Predicted": 0.844278743530515
         },
         {
          "Actual": 0.8718150431649031,
          "Predicted": 0.8488913737159445
         },
         {
          "Actual": 0.7930810446205872,
          "Predicted": 0.9045291275675238
         },
         {
          "Actual": 0.8047112608698788,
          "Predicted": 0.9045291275675238
         },
         {
          "Actual": 0.5330902587177229,
          "Predicted": 0.6026354626624465
         },
         {
          "Actual": 0.88141931087309,
          "Predicted": 0.8301781405114426
         },
         {
          "Actual": 0.8993193101377397,
          "Predicted": 0.8476604341275524
         },
         {
          "Actual": 0.9667676351698696,
          "Predicted": 0.8065060718855773
         },
         {
          "Actual": 0.9129554694227539,
          "Predicted": 0.9111446255817521
         },
         {
          "Actual": 0.6634582623330348,
          "Predicted": 0.9111446255817521
         },
         {
          "Actual": 0.3722904990520876,
          "Predicted": 0.5946833427679304
         },
         {
          "Actual": 0.7291902932048734,
          "Predicted": 0.7241447956401114
         },
         {
          "Actual": 0.9491893462475025,
          "Predicted": 0.8020015895206513
         },
         {
          "Actual": 0.7032624596161475,
          "Predicted": 0.8099357994004192
         },
         {
          "Actual": 0.8568929101762682,
          "Predicted": 0.8481740128936183
         },
         {
          "Actual": 0.8299846897794675,
          "Predicted": 0.8481740128936183
         },
         {
          "Actual": -0.09410777542195523,
          "Predicted": 0.5245693915632683
         },
         {
          "Actual": 0.4883092191673007,
          "Predicted": 0.6797567050504214
         },
         {
          "Actual": 0.7770186821691589,
          "Predicted": 0.7764639640454688
         },
         {
          "Actual": 0.5511389018894428,
          "Predicted": 0.7957086420571343
         },
         {
          "Actual": 0.9894023615594364,
          "Predicted": 0.8533374238301972
         },
         {
          "Actual": 0.8647434328295734,
          "Predicted": 0.8533374238301972
         },
         {
          "Actual": 0.39217077568527137,
          "Predicted": 0.5805249758095897
         },
         {
          "Actual": 0.6854470028736682,
          "Predicted": 0.7471632548501222
         },
         {
          "Actual": 0.9097043099572378,
          "Predicted": 0.8169574791548431
         },
         {
          "Actual": 0.9145963709712703,
          "Predicted": 0.8351771041558743
         },
         {
          "Actual": 0.787133077312736,
          "Predicted": 0.8705450409022537
         },
         {
          "Actual": 1.044341483354442,
          "Predicted": 0.8705450409022537
         },
         {
          "Actual": 0.4494736423830418,
          "Predicted": 0.3533254270120749
         },
         {
          "Actual": 0.25150303634319443,
          "Predicted": 0.3170351318433042
         },
         {
          "Actual": 0.26006421113707423,
          "Predicted": 0.35179090389876083
         },
         {
          "Actual": -0.05255437292176655,
          "Predicted": 0.3123705245930952
         },
         {
          "Actual": 0.22794566309951564,
          "Predicted": 0.3170351318433042
         },
         {
          "Actual": -0.2622351767787425,
          "Predicted": 0.3386486042208605
         },
         {
          "Actual": 0.6464703972909065,
          "Predicted": 0.34282323553678345
         },
         {
          "Actual": 0.027331051195970065,
          "Predicted": 0.3314549289561957
         },
         {
          "Actual": 0.4961224592037783,
          "Predicted": 0.3621591541570695
         },
         {
          "Actual": 0.41785730731242887,
          "Predicted": 0.3170351318433042
         },
         {
          "Actual": 0.38573462534843705,
          "Predicted": 0.3407867654846517
         },
         {
          "Actual": 0.5130865303481681,
          "Predicted": -0.3599452043992264
         },
         {
          "Actual": 0.3095766460553785,
          "Predicted": 0.15520383943042929
         },
         {
          "Actual": 0.4682257833720067,
          "Predicted": 0.3386486042208605
         },
         {
          "Actual": -0.32812664828554683,
          "Predicted": 0.33684289419102376
         },
         {
          "Actual": 0.3472676434899453,
          "Predicted": 0.35179090389876083
         },
         {
          "Actual": 0.3365850372194746,
          "Predicted": 0.3621591541570695
         },
         {
          "Actual": 0.07034683820627222,
          "Predicted": 0.3386486042208605
         },
         {
          "Actual": 0.8277235681565694,
          "Predicted": 0.6955699407990173
         },
         {
          "Actual": 0.24407011407439086,
          "Predicted": 0.7442535500705326
         },
         {
          "Actual": 0.06290401792858279,
          "Predicted": 0.4653284079893369
         },
         {
          "Actual": 0.09885711205962076,
          "Predicted": 0.7171838381806214
         },
         {
          "Actual": 0.4797409138596296,
          "Predicted": 0.591007996826067
         },
         {
          "Actual": 0.15323939963448951,
          "Predicted": 0.6792735640523966
         },
         {
          "Actual": 0.7707179497771508,
          "Predicted": 0.6888920282743122
         },
         {
          "Actual": 0.42132910494205084,
          "Predicted": 0.6643966703202457
         },
         {
          "Actual": 0.8342127147174845,
          "Predicted": 0.6968265939340106
         },
         {
          "Actual": 0.7480609315804914,
          "Predicted": 0.611902605840681
         },
         {
          "Actual": 0.9778060918345798,
          "Predicted": 0.6972906288131157
         },
         {
          "Actual": 0.94970942235938,
          "Predicted": 0.5895062404152859
         },
         {
          "Actual": 1.4633748388381251,
          "Predicted": 0.9759932003757096
         },
         {
          "Actual": 1.1299336610100383,
          "Predicted": 1.167673943370689
         },
         {
          "Actual": 1.2583474643123558,
          "Predicted": 0.9493324171504309
         },
         {
          "Actual": 1.4209873513353812,
          "Predicted": 0.9844698837285188
         },
         {
          "Actual": 1.0972167011297012,
          "Predicted": 1.0053221595198778
         },
         {
          "Actual": 1.2888165618085266,
          "Predicted": 0.8086438723978272
         },
         {
          "Actual": 1.3302983154231114,
          "Predicted": 1.114188035761096
         },
         {
          "Actual": 1.0667149330541517,
          "Predicted": 1.0812197433579842
         },
         {
          "Actual": 1.3551564971111176,
          "Predicted": 1.0927756508749185
         },
         {
          "Actual": 1.086584538669934,
          "Predicted": 1.0860634857162004
         },
         {
          "Actual": 1.5541435013684874,
          "Predicted": 0.9493324171504309
         },
         {
          "Actual": 1.4737705755810568,
          "Predicted": 0.9884212339760869
         },
         {
          "Actual": -1.7276299833543007,
          "Predicted": -0.9347676422694644
         },
         {
          "Actual": -1.733440314271977,
          "Predicted": -1.4717719657342587
         },
         {
          "Actual": -1.7215062261536187,
          "Predicted": -1.7271549682335758
         },
         {
          "Actual": -1.733957933944245,
          "Predicted": -1.4049090857397697
         },
         {
          "Actual": -1.7338131941630108,
          "Predicted": -0.8598783625735167
         },
         {
          "Actual": -1.7324073298471012,
          "Predicted": -0.9347676422694644
         },
         {
          "Actual": -1.7258027198944126,
          "Predicted": -1.4717719657342587
         },
         {
          "Actual": -1.6839828377809256,
          "Predicted": -1.7271549682335758
         },
         {
          "Actual": -1.730568177691938,
          "Predicted": -1.4049090857397697
         },
         {
          "Actual": -1.7306239791551377,
          "Predicted": -0.8598783625735167
         },
         {
          "Actual": -1.730036316915067,
          "Predicted": -0.9347676422694644
         },
         {
          "Actual": -1.7332422946615749,
          "Predicted": -1.4717719657342587
         },
         {
          "Actual": -1.731217169850762,
          "Predicted": -1.7271549682335758
         },
         {
          "Actual": -1.728655231329445,
          "Predicted": -1.4049090857397697
         },
         {
          "Actual": -0.6204887765327242,
          "Predicted": -0.8598783625735167
         },
         {
          "Actual": -1.722098043717389,
          "Predicted": -0.9347676422694644
         },
         {
          "Actual": -1.733041318900058,
          "Predicted": -1.4717719657342587
         },
         {
          "Actual": -1.7260870089880591,
          "Predicted": -1.7271549682335758
         },
         {
          "Actual": -1.723792376763786,
          "Predicted": -1.4049090857397697
         },
         {
          "Actual": -1.7340419390551307,
          "Predicted": -0.8598783625735167
         },
         {
          "Actual": -0.05960416860518723,
          "Predicted": 0.04152359014307424
         },
         {
          "Actual": 0.6902568392291132,
          "Predicted": 0.26489987485190014
         },
         {
          "Actual": 0.4201398652903514,
          "Predicted": 0.26221670358325117
         },
         {
          "Actual": -0.03492843882710937,
          "Predicted": 0.2914638270969781
         },
         {
          "Actual": 0.26522519782969384,
          "Predicted": 0.12615466346644863
         },
         {
          "Actual": 0.4253567712567456,
          "Predicted": 0.24998243305437332
         },
         {
          "Actual": 0.6751442272938899,
          "Predicted": 0.28137537010046926
         },
         {
          "Actual": 0.5329310683225792,
          "Predicted": 0.26221670358325117
         },
         {
          "Actual": 0.18779571357858846,
          "Predicted": 0.244536209347768
         },
         {
          "Actual": 0.6014502738759325,
          "Predicted": 0.12615466346644863
         },
         {
          "Actual": 0.46593302856127317,
          "Predicted": 0.23046347589359942
         },
         {
          "Actual": 0.16854270395986382,
          "Predicted": 0.009483515530046073
         },
         {
          "Actual": 0.28564730624760826,
          "Predicted": 0.14560256818629705
         },
         {
          "Actual": 0.3018678913326617,
          "Predicted": 0.24090245912167357
         },
         {
          "Actual": 0.33528646028815895,
          "Predicted": 0.1420091721676359
         },
         {
          "Actual": 0.22345392863598634,
          "Predicted": 0.25820053526662506
         },
         {
          "Actual": 0.37251013015116685,
          "Predicted": 0.27662219866272636
         },
         {
          "Actual": 0.4116537980591357,
          "Predicted": 0.03678701731538512
         },
         {
          "Actual": 0.38039753819828903,
          "Predicted": 0.24453620934776799
         },
         {
          "Actual": 0.46574418471828094,
          "Predicted": 0.09794679852308344
         },
         {
          "Actual": 0.2254950643254504,
          "Predicted": -0.47597075845951464
         },
         {
          "Actual": -0.01727995247839095,
          "Predicted": -0.21489627427261995
         },
         {
          "Actual": -0.7224038375928359,
          "Predicted": -0.26045529187549227
         },
         {
          "Actual": 0.18016839975309049,
          "Predicted": -0.25602380300638033
         },
         {
          "Actual": 0.18450287541670454,
          "Predicted": -0.1980798951374163
         },
         {
          "Actual": 0.33766219079462556,
          "Predicted": -0.25602380300638033
         },
         {
          "Actual": 0.1890476031182996,
          "Predicted": -0.40580415387487845
         },
         {
          "Actual": 0.29590437728178337,
          "Predicted": -0.18250556419411157
         },
         {
          "Actual": 0.1860076180142696,
          "Predicted": -0.2258609573881057
         },
         {
          "Actual": 0.16322092708418431,
          "Predicted": -0.21478056433686427
         },
         {
          "Actual": 0.12038423583732379,
          "Predicted": -0.17003856252888366
         },
         {
          "Actual": -0.07726452298412342,
          "Predicted": -0.21478056433686427
         },
         {
          "Actual": -0.33718566978564596,
          "Predicted": -0.47597075845951464
         },
         {
          "Actual": -0.22102726105149356,
          "Predicted": -0.21489627427261995
         },
         {
          "Actual": -1.6448038117962527,
          "Predicted": -0.26045529187549227
         },
         {
          "Actual": -0.1754186060511086,
          "Predicted": -0.25602380300638033
         },
         {
          "Actual": -0.12809696012191432,
          "Predicted": -0.1980798951374163
         },
         {
          "Actual": -0.38569345671822697,
          "Predicted": -0.25602380300638033
         },
         {
          "Actual": -0.13879614945203156,
          "Predicted": -0.40580415387487845
         },
         {
          "Actual": -0.03809437191104037,
          "Predicted": -0.18250556419411157
         },
         {
          "Actual": -0.303633119288641,
          "Predicted": -0.2258609573881057
         },
         {
          "Actual": 0.10107866731153435,
          "Predicted": -0.21478056433686427
         },
         {
          "Actual": -0.6306464606358915,
          "Predicted": -0.17003856252888366
         },
         {
          "Actual": -0.27483155349237004,
          "Predicted": -0.21478056433686427
         },
         {
          "Actual": -0.16339230868060198,
          "Predicted": -0.3823366648684011
         },
         {
          "Actual": -0.4939121040038468,
          "Predicted": -0.2777494985523128
         },
         {
          "Actual": -0.19573531430636673,
          "Predicted": -0.21660343490846423
         },
         {
          "Actual": -1.0053024589387984,
          "Predicted": -0.131138088052958
         },
         {
          "Actual": -0.8615719128481024,
          "Predicted": -0.11863632588462521
         },
         {
          "Actual": -0.9160228993272205,
          "Predicted": -0.131138088052958
         },
         {
          "Actual": -1.5405270740178127,
          "Predicted": -0.8667308158879282
         },
         {
          "Actual": -1.596360638164646,
          "Predicted": -0.9328827854203812
         },
         {
          "Actual": -0.5574616650531506,
          "Predicted": -0.9355785886576864
         },
         {
          "Actual": -0.5863018065120985,
          "Predicted": -0.8002927106614696
         },
         {
          "Actual": -0.6705761639258074,
          "Predicted": -0.8498936728717568
         },
         {
          "Actual": -0.6501827758664895,
          "Predicted": -0.9903613046153453
         },
         {
          "Actual": -0.9185954218033652,
          "Predicted": -0.9924326604650965
         },
         {
          "Actual": -1.658413492092541,
          "Predicted": -0.9328827854203812
         },
         {
          "Actual": -1.0956123171287941,
          "Predicted": -0.9355785886576864
         },
         {
          "Actual": -1.613421485835053,
          "Predicted": -0.8002927106614696
         },
         {
          "Actual": -1.6664779621046928,
          "Predicted": -0.8667308158879282
         },
         {
          "Actual": -1.652777252724514,
          "Predicted": -0.9328827854203812
         },
         {
          "Actual": -0.5120071048286164,
          "Predicted": -0.9355785886576864
         },
         {
          "Actual": -0.5213296211307347,
          "Predicted": -0.8002927106614696
         },
         {
          "Actual": -0.4528884859670332,
          "Predicted": -0.8498936728717568
         },
         {
          "Actual": -1.5918224075606366,
          "Predicted": -0.9903613046153453
         },
         {
          "Actual": 0.05579996932822349,
          "Predicted": -0.9924326604650965
         },
         {
          "Actual": -0.8813318925301473,
          "Predicted": -0.9328827854203812
         },
         {
          "Actual": -0.7459329509189252,
          "Predicted": -0.9355785886576864
         },
         {
          "Actual": -0.48197385998546305,
          "Predicted": -0.8002927106614696
         },
         {
          "Actual": -1.7122697884335039,
          "Predicted": -1.6889447872920924
         },
         {
          "Actual": -1.6895144136356808,
          "Predicted": -1.6827667609612684
         },
         {
          "Actual": -1.6501329274538068,
          "Predicted": -1.6827667609612684
         },
         {
          "Actual": -1.6185198334498485,
          "Predicted": -1.6827667609612684
         },
         {
          "Actual": -1.6557359553027375,
          "Predicted": -1.6827667609612684
         },
         {
          "Actual": -1.7304358117154768,
          "Predicted": -1.6827667609612684
         },
         {
          "Actual": -1.651726564061333,
          "Predicted": -1.604154529098059
         },
         {
          "Actual": -1.6146814974384716,
          "Predicted": -1.604154529098059
         },
         {
          "Actual": -1.6805368120139754,
          "Predicted": -1.604154529098059
         },
         {
          "Actual": -1.6773455392013434,
          "Predicted": -1.604154529098059
         },
         {
          "Actual": -0.1162718673545479,
          "Predicted": -1.604154529098059
         },
         {
          "Actual": -1.6942922772888478,
          "Predicted": -1.6889447872920924
         },
         {
          "Actual": -1.6960028040870554,
          "Predicted": -1.6827667609612684
         },
         {
          "Actual": -1.6280369392074505,
          "Predicted": -1.6827667609612684
         },
         {
          "Actual": -1.6045500851264913,
          "Predicted": -1.6827667609612684
         },
         {
          "Actual": -1.6749262846963757,
          "Predicted": -1.6827667609612684
         },
         {
          "Actual": -1.6309628072027385,
          "Predicted": -1.6827667609612684
         },
         {
          "Actual": -1.6481846730062621,
          "Predicted": -1.604154529098059
         },
         {
          "Actual": -1.6963500824529576,
          "Predicted": -1.604154529098059
         },
         {
          "Actual": -1.6732732080687989,
          "Predicted": -1.604154529098059
         },
         {
          "Actual": -1.6625907834551543,
          "Predicted": -1.604154529098059
         },
         {
          "Actual": -1.7311463009725325,
          "Predicted": -1.604154529098059
         },
         {
          "Actual": -1.7254864570771615,
          "Predicted": -1.6889447872920924
         },
         {
          "Actual": -1.7314895940474206,
          "Predicted": -1.6827667609612684
         },
         {
          "Actual": -1.6451185870303502,
          "Predicted": -1.6827667609612684
         },
         {
          "Actual": -1.7069607416314148,
          "Predicted": -1.6827667609612684
         },
         {
          "Actual": -1.7303271794739254,
          "Predicted": -1.6827667609612684
         },
         {
          "Actual": -1.7028052883520217,
          "Predicted": -1.6827667609612684
         },
         {
          "Actual": -1.6661840038036762,
          "Predicted": -1.604154529098059
         },
         {
          "Actual": -1.723502508160379,
          "Predicted": -1.604154529098059
         },
         {
          "Actual": -1.718776967321072,
          "Predicted": -1.604154529098059
         },
         {
          "Actual": -1.6957407780165605,
          "Predicted": -1.604154529098059
         },
         {
          "Actual": -1.7081878893949316,
          "Predicted": -1.604154529098059
         },
         {
          "Actual": -1.723558189293661,
          "Predicted": -1.6889447872920924
         },
         {
          "Actual": -1.7123334788217976,
          "Predicted": -1.6827667609612684
         },
         {
          "Actual": -1.7043594418321366,
          "Predicted": -1.6827667609612684
         },
         {
          "Actual": -1.7026523033810534,
          "Predicted": -1.6827667609612684
         },
         {
          "Actual": -1.6831668543927922,
          "Predicted": -1.6827667609612684
         },
         {
          "Actual": -1.7025740666309779,
          "Predicted": -1.6827667609612684
         },
         {
          "Actual": -1.7119925763144797,
          "Predicted": -1.604154529098059
         },
         {
          "Actual": -1.6822622293579679,
          "Predicted": -1.604154529098059
         },
         {
          "Actual": -1.7326768412613567,
          "Predicted": -1.604154529098059
         },
         {
          "Actual": -1.6875049312073158,
          "Predicted": -1.604154529098059
         },
         {
          "Actual": -1.702761092910975,
          "Predicted": -1.604154529098059
         },
         {
          "Actual": 0.1664365018159847,
          "Predicted": -1.5920309564230208
         },
         {
          "Actual": -1.4190953817208896,
          "Predicted": -1.4054171969403901
         },
         {
          "Actual": -0.4740080348919244,
          "Predicted": -1.4054171969403901
         },
         {
          "Actual": -0.6609274917824609,
          "Predicted": -1.4054171969403901
         },
         {
          "Actual": -0.5791202363302104,
          "Predicted": -1.4054171969403901
         },
         {
          "Actual": -1.5569083683192684,
          "Predicted": -1.4054171969403901
         },
         {
          "Actual": 0.8162594347974798,
          "Predicted": 0.8240516224748733
         },
         {
          "Actual": 0.7477500095126953,
          "Predicted": 0.8417269691953017
         },
         {
          "Actual": 0.8296294791979494,
          "Predicted": 0.8330009960823741
         },
         {
          "Actual": 0.9369766723904831,
          "Predicted": 0.847384100211687
         },
         {
          "Actual": 0.8668773995705539,
          "Predicted": 0.8417269691953017
         },
         {
          "Actual": 1.1346450233206429,
          "Predicted": 0.8330009960823741
         },
         {
          "Actual": 0.9317632796347137,
          "Predicted": 0.847384100211687
         },
         {
          "Actual": 0.9055633898059089,
          "Predicted": 0.8417269691953017
         },
         {
          "Actual": 0.8382195929592657,
          "Predicted": 0.8330009960823741
         },
         {
          "Actual": 0.6580596289291056,
          "Predicted": 0.847384100211687
         },
         {
          "Actual": 0.9292638236054697,
          "Predicted": 0.8428779271942413
         },
         {
          "Actual": 0.7814768124194522,
          "Predicted": 0.8440337249922297
         },
         {
          "Actual": 0.4343058950447029,
          "Predicted": 0.8469259038914705
         },
         {
          "Actual": 0.9803042609896045,
          "Predicted": 0.8521390647826896
         },
         {
          "Actual": 0.877460893262139,
          "Predicted": 0.8440337249922297
         },
         {
          "Actual": 0.7083483553561779,
          "Predicted": 0.8469259038914705
         },
         {
          "Actual": 0.8158796578853179,
          "Predicted": 0.8521390647826896
         },
         {
          "Actual": 0.8380943363617459,
          "Predicted": 0.8440337249922297
         },
         {
          "Actual": 0.7430662187755425,
          "Predicted": 0.8469259038914705
         },
         {
          "Actual": 0.7214087784287234,
          "Predicted": 0.8521390647826896
         },
         {
          "Actual": 0.741357654032243,
          "Predicted": 0.8272765887541688
         },
         {
          "Actual": 0.958872520699698,
          "Predicted": 0.84403372499223
         },
         {
          "Actual": 1.0771892417203806,
          "Predicted": 0.8553188382765345
         },
         {
          "Actual": 0.8985414991108489,
          "Predicted": 0.8557206673099966
         },
         {
          "Actual": 0.7311093387326987,
          "Predicted": 0.84403372499223
         },
         {
          "Actual": 0.9483596201048248,
          "Predicted": 0.8553188382765345
         },
         {
          "Actual": 0.9252905635016856,
          "Predicted": 0.8557206673099966
         },
         {
          "Actual": 0.9061447843805812,
          "Predicted": 0.84403372499223
         },
         {
          "Actual": 0.8685358651876454,
          "Predicted": 0.8553188382765345
         },
         {
          "Actual": 0.9020242619717403,
          "Predicted": 0.8557206673099966
         },
         {
          "Actual": 0.5064956043654204,
          "Predicted": 0.9114303298117443
         },
         {
          "Actual": 1.0751810619917705,
          "Predicted": 0.9281315319667559
         },
         {
          "Actual": 1.0086678812731875,
          "Predicted": 0.9843030929404402
         },
         {
          "Actual": 1.0755901247423258,
          "Predicted": 1.010203603959027
         },
         {
          "Actual": 1.0459187872521718,
          "Predicted": 0.9281315319667559
         },
         {
          "Actual": 1.1074857178045063,
          "Predicted": 0.9843030929404402
         },
         {
          "Actual": 0.9366448534900252,
          "Predicted": 1.010203603959027
         },
         {
          "Actual": 0.8453451554694064,
          "Predicted": 0.9281315319667559
         },
         {
          "Actual": 0.9161657601193745,
          "Predicted": 0.9843030929404402
         },
         {
          "Actual": 1.0176469679590836,
          "Predicted": 1.010203603959027
         },
         {
          "Actual": 0.9356762565432303,
          "Predicted": 0.8774481544588124
         },
         {
          "Actual": 0.7012927239606584,
          "Predicted": 0.8939751145210556
         },
         {
          "Actual": 0.9010140163120919,
          "Predicted": 0.9166145486855086
         },
         {
          "Actual": 0.9391288024452726,
          "Predicted": 0.9166145486855086
         },
         {
          "Actual": 0.8373032949630961,
          "Predicted": 0.8939751145210556
         },
         {
          "Actual": 0.7003547734018387,
          "Predicted": 0.9166145486855086
         },
         {
          "Actual": 0.6697016070977014,
          "Predicted": 0.9166145486855086
         },
         {
          "Actual": 0.5840633997331828,
          "Predicted": 0.8939751145210556
         },
         {
          "Actual": 1.0247907096314686,
          "Predicted": 0.9166145486855086
         },
         {
          "Actual": 1.0937045308342694,
          "Predicted": 0.9166145486855086
         },
         {
          "Actual": 0.7233356446843249,
          "Predicted": 0.9428922168756666
         },
         {
          "Actual": 1.0558892068344623,
          "Predicted": 0.9688130232944002
         },
         {
          "Actual": 1.0666808878866487,
          "Predicted": 0.995715726641435
         },
         {
          "Actual": 0.9785101137163048,
          "Predicted": 0.995715726641435
         },
         {
          "Actual": 0.901509495531104,
          "Predicted": 0.9688130232944002
         },
         {
          "Actual": 0.9783184735801177,
          "Predicted": 0.995715726641435
         },
         {
          "Actual": 0.9560883716903735,
          "Predicted": 0.995715726641435
         },
         {
          "Actual": 0.8024201311275654,
          "Predicted": 0.9688130232944002
         },
         {
          "Actual": 1.1498366585605875,
          "Predicted": 0.995715726641435
         },
         {
          "Actual": 1.2773635124739258,
          "Predicted": 0.995715726641435
         },
         {
          "Actual": 0.25687040293719404,
          "Predicted": 0.31251871391732233
         },
         {
          "Actual": 0.018996358884215872,
          "Predicted": 0.3125187139173223
         },
         {
          "Actual": -0.6411395765588075,
          "Predicted": 0.30902254450289746
         },
         {
          "Actual": 0.5464350658083811,
          "Predicted": 0.30902254450289746
         },
         {
          "Actual": -0.5733193571086265,
          "Predicted": 0.3125187139173223
         },
         {
          "Actual": 0.23637358179147475,
          "Predicted": 0.30902254450289746
         },
         {
          "Actual": 0.6864049045413462,
          "Predicted": 0.30902254450289746
         },
         {
          "Actual": -0.17100294326931262,
          "Predicted": 0.3125187139173223
         },
         {
          "Actual": 0.5598844920786863,
          "Predicted": 0.30902254450289746
         },
         {
          "Actual": 0.5947413404972137,
          "Predicted": 0.30902254450289746
         },
         {
          "Actual": 0.534900500480871,
          "Predicted": 0.3084154621172391
         },
         {
          "Actual": 0.2493882022308275,
          "Predicted": 0.3084154621172391
         },
         {
          "Actual": 0.5641789827927054,
          "Predicted": 0.32365570753151207
         },
         {
          "Actual": 0.46847328160679835,
          "Predicted": 0.323655707531512
         },
         {
          "Actual": 0.5121137293374217,
          "Predicted": 0.3084154621172391
         },
         {
          "Actual": 0.5174525445264477,
          "Predicted": 0.32365570753151207
         },
         {
          "Actual": 0.43467134183587075,
          "Predicted": 0.323655707531512
         },
         {
          "Actual": 0.4484471347571393,
          "Predicted": 0.3084154621172391
         },
         {
          "Actual": 0.7064532051019111,
          "Predicted": 0.32365570753151207
         },
         {
          "Actual": 0.45600565376416496,
          "Predicted": 0.323655707531512
         },
         {
          "Actual": 0.263334181687004,
          "Predicted": 0.592483626157153
         },
         {
          "Actual": 0.299270682001135,
          "Predicted": 0.6520600129836053
         },
         {
          "Actual": 0.9888319218045128,
          "Predicted": 0.6353198536563575
         },
         {
          "Actual": 0.9109332274032101,
          "Predicted": 0.6656342606978224
         },
         {
          "Actual": 0.5680823048692418,
          "Predicted": 0.6520600129836053
         },
         {
          "Actual": 0.5284303430943116,
          "Predicted": 0.6353198536563575
         },
         {
          "Actual": 0.6077744802406323,
          "Predicted": 0.6656342606978224
         },
         {
          "Actual": 0.8159280414543507,
          "Predicted": 0.678821798304094
         },
         {
          "Actual": 0.760185583018832,
          "Predicted": 0.6518691679054252
         },
         {
          "Actual": 0.7007930800427652,
          "Predicted": 0.6699405100982402
         },
         {
          "Actual": 0.39084292552831384,
          "Predicted": 0.5886852630268922
         },
         {
          "Actual": 0.7930840729286799,
          "Predicted": 0.6116009632093137
         },
         {
          "Actual": 0.6450579913711084,
          "Predicted": 0.6173918750922863
         },
         {
          "Actual": 0.8387643279282543,
          "Predicted": 0.6180761313468256
         },
         {
          "Actual": 0.24947791534776992,
          "Predicted": 0.6116009632093137
         },
         {
          "Actual": 0.4328056372602025,
          "Predicted": 0.6173918750922863
         },
         {
          "Actual": 0.9797341616644886,
          "Predicted": 0.6180761313468256
         },
         {
          "Actual": 0.5775463682574162,
          "Predicted": 0.7032665848134636
         },
         {
          "Actual": 0.3158148030302402,
          "Predicted": 0.6580074651831511
         },
         {
          "Actual": 0.7110517858403584,
          "Predicted": 0.661451967799555
         },
         {
          "Actual": 0.47553492393720087,
          "Predicted": 0.5095719405841423
         },
         {
          "Actual": 0.6308048166788259,
          "Predicted": 0.4901096562561374
         },
         {
          "Actual": 0.41955399030147955,
          "Predicted": 0.666107366119438
         },
         {
          "Actual": -0.17115632261170563,
          "Predicted": 0.6874850060788109
         },
         {
          "Actual": 0.16042847836128768,
          "Predicted": 0.4901096562561374
         },
         {
          "Actual": 0.12436191124873633,
          "Predicted": 0.666107366119438
         },
         {
          "Actual": -0.20281137762617424,
          "Predicted": 0.6874850060788109
         },
         {
          "Actual": 0.38606752547281,
          "Predicted": 0.7026737523099534
         },
         {
          "Actual": 0.2951147553197665,
          "Predicted": 0.6662087105402222
         },
         {
          "Actual": 0.23214088142209935,
          "Predicted": 0.49732984679206
         },
         {
          "Actual": 0.9190397416043506,
          "Predicted": 0.6651400950404232
         },
         {
          "Actual": 0.9102381730366346,
          "Predicted": 0.8240922485150521
         },
         {
          "Actual": 0.6983929317796328,
          "Predicted": 0.861489629898515
         },
         {
          "Actual": 0.8513325624295611,
          "Predicted": 0.8519610025037281
         },
         {
          "Actual": 0.8908664739301992,
          "Predicted": 0.8240922485150521
         },
         {
          "Actual": 0.7399549349303555,
          "Predicted": 0.861489629898515
         },
         {
          "Actual": 0.39775613097071716,
          "Predicted": 0.8519610025037281
         },
         {
          "Actual": 0.8451833340065072,
          "Predicted": 0.899651833687469
         },
         {
          "Actual": 0.7109219698527004,
          "Predicted": 0.8330998903172366
         },
         {
          "Actual": 0.7761611389236878,
          "Predicted": 0.5390215487222239
         },
         {
          "Actual": 0.6630140023614235,
          "Predicted": 0.6584362877742652
         },
         {
          "Actual": 0.765725862886692,
          "Predicted": 0.6852899502887954
         },
         {
          "Actual": 0.6769658543140264,
          "Predicted": 0.8136712390719667
         },
         {
          "Actual": 0.9457364050755891,
          "Predicted": 0.8519610025037281
         },
         {
          "Actual": 0.9040209675598662,
          "Predicted": 0.6852899502887954
         },
         {
          "Actual": 0.7440271992973008,
          "Predicted": 0.8136712390719667
         },
         {
          "Actual": 0.688799606465886,
          "Predicted": 0.8519610025037281
         },
         {
          "Actual": 0.8377219684187135,
          "Predicted": 0.8594513760713006
         },
         {
          "Actual": 0.6900878536121261,
          "Predicted": 0.6430738510866486
         },
         {
          "Actual": 0.7757874449179856,
          "Predicted": 0.6481121704490584
         },
         {
          "Actual": 0.034546356504911925,
          "Predicted": 0.5109133121581867
         },
         {
          "Actual": 0.6621745971544855,
          "Predicted": 0.6230192070854179
         },
         {
          "Actual": 0.5652269974878659,
          "Predicted": 0.6230192070854179
         },
         {
          "Actual": 0.4655910630962811,
          "Predicted": 0.6230192070854179
         },
         {
          "Actual": 0.4783262087250392,
          "Predicted": 0.6230192070854179
         },
         {
          "Actual": 0.5631495086674958,
          "Predicted": 0.6230192070854179
         },
         {
          "Actual": 0.6698007225308251,
          "Predicted": 0.6230192070854179
         },
         {
          "Actual": 0.7634076003698288,
          "Predicted": 0.662145253211258
         },
         {
          "Actual": 0.5519452848659764,
          "Predicted": 0.6022541329402186
         },
         {
          "Actual": 0.6003559268173345,
          "Predicted": 0.6529377195315926
         },
         {
          "Actual": 0.5878879145935698,
          "Predicted": 0.6230192070854179
         },
         {
          "Actual": 0.9082785247288607,
          "Predicted": 0.6230192070854179
         },
         {
          "Actual": 0.9224166378270128,
          "Predicted": 0.6230192070854179
         },
         {
          "Actual": 0.9610618680519657,
          "Predicted": 0.6230192070854179
         },
         {
          "Actual": 0.650275499966825,
          "Predicted": 0.6230192070854179
         },
         {
          "Actual": 0.7458960138882164,
          "Predicted": 0.6230192070854179
         },
         {
          "Actual": 0.8893721540977113,
          "Predicted": 0.6311224407162366
         },
         {
          "Actual": 0.6395005458493693,
          "Predicted": 0.662145253211258
         },
         {
          "Actual": 0.7469025394717508,
          "Predicted": 0.6866766094996609
         },
         {
          "Actual": 0.9399544261733561,
          "Predicted": 0.5749398327799975
         },
         {
          "Actual": 0.8495653251460857,
          "Predicted": 0.5049615783036402
         },
         {
          "Actual": 0.9777011712119831,
          "Predicted": 0.4402365139325933
         },
         {
          "Actual": 0.9383900387229427,
          "Predicted": 0.5749398327799975
         },
         {
          "Actual": 0.9170260383567129,
          "Predicted": 0.5049615783036402
         },
         {
          "Actual": 1.0630575722086895,
          "Predicted": 0.4402365139325933
         },
         {
          "Actual": 0.9099534405498746,
          "Predicted": 0.34223175882978274
         },
         {
          "Actual": 0.6499320738873704,
          "Predicted": 0.3831522846526707
         },
         {
          "Actual": -0.5638670689971734,
          "Predicted": -0.3146032427072215
         },
         {
          "Actual": -1.698362746676404,
          "Predicted": -0.38180726726351305
         },
         {
          "Actual": -0.6190321366059677,
          "Predicted": -0.5123212429211758
         },
         {
          "Actual": -0.10624313765512897,
          "Predicted": -0.6939995986601747
         },
         {
          "Actual": -0.7602150984265615,
          "Predicted": -0.38180726726351305
         },
         {
          "Actual": -1.0160297078836356,
          "Predicted": -0.5123212429211758
         },
         {
          "Actual": -0.7156096880174226,
          "Predicted": -0.6939995986601747
         },
         {
          "Actual": -0.4496478805671703,
          "Predicted": -0.5329631220555708
         },
         {
          "Actual": 0.044148235151147124,
          "Predicted": -0.3483778598731901
         },
         {
          "Actual": -0.5044879609859679,
          "Predicted": -0.48152648711298945
         },
         {
          "Actual": 0.08188059291955277,
          "Predicted": -0.5288961536412041
         },
         {
          "Actual": -0.4438610927772787,
          "Predicted": -0.4812393293030959
         },
         {
          "Actual": -0.945401921036077,
          "Predicted": -0.440936011462819
         },
         {
          "Actual": -1.5112850750774405,
          "Predicted": -0.5288961536412041
         },
         {
          "Actual": -1.649751237096095,
          "Predicted": -0.4812393293030959
         },
         {
          "Actual": -0.7851259022026694,
          "Predicted": -0.440936011462819
         },
         {
          "Actual": -1.5678124742936799,
          "Predicted": -0.3618803033532356
         },
         {
          "Actual": -0.25531746223194574,
          "Predicted": -0.33701472683090905
         },
         {
          "Actual": -0.11926518266713175,
          "Predicted": -0.48807722315408175
         },
         {
          "Actual": -0.6628597998084998,
          "Predicted": -0.613909960353611
         },
         {
          "Actual": -0.42920987349552436,
          "Predicted": -0.6587651687650267
         },
         {
          "Actual": -0.20450838542984523,
          "Predicted": -0.6028504573139175
         },
         {
          "Actual": -0.4370312816994475,
          "Predicted": -0.613909960353611
         },
         {
          "Actual": -0.5779905925110754,
          "Predicted": -0.6587651687650267
         },
         {
          "Actual": -0.3557913241960511,
          "Predicted": -0.6028504573139175
         },
         {
          "Actual": -0.7258485731168411,
          "Predicted": -0.4750926850717304
         },
         {
          "Actual": -0.043126278571831066,
          "Predicted": -0.34161555950132005
         },
         {
          "Actual": 0.18417981462017582,
          "Predicted": 0.19968491030899296
         },
         {
          "Actual": 0.39221176432589455,
          "Predicted": 0.23341211085007063
         },
         {
          "Actual": -0.25140870862715126,
          "Predicted": 0.23846777442712233
         },
         {
          "Actual": 0.17118499845586777,
          "Predicted": 0.24946104391811308
         },
         {
          "Actual": 0.40262788935001403,
          "Predicted": 0.2784739823726795
         },
         {
          "Actual": 0.20442444497659928,
          "Predicted": 0.23341211085007063
         },
         {
          "Actual": -0.3862344437500407,
          "Predicted": 0.23846777442712233
         },
         {
          "Actual": 0.11343887792067255,
          "Predicted": 0.24946104391811308
         },
         {
          "Actual": 0.2968849084075344,
          "Predicted": 0.2784739823726795
         },
         {
          "Actual": 0.011823073833648516,
          "Predicted": 0.34535260465700723
         },
         {
          "Actual": 0.265881070976281,
          "Predicted": 0.32587984530530906
         },
         {
          "Actual": 0.06815404741886957,
          "Predicted": 0.2271468052370924
         },
         {
          "Actual": -0.0896692518549836,
          "Predicted": 0.23341211085007063
         },
         {
          "Actual": -0.13631493115668103,
          "Predicted": 0.24824716903816846
         },
         {
          "Actual": 0.388925545039354,
          "Predicted": 0.28990783461202213
         },
         {
          "Actual": -0.22177935029632745,
          "Predicted": 0.29061617554242053
         },
         {
          "Actual": 0.2835836580354361,
          "Predicted": 0.23341211085007063
         },
         {
          "Actual": 0.19202048487004042,
          "Predicted": 0.24824716903816846
         },
         {
          "Actual": 0.1641969483666899,
          "Predicted": 0.28990783461202213
         },
         {
          "Actual": 0.46604592019403535,
          "Predicted": 0.29061617554242053
         },
         {
          "Actual": 0.003554477158057541,
          "Predicted": 0.34535260465700723
         },
         {
          "Actual": -0.19676596488919001,
          "Predicted": 0.29102162572468954
         },
         {
          "Actual": -0.48355101218077495,
          "Predicted": -0.0025135194939512116
         },
         {
          "Actual": -0.12523869614422517,
          "Predicted": 0.0077921201529193105
         },
         {
          "Actual": 0.28538690934984073,
          "Predicted": -0.029161923596803474
         },
         {
          "Actual": 0.02530851479989897,
          "Predicted": -0.008537894049071447
         },
         {
          "Actual": -0.3262419567671274,
          "Predicted": -0.05155952120112336
         },
         {
          "Actual": 0.147899414609426,
          "Predicted": 0.0077921201529193105
         },
         {
          "Actual": -0.5342524947353063,
          "Predicted": -0.029161923596803474
         },
         {
          "Actual": -1.5648283399013296,
          "Predicted": -0.008537894049071447
         },
         {
          "Actual": 0.11721539729111745,
          "Predicted": -0.05155952120112336
         },
         {
          "Actual": -0.47867290260874645,
          "Predicted": -0.020234695551006116
         },
         {
          "Actual": -0.5572346158959922,
          "Predicted": 0.01869316927361178
         },
         {
          "Actual": 0.7117318783604747,
          "Predicted": -0.24346911801395535
         },
         {
          "Actual": 0.10795248613657901,
          "Predicted": -0.2434691180139554
         },
         {
          "Actual": 0.11359438607728078,
          "Predicted": -0.09079762541192705
         },
         {
          "Actual": 0.05899910193260146,
          "Predicted": -0.06489437870434923
         },
         {
          "Actual": 0.5568015715655452,
          "Predicted": -0.20506288243486567
         },
         {
          "Actual": 0.4693030956171775,
          "Predicted": -0.2434691180139554
         },
         {
          "Actual": 0.47274396183240663,
          "Predicted": -0.09079762541192705
         },
         {
          "Actual": -0.2834576750019726,
          "Predicted": -0.06489437870434923
         },
         {
          "Actual": 0.17522981142786825,
          "Predicted": -0.20506288243486567
         },
         {
          "Actual": 0.3343901213389998,
          "Predicted": -0.2050628824348657
         },
         {
          "Actual": 0.3170792817607627,
          "Predicted": -0.09140459340635716
         },
         {
          "Actual": 0.2193942925549829,
          "Predicted": 0.5071367409050315
         },
         {
          "Actual": 0.5279617310806377,
          "Predicted": 0.5583775188778486
         },
         {
          "Actual": 0.35164648397640713,
          "Predicted": 0.5583775188778485
         },
         {
          "Actual": 0.3768394145939724,
          "Predicted": 0.5627743952801527
         },
         {
          "Actual": 0.9629915767863358,
          "Predicted": 0.59801513297373
         },
         {
          "Actual": 0.9076119006187983,
          "Predicted": 0.5583775188778486
         },
         {
          "Actual": 0.808762319024495,
          "Predicted": 0.5583775188778485
         },
         {
          "Actual": -0.019951689566835913,
          "Predicted": 0.5627743952801527
         },
         {
          "Actual": 0.1611244760279766,
          "Predicted": 0.59801513297373
         },
         {
          "Actual": 0.4387338085946155,
          "Predicted": 0.59801513297373
         },
         {
          "Actual": 1.053988261131618,
          "Predicted": 0.502960910272118
         },
         {
          "Actual": 0.7600210941413035,
          "Predicted": 0.6606631223432089
         },
         {
          "Actual": 0.758074333112019,
          "Predicted": 0.6124143005934464
         },
         {
          "Actual": 0.28221332014369144,
          "Predicted": 0.5583775188778486
         },
         {
          "Actual": 0.8987063655222196,
          "Predicted": 0.5627743952801527
         },
         {
          "Actual": 0.029913544460806088,
          "Predicted": 0.6748694122024292
         },
         {
          "Actual": 0.7091711969505824,
          "Predicted": 0.6124143005934464
         },
         {
          "Actual": 0.44790076526483164,
          "Predicted": 0.5583775188778486
         },
         {
          "Actual": 0.6026510514699326,
          "Predicted": 0.5627743952801527
         },
         {
          "Actual": 0.32553101378404536,
          "Predicted": 0.6748694122024292
         },
         {
          "Actual": 0.6242222297454496,
          "Predicted": 0.6165754829428838
         },
         {
          "Actual": 0.8363173908917678,
          "Predicted": 0.5215212602412719
         },
         {
          "Actual": 0.9083539038807208,
          "Predicted": 0.7301940443869819
         },
         {
          "Actual": 0.9619163964991021,
          "Predicted": 0.7301940443869819
         },
         {
          "Actual": 0.7955097464810179,
          "Predicted": 0.7301940443869819
         },
         {
          "Actual": 1.0571356311521847,
          "Predicted": 0.7301940443869819
         },
         {
          "Actual": 0.30052923374613794,
          "Predicted": 0.7301940443869819
         },
         {
          "Actual": 0.5935247674210723,
          "Predicted": 0.7301940443869819
         },
         {
          "Actual": 0.795487966065706,
          "Predicted": 0.7301940443869819
         },
         {
          "Actual": 0.7426796143979624,
          "Predicted": 0.7301940443869818
         },
         {
          "Actual": 0.8736720718248404,
          "Predicted": 0.5823937804564094
         },
         {
          "Actual": 1.1321120289266755,
          "Predicted": 0.7301940443869819
         },
         {
          "Actual": 0.8095223084814971,
          "Predicted": 0.7301940443869818
         },
         {
          "Actual": 0.304555773615677,
          "Predicted": 0.7301940443869818
         },
         {
          "Actual": 0.6678019536560662,
          "Predicted": 0.7301940443869818
         },
         {
          "Actual": 1.1294400335127917,
          "Predicted": 0.7301940443869818
         },
         {
          "Actual": 0.7040135075366887,
          "Predicted": 0.7301940443869818
         },
         {
          "Actual": 1.0219972948227258,
          "Predicted": 0.7301940443869818
         },
         {
          "Actual": 0.6651660086967283,
          "Predicted": 0.6646637141314894
         },
         {
          "Actual": 0.8246570798758017,
          "Predicted": 0.5823937804564094
         },
         {
          "Actual": -1.6660845060563432,
          "Predicted": -1.1856171903175587
         },
         {
          "Actual": -1.7340565462510866,
          "Predicted": -1.1848475632590891
         },
         {
          "Actual": -1.7285653216681494,
          "Predicted": -1.1848475632590891
         },
         {
          "Actual": -1.7214432833576085,
          "Predicted": -1.1848475632590891
         },
         {
          "Actual": -1.721638226895043,
          "Predicted": -1.1848475632590891
         },
         {
          "Actual": -0.2262352842527397,
          "Predicted": -1.1848475632590891
         },
         {
          "Actual": -1.7092894453892726,
          "Predicted": -1.1848475632590891
         },
         {
          "Actual": -1.7245202353212328,
          "Predicted": -1.1827633024647726
         },
         {
          "Actual": -1.7168965127637668,
          "Predicted": -1.182847643903199
         },
         {
          "Actual": -1.7210366174210057,
          "Predicted": -1.1822537425449653
         },
         {
          "Actual": -0.45051554328711785,
          "Predicted": -1.1850118831815297
         },
         {
          "Actual": -0.06304406333798024,
          "Predicted": -1.1850118831815297
         },
         {
          "Actual": -0.31893442616274464,
          "Predicted": -1.1850118831815297
         },
         {
          "Actual": -1.7192347473018477,
          "Predicted": -1.1850118831815297
         },
         {
          "Actual": -0.30571503828009666,
          "Predicted": -1.1850118831815297
         },
         {
          "Actual": 0.07089367420661898,
          "Predicted": -1.1850118831815297
         },
         {
          "Actual": -0.6101326973991092,
          "Predicted": -1.182196567915032
         },
         {
          "Actual": -1.673951949821334,
          "Predicted": -1.182681281320537
         },
         {
          "Actual": -1.731519426874692,
          "Predicted": -1.1831653902343657
         },
         {
          "Actual": -1.7281977344886512,
          "Predicted": -1.186430959880561
         },
         {
          "Actual": -1.7270467115281396,
          "Predicted": -1.186430959880561
         },
         {
          "Actual": -1.719754668147626,
          "Predicted": -1.186430959880561
         },
         {
          "Actual": -1.6706228404147956,
          "Predicted": -1.186430959880561
         },
         {
          "Actual": -1.7148373394721952,
          "Predicted": -1.186430959880561
         },
         {
          "Actual": -1.7174571464955164,
          "Predicted": -1.186430959880561
         },
         {
          "Actual": -1.7321019760708174,
          "Predicted": -1.2621246627562837
         },
         {
          "Actual": -1.7226391047511096,
          "Predicted": -1.261906762511166
         },
         {
          "Actual": 1.1556254269670208,
          "Predicted": 0.8845628112090544
         },
         {
          "Actual": 1.0895223262927631,
          "Predicted": 1.0452391143742525
         },
         {
          "Actual": 1.4042768208838088,
          "Predicted": 1.0452391143742525
         },
         {
          "Actual": 1.3259101976675582,
          "Predicted": 1.245923019256051
         },
         {
          "Actual": 1.1018278459392488,
          "Predicted": 1.245923019256051
         },
         {
          "Actual": 1.1056058004566556,
          "Predicted": 1.245923019256051
         },
         {
          "Actual": 1.1483749725982935,
          "Predicted": 1.0732218703715126
         },
         {
          "Actual": 1.2091595631244823,
          "Predicted": 1.184980557895927
         },
         {
          "Actual": 1.111102628295827,
          "Predicted": 1.184980557895927
         },
         {
          "Actual": 1.0842943738039656,
          "Predicted": 1.2392177317037107
         },
         {
          "Actual": 1.167710796725491,
          "Predicted": 1.2392177317037107
         },
         {
          "Actual": 1.034284888435348,
          "Predicted": 1.2392177317037107
         },
         {
          "Actual": 1.0988210680146793,
          "Predicted": 1.0495496271273108
         },
         {
          "Actual": 1.2846076222284073,
          "Predicted": 1.216350843787395
         },
         {
          "Actual": 1.1244102823436262,
          "Predicted": 1.216350843787395
         },
         {
          "Actual": 1.321770296381288,
          "Predicted": 1.253431250941752
         },
         {
          "Actual": 1.1271633618543404,
          "Predicted": 1.253431250941752
         },
         {
          "Actual": 1.1831846227116307,
          "Predicted": 1.253431250941752
         },
         {
          "Actual": 0.9142322519196525,
          "Predicted": 1.0522406437611873
         },
         {
          "Actual": 0.6695495525513423,
          "Predicted": 1.1978514939188434
         },
         {
          "Actual": 1.3387110979366061,
          "Predicted": 1.1978514939188434
         },
         {
          "Actual": 1.0696953242197964,
          "Predicted": 1.238831569115055
         },
         {
          "Actual": 1.148544234459377,
          "Predicted": 1.238831569115055
         },
         {
          "Actual": 1.069585021919138,
          "Predicted": 1.238831569115055
         },
         {
          "Actual": -1.560534871856663,
          "Predicted": -0.32614512172491095
         },
         {
          "Actual": 0.14474936848101513,
          "Predicted": -0.326145121724911
         },
         {
          "Actual": -1.5972126970614606,
          "Predicted": -0.4098456154880963
         },
         {
          "Actual": -0.26794313818687887,
          "Predicted": -0.4098456154880963
         },
         {
          "Actual": -0.39353742595871444,
          "Predicted": -0.326145121724911
         },
         {
          "Actual": 0.39806974930868333,
          "Predicted": -0.4098456154880963
         },
         {
          "Actual": -0.8912975569928091,
          "Predicted": -0.4098456154880963
         },
         {
          "Actual": -0.02760492122935814,
          "Predicted": -0.32614512172491095
         },
         {
          "Actual": -0.35850912847067523,
          "Predicted": -0.32614512172491106
         },
         {
          "Actual": -0.3308627154331894,
          "Predicted": -0.3291650917708697
         },
         {
          "Actual": -0.00880975545613032,
          "Predicted": -0.3291650917708697
         },
         {
          "Actual": 0.5049919168014689,
          "Predicted": -0.32614512172491106
         },
         {
          "Actual": -0.08567302005225551,
          "Predicted": -0.3291650917708697
         },
         {
          "Actual": 0.3150419474449948,
          "Predicted": -0.3291650917708697
         },
         {
          "Actual": 0.060237742234508146,
          "Predicted": -0.3471154304257364
         },
         {
          "Actual": 0.13219147486506916,
          "Predicted": -0.34711543042573634
         },
         {
          "Actual": -1.5765737043019663,
          "Predicted": -0.3245417936938241
         },
         {
          "Actual": 0.05307579006910621,
          "Predicted": -0.3245417936938241
         },
         {
          "Actual": -0.43042540546567876,
          "Predicted": -0.34711543042573634
         },
         {
          "Actual": -0.22305517144326964,
          "Predicted": -0.3245417936938241
         },
         {
          "Actual": -1.6107523505644756,
          "Predicted": -0.3245417936938241
         },
         {
          "Actual": 0.7654997448229851,
          "Predicted": 0.5192734101523849
         },
         {
          "Actual": 0.7835938454977484,
          "Predicted": 0.5192734101523849
         },
         {
          "Actual": 0.7853637161222901,
          "Predicted": 0.5192734101523849
         },
         {
          "Actual": -0.013915363012449179,
          "Predicted": 0.5192734101523849
         },
         {
          "Actual": 1.015272088837246,
          "Predicted": 0.5192734101523849
         },
         {
          "Actual": 0.619493923808389,
          "Predicted": 0.5192734101523849
         },
         {
          "Actual": 0.8323982258839577,
          "Predicted": 0.5192734101523849
         },
         {
          "Actual": 0.24420627908537626,
          "Predicted": 0.5192734101523849
         },
         {
          "Actual": -0.16168875145122302,
          "Predicted": 0.5192734101523849
         },
         {
          "Actual": 0.6799232969855223,
          "Predicted": 0.5192734101523849
         },
         {
          "Actual": 0.25738547399924067,
          "Predicted": 0.5192734101523849
         },
         {
          "Actual": 0.35903320285053786,
          "Predicted": 0.5192734101523849
         },
         {
          "Actual": 0.6822128639977533,
          "Predicted": 0.5715410543618744
         },
         {
          "Actual": 0.5365574167997399,
          "Predicted": 0.5715410543618744
         },
         {
          "Actual": 0.5749865663732626,
          "Predicted": 0.5478450332713836
         },
         {
          "Actual": 0.07412077467258675,
          "Predicted": 0.5478450332713836
         },
         {
          "Actual": 0.512633671670893,
          "Predicted": 0.5478450332713836
         },
         {
          "Actual": 0.573856974726884,
          "Predicted": 0.5478450332713836
         },
         {
          "Actual": 0.7452608412245737,
          "Predicted": 0.5478450332713836
         },
         {
          "Actual": 0.38363946236130947,
          "Predicted": 0.5478450332713836
         },
         {
          "Actual": 0.2956221225043499,
          "Predicted": 0.5478450332713836
         },
         {
          "Actual": 0.916570629758047,
          "Predicted": 0.5478450332713836
         },
         {
          "Actual": 0.0781897450576861,
          "Predicted": 0.5478450332713836
         },
         {
          "Actual": 0.7073193432598206,
          "Predicted": 0.5478450332713836
         },
         {
          "Actual": 0.7134557010824847,
          "Predicted": 0.5478450332713836
         },
         {
          "Actual": 0.4312521264463661,
          "Predicted": 0.5323949678991738
         },
         {
          "Actual": 0.6512491441311478,
          "Predicted": 0.5323949678991738
         },
         {
          "Actual": 0.7088755368378667,
          "Predicted": 0.4697863316328038
         },
         {
          "Actual": 0.7632010984574638,
          "Predicted": 0.4697863316328038
         },
         {
          "Actual": -0.4356501101194084,
          "Predicted": 0.4697863316328038
         },
         {
          "Actual": 0.7019672255815336,
          "Predicted": 0.4697863316328038
         },
         {
          "Actual": 0.5154601838897831,
          "Predicted": 0.4697863316328038
         },
         {
          "Actual": 0.6481444722520847,
          "Predicted": 0.4697863316328038
         },
         {
          "Actual": 0.575823842785175,
          "Predicted": 0.4697863316328038
         },
         {
          "Actual": 0.8935282170707918,
          "Predicted": 0.4697863316328038
         },
         {
          "Actual": 0.3241251703080206,
          "Predicted": 0.4697863316328038
         },
         {
          "Actual": 0.6182712178288906,
          "Predicted": 0.4697863316328038
         },
         {
          "Actual": 0.33211294838492117,
          "Predicted": 0.4697863316328038
         },
         {
          "Actual": 0.7056339403541256,
          "Predicted": 0.4990093846839205
         },
         {
          "Actual": 0.7538751332977005,
          "Predicted": 0.4990093846839205
         },
         {
          "Actual": 0.7486550063293176,
          "Predicted": 0.3717633011239542
         },
         {
          "Actual": 0.35252257224949907,
          "Predicted": 0.3717633011239542
         },
         {
          "Actual": 0.7829135648864417,
          "Predicted": 0.3717633011239542
         },
         {
          "Actual": 0.3797319986652298,
          "Predicted": 0.3717633011239542
         },
         {
          "Actual": -0.06856383558223128,
          "Predicted": 0.3717633011239542
         },
         {
          "Actual": -0.37468788245393286,
          "Predicted": 0.3717633011239542
         },
         {
          "Actual": 0.009732736028207269,
          "Predicted": 0.3717633011239542
         },
         {
          "Actual": -0.05421871258165858,
          "Predicted": 0.3717633011239542
         },
         {
          "Actual": 0.37239287419599165,
          "Predicted": 0.3717633011239542
         },
         {
          "Actual": 0.35081879858182835,
          "Predicted": 0.3717633011239542
         },
         {
          "Actual": 0.37063195415983796,
          "Predicted": 0.3717633011239542
         },
         {
          "Actual": 0.2965742752078802,
          "Predicted": 0.3717633011239542
         },
         {
          "Actual": 0.6183499052650914,
          "Predicted": 0.37429822233144244
         },
         {
          "Actual": 0.3108552265815072,
          "Predicted": 0.37429822233144244
         },
         {
          "Actual": 1.1872728654128413,
          "Predicted": 1.0058958868160386
         },
         {
          "Actual": 0.72176930485911,
          "Predicted": 1.1733079698699858
         },
         {
          "Actual": 1.1217837312780508,
          "Predicted": 0.9771571789966128
         },
         {
          "Actual": 1.3875388585583779,
          "Predicted": 1.0058958868160386
         },
         {
          "Actual": 1.1899064783140814,
          "Predicted": 1.1733079698699858
         },
         {
          "Actual": 1.283164370820382,
          "Predicted": 0.9771571789966128
         },
         {
          "Actual": 1.0310814247387332,
          "Predicted": 1.0058958868160386
         },
         {
          "Actual": 1.1436066340455497,
          "Predicted": 1.1733079698699858
         },
         {
          "Actual": 1.2495649903557422,
          "Predicted": 0.9771571789966128
         },
         {
          "Actual": 1.2237368946966471,
          "Predicted": 1.0058958868160386
         },
         {
          "Actual": 1.1776699566990814,
          "Predicted": 1.1733079698699858
         },
         {
          "Actual": 1.3003009833916357,
          "Predicted": 1.0058958868160386
         },
         {
          "Actual": 1.246950015495859,
          "Predicted": 1.1733079698699858
         },
         {
          "Actual": 1.4796049032629868,
          "Predicted": 0.9771571789966128
         },
         {
          "Actual": 1.543945065460209,
          "Predicted": 1.0058958868160386
         },
         {
          "Actual": 1.3101568932483914,
          "Predicted": 1.1733079698699858
         },
         {
          "Actual": 1.438989420067489,
          "Predicted": 0.9771571789966128
         },
         {
          "Actual": 0.43598341020331316,
          "Predicted": 0.9835431178860591
         },
         {
          "Actual": 0.7033184260162202,
          "Predicted": 0.7277169659506494
         },
         {
          "Actual": 0.3731369425165223,
          "Predicted": 0.8713793769332973
         },
         {
          "Actual": 0.5265986000022995,
          "Predicted": 0.9835431178860591
         },
         {
          "Actual": 0.9375395387612273,
          "Predicted": 0.7277169659506494
         },
         {
          "Actual": 0.6970811216084466,
          "Predicted": 0.8713793769332973
         },
         {
          "Actual": 0.15076525943565103,
          "Predicted": 0.8713793769332973
         },
         {
          "Actual": 0.28774311535440356,
          "Predicted": 0.9835431178860591
         },
         {
          "Actual": 0.6351196529686999,
          "Predicted": 0.7277169659506494
         },
         {
          "Actual": 0.7232146550926449,
          "Predicted": 0.8713793769332973
         },
         {
          "Actual": -0.1867643711293599,
          "Predicted": -0.5902538869295101
         },
         {
          "Actual": 0.6291291303022052,
          "Predicted": 0.03662391618043915
         },
         {
          "Actual": 0.6987471806482456,
          "Predicted": 0.2937566070850191
         },
         {
          "Actual": 0.5229264313075531,
          "Predicted": 0.1549360536099449
         },
         {
          "Actual": 0.310901803771713,
          "Predicted": 0.03662391618043915
         },
         {
          "Actual": -1.2917947538326404,
          "Predicted": 0.2937566070850191
         },
         {
          "Actual": -0.03863716443510493,
          "Predicted": 0.1549360536099449
         },
         {
          "Actual": 0.4016589302024374,
          "Predicted": 0.1549360536099449
         },
         {
          "Actual": -1.4093802077432256,
          "Predicted": -0.4908294366257982
         },
         {
          "Actual": -0.14356558707728898,
          "Predicted": 0.08076657658416364
         },
         {
          "Actual": 0.027126783618044933,
          "Predicted": 0.2937566070850191
         },
         {
          "Actual": 0.10030430617223644,
          "Predicted": 0.047805617413787985
         },
         {
          "Actual": 0.3630222777917989,
          "Predicted": 0.08076657658416364
         },
         {
          "Actual": 0.300301690503659,
          "Predicted": 0.2937566070850191
         },
         {
          "Actual": 0.18006113158691137,
          "Predicted": 0.047805617413787985
         },
         {
          "Actual": 0.634172914888567,
          "Predicted": 0.047805617413787985
         },
         {
          "Actual": -1.5647178035687825,
          "Predicted": -0.58255876316719
         },
         {
          "Actual": 0.8043785564017268,
          "Predicted": -0.1790640544102283
         },
         {
          "Actual": 0.8876233646754819,
          "Predicted": 0.03005847288583896
         },
         {
          "Actual": 0.3579831580196475,
          "Predicted": -0.1790640544102283
         },
         {
          "Actual": 0.6441796408545657,
          "Predicted": 0.03005847288583896
         },
         {
          "Actual": 0.19285573921560364,
          "Predicted": 0.03005847288583896
         },
         {
          "Actual": -1.6964385464800273,
          "Predicted": -1.5439518128941496
         },
         {
          "Actual": -1.6908289872601168,
          "Predicted": -1.491558420471693
         },
         {
          "Actual": -1.6483152899617526,
          "Predicted": -1.491558420471693
         },
         {
          "Actual": -1.6868515507423847,
          "Predicted": -1.491558420471693
         },
         {
          "Actual": -1.596060606784605,
          "Predicted": -1.4160820734556139
         },
         {
          "Actual": -0.43272680779821143,
          "Predicted": -1.4160820734556139
         },
         {
          "Actual": -1.6212632221268084,
          "Predicted": -1.4160820734556139
         },
         {
          "Actual": -1.6414110781791744,
          "Predicted": -1.250204477146162
         },
         {
          "Actual": -1.661085391557597,
          "Predicted": -1.5497327696678251
         },
         {
          "Actual": -1.6687905100367908,
          "Predicted": -1.4943593193093774
         },
         {
          "Actual": -1.6927890917711985,
          "Predicted": -1.4943593193093774
         },
         {
          "Actual": -1.6316247124013512,
          "Predicted": -1.4943593193093774
         },
         {
          "Actual": -1.6770209208607245,
          "Predicted": -1.470508485918715
         },
         {
          "Actual": -1.6847200380360061,
          "Predicted": -1.470508485918715
         },
         {
          "Actual": -1.685929107235473,
          "Predicted": -1.470508485918715
         },
         {
          "Actual": -1.342048853566179,
          "Predicted": -1.4410485020137163
         },
         {
          "Actual": -1.7266719433645563,
          "Predicted": -1.4831150188619857
         },
         {
          "Actual": -1.6863388587748949,
          "Predicted": -1.4904662227471257
         },
         {
          "Actual": -1.664122931513684,
          "Predicted": -1.4904662227471257
         },
         {
          "Actual": -0.6717818459571536,
          "Predicted": -1.4904662227471257
         },
         {
          "Actual": -0.5694667042148286,
          "Predicted": -1.4160820734556137
         },
         {
          "Actual": -1.6155263279648637,
          "Predicted": -1.4160820734556137
         },
         {
          "Actual": -1.6734548654485573,
          "Predicted": -1.4160820734556137
         },
         {
          "Actual": -1.6322466374632478,
          "Predicted": -1.1534267951610477
         },
         {
          "Actual": -1.6215622610253422,
          "Predicted": -0.8454302699299077
         },
         {
          "Actual": -0.7801199574462876,
          "Predicted": -0.5950133227577669
         },
         {
          "Actual": -0.8034107890354379,
          "Predicted": -0.5950133227577669
         },
         {
          "Actual": -0.06885634537196156,
          "Predicted": -0.5950133227577669
         },
         {
          "Actual": -0.29192194489843265,
          "Predicted": -0.47102613459077436
         },
         {
          "Actual": -0.29132862941368465,
          "Predicted": -0.47102613459077436
         },
         {
          "Actual": -0.3079470167672561,
          "Predicted": -0.47102613459077436
         },
         {
          "Actual": -0.027804690926852352,
          "Predicted": -0.8546005193631913
         },
         {
          "Actual": -1.5760909285356368,
          "Predicted": -0.800561590438917
         },
         {
          "Actual": -0.16102739683954728,
          "Predicted": -0.6235253714507695
         },
         {
          "Actual": 0.3599684449333187,
          "Predicted": -0.6235253714507695
         },
         {
          "Actual": -0.8205858131071957,
          "Predicted": -0.6235253714507695
         },
         {
          "Actual": -1.5429765512080689,
          "Predicted": -0.26721350771105806
         },
         {
          "Actual": 0.40010280957766714,
          "Predicted": -0.26721350771105806
         },
         {
          "Actual": 0.013899891707552006,
          "Predicted": -0.26721350771105806
         },
         {
          "Actual": 0.578426953339208,
          "Predicted": -0.7771681788718506
         },
         {
          "Actual": 0.0058472849278247115,
          "Predicted": 0.3742322649616649
         },
         {
          "Actual": 0.11996373097801769,
          "Predicted": 0.24964643282696175
         },
         {
          "Actual": 0.14080422706032034,
          "Predicted": 0.24964643282696172
         },
         {
          "Actual": 0.20094596410415966,
          "Predicted": 0.23961586755697215
         },
         {
          "Actual": 0.2507346133655588,
          "Predicted": 0.26734017997297516
         },
         {
          "Actual": 0.5308430680411792,
          "Predicted": 0.38174525187075736
         },
         {
          "Actual": 0.47269594833936346,
          "Predicted": 0.4484172531761902
         },
         {
          "Actual": 0.15764807668980493,
          "Predicted": 0.39486071412963397
         },
         {
          "Actual": 0.46991213137458643,
          "Predicted": 0.3044331512857374
         },
         {
          "Actual": 0.40606795862162637,
          "Predicted": 0.27539555925466935
         },
         {
          "Actual": -0.0843051842196073,
          "Predicted": 0.36764155137679577
         },
         {
          "Actual": 0.48045322439919796,
          "Predicted": 0.5078409223857088
         },
         {
          "Actual": 0.13529507692179712,
          "Predicted": 0.41271238728544224
         },
         {
          "Actual": 0.3696828531929137,
          "Predicted": 0.2826536774998186
         },
         {
          "Actual": -0.1347611396455915,
          "Predicted": 0.2836027465147736
         },
         {
          "Actual": 0.5249296910286799,
          "Predicted": 0.2624110767776368
         },
         {
          "Actual": 0.5854756314968059,
          "Predicted": 0.2461074743950809
         },
         {
          "Actual": -0.002054136450089125,
          "Predicted": 0.4090037008438192
         },
         {
          "Actual": 0.3375991272644068,
          "Predicted": 0.33290387899774504
         },
         {
          "Actual": 0.38177054445648556,
          "Predicted": 0.33290387899774504
         },
         {
          "Actual": 0.04734424920656811,
          "Predicted": 0.2856575788628506
         },
         {
          "Actual": 0.35563143854855195,
          "Predicted": 0.2692305365406803
         },
         {
          "Actual": 0.41778525960667634,
          "Predicted": 0.12216306189065061
         },
         {
          "Actual": 0.4328559442211642,
          "Predicted": 0.044682677072268126
         },
         {
          "Actual": 0.37310023196124203,
          "Predicted": 0.7282499132676419
         },
         {
          "Actual": 0.8724408378560775,
          "Predicted": 0.7965572144581632
         },
         {
          "Actual": 0.1651165447710619,
          "Predicted": 0.9308766630213942
         },
         {
          "Actual": 0.8670872606996256,
          "Predicted": 0.7744825048470204
         },
         {
          "Actual": 0.5771114036022817,
          "Predicted": 0.9308766630213942
         },
         {
          "Actual": 1.0000400809628465,
          "Predicted": 0.7744825048470204
         },
         {
          "Actual": 0.35154416898215884,
          "Predicted": 0.8353081266246205
         },
         {
          "Actual": 0.4859646492064105,
          "Predicted": 0.7664551412251326
         },
         {
          "Actual": 0.2535978037406838,
          "Predicted": 0.7132070737171713
         },
         {
          "Actual": 0.4756691218413187,
          "Predicted": 0.7965572144581633
         },
         {
          "Actual": 0.5013133742491492,
          "Predicted": 0.8788572443402065
         },
         {
          "Actual": 0.4018936836844792,
          "Predicted": 0.859129321395454
         },
         {
          "Actual": 0.3529522802482814,
          "Predicted": 0.8788572443402065
         },
         {
          "Actual": 0.4768647030354302,
          "Predicted": 0.859129321395454
         },
         {
          "Actual": 0.6559282728447541,
          "Predicted": 0.8353081266246205
         },
         {
          "Actual": 0.6680379893288164,
          "Predicted": 0.7139142439507327
         },
         {
          "Actual": 0.5328885048628099,
          "Predicted": 0.7282499132676419
         },
         {
          "Actual": 0.5601574556998316,
          "Predicted": 0.7892191804050066
         },
         {
          "Actual": 0.8295044417096777,
          "Predicted": 0.8342571000723832
         },
         {
          "Actual": 0.584096702251386,
          "Predicted": 0.8508214946956063
         },
         {
          "Actual": 0.42630419511488293,
          "Predicted": 0.8342571000723832
         },
         {
          "Actual": 0.7449753524679457,
          "Predicted": 0.8508214946956063
         },
         {
          "Actual": 0.22775386234373818,
          "Predicted": 0.8543116567217088
         },
         {
          "Actual": 0.689438227188634,
          "Predicted": 0.7664551412251326
         },
         {
          "Actual": 1.326574105927249,
          "Predicted": 0.7693628812590775
         },
         {
          "Actual": 1.508646405231333,
          "Predicted": 0.9003625899517304
         },
         {
          "Actual": 1.2181281900532042,
          "Predicted": 0.9528778012367249
         },
         {
          "Actual": 1.6117392295700086,
          "Predicted": 0.8715713105132252
         },
         {
          "Actual": 1.1323892727403784,
          "Predicted": 0.9528778012367249
         },
         {
          "Actual": 1.1237234061831731,
          "Predicted": 0.8715713105132252
         },
         {
          "Actual": 1.376148247252938,
          "Predicted": 0.8880489984872445
         },
         {
          "Actual": 1.1294230836494994,
          "Predicted": 0.7927459666907798
         },
         {
          "Actual": 0.9509206806922235,
          "Predicted": 0.7823750334598583
         },
         {
          "Actual": 1.4225870178303572,
          "Predicted": 0.9836590995115678
         },
         {
          "Actual": 1.6523307916257108,
          "Predicted": 0.9179723886434192
         },
         {
          "Actual": 1.193389965319668,
          "Predicted": 0.8495640311551373
         },
         {
          "Actual": 1.1614312637972608,
          "Predicted": 0.9179723886434192
         },
         {
          "Actual": 1.3612152264058672,
          "Predicted": 0.8495640311551373
         },
         {
          "Actual": 1.033894020422588,
          "Predicted": 0.8953169121787029
         },
         {
          "Actual": 1.091894933665391,
          "Predicted": 0.7954807934559681
         },
         {
          "Actual": 1.3415900071313451,
          "Predicted": 0.7771522980560762
         },
         {
          "Actual": 1.2645158801339378,
          "Predicted": 1.0044985692709936
         },
         {
          "Actual": 1.3584339448452067,
          "Predicted": 0.9076043471992424
         },
         {
          "Actual": 1.394961092267269,
          "Predicted": 0.8693380460816641
         },
         {
          "Actual": 1.356096137905908,
          "Predicted": 0.9076043471992424
         },
         {
          "Actual": 1.474242814785057,
          "Predicted": 0.8693380460816641
         },
         {
          "Actual": 1.1537538490582209,
          "Predicted": 0.9888665978023559
         },
         {
          "Actual": 1.2885476167351368,
          "Predicted": 0.6964514558232228
         },
         {
          "Actual": -1.1624505751046859,
          "Predicted": -0.3986748080862938
         },
         {
          "Actual": -1.351436231881091,
          "Predicted": -0.35171504044831453
         },
         {
          "Actual": -1.2305789845078834,
          "Predicted": -0.35171504044831453
         },
         {
          "Actual": -0.12538064760917933,
          "Predicted": -0.35171504044831453
         },
         {
          "Actual": -0.2078982316914571,
          "Predicted": -0.07769762955891231
         },
         {
          "Actual": -0.16052673699427553,
          "Predicted": -0.07769762955891231
         },
         {
          "Actual": 0.04155251611325614,
          "Predicted": -0.07769762955891231
         },
         {
          "Actual": 0.12213522853892211,
          "Predicted": 0.33387372021035217
         },
         {
          "Actual": -0.12896941131973394,
          "Predicted": -0.6537244311931912
         },
         {
          "Actual": -0.04791797070569832,
          "Predicted": -0.381320818397302
         },
         {
          "Actual": 0.7552882612931364,
          "Predicted": -0.381320818397302
         },
         {
          "Actual": -0.23088067081775254,
          "Predicted": -0.381320818397302
         },
         {
          "Actual": 0.027588767432548535,
          "Predicted": -0.19422815449200498
         },
         {
          "Actual": 0.00486446001766405,
          "Predicted": -0.19422815449200498
         },
         {
          "Actual": -1.435743341530734,
          "Predicted": -0.19422815449200498
         },
         {
          "Actual": 0.6173497264246783,
          "Predicted": 0.09884030717240455
         },
         {
          "Actual": 0.0607219173672509,
          "Predicted": -0.3438943614876791
         },
         {
          "Actual": 0.17354618241260958,
          "Predicted": -0.1450127216726884
         },
         {
          "Actual": -1.3228690798659417,
          "Predicted": -0.1450127216726884
         },
         {
          "Actual": -0.010427992925981767,
          "Predicted": -0.1450127216726884
         },
         {
          "Actual": 0.5650028980758878,
          "Predicted": 0.10762553891785913
         },
         {
          "Actual": 0.7329714942783153,
          "Predicted": 0.10762553891785913
         },
         {
          "Actual": 0.158453023172786,
          "Predicted": 0.10762553891785913
         },
         {
          "Actual": 0.6037014834794134,
          "Predicted": 0.2709182522736491
         },
         {
          "Actual": -1.604892748309979,
          "Predicted": 0.03592246491848433
         },
         {
          "Actual": -0.08418840487238086,
          "Predicted": 0.06761161093377796
         },
         {
          "Actual": 0.2692167688981836,
          "Predicted": 0.06761161093377799
         },
         {
          "Actual": 0.2260085430279254,
          "Predicted": 0.06962575178757265
         },
         {
          "Actual": 0.04179383839858512,
          "Predicted": 0.06962575178757266
         },
         {
          "Actual": -0.6090195739018577,
          "Predicted": 0.09816094924113368
         },
         {
          "Actual": -0.5808104867316216,
          "Predicted": 0.05545002498929005
         },
         {
          "Actual": -0.41185829512699107,
          "Predicted": 0.06761161093377796
         },
         {
          "Actual": -0.7745645988456458,
          "Predicted": 0.06761161093377799
         },
         {
          "Actual": 0.024549017490617844,
          "Predicted": 0.06962575178757265
         },
         {
          "Actual": -0.07960963109942502,
          "Predicted": 0.06962575178757265
         },
         {
          "Actual": -0.40418182495369354,
          "Predicted": 0.06962575178757265
         },
         {
          "Actual": 1.0541119985198417,
          "Predicted": 0.634034122197602
         },
         {
          "Actual": 1.0161079576874634,
          "Predicted": 0.7664525270952623
         },
         {
          "Actual": 1.0529171074853347,
          "Predicted": 0.7917264055895921
         },
         {
          "Actual": 1.0681801728753926,
          "Predicted": 0.9495997382451786
         },
         {
          "Actual": 1.0598813316255087,
          "Predicted": 0.7917264055895921
         },
         {
          "Actual": 0.8993830310871528,
          "Predicted": 0.9495997382451786
         },
         {
          "Actual": 1.1963774522614419,
          "Predicted": 0.5221912695709885
         },
         {
          "Actual": 1.1004852495308146,
          "Predicted": 0.42131482282408805
         },
         {
          "Actual": 0.9586626410595506,
          "Predicted": 0.5968765000916347
         },
         {
          "Actual": 1.1961379616765317,
          "Predicted": 0.9643164776348215
         },
         {
          "Actual": 0.8984423202867888,
          "Predicted": 1.0343645051794388
         },
         {
          "Actual": 0.8413668202765328,
          "Predicted": 0.9639346313811498
         },
         {
          "Actual": 1.1326763789000756,
          "Predicted": 1.0343645051794388
         },
         {
          "Actual": 1.365702135208094,
          "Predicted": 0.9639346313811498
         },
         {
          "Actual": 0.831091739869112,
          "Predicted": 0.40517796530826033
         },
         {
          "Actual": 1.0682317309982043,
          "Predicted": 0.25001896573793403
         },
         {
          "Actual": 1.0974230838092076,
          "Predicted": 0.784089684682021
         },
         {
          "Actual": 1.3207244458035294,
          "Predicted": 0.9643164776348213
         },
         {
          "Actual": 1.0714394426701572,
          "Predicted": 1.0343645051794388
         },
         {
          "Actual": 1.288822930662516,
          "Predicted": 1.057438063203098
         },
         {
          "Actual": 0.6180702952416601,
          "Predicted": 1.0343645051794388
         },
         {
          "Actual": 1.018346012240563,
          "Predicted": 1.057438063203098
         },
         {
          "Actual": 0.9175497899441656,
          "Predicted": 0.4747385190185731
         },
         {
          "Actual": 1.2459821017461,
          "Predicted": 0.172827020527561
         },
         {
          "Actual": 1.0965109339937027,
          "Predicted": 0.7688801138284824
         },
         {
          "Actual": 0.9827690873328326,
          "Predicted": 0.8583079508087869
         },
         {
          "Actual": 0.7487851826747334,
          "Predicted": 0.8917095054512922
         },
         {
          "Actual": 0.886492230420379,
          "Predicted": 0.8603444642763624
         },
         {
          "Actual": 0.38439449097861544,
          "Predicted": 0.8917095054512922
         },
         {
          "Actual": 0.6674268966603427,
          "Predicted": 0.8603444642763624
         },
         {
          "Actual": 0.9485550221091636,
          "Predicted": 0.816206029576274
         },
         {
          "Actual": 0.9561418371854332,
          "Predicted": 0.7362803287520553
         },
         {
          "Actual": 0.9706472276024211,
          "Predicted": 0.8753346751530172
         },
         {
          "Actual": 0.9453640506785426,
          "Predicted": 0.8665125820951507
         },
         {
          "Actual": 1.1465905961937728,
          "Predicted": 0.8711629037754585
         },
         {
          "Actual": 0.8798804597703979,
          "Predicted": 0.8582725610943527
         },
         {
          "Actual": 0.8503968074154877,
          "Predicted": 0.8711629037754585
         },
         {
          "Actual": 1.0154995767604202,
          "Predicted": 0.8582725610943527
         },
         {
          "Actual": 0.8390788158358674,
          "Predicted": 0.8721066230528102
         },
         {
          "Actual": 0.9541807133815392,
          "Predicted": 0.8956728756989503
         },
         {
          "Actual": 1.1558623849734824,
          "Predicted": 0.8085222612393363
         },
         {
          "Actual": 0.72573670113078,
          "Predicted": 0.8928722531088319
         },
         {
          "Actual": 0.8707466961660073,
          "Predicted": 0.8793231942584196
         },
         {
          "Actual": 1.0098132465644594,
          "Predicted": 0.8582725610943527
         },
         {
          "Actual": 1.0318636748117265,
          "Predicted": 0.8793231942584196
         },
         {
          "Actual": 0.7814227445490419,
          "Predicted": 0.8582725610943527
         },
         {
          "Actual": 0.8143698203906633,
          "Predicted": 0.8588398130157681
         },
         {
          "Actual": 0.8065809343007615,
          "Predicted": 0.8255907549020688
         },
         {
          "Actual": -1.7222803270483087,
          "Predicted": -1.1533861840477726
         },
         {
          "Actual": -1.7273858292027384,
          "Predicted": -0.9079483618035018
         },
         {
          "Actual": -1.6928323460019505,
          "Predicted": -0.9079483618035018
         },
         {
          "Actual": -1.7301302742648859,
          "Predicted": -0.9079483618035018
         },
         {
          "Actual": -1.7302282412108279,
          "Predicted": -0.7802486802099522
         },
         {
          "Actual": -1.7340312794496218,
          "Predicted": -0.7802486802099522
         },
         {
          "Actual": -1.733780341005526,
          "Predicted": -0.7802486802099522
         },
         {
          "Actual": -1.7064073373115751,
          "Predicted": -0.6346678587193502
         },
         {
          "Actual": -0.27717318395906226,
          "Predicted": -0.0344957167509961
         },
         {
          "Actual": 0.7233252740371517,
          "Predicted": -0.014303892474379675
         },
         {
          "Actual": 0.31477915865319767,
          "Predicted": 0.2134922567588867
         },
         {
          "Actual": 0.6256885596252073,
          "Predicted": 0.3352965807300913
         },
         {
          "Actual": 0.6580183279016844,
          "Predicted": 0.3271322807872136
         },
         {
          "Actual": 0.6631280824294666,
          "Predicted": 0.2344716093574933
         },
         {
          "Actual": 0.20909715801215362,
          "Predicted": -0.14049144416934115
         },
         {
          "Actual": 0.508489092515121,
          "Predicted": -0.13647094722327593
         },
         {
          "Actual": 0.2904563009956772,
          "Predicted": -0.013718994035435745
         },
         {
          "Actual": -1.7335150840901274,
          "Predicted": 0.1342349387130116
         },
         {
          "Actual": 0.749099252498983,
          "Predicted": 0.2785075388707326
         },
         {
          "Actual": 0.6580183279016844,
          "Predicted": -0.11131035296686943
         },
         {
          "Actual": 0.6631280824294666,
          "Predicted": -0.011418557218799709
         },
         {
          "Actual": 0.6606888769138488,
          "Predicted": 0.2244098598746488
         },
         {
          "Actual": -0.27717318395906226,
          "Predicted": 0.34951765367617027
         },
         {
          "Actual": 0.31477915865319767,
          "Predicted": 0.2760284651807796
         },
         {
          "Actual": 0.7233252740371517,
          "Predicted": 0.26540883981517505
         },
         {
          "Actual": -0.08544782877304803,
          "Predicted": -0.8828510449305985
         },
         {
          "Actual": -0.14937052431683148,
          "Predicted": -0.8458784027917056
         },
         {
          "Actual": -1.7220853724345504,
          "Predicted": -0.8094147503738154
         },
         {
          "Actual": -1.7326847229511408,
          "Predicted": -0.713137479373974
         },
         {
          "Actual": -0.12923849200588935,
          "Predicted": -0.6843900197791895
         },
         {
          "Actual": -1.6999042170433878,
          "Predicted": -0.8787221968656046
         },
         {
          "Actual": -1.7041386447010813,
          "Predicted": -0.8458784027917053
         },
         {
          "Actual": -0.04787318844068061,
          "Predicted": -0.8094147503738154
         },
         {
          "Actual": -1.730338304002789,
          "Predicted": -0.713137479373974
         },
         {
          "Actual": -0.13780617279820492,
          "Predicted": -0.6843900197791896
         },
         {
          "Actual": -1.7243188176682005,
          "Predicted": -0.5999669603719815
         },
         {
          "Actual": 0.5154566641033663,
          "Predicted": 0.8509394802858848
         },
         {
          "Actual": 0.8945199831902034,
          "Predicted": 0.8509394802858848
         },
         {
          "Actual": 0.48460065560929616,
          "Predicted": 0.8509394802858848
         },
         {
          "Actual": 0.21540928714509486,
          "Predicted": 0.8509394802858848
         },
         {
          "Actual": 0.3592352412993501,
          "Predicted": 0.8509394802858848
         },
         {
          "Actual": 0.5610816539888287,
          "Predicted": 0.8509394802858848
         },
         {
          "Actual": 0.7176901688653154,
          "Predicted": 0.7686928199032345
         },
         {
          "Actual": 0.6249549098606612,
          "Predicted": 0.7686928199032345
         },
         {
          "Actual": 0.49786592610171404,
          "Predicted": 0.7686928199032345
         },
         {
          "Actual": 0.7291579438605824,
          "Predicted": 0.7686928199032345
         },
         {
          "Actual": 1.0604201905284572,
          "Predicted": 0.7686928199032345
         },
         {
          "Actual": 0.5466716915854635,
          "Predicted": 0.7686928199032345
         },
         {
          "Actual": 0.3700247233278445,
          "Predicted": 0.2790852507716304
         },
         {
          "Actual": 0.810081970929767,
          "Predicted": 0.8171913393046335
         },
         {
          "Actual": 1.0590224693917716,
          "Predicted": 0.9331157125836836
         },
         {
          "Actual": 1.1912617354703745,
          "Predicted": 0.9890423393627882
         },
         {
          "Actual": 1.3213430595767623,
          "Predicted": 0.9890423393627882
         },
         {
          "Actual": 1.1300503032539406,
          "Predicted": 0.9957611696984698
         },
         {
          "Actual": -0.08436968741332085,
          "Predicted": 0.2790852507716303
         },
         {
          "Actual": 0.4855488211080916,
          "Predicted": 0.82691726369012
         },
         {
          "Actual": 0.8942194109489008,
          "Predicted": 0.9719303710279374
         },
         {
          "Actual": 1.1332317706847244,
          "Predicted": 0.9890423393627882
         },
         {
          "Actual": 0.9279029766884347,
          "Predicted": 0.9890423393627884
         },
         {
          "Actual": 0.9906478469553318,
          "Predicted": 0.9229828319375001
         },
         {
          "Actual": 0.47075280975741446,
          "Predicted": -0.011758727137421923
         },
         {
          "Actual": 0.5779761639761726,
          "Predicted": 0.6442405390424861
         },
         {
          "Actual": 1.047173406837645,
          "Predicted": 0.7130790693236325
         },
         {
          "Actual": 1.0328539211996437,
          "Predicted": 0.819529928954748
         },
         {
          "Actual": 1.3148428665781846,
          "Predicted": 0.9332031172639815
         },
         {
          "Actual": 1.107503233768673,
          "Predicted": 1.0032625823937076
         },
         {
          "Actual": 1.07366288058776,
          "Predicted": 0.11628507228463496
         },
         {
          "Actual": 0.8075414549429537,
          "Predicted": 0.6061005169795576
         },
         {
          "Actual": 0.6122846545430708,
          "Predicted": 0.7248835177492172
         },
         {
          "Actual": 0.622197946026073,
          "Predicted": 0.9242721903922195
         },
         {
          "Actual": 0.9585458690836764,
          "Predicted": 0.9694608457499728
         },
         {
          "Actual": 1.1908861624731462,
          "Predicted": 0.9827215934662724
         },
         {
          "Actual": 0.7407279875754113,
          "Predicted": -0.041084133483842426
         },
         {
          "Actual": 0.660454998380455,
          "Predicted": 0.6264898591722766
         },
         {
          "Actual": 0.6529097185551026,
          "Predicted": 0.6793481297109153
         },
         {
          "Actual": 0.8555490271589806,
          "Predicted": 0.7400988088729885
         },
         {
          "Actual": 1.2741033480678587,
          "Predicted": 0.7917219374652555
         },
         {
          "Actual": 0.9855823967426173,
          "Predicted": 0.930618859426025
         },
         {
          "Actual": 0.176587354476553,
          "Predicted": -0.44323389250603434
         },
         {
          "Actual": 0.5721296445921299,
          "Predicted": -0.17982833466112255
         },
         {
          "Actual": 0.9059201285396528,
          "Predicted": 0.05247235860923085
         },
         {
          "Actual": 0.9430517301402997,
          "Predicted": 0.23442429664621325
         },
         {
          "Actual": 0.7379852651333513,
          "Predicted": 0.33737614270945415
         },
         {
          "Actual": 0.9073737984266428,
          "Predicted": 0.5025014140693822
         },
         {
          "Actual": 1.0225552239541968,
          "Predicted": -0.2011116765419084
         },
         {
          "Actual": 0.7211433490900034,
          "Predicted": 0.04334133606527421
         },
         {
          "Actual": 0.7202309647890118,
          "Predicted": 0.9819572594035093
         },
         {
          "Actual": 0.682449269190363,
          "Predicted": 0.975425001315751
         },
         {
          "Actual": 0.7910864951219178,
          "Predicted": 0.7879934498489704
         },
         {
          "Actual": 0.7706569141528925,
          "Predicted": 0.8081462289080685
         },
         {
          "Actual": 0.2975021315096193,
          "Predicted": -0.6810141358143893
         },
         {
          "Actual": 0.513807773524497,
          "Predicted": 0.4082216840463488
         },
         {
          "Actual": 0.6400656270762392,
          "Predicted": 0.5102976747564445
         },
         {
          "Actual": 0.632952152161676,
          "Predicted": 0.5102976747564445
         },
         {
          "Actual": 0.4757745546706733,
          "Predicted": 0.5376706351195019
         },
         {
          "Actual": 0.5700375381515049,
          "Predicted": 0.5091001303038487
         },
         {
          "Actual": -1.7324741501052565,
          "Predicted": -1.11001405590017
         },
         {
          "Actual": -0.7747892147354424,
          "Predicted": -0.9779356649944497
         },
         {
          "Actual": -1.5966689941770045,
          "Predicted": -0.949369330963521
         },
         {
          "Actual": -1.67423988459779,
          "Predicted": -0.8011481138715348
         },
         {
          "Actual": -0.6771544771043043,
          "Predicted": -0.3042772796279141
         },
         {
          "Actual": -1.5558365073685596,
          "Predicted": -0.9779356649944497
         },
         {
          "Actual": -1.7169595432478797,
          "Predicted": -1.3134608719614334
         },
         {
          "Actual": -1.5284303525701366,
          "Predicted": -1.1327549244859676
         },
         {
          "Actual": -1.5469553592116205,
          "Predicted": -1.054718515561188
         },
         {
          "Actual": -0.44953913236409804,
          "Predicted": -0.8384438934542989
         },
         {
          "Actual": -0.7276604210921802,
          "Predicted": -0.5290201577342449
         },
         {
          "Actual": -0.8250966967475463,
          "Predicted": -1.1327549244859676
         },
         {
          "Actual": -1.6243321153967172,
          "Predicted": -1.4377942754965554
         },
         {
          "Actual": -1.5868982377320306,
          "Predicted": -1.316072795544027
         },
         {
          "Actual": -1.5486764271815838,
          "Predicted": -1.082567893125602
         },
         {
          "Actual": -0.5305831028709153,
          "Predicted": -0.5662719463309887
         },
         {
          "Actual": -1.5761181768012171,
          "Predicted": -1.3981130792784848
         },
         {
          "Actual": -1.5807098949442155,
          "Predicted": -1.2667747541343406
         },
         {
          "Actual": -1.4918319772943933,
          "Predicted": -1.2494922881078325
         },
         {
          "Actual": -0.19692978785846246,
          "Predicted": -1.1760525769956316
         },
         {
          "Actual": -1.5891846967822636,
          "Predicted": -0.021439659219555936
         },
         {
          "Actual": -0.6363829920542989,
          "Predicted": -0.008162159245129027
         },
         {
          "Actual": -1.5532588867859387,
          "Predicted": -0.30898120200357043
         },
         {
          "Actual": -1.5109636326699254,
          "Predicted": -0.5050110884576033
         },
         {
          "Actual": -1.5026272015203959,
          "Predicted": -0.5050110884576033
         },
         {
          "Actual": -1.5287319428787796,
          "Predicted": -0.5172465755597709
         },
         {
          "Actual": -1.5594810153828174,
          "Predicted": -0.5050110884576033
         },
         {
          "Actual": -0.7191216753030407,
          "Predicted": -0.5050110884576033
         },
         {
          "Actual": -1.5525634349787119,
          "Predicted": -0.8130371445264276
         },
         {
          "Actual": -1.5883511107231307,
          "Predicted": -0.757741448208729
         },
         {
          "Actual": -1.6004115805536008,
          "Predicted": -0.757741448208729
         },
         {
          "Actual": -1.6421530758921068,
          "Predicted": -0.8566772236745294
         },
         {
          "Actual": -0.6750045818202559,
          "Predicted": -0.8566772236745294
         },
         {
          "Actual": -0.08671250778542189,
          "Predicted": -0.8653287350202783
         },
         {
          "Actual": -0.6959454688960627,
          "Predicted": -0.8566772236745294
         },
         {
          "Actual": -0.4406327456678178,
          "Predicted": -0.8566772236745294
         },
         {
          "Actual": -1.6448418602926478,
          "Predicted": -0.8130371445264275
         },
         {
          "Actual": -0.055571036398728006,
          "Predicted": -0.757741448208729
         },
         {
          "Actual": -1.6000724120558947,
          "Predicted": -0.757741448208729
         },
         {
          "Actual": 0.09166533598462098,
          "Predicted": -0.8566772236745295
         },
         {
          "Actual": -1.5628933991978324,
          "Predicted": -0.8566772236745295
         },
         {
          "Actual": -0.15408924860272413,
          "Predicted": -0.8653287350202783
         },
         {
          "Actual": -1.5653103047685295,
          "Predicted": -0.8566772236745295
         },
         {
          "Actual": -0.10068970408669285,
          "Predicted": -0.8566772236745295
         },
         {
          "Actual": 0.4735648915763454,
          "Predicted": 0.6099811850178538
         },
         {
          "Actual": 0.22487744094564033,
          "Predicted": 0.4789182974401058
         },
         {
          "Actual": 0.41007720924663177,
          "Predicted": 0.3361183132725571
         },
         {
          "Actual": 0.3729136229143915,
          "Predicted": 0.38108762344341507
         },
         {
          "Actual": 0.31980214564953163,
          "Predicted": 0.38257407065016413
         },
         {
          "Actual": 0.3612259954647199,
          "Predicted": 0.38108762344341507
         },
         {
          "Actual": 0.44969508453455737,
          "Predicted": 0.37684482232263455
         },
         {
          "Actual": 0.3372183855852806,
          "Predicted": 0.5380879210515603
         },
         {
          "Actual": 0.13243883464160555,
          "Predicted": 0.6099811850178538
         },
         {
          "Actual": 0.13693857943372423,
          "Predicted": 0.66682316803935
         },
         {
          "Actual": 0.11305922999249612,
          "Predicted": 0.338206845347962
         },
         {
          "Actual": 0.2101976699691302,
          "Predicted": 0.3840274841377791
         },
         {
          "Actual": 0.4060983294563042,
          "Predicted": 0.39804232574387494
         },
         {
          "Actual": 0.6085868512265189,
          "Predicted": 0.3840274841377791
         },
         {
          "Actual": 0.2688480885275068,
          "Predicted": 0.3937007950293033
         },
         {
          "Actual": 0.39307573877819724,
          "Predicted": 0.5568405654390467
         },
         {
          "Actual": 0.10175805948145329,
          "Predicted": 0.6592175529016153
         },
         {
          "Actual": 0.3239751622727965,
          "Predicted": 0.635700669658475
         },
         {
          "Actual": 0.30523271578084604,
          "Predicted": 0.47194107882765374
         },
         {
          "Actual": 0.37684285577000354,
          "Predicted": 0.4409310144539296
         },
         {
          "Actual": 0.40295161011424463,
          "Predicted": 0.5221657041511817
         },
         {
          "Actual": 0.2833214150907758,
          "Predicted": 0.4409310144539296
         },
         {
          "Actual": 0.3358293911180932,
          "Predicted": 0.4328416708088606
         },
         {
          "Actual": 0.33536097949752053,
          "Predicted": 0.6500738134665901
         },
         {
          "Actual": 1.0019208830087931,
          "Predicted": 0.9361639056278934
         },
         {
          "Actual": 0.8531112566711899,
          "Predicted": 0.9624541456412935
         },
         {
          "Actual": 1.0520258337570083,
          "Predicted": 0.8470018688461914
         },
         {
          "Actual": 1.0067763540314276,
          "Predicted": 0.9066257386234919
         },
         {
          "Actual": 0.8491578844783417,
          "Predicted": 0.8890316955215426
         },
         {
          "Actual": 1.2242770942487666,
          "Predicted": 0.9066257386234919
         },
         {
          "Actual": 1.0514642831742118,
          "Predicted": 0.8638443676742334
         },
         {
          "Actual": 0.918549587042378,
          "Predicted": 1.0355902987160537
         },
         {
          "Actual": 0.627410384219963,
          "Predicted": 0.898932957657424
         },
         {
          "Actual": 1.0717662803167347,
          "Predicted": 0.9697755437514484
         },
         {
          "Actual": 1.0817403026305437,
          "Predicted": 0.8890316955215426
         },
         {
          "Actual": 0.9695110339988351,
          "Predicted": 0.9066257386234922
         },
         {
          "Actual": 0.7556556552189059,
          "Predicted": 0.9608422912169556
         },
         {
          "Actual": 1.2807798521991893,
          "Predicted": 0.9066257386234922
         },
         {
          "Actual": 0.8849018624556034,
          "Predicted": 1.004945681858727
         },
         {
          "Actual": 1.0134134441089506,
          "Predicted": 1.0809629202791304
         },
         {
          "Actual": -0.5870706774163005,
          "Predicted": -0.65735990813629
         },
         {
          "Actual": -0.5276878790581624,
          "Predicted": -0.5875647606441998
         },
         {
          "Actual": -0.41035179257335,
          "Predicted": -0.4254758556998928
         },
         {
          "Actual": -0.3014200309210849,
          "Predicted": -0.35866268733060036
         },
         {
          "Actual": -0.4940257276434813,
          "Predicted": -0.35866268733060036
         },
         {
          "Actual": -0.4857536046551111,
          "Predicted": -0.35866268733060036
         },
         {
          "Actual": -0.3737964146936749,
          "Predicted": -0.3590327741326993
         },
         {
          "Actual": 0.09069467384486002,
          "Predicted": -0.3590327741326993
         },
         {
          "Actual": -1.4173274113784422,
          "Predicted": -0.5690381623295874
         },
         {
          "Actual": -0.4989264873044825,
          "Predicted": -0.5690381623295873
         },
         {
          "Actual": -0.37986814415596987,
          "Predicted": -0.4691735785400056
         },
         {
          "Actual": -0.5695126100896709,
          "Predicted": -0.4036862150844336
         },
         {
          "Actual": -0.05173287823604191,
          "Predicted": -0.4036862150844336
         },
         {
          "Actual": -0.6311485473039675,
          "Predicted": -0.4036862150844336
         },
         {
          "Actual": -0.02179104671603523,
          "Predicted": -0.3575190166719793
         },
         {
          "Actual": -0.194797248236375,
          "Predicted": -0.3575190166719793
         },
         {
          "Actual": -1.4118763386879514,
          "Predicted": -0.5535609235239288
         },
         {
          "Actual": -0.7864820959917724,
          "Predicted": -0.5535609235239288
         },
         {
          "Actual": -1.6156915596473356,
          "Predicted": -0.5238093640133886
         },
         {
          "Actual": -0.30694696277448685,
          "Predicted": -0.4036862150844336
         },
         {
          "Actual": 0.12371639490991866,
          "Predicted": -0.4036862150844336
         },
         {
          "Actual": -0.4378276846184285,
          "Predicted": -0.4036862150844336
         },
         {
          "Actual": 0.2722764905914741,
          "Predicted": -0.372653522392363
         },
         {
          "Actual": -0.5059581365443632,
          "Predicted": -0.372653522392363
         },
         {
          "Actual": 0.5883523773160376,
          "Predicted": 0.8645258194994302
         },
         {
          "Actual": 0.999076265200654,
          "Predicted": 0.9900529285940055
         },
         {
          "Actual": 0.9324217506873318,
          "Predicted": 1.0938154793801467
         },
         {
          "Actual": 1.173237704639479,
          "Predicted": 1.1282019484893266
         },
         {
          "Actual": 0.7757684341191293,
          "Predicted": 1.1575101773788161
         },
         {
          "Actual": 0.4149037648658469,
          "Predicted": 0.8488913533652817
         },
         {
          "Actual": 1.1460204487025174,
          "Predicted": 1.011241467041227
         },
         {
          "Actual": 1.1502021716045134,
          "Predicted": 1.154322417114048
         },
         {
          "Actual": 1.1585729615365785,
          "Predicted": 1.2268465558855155
         },
         {
          "Actual": 0.797318185385176,
          "Predicted": 1.2460744599571043
         },
         {
          "Actual": 0.6971193674396545,
          "Predicted": 0.7664816698245613
         },
         {
          "Actual": 0.7817793820064982,
          "Predicted": 1.1539081677644834
         },
         {
          "Actual": 0.8634659209073356,
          "Predicted": 1.240239190883962
         },
         {
          "Actual": 1.2510746955120233,
          "Predicted": 1.2284861471428294
         },
         {
          "Actual": 0.8392563098467841,
          "Predicted": 1.066898645934931
         },
         {
          "Actual": 0.16176934708520285,
          "Predicted": -0.19446036801949973
         },
         {
          "Actual": 0.012865538959894446,
          "Predicted": 0.03632504279767041
         },
         {
          "Actual": -0.06949421114530843,
          "Predicted": -0.001306406258251279
         },
         {
          "Actual": -0.03547492654260225,
          "Predicted": -0.040779806746912756
         },
         {
          "Actual": 0.6480519351288426,
          "Predicted": -0.040779806746912756
         },
         {
          "Actual": 0.027475181901395817,
          "Predicted": -0.040779806746912756
         },
         {
          "Actual": 0.34836495073782503,
          "Predicted": -0.040779806746912756
         },
         {
          "Actual": -0.2696751928582691,
          "Predicted": 0.12174165374923412
         },
         {
          "Actual": 0.357711856487933,
          "Predicted": -0.07618821958647715
         },
         {
          "Actual": -0.5931578738612197,
          "Predicted": 0.042928016422010135
         },
         {
          "Actual": 0.08851221169033845,
          "Predicted": 0.06656902946032381
         },
         {
          "Actual": -0.4394526298931494,
          "Predicted": 0.03972165003175106
         },
         {
          "Actual": 0.017503413806770066,
          "Predicted": 0.03972165003175106
         },
         {
          "Actual": -0.8634194894176473,
          "Predicted": 0.03972165003175106
         },
         {
          "Actual": -0.10809558540390447,
          "Predicted": 0.03972165003175106
         },
         {
          "Actual": -0.16861308320283114,
          "Predicted": 0.03972165003175106
         },
         {
          "Actual": 0.6480519350714316,
          "Predicted": -0.3769499883265426
         },
         {
          "Actual": -0.03547492645267113,
          "Predicted": -0.4407002956946322
         },
         {
          "Actual": -0.10809558543760882,
          "Predicted": -0.3506897094404899
         },
         {
          "Actual": -0.5931578738612197,
          "Predicted": -0.3889095479535654
         },
         {
          "Actual": -0.4394526297635181,
          "Predicted": -0.3889095479535654
         },
         {
          "Actual": -0.16861308320283114,
          "Predicted": -0.3889095479535654
         },
         {
          "Actual": 0.3577118565472395,
          "Predicted": -0.3889095479535654
         },
         {
          "Actual": 0.017503413819527976,
          "Predicted": -0.3292190458715396
         },
         {
          "Actual": 0.0746657002776026,
          "Predicted": 0.43686058638178
         },
         {
          "Actual": -0.7382731493453152,
          "Predicted": 0.46850357971506346
         },
         {
          "Actual": 0.2225908017978175,
          "Predicted": 0.3381345163400552
         },
         {
          "Actual": 0.12905350340006239,
          "Predicted": 0.37928165232643296
         },
         {
          "Actual": -0.7616608136136924,
          "Predicted": 0.5666754957879786
         },
         {
          "Actual": -1.0710032387594082,
          "Predicted": 0.5067915619278326
         },
         {
          "Actual": 0.9319337244191582,
          "Predicted": 0.8534125433524042
         },
         {
          "Actual": 0.598356203072004,
          "Predicted": 0.7986219206100169
         },
         {
          "Actual": 0.7056851427162385,
          "Predicted": 0.7924928598136376
         },
         {
          "Actual": 0.6566852703417488,
          "Predicted": 0.7790398063085968
         },
         {
          "Actual": 0.587847185554937,
          "Predicted": 0.9347677907611885
         },
         {
          "Actual": 0.834628655253442,
          "Predicted": 0.8312164282892471
         },
         {
          "Actual": 0.5690144675473192,
          "Predicted": 0.7538966469401743
         },
         {
          "Actual": 0.7334386698508686,
          "Predicted": 0.9089551629576434
         },
         {
          "Actual": 0.5272591384107587,
          "Predicted": 0.8547893315356156
         },
         {
          "Actual": 0.8187603557049193,
          "Predicted": 0.7790398063085968
         },
         {
          "Actual": 0.8348662686554147,
          "Predicted": 1.0354815099418677
         },
         {
          "Actual": 0.8790513899607647,
          "Predicted": 0.9978903290012879
         },
         {
          "Actual": 0.23889864465563562,
          "Predicted": 0.9740728816740004
         },
         {
          "Actual": 0.21233422630547288,
          "Predicted": 0.9123400017252613
         },
         {
          "Actual": 0.8013450679923847,
          "Predicted": 0.849482545833493
         },
         {
          "Actual": 0.2783438187721109,
          "Predicted": 0.750021559707847
         },
         {
          "Actual": 0.5599285095783205,
          "Predicted": 0.7999166434551218
         },
         {
          "Actual": -0.03428048445970595,
          "Predicted": 0.8037550377028454
         },
         {
          "Actual": 0.7031113920672093,
          "Predicted": 0.7466970303640218
         },
         {
          "Actual": 0.38840681855393383,
          "Predicted": 0.740509526192937
         },
         {
          "Actual": 0.7036046213323411,
          "Predicted": 0.7295079270910099
         },
         {
          "Actual": 0.6336303866995255,
          "Predicted": 0.8136475707841373
         },
         {
          "Actual": 0.4446625868110281,
          "Predicted": 0.7310451188337264
         },
         {
          "Actual": 0.6849395613980345,
          "Predicted": 0.7102177252404637
         },
         {
          "Actual": 0.8841042760282279,
          "Predicted": 0.7007996352167658
         },
         {
          "Actual": 0.49659577608611366,
          "Predicted": 0.8049309329822971
         },
         {
          "Actual": 0.8847923041885801,
          "Predicted": 0.7028395248264158
         },
         {
          "Actual": 0.9388427252135224,
          "Predicted": 0.719346668573299
         },
         {
          "Actual": 1.031454045466766,
          "Predicted": 0.6950507106704175
         },
         {
          "Actual": 1.0697842926231296,
          "Predicted": 0.7102177252404636
         },
         {
          "Actual": 0.8759440940952012,
          "Predicted": 0.7096423202889272
         },
         {
          "Actual": 0.692153054647974,
          "Predicted": 0.8136475707841373
         },
         {
          "Actual": 0.8609880009776771,
          "Predicted": 0.7136173287358254
         },
         {
          "Actual": 0.8436435736697752,
          "Predicted": 0.7155006183783775
         },
         {
          "Actual": 0.6950069121737159,
          "Predicted": 0.7138579441627465
         },
         {
          "Actual": 0.1728361080031012,
          "Predicted": 0.734432102757644
         },
         {
          "Actual": -1.7244111347652529,
          "Predicted": -1.4782995235274898
         },
         {
          "Actual": -0.7230761505038612,
          "Predicted": -1.5545521435140854
         },
         {
          "Actual": -1.6535587916954284,
          "Predicted": -1.4519698494493785
         },
         {
          "Actual": -1.6882969274536959,
          "Predicted": -1.3967000182876257
         },
         {
          "Actual": -1.6397984529849072,
          "Predicted": -1.008427339887545
         },
         {
          "Actual": -1.7163322032231618,
          "Predicted": -1.3186071088724491
         },
         {
          "Actual": -1.7044862187924363,
          "Predicted": -1.5071539180772568
         },
         {
          "Actual": -0.7199725047908744,
          "Predicted": -1.269277332044182
         },
         {
          "Actual": -1.6514545494440107,
          "Predicted": -0.7929649394358945
         },
         {
          "Actual": -1.673446278190947,
          "Predicted": -0.2612140291486841
         },
         {
          "Actual": -1.734058368576058,
          "Predicted": -1.4201148703438773
         },
         {
          "Actual": -1.7171332678150866,
          "Predicted": -1.5546370185243101
         },
         {
          "Actual": -1.663576746855549,
          "Predicted": -1.2663761014169594
         },
         {
          "Actual": -1.6813895329861566,
          "Predicted": -0.9265663239531378
         },
         {
          "Actual": -1.637383061537978,
          "Predicted": -0.4659685827158832
         },
         {
          "Actual": -1.7326440627134798,
          "Predicted": -1.472727630713452
         },
         {
          "Actual": -1.7129669484014602,
          "Predicted": -1.3890085091594673
         },
         {
          "Actual": -0.9657907723206717,
          "Predicted": -1.4849015752308816
         },
         {
          "Actual": -1.6159299273573846,
          "Predicted": -1.3919203794848485
         },
         {
          "Actual": -0.975438172025868,
          "Predicted": -1.1489651974219737
         },
         {
          "Actual": -1.7263913970928468,
          "Predicted": -1.448800184574577
         },
         {
          "Actual": -1.5932869300838433,
          "Predicted": -1.4709837324497332
         },
         {
          "Actual": -1.5692035227119812,
          "Predicted": -1.453848598647354
         },
         {
          "Actual": -1.5537263233856369,
          "Predicted": -1.420259824661816
         },
         {
          "Actual": -1.5648071829564776,
          "Predicted": -1.3911131468398423
         },
         {
          "Actual": 0.12939176621938192,
          "Predicted": -0.41344071178261144
         },
         {
          "Actual": 0.3268727042302723,
          "Predicted": -0.4421638576996467
         },
         {
          "Actual": 0.34659401128353723,
          "Predicted": -0.42230863981649397
         },
         {
          "Actual": 0.8290020751368918,
          "Predicted": -0.42306356026199166
         },
         {
          "Actual": 0.27286849505042726,
          "Predicted": -0.42306356026199166
         },
         {
          "Actual": 0.3125695565692313,
          "Predicted": -0.45479424837304694
         },
         {
          "Actual": 0.679848359869189,
          "Predicted": -0.42306356026199166
         },
         {
          "Actual": 0.2649461471921866,
          "Predicted": -0.42306356026199166
         },
         {
          "Actual": -1.4420140592990793,
          "Predicted": -0.52433084478566
         },
         {
          "Actual": 0.035653808098619906,
          "Predicted": -0.3389078321062698
         },
         {
          "Actual": -0.6734519182425206,
          "Predicted": -0.26484032255990037
         },
         {
          "Actual": -0.5335325986238642,
          "Predicted": -0.1771128188580773
         },
         {
          "Actual": -0.15242523879095626,
          "Predicted": -0.1771128188580773
         },
         {
          "Actual": 0.058160950815293794,
          "Predicted": -0.10044620030738054
         },
         {
          "Actual": -0.4588996339142701,
          "Predicted": -0.1771128188580773
         },
         {
          "Actual": 0.11163376385974813,
          "Predicted": -0.1771128188580773
         },
         {
          "Actual": -1.456444235496729,
          "Predicted": -0.4696700875366557
         },
         {
          "Actual": 0.21737643352087804,
          "Predicted": -0.27183488857972565
         },
         {
          "Actual": -0.00852944224240241,
          "Predicted": -0.18498468417870303
         },
         {
          "Actual": -0.25458699435949855,
          "Predicted": -0.16664941125014915
         },
         {
          "Actual": -0.11297466049666909,
          "Predicted": -0.16664941125014915
         },
         {
          "Actual": 0.07524306994367112,
          "Predicted": -0.09088185160094592
         },
         {
          "Actual": -0.3801221527552501,
          "Predicted": -0.16664941125014915
         },
         {
          "Actual": -0.049161554115711235,
          "Predicted": -0.16664941125014915
         },
         {
          "Actual": -0.2708918169699857,
          "Predicted": -0.4696700875366557
         },
         {
          "Actual": -1.381422682519567,
          "Predicted": -0.35360582664071655
         },
         {
          "Actual": -0.19076239310026222,
          "Predicted": -0.16873305661041496
         },
         {
          "Actual": 0.02066022462053798,
          "Predicted": -0.16664941125014915
         },
         {
          "Actual": 0.33660201569601433,
          "Predicted": -0.16664941125014915
         },
         {
          "Actual": 0.38402399374114415,
          "Predicted": -0.17502917349781144
         },
         {
          "Actual": -0.10689188148797749,
          "Predicted": -0.16664941125014915
         },
         {
          "Actual": -0.009117164485877788,
          "Predicted": -0.16664941125014915
         },
         {
          "Actual": 1.2288872237472075,
          "Predicted": 0.6705015727812439
         },
         {
          "Actual": 1.1372984768261707,
          "Predicted": 0.9463462157848737
         },
         {
          "Actual": 1.3249807886216158,
          "Predicted": 1.0276408028168718
         },
         {
          "Actual": 1.495415498469882,
          "Predicted": 1.0067945359164796
         },
         {
          "Actual": 1.4768240035921936,
          "Predicted": 1.0368099915582096
         },
         {
          "Actual": 1.128521633687897,
          "Predicted": 0.6563799464146571
         },
         {
          "Actual": 1.152930015797952,
          "Predicted": 0.8765449199932546
         },
         {
          "Actual": 1.3148978875183808,
          "Predicted": 0.9353328626738628
         },
         {
          "Actual": 1.2916429839746542,
          "Predicted": 0.9665291182993988
         },
         {
          "Actual": 1.16747841546675,
          "Predicted": 1.0293684814836759
         },
         {
          "Actual": 0.8914974990024065,
          "Predicted": 0.6069000850836014
         },
         {
          "Actual": 1.1702527678482844,
          "Predicted": 0.8645179932930759
         },
         {
          "Actual": 1.2756789657103549,
          "Predicted": 0.8663541085464818
         },
         {
          "Actual": 1.3845790092476344,
          "Predicted": 0.8751812696311708
         },
         {
          "Actual": 1.2341469367169797,
          "Predicted": 0.8863977576961775
         },
         {
          "Actual": 0.9886579321955067,
          "Predicted": 0.9644760928582174
         },
         {
          "Actual": 1.097449849083742,
          "Predicted": 1.0021886674455438
         },
         {
          "Actual": 1.161589940586675,
          "Predicted": 1.0764571753932943
         },
         {
          "Actual": 1.0666341806779216,
          "Predicted": 1.0701124991726723
         },
         {
          "Actual": 1.0427836026016555,
          "Predicted": 1.0764571753932943
         },
         {
          "Actual": 1.0950693367579716,
          "Predicted": 1.0939522355696958
         },
         {
          "Actual": 1.1991023456873302,
          "Predicted": 1.080584733409314
         },
         {
          "Actual": 1.2690345737096838,
          "Predicted": 1.0358258422750035
         },
         {
          "Actual": 0.9157689006383084,
          "Predicted": 0.9498495964573838
         },
         {
          "Actual": 1.0474878755685582,
          "Predicted": 1.0005940928219217
         },
         {
          "Actual": 1.1330345520133194,
          "Predicted": 1.0764571753932943
         },
         {
          "Actual": 0.9696114819927176,
          "Predicted": 1.1004707595513912
         },
         {
          "Actual": 1.084865663633277,
          "Predicted": 1.0764571753932943
         },
         {
          "Actual": 0.9392532849782991,
          "Predicted": 1.0939522355696962
         },
         {
          "Actual": 1.0753081616702638,
          "Predicted": 1.0805847334093142
         },
         {
          "Actual": 1.2030450477705121,
          "Predicted": 1.0413775603208295
         },
         {
          "Actual": 1.0342063537627162,
          "Predicted": 0.9099003702275571
         },
         {
          "Actual": 1.0279848341541984,
          "Predicted": 0.9775913845499629
         },
         {
          "Actual": 0.9768578328680311,
          "Predicted": 1.0436206216758215
         },
         {
          "Actual": 1.1394327219472675,
          "Predicted": 1.0796310101583464
         },
         {
          "Actual": 1.0843159406033773,
          "Predicted": 1.0436206216758215
         },
         {
          "Actual": 1.1191473173645048,
          "Predicted": 1.0796310101583464
         },
         {
          "Actual": 1.1991292268498304,
          "Predicted": 1.0529607296233443
         },
         {
          "Actual": 1.3442910837507223,
          "Predicted": 1.0341852979971886
         },
         {
          "Actual": 0.242885584642084,
          "Predicted": 0.6094572616315347
         },
         {
          "Actual": 0.19719821940135532,
          "Predicted": 0.5639336622883736
         },
         {
          "Actual": 0.6733208497730708,
          "Predicted": 0.5123802927733869
         },
         {
          "Actual": -0.022419993161113337,
          "Predicted": 0.5901817614479383
         },
         {
          "Actual": 0.21557716372293603,
          "Predicted": 0.5123802927733869
         },
         {
          "Actual": 0.20797147988113276,
          "Predicted": 0.5901817614479383
         },
         {
          "Actual": -0.10629646244543353,
          "Predicted": 0.5942523849732665
         },
         {
          "Actual": 0.6984680035098708,
          "Predicted": 0.6325216757773829
         },
         {
          "Actual": 0.47515551883800905,
          "Predicted": 0.7870447574418322
         },
         {
          "Actual": 0.7070499801084271,
          "Predicted": 0.8010986819818026
         },
         {
          "Actual": 0.9936281834336487,
          "Predicted": 0.7577727573895487
         },
         {
          "Actual": 0.996931290894042,
          "Predicted": 0.7305526455076906
         },
         {
          "Actual": 0.5752078250553514,
          "Predicted": 0.7577727573895487
         },
         {
          "Actual": 0.6825861803608652,
          "Predicted": 0.7423924851916148
         },
         {
          "Actual": 0.428603639313604,
          "Predicted": 0.8147263882719351
         },
         {
          "Actual": 0.8477535706406886,
          "Predicted": 0.8583747660870037
         },
         {
          "Actual": -1.7340370188924183,
          "Predicted": -0.799118197085406
         },
         {
          "Actual": -0.07525214876124815,
          "Predicted": -0.799118197085406
         },
         {
          "Actual": -0.522230329104581,
          "Predicted": -0.6636580312703719
         },
         {
          "Actual": 0.35255979433834445,
          "Predicted": -0.663658031270372
         },
         {
          "Actual": -0.03244812579628534,
          "Predicted": -0.5233308115399564
         },
         {
          "Actual": -1.550441648729855,
          "Predicted": -0.799118197085406
         },
         {
          "Actual": -1.6991891441219438,
          "Predicted": -0.8077079637301119
         },
         {
          "Actual": -1.6481944331953835,
          "Predicted": -0.8077079637301119
         },
         {
          "Actual": -0.5364558785607693,
          "Predicted": -0.8077079637301119
         },
         {
          "Actual": -1.5811635034768325,
          "Predicted": -0.8077079637301119
         },
         {
          "Actual": -0.6035951099079466,
          "Predicted": -0.6896690700405074
         },
         {
          "Actual": -0.35520790425373944,
          "Predicted": -0.8077079637301119
         },
         {
          "Actual": -1.7167172835177458,
          "Predicted": -0.8077079637301119
         },
         {
          "Actual": -0.5384489826823172,
          "Predicted": -0.8077079637301119
         },
         {
          "Actual": -1.6277516653601334,
          "Predicted": -0.8077079637301119
         },
         {
          "Actual": -0.39007255477624236,
          "Predicted": -0.8077079637301119
         },
         {
          "Actual": -1.5467683322152082,
          "Predicted": -0.6915031687126377
         },
         {
          "Actual": -0.2837985918753932,
          "Predicted": -0.8077079637301119
         },
         {
          "Actual": 0.8674231548250232,
          "Predicted": 0.8470310414983008
         },
         {
          "Actual": 0.9217715446134211,
          "Predicted": 0.8009928230166308
         },
         {
          "Actual": 0.9382875302165774,
          "Predicted": 0.8009928230166308
         },
         {
          "Actual": 1.144811648872763,
          "Predicted": 0.8009928230166308
         },
         {
          "Actual": 0.9478686366039986,
          "Predicted": 0.8009928230166308
         },
         {
          "Actual": 0.8270106658914632,
          "Predicted": 0.8009928230166308
         },
         {
          "Actual": 1.2374871202677589,
          "Predicted": 0.8470310414983008
         },
         {
          "Actual": 1.015766519879458,
          "Predicted": 0.8012950647001751
         },
         {
          "Actual": 1.0195186230835387,
          "Predicted": 0.8012950647001751
         },
         {
          "Actual": 1.0080069597257022,
          "Predicted": 0.8012950647001749
         },
         {
          "Actual": 0.9494998913601502,
          "Predicted": 0.9102138177055493
         },
         {
          "Actual": 0.9059671162669859,
          "Predicted": 0.9102138177055492
         },
         {
          "Actual": 0.8680482252260684,
          "Predicted": 0.8470310414983008
         },
         {
          "Actual": 0.6617821763324778,
          "Predicted": 0.8009928230166308
         },
         {
          "Actual": 0.8362660502464364,
          "Predicted": 0.8009928230166308
         },
         {
          "Actual": 1.013835252711167,
          "Predicted": 0.8009928230166308
         },
         {
          "Actual": 0.903597619580402,
          "Predicted": 0.9102138177055492
         },
         {
          "Actual": 0.874554006363701,
          "Predicted": 0.9102138177055493
         },
         {
          "Actual": 0.30582978660487964,
          "Predicted": 0.6100336555767667
         },
         {
          "Actual": 0.22062743534716295,
          "Predicted": 0.6174328032031182
         },
         {
          "Actual": 0.5884708468737893,
          "Predicted": 0.2617322958606881
         },
         {
          "Actual": 0.4927961781256261,
          "Predicted": 0.1224022806794423
         },
         {
          "Actual": 0.5087019612100658,
          "Predicted": -0.012252909239271265
         },
         {
          "Actual": 0.7427615500175718,
          "Predicted": -0.012252909239271265
         },
         {
          "Actual": -0.8479129535993815,
          "Predicted": 0.6145339447539765
         },
         {
          "Actual": 0.4443529225146782,
          "Predicted": 0.6145339447539765
         },
         {
          "Actual": 0.6698959514579078,
          "Predicted": 0.6245014954379389
         },
         {
          "Actual": 0.6414742547665253,
          "Predicted": 0.4613274482090349
         },
         {
          "Actual": 0.522819671473271,
          "Predicted": 0.3260663812714878
         },
         {
          "Actual": 0.7945299813057103,
          "Predicted": 0.26905274398270096
         },
         {
          "Actual": 0.6047183397491399,
          "Predicted": 0.5151271366204536
         },
         {
          "Actual": 0.762191614550095,
          "Predicted": 0.5818336553160222
         },
         {
          "Actual": 0.6042046235359086,
          "Predicted": 0.6781968811759119
         },
         {
          "Actual": 0.7277156718212489,
          "Predicted": 0.6848275255585943
         },
         {
          "Actual": 0.8290421260490236,
          "Predicted": 0.6848275255585943
         },
         {
          "Actual": 0.8971289767580248,
          "Predicted": 0.6848275255585943
         },
         {
          "Actual": 1.167467570146013,
          "Predicted": 0.6186504589183869
         },
         {
          "Actual": 0.9234435404268969,
          "Predicted": 0.5832084276630249
         },
         {
          "Actual": 0.648344692262083,
          "Predicted": 0.34047259410031594
         },
         {
          "Actual": 0.3812747888092374,
          "Predicted": 0.46324145831774893
         },
         {
          "Actual": 0.6168959743824951,
          "Predicted": 0.5247208654029655
         },
         {
          "Actual": 1.0130717631518373,
          "Predicted": 0.5929667803217331
         },
         {
          "Actual": 1.1332152558954034,
          "Predicted": 0.5929667803217331
         },
         {
          "Actual": 0.6435870565725972,
          "Predicted": 0.5929667803217331
         },
         {
          "Actual": 0.8357884726944106,
          "Predicted": 0.5305960898380836
         },
         {
          "Actual": 0.6866133684841821,
          "Predicted": 0.5106910329692423
         },
         {
          "Actual": 0.615123025533622,
          "Predicted": 0.7790200812840041
         },
         {
          "Actual": 1.1689862500313637,
          "Predicted": 1.182246083203332
         },
         {
          "Actual": 1.2791033432351657,
          "Predicted": 1.248188468124415
         },
         {
          "Actual": 1.7539318919380011,
          "Predicted": 1.2211039409165427
         },
         {
          "Actual": 1.458451686428875,
          "Predicted": 1.2331601089272342
         },
         {
          "Actual": 0.7343551563261844,
          "Predicted": 0.7753906311122636
         },
         {
          "Actual": 1.0076922696638346,
          "Predicted": 1.143736511021276
         },
         {
          "Actual": 1.1843388247084534,
          "Predicted": 1.1942966547335407
         },
         {
          "Actual": 1.4524889535567456,
          "Predicted": 1.2111315750384783
         },
         {
          "Actual": 1.6444335205953597,
          "Predicted": 1.2331601089272342
         },
         {
          "Actual": 0.5235467927291081,
          "Predicted": 0.7790200812840041
         },
         {
          "Actual": 1.1378469752121871,
          "Predicted": 1.1915577905111825
         },
         {
          "Actual": 1.5768829072067807,
          "Predicted": 1.2654971677956839
         },
         {
          "Actual": 1.5293297554258616,
          "Predicted": 1.2292187928947897
         },
         {
          "Actual": 1.5307462199925446,
          "Predicted": 1.26105809900528
         },
         {
          "Actual": 0.30918542735898874,
          "Predicted": -0.08848729418136261
         },
         {
          "Actual": 0.9842449567743405,
          "Predicted": 0.7155345047702241
         },
         {
          "Actual": 0.8783533792229762,
          "Predicted": 0.7071136040581089
         },
         {
          "Actual": 0.7818085083937414,
          "Predicted": 0.6057143900711983
         },
         {
          "Actual": 1.039372584179937,
          "Predicted": 0.6057143900711983
         },
         {
          "Actual": 0.5965391216528552,
          "Predicted": -0.25863336869106657
         },
         {
          "Actual": 0.7516875363625467,
          "Predicted": 0.6674835584690084
         },
         {
          "Actual": 0.96280768136808,
          "Predicted": 0.6145805436391759
         },
         {
          "Actual": 1.160148307211399,
          "Predicted": 0.634521961136234
         },
         {
          "Actual": 0.5998205575630917,
          "Predicted": 0.6073465686141145
         },
         {
          "Actual": 0.11528772370134155,
          "Predicted": -0.3664675103761212
         },
         {
          "Actual": 0.7469639810178617,
          "Predicted": 0.614552781153247
         },
         {
          "Actual": 0.8183592420427889,
          "Predicted": 0.5485716984803115
         },
         {
          "Actual": 1.1014074869638004,
          "Predicted": 0.5552696497496588
         },
         {
          "Actual": 1.1288121789814862,
          "Predicted": 0.5871097618894263
         },
         {
          "Actual": -0.23966157419376474,
          "Predicted": -0.34034997549947477
         },
         {
          "Actual": -0.01108053724565439,
          "Predicted": -0.2098385287908128
         },
         {
          "Actual": 0.47877874716600466,
          "Predicted": -0.026592302505723097
         },
         {
          "Actual": 0.5558045750349082,
          "Predicted": -0.008404396286599536
         },
         {
          "Actual": 0.43308375319104436,
          "Predicted": 0.05355191414026667
         },
         {
          "Actual": 0.5471360129560806,
          "Predicted": 0.3468720149468763
         },
         {
          "Actual": 0.16712268028891525,
          "Predicted": -0.25615152151592724
         },
         {
          "Actual": 0.38859040129115086,
          "Predicted": -0.03935458639796572
         },
         {
          "Actual": 0.5424485362242788,
          "Predicted": -0.02395760031711067
         },
         {
          "Actual": -0.0039748432108992916,
          "Predicted": 0.08522452444415955
         },
         {
          "Actual": 0.3936053585824118,
          "Predicted": 0.1283468799473727
         },
         {
          "Actual": 0.2465317931094843,
          "Predicted": 0.23964287891909156
         },
         {
          "Actual": -1.6526701360478964,
          "Predicted": -0.5091251360689655
         },
         {
          "Actual": -1.7089184909220012,
          "Predicted": -0.71177249240763
         },
         {
          "Actual": -1.6352455521400735,
          "Predicted": -0.8181797090817287
         },
         {
          "Actual": -1.727528235777478,
          "Predicted": -0.8566819995363086
         },
         {
          "Actual": -1.6907795431932837,
          "Predicted": -0.736474931668431
         },
         {
          "Actual": -1.7115281749644353,
          "Predicted": -0.4879595923078093
         },
         {
          "Actual": -0.5598979630243174,
          "Predicted": -0.5194531160190846
         },
         {
          "Actual": -1.683819936261393,
          "Predicted": -0.6317230320544582
         },
         {
          "Actual": -1.6913662451925207,
          "Predicted": -0.7255816161127204
         },
         {
          "Actual": -1.6812846496796459,
          "Predicted": -0.7656748920541643
         },
         {
          "Actual": -1.6096723578880683,
          "Predicted": -0.7849201144060831
         },
         {
          "Actual": -1.6173996383923117,
          "Predicted": -0.5956292560640158
         },
         {
          "Actual": -0.9302961065453665,
          "Predicted": -1.1234604815257672
         },
         {
          "Actual": -1.5795132470459545,
          "Predicted": -1.121272787583619
         },
         {
          "Actual": -1.6434792001110137,
          "Predicted": -1.124515603444698
         },
         {
          "Actual": -1.672262147890624,
          "Predicted": -1.2457617846732565
         },
         {
          "Actual": -0.9305011167709732,
          "Predicted": -1.2654755300150395
         },
         {
          "Actual": -1.6798525600457817,
          "Predicted": -1.2654755300150395
         },
         {
          "Actual": -1.6343038743797373,
          "Predicted": -1.124515603444698
         },
         {
          "Actual": -0.8879072298375121,
          "Predicted": -1.2654755300150395
         },
         {
          "Actual": -0.908102267125753,
          "Predicted": -1.121272787583619
         },
         {
          "Actual": -1.660854868614356,
          "Predicted": -1.2457617846732565
         },
         {
          "Actual": -1.596420555878874,
          "Predicted": -1.121106088885628
         },
         {
          "Actual": -0.8239866429098488,
          "Predicted": -1.1211060888856277
         },
         {
          "Actual": -0.7014990353982915,
          "Predicted": -1.1213320410491434
         },
         {
          "Actual": -0.8768128910440637,
          "Predicted": -1.1729809690282267
         },
         {
          "Actual": -0.8700134312554382,
          "Predicted": -1.1894407080228995
         },
         {
          "Actual": -0.6825667087599107,
          "Predicted": -1.1894407080228995
         },
         {
          "Actual": -0.22445113922425422,
          "Predicted": -1.1213320410491434
         },
         {
          "Actual": -1.6956643822754254,
          "Predicted": -1.1894407080228995
         },
         {
          "Actual": -0.47032207285425276,
          "Predicted": -1.1211060888856277
         },
         {
          "Actual": -1.640384758796433,
          "Predicted": -1.1729809690282267
         },
         {
          "Actual": -1.6721206942293818,
          "Predicted": -1.121106088885628
         },
         {
          "Actual": -0.6281135453369406,
          "Predicted": -1.1211060888856277
         },
         {
          "Actual": -0.15763697979134347,
          "Predicted": -1.1244119295345805
         },
         {
          "Actual": -1.657829047013769,
          "Predicted": -1.1078554109966503
         },
         {
          "Actual": -1.6380311282692606,
          "Predicted": -1.1894407080228995
         },
         {
          "Actual": -1.6701921559113322,
          "Predicted": -1.1894407080228995
         },
         {
          "Actual": -1.6754844768487491,
          "Predicted": -1.1244119295345805
         },
         {
          "Actual": -0.6468748853590134,
          "Predicted": -1.1894407080228995
         },
         {
          "Actual": -0.8497046449643388,
          "Predicted": -1.1211060888856277
         },
         {
          "Actual": -1.6305545093285603,
          "Predicted": -1.1078554109966503
         },
         {
          "Actual": -0.18300544686780046,
          "Predicted": -0.1411471540120357
         },
         {
          "Actual": -0.2412335674690035,
          "Predicted": -0.1411471540120357
         },
         {
          "Actual": 0.20775215982334994,
          "Predicted": -0.14114715401203567
         },
         {
          "Actual": -0.12478734605849674,
          "Predicted": -0.1641912013734499
         },
         {
          "Actual": 0.13080748739328318,
          "Predicted": -0.1641912013734499
         },
         {
          "Actual": 0.005816488730033643,
          "Predicted": -0.1641912013734499
         },
         {
          "Actual": -0.10810590225384875,
          "Predicted": -0.14114715401203567
         },
         {
          "Actual": -0.3676038553794698,
          "Predicted": -0.1641912013734499
         },
         {
          "Actual": -0.5993603595865052,
          "Predicted": -0.1411471540120357
         },
         {
          "Actual": -0.47758417952948634,
          "Predicted": -0.1641912013734499
         },
         {
          "Actual": 0.10055702652116444,
          "Predicted": -0.15920485727917988
         },
         {
          "Actual": -0.3043190851974847,
          "Predicted": -0.15920485727917988
         },
         {
          "Actual": 0.25193926991868304,
          "Predicted": -0.14926686066876754
         },
         {
          "Actual": -0.18096360655786764,
          "Predicted": -0.14926686066876754
         },
         {
          "Actual": -0.5040124049477162,
          "Predicted": -0.14926686066876754
         },
         {
          "Actual": -0.3372798733457056,
          "Predicted": -0.14926686066876754
         },
         {
          "Actual": -0.189108694495079,
          "Predicted": -0.14926686066876754
         },
         {
          "Actual": 0.22826156036336792,
          "Predicted": -0.14926686066876754
         },
         {
          "Actual": -0.361504756170978,
          "Predicted": -0.15920485727917988
         },
         {
          "Actual": 0.03465928553517595,
          "Predicted": -0.14926686066876754
         },
         {
          "Actual": 0.4997679456882134,
          "Predicted": 0.7408936431445938
         },
         {
          "Actual": 1.0024686729269,
          "Predicted": 0.7408936431445938
         },
         {
          "Actual": 1.1429442868625577,
          "Predicted": 0.7408936431445939
         },
         {
          "Actual": 0.9742009790632564,
          "Predicted": 0.7438946728935146
         },
         {
          "Actual": 0.9731354750747775,
          "Predicted": 0.7438946728935146
         },
         {
          "Actual": 1.0280246400358624,
          "Predicted": 0.7438946728935146
         },
         {
          "Actual": 0.47524753808400183,
          "Predicted": 0.7408936431445939
         },
         {
          "Actual": 0.7704623016350395,
          "Predicted": 0.7438946728935146
         },
         {
          "Actual": 0.649498647279713,
          "Predicted": 0.7408936431445938
         },
         {
          "Actual": 0.8814386172497201,
          "Predicted": 0.7438946728935146
         },
         {
          "Actual": 0.6863956543040842,
          "Predicted": 0.7223694152461668
         },
         {
          "Actual": 0.8870677027607049,
          "Predicted": 0.7259141999602631
         },
         {
          "Actual": 0.573044790246261,
          "Predicted": 0.7537171838732973
         },
         {
          "Actual": 0.7151262133783859,
          "Predicted": 0.7537171838732973
         },
         {
          "Actual": 0.3041915335719947,
          "Predicted": 0.7537171838732973
         },
         {
          "Actual": 0.368215159735509,
          "Predicted": 0.7537171838732973
         },
         {
          "Actual": 0.6942059127035819,
          "Predicted": 0.7537171838732973
         },
         {
          "Actual": 0.7434152195335775,
          "Predicted": 0.7537171838732973
         },
         {
          "Actual": 0.5113137290550476,
          "Predicted": 0.7259141999602631
         },
         {
          "Actual": 0.9402294200916733,
          "Predicted": 0.7537171838732973
         },
         {
          "Actual": 1.004529496053226,
          "Predicted": 0.8377169190264058
         },
         {
          "Actual": 0.47429663274252837,
          "Predicted": 0.8163949317399227
         },
         {
          "Actual": 0.6963812895344829,
          "Predicted": 0.7300171883314622
         },
         {
          "Actual": 0.6614344358666637,
          "Predicted": 0.7300171883314622
         },
         {
          "Actual": 0.7857566824107479,
          "Predicted": 0.6875267693541346
         },
         {
          "Actual": 0.8324391089384644,
          "Predicted": 0.6875267693541346
         },
         {
          "Actual": 0.9036966832939687,
          "Predicted": 0.5137334216586463
         },
         {
          "Actual": 1.1143760813044226,
          "Predicted": 0.44318590891879595
         },
         {
          "Actual": 0.4565937162454364,
          "Predicted": 0.7300171883314622
         },
         {
          "Actual": 1.0879923568701633,
          "Predicted": 0.8254600204623973
         },
         {
          "Actual": 0.6503774272852024,
          "Predicted": 0.8137615226383625
         },
         {
          "Actual": 0.758743444889354,
          "Predicted": 0.6390837391497401
         },
         {
          "Actual": 0.581959860121599,
          "Predicted": 0.6390837391497403
         },
         {
          "Actual": 0.6701281922872117,
          "Predicted": 0.42639875860748166
         },
         {
          "Actual": 0.760929802536654,
          "Predicted": 0.42639875860748166
         },
         {
          "Actual": 0.6708156105778086,
          "Predicted": 0.3416543369377001
         },
         {
          "Actual": 1.0271503017283732,
          "Predicted": 0.44318590891879595
         },
         {
          "Actual": 0.7390416479499978,
          "Predicted": 0.6390837391497403
         },
         {
          "Actual": 1.064341308374778,
          "Predicted": 1.2440673267212772
         },
         {
          "Actual": 1.4129269486121392,
          "Predicted": 1.2311312187652839
         },
         {
          "Actual": 1.4876845914286791,
          "Predicted": 1.2777368424611986
         },
         {
          "Actual": 1.4058531787634723,
          "Predicted": 1.268432443262896
         },
         {
          "Actual": 1.3180968549595984,
          "Predicted": 1.273072881797928
         },
         {
          "Actual": 1.186325907773095,
          "Predicted": 1.273072881797928
         },
         {
          "Actual": 1.5462324967542391,
          "Predicted": 1.2331484587868258
         },
         {
          "Actual": 1.398423094741784,
          "Predicted": 1.2705415318504534
         },
         {
          "Actual": 1.2837921399191774,
          "Predicted": 1.268432443262896
         },
         {
          "Actual": 1.125968141950629,
          "Predicted": 1.2440673267212772
         },
         {
          "Actual": 1.249084285538462,
          "Predicted": 1.2311312187652839
         },
         {
          "Actual": 1.2527206703417,
          "Predicted": 1.2777368424611986
         },
         {
          "Actual": 1.3595689189163558,
          "Predicted": 1.268432443262896
         },
         {
          "Actual": 1.157740430953977,
          "Predicted": 1.273072881797928
         },
         {
          "Actual": 1.2795500828021393,
          "Predicted": 1.273072881797928
         },
         {
          "Actual": 1.434603429948559,
          "Predicted": 1.2331484587868258
         },
         {
          "Actual": 1.2254535396359634,
          "Predicted": 1.2705415318504534
         },
         {
          "Actual": 1.3298905404586734,
          "Predicted": 1.268432443262896
         },
         {
          "Actual": 1.3526737528342914,
          "Predicted": 0.22175166672735488
         },
         {
          "Actual": 1.7061017658194708,
          "Predicted": 0.22175166672735483
         },
         {
          "Actual": 1.5779600727893996,
          "Predicted": 0.31285590891743154
         },
         {
          "Actual": 1.7235980310041428,
          "Predicted": 0.3199893361740989
         },
         {
          "Actual": 1.6101077722015043,
          "Predicted": 0.8587342879265654
         },
         {
          "Actual": 1.459695606853519,
          "Predicted": 0.8547216261206287
         },
         {
          "Actual": 1.3288339734533305,
          "Predicted": 0.8587342879265654
         },
         {
          "Actual": 1.3651101990633574,
          "Predicted": 0.8587342879265654
         },
         {
          "Actual": 1.5292271764095202,
          "Predicted": 0.8587342879265654
         },
         {
          "Actual": 1.192710393216188,
          "Predicted": 0.8587342879265654
         },
         {
          "Actual": 1.3542318226351637,
          "Predicted": 0.8530706731224494
         },
         {
          "Actual": 1.2250905635748643,
          "Predicted": 0.8587342879265654
         },
         {
          "Actual": 1.315741227248062,
          "Predicted": 1.0784832860565352
         },
         {
          "Actual": 1.1141772501248064,
          "Predicted": 1.089449573141275
         },
         {
          "Actual": 1.1856689735755719,
          "Predicted": 1.088432315552761
         },
         {
          "Actual": 1.2269387705536068,
          "Predicted": 1.1117962602144558
         },
         {
          "Actual": 1.2847789580240663,
          "Predicted": 1.1117962602144555
         },
         {
          "Actual": 1.4914911552976138,
          "Predicted": 1.0784832860565354
         },
         {
          "Actual": 1.2175258589766946,
          "Predicted": 1.0784832860565352
         },
         {
          "Actual": 1.306708498363989,
          "Predicted": 1.089449573141275
         },
         {
          "Actual": 1.3463402462756422,
          "Predicted": 1.088432315552761
         },
         {
          "Actual": 1.2289404477985255,
          "Predicted": 1.1117962602144555
         },
         {
          "Actual": 0.9996523607852925,
          "Predicted": 1.0784832860565354
         },
         {
          "Actual": 1.1859892217833692,
          "Predicted": 1.0784832860565352
         },
         {
          "Actual": 1.3826661456529412,
          "Predicted": 1.089449573141275
         },
         {
          "Actual": 0.9483661625446937,
          "Predicted": 1.088432315552761
         },
         {
          "Actual": 1.306170872399329,
          "Predicted": 1.1117962602144558
         },
         {
          "Actual": 1.3776425565047916,
          "Predicted": 1.1117962602144555
         },
         {
          "Actual": 0.27313063189852205,
          "Predicted": -0.02369436896684012
         },
         {
          "Actual": 0.34070242579164417,
          "Predicted": -0.04065948411336201
         },
         {
          "Actual": -0.04144932852499177,
          "Predicted": 0.07384303804333427
         },
         {
          "Actual": 0.4814900865085734,
          "Predicted": -0.10201091912925687
         },
         {
          "Actual": 0.3213745316098836,
          "Predicted": -0.10414748419741175
         },
         {
          "Actual": 0.40246562004720554,
          "Predicted": -0.10414748419741175
         },
         {
          "Actual": 0.7464274340807118,
          "Predicted": 0.8744009965251882
         },
         {
          "Actual": 0.646000801901667,
          "Predicted": 0.8718451687793866
         },
         {
          "Actual": 0.6630722185662894,
          "Predicted": 0.8718451687793866
         },
         {
          "Actual": 0.8813215378134038,
          "Predicted": 0.835325500877949
         },
         {
          "Actual": 0.7247096965765811,
          "Predicted": 0.7854787785546626
         },
         {
          "Actual": 0.5685133536731993,
          "Predicted": 0.7854787785546626
         },
         {
          "Actual": 0.8315984356907644,
          "Predicted": 0.8744009965251882
         },
         {
          "Actual": 0.7056296503266434,
          "Predicted": 0.8718451687793866
         },
         {
          "Actual": 0.9226146494407254,
          "Predicted": 0.8718451687793866
         },
         {
          "Actual": 0.8123894284315127,
          "Predicted": 0.7854787785546626
         },
         {
          "Actual": 0.6405828872295644,
          "Predicted": 0.7854787785546626
         },
         {
          "Actual": 0.8636001002051168,
          "Predicted": 0.8718451687793866
         },
         {
          "Actual": 0.9348271373575795,
          "Predicted": 0.8718451687793866
         },
         {
          "Actual": 0.39241433016983357,
          "Predicted": 0.835325500877949
         },
         {
          "Actual": 0.7778609205186803,
          "Predicted": 0.7854787785546626
         },
         {
          "Actual": 0.8125671248312454,
          "Predicted": 0.7854787785546626
         },
         {
          "Actual": 0.6164505940750726,
          "Predicted": 0.5930470660457788
         },
         {
          "Actual": 0.4340658450578916,
          "Predicted": 0.593047066045779
         },
         {
          "Actual": 0.3611343477524533,
          "Predicted": 0.5985977915309555
         },
         {
          "Actual": 0.5230712949478806,
          "Predicted": 0.5985977915309555
         },
         {
          "Actual": 0.5101186346763437,
          "Predicted": 0.5365119746710575
         },
         {
          "Actual": 0.508223389267523,
          "Predicted": 0.5365119746710575
         },
         {
          "Actual": 0.39165464455139865,
          "Predicted": 0.5930470660457788
         },
         {
          "Actual": 0.34461625172865823,
          "Predicted": 0.593047066045779
         },
         {
          "Actual": 0.6897390056048339,
          "Predicted": 0.5985977915309555
         },
         {
          "Actual": 0.45676670809167874,
          "Predicted": 0.5985977915309555
         },
         {
          "Actual": 0.6195732948034748,
          "Predicted": 0.5365119746710575
         },
         {
          "Actual": 0.4236412750461558,
          "Predicted": 0.5365119746710575
         },
         {
          "Actual": 0.26450828544235266,
          "Predicted": 0.4736073788073119
         },
         {
          "Actual": 0.013079872878125925,
          "Predicted": 0.4736073788073119
         },
         {
          "Actual": 0.2737404104371495,
          "Predicted": 0.4736073788073119
         },
         {
          "Actual": 0.33266587126266045,
          "Predicted": 0.4736073788073119
         },
         {
          "Actual": 0.40250995339814377,
          "Predicted": 0.4736073788073119
         },
         {
          "Actual": 0.3037533419076081,
          "Predicted": 0.4736073788073119
         },
         {
          "Actual": -0.1421437511538624,
          "Predicted": -0.1650955389910113
         },
         {
          "Actual": 0.27336238991469264,
          "Predicted": -0.16509553899101123
         },
         {
          "Actual": 0.5136436138549428,
          "Predicted": -0.16509553899101126
         },
         {
          "Actual": 0.3104966973474828,
          "Predicted": -0.16509553899101126
         },
         {
          "Actual": -0.447499051534208,
          "Predicted": -0.19392727496885423
         },
         {
          "Actual": -1.7013292798225328,
          "Predicted": -0.1650955389910113
         },
         {
          "Actual": 0.13509423197788645,
          "Predicted": -0.16509553899101123
         },
         {
          "Actual": 0.5320358337799015,
          "Predicted": -0.16509553899101126
         },
         {
          "Actual": 0.31909115296853857,
          "Predicted": -0.16509553899101126
         },
         {
          "Actual": 0.2784964166735967,
          "Predicted": -0.19392727496885423
         },
         {
          "Actual": -0.6899467347328793,
          "Predicted": -0.11186487872313478
         },
         {
          "Actual": -0.00660863327718198,
          "Predicted": -0.11186487872313475
         },
         {
          "Actual": -0.46935669266477986,
          "Predicted": -0.19392727496885426
         },
         {
          "Actual": -0.0118404904364333,
          "Predicted": -0.19392727496885423
         },
         {
          "Actual": -0.0734747005689415,
          "Predicted": -0.19392727496885423
         },
         {
          "Actual": -0.47207417730944173,
          "Predicted": -0.11186487872313478
         },
         {
          "Actual": -0.5407317974039512,
          "Predicted": -0.11186487872313475
         },
         {
          "Actual": 0.0296513217889236,
          "Predicted": -0.19392727496885426
         },
         {
          "Actual": 0.02157819265335161,
          "Predicted": -0.19392727496885423
         },
         {
          "Actual": -1.6852065176171975,
          "Predicted": -0.19392727496885423
         },
         {
          "Actual": -0.18444159358052872,
          "Predicted": -0.24831501012713192
         },
         {
          "Actual": -0.31473914497499694,
          "Predicted": -0.23565131749640233
         },
         {
          "Actual": -0.011631625159525604,
          "Predicted": -0.23949433565221726
         },
         {
          "Actual": -0.7287776486206223,
          "Predicted": -0.2394943356522173
         },
         {
          "Actual": -0.3501956870722493,
          "Predicted": -0.2394943356522173
         },
         {
          "Actual": 0.029431757949288068,
          "Predicted": -0.1405652566002616
         },
         {
          "Actual": -0.5733959558695713,
          "Predicted": -0.1405652566002616
         },
         {
          "Actual": 0.19621436723909158,
          "Predicted": -0.1405652566002616
         },
         {
          "Actual": -0.07317059734633446,
          "Predicted": -0.24831501012713192
         },
         {
          "Actual": -0.005076757356954097,
          "Predicted": -0.23565131749640233
         },
         {
          "Actual": 0.01180301356314377,
          "Predicted": -0.23949433565221726
         },
         {
          "Actual": -0.054087766480417514,
          "Predicted": -0.2394943356522173
         },
         {
          "Actual": -1.7090214069091283,
          "Predicted": -0.2394943356522173
         },
         {
          "Actual": 0.01319463484325607,
          "Predicted": -0.1405652566002616
         },
         {
          "Actual": -0.3371803450700011,
          "Predicted": -0.1405652566002616
         },
         {
          "Actual": 0.3076592530093736,
          "Predicted": -0.1405652566002616
         },
         {
          "Actual": 1.501200345954593,
          "Predicted": 0.6082254359592754
         },
         {
          "Actual": 0.8149992938849808,
          "Predicted": 0.6894392657731352
         },
         {
          "Actual": 0.8606670050761946,
          "Predicted": 0.7136172435311362
         },
         {
          "Actual": 1.5161602628164532,
          "Predicted": 0.7632246933235795
         },
         {
          "Actual": 0.8127795585564874,
          "Predicted": 0.7880305781154877
         },
         {
          "Actual": 0.9445554345557803,
          "Predicted": 0.7825793794087419
         },
         {
          "Actual": 0.5677156815814038,
          "Predicted": 0.6082254359592754
         },
         {
          "Actual": 0.6555641398530894,
          "Predicted": 0.6894392657731352
         },
         {
          "Actual": 1.190095946806487,
          "Predicted": 0.7136172435311362
         },
         {
          "Actual": 0.829000373194695,
          "Predicted": 0.7632246933235795
         },
         {
          "Actual": 0.736171126980353,
          "Predicted": 0.7880305781154877
         },
         {
          "Actual": 0.7288567117394666,
          "Predicted": 0.7825793794087419
         },
         {
          "Actual": 1.3740233476368284,
          "Predicted": 0.8113718471735049
         },
         {
          "Actual": 1.312943408215505,
          "Predicted": 0.811371847173505
         },
         {
          "Actual": 1.342871419146801,
          "Predicted": 0.8113718471735047
         },
         {
          "Actual": 1.3406069421559452,
          "Predicted": 0.7152628871453285
         },
         {
          "Actual": 1.4145865789402954,
          "Predicted": 0.9084386096486604
         },
         {
          "Actual": 1.4930776637885925,
          "Predicted": 0.8113718471735047
         },
         {
          "Actual": 1.298864743313912,
          "Predicted": 0.8113718471735049
         },
         {
          "Actual": 1.1509673997230818,
          "Predicted": 0.811371847173505
         },
         {
          "Actual": 1.3442810840915256,
          "Predicted": 0.8113718471735049
         },
         {
          "Actual": 1.4572729852734685,
          "Predicted": 0.7035485082897481
         },
         {
          "Actual": 1.558015398751765,
          "Predicted": 1.10988072645401
         },
         {
          "Actual": 1.290828209214979,
          "Predicted": 0.8113718471735049
         },
         {
          "Actual": 0.04989622073881727,
          "Predicted": 0.41194580169265055
         },
         {
          "Actual": 0.5460878429539765,
          "Predicted": 0.500621783506985
         },
         {
          "Actual": 0.6024496033255738,
          "Predicted": 0.5410876705919025
         },
         {
          "Actual": 0.6128500911790697,
          "Predicted": 0.5374129844572115
         },
         {
          "Actual": 0.7909043027399142,
          "Predicted": -0.09363157387179644
         },
         {
          "Actual": 0.6481981817433136,
          "Predicted": 0.5410876705919025
         },
         {
          "Actual": 0.7100684184403644,
          "Predicted": 0.39698429374446553
         },
         {
          "Actual": 0.6517366723647708,
          "Predicted": 0.46613718674912574
         },
         {
          "Actual": 0.5955587329395702,
          "Predicted": 0.5315176148900146
         },
         {
          "Actual": 0.4137067335886843,
          "Predicted": 0.5374129844572114
         },
         {
          "Actual": 0.42874962053996474,
          "Predicted": -0.09095189671833759
         },
         {
          "Actual": 0.3531880473394375,
          "Predicted": 0.5315176148900146
         },
         {
          "Actual": 1.095155105443964,
          "Predicted": 0.8920615332475795
         },
         {
          "Actual": 1.2462665881828092,
          "Predicted": 0.8920615332475795
         },
         {
          "Actual": 1.0402702312715109,
          "Predicted": 0.8920615332475793
         },
         {
          "Actual": 1.244592206953504,
          "Predicted": 0.8920615332475793
         },
         {
          "Actual": 1.1767230332366225,
          "Predicted": 0.8920615332475793
         },
         {
          "Actual": 1.2603951390714327,
          "Predicted": 0.8920615332475795
         },
         {
          "Actual": 1.0179226422887118,
          "Predicted": 0.8920615332475795
         },
         {
          "Actual": 1.2911534473225226,
          "Predicted": 0.8920615332475795
         },
         {
          "Actual": 1.2505185266419696,
          "Predicted": 0.8920615332475795
         },
         {
          "Actual": 1.276414831048424,
          "Predicted": 0.8920615332475795
         },
         {
          "Actual": 0.9494411590222362,
          "Predicted": 0.8920615332475795
         },
         {
          "Actual": 1.2128156551831941,
          "Predicted": 0.8920615332475795
         },
         {
          "Actual": 1.1041901857293883,
          "Predicted": 0.8920615332475795
         },
         {
          "Actual": 1.0094655809106448,
          "Predicted": 0.8920615332475795
         },
         {
          "Actual": 1.207119599943584,
          "Predicted": 0.8920615332475795
         },
         {
          "Actual": 0.27721311075123645,
          "Predicted": 0.4404095056659327
         },
         {
          "Actual": 0.524615825471898,
          "Predicted": 0.43691431714559714
         },
         {
          "Actual": 0.6981657230725745,
          "Predicted": 0.4651915979716598
         },
         {
          "Actual": 0.7234118464162472,
          "Predicted": 0.5106604445131057
         },
         {
          "Actual": 0.5733001209303845,
          "Predicted": 0.49755109003732995
         },
         {
          "Actual": 0.6141478544029758,
          "Predicted": 0.4651915979716598
         },
         {
          "Actual": -0.08469011660021791,
          "Predicted": 0.42907881257192504
         },
         {
          "Actual": 0.3393641068695347,
          "Predicted": 0.49188251809052963
         },
         {
          "Actual": 0.5963241939779472,
          "Predicted": 0.5108417943485997
         },
         {
          "Actual": 0.3298792033874615,
          "Predicted": 0.4920586169222351
         },
         {
          "Actual": 0.8898782229725966,
          "Predicted": 0.5091598764835069
         },
         {
          "Actual": 0.4203883284643689,
          "Predicted": 0.5108417943485997
         },
         {
          "Actual": 1.014285063762519,
          "Predicted": 0.5338830210109602
         },
         {
          "Actual": 1.1359465750211166,
          "Predicted": 0.49545319279262673
         },
         {
          "Actual": 1.2440505477598642,
          "Predicted": 0.46516894306746015
         },
         {
          "Actual": 1.2584248123421364,
          "Predicted": 0.4740458023149527
         },
         {
          "Actual": 1.3067986706647219,
          "Predicted": 0.49049066696053123
         },
         {
          "Actual": 1.3124752932850388,
          "Predicted": 0.46516894306746015
         },
         {
          "Actual": 0.020049315250093097,
          "Predicted": 0.3002195175441652
         },
         {
          "Actual": 0.09305841393244442,
          "Predicted": 0.37150287220254513
         },
         {
          "Actual": 0.4630055238770517,
          "Predicted": 0.3737772406073344
         },
         {
          "Actual": 0.5820645932969011,
          "Predicted": 0.3783700691020493
         },
         {
          "Actual": 0.306749017053272,
          "Predicted": 0.4448852027373566
         },
         {
          "Actual": 0.3826381196358014,
          "Predicted": 0.3737772406073344
         },
         {
          "Actual": 0.3368434800425987,
          "Predicted": 0.3153565873556781
         },
         {
          "Actual": 0.2353324840362401,
          "Predicted": 0.3848433920722439
         },
         {
          "Actual": 0.5819558213079135,
          "Predicted": 0.3722430573233771
         },
         {
          "Actual": 0.28439037649195065,
          "Predicted": 0.4078763742823309
         },
         {
          "Actual": 0.6385879116841704,
          "Predicted": 0.4448852027373566
         },
         {
          "Actual": 0.5347894199002113,
          "Predicted": 0.3722430573233771
         },
         {
          "Actual": -0.06418293104105396,
          "Predicted": 0.3139930684105876
         },
         {
          "Actual": -0.13059151292742882,
          "Predicted": 0.3715028722025451
         },
         {
          "Actual": 0.5415807880803777,
          "Predicted": 0.37377724060733436
         },
         {
          "Actual": 0.5466599509221544,
          "Predicted": 0.3783700691020493
         },
         {
          "Actual": 0.8022978394673996,
          "Predicted": 0.4448852027373566
         },
         {
          "Actual": 0.3440893572036831,
          "Predicted": 0.37377724060733436
         }
        ]
       },
       "encoding": {
        "tooltip": [
         {
          "field": "Actual",
          "type": "quantitative"
         },
         {
          "field": "Predicted",
          "type": "quantitative"
         }
        ],
        "x": {
         "field": "Actual",
         "type": "quantitative"
        },
        "y": {
         "field": "Predicted",
         "type": "quantitative"
        }
       },
       "mark": "point",
       "selection": {
        "selector001": {
         "bind": "scales",
         "encodings": [
          "x",
          "y"
         ],
         "type": "interval"
        }
       }
      },
      "image/png": "[encoded data removed]",
      "text/plain": [
       "<VegaLite 3 object>\n",
       "\n",
       "If you see this message, it means the renderer has not been properly enabled\n",
       "for the frontend that you are using. For more information, see\n",
       "https://altair-viz.github.io/user_guide/troubleshooting.html\n"
      ]
     },
     "execution_count": 34,
     "metadata": {},
     "output_type": "execute_result"
    }
   ],
   "source": [
    "import altair as alt\n",
    "alt.Chart(pd.DataFrame({\"Actual\": Y_train[:,0],\n",
    "                        \"Predicted\": knn.predict(X_train)[:,0]})).\\\n",
    "  mark_point().\\\n",
    "  encode(x=\"Actual\", y = \"Predicted\", tooltip=['Actual', 'Predicted']).\\\n",
    "  interactive()"
   ]
  },
  {
   "cell_type": "raw",
   "metadata": {},
   "source": []
  },
  {
   "cell_type": "raw",
   "metadata": {},
   "source": []
  },
  {
   "cell_type": "raw",
   "metadata": {},
   "source": [
    "# Pour exploration des valeurs identiques d'ilr\n",
    "ver = id_table.loc[blocks.isin(blocks_inTrain)]\n",
    "ver.shape"
   ]
  },
  {
   "cell_type": "raw",
   "metadata": {},
   "source": [
    "df = pd.DataFrame(np.round(Y_train, 6))\n",
    "df.columns = ['obsv']\n",
    "df['pred'] = np.round(knn.predict(X_train), 6)\n",
    "df.shape"
   ]
  },
  {
   "cell_type": "raw",
   "metadata": {},
   "source": [
    "df_c = pd.concat([ver.reset_index(drop=True), df], axis=1)\n",
    "df_c.to_csv('output/df.csv')\n",
    "df_c.head()"
   ]
  },
  {
   "cell_type": "raw",
   "metadata": {},
   "source": []
  },
  {
   "cell_type": "raw",
   "metadata": {},
   "source": []
  },
  {
   "cell_type": "markdown",
   "metadata": {},
   "source": [
    "### Random forest __RF__ algorithm\n",
    "#### _The default parameters_"
   ]
  },
  {
   "cell_type": "code",
   "execution_count": 35,
   "metadata": {},
   "outputs": [],
   "source": [
    "from sklearn.ensemble import RandomForestRegressor"
   ]
  },
  {
   "cell_type": "code",
   "execution_count": 36,
   "metadata": {},
   "outputs": [
    {
     "name": "stdout",
     "output_type": "stream",
     "text": [
      "Parameters currently in use:\n",
      "\n",
      "{'bootstrap': True,\n",
      " 'criterion': 'mse',\n",
      " 'max_depth': None,\n",
      " 'max_features': 'auto',\n",
      " 'max_leaf_nodes': None,\n",
      " 'min_impurity_decrease': 0.0,\n",
      " 'min_impurity_split': None,\n",
      " 'min_samples_leaf': 1,\n",
      " 'min_samples_split': 2,\n",
      " 'min_weight_fraction_leaf': 0.0,\n",
      " 'n_estimators': 'warn',\n",
      " 'n_jobs': None,\n",
      " 'oob_score': False,\n",
      " 'random_state': 1,\n",
      " 'verbose': 0,\n",
      " 'warm_start': False}\n"
     ]
    }
   ],
   "source": [
    "rf_reg = RandomForestRegressor(random_state = 1)\n",
    "print('Parameters currently in use:\\n')\n",
    "pprint(rf_reg.get_params())"
   ]
  },
  {
   "cell_type": "markdown",
   "metadata": {},
   "source": [
    "#### _Optimisation_\n",
    "The most important settings are the number of trees in the forest (`n_estimators`) and the number of features considered for splitting at each leaf node (`max_features`). The `max_features` is set to its default value `'auto'`, while I try out a wide range of values to see what works for `n_estimators`."
   ]
  },
  {
   "cell_type": "raw",
   "metadata": {},
   "source": [
    "rf_param = {'n_estimators': stats.randint(10, 100)} # number of trees in the forest\n",
    "n_iter_search = 50"
   ]
  },
  {
   "cell_type": "raw",
   "metadata": {},
   "source": [
    "print(\"\\nRunning random search to tune up RF hyperparameters ...\")\n",
    "start_time = time.time()\n",
    "rf_random_search = RandomizedSearchCV(estimator = rf_reg, param_distributions = rf_param, n_iter = n_iter_search, cv = 10)\n",
    "rf_random_search.fit(X_train, Y_train.ravel())\n",
    "print(\"Duration: %s secondes ---\" % (time.time() - start_time))\n",
    "rf_random_search.best_estimator_"
   ]
  },
  {
   "cell_type": "markdown",
   "metadata": {},
   "source": [
    "#### _The best parameters_\n",
    "The best parameters from fitting the random search could be viewed with `rf_random_search.best_estimator_`. They are stored in the raw chunk below."
   ]
  },
  {
   "cell_type": "raw",
   "metadata": {},
   "source": [
    "rf_random_search.best_estimator_ =\n",
    "RandomForestRegressor(bootstrap=True, criterion='mse', max_depth=None,\n",
    "                      max_features='auto', max_leaf_nodes=None,\n",
    "                      min_impurity_decrease=0.0, min_impurity_split=None,\n",
    "                      min_samples_leaf=1, min_samples_split=2,\n",
    "                      min_weight_fraction_leaf=0.0, n_estimators=12,\n",
    "                      n_jobs=None, oob_score=False, random_state=1, verbose=0,\n",
    "                      warm_start=False)"
   ]
  },
  {
   "cell_type": "markdown",
   "metadata": {},
   "source": [
    "#### _The optimal model_"
   ]
  },
  {
   "cell_type": "code",
   "execution_count": 37,
   "metadata": {},
   "outputs": [],
   "source": [
    "rf_reg = RandomForestRegressor(bootstrap=True, criterion='mse', max_depth=None,\n",
    "                      max_features='auto', max_leaf_nodes=None,\n",
    "                      min_impurity_decrease=0.0, min_impurity_split=None,\n",
    "                      min_samples_leaf=1, min_samples_split=2,\n",
    "                      min_weight_fraction_leaf=0.0, n_estimators=12,\n",
    "                      n_jobs=None, oob_score=False, random_state=1, verbose=0,\n",
    "                      warm_start=False)\n",
    "rfm = rf_reg.fit(X_train, Y_train.ravel())"
   ]
  },
  {
   "cell_type": "markdown",
   "metadata": {},
   "source": [
    "Performance in train and test (rfm)"
   ]
  },
  {
   "cell_type": "code",
   "execution_count": 38,
   "metadata": {},
   "outputs": [],
   "source": [
    "Y_train_predrf = rfm.predict(X_train) * std_respvars.values + mean_respvars.values\n",
    "Y_test_predrf =  rfm.predict(X_test) * std_respvars.values + mean_respvars.values"
   ]
  },
  {
   "cell_type": "code",
   "execution_count": 39,
   "metadata": {},
   "outputs": [
    {
     "data": {
      "text/html": [
       "<div>\n",
       "<style scoped>\n",
       "    .dataframe tbody tr th:only-of-type {\n",
       "        vertical-align: middle;\n",
       "    }\n",
       "\n",
       "    .dataframe tbody tr th {\n",
       "        vertical-align: top;\n",
       "    }\n",
       "\n",
       "    .dataframe thead th {\n",
       "        text-align: right;\n",
       "    }\n",
       "</style>\n",
       "<table border=\"1\" class=\"dataframe\">\n",
       "  <thead>\n",
       "    <tr style=\"text-align: right;\">\n",
       "      <th></th>\n",
       "      <th>Train_R2</th>\n",
       "      <th>Train_MAE</th>\n",
       "      <th>Train_RMSE</th>\n",
       "      <th>Test_R2</th>\n",
       "      <th>Test_MAE</th>\n",
       "      <th>Test_RMSE</th>\n",
       "    </tr>\n",
       "  </thead>\n",
       "  <tbody>\n",
       "    <tr>\n",
       "      <th>Random forest</th>\n",
       "      <td>0.873</td>\n",
       "      <td>0.3942</td>\n",
       "      <td>0.6571</td>\n",
       "      <td>0.571</td>\n",
       "      <td>0.8174</td>\n",
       "      <td>1.156</td>\n",
       "    </tr>\n",
       "  </tbody>\n",
       "</table>\n",
       "</div>"
      ],
      "text/plain": [
       "               Train_R2  Train_MAE  Train_RMSE  Test_R2  Test_MAE  Test_RMSE\n",
       "Random forest     0.873     0.3942      0.6571    0.571    0.8174      1.156"
      ]
     },
     "execution_count": 39,
     "metadata": {},
     "output_type": "execute_result"
    }
   ],
   "source": [
    "index = ['Random forest']\n",
    "rf_scores = pd.DataFrame({\"Train_R2\": r2_score(Y_train, rfm.predict(X_train)).round(3), \n",
    "                          \"Train_MAE\": mean_absolute_error(Y_train_obs, Y_train_predrf).round(4),\n",
    "                           \"Train_RMSE\": np.sqrt(mean_squared_error(Y_train_obs, Y_train_predrf)).round(4),\n",
    "                           \"Test_R2\": r2_score(Y_test, rfm.predict(X_test)).round(3),\n",
    "                           \"Test_MAE\": mean_absolute_error(Y_test_obs, Y_test_predrf).round(4),\n",
    "                           \"Test_RMSE\": np.sqrt(mean_squared_error(Y_test_obs, Y_test_predrf)).round(4)}, \n",
    "                          index = index)\n",
    "rf_scores"
   ]
  },
  {
   "cell_type": "markdown",
   "metadata": {},
   "source": [
    "The __rf__ ressults plot"
   ]
  },
  {
   "cell_type": "code",
   "execution_count": 40,
   "metadata": {},
   "outputs": [
    {
     "data": {
      "text/plain": [
       "Text(0.5, 0, 'Mesured yield ($Mg ha^{-1})$')"
      ]
     },
     "execution_count": 40,
     "metadata": {},
     "output_type": "execute_result"
    },
    {
     "data": {
      "image/png": "[encoded data removed]",
      "text/plain": [
       "<Figure size 432x288 with 2 Axes>"
      ]
     },
     "metadata": {
      "needs_background": "light"
     },
     "output_type": "display_data"
    }
   ],
   "source": [
    "#fig = plt.figure(figsize=(10, 5))\n",
    "plt.subplot(1, 2, 1)\n",
    "plt.plot(Y_train, rfm.predict(X_train), marker = 'o', color = 'grey', linestyle = 'None', alpha = 0.2)\n",
    "plt.plot([-3, 3], [-3, 3], color = 'black', linewidth = 2)\n",
    "plt.title('Training', fontsize = 16)\n",
    "plt.xlabel(r'Mesured yield ($Mg ha^{-1})$', fontsize = 16)\n",
    "plt.ylabel(r'Predicted yield ($Mg ha^{-1})$', fontsize = 16)\n",
    "\n",
    "plt.subplot(1, 2, 2)\n",
    "plt.plot(Y_test, rfm.predict(X_test), marker = 'o', color = 'grey', linestyle = 'None', alpha = 0.2)\n",
    "plt.plot([-3, 3], [-3, 3], color = 'black', linewidth = 2)\n",
    "plt.title('Testing', fontsize = 16)\n",
    "plt.xlabel(r'Mesured yield ($Mg ha^{-1})$', fontsize = 16)"
   ]
  },
  {
   "cell_type": "markdown",
   "metadata": {},
   "source": [
    "### Neural Networks __NN__\n",
    "#### _The default parameters_"
   ]
  },
  {
   "cell_type": "code",
   "execution_count": 41,
   "metadata": {},
   "outputs": [],
   "source": [
    "from sklearn.neural_network import MLPRegressor"
   ]
  },
  {
   "cell_type": "code",
   "execution_count": 42,
   "metadata": {},
   "outputs": [
    {
     "name": "stdout",
     "output_type": "stream",
     "text": [
      "Parameters currently in use:\n",
      "\n",
      "{'activation': 'relu',\n",
      " 'alpha': 0.0001,\n",
      " 'batch_size': 'auto',\n",
      " 'beta_1': 0.9,\n",
      " 'beta_2': 0.999,\n",
      " 'early_stopping': False,\n",
      " 'epsilon': 1e-08,\n",
      " 'hidden_layer_sizes': (100,),\n",
      " 'learning_rate': 'constant',\n",
      " 'learning_rate_init': 0.001,\n",
      " 'max_iter': 500,\n",
      " 'momentum': 0.9,\n",
      " 'n_iter_no_change': 10,\n",
      " 'nesterovs_momentum': True,\n",
      " 'power_t': 0.5,\n",
      " 'random_state': None,\n",
      " 'shuffle': True,\n",
      " 'solver': 'adam',\n",
      " 'tol': 0.0001,\n",
      " 'validation_fraction': 0.1,\n",
      " 'verbose': False,\n",
      " 'warm_start': False}\n"
     ]
    }
   ],
   "source": [
    "nn_reg = MLPRegressor(max_iter = 500)\n",
    "print('Parameters currently in use:\\n')\n",
    "pprint(nn_reg.get_params())"
   ]
  },
  {
   "cell_type": "markdown",
   "metadata": {},
   "source": [
    "#### _Optimization_ "
   ]
  },
  {
   "cell_type": "raw",
   "metadata": {},
   "source": [
    "nn_param = {'hidden_layer_sizes': (100, 200, 200, 100), \n",
    "            'activation': ['tanh', 'relu']}"
   ]
  },
  {
   "cell_type": "raw",
   "metadata": {},
   "source": [
    "nn_reg = MLPRegressor(max_iter = 500)\n",
    "print(\"\\nRunning random search to tune up NN hyperparameters ...\")\n",
    "start_time = time.time()\n",
    "nn_random_search = RandomizedSearchCV(estimator = nn_reg, param_distributions = nn_param, cv = 10)\n",
    "nn_random_search.fit(X_train, Y_train.ravel())\n",
    "print(\"Duration: %s secondes ---\" % (time.time() - start_time))\n",
    "nn_random_search.best_estimator_"
   ]
  },
  {
   "cell_type": "raw",
   "metadata": {},
   "source": [
    "nn_random_search.best_params_ =\n",
    "MLPRegressor(activation='tanh', alpha=0.0001, batch_size='auto', beta_1=0.9,\n",
    "             beta_2=0.999, early_stopping=False, epsilon=1e-08,\n",
    "             hidden_layer_sizes=200, learning_rate='constant',\n",
    "             learning_rate_init=0.001, max_iter=500, momentum=0.9,\n",
    "             n_iter_no_change=10, nesterovs_momentum=True, power_t=0.5,\n",
    "             random_state=None, shuffle=True, solver='adam', tol=0.0001,\n",
    "             validation_fraction=0.1, verbose=False, warm_start=False)"
   ]
  },
  {
   "cell_type": "markdown",
   "metadata": {},
   "source": [
    "#### _The optimal network_"
   ]
  },
  {
   "cell_type": "code",
   "execution_count": 43,
   "metadata": {},
   "outputs": [],
   "source": [
    "nn_reg = MLPRegressor(activation='tanh', alpha=0.0001, batch_size='auto', beta_1=0.9,\n",
    "             beta_2=0.999, early_stopping=False, epsilon=1e-08,\n",
    "             hidden_layer_sizes=200, learning_rate='constant',\n",
    "             learning_rate_init=0.001, max_iter=500, momentum=0.9,\n",
    "             n_iter_no_change=10, nesterovs_momentum=True, power_t=0.5,\n",
    "             random_state=None, shuffle=True, solver='adam', tol=0.0001,\n",
    "             validation_fraction=0.1, verbose=False, warm_start=False)\n",
    "nn = nn_reg.fit(X_train, Y_train.ravel())"
   ]
  },
  {
   "cell_type": "markdown",
   "metadata": {},
   "source": [
    "The __nn__ performance in train and test"
   ]
  },
  {
   "cell_type": "code",
   "execution_count": 44,
   "metadata": {},
   "outputs": [],
   "source": [
    "Y_train_prednn = nn.predict(X_train) * std_respvars.values + mean_respvars.values\n",
    "Y_test_prednn =  nn.predict(X_test) * std_respvars.values + mean_respvars.values"
   ]
  },
  {
   "cell_type": "code",
   "execution_count": 45,
   "metadata": {},
   "outputs": [
    {
     "data": {
      "text/html": [
       "<div>\n",
       "<style scoped>\n",
       "    .dataframe tbody tr th:only-of-type {\n",
       "        vertical-align: middle;\n",
       "    }\n",
       "\n",
       "    .dataframe tbody tr th {\n",
       "        vertical-align: top;\n",
       "    }\n",
       "\n",
       "    .dataframe thead th {\n",
       "        text-align: right;\n",
       "    }\n",
       "</style>\n",
       "<table border=\"1\" class=\"dataframe\">\n",
       "  <thead>\n",
       "    <tr style=\"text-align: right;\">\n",
       "      <th></th>\n",
       "      <th>Train_R2</th>\n",
       "      <th>Train_MAE</th>\n",
       "      <th>Train_RMSE</th>\n",
       "      <th>Test_R2</th>\n",
       "      <th>Test_MAE</th>\n",
       "      <th>Test_RMSE</th>\n",
       "    </tr>\n",
       "  </thead>\n",
       "  <tbody>\n",
       "    <tr>\n",
       "      <th>Neural networks</th>\n",
       "      <td>0.729</td>\n",
       "      <td>0.7063</td>\n",
       "      <td>0.9594</td>\n",
       "      <td>0.57</td>\n",
       "      <td>0.8627</td>\n",
       "      <td>1.1582</td>\n",
       "    </tr>\n",
       "  </tbody>\n",
       "</table>\n",
       "</div>"
      ],
      "text/plain": [
       "                 Train_R2  Train_MAE  Train_RMSE  Test_R2  Test_MAE  Test_RMSE\n",
       "Neural networks     0.729     0.7063      0.9594     0.57    0.8627     1.1582"
      ]
     },
     "execution_count": 45,
     "metadata": {},
     "output_type": "execute_result"
    }
   ],
   "source": [
    "index = ['Neural networks']\n",
    "nn_scores = pd.DataFrame({\"Train_R2\": r2_score(Y_train, nn.predict(X_train)).round(3), \n",
    "                           \"Train_MAE\": mean_absolute_error(Y_train_obs, Y_train_prednn).round(4),\n",
    "                           \"Train_RMSE\": np.sqrt(mean_squared_error(Y_train_obs, Y_train_prednn)).round(4),\n",
    "                           \"Test_R2\": r2_score(Y_test, nn.predict(X_test)).round(3),\n",
    "                           \"Test_MAE\": mean_absolute_error(Y_test_obs, Y_test_prednn).round(4),\n",
    "                           \"Test_RMSE\": np.sqrt(mean_squared_error(Y_test_obs, Y_test_prednn)).round(4)}, \n",
    "                           index = index)\n",
    "nn_scores"
   ]
  },
  {
   "cell_type": "markdown",
   "metadata": {},
   "source": [
    "The network ressults plot"
   ]
  },
  {
   "cell_type": "code",
   "execution_count": 46,
   "metadata": {},
   "outputs": [
    {
     "data": {
      "text/plain": [
       "Text(0.5, 1.0, 'Test')"
      ]
     },
     "execution_count": 46,
     "metadata": {},
     "output_type": "execute_result"
    },
    {
     "data": {
      "image/png": "[encoded data removed]",
      "text/plain": [
       "<Figure size 432x288 with 2 Axes>"
      ]
     },
     "metadata": {
      "needs_background": "light"
     },
     "output_type": "display_data"
    }
   ],
   "source": [
    "plt.subplot(1, 2, 1)\n",
    "plt.plot(Y_train, nn.predict(X_train), marker = 'x', color = 'blue', linestyle = 'None', alpha = 0.2)\n",
    "plt.plot([-3, 3], [-3, 3], color = 'black', linewidth = 2)\n",
    "plt.title('Train')\n",
    "\n",
    "plt.subplot(1, 2, 2)\n",
    "plt.plot(Y_test, nn.predict(X_test), marker = 'x', color = 'red', linestyle = 'None', alpha = 0.2)\n",
    "plt.plot([-3, 3], [-3, 3], color='black', linewidth=2)\n",
    "plt.title('Test')"
   ]
  },
  {
   "cell_type": "markdown",
   "metadata": {},
   "source": [
    "### Gaussian process __GP__ model \n",
    "#### _The default parameters_"
   ]
  },
  {
   "cell_type": "code",
   "execution_count": 47,
   "metadata": {},
   "outputs": [],
   "source": [
    "from sklearn.gaussian_process import GaussianProcessRegressor"
   ]
  },
  {
   "cell_type": "code",
   "execution_count": 48,
   "metadata": {},
   "outputs": [
    {
     "name": "stdout",
     "output_type": "stream",
     "text": [
      "Parameters currently in use:\n",
      "\n",
      "{'alpha': 1e-10,\n",
      " 'copy_X_train': True,\n",
      " 'kernel': None,\n",
      " 'n_restarts_optimizer': 0,\n",
      " 'normalize_y': False,\n",
      " 'optimizer': 'fmin_l_bfgs_b',\n",
      " 'random_state': None}\n"
     ]
    }
   ],
   "source": [
    "gp_reg = GaussianProcessRegressor()\n",
    "print('Parameters currently in use:\\n')\n",
    "pprint(gp_reg.get_params())"
   ]
  },
  {
   "cell_type": "markdown",
   "metadata": {},
   "source": [
    "#### _Optimisation_"
   ]
  },
  {
   "cell_type": "code",
   "execution_count": 49,
   "metadata": {},
   "outputs": [],
   "source": [
    "from sklearn.gaussian_process.kernels import RBF, Matern, WhiteKernel"
   ]
  },
  {
   "cell_type": "raw",
   "metadata": {},
   "source": [
    "kernel_list = [RBF(length_scale = 1, length_scale_bounds = (1e-3, 1e5))]\n",
    "kernel_list.append(RBF(length_scale = 10, length_scale_bounds = (1e-3, 1e5)))\n",
    "kernel_list.append(RBF(length_scale = 100, length_scale_bounds = (1e-3, 1e5)))\n",
    "kernel_list.append(Matern(length_scale = 1, length_scale_bounds = (1e-3, 1e5)))\n",
    "kernel_list.append(Matern(length_scale = 1, length_scale_bounds = (1e-3, 1e5)) + WhiteKernel(noise_level = 0.2))\n",
    "kernel_list.append(Matern(length_scale = 1, length_scale_bounds = (1e-3, 1e5)) + WhiteKernel(noise_level = 0.1))"
   ]
  },
  {
   "cell_type": "raw",
   "metadata": {},
   "source": [
    "gp_param = {\"kernel\": kernel_list,\n",
    "            \"alpha\": stats.uniform(0, 1)}\n",
    "n_iter_search = 50"
   ]
  },
  {
   "cell_type": "raw",
   "metadata": {},
   "source": [
    "print(\"\\nRunning random search to tune up GP hyperparameters ...\")\n",
    "start_time = time.time()\n",
    "gp_random_search = RandomizedSearchCV(estimator = gp_reg, param_distributions = gp_param, n_iter = n_iter_search, cv = 3)\n",
    "gp_random_search.fit(X_train, Y_train)\n",
    "print(\"Duration: %s secondes ---\" % (time.time() - start_time))\n",
    "gp_random_search.best_estimator_"
   ]
  },
  {
   "cell_type": "raw",
   "metadata": {},
   "source": [
    "gp_random_search.best_params_ =\n",
    "GaussianProcessRegressor(alpha=0.13643611525341148, copy_X_train=True,\n",
    "                         kernel=Matern(length_scale=1, nu=1.5),\n",
    "                         n_restarts_optimizer=0, normalize_y=False,\n",
    "                         optimizer='fmin_l_bfgs_b', random_state=None)"
   ]
  },
  {
   "cell_type": "markdown",
   "metadata": {},
   "source": [
    "The optimal __gp__ model\n",
    "\n",
    "Once the model has been optimized, I ran it again with more restarts. The __gp__ object (the model) was run then exported as a joblib file. To avoid fitting the model on each kernel restart, the fitting has been greyed out in favor of an import of the joblib file."
   ]
  },
  {
   "cell_type": "code",
   "execution_count": 50,
   "metadata": {},
   "outputs": [],
   "source": [
    "gp_reg = GaussianProcessRegressor(alpha=0.13643611525341148, copy_X_train=True,\n",
    "                         kernel=Matern(length_scale=1, nu=1.5),\n",
    "                         n_restarts_optimizer=0, normalize_y=False,\n",
    "                         optimizer='fmin_l_bfgs_b', random_state=None)\n",
    "gpl = gp_reg.fit(X_train, Y_train) # gpl 'l' for ratio with large size tubers."
   ]
  },
  {
   "cell_type": "markdown",
   "metadata": {},
   "source": [
    "The __gp__ performance in train and test"
   ]
  },
  {
   "cell_type": "code",
   "execution_count": 51,
   "metadata": {},
   "outputs": [],
   "source": [
    "Y_train_predgp = gpl.predict(X_train) * std_respvars.values + mean_respvars.values\n",
    "Y_test_predgp =  gpl.predict(X_test) * std_respvars.values + mean_respvars.values"
   ]
  },
  {
   "cell_type": "code",
   "execution_count": 52,
   "metadata": {},
   "outputs": [
    {
     "data": {
      "text/html": [
       "<div>\n",
       "<style scoped>\n",
       "    .dataframe tbody tr th:only-of-type {\n",
       "        vertical-align: middle;\n",
       "    }\n",
       "\n",
       "    .dataframe tbody tr th {\n",
       "        vertical-align: top;\n",
       "    }\n",
       "\n",
       "    .dataframe thead th {\n",
       "        text-align: right;\n",
       "    }\n",
       "</style>\n",
       "<table border=\"1\" class=\"dataframe\">\n",
       "  <thead>\n",
       "    <tr style=\"text-align: right;\">\n",
       "      <th></th>\n",
       "      <th>Train_R2</th>\n",
       "      <th>Train_MAE</th>\n",
       "      <th>Train_RMSE</th>\n",
       "      <th>Test_R2</th>\n",
       "      <th>Test_MAE</th>\n",
       "      <th>Test_RMSE</th>\n",
       "    </tr>\n",
       "  </thead>\n",
       "  <tbody>\n",
       "    <tr>\n",
       "      <th>Gaussian processes</th>\n",
       "      <td>0.831</td>\n",
       "      <td>0.5076</td>\n",
       "      <td>0.7566</td>\n",
       "      <td>0.643</td>\n",
       "      <td>0.7613</td>\n",
       "      <td>1.0553</td>\n",
       "    </tr>\n",
       "  </tbody>\n",
       "</table>\n",
       "</div>"
      ],
      "text/plain": [
       "                    Train_R2  Train_MAE  Train_RMSE  Test_R2  Test_MAE  \\\n",
       "Gaussian processes     0.831     0.5076      0.7566    0.643    0.7613   \n",
       "\n",
       "                    Test_RMSE  \n",
       "Gaussian processes     1.0553  "
      ]
     },
     "execution_count": 52,
     "metadata": {},
     "output_type": "execute_result"
    }
   ],
   "source": [
    "index = ['Gaussian processes']\n",
    "gp_scores = pd.DataFrame({\"Train_R2\": r2_score(Y_train, gpl.predict(X_train)).round(3), \n",
    "                          \"Train_MAE\": mean_absolute_error(Y_train_obs, Y_train_predgp).round(4),\n",
    "                           \"Train_RMSE\": np.sqrt(mean_squared_error(Y_train_obs, Y_train_predgp)).round(4),\n",
    "                           \"Test_R2\": r2_score(Y_test, gpl.predict(X_test)).round(3),\n",
    "                           \"Test_MAE\": mean_absolute_error(Y_test_obs, Y_test_predgp).round(4),\n",
    "                           \"Test_RMSE\": np.sqrt(mean_squared_error(Y_test_obs, Y_test_predgp)).round(4)}, \n",
    "                           index = index)\n",
    "gp_scores"
   ]
  },
  {
   "cell_type": "raw",
   "metadata": {},
   "source": [
    "# The backup \n",
    "import joblib\n",
    "joblib.dump(gpl, 'models/gpl.joblib')"
   ]
  },
  {
   "cell_type": "raw",
   "metadata": {},
   "source": [
    "# To load the model\n",
    "import joblib\n",
    "gpl = joblib.load('models/gpl.joblib')"
   ]
  },
  {
   "cell_type": "markdown",
   "metadata": {},
   "source": [
    "The __gp__ ressults plot"
   ]
  },
  {
   "cell_type": "code",
   "execution_count": 53,
   "metadata": {},
   "outputs": [
    {
     "data": {
      "image/png": "[encoded data removed]",
      "text/plain": [
       "<Figure size 432x288 with 2 Axes>"
      ]
     },
     "metadata": {
      "needs_background": "light"
     },
     "output_type": "display_data"
    }
   ],
   "source": [
    "counter = 1\n",
    "for i in range(len(resp_vars)):\n",
    "    plt.subplot(len(resp_vars), 2, counter)\n",
    "    plt.plot(Y_train[:, 0], gpl.predict(X_train), marker = 'x', color = 'blue', linestyle = 'None', alpha = 0.2)\n",
    "    plt.plot([-3, 3], [-3, 3], color = 'black', linewidth = 2)\n",
    "    plt.title('Train')\n",
    "\n",
    "    plt.subplot(1, 2, counter + 1)\n",
    "    plt.plot(Y_test[:, 0], gpl.predict(X_test), marker = 'x', color = 'red', linestyle = 'None', alpha = 0.2)\n",
    "    plt.plot([-3, 3], [-3, 3], color = 'black', linewidth = 2)\n",
    "    plt.title('Test')\n",
    "    \n",
    "    counter = counter + 1"
   ]
  },
  {
   "cell_type": "markdown",
   "metadata": {},
   "source": [
    "This chain concatenates scores of the models"
   ]
  },
  {
   "cell_type": "code",
   "execution_count": 54,
   "metadata": {},
   "outputs": [
    {
     "data": {
      "text/html": [
       "<div>\n",
       "<style scoped>\n",
       "    .dataframe tbody tr th:only-of-type {\n",
       "        vertical-align: middle;\n",
       "    }\n",
       "\n",
       "    .dataframe tbody tr th {\n",
       "        vertical-align: top;\n",
       "    }\n",
       "\n",
       "    .dataframe thead th {\n",
       "        text-align: right;\n",
       "    }\n",
       "</style>\n",
       "<table border=\"1\" class=\"dataframe\">\n",
       "  <thead>\n",
       "    <tr style=\"text-align: right;\">\n",
       "      <th></th>\n",
       "      <th>Train_R2</th>\n",
       "      <th>Train_MAE</th>\n",
       "      <th>Train_RMSE</th>\n",
       "      <th>Test_R2</th>\n",
       "      <th>Test_MAE</th>\n",
       "      <th>Test_RMSE</th>\n",
       "      <th>Target</th>\n",
       "    </tr>\n",
       "  </thead>\n",
       "  <tbody>\n",
       "    <tr>\n",
       "      <th>k-nearest neighbors</th>\n",
       "      <td>0.716</td>\n",
       "      <td>0.7144</td>\n",
       "      <td>0.9811</td>\n",
       "      <td>0.551</td>\n",
       "      <td>0.9069</td>\n",
       "      <td>1.1830</td>\n",
       "      <td>[M, S | L]</td>\n",
       "    </tr>\n",
       "    <tr>\n",
       "      <th>Random forest</th>\n",
       "      <td>0.873</td>\n",
       "      <td>0.3942</td>\n",
       "      <td>0.6571</td>\n",
       "      <td>0.571</td>\n",
       "      <td>0.8174</td>\n",
       "      <td>1.1560</td>\n",
       "      <td>[M, S | L]</td>\n",
       "    </tr>\n",
       "    <tr>\n",
       "      <th>Neural networks</th>\n",
       "      <td>0.729</td>\n",
       "      <td>0.7063</td>\n",
       "      <td>0.9594</td>\n",
       "      <td>0.570</td>\n",
       "      <td>0.8627</td>\n",
       "      <td>1.1582</td>\n",
       "      <td>[M, S | L]</td>\n",
       "    </tr>\n",
       "    <tr>\n",
       "      <th>Gaussian processes</th>\n",
       "      <td>0.831</td>\n",
       "      <td>0.5076</td>\n",
       "      <td>0.7566</td>\n",
       "      <td>0.643</td>\n",
       "      <td>0.7613</td>\n",
       "      <td>1.0553</td>\n",
       "      <td>[M, S | L]</td>\n",
       "    </tr>\n",
       "  </tbody>\n",
       "</table>\n",
       "</div>"
      ],
      "text/plain": [
       "                     Train_R2  Train_MAE  Train_RMSE  Test_R2  Test_MAE  \\\n",
       "k-nearest neighbors     0.716     0.7144      0.9811    0.551    0.9069   \n",
       "Random forest           0.873     0.3942      0.6571    0.571    0.8174   \n",
       "Neural networks         0.729     0.7063      0.9594    0.570    0.8627   \n",
       "Gaussian processes      0.831     0.5076      0.7566    0.643    0.7613   \n",
       "\n",
       "                     Test_RMSE      Target  \n",
       "k-nearest neighbors     1.1830  [M, S | L]  \n",
       "Random forest           1.1560  [M, S | L]  \n",
       "Neural networks         1.1582  [M, S | L]  \n",
       "Gaussian processes      1.0553  [M, S | L]  "
      ]
     },
     "execution_count": 54,
     "metadata": {},
     "output_type": "execute_result"
    }
   ],
   "source": [
    "scoresTsmsl = pd.concat([knn_scores, rf_scores, nn_scores, gp_scores], axis = 0, ignore_index = False)\n",
    "scoresTsmsl['Target'] = '[M, S | L]'\n",
    "scoresTsmsl.to_csv('output/scoresTsmsl.csv')\n",
    "scoresTsmsl"
   ]
  },
  {
   "cell_type": "markdown",
   "metadata": {},
   "source": [
    "### Point estimation: prediction of agronomic optimal __NPK__ dosage\n",
    "\n",
    "#### Create a table to model\n",
    "\n",
    "The same random row used in the preceding notebook `1.4.1_ml-marketable-yield-model.ipynb` is repoted here as the example where the model is used for diagnosis. The row is referenced by its index."
   ]
  },
  {
   "cell_type": "code",
   "execution_count": 55,
   "metadata": {},
   "outputs": [
    {
     "data": {
      "text/html": [
       "<div>\n",
       "<style scoped>\n",
       "    .dataframe tbody tr th:only-of-type {\n",
       "        vertical-align: middle;\n",
       "    }\n",
       "\n",
       "    .dataframe tbody tr th {\n",
       "        vertical-align: top;\n",
       "    }\n",
       "\n",
       "    .dataframe thead th {\n",
       "        text-align: right;\n",
       "    }\n",
       "</style>\n",
       "<table border=\"1\" class=\"dataframe\">\n",
       "  <thead>\n",
       "    <tr style=\"text-align: right;\">\n",
       "      <th></th>\n",
       "      <th>NoEssai</th>\n",
       "      <th>test_type</th>\n",
       "      <th>ID</th>\n",
       "    </tr>\n",
       "  </thead>\n",
       "  <tbody>\n",
       "    <tr>\n",
       "      <th>2304</th>\n",
       "      <td>194</td>\n",
       "      <td>P</td>\n",
       "      <td>194-2-4</td>\n",
       "    </tr>\n",
       "  </tbody>\n",
       "</table>\n",
       "</div>"
      ],
      "text/plain": [
       "      NoEssai test_type       ID\n",
       "2304      194         P  194-2-4"
      ]
     },
     "execution_count": 55,
     "metadata": {},
     "output_type": "execute_result"
    }
   ],
   "source": [
    "r_sample = pd.read_csv('output/r_sample.csv')\n",
    "r_sample = id_table.loc[id_table.ID == r_sample.ID.values[0], [\"NoEssai\", \"test_type\", \"ID\"]]\n",
    "r_sample"
   ]
  },
  {
   "cell_type": "code",
   "execution_count": 56,
   "metadata": {},
   "outputs": [
    {
     "data": {
      "text/plain": [
       "2304"
      ]
     },
     "execution_count": 56,
     "metadata": {},
     "output_type": "execute_result"
    }
   ],
   "source": [
    "# Verify the row index\n",
    "index = r_sample.index[0]\n",
    "index"
   ]
  },
  {
   "cell_type": "markdown",
   "metadata": {},
   "source": [
    "We grab this row with only the columns we need for modeling from the `df_ml_sc` table, which is already on the right scale for modeling."
   ]
  },
  {
   "cell_type": "code",
   "execution_count": 57,
   "metadata": {},
   "outputs": [],
   "source": [
    "reference_row = df_ml_sc.loc[df_ml_sc.index == index, df_ml.columns.isin(num_vars)]# | df_ml.columns.str.startswith(cat_vars[0])]\n",
    "NoEssai = id_table.loc[df_ml_sc.index == index].NoEssai.values[0]"
   ]
  },
  {
   "cell_type": "markdown",
   "metadata": {},
   "source": [
    "Here, we need to maximise the proportion of medium size tuber aiming to yield maximum tubers for table (market). There are no economic considerations. The optimal doses are the NPK combination where the computed ilr values reach the maximum."
   ]
  },
  {
   "cell_type": "markdown",
   "metadata": {},
   "source": [
    "Instead of generating a grid of values (which is numerically inefficient), we generate random NPK doses from uniform distributions on plausible doses. The `random.uniform()` function gives a random floating point number in a given range."
   ]
  },
  {
   "cell_type": "code",
   "execution_count": 58,
   "metadata": {},
   "outputs": [],
   "source": [
    "n_grid_samples = 1000\n",
    "N_range = [0, 250]\n",
    "P_range = [0, 250]\n",
    "K_range = [0, 250]\n",
    "\n",
    "np.random.seed(936492)\n",
    "dose_grid = pd.DataFrame({'NtotDose': np.random.uniform(N_range[0], N_range[1], n_grid_samples),\n",
    "                          'PtotDose': np.random.uniform(P_range[0], P_range[1], n_grid_samples),\n",
    "                          'KtotDose': np.random.uniform(K_range[0], K_range[1], n_grid_samples)})"
   ]
  },
  {
   "cell_type": "markdown",
   "metadata": {},
   "source": [
    "Doses are variables among others, and also need to be scaled on the scale on which they were put in to create the model."
   ]
  },
  {
   "cell_type": "code",
   "execution_count": 59,
   "metadata": {},
   "outputs": [],
   "source": [
    "dose_grid_sc = dose_grid.copy()\n",
    "#dose_vars = dose_grid.columns\n",
    "for var in dose_vars:\n",
    "    dose_grid_sc[var] = (dose_grid[var] - mean_numvars[var]) / std_numvars[var]"
   ]
  },
  {
   "cell_type": "markdown",
   "metadata": {},
   "source": [
    "The last part to create the table is to stack the observation (randomly slected previously) a number of times equal to the `dose_grid` table, so that it conveys the same information at each row. Then we replace only NPK doses with the one sampled randomly."
   ]
  },
  {
   "cell_type": "code",
   "execution_count": 60,
   "metadata": {},
   "outputs": [],
   "source": [
    "reference_stack = pd.DataFrame(index = range(dose_grid.shape[0]), columns = reference_row.columns)\n",
    "for i in range(reference_stack.shape[1]):\n",
    "    reference_stack.iloc[:, i] = np.repeat(reference_row.values[0, i], reference_stack.shape[0])\n",
    "reference_stack.NtotDose = dose_grid_sc.NtotDose\n",
    "reference_stack.PtotDose = dose_grid_sc.PtotDose\n",
    "reference_stack.KtotDose = dose_grid_sc.KtotDose    "
   ]
  },
  {
   "cell_type": "markdown",
   "metadata": {},
   "source": [
    "The yield proportion is predicted based on the table, then put back to its original scale and inserted in the `dose_grid` table."
   ]
  },
  {
   "cell_type": "markdown",
   "metadata": {},
   "source": [
    "### Prediction with __knn__ model"
   ]
  },
  {
   "cell_type": "code",
   "execution_count": 61,
   "metadata": {},
   "outputs": [],
   "source": [
    "ilr_sc = knn.predict(reference_stack)\n",
    "dose_grid[\"ilr_\"] = ilr_sc[:, 0] * std_respvars.values + mean_respvars.values"
   ]
  },
  {
   "cell_type": "markdown",
   "metadata": {},
   "source": [
    "We isolate the row where `ilr_` is maximum."
   ]
  },
  {
   "cell_type": "code",
   "execution_count": 62,
   "metadata": {},
   "outputs": [
    {
     "data": {
      "text/plain": [
       "NtotDose    245.82\n",
       "PtotDose     11.75\n",
       "KtotDose     20.06\n",
       "ilr_         -2.78\n",
       "Name: 223, dtype: float64"
      ]
     },
     "execution_count": 62,
     "metadata": {},
     "output_type": "execute_result"
    }
   ],
   "source": [
    "opt_doses_knn = dose_grid.loc[dose_grid[\"ilr_\"].idxmax(), [\"NtotDose\", \"PtotDose\", \"KtotDose\", \"ilr_\"]].round(2)\n",
    "opt_doses_knn"
   ]
  },
  {
   "cell_type": "markdown",
   "metadata": {},
   "source": [
    "### Prediction with __rf__ model"
   ]
  },
  {
   "cell_type": "code",
   "execution_count": 63,
   "metadata": {},
   "outputs": [
    {
     "data": {
      "text/plain": [
       "NtotDose    202.47\n",
       "PtotDose     17.89\n",
       "KtotDose    222.62\n",
       "ilr_         -1.04\n",
       "Name: 601, dtype: float64"
      ]
     },
     "execution_count": 63,
     "metadata": {},
     "output_type": "execute_result"
    }
   ],
   "source": [
    "ilr_sc = rfm.predict(reference_stack)\n",
    "dose_grid[\"ilr_\"] = ilr_sc * std_respvars.values + mean_respvars.values # yield_sc specifically not indexed needed with rf\n",
    "opt_doses_rf = dose_grid.loc[dose_grid[\"ilr_\"].idxmax(), [\"NtotDose\", \"PtotDose\", \"KtotDose\", \"ilr_\"]].round(2)\n",
    "opt_doses_rf"
   ]
  },
  {
   "cell_type": "markdown",
   "metadata": {},
   "source": [
    "### Prediction with __nn__ model"
   ]
  },
  {
   "cell_type": "code",
   "execution_count": 64,
   "metadata": {},
   "outputs": [
    {
     "data": {
      "text/plain": [
       "NtotDose    245.82\n",
       "PtotDose     11.75\n",
       "KtotDose     20.06\n",
       "ilr_         -2.17\n",
       "Name: 223, dtype: float64"
      ]
     },
     "execution_count": 64,
     "metadata": {},
     "output_type": "execute_result"
    }
   ],
   "source": [
    "ilr_sc = nn.predict(reference_stack)\n",
    "dose_grid[\"ilr_\"] = ilr_sc * std_respvars.values + mean_respvars.values # yield_sc specifically not indexed needed with rf\n",
    "opt_doses_nn = dose_grid.loc[dose_grid[\"ilr_\"].idxmax(), [\"NtotDose\", \"PtotDose\", \"KtotDose\", \"ilr_\"]].round(2)\n",
    "opt_doses_nn"
   ]
  },
  {
   "cell_type": "markdown",
   "metadata": {},
   "source": [
    "### Prediction with __gp__ model"
   ]
  },
  {
   "cell_type": "code",
   "execution_count": 65,
   "metadata": {},
   "outputs": [
    {
     "data": {
      "text/plain": [
       "NtotDose    229.63\n",
       "PtotDose    246.30\n",
       "KtotDose      2.16\n",
       "ilr_         -2.75\n",
       "Name: 492, dtype: float64"
      ]
     },
     "execution_count": 65,
     "metadata": {},
     "output_type": "execute_result"
    }
   ],
   "source": [
    "ilr_sc = gpl.predict(reference_stack)\n",
    "dose_grid[\"ilr_\"] = ilr_sc[:, 0] * std_respvars.values + mean_respvars.values\n",
    "opt_doses_gp = dose_grid.loc[dose_grid[\"ilr_\"].idxmax(), [\"NtotDose\", \"PtotDose\", \"KtotDose\", \"ilr_\"]].round(2)\n",
    "opt_doses_gp"
   ]
  },
  {
   "cell_type": "markdown",
   "metadata": {},
   "source": [
    "This chain concatenates the points estimates of the models, and converts P2O5 and K2O in P and K respectively."
   ]
  },
  {
   "cell_type": "code",
   "execution_count": 66,
   "metadata": {},
   "outputs": [
    {
     "data": {
      "text/html": [
       "<div>\n",
       "<style scoped>\n",
       "    .dataframe tbody tr th:only-of-type {\n",
       "        vertical-align: middle;\n",
       "    }\n",
       "\n",
       "    .dataframe tbody tr th {\n",
       "        vertical-align: top;\n",
       "    }\n",
       "\n",
       "    .dataframe thead th {\n",
       "        text-align: right;\n",
       "    }\n",
       "</style>\n",
       "<table border=\"1\" class=\"dataframe\">\n",
       "  <thead>\n",
       "    <tr style=\"text-align: right;\">\n",
       "      <th></th>\n",
       "      <th>NtotDose</th>\n",
       "      <th>PtotDose</th>\n",
       "      <th>KtotDose</th>\n",
       "      <th>Output</th>\n",
       "      <th>Target</th>\n",
       "    </tr>\n",
       "  </thead>\n",
       "  <tbody>\n",
       "    <tr>\n",
       "      <th>k-nearest neighbors</th>\n",
       "      <td>245.82</td>\n",
       "      <td>5.12300</td>\n",
       "      <td>16.6498</td>\n",
       "      <td>-2.78</td>\n",
       "      <td>[M, S | L]</td>\n",
       "    </tr>\n",
       "    <tr>\n",
       "      <th>Random forest</th>\n",
       "      <td>202.47</td>\n",
       "      <td>7.80004</td>\n",
       "      <td>184.7746</td>\n",
       "      <td>-1.04</td>\n",
       "      <td>[M, S | L]</td>\n",
       "    </tr>\n",
       "    <tr>\n",
       "      <th>Neural networks</th>\n",
       "      <td>245.82</td>\n",
       "      <td>5.12300</td>\n",
       "      <td>16.6498</td>\n",
       "      <td>-2.17</td>\n",
       "      <td>[M, S | L]</td>\n",
       "    </tr>\n",
       "    <tr>\n",
       "      <th>Gaussian processes</th>\n",
       "      <td>229.63</td>\n",
       "      <td>107.38680</td>\n",
       "      <td>1.7928</td>\n",
       "      <td>-2.75</td>\n",
       "      <td>[M, S | L]</td>\n",
       "    </tr>\n",
       "  </tbody>\n",
       "</table>\n",
       "</div>"
      ],
      "text/plain": [
       "                     NtotDose   PtotDose  KtotDose  Output      Target\n",
       "k-nearest neighbors    245.82    5.12300   16.6498   -2.78  [M, S | L]\n",
       "Random forest          202.47    7.80004  184.7746   -1.04  [M, S | L]\n",
       "Neural networks        245.82    5.12300   16.6498   -2.17  [M, S | L]\n",
       "Gaussian processes     229.63  107.38680    1.7928   -2.75  [M, S | L]"
      ]
     },
     "execution_count": 66,
     "metadata": {},
     "output_type": "execute_result"
    }
   ],
   "source": [
    "keys = [\"NtotDose\", \"PtotDose\", \"KtotDose\", \"ilr_\"]\n",
    "predMsl = pd.DataFrame({\"k-nearest neighbors\": opt_doses_knn,\n",
    "                       \"Random forest\": opt_doses_rf,\n",
    "                       \"Neural networks\": opt_doses_nn,\n",
    "                       \"Gaussian processes\": opt_doses_gp},\n",
    "                     index = keys).T\n",
    "predMsl['PtotDose'] = predMsl.PtotDose*0.436\n",
    "predMsl['KtotDose'] = predMsl.KtotDose*0.830\n",
    "predMsl['Target'] = \"[M, S | L]\"\n",
    "predMsl = predMsl.rename(columns = {\"ilr_\":\"Output\"})\n",
    "predMsl.to_csv('output/predMsl.csv')\n",
    "predMsl"
   ]
  },
  {
   "cell_type": "markdown",
   "metadata": {},
   "source": [
    "### Prediction specific to trial type\n",
    "\n",
    "I randomly select different test type (N, P, K) trials and plot their responses to compare the goodness of fit of the four models. The same codes are repeated for each element to generate new tables, one for each dose type. The treatment element varied while the others are kept constant at their experimental dosage."
   ]
  },
  {
   "cell_type": "markdown",
   "metadata": {},
   "source": [
    "Reference trial where only __N__ dose varied: `(test_type = N)`"
   ]
  },
  {
   "cell_type": "code",
   "execution_count": 100,
   "metadata": {},
   "outputs": [
    {
     "data": {
      "text/html": [
       "<div>\n",
       "<style scoped>\n",
       "    .dataframe tbody tr th:only-of-type {\n",
       "        vertical-align: middle;\n",
       "    }\n",
       "\n",
       "    .dataframe tbody tr th {\n",
       "        vertical-align: top;\n",
       "    }\n",
       "\n",
       "    .dataframe thead th {\n",
       "        text-align: right;\n",
       "    }\n",
       "</style>\n",
       "<table border=\"1\" class=\"dataframe\">\n",
       "  <thead>\n",
       "    <tr style=\"text-align: right;\">\n",
       "      <th></th>\n",
       "      <th>NoEssai</th>\n",
       "      <th>test_type</th>\n",
       "      <th>ID</th>\n",
       "    </tr>\n",
       "  </thead>\n",
       "  <tbody>\n",
       "    <tr>\n",
       "      <th>1536</th>\n",
       "      <td>8804</td>\n",
       "      <td>N</td>\n",
       "      <td>8804-5-5</td>\n",
       "    </tr>\n",
       "  </tbody>\n",
       "</table>\n",
       "</div>"
      ],
      "text/plain": [
       "      NoEssai test_type        ID\n",
       "1536     8804         N  8804-5-5"
      ]
     },
     "execution_count": 100,
     "metadata": {},
     "output_type": "execute_result"
    }
   ],
   "source": [
    "test_types = pd.read_csv('output/test_types.csv')\n",
    "id_sample_n = id_table.loc[id_table.ID == test_types.ID.values[0], [\"NoEssai\", \"test_type\", \"ID\"]]\n",
    "id_sample_n"
   ]
  },
  {
   "cell_type": "raw",
   "metadata": {},
   "source": [
    "Ndata = df_ml.loc[id_table.NoEssai == id_sample_n.NoEssai.values[0]][[\"tsizeMS_L\", \"NtotDose\"]]\n",
    "plt.plot(Ndata.NtotDose, Ndata.tsizeMS_L, \"o\")"
   ]
  },
  {
   "cell_type": "code",
   "execution_count": 101,
   "metadata": {},
   "outputs": [],
   "source": [
    "reference_row_N = df_ml_sc.loc[df_ml_sc.index == id_sample_n.index[0], \n",
    "                               df_ml.columns.isin(num_vars)]# | df_ml.columns.str.startswith(cat_vars[0])]\n",
    "dose_grid_N = pd.DataFrame({'NtotDose': np.linspace(0, 250, 251),\n",
    "                           'PtotDose': reference_row_N.PtotDose.values[0],\n",
    "                           'KtotDose': reference_row_N.KtotDose.values[0]})\n",
    "\n",
    "dose_grid_N_sc = dose_grid_N.copy()\n",
    "for var in dose_vars:\n",
    "    dose_grid_N_sc[var] = (dose_grid_N[var] - mean_numvars[var]) / std_numvars[var]\n",
    "\n",
    "reference_stack_N = pd.DataFrame(index = range(dose_grid_N.shape[0]), columns = reference_row_N.columns)\n",
    "for i in range(reference_stack_N.shape[1]):\n",
    "    reference_stack_N.iloc[:, i] = np.repeat(reference_row_N.values[0, i], reference_stack_N.shape[0])\n",
    "reference_stack_N.NtotDose = dose_grid_N_sc.NtotDose\n",
    "reference_stack_N.PtotDose = dose_grid_N_sc.PtotDose\n",
    "reference_stack_N.KtotDose = dose_grid_N_sc.KtotDose  "
   ]
  },
  {
   "cell_type": "code",
   "execution_count": 102,
   "metadata": {},
   "outputs": [],
   "source": [
    "# Point estimate\n",
    "knn_N_sc = knn.predict(reference_stack_N)\n",
    "rf_N_sc = rfm.predict(reference_stack_N)\n",
    "nn_N_sc = nn.predict(reference_stack_N)\n",
    "gp_N_sc = gpl.predict(reference_stack_N)\n",
    "\n",
    "dose_grid_N[\"ilr_knn\"] = knn_N_sc[:, 0] * std_respvars.values + mean_respvars.values\n",
    "dose_grid_N[\"ilr_rf\"] = rf_N_sc * std_respvars.values + mean_respvars.values\n",
    "dose_grid_N[\"ilr_nn\"] = nn_N_sc * std_respvars.values + mean_respvars.values\n",
    "dose_grid_N[\"ilr_gp\"] = gp_N_sc[:, 0] * std_respvars.values + mean_respvars.values\n",
    "doses_opt_N_point = dose_grid_N.loc[dose_grid_N[\"ilr_gp\"].idxmax(), [\"NtotDose\", \"ilr_gp\"]]#.round(2)\n",
    "Ndata = df_ml.loc[id_table.NoEssai == id_sample_n.NoEssai.values[0]][[\"tsizeMS_L\", \"NtotDose\"]]"
   ]
  },
  {
   "cell_type": "markdown",
   "metadata": {},
   "source": [
    "Reference trial where only __P__ dose varied: `(test_type = P)`"
   ]
  },
  {
   "cell_type": "code",
   "execution_count": 103,
   "metadata": {},
   "outputs": [
    {
     "data": {
      "text/html": [
       "<div>\n",
       "<style scoped>\n",
       "    .dataframe tbody tr th:only-of-type {\n",
       "        vertical-align: middle;\n",
       "    }\n",
       "\n",
       "    .dataframe tbody tr th {\n",
       "        vertical-align: top;\n",
       "    }\n",
       "\n",
       "    .dataframe thead th {\n",
       "        text-align: right;\n",
       "    }\n",
       "</style>\n",
       "<table border=\"1\" class=\"dataframe\">\n",
       "  <thead>\n",
       "    <tr style=\"text-align: right;\">\n",
       "      <th></th>\n",
       "      <th>NoEssai</th>\n",
       "      <th>test_type</th>\n",
       "      <th>ID</th>\n",
       "    </tr>\n",
       "  </thead>\n",
       "  <tbody>\n",
       "    <tr>\n",
       "      <th>4210</th>\n",
       "      <td>412</td>\n",
       "      <td>P</td>\n",
       "      <td>412-3-4</td>\n",
       "    </tr>\n",
       "  </tbody>\n",
       "</table>\n",
       "</div>"
      ],
      "text/plain": [
       "      NoEssai test_type       ID\n",
       "4210      412         P  412-3-4"
      ]
     },
     "execution_count": 103,
     "metadata": {},
     "output_type": "execute_result"
    }
   ],
   "source": [
    "id_sample_p = id_table.loc[id_table.ID == test_types.ID.values[1], [\"NoEssai\", \"test_type\", \"ID\"]]\n",
    "id_sample_p"
   ]
  },
  {
   "cell_type": "raw",
   "metadata": {},
   "source": [
    "Pdata = df_ml.loc[id_table.NoEssai == id_sample_p.NoEssai.values[0]][[\"tsizeS_M\", \"PtotDose\"]]\n",
    "plt.plot(Pdata.PtotDose, Pdata.tsizeS_M, \"o\")"
   ]
  },
  {
   "cell_type": "code",
   "execution_count": 104,
   "metadata": {},
   "outputs": [],
   "source": [
    "reference_row_P = df_ml_sc.loc[df_ml_sc.index == id_sample_p.index[0], \n",
    "                               df_ml.columns.isin(num_vars)]# | df_ml.columns.str.startswith(cat_vars[0])]\n",
    "\n",
    "dose_grid_P = pd.DataFrame({'NtotDose': reference_row_P.NtotDose.values[0],\n",
    "                           'PtotDose': np.linspace(0, 250, 251),\n",
    "                           'KtotDose': reference_row_P.KtotDose.values[0]})\n",
    "dose_grid_P['P'] = 0.436*dose_grid_P.PtotDose\n",
    "\n",
    "dose_grid_P_sc = dose_grid_P.copy()\n",
    "for var in dose_vars:\n",
    "    dose_grid_P_sc[var] = (dose_grid_P[var] - mean_numvars[var]) / std_numvars[var]\n",
    "\n",
    "reference_stack_P = pd.DataFrame(index = range(dose_grid_P.shape[0]), columns = reference_row_P.columns)\n",
    "for i in range(reference_stack_P.shape[1]):\n",
    "    reference_stack_P.iloc[:, i] = np.repeat(reference_row_P.values[0, i], reference_stack_P.shape[0])\n",
    "reference_stack_P.NtotDose = dose_grid_P_sc.NtotDose\n",
    "reference_stack_P.PtotDose = dose_grid_P_sc.PtotDose\n",
    "reference_stack_P.KtotDose = dose_grid_P_sc.KtotDose  "
   ]
  },
  {
   "cell_type": "code",
   "execution_count": 105,
   "metadata": {},
   "outputs": [],
   "source": [
    "# Point estimate\n",
    "knn_P_sc = knn.predict(reference_stack_P)\n",
    "rf_P_sc = rfm.predict(reference_stack_P)\n",
    "nn_P_sc = nn.predict(reference_stack_P)\n",
    "gp_P_sc = gpl.predict(reference_stack_P)\n",
    "\n",
    "dose_grid_P[\"ilr_knn\"] = knn_P_sc[:, 0] * std_respvars.values + mean_respvars.values\n",
    "dose_grid_P[\"ilr_rf\"] = rf_P_sc * std_respvars.values + mean_respvars.values\n",
    "dose_grid_P[\"ilr_nn\"] = nn_P_sc * std_respvars.values + mean_respvars.values\n",
    "dose_grid_P[\"ilr_gp\"] = gp_P_sc[:, 0] * std_respvars.values + mean_respvars.values\n",
    "doses_opt_P_point = dose_grid_P.loc[dose_grid_P[\"ilr_gp\"].idxmax(), [\"PtotDose\", \"ilr_gp\"]]#.round(2)\n",
    "Pdata = df_ml.loc[id_table.NoEssai == id_sample_p.NoEssai.values[0]][[\"tsizeMS_L\", \"PtotDose\"]]\n",
    "Pdata['P'] = 0.436*Pdata.PtotDose"
   ]
  },
  {
   "cell_type": "markdown",
   "metadata": {},
   "source": [
    "Reference trial where only __K__ dose varied: `(test_type = K)`"
   ]
  },
  {
   "cell_type": "code",
   "execution_count": 106,
   "metadata": {},
   "outputs": [
    {
     "data": {
      "text/html": [
       "<div>\n",
       "<style scoped>\n",
       "    .dataframe tbody tr th:only-of-type {\n",
       "        vertical-align: middle;\n",
       "    }\n",
       "\n",
       "    .dataframe tbody tr th {\n",
       "        vertical-align: top;\n",
       "    }\n",
       "\n",
       "    .dataframe thead th {\n",
       "        text-align: right;\n",
       "    }\n",
       "</style>\n",
       "<table border=\"1\" class=\"dataframe\">\n",
       "  <thead>\n",
       "    <tr style=\"text-align: right;\">\n",
       "      <th></th>\n",
       "      <th>NoEssai</th>\n",
       "      <th>test_type</th>\n",
       "      <th>ID</th>\n",
       "    </tr>\n",
       "  </thead>\n",
       "  <tbody>\n",
       "    <tr>\n",
       "      <th>3169</th>\n",
       "      <td>320</td>\n",
       "      <td>K</td>\n",
       "      <td>320-3-3</td>\n",
       "    </tr>\n",
       "  </tbody>\n",
       "</table>\n",
       "</div>"
      ],
      "text/plain": [
       "      NoEssai test_type       ID\n",
       "3169      320         K  320-3-3"
      ]
     },
     "execution_count": 106,
     "metadata": {},
     "output_type": "execute_result"
    }
   ],
   "source": [
    "id_sample_k = id_table.loc[id_table.ID == test_types.ID.values[2], [\"NoEssai\", \"test_type\", \"ID\"]]\n",
    "id_sample_k"
   ]
  },
  {
   "cell_type": "raw",
   "metadata": {},
   "source": [
    "Kdata = df_ml.loc[id_table.NoEssai == id_sample_k.NoEssai.values[0]][[\"tsizeS_M\", \"KtotDose\"]]\n",
    "plt.plot(Kdata.KtotDose, Kdata.tsizeS_M, \"o\")"
   ]
  },
  {
   "cell_type": "code",
   "execution_count": 107,
   "metadata": {},
   "outputs": [],
   "source": [
    "reference_row_K = df_ml_sc.loc[df_ml_sc.index == id_sample_k.index[0], \n",
    "                               df_ml.columns.isin(num_vars)]# | df_ml.columns.str.startswith(cat_vars[0])]\n",
    "\n",
    "dose_grid_K = pd.DataFrame({'NtotDose': reference_row_K.NtotDose.values[0], \n",
    "                            'PtotDose': reference_row_K.PtotDose.values[0],\n",
    "                            'KtotDose': np.linspace(0, 250, 251)})\n",
    "dose_grid_K['K'] = 0.830*dose_grid_K.KtotDose\n",
    "\n",
    "dose_grid_K_sc = dose_grid_K.copy()\n",
    "for var in dose_vars:\n",
    "    dose_grid_K_sc[var] = (dose_grid_K[var] - mean_numvars[var]) / std_numvars[var]\n",
    "\n",
    "reference_stack_K = pd.DataFrame(index = range(dose_grid_K.shape[0]), columns = reference_row_K.columns)\n",
    "for i in range(reference_stack_K.shape[1]):\n",
    "    reference_stack_K.iloc[:, i] = np.repeat(reference_row_K.values[0, i], reference_stack_K.shape[0])\n",
    "reference_stack_K.NtotDose = dose_grid_K_sc.NtotDose\n",
    "reference_stack_K.PtotDose = dose_grid_K_sc.PtotDose\n",
    "reference_stack_K.KtotDose = dose_grid_K_sc.KtotDose  "
   ]
  },
  {
   "cell_type": "code",
   "execution_count": 108,
   "metadata": {},
   "outputs": [],
   "source": [
    "# Point estimate\n",
    "knn_K_sc = knn.predict(reference_stack_K)\n",
    "rf_K_sc = rfm.predict(reference_stack_K)\n",
    "nn_K_sc = nn.predict(reference_stack_K)\n",
    "gp_K_sc = gpl.predict(reference_stack_K)\n",
    "\n",
    "dose_grid_K[\"ilr_knn\"] = knn_K_sc[:, 0] * std_respvars.values + mean_respvars.values\n",
    "dose_grid_K[\"ilr_rf\"] = rf_K_sc * std_respvars.values + mean_respvars.values\n",
    "dose_grid_K[\"ilr_nn\"] = nn_K_sc * std_respvars.values + mean_respvars.values\n",
    "dose_grid_K[\"ilr_gp\"] = gp_K_sc[:, 0] * std_respvars.values + mean_respvars.values\n",
    "doses_opt_K_point = dose_grid_K.loc[dose_grid_K[\"ilr_gp\"].idxmax(), [\"KtotDose\", \"ilr_gp\"]]#.round(2)\n",
    "Kdata = df_ml.loc[id_table.NoEssai == id_sample_k.NoEssai.values[0]][[\"tsizeMS_L\", \"KtotDose\"]]\n",
    "Kdata['K'] = 0.830*Kdata.KtotDose"
   ]
  },
  {
   "cell_type": "markdown",
   "metadata": {},
   "source": [
    "### Output data for future visualisation\n",
    "\n",
    "The results are saved in the `output` folder and are loaded in the vizualisation notebook."
   ]
  },
  {
   "cell_type": "code",
   "execution_count": 109,
   "metadata": {},
   "outputs": [],
   "source": [
    "Ndata[\"Sample\"] = id_sample_n.NoEssai.values[0]\n",
    "Pdata[\"Sample\"] = id_sample_p.NoEssai.values[0]\n",
    "Kdata[\"Sample\"] = id_sample_k.NoEssai.values[0]\n",
    "\n",
    "Ndata.to_csv(\"output/tsizeMS_L_model_Ndata.csv\")\n",
    "Pdata.to_csv(\"output/tsizeMS_L_model_Pdata.csv\")\n",
    "Kdata.to_csv(\"output/tsizeMS_L_model_Kdata.csv\")\n",
    "\n",
    "dose_grid_N.to_csv(\"output/tsizeMS_L_model_N.csv\")\n",
    "dose_grid_P.to_csv(\"output/tsizeMS_L_model_P.csv\")\n",
    "dose_grid_K.to_csv(\"output/tsizeMS_L_model_K.csv\")"
   ]
  },
  {
   "cell_type": "markdown",
   "metadata": {},
   "source": [
    "### Probabilistic prediction with gaussian process\n",
    "\n",
    "One advantage of gaussian processes is that it's probabilistic: it doesn't only returns point estimates, but can returns posterior samples. For the demonstration of this section, I use the `reference_stack` data frame. I generate `500` gaussian process samples for each `NPK` triplet from the random doses `dose_grid` used for initial point estimation."
   ]
  },
  {
   "cell_type": "code",
   "execution_count": 110,
   "metadata": {},
   "outputs": [],
   "source": [
    "n_gp_samples = 500\n",
    "gp_samples_sc = gpl.sample_y(reference_stack, n_samples = n_gp_samples)[:, 0, :] # [:, 0, :] to remove dummy middle dimension"
   ]
  },
  {
   "cell_type": "markdown",
   "metadata": {},
   "source": [
    "... and put predicted `ilr` back to scale."
   ]
  },
  {
   "cell_type": "code",
   "execution_count": 111,
   "metadata": {},
   "outputs": [],
   "source": [
    "gp_samples = gp_samples_sc.copy()\n",
    "for i in range(n_gp_samples):\n",
    "    gp_samples[:, i] = gp_samples_sc[:, i] * std_respvars.values + mean_respvars.values"
   ]
  },
  {
   "cell_type": "markdown",
   "metadata": {},
   "source": [
    "GP samples are put in a pandas data frame with pretty column names."
   ]
  },
  {
   "cell_type": "code",
   "execution_count": 112,
   "metadata": {},
   "outputs": [],
   "source": [
    "gp_names = list(range(n_gp_samples))\n",
    "for i in range(n_gp_samples):\n",
    "    gp_names[i] = \"gp\" + str(gp_names[i])\n",
    "\n",
    "gp_l = pd.DataFrame(gp_samples, columns = gp_names)"
   ]
  },
  {
   "cell_type": "markdown",
   "metadata": {},
   "source": [
    "Then, for each gaussian process, I find the agronomic (not economic) dosage, corresponding to maximum ratio (ilr). The dosages are gathered in a pandas data frame. The corresponding ilr is also reported."
   ]
  },
  {
   "cell_type": "code",
   "execution_count": 113,
   "metadata": {},
   "outputs": [],
   "source": [
    "doses_opt = pd.DataFrame({\"NtotDose\":0, \"PtotDose\":0, \"KtotDose\":0}, index = gp_names)\n",
    "for i in gp_names:\n",
    "    doses_opt.loc[i] = dose_grid.loc[gp_l.loc[:, i].idxmax(), [\"NtotDose\", \"PtotDose\", \"KtotDose\"]]\n",
    "doses_opt['P'] = 0.436*doses_opt.PtotDose\n",
    "doses_opt['K'] = 0.830*doses_opt.KtotDose"
   ]
  },
  {
   "cell_type": "markdown",
   "metadata": {},
   "source": [
    "This chain plots the distribution of each fertilizer doses of the same trial (_the randomly selected one `r_sample`_). The red dotted vertical lines show the agronomic dosage from the initial gaussian process point estimate."
   ]
  },
  {
   "cell_type": "code",
   "execution_count": 114,
   "metadata": {},
   "outputs": [
    {
     "data": {
      "image/png": "[encoded data removed]",
      "text/plain": [
       "<Figure size 960x240 with 3 Axes>"
      ]
     },
     "metadata": {},
     "output_type": "display_data"
    }
   ],
   "source": [
    "plt.figure(figsize=(12, 3), dpi= 80, facecolor='w', edgecolor='k')\n",
    "gs = gridspec.GridSpec(1, 3, \n",
    "                       width_ratios=[1,1,1],\n",
    "                       height_ratios=[1]\n",
    "                      ) \n",
    "ax0 = plt.subplot(gs[0])\n",
    "ax0.hist(doses_opt.loc[:, \"NtotDose\"], color = \"lightgrey\", edgecolor = 'grey')\n",
    "ax0.axvline(x = opt_doses_gp[0], color = 'r', linestyle = '--')\n",
    "ax0.set_title(\"Trial N° \" + str(NoEssai))\n",
    "ax0.set_xlabel(r\"Optimal dose N ($kg~ha^{-1})$\")\n",
    "ax0.set_ylabel(\"Count\")\n",
    "\n",
    "ax1 = plt.subplot(gs[1])\n",
    "ax1.hist(doses_opt.loc[:, \"P\"], color = \"lightgrey\", edgecolor = 'grey')\n",
    "ax1.axvline(x = 0.436*opt_doses_gp[1], color = 'r', linestyle = '--')\n",
    "ax1.set_title(\"Trial N° \" + str(NoEssai))\n",
    "ax1.set_xlabel(\"Optimal dose P ($kg~ha^{-1})$\")\n",
    "\n",
    "ax2 = plt.subplot(gs[2])\n",
    "ax2.hist(doses_opt.loc[:, \"K\"], color = \"lightgrey\", edgecolor = 'grey')\n",
    "ax2.axvline(x = 0.830*opt_doses_gp[2], color = 'r', linestyle = '--')\n",
    "ax2.set_title(\"Trial N° \" + str(NoEssai))\n",
    "ax2.set_xlabel(r\"Optimal dose K ($kg~ha^{-1})$\")\n",
    "\n",
    "plt.tight_layout();"
   ]
  },
  {
   "cell_type": "markdown",
   "metadata": {},
   "source": [
    "These distributions show optimal doses (_most of the time_) on the edge of ranges. How can we use this model for decision making while it's difficult to obtain credible optimal dosage? Using the same trial, I generate new tables, one for each fertilizer type, and where one dose is varying while the others are kept constant _at their __gp__ model computed optimum_."
   ]
  },
  {
   "cell_type": "code",
   "execution_count": 115,
   "metadata": {},
   "outputs": [
    {
     "data": {
      "text/plain": [
       "NtotDose    229.63\n",
       "PtotDose    246.30\n",
       "KtotDose      2.16\n",
       "ilr_         -2.75\n",
       "Name: 492, dtype: float64"
      ]
     },
     "execution_count": 115,
     "metadata": {},
     "output_type": "execute_result"
    }
   ],
   "source": [
    "opt_doses_gp"
   ]
  },
  {
   "cell_type": "markdown",
   "metadata": {},
   "source": [
    "#### Prediction where only __N__ dosage varied, trial `r_sample`"
   ]
  },
  {
   "cell_type": "code",
   "execution_count": 116,
   "metadata": {},
   "outputs": [],
   "source": [
    "dose_grid_N = pd.DataFrame({'NtotDose': np.linspace(0, 250, 251),\n",
    "                          'PtotDose': opt_doses_gp.PtotDose,\n",
    "                          'KtotDose': opt_doses_gp.KtotDose})"
   ]
  },
  {
   "cell_type": "code",
   "execution_count": 117,
   "metadata": {},
   "outputs": [],
   "source": [
    "dose_grid_N_sc = dose_grid_N.copy()\n",
    "for var in dose_vars:\n",
    "    dose_grid_N_sc[var] = (dose_grid_N[var] - mean_numvars[var]) / std_numvars[var]"
   ]
  },
  {
   "cell_type": "code",
   "execution_count": 118,
   "metadata": {},
   "outputs": [],
   "source": [
    "reference_stack_N = pd.DataFrame(index = range(dose_grid_N.shape[0]), columns = reference_row.columns)\n",
    "for i in range(reference_stack_N.shape[1]):\n",
    "    reference_stack_N.iloc[:, i] = np.repeat(reference_row.values[0, i], reference_stack_N.shape[0])\n",
    "reference_stack_N.NtotDose = dose_grid_N_sc.NtotDose\n",
    "reference_stack_N.PtotDose = dose_grid_N_sc.PtotDose\n",
    "reference_stack_N.KtotDose = dose_grid_N_sc.KtotDose  "
   ]
  },
  {
   "cell_type": "markdown",
   "metadata": {},
   "source": [
    "Point estimate"
   ]
  },
  {
   "cell_type": "code",
   "execution_count": 119,
   "metadata": {},
   "outputs": [
    {
     "data": {
      "text/plain": [
       "NtotDose    250.000000\n",
       "PtotDose    246.300000\n",
       "KtotDose      2.160000\n",
       "ilr_         -2.619417\n",
       "Name: 250, dtype: float64"
      ]
     },
     "execution_count": 119,
     "metadata": {},
     "output_type": "execute_result"
    }
   ],
   "source": [
    "ilr_N_sc = gpl.predict(reference_stack_N)\n",
    "dose_grid_N[\"ilr_\"] = ilr_N_sc[:, 0] * std_respvars.values + mean_respvars.values\n",
    "doses_opt_N_point = dose_grid_N.loc[dose_grid_N[\"ilr_\"].idxmax(), [\"NtotDose\", \"PtotDose\", \"KtotDose\", \"ilr_\"]]#.round(2)\n",
    "doses_opt_N_point"
   ]
  },
  {
   "cell_type": "markdown",
   "metadata": {},
   "source": [
    "GP samples"
   ]
  },
  {
   "cell_type": "code",
   "execution_count": 120,
   "metadata": {},
   "outputs": [],
   "source": [
    "n_gp_samples = 5\n",
    "gp_samples_N_sc = gpl.sample_y(reference_stack_N, n_samples = n_gp_samples, random_state = 615108)[:, 0, :] # [:, 0, :] to remove dummy middle dimension\n",
    "\n",
    "# Scale back to original\n",
    "gp_samples_N = gp_samples_N_sc.copy()\n",
    "for i in range(n_gp_samples):\n",
    "    gp_samples_N[:, i] = gp_samples_N_sc[:, i] * std_respvars.values + mean_respvars.values\n",
    "\n",
    "# Pretty table\n",
    "gp_names = list(range(n_gp_samples))\n",
    "for i in range(n_gp_samples):\n",
    "    gp_names[i] = \"gp\" + str(gp_names[i])\n",
    "\n",
    "gp_ilr_N = pd.DataFrame(gp_samples_N, columns = gp_names)\n",
    "\n",
    "doses_opt_N_samples = pd.DataFrame({\"NtotDose\":0, \"PtotDose\":0, \"KtotDose\":0, \"ilr_\": 0}, index = gp_names)\n",
    "for i in gp_names:\n",
    "    doses_opt_N_samples.loc[i, [\"NtotDose\", \"PtotDose\", \"KtotDose\"]] = dose_grid_N.loc[gp_ilr_N.loc[:, i].idxmax(), [\"NtotDose\", \"PtotDose\", \"KtotDose\"]]\n",
    "    doses_opt_N_samples.loc[i, \"ilr_\"] = gp_ilr_N.loc[gp_ilr_N.loc[:, i].idxmax(), i]"
   ]
  },
  {
   "cell_type": "markdown",
   "metadata": {},
   "source": [
    "#### Prediction where only __P__ dosage varied, trial `r_sample`"
   ]
  },
  {
   "cell_type": "code",
   "execution_count": 121,
   "metadata": {},
   "outputs": [],
   "source": [
    "dose_grid_P = pd.DataFrame({'NtotDose': opt_doses_gp.NtotDose,\n",
    "                          'PtotDose': np.linspace(0, 250, 251),\n",
    "                          'KtotDose': opt_doses_gp.KtotDose})"
   ]
  },
  {
   "cell_type": "code",
   "execution_count": 122,
   "metadata": {},
   "outputs": [],
   "source": [
    "dose_grid_P_sc = dose_grid_P.copy()\n",
    "for var in dose_vars:\n",
    "    dose_grid_P_sc[var] = (dose_grid_P[var] - mean_numvars[var]) / std_numvars[var]"
   ]
  },
  {
   "cell_type": "code",
   "execution_count": 123,
   "metadata": {},
   "outputs": [],
   "source": [
    "reference_stack_P = pd.DataFrame(index = range(dose_grid_P.shape[0]), columns = reference_row.columns)\n",
    "for i in range(reference_stack_P.shape[1]):\n",
    "    reference_stack_P.iloc[:, i] = np.repeat(reference_row.values[0, i], reference_stack_P.shape[0])\n",
    "reference_stack_P.NtotDose = dose_grid_P_sc.NtotDose\n",
    "reference_stack_P.PtotDose = dose_grid_P_sc.PtotDose\n",
    "reference_stack_P.KtotDose = dose_grid_P_sc.KtotDose  "
   ]
  },
  {
   "cell_type": "markdown",
   "metadata": {},
   "source": [
    "Point estimate"
   ]
  },
  {
   "cell_type": "code",
   "execution_count": 124,
   "metadata": {},
   "outputs": [
    {
     "data": {
      "text/plain": [
       "NtotDose    229.630000\n",
       "PtotDose    250.000000\n",
       "KtotDose      2.160000\n",
       "ilr_         -2.735252\n",
       "P           109.000000\n",
       "Name: 250, dtype: float64"
      ]
     },
     "execution_count": 124,
     "metadata": {},
     "output_type": "execute_result"
    }
   ],
   "source": [
    "ilr_P_sc = gpl.predict(reference_stack_P)\n",
    "dose_grid_P[\"ilr_\"] = ilr_P_sc[:, 0] * std_respvars.values + mean_respvars.values\n",
    "dose_grid_P['P'] = 0.436*dose_grid_P.PtotDose\n",
    "doses_opt_P_point = dose_grid_P.loc[dose_grid_P[\"ilr_\"].idxmax(), [\"NtotDose\", \"PtotDose\", \"KtotDose\", \"ilr_\"]]#.round(2)\n",
    "doses_opt_P_point['P'] = 0.436*doses_opt_P_point.PtotDose\n",
    "doses_opt_P_point"
   ]
  },
  {
   "cell_type": "markdown",
   "metadata": {},
   "source": [
    "GP samples"
   ]
  },
  {
   "cell_type": "code",
   "execution_count": 125,
   "metadata": {},
   "outputs": [],
   "source": [
    "n_gp_samples = 5\n",
    "gp_samples_P_sc = gpl.sample_y(reference_stack_P, n_samples = n_gp_samples, random_state = 615108)[:, 0, :] # [:, 0, :] to remove dummy middle dimension\n",
    "\n",
    "# Scale back to original\n",
    "gp_samples_P = gp_samples_P_sc.copy()\n",
    "for i in range(n_gp_samples):\n",
    "    gp_samples_P[:, i] = gp_samples_P_sc[:, i] * std_respvars.values + mean_respvars.values\n",
    "\n",
    "# Pretty table\n",
    "gp_names = list(range(n_gp_samples))\n",
    "for i in range(n_gp_samples):\n",
    "    gp_names[i] = \"gp\" + str(gp_names[i])\n",
    "\n",
    "gp_ilr_P = pd.DataFrame(gp_samples_P, columns = gp_names)\n",
    "\n",
    "doses_opt_P_samples = pd.DataFrame({\"NtotDose\":0, \"PtotDose\":0, \"KtotDose\":0, \"ilr_\": 0}, index = gp_names)\n",
    "for i in gp_names:\n",
    "    doses_opt_P_samples.loc[i, [\"NtotDose\", \"PtotDose\", \"KtotDose\"]] = dose_grid_P.loc[gp_ilr_P.loc[:, i].idxmax(), [\"NtotDose\", \"PtotDose\", \"KtotDose\"]]\n",
    "    doses_opt_P_samples.loc[i, \"ilr_\"] = gp_ilr_P.loc[gp_ilr_P.loc[:, i].idxmax(), i]\n",
    "doses_opt_P_samples[\"P\"] = 0.436*doses_opt_P_samples.PtotDose"
   ]
  },
  {
   "cell_type": "markdown",
   "metadata": {},
   "source": [
    "#### Prediction where only __K__ dosage varied, trial `r_sample`"
   ]
  },
  {
   "cell_type": "code",
   "execution_count": 126,
   "metadata": {},
   "outputs": [],
   "source": [
    "dose_grid_K = pd.DataFrame({'NtotDose': opt_doses_gp.NtotDose,\n",
    "                          'PtotDose': opt_doses_gp.PtotDose,\n",
    "                          'KtotDose': np.linspace(0, 250, 251)})"
   ]
  },
  {
   "cell_type": "code",
   "execution_count": 127,
   "metadata": {},
   "outputs": [],
   "source": [
    "dose_grid_K_sc = dose_grid_K.copy()\n",
    "for var in dose_vars:\n",
    "    dose_grid_K_sc[var] = (dose_grid_K[var] - mean_numvars[var]) / std_numvars[var]"
   ]
  },
  {
   "cell_type": "code",
   "execution_count": 128,
   "metadata": {},
   "outputs": [],
   "source": [
    "reference_stack_K = pd.DataFrame(index = range(dose_grid_K.shape[0]), columns = reference_row.columns)\n",
    "for i in range(reference_stack_K.shape[1]):\n",
    "    reference_stack_K.iloc[:, i] = np.repeat(reference_row.values[0, i], reference_stack_K.shape[0])\n",
    "reference_stack_K.NtotDose = dose_grid_K_sc.NtotDose\n",
    "reference_stack_K.PtotDose = dose_grid_K_sc.PtotDose\n",
    "reference_stack_K.KtotDose = dose_grid_K_sc.KtotDose  "
   ]
  },
  {
   "cell_type": "markdown",
   "metadata": {},
   "source": [
    "Point estimate"
   ]
  },
  {
   "cell_type": "code",
   "execution_count": 129,
   "metadata": {},
   "outputs": [
    {
     "data": {
      "text/plain": [
       "NtotDose    229.630000\n",
       "PtotDose    246.300000\n",
       "KtotDose      0.000000\n",
       "ilr_         -2.737158\n",
       "K             0.000000\n",
       "Name: 0, dtype: float64"
      ]
     },
     "execution_count": 129,
     "metadata": {},
     "output_type": "execute_result"
    }
   ],
   "source": [
    "ilr_K_sc = gpl.predict(reference_stack_K)\n",
    "dose_grid_K[\"ilr_\"] = ilr_K_sc[:, 0] * std_respvars.values + mean_respvars.values\n",
    "dose_grid_K['K'] = 0.830*dose_grid_K.KtotDose\n",
    "doses_opt_K_point = dose_grid_K.loc[dose_grid_K[\"ilr_\"].idxmax(), [\"NtotDose\", \"PtotDose\", \"KtotDose\", \"ilr_\"]]#.round(2)\n",
    "doses_opt_K_point['K'] = 0.830*doses_opt_K_point.KtotDose\n",
    "doses_opt_K_point"
   ]
  },
  {
   "cell_type": "markdown",
   "metadata": {},
   "source": [
    "GP samples"
   ]
  },
  {
   "cell_type": "code",
   "execution_count": 130,
   "metadata": {},
   "outputs": [],
   "source": [
    "n_gp_samples = 5\n",
    "gp_samples_K_sc = gpl.sample_y(reference_stack_K, n_samples = n_gp_samples, random_state = 615108)[:, 0, :] # [:, 0, :] to remove dummy middle dimension\n",
    "\n",
    "# Scale back to original\n",
    "gp_samples_K = gp_samples_K_sc.copy()\n",
    "for i in range(n_gp_samples):\n",
    "    gp_samples_K[:, i] = gp_samples_K_sc[:, i] * std_respvars.values + mean_respvars.values\n",
    "\n",
    "# Pretty table\n",
    "gp_names = list(range(n_gp_samples))\n",
    "for i in range(n_gp_samples):\n",
    "    gp_names[i] = \"gp\" + str(gp_names[i])\n",
    "\n",
    "gp_ilr_K = pd.DataFrame(gp_samples_K, columns = gp_names)\n",
    "\n",
    "doses_opt_K_samples = pd.DataFrame({\"NtotDose\":0, \"PtotDose\":0, \"KtotDose\":0, \"ilr_\": 0}, index = gp_names)\n",
    "for i in gp_names:\n",
    "    doses_opt_K_samples.loc[i, [\"NtotDose\", \"PtotDose\", \"KtotDose\"]] = dose_grid_K.loc[gp_ilr_K.loc[:, i].idxmax(), [\"NtotDose\", \"PtotDose\", \"KtotDose\"]]\n",
    "    doses_opt_K_samples.loc[i, \"ilr_\"] = gp_ilr_K.loc[gp_ilr_K.loc[:, i].idxmax(), i]\n",
    "doses_opt_K_samples[\"K\"] = 0.830*doses_opt_K_samples.KtotDose"
   ]
  },
  {
   "cell_type": "markdown",
   "metadata": {},
   "source": [
    "#### Plot all cases\n",
    "\n",
    "Results are presented as the average GP and its point optimal dose in blue, with `10` gaussian processes and their optimum. Histograms of probabilistic dosages of maximum ilr values are shown under the response curves."
   ]
  },
  {
   "cell_type": "code",
   "execution_count": 131,
   "metadata": {},
   "outputs": [
    {
     "data": {
      "image/png": "[encoded data removed]",
      "text/plain": [
       "<Figure size 864x360 with 6 Axes>"
      ]
     },
     "metadata": {
      "needs_background": "light"
     },
     "output_type": "display_data"
    }
   ],
   "source": [
    "fig = plt.figure(figsize=(12, 5))\n",
    "gs = gridspec.GridSpec(2, 3, height_ratios=[3, 1]) \n",
    "\n",
    "# N\n",
    "ax0 = plt.subplot(gs[0])\n",
    "ax0.plot(dose_grid_N.NtotDose, dose_grid_N.ilr_, linewidth = 2, color = \"black\")\n",
    "ax0.plot(doses_opt_N_point.NtotDose, doses_opt_N_point.ilr_, marker = \"o\", color = \"blue\")\n",
    "for i in gp_ilr_N.columns:\n",
    "    ax0.plot(dose_grid_N.NtotDose, gp_ilr_N[i], color = \"black\", alpha=0.2)\n",
    "    ax0.plot(doses_opt_N_samples.loc[i, \"NtotDose\"], doses_opt_N_samples.loc[i, \"ilr_\"],\n",
    "             marker = \"o\", color = \"black\", alpha = 0.2)\n",
    "if r_sample.test_type.values[0] == \"N\":\n",
    "    plot_Ndata = df_ml.loc[id_table.NoEssai == r_sample.NoEssai.values[0]][[\"tsizeMS_L\", \"NtotDose\"]]\n",
    "    plt.plot(plot_Ndata.NtotDose, plot_Ndata.tsizeMS_L, \"o\", color = \"black\", alpha = 0.2)\n",
    "#ax0.set_ylim([-3, 3])\n",
    "ax0.set_xlabel(r\"N dose ($kg~ha^{-1})$\")\n",
    "ax0.set_ylabel(\"Balance [MS|L], GP model\")\n",
    "ax0.set_title(\"Trial N° \" + str(NoEssai))\n",
    "\n",
    "ax1 = plt.subplot(gs[3])\n",
    "ax1.hist(doses_opt.loc[:, \"NtotDose\"], color = \"lightgrey\", edgecolor = 'grey')\n",
    "ax1.set_xlabel(r\"Optimal N dose ($kg~ha^{-1})$\")\n",
    "ax1.set_ylabel(\"Counts\")\n",
    "\n",
    "# P\n",
    "ax2 = plt.subplot(gs[1])\n",
    "ax2.plot(dose_grid_P.P, dose_grid_P.ilr_, linewidth = 2, color = \"black\")\n",
    "ax2.plot(doses_opt_P_point.P, doses_opt_P_point.ilr_, marker = \"o\", color = \"blue\")\n",
    "for i in gp_ilr_P.columns:\n",
    "    ax2.plot(dose_grid_P.P, gp_ilr_P[i], color = \"black\", alpha=0.2)\n",
    "    ax2.plot(doses_opt_P_samples.loc[i, \"P\"], doses_opt_P_samples.loc[i, \"ilr_\"],\n",
    "             marker = \"o\", color = \"black\", alpha = 0.2)\n",
    "\n",
    "if r_sample.test_type.values[0] == \"P\":\n",
    "    plot_Pdata = df_ml.loc[id_table.NoEssai == r_sample.NoEssai.values[0]][[\"tsizeMS_L\", \"PtotDose\"]]\n",
    "    plot_Pdata['P'] = 0.436*plot_Pdata.PtotDose\n",
    "    plt.plot(plot_Pdata.P, plot_Pdata.tsizeMS_L, \"o\", color = \"black\", alpha = 0.2)   \n",
    "#ax2.set_ylim([-3, 3])\n",
    "ax2.set_title(\"Trial N° \" + str(NoEssai))\n",
    "\n",
    "ax3 = plt.subplot(gs[4])\n",
    "ax3.hist(doses_opt.loc[:, \"P\"], color = \"lightgrey\", edgecolor = 'grey')\n",
    "ax3.set_xlabel(r\"Optimal dose P ($kg~ha^{-1})$\")\n",
    "\n",
    "# K\n",
    "ax4 = plt.subplot(gs[2])\n",
    "ax4.plot(dose_grid_K.K, dose_grid_K.ilr_, linewidth = 2, color = \"black\")\n",
    "ax4.plot(doses_opt_K_point.K, doses_opt_K_point.ilr_, marker = \"o\", color = \"blue\")\n",
    "for i in gp_ilr_K.columns:\n",
    "    ax4.plot(dose_grid_K.K, gp_ilr_K[i], color = \"black\", alpha=0.2)\n",
    "    ax4.plot(doses_opt_K_samples.loc[i, \"K\"], doses_opt_K_samples.loc[i, \"ilr_\"],\n",
    "             marker = \"o\", color = \"black\", alpha = 0.2)\n",
    "if r_sample.test_type.values[0] == \"K\":\n",
    "    plot_Kdata = df_ml.loc[id_table.NoEssai == r_sample.NoEssai.values[0]][[\"tsizeMS_L\", \"KtotDose\"]]\n",
    "    plot_Kdata['K'] = 0.830*plot_Kdata.KtotDose\n",
    "    plt.plot(plot_Kdata.K, plot_Kdata.tsizeMS_L, \"o\", color = \"black\", alpha = 0.2)   \n",
    "#ax4.set_ylim([-3, 3])\n",
    "ax4.set_title(\"Trial N° \" + str(NoEssai))\n",
    "\n",
    "ax5 = plt.subplot(gs[5])\n",
    "ax5.hist(doses_opt.loc[:, \"K\"], color = \"lightgrey\", edgecolor = 'grey')\n",
    "ax5.set_xlabel(\"Optimal dose K ($kg~ha^{-1})$\")\n",
    "\n",
    "plt.tight_layout();"
   ]
  },
  {
   "cell_type": "markdown",
   "metadata": {},
   "source": [
    "The distributions are almost similar to those from the uniform random grid doses table. Probabilistic optimum are on the edges of ranges corresponding or not to the prior optimum (_blue point_)."
   ]
  },
  {
   "cell_type": "markdown",
   "metadata": {},
   "source": [
    "### Probabilistic predictions based on __trial type__\n",
    "These chains make probabilistic predictions for the three N, P and K trials already modeled using `id_sample_n`, `id_sample_p` and `id_sample_k` respectively."
   ]
  },
  {
   "cell_type": "code",
   "execution_count": 132,
   "metadata": {},
   "outputs": [],
   "source": [
    "# GP samples\n",
    "n_gp_samples = 1000 #500\n",
    "gp_samples_N_sc = gpl.sample_y(reference_stack_N, n_samples = n_gp_samples, random_state = 615108)[:, 0, :]\n",
    "\n",
    "# Scale back to original\n",
    "gp_samples_N = gp_samples_N_sc.copy()\n",
    "for i in range(n_gp_samples):\n",
    "    gp_samples_N[:, i] = gp_samples_N_sc[:, i] * std_respvars.values + mean_respvars.values\n",
    "\n",
    "# Pretty table\n",
    "gp_names = list(range(n_gp_samples))\n",
    "for i in range(n_gp_samples):\n",
    "    gp_names[i] = \"gp\" + str(gp_names[i])\n",
    "\n",
    "gp_ilr_N = pd.DataFrame(gp_samples_N, columns = gp_names)\n",
    "\n",
    "doses_opt_N_samples = pd.DataFrame({\"NtotDose\":0, \"ilr_\": 0}, index = gp_names)\n",
    "for i in gp_names:\n",
    "    doses_opt_N_samples.loc[i, [\"NtotDose\"]] = dose_grid_N.loc[gp_ilr_N.loc[:, i].idxmax(), [\"NtotDose\"]]\n",
    "    doses_opt_N_samples.loc[i, \"ilr_\"] = gp_ilr_N.loc[gp_ilr_N.loc[:, i].idxmax(), i]"
   ]
  },
  {
   "cell_type": "code",
   "execution_count": 133,
   "metadata": {},
   "outputs": [],
   "source": [
    "# GP samples\n",
    "n_gp_samples = 1000 #500\n",
    "gp_samples_P_sc = gpl.sample_y(reference_stack_P, n_samples = n_gp_samples, random_state = 615108)[:, 0, :]\n",
    "\n",
    "# Scale back to original\n",
    "gp_samples_P = gp_samples_P_sc.copy()\n",
    "for i in range(n_gp_samples):\n",
    "    gp_samples_P[:, i] = gp_samples_P_sc[:, i] * std_respvars.values + mean_respvars.values\n",
    "\n",
    "# Pretty table\n",
    "gp_names = list(range(n_gp_samples))\n",
    "for i in range(n_gp_samples):\n",
    "    gp_names[i] = \"gp\" + str(gp_names[i])\n",
    "\n",
    "gp_ilr_P = pd.DataFrame(gp_samples_P, columns = gp_names)\n",
    "\n",
    "doses_opt_P_samples = pd.DataFrame({\"PtotDose\":0, \"ilr_\": 0}, index = gp_names)\n",
    "for i in gp_names:\n",
    "    doses_opt_P_samples.loc[i, [\"PtotDose\"]] = dose_grid_P.loc[gp_ilr_P.loc[:, i].idxmax(), [\"PtotDose\"]]\n",
    "    doses_opt_P_samples.loc[i, \"ilr_\"] = gp_ilr_P.loc[gp_ilr_P.loc[:, i].idxmax(), i]\n",
    "doses_opt_P_samples[\"P\"] = 0.436*doses_opt_P_samples.PtotDose"
   ]
  },
  {
   "cell_type": "code",
   "execution_count": 134,
   "metadata": {},
   "outputs": [],
   "source": [
    "# GP samples\n",
    "n_gp_samples = 1000 #500\n",
    "gp_samples_K_sc = gpl.sample_y(reference_stack_K, n_samples = n_gp_samples, random_state = 615108)[:, 0, :]\n",
    "\n",
    "# Scale back to original\n",
    "gp_samples_K = gp_samples_K_sc.copy()\n",
    "for i in range(n_gp_samples):\n",
    "    gp_samples_K[:, i] = gp_samples_K_sc[:, i] * std_respvars.values + mean_respvars.values\n",
    "\n",
    "# Pretty table\n",
    "gp_names = list(range(n_gp_samples))\n",
    "for i in range(n_gp_samples):\n",
    "    gp_names[i] = \"gp\" + str(gp_names[i])\n",
    "\n",
    "gp_ilr_K = pd.DataFrame(gp_samples_K, columns = gp_names)\n",
    "\n",
    "doses_opt_K_samples = pd.DataFrame({\"KtotDose\":0, \"ilr_\": 0}, index = gp_names)\n",
    "for i in gp_names:\n",
    "    doses_opt_K_samples.loc[i, [\"KtotDose\"]] = dose_grid_K.loc[gp_ilr_K.loc[:, i].idxmax(), [\"KtotDose\"]]\n",
    "    doses_opt_K_samples.loc[i, \"ilr_\"] = gp_ilr_K.loc[gp_ilr_K.loc[:, i].idxmax(), i]\n",
    "doses_opt_K_samples[\"K\"] = 0.830*doses_opt_K_samples.KtotDose"
   ]
  },
  {
   "cell_type": "code",
   "execution_count": 135,
   "metadata": {},
   "outputs": [
    {
     "data": {
      "image/png": "[encoded data removed]",
      "text/plain": [
       "<Figure size 720x360 with 6 Axes>"
      ]
     },
     "metadata": {
      "needs_background": "light"
     },
     "output_type": "display_data"
    }
   ],
   "source": [
    "fig = plt.figure(figsize=(10, 5))\n",
    "gs = gridspec.GridSpec(2, 3, \n",
    "                       width_ratios=[1,1,1],\n",
    "                       height_ratios=[3, 1]\n",
    "                      ) \n",
    "# N\n",
    "ax0 = plt.subplot(gs[0])\n",
    "ax0.plot(dose_grid_N.NtotDose, dose_grid_N.ilr_, \"-\", color = \"black\")\n",
    "ax0.plot(Ndata.NtotDose, Ndata.tsizeMS_L, \"x\", color = \"black\", alpha = 0.2)\n",
    "ax0.plot(doses_opt_N_point.NtotDose, doses_opt_N_point.ilr_, marker = \"o\", color = \"black\")\n",
    "for i in gp_ilr_N.columns[0:5]:\n",
    "    ax0.plot(dose_grid_N.NtotDose, gp_ilr_N[i], color = \"black\", alpha=0.2)\n",
    "    ax0.plot(doses_opt_N_samples.loc[i, \"NtotDose\"], doses_opt_N_samples.loc[i, \"ilr_\"],\n",
    "             marker = \"o\", color = \"black\", alpha = 0.2)\n",
    "#ax0.set_ylim([-1.5, 1.5])\n",
    "ax0.set_xlabel(r\"N dose ($kg~ha^{-1})$\")\n",
    "ax0.set_ylabel(\"Balance [M,S|L], GP model\")\n",
    "ax0.set_title(\"N, sample no \" + str(id_sample_n.NoEssai.values[0]))\n",
    "\n",
    "ax1 = plt.subplot(gs[3])\n",
    "ax1.hist(doses_opt_N_samples.loc[:, \"NtotDose\"], color = \"lightgrey\", edgecolor = 'grey')\n",
    "ax1.axvline(x = doses_opt_N_point.NtotDose, color = 'black', linestyle = '--')\n",
    "ax1.set_xlabel(r\"Optimal dose N ($kg~ha^{-1})$\")\n",
    "ax1.set_ylabel(\"Count\")\n",
    "\n",
    "# P\n",
    "ax2 = plt.subplot(gs[1])\n",
    "ax2.plot(dose_grid_P.P, dose_grid_P.ilr_, \"-\", color = \"black\")\n",
    "ax2.plot(Pdata.P, Pdata.tsizeMS_L, \"x\", color = \"black\", alpha = 0.2)\n",
    "ax2.plot(doses_opt_P_point.P, doses_opt_P_point.ilr_, marker = \"o\", color = \"black\")\n",
    "for i in gp_ilr_P.columns[0:5]:\n",
    "    ax2.plot(dose_grid_P.P, gp_ilr_P[i], color = \"black\", alpha=0.2)\n",
    "    ax2.plot(doses_opt_P_samples.loc[i, \"P\"], doses_opt_P_samples.loc[i, \"ilr_\"],\n",
    "             marker = \"o\", color = \"black\", alpha = 0.2)\n",
    "#ax2.set_ylim([-1.5, 1.5])\n",
    "ax2.set_xlabel(r\"P dose ($kg~ha^{-1})$\")\n",
    "ax2.set_title(\"P, sample no \" + str(id_sample_p.NoEssai.values[0]))\n",
    "\n",
    "ax3 = plt.subplot(gs[4])\n",
    "ax3.hist(doses_opt_P_samples.loc[:, \"P\"], color = \"lightgrey\", edgecolor = 'grey')\n",
    "ax3.axvline(x = doses_opt_P_point.P, color = 'black', linestyle = '--')\n",
    "ax3.set_xlabel(r\"Optimal dose P ($kg~ha^{-1})$\")\n",
    "\n",
    "# K\n",
    "ax4 = plt.subplot(gs[2])\n",
    "ax4.plot(dose_grid_K.K, dose_grid_K.ilr_, \"-\", color = \"black\")\n",
    "ax4.plot(Kdata.K, Kdata.tsizeMS_L, \"x\", color = \"black\", alpha = 0.2)\n",
    "ax4.plot(doses_opt_K_point.K, doses_opt_K_point.ilr_, marker = \"o\", color = \"black\")\n",
    "for i in gp_ilr_K.columns[0:5]:\n",
    "    ax4.plot(dose_grid_K.K, gp_ilr_K[i], color = \"black\", alpha=0.2)\n",
    "    ax4.plot(doses_opt_K_samples.loc[i, \"K\"], doses_opt_K_samples.loc[i, \"ilr_\"],\n",
    "             marker = \"o\", color = \"black\", alpha = 0.2)\n",
    "#ax4.set_ylim([-1.5, 1.5])\n",
    "ax4.set_xlabel(r\"K dose ($kg~ha^{-1})$\")\n",
    "ax4.set_title(\"K, sample no \" + str(id_sample_k.NoEssai.values[0]))\n",
    "\n",
    "ax5 = plt.subplot(gs[5])\n",
    "ax5.hist(doses_opt_K_samples.loc[:, \"K\"], color = \"lightgrey\", edgecolor = 'grey')\n",
    "ax5.axvline(x = doses_opt_K_point.K, color = 'black', linestyle = '--')\n",
    "ax5.set_xlabel(r\"Optimal dose K ($kg~ha^{-1})$\")\n",
    "\n",
    "plt.tight_layout();\n",
    "plt.savefig(\"images/MSL_probab_doses.png\", bbox_inches = \"tight\", dpi = 300)"
   ]
  },
  {
   "cell_type": "raw",
   "metadata": {},
   "source": []
  },
  {
   "cell_type": "code",
   "execution_count": 102,
   "metadata": {},
   "outputs": [
    {
     "data": {
      "text/html": [
       "<div>\n",
       "<style scoped>\n",
       "    .dataframe tbody tr th:only-of-type {\n",
       "        vertical-align: middle;\n",
       "    }\n",
       "\n",
       "    .dataframe tbody tr th {\n",
       "        vertical-align: top;\n",
       "    }\n",
       "\n",
       "    .dataframe thead th {\n",
       "        text-align: right;\n",
       "    }\n",
       "</style>\n",
       "<table border=\"1\" class=\"dataframe\">\n",
       "  <thead>\n",
       "    <tr style=\"text-align: right;\">\n",
       "      <th></th>\n",
       "      <th>N trial</th>\n",
       "      <th>P trial</th>\n",
       "      <th>K trial</th>\n",
       "    </tr>\n",
       "  </thead>\n",
       "  <tbody>\n",
       "    <tr>\n",
       "      <th>NtotDose</th>\n",
       "      <td>142.00</td>\n",
       "      <td>137.35</td>\n",
       "      <td>137.35</td>\n",
       "    </tr>\n",
       "    <tr>\n",
       "      <th>PtotDose</th>\n",
       "      <td>200.92</td>\n",
       "      <td>199.00</td>\n",
       "      <td>200.92</td>\n",
       "    </tr>\n",
       "    <tr>\n",
       "      <th>KtotDose</th>\n",
       "      <td>209.42</td>\n",
       "      <td>209.42</td>\n",
       "      <td>222.00</td>\n",
       "    </tr>\n",
       "    <tr>\n",
       "      <th>ilr_</th>\n",
       "      <td>0.02</td>\n",
       "      <td>0.02</td>\n",
       "      <td>0.03</td>\n",
       "    </tr>\n",
       "  </tbody>\n",
       "</table>\n",
       "</div>"
      ],
      "text/plain": [
       "          N trial  P trial  K trial\n",
       "NtotDose   142.00   137.35   137.35\n",
       "PtotDose   200.92   199.00   200.92\n",
       "KtotDose   209.42   209.42   222.00\n",
       "ilr_         0.02     0.02     0.03"
      ]
     },
     "execution_count": 102,
     "metadata": {},
     "output_type": "execute_result"
    }
   ],
   "source": [
    "index = [\"NtotDose\", \"PtotDose\", \"KtotDose\", \"ilr_\"]\n",
    "opt_points = pd.DataFrame({\"N trial\": doses_opt_N_point,\n",
    "                           \"P trial\": doses_opt_P_point,\n",
    "                           \"K trial\": doses_opt_K_point},\n",
    "                          index = index)\n",
    "opt_points"
   ]
  },
  {
   "cell_type": "raw",
   "metadata": {},
   "source": []
  }
 ],
 "metadata": {
  "kernelspec": {
   "display_name": "Python 3",
   "language": "python",
   "name": "python3"
  },
  "language_info": {
   "codemirror_mode": {
    "name": "ipython",
    "version": 3
   },
   "file_extension": ".py",
   "mimetype": "text/x-python",
   "name": "python",
   "nbconvert_exporter": "python",
   "pygments_lexer": "ipython3",
   "version": "3.7.6"
  }
 },
 "nbformat": 4,
 "nbformat_minor": 4
}
