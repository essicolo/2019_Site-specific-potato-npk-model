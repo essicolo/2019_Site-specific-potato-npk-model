{
 "cells": [
  {
   "cell_type": "markdown",
   "metadata": {},
   "source": [
    "## 1.2. Preprocessing weather indexes"
   ]
  },
  {
   "cell_type": "code",
   "execution_count": 2,
   "metadata": {},
   "outputs": [
    {
     "name": "stderr",
     "output_type": "stream",
     "text": [
      "\n",
      "Attaching package: 'lubridate'\n",
      "\n",
      "\n",
      "The following object is masked from 'package:base':\n",
      "\n",
      "    date\n",
      "\n",
      "\n",
      "Loading required package: Rcpp\n",
      "\n",
      "## \n",
      "## Amelia II: Multiple Imputation\n",
      "## (Version 1.7.6, built: 2019-11-24)\n",
      "## Copyright (C) 2005-2020 James Honaker, Gary King and Matthew Blackwell\n",
      "## Refer to http://gking.harvard.edu/amelia/ for more information\n",
      "## \n",
      "\n"
     ]
    }
   ],
   "source": [
    "library(\"tidyverse\")\n",
    "library(\"weathercan\")\n",
    "library(\"lubridate\") # yday(), ymd()\n",
    "library(\"Amelia\")"
   ]
  },
  {
   "cell_type": "markdown",
   "metadata": {},
   "source": [
    "Load the data frame processed in previous file `1.1_preprocessing-1.ipynb`."
   ]
  },
  {
   "cell_type": "code",
   "execution_count": 2,
   "metadata": {},
   "outputs": [],
   "source": [
    "data_df <- read.csv('output/balanced_potato_df.csv')"
   ]
  },
  {
   "cell_type": "markdown",
   "metadata": {},
   "source": [
    "### Compute 5 years (mean or total) weather indices \n",
    "\n",
    "Because the process is long, you can load `data_stations.csv` file and make a left join with `data_df` using \"Annee\", \"LatDD\", \"LonDD\", \"DatePlantation\", and \"DateRecolte\" as common features."
   ]
  },
  {
   "cell_type": "code",
   "execution_count": 3,
   "metadata": {},
   "outputs": [
    {
     "name": "stderr",
     "output_type": "stream",
     "text": [
      "Parsed with column specification:\n",
      "cols(\n",
      "  Annee = \u001b[32mcol_double()\u001b[39m,\n",
      "  LatDD = \u001b[32mcol_double()\u001b[39m,\n",
      "  LonDD = \u001b[32mcol_double()\u001b[39m,\n",
      "  DatePlantation = \u001b[34mcol_date(format = \"\")\u001b[39m,\n",
      "  DateRecolte = \u001b[34mcol_date(format = \"\")\u001b[39m,\n",
      "  station_id = \u001b[32mcol_double()\u001b[39m,\n",
      "  temp_moy_5years = \u001b[32mcol_double()\u001b[39m,\n",
      "  prec_tot_5years = \u001b[32mcol_double()\u001b[39m,\n",
      "  sdi_5years = \u001b[32mcol_double()\u001b[39m,\n",
      "  gdd_5years = \u001b[32mcol_double()\u001b[39m\n",
      ")\n"
     ]
    }
   ],
   "source": [
    "data_stations = read_csv(\"output/weather_stations.csv\")"
   ]
  },
  {
   "cell_type": "markdown",
   "metadata": {},
   "source": [
    "Custom fonctions "
   ]
  },
  {
   "cell_type": "code",
   "execution_count": 4,
   "metadata": {},
   "outputs": [],
   "source": [
    "# shannon diversity index\n",
    "SDI_f <- function(x) { \n",
    "  p <- x/sum(x, na.rm = TRUE)\n",
    "  SDI <- sum(p * log(p), na.rm = TRUE) / log(length(x))\n",
    "  return(SDI)\n",
    "}\n",
    "# growing degree-days\n",
    "GDD_f <- function(x, delim = 5) {\n",
    "  sum(x[x >= delim], na.rm = TRUE)\n",
    "}"
   ]
  },
  {
   "cell_type": "markdown",
   "metadata": {},
   "source": [
    "Create a data frame for computations"
   ]
  },
  {
   "cell_type": "code",
   "execution_count": 5,
   "metadata": {},
   "outputs": [
    {
     "name": "stderr",
     "output_type": "stream",
     "text": [
      "Warning message:\n",
      "\" 1 failed to parse.\"Warning message:\n",
      "\" 1 failed to parse.\""
     ]
    }
   ],
   "source": [
    "data_df$DatePlantation <- ymd(data_df$DatePlantation)\n",
    "data_df$DateRecolte <- ymd(data_df$DateRecolte)"
   ]
  },
  {
   "cell_type": "markdown",
   "metadata": {},
   "source": [
    "If you've loaded the `weather_stations.csv`, from here, you coud jump to the fith code chaine from the end (insertion into the main table). "
   ]
  },
  {
   "cell_type": "raw",
   "metadata": {},
   "source": []
  },
  {
   "cell_type": "raw",
   "metadata": {},
   "source": []
  },
  {
   "cell_type": "code",
   "execution_count": 7,
   "metadata": {},
   "outputs": [
    {
     "name": "stdout",
     "output_type": "stream",
     "text": [
      "Observations: 323\n",
      "Variables: 5\n",
      "$ Annee          \u001b[3m\u001b[90m<int>\u001b[39m\u001b[23m 2003, 2004, 2004, 2004, 2004, 2004, 2004, 2004, 2005...\n",
      "$ LatDD          \u001b[3m\u001b[90m<dbl>\u001b[39m\u001b[23m 46.75306, 46.76444, 48.79722, 48.79722, 48.79722, 48...\n",
      "$ LonDD          \u001b[3m\u001b[90m<dbl>\u001b[39m\u001b[23m -72.33861, -72.33083, -72.24250, -72.24250, -72.2425...\n",
      "$ DatePlantation \u001b[3m\u001b[90m<date>\u001b[39m\u001b[23m 2003-05-19, 2004-05-30, 2004-05-31, 2004-06-05, 200...\n",
      "$ DateRecolte    \u001b[3m\u001b[90m<date>\u001b[39m\u001b[23m 2003-09-17, 2004-09-27, 2004-09-20, 2004-09-15, 200...\n"
     ]
    }
   ],
   "source": [
    "data_stations <- data_df %>%\n",
    "  distinct(Annee, LatDD, LonDD, DatePlantation, DateRecolte) %>%\n",
    "  filter(!is.na(Annee))\n",
    "glimpse(data_stations)"
   ]
  },
  {
   "cell_type": "markdown",
   "metadata": {},
   "source": [
    "Impute missing dates if year is recorded"
   ]
  },
  {
   "cell_type": "code",
   "execution_count": 8,
   "metadata": {},
   "outputs": [
    {
     "data": {
      "text/html": [
       "<table>\n",
       "<caption>A data.frame: 11 × 5</caption>\n",
       "<thead>\n",
       "\t<tr><th scope=col>Annee</th><th scope=col>LatDD</th><th scope=col>LonDD</th><th scope=col>DatePlantation</th><th scope=col>DateRecolte</th></tr>\n",
       "\t<tr><th scope=col>&lt;int&gt;</th><th scope=col>&lt;dbl&gt;</th><th scope=col>&lt;dbl&gt;</th><th scope=col>&lt;date&gt;</th><th scope=col>&lt;date&gt;</th></tr>\n",
       "</thead>\n",
       "<tbody>\n",
       "\t<tr><td>2011</td><td>46.02889</td><td>-73.65111</td><td>NA</td><td>NA</td></tr>\n",
       "\t<tr><td>1992</td><td>48.55000</td><td>-71.33333</td><td>NA</td><td>NA</td></tr>\n",
       "\t<tr><td>1993</td><td>48.55000</td><td>-71.33333</td><td>NA</td><td>NA</td></tr>\n",
       "\t<tr><td>1995</td><td>46.10487</td><td>-72.24634</td><td>NA</td><td>1995-09-10</td></tr>\n",
       "\t<tr><td>1996</td><td>46.10487</td><td>-72.24634</td><td>NA</td><td>1996-09-11</td></tr>\n",
       "\t<tr><td>1996</td><td>46.10903</td><td>-72.38530</td><td>NA</td><td>1996-09-11</td></tr>\n",
       "\t<tr><td>1996</td><td>46.45472</td><td>-72.70722</td><td>NA</td><td>1996-09-11</td></tr>\n",
       "\t<tr><td>1987</td><td>46.45472</td><td>-72.70722</td><td>NA</td><td>1987-09-10</td></tr>\n",
       "\t<tr><td>1988</td><td>46.45472</td><td>-72.70722</td><td>NA</td><td>1988-09-11</td></tr>\n",
       "\t<tr><td>1989</td><td>46.45472</td><td>-72.70722</td><td>NA</td><td>1989-09-10</td></tr>\n",
       "\t<tr><td>1990</td><td>46.45472</td><td>-72.70722</td><td>NA</td><td>1990-09-10</td></tr>\n",
       "</tbody>\n",
       "</table>\n"
      ],
      "text/latex": [
       "A data.frame: 11 × 5\n",
       "\\begin{tabular}{r|lllll}\n",
       " Annee & LatDD & LonDD & DatePlantation & DateRecolte\\\\\n",
       " <int> & <dbl> & <dbl> & <date> & <date>\\\\\n",
       "\\hline\n",
       "\t 2011 & 46.02889 & -73.65111 & NA & NA\\\\\n",
       "\t 1992 & 48.55000 & -71.33333 & NA & NA\\\\\n",
       "\t 1993 & 48.55000 & -71.33333 & NA & NA\\\\\n",
       "\t 1995 & 46.10487 & -72.24634 & NA & 1995-09-10\\\\\n",
       "\t 1996 & 46.10487 & -72.24634 & NA & 1996-09-11\\\\\n",
       "\t 1996 & 46.10903 & -72.38530 & NA & 1996-09-11\\\\\n",
       "\t 1996 & 46.45472 & -72.70722 & NA & 1996-09-11\\\\\n",
       "\t 1987 & 46.45472 & -72.70722 & NA & 1987-09-10\\\\\n",
       "\t 1988 & 46.45472 & -72.70722 & NA & 1988-09-11\\\\\n",
       "\t 1989 & 46.45472 & -72.70722 & NA & 1989-09-10\\\\\n",
       "\t 1990 & 46.45472 & -72.70722 & NA & 1990-09-10\\\\\n",
       "\\end{tabular}\n"
      ],
      "text/markdown": [
       "\n",
       "A data.frame: 11 × 5\n",
       "\n",
       "| Annee &lt;int&gt; | LatDD &lt;dbl&gt; | LonDD &lt;dbl&gt; | DatePlantation &lt;date&gt; | DateRecolte &lt;date&gt; |\n",
       "|---|---|---|---|---|\n",
       "| 2011 | 46.02889 | -73.65111 | NA | NA |\n",
       "| 1992 | 48.55000 | -71.33333 | NA | NA |\n",
       "| 1993 | 48.55000 | -71.33333 | NA | NA |\n",
       "| 1995 | 46.10487 | -72.24634 | NA | 1995-09-10 |\n",
       "| 1996 | 46.10487 | -72.24634 | NA | 1996-09-11 |\n",
       "| 1996 | 46.10903 | -72.38530 | NA | 1996-09-11 |\n",
       "| 1996 | 46.45472 | -72.70722 | NA | 1996-09-11 |\n",
       "| 1987 | 46.45472 | -72.70722 | NA | 1987-09-10 |\n",
       "| 1988 | 46.45472 | -72.70722 | NA | 1988-09-11 |\n",
       "| 1989 | 46.45472 | -72.70722 | NA | 1989-09-10 |\n",
       "| 1990 | 46.45472 | -72.70722 | NA | 1990-09-10 |\n",
       "\n"
      ],
      "text/plain": [
       "   Annee LatDD    LonDD     DatePlantation DateRecolte\n",
       "1  2011  46.02889 -73.65111 <NA>           <NA>       \n",
       "2  1992  48.55000 -71.33333 <NA>           <NA>       \n",
       "3  1993  48.55000 -71.33333 <NA>           <NA>       \n",
       "4  1995  46.10487 -72.24634 <NA>           1995-09-10 \n",
       "5  1996  46.10487 -72.24634 <NA>           1996-09-11 \n",
       "6  1996  46.10903 -72.38530 <NA>           1996-09-11 \n",
       "7  1996  46.45472 -72.70722 <NA>           1996-09-11 \n",
       "8  1987  46.45472 -72.70722 <NA>           1987-09-10 \n",
       "9  1988  46.45472 -72.70722 <NA>           1988-09-11 \n",
       "10 1989  46.45472 -72.70722 <NA>           1989-09-10 \n",
       "11 1990  46.45472 -72.70722 <NA>           1990-09-10 "
      ]
     },
     "metadata": {},
     "output_type": "display_data"
    }
   ],
   "source": [
    "# Check missing dates\n",
    "data_stations %>%\n",
    "  filter(is.na(DatePlantation))"
   ]
  },
  {
   "cell_type": "code",
   "execution_count": 9,
   "metadata": {},
   "outputs": [
    {
     "data": {
      "text/html": [
       "<table>\n",
       "<caption>A data.frame: 3 × 5</caption>\n",
       "<thead>\n",
       "\t<tr><th scope=col>Annee</th><th scope=col>LatDD</th><th scope=col>LonDD</th><th scope=col>DatePlantation</th><th scope=col>DateRecolte</th></tr>\n",
       "\t<tr><th scope=col>&lt;int&gt;</th><th scope=col>&lt;dbl&gt;</th><th scope=col>&lt;dbl&gt;</th><th scope=col>&lt;date&gt;</th><th scope=col>&lt;date&gt;</th></tr>\n",
       "</thead>\n",
       "<tbody>\n",
       "\t<tr><td>2011</td><td>46.02889</td><td>-73.65111</td><td>NA</td><td>NA</td></tr>\n",
       "\t<tr><td>1992</td><td>48.55000</td><td>-71.33333</td><td>NA</td><td>NA</td></tr>\n",
       "\t<tr><td>1993</td><td>48.55000</td><td>-71.33333</td><td>NA</td><td>NA</td></tr>\n",
       "</tbody>\n",
       "</table>\n"
      ],
      "text/latex": [
       "A data.frame: 3 × 5\n",
       "\\begin{tabular}{r|lllll}\n",
       " Annee & LatDD & LonDD & DatePlantation & DateRecolte\\\\\n",
       " <int> & <dbl> & <dbl> & <date> & <date>\\\\\n",
       "\\hline\n",
       "\t 2011 & 46.02889 & -73.65111 & NA & NA\\\\\n",
       "\t 1992 & 48.55000 & -71.33333 & NA & NA\\\\\n",
       "\t 1993 & 48.55000 & -71.33333 & NA & NA\\\\\n",
       "\\end{tabular}\n"
      ],
      "text/markdown": [
       "\n",
       "A data.frame: 3 × 5\n",
       "\n",
       "| Annee &lt;int&gt; | LatDD &lt;dbl&gt; | LonDD &lt;dbl&gt; | DatePlantation &lt;date&gt; | DateRecolte &lt;date&gt; |\n",
       "|---|---|---|---|---|\n",
       "| 2011 | 46.02889 | -73.65111 | NA | NA |\n",
       "| 1992 | 48.55000 | -71.33333 | NA | NA |\n",
       "| 1993 | 48.55000 | -71.33333 | NA | NA |\n",
       "\n"
      ],
      "text/plain": [
       "  Annee LatDD    LonDD     DatePlantation DateRecolte\n",
       "1 2011  46.02889 -73.65111 <NA>           <NA>       \n",
       "2 1992  48.55000 -71.33333 <NA>           <NA>       \n",
       "3 1993  48.55000 -71.33333 <NA>           <NA>       "
      ]
     },
     "metadata": {},
     "output_type": "display_data"
    }
   ],
   "source": [
    "# Check missing dates\n",
    "data_stations %>%\n",
    "  filter(is.na(DateRecolte))"
   ]
  },
  {
   "cell_type": "code",
   "execution_count": 10,
   "metadata": {},
   "outputs": [
    {
     "name": "stdout",
     "output_type": "stream",
     "text": [
      "-- Imputation 1 --\n",
      "\n",
      "  1  2  3\n",
      "\n"
     ]
    }
   ],
   "source": [
    "data_stations_imp <- data_stations %>%\n",
    "                          mutate(DatePlantation_yd = yday(DatePlantation), # yday = year day\n",
    "                                 DateRecolte_yd = yday(DateRecolte))\n",
    "\n",
    "data_stations_imp <- amelia(x = data_stations_imp %>%\n",
    "                         select(Annee, LatDD, LonDD, DatePlantation_yd, \n",
    "                                DateRecolte_yd), m=1)$imputations[[1]]"
   ]
  },
  {
   "cell_type": "code",
   "execution_count": 11,
   "metadata": {},
   "outputs": [],
   "source": [
    "data_stations_imp$Annee <- as.Date(paste0(data_stations_imp$Annee, \"-01-01\"))\n",
    "\n",
    "data_stations$DatePlantation <- data_stations_imp$Annee + data_stations_imp$DatePlantation_yd - 1\n",
    "data_stations$DateRecolte <- data_stations_imp$Annee + data_stations_imp$DateRecolte_yd - 1"
   ]
  },
  {
   "cell_type": "code",
   "execution_count": 12,
   "metadata": {},
   "outputs": [],
   "source": [
    "data_stations$DatePlantation <- as.Date(data_stations$DatePlantation)\n",
    "data_stations$DateRecolte <- as.Date(data_stations$DateRecolte)"
   ]
  },
  {
   "cell_type": "markdown",
   "metadata": {},
   "source": [
    "Load data from Environnement Canada (weathercan)"
   ]
  },
  {
   "cell_type": "code",
   "execution_count": 12,
   "metadata": {
    "scrolled": true
   },
   "outputs": [
    {
     "name": "stdout",
     "output_type": "stream",
     "text": [
      "[1] \"1 / 323 ...\"\n",
      "[1] \"Station id: 5203\"\n",
      "[1] \"1 / 323\"\n",
      "[1] \"2 / 323 ...\"\n",
      "[1] \"Station id: 5203\"\n",
      "[1] \"2 / 323\"\n",
      "[1] \"3 / 323 ...\"\n",
      "[1] \"Station id: 5929\"\n",
      "[1] \"3 / 323\"\n",
      "[1] \"4 / 323 ...\"\n",
      "[1] \"Station id: 5929\"\n",
      "[1] \"4 / 323\"\n",
      "[1] \"5 / 323 ...\"\n",
      "[1] \"Station id: 5929\"\n",
      "[1] \"5 / 323\"\n",
      "[1] \"6 / 323 ...\"\n",
      "[1] \"Station id: 5929\"\n",
      "[1] \"6 / 323\"\n",
      "[1] \"7 / 323 ...\"\n",
      "[1] \"Station id: 5929\"\n",
      "[1] \"7 / 323\"\n",
      "[1] \"8 / 323 ...\"\n",
      "[1] \"Station id: 5929\"\n",
      "[1] \"8 / 323\"\n",
      "[1] \"9 / 323 ...\"\n",
      "[1] \"Station id: 5203\"\n",
      "[1] \"9 / 323\"\n",
      "[1] \"10 / 323 ...\"\n",
      "[1] \"Station id: 5203\"\n",
      "[1] \"10 / 323\"\n",
      "[1] \"11 / 323 ...\"\n",
      "[1] \"Station id: 5222\"\n",
      "[1] \"11 / 323\"\n",
      "[1] \"12 / 323 ...\"\n",
      "[1] \"Station id: 5222\"\n",
      "[1] \"12 / 323\"\n",
      "[1] \"13 / 323 ...\"\n",
      "[1] \"Station id: 5222\"\n",
      "[1] \"13 / 323\"\n",
      "[1] \"14 / 323 ...\"\n",
      "[1] \"Station id: 5929\"\n",
      "[1] \"14 / 323\"\n",
      "[1] \"15 / 323 ...\"\n",
      "[1] \"Station id: 5255\"\n",
      "[1] \"15 / 323\"\n",
      "[1] \"16 / 323 ...\"\n",
      "[1] \"Station id: 5929\"\n",
      "[1] \"16 / 323\"\n",
      "[1] \"17 / 323 ...\"\n",
      "[1] \"Station id: 5255\"\n",
      "[1] \"17 / 323\"\n",
      "[1] \"18 / 323 ...\"\n",
      "[1] \"Station id: 5255\"\n",
      "[1] \"18 / 323\"\n",
      "[1] \"19 / 323 ...\"\n",
      "[1] \"Station id: 5929\"\n",
      "[1] \"19 / 323\"\n",
      "[1] \"20 / 323 ...\"\n",
      "[1] \"Station id: 5222\"\n",
      "[1] \"20 / 323\"\n",
      "[1] \"21 / 323 ...\"\n",
      "[1] \"Station id: 5255\"\n",
      "[1] \"21 / 323\"\n",
      "[1] \"22 / 323 ...\"\n",
      "[1] \"Station id: 5929\"\n",
      "[1] \"22 / 323\"\n",
      "[1] \"23 / 323 ...\"\n",
      "[1] \"Station id: 5222\"\n",
      "[1] \"23 / 323\"\n",
      "[1] \"24 / 323 ...\"\n",
      "[1] \"Station id: 5251\"\n"
     ]
    },
    {
     "name": "stderr",
     "output_type": "stream",
     "text": [
      "Some variables have non-numeric values (spd_max_gust), for stations: 5251\n",
      "\n",
      "  Replaced all non-numeric entries with NA. Use 'string_as = NULL' to keep as characters (see ?weather_dl).\n",
      "\n"
     ]
    },
    {
     "name": "stdout",
     "output_type": "stream",
     "text": [
      "[1] \"24 / 323\"\n",
      "[1] \"25 / 323 ...\"\n",
      "[1] \"Station id: 5447\"\n",
      "[1] \"25 / 323\"\n",
      "[1] \"26 / 323 ...\"\n",
      "[1] \"Station id: 5255\"\n",
      "[1] \"26 / 323\"\n",
      "[1] \"27 / 323 ...\"\n",
      "[1] \"Station id: 5929\"\n",
      "[1] \"27 / 323\"\n",
      "[1] \"28 / 323 ...\"\n",
      "[1] \"Station id: 5393\"\n",
      "[1] \"28 / 323\"\n",
      "[1] \"29 / 323 ...\"\n",
      "[1] \"Station id: 5222\"\n",
      "[1] \"29 / 323\"\n",
      "[1] \"30 / 323 ...\"\n",
      "[1] \"Station id: 5929\"\n",
      "[1] \"30 / 323\"\n",
      "[1] \"31 / 323 ...\"\n",
      "[1] \"Station id: 5929\"\n",
      "[1] \"31 / 323\"\n",
      "[1] \"32 / 323 ...\"\n",
      "[1] \"Station id: 5929\"\n",
      "[1] \"32 / 323\"\n",
      "[1] \"33 / 323 ...\"\n",
      "[1] \"Station id: 5929\"\n",
      "[1] \"33 / 323\"\n",
      "[1] \"34 / 323 ...\"\n",
      "[1] \"Station id: 5929\"\n",
      "[1] \"34 / 323\"\n",
      "[1] \"35 / 323 ...\"\n",
      "[1] \"Station id: 5929\"\n",
      "[1] \"35 / 323\"\n",
      "[1] \"36 / 323 ...\"\n",
      "[1] \"Station id: 5929\"\n",
      "[1] \"36 / 323\"\n",
      "[1] \"37 / 323 ...\"\n",
      "[1] \"Station id: 5929\"\n",
      "[1] \"37 / 323\"\n",
      "[1] \"38 / 323 ...\"\n",
      "[1] \"Station id: 5929\"\n",
      "[1] \"38 / 323\"\n",
      "[1] \"39 / 323 ...\"\n",
      "[1] \"Station id: 5929\"\n",
      "[1] \"39 / 323\"\n",
      "[1] \"40 / 323 ...\"\n",
      "[1] \"Station id: 5929\"\n",
      "[1] \"40 / 323\"\n",
      "[1] \"41 / 323 ...\"\n",
      "[1] \"Station id: 5929\"\n",
      "[1] \"41 / 323\"\n",
      "[1] \"42 / 323 ...\"\n",
      "[1] \"Station id: 5929\"\n",
      "[1] \"42 / 323\"\n",
      "[1] \"43 / 323 ...\"\n",
      "[1] \"Station id: 5929\"\n",
      "[1] \"43 / 323\"\n",
      "[1] \"44 / 323 ...\"\n",
      "[1] \"Station id: 5929\"\n",
      "[1] \"44 / 323\"\n",
      "[1] \"45 / 323 ...\"\n",
      "[1] \"Station id: 5929\"\n",
      "[1] \"45 / 323\"\n",
      "[1] \"46 / 323 ...\"\n",
      "[1] \"Station id: 5459\"\n",
      "[1] \"46 / 323\"\n",
      "[1] \"47 / 323 ...\"\n",
      "[1] \"Station id: 5222\"\n",
      "[1] \"47 / 323\"\n",
      "[1] \"48 / 323 ...\"\n",
      "[1] \"Station id: 5222\"\n",
      "[1] \"48 / 323\"\n",
      "[1] \"49 / 323 ...\"\n",
      "[1] \"Station id: 5222\"\n",
      "[1] \"49 / 323\"\n",
      "[1] \"50 / 323 ...\"\n",
      "[1] \"Station id: 5315\"\n",
      "[1] \"50 / 323\"\n",
      "[1] \"51 / 323 ...\"\n",
      "[1] \"Station id: 5315\"\n",
      "[1] \"51 / 323\"\n",
      "[1] \"52 / 323 ...\"\n",
      "[1] \"Station id: 5806\"\n",
      "[1] \"52 / 323\"\n",
      "[1] \"53 / 323 ...\"\n",
      "[1] \"Station id: 5806\"\n",
      "[1] \"53 / 323\"\n",
      "[1] \"54 / 323 ...\"\n",
      "[1] \"Station id: 5806\"\n",
      "[1] \"54 / 323\"\n",
      "[1] \"55 / 323 ...\"\n",
      "[1] \"Station id: 5806\"\n",
      "[1] \"55 / 323\"\n",
      "[1] \"56 / 323 ...\"\n",
      "[1] \"Station id: 5662\"\n",
      "[1] \"56 / 323\"\n",
      "[1] \"57 / 323 ...\"\n",
      "[1] \"Station id: 5662\"\n"
     ]
    },
    {
     "name": "stderr",
     "output_type": "stream",
     "text": [
      "There are no data for station 5662, in this time range (1955-01-01 to 1960-01-01), for this interval (day), \n",
      "Available Station Data:\n",
      "\u001b[38;5;246m# A tibble: 3 x 14\u001b[39m\n",
      "  prov  station_name station_id climate_id WMO_id TC_id   lat   lon  elev tz   \n",
      "  \u001b[3m\u001b[38;5;246m<chr>\u001b[39m\u001b[23m \u001b[3m\u001b[38;5;246m<chr>\u001b[39m\u001b[23m             \u001b[3m\u001b[38;5;246m<int>\u001b[39m\u001b[23m \u001b[3m\u001b[38;5;246m<fct>\u001b[39m\u001b[23m       \u001b[3m\u001b[38;5;246m<int>\u001b[39m\u001b[23m \u001b[3m\u001b[38;5;246m<fct>\u001b[39m\u001b[23m \u001b[3m\u001b[38;5;246m<dbl>\u001b[39m\u001b[23m \u001b[3m\u001b[38;5;246m<dbl>\u001b[39m\u001b[23m \u001b[3m\u001b[38;5;246m<dbl>\u001b[39m\u001b[23m \u001b[3m\u001b[38;5;246m<chr>\u001b[39m\u001b[23m\n",
      "\u001b[38;5;250m1\u001b[39m QC    BAIE-COMEAU…       \u001b[4m5\u001b[24m662 7040440        \u001b[31mNA\u001b[39m \u001b[31mNA\u001b[39m     49.1 -\u001b[31m68\u001b[39m\u001b[31m.\u001b[39m\u001b[31m2\u001b[39m  21.6 Etc/…\n",
      "\u001b[38;5;250m2\u001b[39m QC    BAIE-COMEAU…       \u001b[4m5\u001b[24m662 7040440        \u001b[31mNA\u001b[39m \u001b[31mNA\u001b[39m     49.1 -\u001b[31m68\u001b[39m\u001b[31m.\u001b[39m\u001b[31m2\u001b[39m  21.6 Etc/…\n",
      "\u001b[38;5;250m3\u001b[39m QC    BAIE-COMEAU…       \u001b[4m5\u001b[24m662 7040440        \u001b[31mNA\u001b[39m \u001b[31mNA\u001b[39m     49.1 -\u001b[31m68\u001b[39m\u001b[31m.\u001b[39m\u001b[31m2\u001b[39m  21.6 Etc/…\n",
      "\u001b[38;5;246m# … with 4 more variables: interval \u001b[3m\u001b[38;5;246m<chr>\u001b[38;5;246m\u001b[23m, start \u001b[3m\u001b[38;5;246m<int>\u001b[38;5;246m\u001b[23m, end \u001b[3m\u001b[38;5;246m<int>\u001b[38;5;246m\u001b[23m,\n",
      "#   normals \u001b[3m\u001b[38;5;246m<lgl>\u001b[38;5;246m\u001b[23m\u001b[39m\n",
      "\n"
     ]
    },
    {
     "name": "stdout",
     "output_type": "stream",
     "text": [
      "[1] \"57 / 323\"\n",
      "[1] \"58 / 323 ...\"\n",
      "[1] \"Station id: 5662\"\n"
     ]
    },
    {
     "name": "stderr",
     "output_type": "stream",
     "text": [
      "There are no data for station 5662, in this time range (1956-01-01 to 1961-01-01), for this interval (day), \n",
      "Available Station Data:\n",
      "\u001b[38;5;246m# A tibble: 3 x 14\u001b[39m\n",
      "  prov  station_name station_id climate_id WMO_id TC_id   lat   lon  elev tz   \n",
      "  \u001b[3m\u001b[38;5;246m<chr>\u001b[39m\u001b[23m \u001b[3m\u001b[38;5;246m<chr>\u001b[39m\u001b[23m             \u001b[3m\u001b[38;5;246m<int>\u001b[39m\u001b[23m \u001b[3m\u001b[38;5;246m<fct>\u001b[39m\u001b[23m       \u001b[3m\u001b[38;5;246m<int>\u001b[39m\u001b[23m \u001b[3m\u001b[38;5;246m<fct>\u001b[39m\u001b[23m \u001b[3m\u001b[38;5;246m<dbl>\u001b[39m\u001b[23m \u001b[3m\u001b[38;5;246m<dbl>\u001b[39m\u001b[23m \u001b[3m\u001b[38;5;246m<dbl>\u001b[39m\u001b[23m \u001b[3m\u001b[38;5;246m<chr>\u001b[39m\u001b[23m\n",
      "\u001b[38;5;250m1\u001b[39m QC    BAIE-COMEAU…       \u001b[4m5\u001b[24m662 7040440        \u001b[31mNA\u001b[39m \u001b[31mNA\u001b[39m     49.1 -\u001b[31m68\u001b[39m\u001b[31m.\u001b[39m\u001b[31m2\u001b[39m  21.6 Etc/…\n",
      "\u001b[38;5;250m2\u001b[39m QC    BAIE-COMEAU…       \u001b[4m5\u001b[24m662 7040440        \u001b[31mNA\u001b[39m \u001b[31mNA\u001b[39m     49.1 -\u001b[31m68\u001b[39m\u001b[31m.\u001b[39m\u001b[31m2\u001b[39m  21.6 Etc/…\n",
      "\u001b[38;5;250m3\u001b[39m QC    BAIE-COMEAU…       \u001b[4m5\u001b[24m662 7040440        \u001b[31mNA\u001b[39m \u001b[31mNA\u001b[39m     49.1 -\u001b[31m68\u001b[39m\u001b[31m.\u001b[39m\u001b[31m2\u001b[39m  21.6 Etc/…\n",
      "\u001b[38;5;246m# … with 4 more variables: interval \u001b[3m\u001b[38;5;246m<chr>\u001b[38;5;246m\u001b[23m, start \u001b[3m\u001b[38;5;246m<int>\u001b[38;5;246m\u001b[23m, end \u001b[3m\u001b[38;5;246m<int>\u001b[38;5;246m\u001b[23m,\n",
      "#   normals \u001b[3m\u001b[38;5;246m<lgl>\u001b[38;5;246m\u001b[23m\u001b[39m\n",
      "\n"
     ]
    },
    {
     "name": "stdout",
     "output_type": "stream",
     "text": [
      "[1] \"58 / 323\"\n",
      "[1] \"59 / 323 ...\"\n",
      "[1] \"Station id: 5662\"\n"
     ]
    },
    {
     "name": "stderr",
     "output_type": "stream",
     "text": [
      "There are no data for station 5662, in this time range (1958-01-01 to 1963-01-01), for this interval (day), \n",
      "Available Station Data:\n",
      "\u001b[38;5;246m# A tibble: 3 x 14\u001b[39m\n",
      "  prov  station_name station_id climate_id WMO_id TC_id   lat   lon  elev tz   \n",
      "  \u001b[3m\u001b[38;5;246m<chr>\u001b[39m\u001b[23m \u001b[3m\u001b[38;5;246m<chr>\u001b[39m\u001b[23m             \u001b[3m\u001b[38;5;246m<int>\u001b[39m\u001b[23m \u001b[3m\u001b[38;5;246m<fct>\u001b[39m\u001b[23m       \u001b[3m\u001b[38;5;246m<int>\u001b[39m\u001b[23m \u001b[3m\u001b[38;5;246m<fct>\u001b[39m\u001b[23m \u001b[3m\u001b[38;5;246m<dbl>\u001b[39m\u001b[23m \u001b[3m\u001b[38;5;246m<dbl>\u001b[39m\u001b[23m \u001b[3m\u001b[38;5;246m<dbl>\u001b[39m\u001b[23m \u001b[3m\u001b[38;5;246m<chr>\u001b[39m\u001b[23m\n",
      "\u001b[38;5;250m1\u001b[39m QC    BAIE-COMEAU…       \u001b[4m5\u001b[24m662 7040440        \u001b[31mNA\u001b[39m \u001b[31mNA\u001b[39m     49.1 -\u001b[31m68\u001b[39m\u001b[31m.\u001b[39m\u001b[31m2\u001b[39m  21.6 Etc/…\n",
      "\u001b[38;5;250m2\u001b[39m QC    BAIE-COMEAU…       \u001b[4m5\u001b[24m662 7040440        \u001b[31mNA\u001b[39m \u001b[31mNA\u001b[39m     49.1 -\u001b[31m68\u001b[39m\u001b[31m.\u001b[39m\u001b[31m2\u001b[39m  21.6 Etc/…\n",
      "\u001b[38;5;250m3\u001b[39m QC    BAIE-COMEAU…       \u001b[4m5\u001b[24m662 7040440        \u001b[31mNA\u001b[39m \u001b[31mNA\u001b[39m     49.1 -\u001b[31m68\u001b[39m\u001b[31m.\u001b[39m\u001b[31m2\u001b[39m  21.6 Etc/…\n",
      "\u001b[38;5;246m# … with 4 more variables: interval \u001b[3m\u001b[38;5;246m<chr>\u001b[38;5;246m\u001b[23m, start \u001b[3m\u001b[38;5;246m<int>\u001b[38;5;246m\u001b[23m, end \u001b[3m\u001b[38;5;246m<int>\u001b[38;5;246m\u001b[23m,\n",
      "#   normals \u001b[3m\u001b[38;5;246m<lgl>\u001b[38;5;246m\u001b[23m\u001b[39m\n",
      "\n"
     ]
    },
    {
     "name": "stdout",
     "output_type": "stream",
     "text": [
      "[1] \"59 / 323\"\n",
      "[1] \"60 / 323 ...\"\n",
      "[1] \"Station id: 5201\"\n",
      "[1] \"60 / 323\"\n",
      "[1] \"61 / 323 ...\"\n",
      "[1] \"Station id: 5447\"\n",
      "[1] \"61 / 323\"\n",
      "[1] \"62 / 323 ...\"\n",
      "[1] \"Station id: 5447\"\n",
      "[1] \"62 / 323\"\n",
      "[1] \"63 / 323 ...\"\n",
      "[1] \"Station id: 5447\"\n",
      "[1] \"63 / 323\"\n",
      "[1] \"64 / 323 ...\"\n",
      "[1] \"Station id: 5490\"\n"
     ]
    },
    {
     "name": "stderr",
     "output_type": "stream",
     "text": [
      "Some variables have non-numeric values (spd_max_gust), for stations: 5490\n",
      "\n",
      "  Replaced all non-numeric entries with NA. Use 'string_as = NULL' to keep as characters (see ?weather_dl).\n",
      "\n"
     ]
    },
    {
     "name": "stdout",
     "output_type": "stream",
     "text": [
      "[1] \"64 / 323\"\n",
      "[1] \"65 / 323 ...\"\n",
      "[1] \"Station id: 5490\"\n"
     ]
    },
    {
     "name": "stderr",
     "output_type": "stream",
     "text": [
      "Some variables have non-numeric values (spd_max_gust), for stations: 5490\n",
      "\n",
      "  Replaced all non-numeric entries with NA. Use 'string_as = NULL' to keep as characters (see ?weather_dl).\n",
      "\n"
     ]
    },
    {
     "name": "stdout",
     "output_type": "stream",
     "text": [
      "[1] \"65 / 323\"\n",
      "[1] \"66 / 323 ...\"\n",
      "[1] \"Station id: 5490\"\n"
     ]
    },
    {
     "name": "stderr",
     "output_type": "stream",
     "text": [
      "Some variables have non-numeric values (spd_max_gust), for stations: 5490\n",
      "\n",
      "  Replaced all non-numeric entries with NA. Use 'string_as = NULL' to keep as characters (see ?weather_dl).\n",
      "\n"
     ]
    },
    {
     "name": "stdout",
     "output_type": "stream",
     "text": [
      "[1] \"66 / 323\"\n",
      "[1] \"67 / 323 ...\"\n",
      "[1] \"Station id: 5490\"\n"
     ]
    },
    {
     "name": "stderr",
     "output_type": "stream",
     "text": [
      "Some variables have non-numeric values (spd_max_gust), for stations: 5490\n",
      "\n",
      "  Replaced all non-numeric entries with NA. Use 'string_as = NULL' to keep as characters (see ?weather_dl).\n",
      "\n"
     ]
    },
    {
     "name": "stdout",
     "output_type": "stream",
     "text": [
      "[1] \"67 / 323\"\n",
      "[1] \"68 / 323 ...\"\n",
      "[1] \"Station id: 5237\"\n",
      "[1] \"68 / 323\"\n",
      "[1] \"69 / 323 ...\"\n",
      "[1] \"Station id: 5237\"\n",
      "[1] \"69 / 323\"\n",
      "[1] \"70 / 323 ...\"\n",
      "[1] \"Station id: 5936\"\n",
      "[1] \"70 / 323\"\n",
      "[1] \"71 / 323 ...\"\n",
      "[1] \"Station id: 5936\"\n",
      "[1] \"71 / 323\"\n",
      "[1] \"72 / 323 ...\"\n",
      "[1] \"Station id: 5936\"\n",
      "[1] \"72 / 323\"\n",
      "[1] \"73 / 323 ...\"\n",
      "[1] \"Station id: 5923\"\n",
      "[1] \"73 / 323\"\n",
      "[1] \"74 / 323 ...\"\n",
      "[1] \"Station id: 5923\"\n",
      "[1] \"74 / 323\"\n",
      "[1] \"75 / 323 ...\"\n",
      "[1] \"Station id: 5315\"\n",
      "[1] \"75 / 323\"\n",
      "[1] \"76 / 323 ...\"\n",
      "[1] \"Station id: 5936\"\n",
      "[1] \"76 / 323\"\n",
      "[1] \"77 / 323 ...\"\n",
      "[1] \"Station id: 5929\"\n",
      "[1] \"77 / 323\"\n",
      "[1] \"78 / 323 ...\"\n",
      "[1] \"Station id: 5923\"\n",
      "[1] \"78 / 323\"\n",
      "[1] \"79 / 323 ...\"\n",
      "[1] \"Station id: 5238\"\n",
      "[1] \"79 / 323\"\n",
      "[1] \"80 / 323 ...\"\n",
      "[1] \"Station id: 5237\"\n",
      "[1] \"80 / 323\"\n",
      "[1] \"81 / 323 ...\"\n",
      "[1] \"Station id: 5229\"\n",
      "[1] \"81 / 323\"\n",
      "[1] \"82 / 323 ...\"\n",
      "[1] \"Station id: 5274\"\n"
     ]
    },
    {
     "name": "stderr",
     "output_type": "stream",
     "text": [
      "There are no data for station 5274, in this time range (1965-01-01 to 1970-01-01), for this interval (day), \n",
      "Available Station Data:\n",
      "\u001b[38;5;246m# A tibble: 2 x 14\u001b[39m\n",
      "  prov  station_name station_id climate_id WMO_id TC_id   lat   lon  elev tz   \n",
      "  \u001b[3m\u001b[38;5;246m<chr>\u001b[39m\u001b[23m \u001b[3m\u001b[38;5;246m<chr>\u001b[39m\u001b[23m             \u001b[3m\u001b[38;5;246m<int>\u001b[39m\u001b[23m \u001b[3m\u001b[38;5;246m<fct>\u001b[39m\u001b[23m       \u001b[3m\u001b[38;5;246m<int>\u001b[39m\u001b[23m \u001b[3m\u001b[38;5;246m<fct>\u001b[39m\u001b[23m \u001b[3m\u001b[38;5;246m<dbl>\u001b[39m\u001b[23m \u001b[3m\u001b[38;5;246m<dbl>\u001b[39m\u001b[23m \u001b[3m\u001b[38;5;246m<dbl>\u001b[39m\u001b[23m \u001b[3m\u001b[38;5;246m<chr>\u001b[39m\u001b[23m\n",
      "\u001b[38;5;250m1\u001b[39m QC    ST JACQUES         \u001b[4m5\u001b[24m274 7017380        \u001b[31mNA\u001b[39m \u001b[31mNA\u001b[39m     46.0 -\u001b[31m73\u001b[39m\u001b[31m.\u001b[39m\u001b[31m6\u001b[39m    69 Etc/…\n",
      "\u001b[38;5;250m2\u001b[39m QC    ST JACQUES         \u001b[4m5\u001b[24m274 7017380        \u001b[31mNA\u001b[39m \u001b[31mNA\u001b[39m     46.0 -\u001b[31m73\u001b[39m\u001b[31m.\u001b[39m\u001b[31m6\u001b[39m    69 Etc/…\n",
      "\u001b[38;5;246m# … with 4 more variables: interval \u001b[3m\u001b[38;5;246m<chr>\u001b[38;5;246m\u001b[23m, start \u001b[3m\u001b[38;5;246m<int>\u001b[38;5;246m\u001b[23m, end \u001b[3m\u001b[38;5;246m<int>\u001b[38;5;246m\u001b[23m,\n",
      "#   normals \u001b[3m\u001b[38;5;246m<lgl>\u001b[38;5;246m\u001b[23m\u001b[39m\n",
      "\n"
     ]
    },
    {
     "name": "stdout",
     "output_type": "stream",
     "text": [
      "[1] \"82 / 323\"\n",
      "[1] \"83 / 323 ...\"\n",
      "[1] \"Station id: 5315\"\n",
      "[1] \"83 / 323\"\n",
      "[1] \"84 / 323 ...\"\n",
      "[1] \"Station id: 5315\"\n",
      "[1] \"84 / 323\"\n",
      "[1] \"85 / 323 ...\"\n",
      "[1] \"Station id: 5315\"\n",
      "[1] \"85 / 323\"\n",
      "[1] \"86 / 323 ...\"\n",
      "[1] \"Station id: 5532\"\n",
      "[1] \"86 / 323\"\n",
      "[1] \"87 / 323 ...\"\n",
      "[1] \"Station id: 5532\"\n",
      "[1] \"87 / 323\"\n",
      "[1] \"88 / 323 ...\"\n",
      "[1] \"Station id: 5222\"\n",
      "[1] \"88 / 323\"\n",
      "[1] \"89 / 323 ...\"\n",
      "[1] \"Station id: 5861\"\n",
      "[1] \"89 / 323\"\n",
      "[1] \"90 / 323 ...\"\n",
      "[1] \"Station id: 5674\"\n",
      "[1] \"90 / 323\"\n",
      "[1] \"91 / 323 ...\"\n",
      "[1] \"Station id: 5266\"\n",
      "[1] \"91 / 323\"\n",
      "[1] \"92 / 323 ...\"\n",
      "[1] \"Station id: 5257\"\n",
      "[1] \"92 / 323\"\n",
      "[1] \"93 / 323 ...\"\n",
      "[1] \"Station id: 5257\"\n",
      "[1] \"93 / 323\"\n",
      "[1] \"94 / 323 ...\"\n",
      "[1] \"Station id: 5257\"\n",
      "[1] \"94 / 323\"\n",
      "[1] \"95 / 323 ...\"\n",
      "[1] \"Station id: 5255\"\n",
      "[1] \"95 / 323\"\n",
      "[1] \"96 / 323 ...\"\n",
      "[1] \"Station id: 5929\"\n",
      "[1] \"96 / 323\"\n",
      "[1] \"97 / 323 ...\"\n",
      "[1] \"Station id: 5255\"\n",
      "[1] \"97 / 323\"\n",
      "[1] \"98 / 323 ...\"\n",
      "[1] \"Station id: 5257\"\n",
      "[1] \"98 / 323\"\n",
      "[1] \"99 / 323 ...\"\n",
      "[1] \"Station id: 5257\"\n",
      "[1] \"99 / 323\"\n",
      "[1] \"100 / 323 ...\"\n",
      "[1] \"Station id: 5266\"\n",
      "[1] \"100 / 323\"\n",
      "[1] \"101 / 323 ...\"\n",
      "[1] \"Station id: 5266\"\n",
      "[1] \"101 / 323\"\n",
      "[1] \"102 / 323 ...\"\n",
      "[1] \"Station id: 5266\"\n",
      "[1] \"102 / 323\"\n",
      "[1] \"103 / 323 ...\"\n",
      "[1] \"Station id: 8321\"\n",
      "[1] \"103 / 323\"\n",
      "[1] \"104 / 323 ...\"\n",
      "[1] \"Station id: 8321\"\n",
      "[1] \"104 / 323\"\n",
      "[1] \"105 / 323 ...\"\n",
      "[1] \"Station id: 5266\"\n",
      "[1] \"105 / 323\"\n",
      "[1] \"106 / 323 ...\"\n",
      "[1] \"Station id: 5220\"\n",
      "[1] \"106 / 323\"\n",
      "[1] \"107 / 323 ...\"\n",
      "[1] \"Station id: 5929\"\n",
      "[1] \"107 / 323\"\n",
      "[1] \"108 / 323 ...\"\n",
      "[1] \"Station id: 5929\"\n",
      "[1] \"108 / 323\"\n",
      "[1] \"109 / 323 ...\"\n",
      "[1] \"Station id: 5929\"\n",
      "[1] \"109 / 323\"\n",
      "[1] \"110 / 323 ...\"\n",
      "[1] \"Station id: 8321\"\n",
      "[1] \"110 / 323\"\n",
      "[1] \"111 / 323 ...\"\n",
      "[1] \"Station id: 8321\"\n",
      "[1] \"111 / 323\"\n",
      "[1] \"112 / 323 ...\"\n",
      "[1] \"Station id: 5266\"\n",
      "[1] \"112 / 323\"\n",
      "[1] \"113 / 323 ...\"\n",
      "[1] \"Station id: 5266\"\n",
      "[1] \"113 / 323\"\n",
      "[1] \"114 / 323 ...\"\n",
      "[1] \"Station id: 5257\"\n",
      "[1] \"114 / 323\"\n",
      "[1] \"115 / 323 ...\"\n",
      "[1] \"Station id: 5257\"\n",
      "[1] \"115 / 323\"\n",
      "[1] \"116 / 323 ...\"\n",
      "[1] \"Station id: 5310\"\n",
      "[1] \"116 / 323\"\n",
      "[1] \"117 / 323 ...\"\n",
      "[1] \"Station id: 5310\"\n",
      "[1] \"117 / 323\"\n",
      "[1] \"118 / 323 ...\"\n",
      "[1] \"Station id: 5255\"\n",
      "[1] \"118 / 323\"\n",
      "[1] \"119 / 323 ...\"\n",
      "[1] \"Station id: 5257\"\n",
      "[1] \"119 / 323\"\n",
      "[1] \"120 / 323 ...\"\n",
      "[1] \"Station id: 5257\"\n",
      "[1] \"120 / 323\"\n",
      "[1] \"121 / 323 ...\"\n",
      "[1] \"Station id: 5936\"\n",
      "[1] \"121 / 323\"\n",
      "[1] \"122 / 323 ...\"\n",
      "[1] \"Station id: 5222\"\n",
      "[1] \"122 / 323\"\n",
      "[1] \"123 / 323 ...\"\n",
      "[1] \"Station id: 5889\"\n"
     ]
    },
    {
     "name": "stderr",
     "output_type": "stream",
     "text": [
      "Some variables have non-numeric values (spd_max_gust), for stations: 5889\n",
      "\n",
      "  Replaced all non-numeric entries with NA. Use 'string_as = NULL' to keep as characters (see ?weather_dl).\n",
      "\n"
     ]
    },
    {
     "name": "stdout",
     "output_type": "stream",
     "text": [
      "[1] \"123 / 323\"\n",
      "[1] \"124 / 323 ...\"\n",
      "[1] \"Station id: 5230\"\n",
      "[1] \"124 / 323\"\n",
      "[1] \"125 / 323 ...\"\n",
      "[1] \"Station id: 5674\"\n",
      "[1] \"125 / 323\"\n",
      "[1] \"126 / 323 ...\"\n",
      "[1] \"Station id: 5274\"\n",
      "[1] \"126 / 323\"\n",
      "[1] \"127 / 323 ...\"\n",
      "[1] \"Station id: 5848\"\n",
      "[1] \"127 / 323\"\n",
      "[1] \"128 / 323 ...\"\n",
      "[1] \"Station id: 5459\"\n",
      "[1] \"128 / 323\"\n",
      "[1] \"129 / 323 ...\"\n",
      "[1] \"Station id: 5222\"\n",
      "[1] \"129 / 323\"\n",
      "[1] \"130 / 323 ...\"\n",
      "[1] \"Station id: 5923\"\n",
      "[1] \"130 / 323\"\n",
      "[1] \"131 / 323 ...\"\n",
      "[1] \"Station id: 5315\"\n",
      "[1] \"131 / 323\"\n",
      "[1] \"132 / 323 ...\"\n",
      "[1] \"Station id: 5936\"\n",
      "[1] \"132 / 323\"\n",
      "[1] \"133 / 323 ...\"\n",
      "[1] \"Station id: 5923\"\n",
      "[1] \"133 / 323\"\n",
      "[1] \"134 / 323 ...\"\n",
      "[1] \"Station id: 5929\"\n",
      "[1] \"134 / 323\"\n",
      "[1] \"135 / 323 ...\"\n",
      "[1] \"Station id: 5315\"\n",
      "[1] \"135 / 323\"\n",
      "[1] \"136 / 323 ...\"\n",
      "[1] \"Station id: 5936\"\n",
      "[1] \"136 / 323\"\n",
      "[1] \"137 / 323 ...\"\n",
      "[1] \"Station id: 5929\"\n",
      "[1] \"137 / 323\"\n",
      "[1] \"138 / 323 ...\"\n",
      "[1] \"Station id: 5936\"\n",
      "[1] \"138 / 323\"\n",
      "[1] \"139 / 323 ...\"\n",
      "[1] \"Station id: 5806\"\n",
      "[1] \"139 / 323\"\n",
      "[1] \"140 / 323 ...\"\n",
      "[1] \"Station id: 5447\"\n",
      "[1] \"140 / 323\"\n",
      "[1] \"141 / 323 ...\"\n",
      "[1] \"Station id: 5929\"\n",
      "[1] \"141 / 323\"\n",
      "[1] \"142 / 323 ...\"\n",
      "[1] \"Station id: 5222\"\n",
      "[1] \"142 / 323\"\n",
      "[1] \"143 / 323 ...\"\n",
      "[1] \"Station id: 5861\"\n",
      "[1] \"143 / 323\"\n",
      "[1] \"144 / 323 ...\"\n",
      "[1] \"Station id: 5845\"\n",
      "[1] \"144 / 323\"\n",
      "[1] \"145 / 323 ...\"\n",
      "[1] \"Station id: 5532\"\n",
      "[1] \"145 / 323\"\n",
      "[1] \"146 / 323 ...\"\n",
      "[1] \"Station id: 5255\"\n",
      "[1] \"146 / 323\"\n",
      "[1] \"147 / 323 ...\"\n",
      "[1] \"Station id: 5255\"\n",
      "[1] \"147 / 323\"\n",
      "[1] \"148 / 323 ...\"\n",
      "[1] \"Station id: 5222\"\n",
      "[1] \"148 / 323\"\n",
      "[1] \"149 / 323 ...\"\n",
      "[1] \"Station id: 5532\"\n",
      "[1] \"149 / 323\"\n",
      "[1] \"150 / 323 ...\"\n",
      "[1] \"Station id: 5447\"\n",
      "[1] \"150 / 323\"\n",
      "[1] \"151 / 323 ...\"\n",
      "[1] \"Station id: 5447\"\n",
      "[1] \"151 / 323\"\n",
      "[1] \"152 / 323 ...\"\n",
      "[1] \"Station id: 5230\"\n",
      "[1] \"152 / 323\"\n",
      "[1] \"153 / 323 ...\"\n",
      "[1] \"Station id: 5274\"\n",
      "[1] \"153 / 323\"\n",
      "[1] \"154 / 323 ...\"\n",
      "[1] \"Station id: 5237\"\n"
     ]
    },
    {
     "name": "stderr",
     "output_type": "stream",
     "text": [
      "Some variables have non-numeric values (spd_max_gust), for stations: 5237\n",
      "\n",
      "  Replaced all non-numeric entries with NA. Use 'string_as = NULL' to keep as characters (see ?weather_dl).\n",
      "\n"
     ]
    },
    {
     "name": "stdout",
     "output_type": "stream",
     "text": [
      "[1] \"154 / 323\"\n",
      "[1] \"155 / 323 ...\"\n",
      "[1] \"Station id: 5237\"\n"
     ]
    },
    {
     "name": "stderr",
     "output_type": "stream",
     "text": [
      "Some variables have non-numeric values (spd_max_gust), for stations: 5237\n",
      "\n",
      "  Replaced all non-numeric entries with NA. Use 'string_as = NULL' to keep as characters (see ?weather_dl).\n",
      "\n"
     ]
    },
    {
     "name": "stdout",
     "output_type": "stream",
     "text": [
      "[1] \"155 / 323\"\n",
      "[1] \"156 / 323 ...\"\n",
      "[1] \"Station id: 5274\"\n",
      "[1] \"156 / 323\"\n",
      "[1] \"157 / 323 ...\"\n",
      "[1] \"Station id: 5255\"\n",
      "[1] \"157 / 323\"\n",
      "[1] \"158 / 323 ...\"\n",
      "[1] \"Station id: 5244\"\n",
      "[1] \"158 / 323\"\n",
      "[1] \"159 / 323 ...\"\n",
      "[1] \"Station id: 5203\"\n",
      "[1] \"159 / 323\"\n",
      "[1] \"160 / 323 ...\"\n",
      "[1] \"Station id: 5522\"\n",
      "[1] \"160 / 323\"\n",
      "[1] \"161 / 323 ...\"\n",
      "[1] \"Station id: 5222\"\n",
      "[1] \"161 / 323\"\n",
      "[1] \"162 / 323 ...\"\n",
      "[1] \"Station id: 5244\"\n",
      "[1] \"162 / 323\"\n",
      "[1] \"163 / 323 ...\"\n",
      "[1] \"Station id: 5203\"\n",
      "[1] \"163 / 323\"\n",
      "[1] \"164 / 323 ...\"\n",
      "[1] \"Station id: 5203\"\n",
      "[1] \"164 / 323\"\n",
      "[1] \"165 / 323 ...\"\n",
      "[1] \"Station id: 5203\"\n",
      "[1] \"165 / 323\"\n",
      "[1] \"166 / 323 ...\"\n",
      "[1] \"Station id: 5222\"\n",
      "[1] \"166 / 323\"\n",
      "[1] \"167 / 323 ...\"\n",
      "[1] \"Station id: 5674\"\n",
      "[1] \"167 / 323\"\n",
      "[1] \"168 / 323 ...\"\n",
      "[1] \"Station id: 5203\"\n",
      "[1] \"168 / 323\"\n",
      "[1] \"169 / 323 ...\"\n",
      "[1] \"Station id: 10965\"\n"
     ]
    },
    {
     "name": "stderr",
     "output_type": "stream",
     "text": [
      "There are no data for station 10965, in this time range (2000-01-01 to 2005-01-01), for this interval (day), \n",
      "Available Station Data:\n",
      "\u001b[38;5;246m# A tibble: 2 x 14\u001b[39m\n",
      "  prov  station_name station_id climate_id WMO_id TC_id   lat   lon  elev tz   \n",
      "  \u001b[3m\u001b[38;5;246m<chr>\u001b[39m\u001b[23m \u001b[3m\u001b[38;5;246m<chr>\u001b[39m\u001b[23m             \u001b[3m\u001b[38;5;246m<int>\u001b[39m\u001b[23m \u001b[3m\u001b[38;5;246m<fct>\u001b[39m\u001b[23m       \u001b[3m\u001b[38;5;246m<int>\u001b[39m\u001b[23m \u001b[3m\u001b[38;5;246m<fct>\u001b[39m\u001b[23m \u001b[3m\u001b[38;5;246m<dbl>\u001b[39m\u001b[23m \u001b[3m\u001b[38;5;246m<dbl>\u001b[39m\u001b[23m \u001b[3m\u001b[38;5;246m<dbl>\u001b[39m\u001b[23m \u001b[3m\u001b[38;5;246m<chr>\u001b[39m\u001b[23m\n",
      "\u001b[38;5;250m1\u001b[39m QC    VALCARTIER        \u001b[4m1\u001b[24m\u001b[4m0\u001b[24m965 7018572        \u001b[31mNA\u001b[39m WQG    46.9 -\u001b[31m71\u001b[39m\u001b[31m.\u001b[39m\u001b[31m5\u001b[39m  168. Etc/…\n",
      "\u001b[38;5;250m2\u001b[39m QC    VALCARTIER        \u001b[4m1\u001b[24m\u001b[4m0\u001b[24m965 7018572        \u001b[31mNA\u001b[39m WQG    46.9 -\u001b[31m71\u001b[39m\u001b[31m.\u001b[39m\u001b[31m5\u001b[39m  168. Etc/…\n",
      "\u001b[38;5;246m# … with 4 more variables: interval \u001b[3m\u001b[38;5;246m<chr>\u001b[38;5;246m\u001b[23m, start \u001b[3m\u001b[38;5;246m<int>\u001b[38;5;246m\u001b[23m, end \u001b[3m\u001b[38;5;246m<int>\u001b[38;5;246m\u001b[23m,\n",
      "#   normals \u001b[3m\u001b[38;5;246m<lgl>\u001b[38;5;246m\u001b[23m\u001b[39m\n",
      "\n"
     ]
    },
    {
     "name": "stdout",
     "output_type": "stream",
     "text": [
      "[1] \"169 / 323\"\n",
      "[1] \"170 / 323 ...\"\n",
      "[1] \"Station id: 5674\"\n",
      "[1] \"170 / 323\"\n",
      "[1] \"171 / 323 ...\"\n",
      "[1] \"Station id: 5203\"\n",
      "[1] \"171 / 323\"\n",
      "[1] \"172 / 323 ...\"\n",
      "[1] \"Station id: 5255\"\n",
      "[1] \"172 / 323\"\n",
      "[1] \"173 / 323 ...\"\n",
      "[1] \"Station id: 5222\"\n",
      "[1] \"173 / 323\"\n",
      "[1] \"174 / 323 ...\"\n",
      "[1] \"Station id: 8989\"\n"
     ]
    },
    {
     "name": "stderr",
     "output_type": "stream",
     "text": [
      "Some variables have non-numeric values (spd_max_gust), for stations: 8989\n",
      "\n",
      "  Replaced all non-numeric entries with NA. Use 'string_as = NULL' to keep as characters (see ?weather_dl).\n",
      "\n"
     ]
    },
    {
     "name": "stdout",
     "output_type": "stream",
     "text": [
      "[1] \"174 / 323\"\n",
      "[1] \"175 / 323 ...\"\n",
      "[1] \"Station id: 5255\"\n",
      "[1] \"175 / 323\"\n",
      "[1] \"176 / 323 ...\"\n",
      "[1] \"Station id: 8989\"\n"
     ]
    },
    {
     "name": "stderr",
     "output_type": "stream",
     "text": [
      "Some variables have non-numeric values (spd_max_gust), for stations: 8989\n",
      "\n",
      "  Replaced all non-numeric entries with NA. Use 'string_as = NULL' to keep as characters (see ?weather_dl).\n",
      "\n"
     ]
    },
    {
     "name": "stdout",
     "output_type": "stream",
     "text": [
      "[1] \"176 / 323\"\n",
      "[1] \"177 / 323 ...\"\n",
      "[1] \"Station id: 8989\"\n"
     ]
    },
    {
     "name": "stderr",
     "output_type": "stream",
     "text": [
      "Some variables have non-numeric values (spd_max_gust), for stations: 8989\n",
      "\n",
      "  Replaced all non-numeric entries with NA. Use 'string_as = NULL' to keep as characters (see ?weather_dl).\n",
      "\n"
     ]
    },
    {
     "name": "stdout",
     "output_type": "stream",
     "text": [
      "[1] \"177 / 323\"\n",
      "[1] \"178 / 323 ...\"\n",
      "[1] \"Station id: 8989\"\n"
     ]
    },
    {
     "name": "stderr",
     "output_type": "stream",
     "text": [
      "Some variables have non-numeric values (spd_max_gust), for stations: 8989\n",
      "\n",
      "  Replaced all non-numeric entries with NA. Use 'string_as = NULL' to keep as characters (see ?weather_dl).\n",
      "\n"
     ]
    },
    {
     "name": "stdout",
     "output_type": "stream",
     "text": [
      "[1] \"178 / 323\"\n",
      "[1] \"179 / 323 ...\"\n",
      "[1] \"Station id: 5393\"\n",
      "[1] \"179 / 323\"\n",
      "[1] \"180 / 323 ...\"\n",
      "[1] \"Station id: 5861\"\n",
      "[1] \"180 / 323\"\n",
      "[1] \"181 / 323 ...\"\n",
      "[1] \"Station id: 5393\"\n",
      "[1] \"181 / 323\"\n",
      "[1] \"182 / 323 ...\"\n",
      "[1] \"Station id: 5861\"\n",
      "[1] \"182 / 323\"\n",
      "[1] \"183 / 323 ...\"\n",
      "[1] \"Station id: 5861\"\n",
      "[1] \"183 / 323\"\n",
      "[1] \"184 / 323 ...\"\n",
      "[1] \"Station id: 5201\"\n",
      "[1] \"184 / 323\"\n",
      "[1] \"185 / 323 ...\"\n",
      "[1] \"Station id: 5225\"\n",
      "[1] \"185 / 323\"\n",
      "[1] \"186 / 323 ...\"\n",
      "[1] \"Station id: 10732\"\n"
     ]
    },
    {
     "name": "stderr",
     "output_type": "stream",
     "text": [
      "Some variables have non-numeric values (spd_max_gust), for stations: 10732\n",
      "\n",
      "  Replaced all non-numeric entries with NA. Use 'string_as = NULL' to keep as characters (see ?weather_dl).\n",
      "\n"
     ]
    },
    {
     "name": "stdout",
     "output_type": "stream",
     "text": [
      "[1] \"186 / 323\"\n",
      "[1] \"187 / 323 ...\"\n",
      "[1] \"Station id: 5201\"\n",
      "[1] \"187 / 323\"\n",
      "[1] \"188 / 323 ...\"\n",
      "[1] \"Station id: 5201\"\n",
      "[1] \"188 / 323\"\n",
      "[1] \"189 / 323 ...\"\n",
      "[1] \"Station id: 27646\"\n"
     ]
    },
    {
     "name": "stderr",
     "output_type": "stream",
     "text": [
      "Some variables have non-numeric values (spd_max_gust), for stations: 27646\n",
      "\n",
      "  Replaced all non-numeric entries with NA. Use 'string_as = NULL' to keep as characters (see ?weather_dl).\n",
      "\n"
     ]
    },
    {
     "name": "stdout",
     "output_type": "stream",
     "text": [
      "[1] \"189 / 323\"\n",
      "[1] \"190 / 323 ...\"\n",
      "[1] \"Station id: 5201\"\n",
      "[1] \"190 / 323\"\n",
      "[1] \"191 / 323 ...\"\n",
      "[1] \"Station id: 5201\"\n",
      "[1] \"191 / 323\"\n",
      "[1] \"192 / 323 ...\"\n",
      "[1] \"Station id: 5201\"\n",
      "[1] \"192 / 323\"\n",
      "[1] \"193 / 323 ...\"\n",
      "[1] \"Station id: 5230\"\n",
      "[1] \"193 / 323\"\n",
      "[1] \"194 / 323 ...\"\n",
      "[1] \"Station id: 5237\"\n"
     ]
    },
    {
     "name": "stderr",
     "output_type": "stream",
     "text": [
      "Some variables have non-numeric values (spd_max_gust), for stations: 5237\n",
      "\n",
      "  Replaced all non-numeric entries with NA. Use 'string_as = NULL' to keep as characters (see ?weather_dl).\n",
      "\n"
     ]
    },
    {
     "name": "stdout",
     "output_type": "stream",
     "text": [
      "[1] \"194 / 323\"\n",
      "[1] \"195 / 323 ...\"\n",
      "[1] \"Station id: 5237\"\n"
     ]
    },
    {
     "name": "stderr",
     "output_type": "stream",
     "text": [
      "Some variables have non-numeric values (spd_max_gust), for stations: 5237\n",
      "\n",
      "  Replaced all non-numeric entries with NA. Use 'string_as = NULL' to keep as characters (see ?weather_dl).\n",
      "\n"
     ]
    },
    {
     "name": "stdout",
     "output_type": "stream",
     "text": [
      "[1] \"195 / 323\"\n",
      "[1] \"196 / 323 ...\"\n",
      "[1] \"Station id: 5274\"\n",
      "[1] \"196 / 323\"\n",
      "[1] \"197 / 323 ...\"\n",
      "[1] \"Station id: 5237\"\n"
     ]
    },
    {
     "name": "stderr",
     "output_type": "stream",
     "text": [
      "Some variables have non-numeric values (spd_max_gust), for stations: 5237\n",
      "\n",
      "  Replaced all non-numeric entries with NA. Use 'string_as = NULL' to keep as characters (see ?weather_dl).\n",
      "\n"
     ]
    },
    {
     "name": "stdout",
     "output_type": "stream",
     "text": [
      "[1] \"197 / 323\"\n",
      "[1] \"198 / 323 ...\"\n",
      "[1] \"Station id: 5237\"\n"
     ]
    },
    {
     "name": "stderr",
     "output_type": "stream",
     "text": [
      "Some variables have non-numeric values (spd_max_gust), for stations: 5237\n",
      "\n",
      "  Replaced all non-numeric entries with NA. Use 'string_as = NULL' to keep as characters (see ?weather_dl).\n",
      "\n"
     ]
    },
    {
     "name": "stdout",
     "output_type": "stream",
     "text": [
      "[1] \"198 / 323\"\n",
      "[1] \"199 / 323 ...\"\n",
      "[1] \"Station id: 5532\"\n",
      "[1] \"199 / 323\"\n",
      "[1] \"200 / 323 ...\"\n",
      "[1] \"Station id: 5393\"\n",
      "[1] \"200 / 323\"\n",
      "[1] \"201 / 323 ...\"\n",
      "[1] \"Station id: 5532\"\n",
      "[1] \"201 / 323\"\n",
      "[1] \"202 / 323 ...\"\n",
      "[1] \"Station id: 5393\"\n",
      "[1] \"202 / 323\"\n",
      "[1] \"203 / 323 ...\"\n",
      "[1] \"Station id: 5222\"\n",
      "[1] \"203 / 323\"\n",
      "[1] \"204 / 323 ...\"\n",
      "[1] \"Station id: 5203\"\n",
      "[1] \"204 / 323\"\n",
      "[1] \"205 / 323 ...\"\n",
      "[1] \"Station id: 5222\"\n",
      "[1] \"205 / 323\"\n",
      "[1] \"206 / 323 ...\"\n",
      "[1] \"Station id: 5203\"\n",
      "[1] \"206 / 323\"\n",
      "[1] \"207 / 323 ...\"\n",
      "[1] \"Station id: 5222\"\n",
      "[1] \"207 / 323\"\n",
      "[1] \"208 / 323 ...\"\n",
      "[1] \"Station id: 8321\"\n",
      "[1] \"208 / 323\"\n",
      "[1] \"209 / 323 ...\"\n",
      "[1] \"Station id: 5257\"\n",
      "[1] \"209 / 323\"\n",
      "[1] \"210 / 323 ...\"\n",
      "[1] \"Station id: 5936\"\n",
      "[1] \"210 / 323\"\n",
      "[1] \"211 / 323 ...\"\n",
      "[1] \"Station id: 5274\"\n",
      "[1] \"211 / 323\"\n",
      "[1] \"212 / 323 ...\"\n",
      "[1] \"Station id: 5274\"\n",
      "[1] \"212 / 323\"\n",
      "[1] \"213 / 323 ...\"\n",
      "[1] \"Station id: 5936\"\n",
      "[1] \"213 / 323\"\n",
      "[1] \"214 / 323 ...\"\n",
      "[1] \"Station id: 5936\"\n",
      "[1] \"214 / 323\"\n",
      "[1] \"215 / 323 ...\"\n",
      "[1] \"Station id: 5266\"\n",
      "[1] \"215 / 323\"\n",
      "[1] \"216 / 323 ...\"\n",
      "[1] \"Station id: 5203\"\n",
      "[1] \"216 / 323\"\n",
      "[1] \"217 / 323 ...\"\n",
      "[1] \"Station id: 5201\"\n",
      "[1] \"217 / 323\"\n",
      "[1] \"218 / 323 ...\"\n",
      "[1] \"Station id: 5923\"\n",
      "[1] \"218 / 323\"\n",
      "[1] \"219 / 323 ...\"\n",
      "[1] \"Station id: 5936\"\n",
      "[1] \"219 / 323\"\n",
      "[1] \"220 / 323 ...\"\n",
      "[1] \"Station id: 26892\"\n",
      "[1] \"220 / 323\"\n",
      "[1] \"221 / 323 ...\"\n",
      "[1] \"Station id: 26892\"\n",
      "[1] \"221 / 323\"\n",
      "[1] \"222 / 323 ...\"\n",
      "[1] \"Station id: 5393\"\n",
      "[1] \"222 / 323\"\n",
      "[1] \"223 / 323 ...\"\n",
      "[1] \"Station id: 5861\"\n",
      "[1] \"223 / 323\"\n",
      "[1] \"224 / 323 ...\"\n",
      "[1] \"Station id: 5255\"\n",
      "[1] \"224 / 323\"\n",
      "[1] \"225 / 323 ...\"\n",
      "[1] \"Station id: 26892\"\n",
      "[1] \"225 / 323\"\n",
      "[1] \"226 / 323 ...\"\n",
      "[1] \"Station id: 5266\"\n",
      "[1] \"226 / 323\"\n",
      "[1] \"227 / 323 ...\"\n",
      "[1] \"Station id: 8321\"\n",
      "[1] \"227 / 323\"\n",
      "[1] \"228 / 323 ...\"\n",
      "[1] \"Station id: 8674\"\n"
     ]
    },
    {
     "name": "stderr",
     "output_type": "stream",
     "text": [
      "Some variables have non-numeric values (spd_max_gust), for stations: 8674\n",
      "\n",
      "  Replaced all non-numeric entries with NA. Use 'string_as = NULL' to keep as characters (see ?weather_dl).\n",
      "\n"
     ]
    },
    {
     "name": "stdout",
     "output_type": "stream",
     "text": [
      "[1] \"228 / 323\"\n",
      "[1] \"229 / 323 ...\"\n",
      "[1] \"Station id: 5255\"\n",
      "[1] \"229 / 323\"\n",
      "[1] \"230 / 323 ...\"\n",
      "[1] \"Station id: 26892\"\n",
      "[1] \"230 / 323\"\n",
      "[1] \"231 / 323 ...\"\n",
      "[1] \"Station id: 5266\"\n",
      "[1] \"231 / 323\"\n",
      "[1] \"232 / 323 ...\"\n",
      "[1] \"Station id: 5929\"\n",
      "[1] \"232 / 323\"\n",
      "[1] \"233 / 323 ...\"\n",
      "[1] \"Station id: 5929\"\n",
      "[1] \"233 / 323\"\n",
      "[1] \"234 / 323 ...\"\n",
      "[1] \"Station id: 5687\"\n",
      "[1] \"234 / 323\"\n",
      "[1] \"235 / 323 ...\"\n",
      "[1] \"Station id: 5274\"\n",
      "[1] \"235 / 323\"\n",
      "[1] \"236 / 323 ...\"\n",
      "[1] \"Station id: 5274\"\n",
      "[1] \"236 / 323\"\n",
      "[1] \"237 / 323 ...\"\n",
      "[1] \"Station id: 5274\"\n",
      "[1] \"237 / 323\"\n",
      "[1] \"238 / 323 ...\"\n",
      "[1] \"Station id: 5237\"\n",
      "[1] \"238 / 323\"\n",
      "[1] \"239 / 323 ...\"\n",
      "[1] \"Station id: 5225\"\n",
      "[1] \"239 / 323\"\n",
      "[1] \"240 / 323 ...\"\n",
      "[1] \"Station id: 5266\"\n",
      "[1] \"240 / 323\"\n",
      "[1] \"241 / 323 ...\"\n",
      "[1] \"Station id: 5255\"\n",
      "[1] \"241 / 323\"\n",
      "[1] \"242 / 323 ...\"\n",
      "[1] \"Station id: 5266\"\n",
      "[1] \"242 / 323\"\n",
      "[1] \"243 / 323 ...\"\n",
      "[1] \"Station id: 5266\"\n",
      "[1] \"243 / 323\"\n",
      "[1] \"244 / 323 ...\"\n",
      "[1] \"Station id: 5266\"\n",
      "[1] \"244 / 323\"\n",
      "[1] \"245 / 323 ...\"\n",
      "[1] \"Station id: 8321\"\n"
     ]
    },
    {
     "name": "stderr",
     "output_type": "stream",
     "text": [
      "Some variables have non-numeric values (spd_max_gust), for stations: 8321\n",
      "\n",
      "  Replaced all non-numeric entries with NA. Use 'string_as = NULL' to keep as characters (see ?weather_dl).\n",
      "\n"
     ]
    },
    {
     "name": "stdout",
     "output_type": "stream",
     "text": [
      "[1] \"245 / 323\"\n",
      "[1] \"246 / 323 ...\"\n",
      "[1] \"Station id: 8321\"\n"
     ]
    },
    {
     "name": "stderr",
     "output_type": "stream",
     "text": [
      "Some variables have non-numeric values (spd_max_gust), for stations: 8321\n",
      "\n",
      "  Replaced all non-numeric entries with NA. Use 'string_as = NULL' to keep as characters (see ?weather_dl).\n",
      "\n"
     ]
    },
    {
     "name": "stdout",
     "output_type": "stream",
     "text": [
      "[1] \"246 / 323\"\n",
      "[1] \"247 / 323 ...\"\n",
      "[1] \"Station id: 8321\"\n"
     ]
    },
    {
     "name": "stderr",
     "output_type": "stream",
     "text": [
      "Some variables have non-numeric values (spd_max_gust), for stations: 8321\n",
      "\n",
      "  Replaced all non-numeric entries with NA. Use 'string_as = NULL' to keep as characters (see ?weather_dl).\n",
      "\n"
     ]
    },
    {
     "name": "stdout",
     "output_type": "stream",
     "text": [
      "[1] \"247 / 323\"\n",
      "[1] \"248 / 323 ...\"\n",
      "[1] \"Station id: 8321\"\n"
     ]
    },
    {
     "name": "stderr",
     "output_type": "stream",
     "text": [
      "Some variables have non-numeric values (spd_max_gust), for stations: 8321\n",
      "\n",
      "  Replaced all non-numeric entries with NA. Use 'string_as = NULL' to keep as characters (see ?weather_dl).\n",
      "\n"
     ]
    },
    {
     "name": "stdout",
     "output_type": "stream",
     "text": [
      "[1] \"248 / 323\"\n",
      "[1] \"249 / 323 ...\"\n",
      "[1] \"Station id: 5255\"\n",
      "[1] \"249 / 323\"\n",
      "[1] \"250 / 323 ...\"\n",
      "[1] \"Station id: 5687\"\n",
      "[1] \"250 / 323\"\n",
      "[1] \"251 / 323 ...\"\n",
      "[1] \"Station id: 5929\"\n",
      "[1] \"251 / 323\"\n",
      "[1] \"252 / 323 ...\"\n",
      "[1] \"Station id: 5929\"\n",
      "[1] \"252 / 323\"\n",
      "[1] \"253 / 323 ...\"\n",
      "[1] \"Station id: 5929\"\n",
      "[1] \"253 / 323\"\n",
      "[1] \"254 / 323 ...\"\n",
      "[1] \"Station id: 5255\"\n",
      "[1] \"254 / 323\"\n",
      "[1] \"255 / 323 ...\"\n",
      "[1] \"Station id: 5255\"\n",
      "[1] \"255 / 323\"\n",
      "[1] \"256 / 323 ...\"\n",
      "[1] \"Station id: 5257\"\n",
      "[1] \"256 / 323\"\n",
      "[1] \"257 / 323 ...\"\n",
      "[1] \"Station id: 5220\"\n",
      "[1] \"257 / 323\"\n",
      "[1] \"258 / 323 ...\"\n",
      "[1] \"Station id: 5220\"\n",
      "[1] \"258 / 323\"\n",
      "[1] \"259 / 323 ...\"\n",
      "[1] \"Station id: 5220\"\n",
      "[1] \"259 / 323\"\n",
      "[1] \"260 / 323 ...\"\n",
      "[1] \"Station id: 5220\"\n",
      "[1] \"260 / 323\"\n",
      "[1] \"261 / 323 ...\"\n",
      "[1] \"Station id: 5220\"\n",
      "[1] \"261 / 323\"\n",
      "[1] \"262 / 323 ...\"\n",
      "[1] \"Station id: 26892\"\n",
      "[1] \"262 / 323\"\n",
      "[1] \"263 / 323 ...\"\n",
      "[1] \"Station id: 5254\"\n",
      "[1] \"263 / 323\"\n",
      "[1] \"264 / 323 ...\"\n",
      "[1] \"Station id: 5861\"\n",
      "[1] \"264 / 323\"\n",
      "[1] \"265 / 323 ...\"\n",
      "[1] \"Station id: 26892\"\n",
      "[1] \"265 / 323\"\n",
      "[1] \"266 / 323 ...\"\n",
      "[1] \"Station id: 5257\"\n",
      "[1] \"266 / 323\"\n",
      "[1] \"267 / 323 ...\"\n",
      "[1] \"Station id: 5257\"\n",
      "[1] \"267 / 323\"\n",
      "[1] \"268 / 323 ...\"\n",
      "[1] \"Station id: 5203\"\n",
      "[1] \"268 / 323\"\n",
      "[1] \"269 / 323 ...\"\n",
      "[1] \"Station id: 5203\"\n",
      "[1] \"269 / 323\"\n",
      "[1] \"270 / 323 ...\"\n",
      "[1] \"Station id: 8321\"\n"
     ]
    },
    {
     "name": "stderr",
     "output_type": "stream",
     "text": [
      "Some variables have non-numeric values (spd_max_gust), for stations: 8321\n",
      "\n",
      "  Replaced all non-numeric entries with NA. Use 'string_as = NULL' to keep as characters (see ?weather_dl).\n",
      "\n"
     ]
    },
    {
     "name": "stdout",
     "output_type": "stream",
     "text": [
      "[1] \"270 / 323\"\n",
      "[1] \"271 / 323 ...\"\n",
      "[1] \"Station id: 8321\"\n"
     ]
    },
    {
     "name": "stderr",
     "output_type": "stream",
     "text": [
      "Some variables have non-numeric values (spd_max_gust), for stations: 8321\n",
      "\n",
      "  Replaced all non-numeric entries with NA. Use 'string_as = NULL' to keep as characters (see ?weather_dl).\n",
      "\n"
     ]
    },
    {
     "name": "stdout",
     "output_type": "stream",
     "text": [
      "[1] \"271 / 323\"\n",
      "[1] \"272 / 323 ...\"\n",
      "[1] \"Station id: 8321\"\n"
     ]
    },
    {
     "name": "stderr",
     "output_type": "stream",
     "text": [
      "Some variables have non-numeric values (spd_max_gust), for stations: 8321\n",
      "\n",
      "  Replaced all non-numeric entries with NA. Use 'string_as = NULL' to keep as characters (see ?weather_dl).\n",
      "\n"
     ]
    },
    {
     "name": "stdout",
     "output_type": "stream",
     "text": [
      "[1] \"272 / 323\"\n",
      "[1] \"273 / 323 ...\"\n",
      "[1] \"Station id: 8321\"\n"
     ]
    },
    {
     "name": "stderr",
     "output_type": "stream",
     "text": [
      "Some variables have non-numeric values (spd_max_gust), for stations: 8321\n",
      "\n",
      "  Replaced all non-numeric entries with NA. Use 'string_as = NULL' to keep as characters (see ?weather_dl).\n",
      "\n"
     ]
    },
    {
     "name": "stdout",
     "output_type": "stream",
     "text": [
      "[1] \"273 / 323\"\n",
      "[1] \"274 / 323 ...\"\n",
      "[1] \"Station id: 8674\"\n"
     ]
    },
    {
     "name": "stderr",
     "output_type": "stream",
     "text": [
      "Some variables have non-numeric values (spd_max_gust), for stations: 8674\n",
      "\n",
      "  Replaced all non-numeric entries with NA. Use 'string_as = NULL' to keep as characters (see ?weather_dl).\n",
      "\n"
     ]
    },
    {
     "name": "stdout",
     "output_type": "stream",
     "text": [
      "[1] \"274 / 323\"\n",
      "[1] \"275 / 323 ...\"\n",
      "[1] \"Station id: 5929\"\n",
      "[1] \"275 / 323\"\n",
      "[1] \"276 / 323 ...\"\n",
      "[1] \"Station id: 5929\"\n",
      "[1] \"276 / 323\"\n",
      "[1] \"277 / 323 ...\"\n",
      "[1] \"Station id: 5929\"\n",
      "[1] \"277 / 323\"\n",
      "[1] \"278 / 323 ...\"\n",
      "[1] \"Station id: 5929\"\n",
      "[1] \"278 / 323\"\n",
      "[1] \"279 / 323 ...\"\n",
      "[1] \"Station id: 5274\"\n",
      "[1] \"279 / 323\"\n",
      "[1] \"280 / 323 ...\"\n",
      "[1] \"Station id: 5532\"\n",
      "[1] \"280 / 323\"\n",
      "[1] \"281 / 323 ...\"\n",
      "[1] \"Station id: 5237\"\n"
     ]
    },
    {
     "name": "stderr",
     "output_type": "stream",
     "text": [
      "Some variables have non-numeric values (spd_max_gust), for stations: 5237\n",
      "\n",
      "  Replaced all non-numeric entries with NA. Use 'string_as = NULL' to keep as characters (see ?weather_dl).\n",
      "\n"
     ]
    },
    {
     "name": "stdout",
     "output_type": "stream",
     "text": [
      "[1] \"281 / 323\"\n",
      "[1] \"282 / 323 ...\"\n",
      "[1] \"Station id: 5532\"\n",
      "[1] \"282 / 323\"\n",
      "[1] \"283 / 323 ...\"\n",
      "[1] \"Station id: 5936\"\n",
      "[1] \"283 / 323\"\n",
      "[1] \"284 / 323 ...\"\n",
      "[1] \"Station id: 5936\"\n",
      "[1] \"284 / 323\"\n",
      "[1] \"285 / 323 ...\"\n",
      "[1] \"Station id: 5936\"\n",
      "[1] \"285 / 323\"\n",
      "[1] \"286 / 323 ...\"\n",
      "[1] \"Station id: 8321\"\n",
      "[1] \"286 / 323\"\n",
      "[1] \"287 / 323 ...\"\n",
      "[1] \"Station id: 8321\"\n",
      "[1] \"287 / 323\"\n",
      "[1] \"288 / 323 ...\"\n",
      "[1] \"Station id: 8321\"\n",
      "[1] \"288 / 323\"\n",
      "[1] \"289 / 323 ...\"\n",
      "[1] \"Station id: 5522\"\n",
      "[1] \"289 / 323\"\n",
      "[1] \"290 / 323 ...\"\n",
      "[1] \"Station id: 5522\"\n",
      "[1] \"290 / 323\"\n",
      "[1] \"291 / 323 ...\"\n",
      "[1] \"Station id: 5522\"\n",
      "[1] \"291 / 323\"\n",
      "[1] \"292 / 323 ...\"\n",
      "[1] \"Station id: 5201\"\n",
      "[1] \"292 / 323\"\n",
      "[1] \"293 / 323 ...\"\n",
      "[1] \"Station id: 5201\"\n",
      "[1] \"293 / 323\"\n",
      "[1] \"294 / 323 ...\"\n",
      "[1] \"Station id: 5201\"\n",
      "[1] \"294 / 323\"\n",
      "[1] \"295 / 323 ...\"\n",
      "[1] \"Station id: 5201\"\n",
      "[1] \"295 / 323\"\n",
      "[1] \"296 / 323 ...\"\n",
      "[1] \"Station id: 5201\"\n",
      "[1] \"296 / 323\"\n",
      "[1] \"297 / 323 ...\"\n",
      "[1] \"Station id: 5266\"\n",
      "[1] \"297 / 323\"\n",
      "[1] \"298 / 323 ...\"\n",
      "[1] \"Station id: 5255\"\n",
      "[1] \"298 / 323\"\n",
      "[1] \"299 / 323 ...\"\n",
      "[1] \"Station id: 5255\"\n",
      "[1] \"299 / 323\"\n",
      "[1] \"300 / 323 ...\"\n",
      "[1] \"Station id: 5619\"\n",
      "[1] \"300 / 323\"\n",
      "[1] \"301 / 323 ...\"\n",
      "[1] \"Station id: 5619\"\n",
      "[1] \"301 / 323\"\n",
      "[1] \"302 / 323 ...\"\n",
      "[1] \"Station id: 5619\"\n",
      "[1] \"302 / 323\"\n",
      "[1] \"303 / 323 ...\"\n",
      "[1] \"Station id: 5257\"\n",
      "[1] \"303 / 323\"\n",
      "[1] \"304 / 323 ...\"\n",
      "[1] \"Station id: 5255\"\n",
      "[1] \"304 / 323\"\n",
      "[1] \"305 / 323 ...\"\n",
      "[1] \"Station id: 5203\"\n",
      "[1] \"305 / 323\"\n",
      "[1] \"306 / 323 ...\"\n",
      "[1] \"Station id: 5619\"\n",
      "[1] \"306 / 323\"\n",
      "[1] \"307 / 323 ...\"\n",
      "[1] \"Station id: 8321\"\n"
     ]
    },
    {
     "name": "stderr",
     "output_type": "stream",
     "text": [
      "Some variables have non-numeric values (spd_max_gust), for stations: 8321\n",
      "\n",
      "  Replaced all non-numeric entries with NA. Use 'string_as = NULL' to keep as characters (see ?weather_dl).\n",
      "\n"
     ]
    },
    {
     "name": "stdout",
     "output_type": "stream",
     "text": [
      "[1] \"307 / 323\"\n",
      "[1] \"308 / 323 ...\"\n",
      "[1] \"Station id: 5266\"\n",
      "[1] \"308 / 323\"\n",
      "[1] \"309 / 323 ...\"\n",
      "[1] \"Station id: 5393\"\n",
      "[1] \"309 / 323\"\n",
      "[1] \"310 / 323 ...\"\n",
      "[1] \"Station id: 5929\"\n",
      "[1] \"310 / 323\"\n",
      "[1] \"311 / 323 ...\"\n",
      "[1] \"Station id: 5929\"\n",
      "[1] \"311 / 323\"\n",
      "[1] \"312 / 323 ...\"\n",
      "[1] \"Station id: 8989\"\n"
     ]
    },
    {
     "name": "stderr",
     "output_type": "stream",
     "text": [
      "Some variables have non-numeric values (spd_max_gust), for stations: 8989\n",
      "\n",
      "  Replaced all non-numeric entries with NA. Use 'string_as = NULL' to keep as characters (see ?weather_dl).\n",
      "\n"
     ]
    },
    {
     "name": "stdout",
     "output_type": "stream",
     "text": [
      "[1] \"312 / 323\"\n",
      "[1] \"313 / 323 ...\"\n",
      "[1] \"Station id: 10762\"\n"
     ]
    },
    {
     "name": "stderr",
     "output_type": "stream",
     "text": [
      "Some variables have non-numeric values (spd_max_gust), for stations: 10762\n",
      "\n",
      "  Replaced all non-numeric entries with NA. Use 'string_as = NULL' to keep as characters (see ?weather_dl).\n",
      "\n"
     ]
    },
    {
     "name": "stdout",
     "output_type": "stream",
     "text": [
      "[1] \"313 / 323\"\n",
      "[1] \"314 / 323 ...\"\n",
      "[1] \"Station id: 5237\"\n"
     ]
    },
    {
     "name": "stderr",
     "output_type": "stream",
     "text": [
      "Some variables have non-numeric values (spd_max_gust), for stations: 5237\n",
      "\n",
      "  Replaced all non-numeric entries with NA. Use 'string_as = NULL' to keep as characters (see ?weather_dl).\n",
      "\n"
     ]
    },
    {
     "name": "stdout",
     "output_type": "stream",
     "text": [
      "[1] \"314 / 323\"\n",
      "[1] \"315 / 323 ...\"\n",
      "[1] \"Station id: 10843\"\n"
     ]
    },
    {
     "name": "stderr",
     "output_type": "stream",
     "text": [
      "Some variables have non-numeric values (spd_max_gust), for stations: 10843\n",
      "\n",
      "  Replaced all non-numeric entries with NA. Use 'string_as = NULL' to keep as characters (see ?weather_dl).\n",
      "\n"
     ]
    },
    {
     "name": "stdout",
     "output_type": "stream",
     "text": [
      "[1] \"315 / 323\"\n",
      "[1] \"316 / 323 ...\"\n",
      "[1] \"Station id: 5522\"\n",
      "[1] \"316 / 323\"\n",
      "[1] \"317 / 323 ...\"\n",
      "[1] \"Station id: 5522\"\n",
      "[1] \"317 / 323\"\n",
      "[1] \"318 / 323 ...\"\n",
      "[1] \"Station id: 10843\"\n"
     ]
    },
    {
     "name": "stderr",
     "output_type": "stream",
     "text": [
      "Some variables have non-numeric values (spd_max_gust), for stations: 10843\n",
      "\n",
      "  Replaced all non-numeric entries with NA. Use 'string_as = NULL' to keep as characters (see ?weather_dl).\n",
      "\n"
     ]
    },
    {
     "name": "stdout",
     "output_type": "stream",
     "text": [
      "[1] \"318 / 323\"\n",
      "[1] \"319 / 323 ...\"\n",
      "[1] \"Station id: 5237\"\n"
     ]
    },
    {
     "name": "stderr",
     "output_type": "stream",
     "text": [
      "Some variables have non-numeric values (spd_max_gust), for stations: 5237\n",
      "\n",
      "  Replaced all non-numeric entries with NA. Use 'string_as = NULL' to keep as characters (see ?weather_dl).\n",
      "\n"
     ]
    },
    {
     "name": "stdout",
     "output_type": "stream",
     "text": [
      "[1] \"319 / 323\"\n",
      "[1] \"320 / 323 ...\"\n",
      "[1] \"Station id: 10843\"\n"
     ]
    },
    {
     "name": "stderr",
     "output_type": "stream",
     "text": [
      "Some variables have non-numeric values (spd_max_gust), for stations: 10843\n",
      "\n",
      "  Replaced all non-numeric entries with NA. Use 'string_as = NULL' to keep as characters (see ?weather_dl).\n",
      "\n"
     ]
    },
    {
     "name": "stdout",
     "output_type": "stream",
     "text": [
      "[1] \"320 / 323\"\n",
      "[1] \"321 / 323 ...\"\n",
      "[1] \"Station id: 5522\"\n",
      "[1] \"321 / 323\"\n",
      "[1] \"322 / 323 ...\"\n",
      "[1] \"Station id: 5237\"\n"
     ]
    },
    {
     "name": "stderr",
     "output_type": "stream",
     "text": [
      "Some variables have non-numeric values (spd_max_gust), for stations: 5237\n",
      "\n",
      "  Replaced all non-numeric entries with NA. Use 'string_as = NULL' to keep as characters (see ?weather_dl).\n",
      "\n"
     ]
    },
    {
     "name": "stdout",
     "output_type": "stream",
     "text": [
      "[1] \"322 / 323\"\n",
      "[1] \"323 / 323 ...\"\n",
      "[1] \"Station id: 5532\"\n",
      "[1] \"323 / 323\"\n"
     ]
    }
   ],
   "source": [
    "year_step <- 5 # start 5 years preceeding trial year\n",
    "data_stations$station_id <- NA # identify weather stations\n",
    "station_weather <- list() # list of weather stations containning climate data\n",
    "\n",
    "for (i in 1:nrow(data_stations)) {\n",
    "  print(paste(i, \"/\", nrow(data_stations), '...'))\n",
    "  \n",
    "  # identify the nearest station. Search for stations by name or location\n",
    "  all_stations <- stations_search(coords = c(data_stations$LatDD[i], \n",
    "                                             data_stations$LonDD[i]),  \n",
    "                                  interval = \"day\",\n",
    "                                  dist = 500)\n",
    "  annee <- data_stations$Annee[i]\n",
    "  \n",
    "  # Available station for nearest year\n",
    "  closest_station <- all_stations %>%\n",
    "                        filter(start <= annee - year_step) %>%\n",
    "                        filter(end >= annee) %>%\n",
    "                        slice(which.min(distance))\n",
    "\n",
    "  data_stations$station_id[i] <- closest_station$station_id %>% \n",
    "                                      as.character() %>% \n",
    "                                      as.numeric()\n",
    "  \n",
    "  print(paste(\"Station id:\", data_stations$station_id[i]))\n",
    "  \n",
    "  # # Download weather data from Environment Canada of the station identified\n",
    "  station_weather[[i]] <- weather_dl(station_ids = data_stations$station_id[i], \n",
    "                                     start = as.Date(paste0(annee - year_step, \"-01-01\")),\n",
    "                                     end = as.Date(paste0(annee, \"-01-01\")),\n",
    "                                     interval = \"day\")\n",
    "  \n",
    "  print(paste(i, \"/\", nrow(data_stations)))\n",
    "}\n",
    "# name of the list elements\n",
    "names(station_weather) <- as.character(data_stations$station_id) "
   ]
  },
  {
   "cell_type": "markdown",
   "metadata": {},
   "source": [
    "Compute indexes for each station"
   ]
  },
  {
   "cell_type": "code",
   "execution_count": 15,
   "metadata": {
    "scrolled": true
   },
   "outputs": [
    {
     "name": "stderr",
     "output_type": "stream",
     "text": [
      "Warning message:\n",
      "\"Unknown or uninitialised column: 'mean_temp'.\"Warning message in mean.default(season$mean_temp, na.rm = TRUE):\n",
      "\"argument is not numeric or logical: returning NA\"Warning message:\n",
      "\"Unknown or uninitialised column: 'total_precip'.\"Warning message:\n",
      "\"Unknown or uninitialised column: 'total_precip'.\"Warning message:\n",
      "\"Unknown or uninitialised column: 'mean_temp'.\"Warning message:\n",
      "\"Unknown or uninitialised column: 'mean_temp'.\"Warning message in mean.default(season$mean_temp, na.rm = TRUE):\n",
      "\"argument is not numeric or logical: returning NA\"Warning message:\n",
      "\"Unknown or uninitialised column: 'total_precip'.\"Warning message:\n",
      "\"Unknown or uninitialised column: 'total_precip'.\"Warning message:\n",
      "\"Unknown or uninitialised column: 'mean_temp'.\"Warning message:\n",
      "\"Unknown or uninitialised column: 'mean_temp'.\"Warning message in mean.default(season$mean_temp, na.rm = TRUE):\n",
      "\"argument is not numeric or logical: returning NA\"Warning message:\n",
      "\"Unknown or uninitialised column: 'total_precip'.\"Warning message:\n",
      "\"Unknown or uninitialised column: 'total_precip'.\"Warning message:\n",
      "\"Unknown or uninitialised column: 'mean_temp'.\"Warning message:\n",
      "\"Unknown or uninitialised column: 'mean_temp'.\"Warning message in mean.default(season$mean_temp, na.rm = TRUE):\n",
      "\"argument is not numeric or logical: returning NA\"Warning message:\n",
      "\"Unknown or uninitialised column: 'total_precip'.\"Warning message:\n",
      "\"Unknown or uninitialised column: 'total_precip'.\"Warning message:\n",
      "\"Unknown or uninitialised column: 'mean_temp'.\"Warning message:\n",
      "\"Unknown or uninitialised column: 'mean_temp'.\"Warning message in mean.default(season$mean_temp, na.rm = TRUE):\n",
      "\"argument is not numeric or logical: returning NA\"Warning message:\n",
      "\"Unknown or uninitialised column: 'total_precip'.\"Warning message:\n",
      "\"Unknown or uninitialised column: 'total_precip'.\"Warning message:\n",
      "\"Unknown or uninitialised column: 'mean_temp'.\"Warning message:\n",
      "\"Unknown or uninitialised column: 'mean_temp'.\"Warning message in mean.default(season$mean_temp, na.rm = TRUE):\n",
      "\"argument is not numeric or logical: returning NA\"Warning message:\n",
      "\"Unknown or uninitialised column: 'total_precip'.\"Warning message:\n",
      "\"Unknown or uninitialised column: 'total_precip'.\"Warning message:\n",
      "\"Unknown or uninitialised column: 'mean_temp'.\"Warning message:\n",
      "\"Unknown or uninitialised column: 'mean_temp'.\"Warning message in mean.default(season$mean_temp, na.rm = TRUE):\n",
      "\"argument is not numeric or logical: returning NA\"Warning message:\n",
      "\"Unknown or uninitialised column: 'total_precip'.\"Warning message:\n",
      "\"Unknown or uninitialised column: 'total_precip'.\"Warning message:\n",
      "\"Unknown or uninitialised column: 'mean_temp'.\"Warning message:\n",
      "\"Unknown or uninitialised column: 'mean_temp'.\"Warning message in mean.default(season$mean_temp, na.rm = TRUE):\n",
      "\"argument is not numeric or logical: returning NA\"Warning message:\n",
      "\"Unknown or uninitialised column: 'total_precip'.\"Warning message:\n",
      "\"Unknown or uninitialised column: 'total_precip'.\"Warning message:\n",
      "\"Unknown or uninitialised column: 'mean_temp'.\"Warning message:\n",
      "\"Unknown or uninitialised column: 'mean_temp'.\"Warning message in mean.default(season$mean_temp, na.rm = TRUE):\n",
      "\"argument is not numeric or logical: returning NA\"Warning message:\n",
      "\"Unknown or uninitialised column: 'total_precip'.\"Warning message:\n",
      "\"Unknown or uninitialised column: 'total_precip'.\"Warning message:\n",
      "\"Unknown or uninitialised column: 'mean_temp'.\"Warning message:\n",
      "\"Unknown or uninitialised column: 'mean_temp'.\"Warning message in mean.default(season$mean_temp, na.rm = TRUE):\n",
      "\"argument is not numeric or logical: returning NA\"Warning message:\n",
      "\"Unknown or uninitialised column: 'total_precip'.\"Warning message:\n",
      "\"Unknown or uninitialised column: 'total_precip'.\"Warning message:\n",
      "\"Unknown or uninitialised column: 'mean_temp'.\"Warning message:\n",
      "\"Unknown or uninitialised column: 'mean_temp'.\"Warning message in mean.default(season$mean_temp, na.rm = TRUE):\n",
      "\"argument is not numeric or logical: returning NA\"Warning message:\n",
      "\"Unknown or uninitialised column: 'total_precip'.\"Warning message:\n",
      "\"Unknown or uninitialised column: 'total_precip'.\"Warning message:\n",
      "\"Unknown or uninitialised column: 'mean_temp'.\"Warning message:\n",
      "\"Unknown or uninitialised column: 'mean_temp'.\"Warning message in mean.default(season$mean_temp, na.rm = TRUE):\n",
      "\"argument is not numeric or logical: returning NA\"Warning message:\n",
      "\"Unknown or uninitialised column: 'total_precip'.\"Warning message:\n",
      "\"Unknown or uninitialised column: 'total_precip'.\"Warning message:\n",
      "\"Unknown or uninitialised column: 'mean_temp'.\"Warning message:\n",
      "\"Unknown or uninitialised column: 'mean_temp'.\"Warning message in mean.default(season$mean_temp, na.rm = TRUE):\n",
      "\"argument is not numeric or logical: returning NA\"Warning message:\n",
      "\"Unknown or uninitialised column: 'total_precip'.\"Warning message:\n",
      "\"Unknown or uninitialised column: 'total_precip'.\"Warning message:\n",
      "\"Unknown or uninitialised column: 'mean_temp'.\"Warning message:\n",
      "\"Unknown or uninitialised column: 'mean_temp'.\"Warning message in mean.default(season$mean_temp, na.rm = TRUE):\n",
      "\"argument is not numeric or logical: returning NA\"Warning message:\n",
      "\"Unknown or uninitialised column: 'total_precip'.\"Warning message:\n",
      "\"Unknown or uninitialised column: 'total_precip'.\"Warning message:\n",
      "\"Unknown or uninitialised column: 'mean_temp'.\"Warning message:\n",
      "\"Unknown or uninitialised column: 'mean_temp'.\"Warning message in mean.default(season$mean_temp, na.rm = TRUE):\n",
      "\"argument is not numeric or logical: returning NA\"Warning message:\n",
      "\"Unknown or uninitialised column: 'total_precip'.\"Warning message:\n",
      "\"Unknown or uninitialised column: 'total_precip'.\"Warning message:\n",
      "\"Unknown or uninitialised column: 'mean_temp'.\"Warning message:\n",
      "\"Unknown or uninitialised column: 'mean_temp'.\"Warning message in mean.default(season$mean_temp, na.rm = TRUE):\n",
      "\"argument is not numeric or logical: returning NA\"Warning message:\n",
      "\"Unknown or uninitialised column: 'total_precip'.\"Warning message:\n",
      "\"Unknown or uninitialised column: 'total_precip'.\"Warning message:\n",
      "\"Unknown or uninitialised column: 'mean_temp'.\"Warning message:\n",
      "\"Unknown or uninitialised column: 'mean_temp'.\"Warning message in mean.default(season$mean_temp, na.rm = TRUE):\n",
      "\"argument is not numeric or logical: returning NA\"Warning message:\n",
      "\"Unknown or uninitialised column: 'total_precip'.\"Warning message:\n",
      "\"Unknown or uninitialised column: 'total_precip'.\"Warning message:\n",
      "\"Unknown or uninitialised column: 'mean_temp'.\"Warning message:\n",
      "\"Unknown or uninitialised column: 'mean_temp'.\"Warning message in mean.default(season$mean_temp, na.rm = TRUE):\n",
      "\"argument is not numeric or logical: returning NA\"Warning message:\n",
      "\"Unknown or uninitialised column: 'total_precip'.\"Warning message:\n",
      "\"Unknown or uninitialised column: 'total_precip'.\"Warning message:\n",
      "\"Unknown or uninitialised column: 'mean_temp'.\"Warning message:\n",
      "\"Unknown or uninitialised column: 'mean_temp'.\"Warning message in mean.default(season$mean_temp, na.rm = TRUE):\n",
      "\"argument is not numeric or logical: returning NA\"Warning message:\n",
      "\"Unknown or uninitialised column: 'total_precip'.\"Warning message:\n",
      "\"Unknown or uninitialised column: 'total_precip'.\"Warning message:\n",
      "\"Unknown or uninitialised column: 'mean_temp'.\"Warning message:\n",
      "\"Unknown or uninitialised column: 'mean_temp'.\"Warning message in mean.default(season$mean_temp, na.rm = TRUE):\n",
      "\"argument is not numeric or logical: returning NA\"Warning message:\n",
      "\"Unknown or uninitialised column: 'total_precip'.\"Warning message:\n",
      "\"Unknown or uninitialised column: 'total_precip'.\"Warning message:\n",
      "\"Unknown or uninitialised column: 'mean_temp'.\"Warning message:\n",
      "\"Unknown or uninitialised column: 'mean_temp'.\"Warning message in mean.default(season$mean_temp, na.rm = TRUE):\n",
      "\"argument is not numeric or logical: returning NA\"Warning message:\n",
      "\"Unknown or uninitialised column: 'total_precip'.\"Warning message:\n",
      "\"Unknown or uninitialised column: 'total_precip'.\"Warning message:\n",
      "\"Unknown or uninitialised column: 'mean_temp'.\"Warning message:\n",
      "\"Unknown or uninitialised column: 'mean_temp'.\"Warning message in mean.default(season$mean_temp, na.rm = TRUE):\n",
      "\"argument is not numeric or logical: returning NA\"Warning message:\n",
      "\"Unknown or uninitialised column: 'total_precip'.\"Warning message:\n",
      "\"Unknown or uninitialised column: 'total_precip'.\"Warning message:\n",
      "\"Unknown or uninitialised column: 'mean_temp'.\"Warning message:\n",
      "\"Unknown or uninitialised column: 'mean_temp'.\"Warning message in mean.default(season$mean_temp, na.rm = TRUE):\n",
      "\"argument is not numeric or logical: returning NA\"Warning message:\n",
      "\"Unknown or uninitialised column: 'total_precip'.\"Warning message:\n",
      "\"Unknown or uninitialised column: 'total_precip'.\"Warning message:\n",
      "\"Unknown or uninitialised column: 'mean_temp'.\"Warning message:\n",
      "\"Unknown or uninitialised column: 'mean_temp'.\"Warning message in mean.default(season$mean_temp, na.rm = TRUE):\n",
      "\"argument is not numeric or logical: returning NA\"Warning message:\n",
      "\"Unknown or uninitialised column: 'total_precip'.\"Warning message:\n",
      "\"Unknown or uninitialised column: 'total_precip'.\"Warning message:\n",
      "\"Unknown or uninitialised column: 'mean_temp'.\"Warning message:\n",
      "\"Unknown or uninitialised column: 'mean_temp'.\"Warning message in mean.default(season$mean_temp, na.rm = TRUE):\n",
      "\"argument is not numeric or logical: returning NA\"Warning message:\n",
      "\"Unknown or uninitialised column: 'total_precip'.\"Warning message:\n",
      "\"Unknown or uninitialised column: 'total_precip'.\"Warning message:\n",
      "\"Unknown or uninitialised column: 'mean_temp'.\""
     ]
    }
   ],
   "source": [
    "# Initialize columns to record indexes\n",
    "data_stations$temp_moy_5years <- NA\n",
    "data_stations$prec_tot_5years <- NA\n",
    "data_stations$sdi_5years <- NA\n",
    "data_stations$gdd_5years <- NA\n",
    "\n",
    "for (i in 1:nrow(data_stations)) {\n",
    "  starts <- data_stations$DatePlantation[i] - (year_step:1)*365.25 # beginings of seasons\n",
    "  ends <- data_stations$DateRecolte[i] - (year_step:1)*365.25 # ends of seasons, for previous years\n",
    "  # Create vectors to record indices from previous years\n",
    "  temp_moy_j <- rep(NA, length(starts))\n",
    "  prectot_j <- temp_moy_j\n",
    "  sdi_j <- temp_moy_j\n",
    "  gdd_j <- temp_moy_j\n",
    "  for (j in 1:length(starts)) {\n",
    "    # Filter the downloaded weather data tables to keep only data measured between the season dates\n",
    "    season <- station_weather[[i]] %>%\n",
    "      filter(date >= starts[j]) %>%\n",
    "      filter(date <= ends[j])\n",
    "    temp_moy_j[j] <- mean(season$mean_temp, na.rm = TRUE) # average temperature of the season\n",
    "    prectot_j[j] <- sum(season$total_precip, na.rm = TRUE) # total precipitations of the season\n",
    "    sdi_j[j] <- SDI_f(season$total_precip) # season SDI\n",
    "    gdd_j[j] <- GDD_f(season$mean_temp, delim = 5) # season GDD\n",
    "  }\n",
    "  data_stations$temp_moy_5years[i] <- mean(temp_moy_j, na.rm = TRUE) # average temperature\n",
    "  data_stations$prec_tot_5years[i] <- mean(prectot_j, na.rm = TRUE) # average total rainfalls\n",
    "  data_stations$sdi_5years[i] <- mean(sdi_j, na.rm = TRUE) # average SDI\n",
    "  data_stations$gdd_5years[i] <- mean(gdd_j, na.rm = TRUE) # average GDD\n",
    "}"
   ]
  },
  {
   "cell_type": "code",
   "execution_count": 16,
   "metadata": {},
   "outputs": [],
   "source": [
    "write_csv(x = data_stations, path = \"output/weather_stations.csv\") # a backup"
   ]
  },
  {
   "cell_type": "raw",
   "metadata": {},
   "source": []
  },
  {
   "cell_type": "raw",
   "metadata": {},
   "source": []
  },
  {
   "cell_type": "markdown",
   "metadata": {},
   "source": [
    "If you've loaded the `weather_stations.csv`, continue from here. "
   ]
  },
  {
   "cell_type": "markdown",
   "metadata": {},
   "source": [
    "Insert into the main table"
   ]
  },
  {
   "cell_type": "code",
   "execution_count": 6,
   "metadata": {},
   "outputs": [],
   "source": [
    "weath_col <- c(\n",
    "            'Annee', 'LatDD', 'LonDD', 'DatePlantation', 'DateRecolte', \n",
    "            'temp_moy_5years', 'prec_tot_5years', 'sdi_5years', 'gdd_5years'\n",
    "            )"
   ]
  },
  {
   "cell_type": "code",
   "execution_count": 7,
   "metadata": {},
   "outputs": [
    {
     "data": {
      "text/html": [
       "<table>\n",
       "<caption>A data.frame: 9 × 2</caption>\n",
       "<thead>\n",
       "\t<tr><th scope=col>weath_col</th><th scope=col>weath_col..in..colnames.data_df.</th></tr>\n",
       "\t<tr><th scope=col>&lt;fct&gt;</th><th scope=col>&lt;lgl&gt;</th></tr>\n",
       "</thead>\n",
       "<tbody>\n",
       "\t<tr><td>Annee          </td><td> TRUE</td></tr>\n",
       "\t<tr><td>LatDD          </td><td> TRUE</td></tr>\n",
       "\t<tr><td>LonDD          </td><td> TRUE</td></tr>\n",
       "\t<tr><td>DatePlantation </td><td> TRUE</td></tr>\n",
       "\t<tr><td>DateRecolte    </td><td> TRUE</td></tr>\n",
       "\t<tr><td>temp_moy_5years</td><td>FALSE</td></tr>\n",
       "\t<tr><td>prec_tot_5years</td><td>FALSE</td></tr>\n",
       "\t<tr><td>sdi_5years     </td><td>FALSE</td></tr>\n",
       "\t<tr><td>gdd_5years     </td><td>FALSE</td></tr>\n",
       "</tbody>\n",
       "</table>\n"
      ],
      "text/latex": [
       "A data.frame: 9 × 2\n",
       "\\begin{tabular}{r|ll}\n",
       " weath\\_col & weath\\_col..in..colnames.data\\_df.\\\\\n",
       " <fct> & <lgl>\\\\\n",
       "\\hline\n",
       "\t Annee           &  TRUE\\\\\n",
       "\t LatDD           &  TRUE\\\\\n",
       "\t LonDD           &  TRUE\\\\\n",
       "\t DatePlantation  &  TRUE\\\\\n",
       "\t DateRecolte     &  TRUE\\\\\n",
       "\t temp\\_moy\\_5years & FALSE\\\\\n",
       "\t prec\\_tot\\_5years & FALSE\\\\\n",
       "\t sdi\\_5years      & FALSE\\\\\n",
       "\t gdd\\_5years      & FALSE\\\\\n",
       "\\end{tabular}\n"
      ],
      "text/markdown": [
       "\n",
       "A data.frame: 9 × 2\n",
       "\n",
       "| weath_col &lt;fct&gt; | weath_col..in..colnames.data_df. &lt;lgl&gt; |\n",
       "|---|---|\n",
       "| Annee           |  TRUE |\n",
       "| LatDD           |  TRUE |\n",
       "| LonDD           |  TRUE |\n",
       "| DatePlantation  |  TRUE |\n",
       "| DateRecolte     |  TRUE |\n",
       "| temp_moy_5years | FALSE |\n",
       "| prec_tot_5years | FALSE |\n",
       "| sdi_5years      | FALSE |\n",
       "| gdd_5years      | FALSE |\n",
       "\n"
      ],
      "text/plain": [
       "  weath_col       weath_col..in..colnames.data_df.\n",
       "1 Annee            TRUE                           \n",
       "2 LatDD            TRUE                           \n",
       "3 LonDD            TRUE                           \n",
       "4 DatePlantation   TRUE                           \n",
       "5 DateRecolte      TRUE                           \n",
       "6 temp_moy_5years FALSE                           \n",
       "7 prec_tot_5years FALSE                           \n",
       "8 sdi_5years      FALSE                           \n",
       "9 gdd_5years      FALSE                           "
      ]
     },
     "metadata": {},
     "output_type": "display_data"
    }
   ],
   "source": [
    "data.frame(weath_col, weath_col %in% colnames(data_df))"
   ]
  },
  {
   "cell_type": "code",
   "execution_count": 8,
   "metadata": {},
   "outputs": [],
   "source": [
    "data_df <- left_join(data_df, data_stations[weath_col], \n",
    "                     by = c(\"Annee\", \"LatDD\", \"LonDD\", \"DatePlantation\", \"DateRecolte\"))"
   ]
  },
  {
   "cell_type": "code",
   "execution_count": 9,
   "metadata": {},
   "outputs": [
    {
     "data": {
      "text/html": [
       "<table>\n",
       "<caption>A data.frame: 4 × 2</caption>\n",
       "<thead>\n",
       "\t<tr><th scope=col>wcol</th><th scope=col>wcol..in..colnames.data_df.</th></tr>\n",
       "\t<tr><th scope=col>&lt;fct&gt;</th><th scope=col>&lt;lgl&gt;</th></tr>\n",
       "</thead>\n",
       "<tbody>\n",
       "\t<tr><td>temp_moy_5years</td><td>TRUE</td></tr>\n",
       "\t<tr><td>prec_tot_5years</td><td>TRUE</td></tr>\n",
       "\t<tr><td>sdi_5years     </td><td>TRUE</td></tr>\n",
       "\t<tr><td>gdd_5years     </td><td>TRUE</td></tr>\n",
       "</tbody>\n",
       "</table>\n"
      ],
      "text/latex": [
       "A data.frame: 4 × 2\n",
       "\\begin{tabular}{r|ll}\n",
       " wcol & wcol..in..colnames.data\\_df.\\\\\n",
       " <fct> & <lgl>\\\\\n",
       "\\hline\n",
       "\t temp\\_moy\\_5years & TRUE\\\\\n",
       "\t prec\\_tot\\_5years & TRUE\\\\\n",
       "\t sdi\\_5years      & TRUE\\\\\n",
       "\t gdd\\_5years      & TRUE\\\\\n",
       "\\end{tabular}\n"
      ],
      "text/markdown": [
       "\n",
       "A data.frame: 4 × 2\n",
       "\n",
       "| wcol &lt;fct&gt; | wcol..in..colnames.data_df. &lt;lgl&gt; |\n",
       "|---|---|\n",
       "| temp_moy_5years | TRUE |\n",
       "| prec_tot_5years | TRUE |\n",
       "| sdi_5years      | TRUE |\n",
       "| gdd_5years      | TRUE |\n",
       "\n"
      ],
      "text/plain": [
       "  wcol            wcol..in..colnames.data_df.\n",
       "1 temp_moy_5years TRUE                       \n",
       "2 prec_tot_5years TRUE                       \n",
       "3 sdi_5years      TRUE                       \n",
       "4 gdd_5years      TRUE                       "
      ]
     },
     "metadata": {},
     "output_type": "display_data"
    }
   ],
   "source": [
    "wcol <- c('temp_moy_5years', 'prec_tot_5years', 'sdi_5years', 'gdd_5years')\n",
    "data.frame(wcol, wcol %in% colnames(data_df))"
   ]
  },
  {
   "cell_type": "code",
   "execution_count": 10,
   "metadata": {},
   "outputs": [],
   "source": [
    "write_csv(data_df, \"output/pr_potato_df.csv\") # backup"
   ]
  },
  {
   "cell_type": "raw",
   "metadata": {},
   "source": []
  }
 ],
 "metadata": {
  "kernelspec": {
   "display_name": "R",
   "language": "R",
   "name": "ir"
  },
  "language_info": {
   "codemirror_mode": "r",
   "file_extension": ".r",
   "mimetype": "text/x-r-source",
   "name": "R",
   "pygments_lexer": "r",
   "version": "4.0.2"
  }
 },
 "nbformat": 4,
 "nbformat_minor": 4
}
