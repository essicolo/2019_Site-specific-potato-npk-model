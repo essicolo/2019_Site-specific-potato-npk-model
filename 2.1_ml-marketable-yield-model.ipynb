{
 "cells": [
  {
   "cell_type": "markdown",
   "metadata": {},
   "source": [
    "## 2.1 Modeling marketable yield\n",
    "### The data set"
   ]
  },
  {
   "cell_type": "code",
   "execution_count": 1,
   "metadata": {},
   "outputs": [],
   "source": [
    "import numpy as np\n",
    "import pandas as pd\n",
    "import matplotlib.pyplot as plt\n",
    "from matplotlib import gridspec\n",
    "import scipy.stats as stats\n",
    "import time # Afficher la durée à l'optimisation\n",
    "np.random.seed(seed = 505730)"
   ]
  },
  {
   "cell_type": "markdown",
   "metadata": {},
   "source": [
    "Custom function to generate a grid with all possible combinations of vectors in a dictionnary (source: [pandas documentation](http://pandas.pydata.org/pandas-docs/stable/user_guide/cookbook.html?highlight=expand_grid#creating-example-data))."
   ]
  },
  {
   "cell_type": "code",
   "execution_count": 2,
   "metadata": {},
   "outputs": [],
   "source": [
    "import itertools\n",
    "def expand_grid(data_dict):\n",
    "   rows = itertools.product(*data_dict.values())\n",
    "   return pd.DataFrame.from_records(rows, columns = data_dict.keys())"
   ]
  },
  {
   "cell_type": "markdown",
   "metadata": {},
   "source": [
    "Load data."
   ]
  },
  {
   "cell_type": "code",
   "execution_count": 3,
   "metadata": {},
   "outputs": [
    {
     "data": {
      "text/plain": [
       "Index(['RendVendable', 'NoEssai', 'NoBloc', 'NoTraitement', 'ID', 'ID_bl',\n",
       "       'DensitePlants', 'PrecCropFiveClasses', 'Cultivar', 'Maturity5',\n",
       "       'growing.season', 'temp_moy_5years', 'prec_tot_5years', 'sdi_5years',\n",
       "       'gdd_5years', 'NtotDose', 'PtotDose', 'KtotDose', 'soilTextIlr1',\n",
       "       'soilTextIlr2', 'soilTextIlr3', 'soilTypeIlr1_3', 'soilTypeIlr2_3',\n",
       "       'soil_pH', 'soil_P1_Fv.AlP', 'soil_P1_Al.P', 'soil_K2_FvMgCa.K',\n",
       "       'soil_K2_Fv.MgCa', 'soil_K2_Mg.Ca', 'soil_P', 'soil_K', 'soil_Al',\n",
       "       'ISP1', 'test_type'],\n",
       "      dtype='object')"
      ]
     },
     "execution_count": 3,
     "metadata": {},
     "output_type": "execute_result"
    }
   ],
   "source": [
    "df_ml = pd.read_csv('output/df_RendVend.csv')\n",
    "df_ml.columns"
   ]
  },
  {
   "cell_type": "code",
   "execution_count": 4,
   "metadata": {},
   "outputs": [],
   "source": [
    "common_df = pd.read_csv('output/common_df.csv') # to identify reference trials later."
   ]
  },
  {
   "cell_type": "markdown",
   "metadata": {},
   "source": [
    "I create vectors categorizing response and predictors."
   ]
  },
  {
   "cell_type": "code",
   "execution_count": 5,
   "metadata": {},
   "outputs": [],
   "source": [
    "num_vars = ['DensitePlants', 'growing.season',\n",
    "            'temp_moy_5years', 'prec_tot_5years', 'sdi_5years', 'gdd_5years',\n",
    "            'NtotDose', 'PtotDose', 'KtotDose',\n",
    "            'soilTextIlr1', 'soilTextIlr2', 'soilTextIlr3',\n",
    "            'soilTypeIlr1_3', 'soilTypeIlr2_3',\n",
    "            'soil_pH', \n",
    "            'soil_P1_Fv.AlP', 'soil_P1_Al.P', 'soil_K2_FvMgCa.K', 'soil_K2_Fv.MgCa', 'soil_K2_Mg.Ca']\n",
    "cat_vars = ['PrecCropFiveClasses']\n",
    "resp_vars = ['RendVendable']\n",
    "dose_vars = ['NtotDose', 'PtotDose', 'KtotDose']"
   ]
  },
  {
   "cell_type": "markdown",
   "metadata": {},
   "source": [
    "In __N__ tests, __P__ and __K__ doses are in excess, which drags recommandations upwards. In all N tests, we set the __P__ and __K__ doses according to the CRAAQ fertilisation guide. The next cells are used to correct abnormally high non-limiting __P__ and __K__ dosage for some trials."
   ]
  },
  {
   "cell_type": "code",
   "execution_count": 6,
   "metadata": {},
   "outputs": [],
   "source": [
    "def craaq_P(x): # x, ISP\n",
    "    if x <= 2.5:\n",
    "        recommandation = 200\n",
    "    elif x <= 5:\n",
    "        recommandation = 150\n",
    "    elif x <= 10:\n",
    "        recommandation = 150\n",
    "    elif x <= 15:\n",
    "        recommandation = 120\n",
    "    elif x <= 25:\n",
    "        recommandation = 75\n",
    "    else:\n",
    "        recommandation = 50\n",
    "    return recommandation"
   ]
  },
  {
   "cell_type": "code",
   "execution_count": 7,
   "metadata": {},
   "outputs": [],
   "source": [
    "def craaq_K(x): # x, K in kg K_M3 / ha\n",
    "    if x <= 75:\n",
    "        recommandation = 240\n",
    "    elif x <= 150:\n",
    "        recommandation = 215\n",
    "    elif x <= 225:\n",
    "        recommandation = 160\n",
    "    elif x <= 300:\n",
    "        recommandation = 120\n",
    "    elif x <= 375:\n",
    "        recommandation = 80\n",
    "    elif x <= 450:\n",
    "        recommandation = 50\n",
    "    else:\n",
    "        recommandation = 20\n",
    "    return recommandation"
   ]
  },
  {
   "cell_type": "code",
   "execution_count": 8,
   "metadata": {},
   "outputs": [],
   "source": [
    "df_ml.loc[df_ml.test_type == 'N', \"PtotDose\"] = df_ml.ISP1.apply(lambda x: craaq_P(x))\n",
    "df_ml.loc[df_ml.test_type == 'N', \"KtotDose\"] = df_ml.soil_K.apply(lambda x: craaq_K(x)) \n",
    "\n",
    "df_ml.loc[df_ml.test_type.isna(), \"PtotDose\"] = df_ml.ISP1.apply(lambda x: craaq_P(x))\n",
    "df_ml.loc[df_ml.test_type.isna(), \"KtotDose\"] = df_ml.soil_K.apply(lambda x: craaq_K(x)) \n",
    "\n",
    "df_ml.loc[df_ml.test_type == 'P', \"KtotDose\"] = df_ml.soil_K.apply(lambda x: craaq_K(x))\n",
    "df_ml.loc[df_ml.test_type == 'K', \"PtotDose\"] = df_ml.ISP1.apply(lambda x: craaq_P(x))"
   ]
  },
  {
   "cell_type": "markdown",
   "metadata": {},
   "source": [
    "Verify max doses per element: N-P-K respectively, and drop other useless columns (related to soil elements and trial identifiers)."
   ]
  },
  {
   "cell_type": "code",
   "execution_count": 9,
   "metadata": {},
   "outputs": [
    {
     "data": {
      "text/plain": [
       "(260.0, 300.0, 420.0)"
      ]
     },
     "execution_count": 9,
     "metadata": {},
     "output_type": "execute_result"
    }
   ],
   "source": [
    "np.max(df_ml.NtotDose), np.max(df_ml.PtotDose), np.max(df_ml.KtotDose)"
   ]
  },
  {
   "cell_type": "code",
   "execution_count": 10,
   "metadata": {},
   "outputs": [],
   "source": [
    "id_table = df_ml[['ID', 'NoEssai', 'NoBloc','ID_bl', 'NoTraitement', 'test_type']]\n",
    "id_table.index = df_ml.index\n",
    "soil_table = df_ml[['soil_P', 'soil_Al', 'soil_K', 'ISP1']]\n",
    "soil_table.index = df_ml.index\n",
    "df_ml = df_ml.drop(['ID', 'NoEssai', 'NoBloc', 'ID_bl', 'NoTraitement', 'soil_P', 'soil_Al', 'soil_K', 'ISP1'], axis = 1)"
   ]
  },
  {
   "cell_type": "markdown",
   "metadata": {},
   "source": [
    "I use the `panda.get_dummies()` function to transform each categorical feature with **m** possible values into **m** binary features, *with only one active*. The output will be a sparse matrix where each column corresponds to one possible value of one feature: one (__1__) indicates category membership; otherwise zero (__0__) is indicated."
   ]
  },
  {
   "cell_type": "code",
   "execution_count": 11,
   "metadata": {},
   "outputs": [],
   "source": [
    "df_ml[\"PrecCropFiveClasses\"] = df_ml[\"PrecCropFiveClasses\"].astype('category')\n",
    "df_ml[\"test_type\"] = df_ml[\"test_type\"].astype('category')\n",
    "df_ml[\"Cultivar\"] = df_ml[\"Cultivar\"].astype('category')\n",
    "df_ml[\"Maturity5\"] = df_ml[\"Maturity5\"].astype('category')"
   ]
  },
  {
   "cell_type": "code",
   "execution_count": 12,
   "metadata": {},
   "outputs": [],
   "source": [
    "df_ml = pd.get_dummies(df_ml, columns = [\"PrecCropFiveClasses\"])\n",
    "df_ml = pd.get_dummies(df_ml, columns = [\"test_type\"])\n",
    "df_ml = pd.get_dummies(df_ml, columns = [\"Cultivar\"])\n",
    "df_ml = pd.get_dummies(df_ml, columns = [\"Maturity5\"])"
   ]
  },
  {
   "cell_type": "markdown",
   "metadata": {},
   "source": [
    "If `test_type`, `Cultivar` or `Maturity5` variables should be removed before modeling, the next cell is activated or not:"
   ]
  },
  {
   "cell_type": "code",
   "execution_count": 13,
   "metadata": {},
   "outputs": [],
   "source": [
    "df_ml = df_ml.loc[:, ~df_ml.columns.str.startswith('test_type')]\n",
    "df_ml = df_ml.loc[:, ~df_ml.columns.str.startswith('Cultivar')]\n",
    "df_ml = df_ml.loc[:, ~df_ml.columns.str.startswith('Maturity5')]"
   ]
  },
  {
   "cell_type": "markdown",
   "metadata": {},
   "source": [
    "### Data set __train__ and __test__ split"
   ]
  },
  {
   "cell_type": "markdown",
   "metadata": {},
   "source": [
    "If we need to predict a whole dose-response curve, we need to split by trials.\n",
    "\n",
    "The split proportions are set to obtain __~70% of data__ in the training set. This kind of split is the most robust since the training and test sets are independant data. I split at _bloc level_. This split allows to mix data from the same experimental plots, but on different blocks. Data in both sets are independant, but because blocks are similar units the model might behave wrongly on new sites with less usual data."
   ]
  },
  {
   "cell_type": "code",
   "execution_count": 14,
   "metadata": {},
   "outputs": [],
   "source": [
    "np.random.seed(seed=48327)\n",
    "blocks = id_table['ID_bl']\n",
    "N_blocks = blocks[id_table.test_type == 'N'].unique()\n",
    "N_blocks_inTrain = np.random.choice(a = N_blocks, \n",
    "                                    size = np.around(0.7 * len(N_blocks)).astype(int), \n",
    "                                    replace = False)\n",
    "\n",
    "P_blocks = blocks[id_table.test_type == 'P'].unique()\n",
    "P_blocks_inTrain = np.random.choice(a = P_blocks, \n",
    "                                    size = np.around(0.7 * len(P_blocks)).astype(int), \n",
    "                                    replace = False)\n",
    "\n",
    "K_blocks = blocks[id_table.test_type == 'K'].unique()\n",
    "K_blocks_inTrain = np.random.choice(a = K_blocks, \n",
    "                                    size = np.around(0.7 * len(K_blocks)).astype(int), \n",
    "                                    replace = False)\n",
    "\n",
    "npk_blocks = blocks[id_table.test_type == 'NPK'].unique()\n",
    "npk_blocks_inTrain = np.random.choice(a = npk_blocks, \n",
    "                                      size = np.around(len(npk_blocks) * 0.7).astype(int), \n",
    "                                      replace = False)\n",
    "\n",
    "na_blocks = blocks[id_table.test_type.isna()].unique()\n",
    "na_blocks_inTrain = np.random.choice(a = na_blocks, \n",
    "                                     size = np.around(len(na_blocks) * 0.7).astype(int), \n",
    "                                     replace = False)"
   ]
  },
  {
   "cell_type": "code",
   "execution_count": 15,
   "metadata": {},
   "outputs": [],
   "source": [
    "blocks_inTrain = np.concatenate([N_blocks_inTrain, \n",
    "                                 P_blocks_inTrain, \n",
    "                                 K_blocks_inTrain, \n",
    "                                 npk_blocks_inTrain, \n",
    "                                 na_blocks_inTrain])\n",
    "\n",
    "blocks_inTest = blocks[~blocks.isin(blocks_inTrain)].unique()"
   ]
  },
  {
   "cell_type": "markdown",
   "metadata": {},
   "source": [
    "Numerical variables are scaled before modeling. Both predictive and response variables are set to null (__0__) mean and unit (__1__) variance using the training set mean and standard error. This chunk computes the mean and standard error of predictive variables."
   ]
  },
  {
   "cell_type": "code",
   "execution_count": 16,
   "metadata": {},
   "outputs": [],
   "source": [
    "mean_numvars = df_ml.loc[blocks.isin(blocks_inTrain), num_vars].apply(axis = 0, func = np.mean)\n",
    "std_numvars = df_ml.loc[blocks.isin(blocks_inTrain), num_vars].apply(axis = 0, func = np.std)\n",
    "df_ml_sc = df_ml.copy()\n",
    "for var in num_vars:\n",
    "    df_ml_sc[var] = (df_ml[var] - df_ml.loc[blocks.isin(blocks_inTrain), var].mean()) / df_ml.loc[blocks.isin(blocks_inTrain), var].std()"
   ]
  },
  {
   "cell_type": "markdown",
   "metadata": {},
   "source": [
    "The response is also scaled:"
   ]
  },
  {
   "cell_type": "code",
   "execution_count": 17,
   "metadata": {},
   "outputs": [],
   "source": [
    "mean_respvars = df_ml.loc[blocks.isin(blocks_inTrain), resp_vars].mean()\n",
    "std_respvars = df_ml.loc[blocks.isin(blocks_inTrain), resp_vars].std()\n",
    "for var in resp_vars:\n",
    "    df_ml_sc[var] = (df_ml[var] - mean_respvars[var]) / std_respvars[var]"
   ]
  },
  {
   "cell_type": "markdown",
   "metadata": {},
   "source": [
    "Then, separate train and test arrays are created for predictive and response variables."
   ]
  },
  {
   "cell_type": "code",
   "execution_count": 18,
   "metadata": {},
   "outputs": [],
   "source": [
    "X_train = df_ml_sc.loc[blocks.isin(blocks_inTrain), df_ml.columns.isin(num_vars) | df_ml.columns.str.startswith(cat_vars[0])].values\n",
    "X_test = df_ml_sc.loc[~blocks.isin(blocks_inTrain), df_ml.columns.isin(num_vars) | df_ml.columns.str.startswith(cat_vars[0])].values\n",
    "Y_train = df_ml_sc[resp_vars][blocks.isin(blocks_inTrain)].values\n",
    "Y_test = df_ml_sc[resp_vars][~blocks.isin(blocks_inTrain)].values"
   ]
  },
  {
   "cell_type": "code",
   "execution_count": 19,
   "metadata": {},
   "outputs": [
    {
     "data": {
      "text/plain": [
       "((4139, 25), (1774, 25), (4139, 1), (1774, 1))"
      ]
     },
     "execution_count": 19,
     "metadata": {},
     "output_type": "execute_result"
    }
   ],
   "source": [
    "X_train.shape, X_test.shape, Y_train.shape, Y_test.shape"
   ]
  },
  {
   "cell_type": "markdown",
   "metadata": {},
   "source": [
    "Let's check the proportion of data in the traning set:"
   ]
  },
  {
   "cell_type": "code",
   "execution_count": 20,
   "metadata": {},
   "outputs": [
    {
     "data": {
      "text/plain": [
       "0.7"
      ]
     },
     "execution_count": 20,
     "metadata": {},
     "output_type": "execute_result"
    }
   ],
   "source": [
    "round(df_ml.loc[blocks.isin(blocks_inTrain)].shape[0]/df_ml.shape[0], 3)"
   ]
  },
  {
   "cell_type": "markdown",
   "metadata": {},
   "source": [
    "### Feature importance\n",
    "\n",
    "I use the python scikit-learn _ExtraTreesRegressor_ algorithm to select features that contributed most as predictive variables. The process ranks features importance."
   ]
  },
  {
   "cell_type": "code",
   "execution_count": 21,
   "metadata": {},
   "outputs": [
    {
     "data": {
      "text/plain": [
       "ExtraTreesRegressor(bootstrap=False, ccp_alpha=0.0, criterion='mse',\n",
       "                    max_depth=None, max_features='auto', max_leaf_nodes=None,\n",
       "                    max_samples=None, min_impurity_decrease=0.0,\n",
       "                    min_impurity_split=None, min_samples_leaf=1,\n",
       "                    min_samples_split=2, min_weight_fraction_leaf=0.0,\n",
       "                    n_estimators=50, n_jobs=None, oob_score=False,\n",
       "                    random_state=None, verbose=0, warm_start=False)"
      ]
     },
     "execution_count": 21,
     "metadata": {},
     "output_type": "execute_result"
    }
   ],
   "source": [
    "from sklearn.ensemble import ExtraTreesRegressor\n",
    "import altair as alt\n",
    "fs_reg = ExtraTreesRegressor(n_estimators=50)\n",
    "fs_reg.fit(X_train, Y_train.ravel())"
   ]
  },
  {
   "cell_type": "markdown",
   "metadata": {},
   "source": [
    "There is a need to show column names in English rather than their names in the data frame. We created a `csv` as translation table (`translate_col2.csv`). This table is merged to the variable importance table, which is then ranked and plotted."
   ]
  },
  {
   "cell_type": "code",
   "execution_count": 25,
   "metadata": {},
   "outputs": [
    {
     "data": {
      "image/png": "[encoded data removed]",
      "text/plain": [
       "<Figure size 288x648 with 1 Axes>"
      ]
     },
     "metadata": {
      "needs_background": "light"
     },
     "output_type": "display_data"
    }
   ],
   "source": [
    "rf_varimp = pd.DataFrame({'columns': df_ml_sc.drop('RendVendable', axis = 1).columns,\n",
    "             'importance': fs_reg.feature_importances_})\n",
    "translate_columns = pd.read_csv(\"data/translate_col2.csv\")\n",
    "rf_varimp_en = pd.merge(rf_varimp,\n",
    "                        translate_columns.drop(\"fr\", axis = 1),\n",
    "                        on = \"columns\", how = 'left').\\\n",
    "  sort_values(by = [\"importance\"])\n",
    "\n",
    "plt.figure(figsize = (4, 9))\n",
    "plt.barh(rf_varimp_en.en, rf_varimp_en.importance, color = \"black\");\n",
    "plt.grid(axis = 'x')"
   ]
  },
  {
   "cell_type": "code",
   "execution_count": 26,
   "metadata": {},
   "outputs": [],
   "source": [
    "rf_varimp_en.to_csv('output/varImp_yield.csv', index_label = \"ID\")"
   ]
  },
  {
   "cell_type": "markdown",
   "metadata": {},
   "source": [
    "The preceeding crop categories could be removed."
   ]
  },
  {
   "cell_type": "code",
   "execution_count": 27,
   "metadata": {},
   "outputs": [],
   "source": [
    "remove_var_names = ['PrecCropFiveClasses_Cereal',\n",
    "                    'PrecCropFiveClasses_Grassland',\n",
    "                    'PrecCropFiveClasses_HRC',\n",
    "                    'PrecCropFiveClasses_LRC',\n",
    "                    'PrecCropFiveClasses_Legume']\n",
    "keep_vars = ~ df_ml_sc.drop('RendVendable', axis = 1).columns.isin(remove_var_names)\n",
    "X_train = X_train[:, keep_vars]\n",
    "X_test = X_test[:, keep_vars]"
   ]
  },
  {
   "cell_type": "code",
   "execution_count": 28,
   "metadata": {},
   "outputs": [],
   "source": [
    "pd.DataFrame(X_train, columns = df_ml_sc.drop('RendVendable', axis = 1).columns[keep_vars]).to_csv(\"output/x_train.csv\", index=False)\n",
    "pd.DataFrame(X_test, columns = df_ml_sc.drop('RendVendable', axis = 1).columns[keep_vars]).to_csv(\"output/x_test.csv\", index=False)\n",
    "\n",
    "pd.DataFrame(Y_train, columns = ['RendVendable']).to_csv(\"output/y_train.csv\", index=False)\n",
    "pd.DataFrame(Y_test, columns = ['RendVendable']).to_csv(\"output/y_test.csv\", index=False)"
   ]
  },
  {
   "cell_type": "code",
   "execution_count": 29,
   "metadata": {},
   "outputs": [],
   "source": [
    "id_table.loc[blocks.isin(blocks_inTrain), :].to_csv(\"output/train_id_table.csv\", index=False)\n",
    "id_table.loc[~blocks.isin(blocks_inTrain), :].to_csv(\"output/test_id_table.csv\", index=False)"
   ]
  },
  {
   "cell_type": "code",
   "execution_count": 30,
   "metadata": {},
   "outputs": [],
   "source": [
    "mean_numvars.to_csv(\"output/mean_numvars.csv\", index=False)\n",
    "std_numvars.to_csv(\"output/std_numvars.csv\", index=False)\n",
    "mean_respvars.to_csv(\"output/mean_respvars.csv\", index=False)\n",
    "std_respvars.to_csv(\"output/std_respvars.csv\", index=False)"
   ]
  },
  {
   "cell_type": "markdown",
   "metadata": {},
   "source": [
    "### Modeling\n",
    "#### _General packages_"
   ]
  },
  {
   "cell_type": "code",
   "execution_count": 31,
   "metadata": {},
   "outputs": [],
   "source": [
    "#from sklearn.model_selection import GridSearchCV # Grid Search\n",
    "from sklearn.model_selection import RandomizedSearchCV # Random Search\n",
    "from sklearn.metrics import r2_score\n",
    "from sklearn.metrics import mean_absolute_error\n",
    "from sklearn.metrics import mean_squared_error\n",
    "from pprint import pprint # print default parameters of models"
   ]
  },
  {
   "cell_type": "markdown",
   "metadata": {},
   "source": [
    "### k-nearest neighbors (knn) algorithm\n",
    "#### _The default parameters_"
   ]
  },
  {
   "cell_type": "code",
   "execution_count": 32,
   "metadata": {},
   "outputs": [],
   "source": [
    "from sklearn.neighbors import KNeighborsRegressor"
   ]
  },
  {
   "cell_type": "code",
   "execution_count": 33,
   "metadata": {},
   "outputs": [
    {
     "name": "stdout",
     "output_type": "stream",
     "text": [
      "Parameters currently in use:\n",
      "\n",
      "{'algorithm': 'auto',\n",
      " 'leaf_size': 30,\n",
      " 'metric': 'minkowski',\n",
      " 'metric_params': None,\n",
      " 'n_jobs': None,\n",
      " 'n_neighbors': 5,\n",
      " 'p': 2,\n",
      " 'weights': 'uniform'}\n"
     ]
    }
   ],
   "source": [
    "knn_reg = KNeighborsRegressor()\n",
    "print('Parameters currently in use:\\n')\n",
    "pprint(knn_reg.get_params())"
   ]
  },
  {
   "cell_type": "markdown",
   "metadata": {},
   "source": [
    "#### _Optimisation (paraneters tuning)_\n",
    "A list of values to choose from should be given to each hyper parameter of the model. You can change these values and experiment more to see which value ranges give better performance. A cross validation process is performed in order to determine the hyper parameter value set which provides the best accuracy levels."
   ]
  },
  {
   "cell_type": "code",
   "execution_count": 34,
   "metadata": {},
   "outputs": [],
   "source": [
    "knn_param = {'n_neighbors': np.arange(3, 20), \n",
    "             'weights': ['uniform', 'distance']}\n",
    "n_iter_search = 30"
   ]
  },
  {
   "cell_type": "code",
   "execution_count": 35,
   "metadata": {},
   "outputs": [
    {
     "name": "stdout",
     "output_type": "stream",
     "text": [
      "\n",
      "Running random search to tune up KNN hyperparameters ...\n",
      "Duration: 8.872263431549072 secondes ---\n"
     ]
    },
    {
     "data": {
      "text/plain": [
       "KNeighborsRegressor(algorithm='auto', leaf_size=30, metric='minkowski',\n",
       "                    metric_params=None, n_jobs=None, n_neighbors=19, p=2,\n",
       "                    weights='distance')"
      ]
     },
     "execution_count": 35,
     "metadata": {},
     "output_type": "execute_result"
    }
   ],
   "source": [
    "print(\"\\nRunning random search to tune up KNN hyperparameters ...\")\n",
    "np.random.seed(seed = 48327)\n",
    "start_time = time.time()\n",
    "knn_random_search = RandomizedSearchCV(estimator = knn_reg, param_distributions = knn_param, n_iter = n_iter_search, cv = 5, n_jobs = -1)\n",
    "knn_random_search.fit(X_train, Y_train)\n",
    "print(\"Duration: %s secondes ---\" % (time.time() - start_time))\n",
    "knn_random_search.best_estimator_"
   ]
  },
  {
   "cell_type": "code",
   "execution_count": 36,
   "metadata": {},
   "outputs": [
    {
     "data": {
      "text/plain": [
       "{'weights': 'distance', 'n_neighbors': 19}"
      ]
     },
     "execution_count": 36,
     "metadata": {},
     "output_type": "execute_result"
    }
   ],
   "source": [
    "knn_random_search.best_params_"
   ]
  },
  {
   "cell_type": "raw",
   "metadata": {},
   "source": [
    "knn_random_search.best_estimator_ =\n",
    "KNeighborsRegressor(algorithm='auto', leaf_size=30, metric='minkowski',\n",
    "                    metric_params=None, n_jobs=None, n_neighbors=19, p=2,\n",
    "                    weights='distance')"
   ]
  },
  {
   "cell_type": "markdown",
   "metadata": {},
   "source": [
    "#### _The __knn__ optimal model_"
   ]
  },
  {
   "cell_type": "code",
   "execution_count": 37,
   "metadata": {},
   "outputs": [],
   "source": [
    "knn_reg = KNeighborsRegressor(algorithm='auto', leaf_size=30, metric='minkowski',\n",
    "                              metric_params=None, n_jobs=None, n_neighbors=19, p=2,\n",
    "                              weights='distance')\n",
    "knn = knn_reg.fit(X_train, Y_train)"
   ]
  },
  {
   "cell_type": "markdown",
   "metadata": {},
   "source": [
    "Performance in train and test"
   ]
  },
  {
   "cell_type": "code",
   "execution_count": 38,
   "metadata": {},
   "outputs": [],
   "source": [
    "Y_train_obs = df_ml[resp_vars][blocks.isin(blocks_inTrain)].values\n",
    "Y_test_obs = df_ml[resp_vars][~blocks.isin(blocks_inTrain)].values"
   ]
  },
  {
   "cell_type": "code",
   "execution_count": 39,
   "metadata": {},
   "outputs": [],
   "source": [
    "Y_train_predknn = knn.predict(X_train) * std_respvars.values + mean_respvars.values\n",
    "Y_test_predknn = knn.predict(X_test) * std_respvars.values + mean_respvars.values"
   ]
  },
  {
   "cell_type": "code",
   "execution_count": 40,
   "metadata": {},
   "outputs": [
    {
     "data": {
      "text/html": [
       "<div>\n",
       "<style scoped>\n",
       "    .dataframe tbody tr th:only-of-type {\n",
       "        vertical-align: middle;\n",
       "    }\n",
       "\n",
       "    .dataframe tbody tr th {\n",
       "        vertical-align: top;\n",
       "    }\n",
       "\n",
       "    .dataframe thead th {\n",
       "        text-align: right;\n",
       "    }\n",
       "</style>\n",
       "<table border=\"1\" class=\"dataframe\">\n",
       "  <thead>\n",
       "    <tr style=\"text-align: right;\">\n",
       "      <th></th>\n",
       "      <th>Train_R2</th>\n",
       "      <th>Train_MAE</th>\n",
       "      <th>Train_RMSE</th>\n",
       "      <th>Test_R2</th>\n",
       "      <th>Test_MAE</th>\n",
       "      <th>Test_RMSE</th>\n",
       "    </tr>\n",
       "  </thead>\n",
       "  <tbody>\n",
       "    <tr>\n",
       "      <th>k-nearest neighbors</th>\n",
       "      <td>0.917</td>\n",
       "      <td>1.6</td>\n",
       "      <td>2.89</td>\n",
       "      <td>0.521</td>\n",
       "      <td>5.5</td>\n",
       "      <td>7.27</td>\n",
       "    </tr>\n",
       "  </tbody>\n",
       "</table>\n",
       "</div>"
      ],
      "text/plain": [
       "                     Train_R2  Train_MAE  Train_RMSE  Test_R2  Test_MAE  \\\n",
       "k-nearest neighbors     0.917        1.6        2.89    0.521       5.5   \n",
       "\n",
       "                     Test_RMSE  \n",
       "k-nearest neighbors       7.27  "
      ]
     },
     "execution_count": 40,
     "metadata": {},
     "output_type": "execute_result"
    }
   ],
   "source": [
    "index = ['k-nearest neighbors']\n",
    "knn_scores = pd.DataFrame({\"Train_R2\": r2_score(Y_train, knn.predict(X_train)).round(3),\n",
    "                           \"Train_MAE\": mean_absolute_error(Y_train_obs, Y_train_predknn).round(2),\n",
    "                           \"Train_RMSE\": np.sqrt(mean_squared_error(Y_train_obs, Y_train_predknn)).round(2),\n",
    "                           \"Test_R2\": r2_score(Y_test, knn.predict(X_test)).round(3),\n",
    "                           \"Test_MAE\": mean_absolute_error(Y_test_obs, Y_test_predknn).round(2),\n",
    "                           \"Test_RMSE\": np.sqrt(mean_squared_error(Y_test_obs, Y_test_predknn)).round(2)}, \n",
    "                           index = index)\n",
    "knn_scores"
   ]
  },
  {
   "cell_type": "code",
   "execution_count": 41,
   "metadata": {},
   "outputs": [],
   "source": [
    "#test_std_resp = df_ml.loc[~blocks.isin(blocks_inTrain), resp_vars].std()\n",
    "#test_std_resp/2"
   ]
  },
  {
   "cell_type": "markdown",
   "metadata": {},
   "source": [
    "The __knn__ ressults plot"
   ]
  },
  {
   "cell_type": "code",
   "execution_count": 42,
   "metadata": {},
   "outputs": [
    {
     "data": {
      "text/plain": [
       "Text(0.5, 1.0, 'Test')"
      ]
     },
     "execution_count": 42,
     "metadata": {},
     "output_type": "execute_result"
    },
    {
     "data": {
      "image/png": "[encoded data removed]",
      "text/plain": [
       "<Figure size 432x288 with 2 Axes>"
      ]
     },
     "metadata": {
      "needs_background": "light"
     },
     "output_type": "display_data"
    }
   ],
   "source": [
    "plt.subplot(1, 2, 1)\n",
    "plt.plot(Y_train * std_respvars.values + mean_respvars.values, knn.predict(X_train)* std_respvars.values + mean_respvars.values, \n",
    "         marker = 'x', color = 'black', linestyle = 'None', alpha = 0.1)\n",
    "plt.plot([10, 70], [10, 70], color = 'black', linewidth = 2)\n",
    "plt.title('Train')\n",
    "\n",
    "plt.subplot(1, 2, 2)\n",
    "plt.plot(Y_test * std_respvars.values + mean_respvars.values, knn.predict(X_test)* std_respvars.values + mean_respvars.values, \n",
    "         marker = 'x', color = 'black', linestyle = 'None', alpha = 0.2)\n",
    "plt.plot([10, 70], [10, 70], color = 'black', linewidth = 2)\n",
    "plt.title('Test')"
   ]
  },
  {
   "cell_type": "markdown",
   "metadata": {},
   "source": [
    "### Random forest (RF) algorithm\n",
    "#### _The default parameters_"
   ]
  },
  {
   "cell_type": "code",
   "execution_count": 43,
   "metadata": {},
   "outputs": [],
   "source": [
    "from sklearn.ensemble import RandomForestRegressor"
   ]
  },
  {
   "cell_type": "code",
   "execution_count": 44,
   "metadata": {},
   "outputs": [
    {
     "name": "stdout",
     "output_type": "stream",
     "text": [
      "Parameters currently in use:\n",
      "\n",
      "{'bootstrap': True,\n",
      " 'ccp_alpha': 0.0,\n",
      " 'criterion': 'mse',\n",
      " 'max_depth': None,\n",
      " 'max_features': 'auto',\n",
      " 'max_leaf_nodes': None,\n",
      " 'max_samples': None,\n",
      " 'min_impurity_decrease': 0.0,\n",
      " 'min_impurity_split': None,\n",
      " 'min_samples_leaf': 1,\n",
      " 'min_samples_split': 2,\n",
      " 'min_weight_fraction_leaf': 0.0,\n",
      " 'n_estimators': 100,\n",
      " 'n_jobs': None,\n",
      " 'oob_score': False,\n",
      " 'random_state': 1,\n",
      " 'verbose': 0,\n",
      " 'warm_start': False}\n"
     ]
    }
   ],
   "source": [
    "rf_reg = RandomForestRegressor(random_state = 1)\n",
    "print('Parameters currently in use:\\n')\n",
    "pprint(rf_reg.get_params())"
   ]
  },
  {
   "cell_type": "markdown",
   "metadata": {},
   "source": [
    "#### _Optimisation_\n",
    "The most important settings are the number of trees in the forest (`n_estimators`) and the number of features considered for splitting at each leaf node (`max_features`). The `max_features` is set to its default value `'auto'`, while I try out a wide range of values to see what works for `n_estimators`."
   ]
  },
  {
   "cell_type": "raw",
   "metadata": {},
   "source": [
    "rf_param = {'n_estimators': np.arange(10, 100)} # number of trees in the forest\n",
    "n_iter_search = 50"
   ]
  },
  {
   "cell_type": "raw",
   "metadata": {},
   "source": [
    "print(\"\\nRunning random search to tune up RF hyperparameters ...\")\n",
    "start_time = time.time()\n",
    "rf_random_search = RandomizedSearchCV(estimator = rf_reg, param_distributions = rf_param, n_iter = n_iter_search, cv = 10)\n",
    "rf_random_search.fit(X_train, Y_train.ravel())\n",
    "print(\"Duration: %s secondes ---\" % (time.time() - start_time))\n",
    "rf_random_search.best_estimator_"
   ]
  },
  {
   "cell_type": "markdown",
   "metadata": {},
   "source": [
    "#### _The best parameters_\n",
    "The best parameters from fitting the random search could be viewed with `rf_random_search.best_params_` :"
   ]
  },
  {
   "cell_type": "raw",
   "metadata": {},
   "source": [
    "rf_random_search.best_estimator_ =\n",
    "RandomForestRegressor(bootstrap=True, criterion='mse', max_depth=None,\n",
    "                      max_features='auto', max_leaf_nodes=None,\n",
    "                      min_impurity_decrease=0.0, min_impurity_split=None,\n",
    "                      min_samples_leaf=1, min_samples_split=2,\n",
    "                      min_weight_fraction_leaf=0.0, n_estimators=92,\n",
    "                      n_jobs=None, oob_score=False, random_state=1, verbose=0,\n",
    "                      warm_start=False)"
   ]
  },
  {
   "cell_type": "markdown",
   "metadata": {},
   "source": [
    "#### _The optimal model_"
   ]
  },
  {
   "cell_type": "code",
   "execution_count": 45,
   "metadata": {},
   "outputs": [],
   "source": [
    "rf_reg = RandomForestRegressor(bootstrap=True, criterion='mse', max_depth=None,\n",
    "                               max_features='auto', max_leaf_nodes=None,\n",
    "                               min_impurity_decrease=0.0, min_impurity_split=None,\n",
    "                               min_samples_leaf=1, min_samples_split=2,\n",
    "                               min_weight_fraction_leaf=0.0, n_estimators=92,\n",
    "                               n_jobs=None, oob_score=False, random_state=1, verbose=0,\n",
    "                               warm_start=False)\n",
    "rfm = rf_reg.fit(X_train, Y_train.ravel())"
   ]
  },
  {
   "cell_type": "markdown",
   "metadata": {},
   "source": [
    "Performance in train and test (rfm)"
   ]
  },
  {
   "cell_type": "code",
   "execution_count": 46,
   "metadata": {},
   "outputs": [],
   "source": [
    "Y_train_predrf = rfm.predict(X_train) * std_respvars.values + mean_respvars.values\n",
    "Y_test_predrf =  rfm.predict(X_test) * std_respvars.values + mean_respvars.values"
   ]
  },
  {
   "cell_type": "code",
   "execution_count": 47,
   "metadata": {},
   "outputs": [
    {
     "data": {
      "text/html": [
       "<div>\n",
       "<style scoped>\n",
       "    .dataframe tbody tr th:only-of-type {\n",
       "        vertical-align: middle;\n",
       "    }\n",
       "\n",
       "    .dataframe tbody tr th {\n",
       "        vertical-align: top;\n",
       "    }\n",
       "\n",
       "    .dataframe thead th {\n",
       "        text-align: right;\n",
       "    }\n",
       "</style>\n",
       "<table border=\"1\" class=\"dataframe\">\n",
       "  <thead>\n",
       "    <tr style=\"text-align: right;\">\n",
       "      <th></th>\n",
       "      <th>Train_R2</th>\n",
       "      <th>Train_MAE</th>\n",
       "      <th>Train_RMSE</th>\n",
       "      <th>Test_R2</th>\n",
       "      <th>Test_MAE</th>\n",
       "      <th>Test_RMSE</th>\n",
       "    </tr>\n",
       "  </thead>\n",
       "  <tbody>\n",
       "    <tr>\n",
       "      <th>Random forest</th>\n",
       "      <td>0.898</td>\n",
       "      <td>2.29</td>\n",
       "      <td>3.21</td>\n",
       "      <td>0.592</td>\n",
       "      <td>5.07</td>\n",
       "      <td>6.72</td>\n",
       "    </tr>\n",
       "  </tbody>\n",
       "</table>\n",
       "</div>"
      ],
      "text/plain": [
       "               Train_R2  Train_MAE  Train_RMSE  Test_R2  Test_MAE  Test_RMSE\n",
       "Random forest     0.898       2.29        3.21    0.592      5.07       6.72"
      ]
     },
     "execution_count": 47,
     "metadata": {},
     "output_type": "execute_result"
    }
   ],
   "source": [
    "index = ['Random forest']\n",
    "rf_scores = pd.DataFrame({\"Train_R2\": r2_score(Y_train, rfm.predict(X_train)).round(3), \n",
    "                          \"Train_MAE\": mean_absolute_error(Y_train_obs, Y_train_predrf).round(2),\n",
    "                           \"Train_RMSE\": np.sqrt(mean_squared_error(Y_train_obs, Y_train_predrf)).round(2),\n",
    "                           \"Test_R2\": r2_score(Y_test, rfm.predict(X_test)).round(3),\n",
    "                           \"Test_MAE\": mean_absolute_error(Y_test_obs, Y_test_predrf).round(2),\n",
    "                           \"Test_RMSE\": np.sqrt(mean_squared_error(Y_test_obs, Y_test_predrf)).round(2)}, \n",
    "                          index = index)\n",
    "rf_scores"
   ]
  },
  {
   "cell_type": "markdown",
   "metadata": {},
   "source": [
    "The __rf__ ressults plot"
   ]
  },
  {
   "cell_type": "code",
   "execution_count": 48,
   "metadata": {},
   "outputs": [
    {
     "data": {
      "text/plain": [
       "Text(0.5, 1.0, 'Testing')"
      ]
     },
     "execution_count": 48,
     "metadata": {},
     "output_type": "execute_result"
    },
    {
     "data": {
      "image/png": "[encoded data removed]",
      "text/plain": [
       "<Figure size 432x288 with 2 Axes>"
      ]
     },
     "metadata": {
      "needs_background": "light"
     },
     "output_type": "display_data"
    }
   ],
   "source": [
    "#fig = plt.figure(figsize=(10, 5))\n",
    "plt.subplot(1, 2, 1)\n",
    "plt.plot(Y_train * std_respvars.values + mean_respvars.values, rfm.predict(X_train) * std_respvars.values + mean_respvars.values, \n",
    "         marker = 'o', color = 'grey', linestyle = 'None', alpha = 0.2)\n",
    "plt.plot([1, 70], [1, 70], color = 'black', linewidth = 2)\n",
    "plt.title('Training', fontsize = 12)\n",
    "plt.xlabel(r'Mesured yield ($Mg ha^{-1})$', fontsize = 12)\n",
    "plt.ylabel(r'Predicted yield ($Mg ha^{-1})$', fontsize = 12)\n",
    "\n",
    "plt.subplot(1, 2, 2)\n",
    "plt.plot(Y_test * std_respvars.values + mean_respvars.values, rfm.predict(X_test) * std_respvars.values + mean_respvars.values, \n",
    "         marker = 'o', color = 'grey', linestyle = 'None', alpha = 0.2)\n",
    "plt.plot([0, 70], [1, 70], color = 'black', linewidth = 2)\n",
    "plt.title('Testing', fontsize = 12)\n",
    "#plt.xlabel(r'Mesured yield ($Mg ha^{-1})$', fontsize = 16)"
   ]
  },
  {
   "cell_type": "markdown",
   "metadata": {},
   "source": [
    "### Neural Networks __NN__\n",
    "#### _The default parameters_"
   ]
  },
  {
   "cell_type": "code",
   "execution_count": 49,
   "metadata": {},
   "outputs": [],
   "source": [
    "from sklearn.neural_network import MLPRegressor"
   ]
  },
  {
   "cell_type": "code",
   "execution_count": 50,
   "metadata": {},
   "outputs": [
    {
     "name": "stdout",
     "output_type": "stream",
     "text": [
      "Parameters currently in use:\n",
      "\n",
      "{'activation': 'relu',\n",
      " 'alpha': 0.0001,\n",
      " 'batch_size': 'auto',\n",
      " 'beta_1': 0.9,\n",
      " 'beta_2': 0.999,\n",
      " 'early_stopping': False,\n",
      " 'epsilon': 1e-08,\n",
      " 'hidden_layer_sizes': (100,),\n",
      " 'learning_rate': 'constant',\n",
      " 'learning_rate_init': 0.001,\n",
      " 'max_fun': 15000,\n",
      " 'max_iter': 500,\n",
      " 'momentum': 0.9,\n",
      " 'n_iter_no_change': 10,\n",
      " 'nesterovs_momentum': True,\n",
      " 'power_t': 0.5,\n",
      " 'random_state': None,\n",
      " 'shuffle': True,\n",
      " 'solver': 'adam',\n",
      " 'tol': 0.0001,\n",
      " 'validation_fraction': 0.1,\n",
      " 'verbose': False,\n",
      " 'warm_start': False}\n"
     ]
    }
   ],
   "source": [
    "nn_reg = MLPRegressor(max_iter = 500)\n",
    "print('Parameters currently in use:\\n')\n",
    "pprint(nn_reg.get_params())"
   ]
  },
  {
   "cell_type": "markdown",
   "metadata": {},
   "source": [
    "#### _Optimization_ "
   ]
  },
  {
   "cell_type": "raw",
   "metadata": {},
   "source": [
    "nn_param = {'hidden_layer_sizes': (100, 200, 200, 100), \n",
    "            'activation': ['tanh', 'relu']}"
   ]
  },
  {
   "cell_type": "raw",
   "metadata": {},
   "source": [
    "nn_reg = MLPRegressor(max_iter = 500)\n",
    "print(\"\\nRunning random search to tune up NN hyperparameters ...\")\n",
    "start_time = time.time()\n",
    "nn_random_search = RandomizedSearchCV(estimator = nn_reg, param_distributions = nn_param, cv = 10)\n",
    "nn_random_search.fit(X_train, Y_train.ravel())\n",
    "print(\"Duration: %s secondes ---\" % (time.time() - start_time))\n",
    "nn_random_search.best_estimator_"
   ]
  },
  {
   "cell_type": "raw",
   "metadata": {},
   "source": [
    "nn_random_search.best_params_ =\n",
    "MLPRegressor(activation='tanh', alpha=0.0001, batch_size='auto', beta_1=0.9,\n",
    "             beta_2=0.999, early_stopping=False, epsilon=1e-08,\n",
    "             hidden_layer_sizes=100, learning_rate='constant',\n",
    "             learning_rate_init=0.001, max_iter=500, momentum=0.9,\n",
    "             n_iter_no_change=10, nesterovs_momentum=True, power_t=0.5,\n",
    "             random_state=None, shuffle=True, solver='adam', tol=0.0001,\n",
    "             validation_fraction=0.1, verbose=False, warm_start=False)"
   ]
  },
  {
   "cell_type": "markdown",
   "metadata": {},
   "source": [
    "#### _The optimal network_"
   ]
  },
  {
   "cell_type": "code",
   "execution_count": 51,
   "metadata": {},
   "outputs": [],
   "source": [
    "nn_reg = MLPRegressor(activation='tanh', alpha=0.0001, batch_size='auto', beta_1=0.9,\n",
    "                      beta_2=0.999, early_stopping=False, epsilon=1e-08,\n",
    "                      hidden_layer_sizes=100, learning_rate='constant',\n",
    "                      learning_rate_init=0.001, max_iter=500, momentum=0.9,\n",
    "                      n_iter_no_change=10, nesterovs_momentum=True, power_t=0.5,\n",
    "                      random_state=None, shuffle=True, solver='adam', tol=0.0001,\n",
    "                      validation_fraction=0.1, verbose=False, warm_start=False)\n",
    "nn = nn_reg.fit(X_train, Y_train.ravel())"
   ]
  },
  {
   "cell_type": "markdown",
   "metadata": {},
   "source": [
    "The __nn__ performance in train and test"
   ]
  },
  {
   "cell_type": "code",
   "execution_count": 52,
   "metadata": {},
   "outputs": [],
   "source": [
    "Y_train_prednn = nn.predict(X_train) * std_respvars.values + mean_respvars.values\n",
    "Y_test_prednn =  nn.predict(X_test) * std_respvars.values + mean_respvars.values"
   ]
  },
  {
   "cell_type": "code",
   "execution_count": 53,
   "metadata": {},
   "outputs": [
    {
     "data": {
      "text/html": [
       "<div>\n",
       "<style scoped>\n",
       "    .dataframe tbody tr th:only-of-type {\n",
       "        vertical-align: middle;\n",
       "    }\n",
       "\n",
       "    .dataframe tbody tr th {\n",
       "        vertical-align: top;\n",
       "    }\n",
       "\n",
       "    .dataframe thead th {\n",
       "        text-align: right;\n",
       "    }\n",
       "</style>\n",
       "<table border=\"1\" class=\"dataframe\">\n",
       "  <thead>\n",
       "    <tr style=\"text-align: right;\">\n",
       "      <th></th>\n",
       "      <th>Train_R2</th>\n",
       "      <th>Train_MAE</th>\n",
       "      <th>Train_RMSE</th>\n",
       "      <th>Test_R2</th>\n",
       "      <th>Test_MAE</th>\n",
       "      <th>Test_RMSE</th>\n",
       "    </tr>\n",
       "  </thead>\n",
       "  <tbody>\n",
       "    <tr>\n",
       "      <th>Neural networks</th>\n",
       "      <td>0.783</td>\n",
       "      <td>3.54</td>\n",
       "      <td>4.69</td>\n",
       "      <td>0.487</td>\n",
       "      <td>5.57</td>\n",
       "      <td>7.53</td>\n",
       "    </tr>\n",
       "  </tbody>\n",
       "</table>\n",
       "</div>"
      ],
      "text/plain": [
       "                 Train_R2  Train_MAE  Train_RMSE  Test_R2  Test_MAE  Test_RMSE\n",
       "Neural networks     0.783       3.54        4.69    0.487      5.57       7.53"
      ]
     },
     "execution_count": 53,
     "metadata": {},
     "output_type": "execute_result"
    }
   ],
   "source": [
    "index = ['Neural networks']\n",
    "nn_scores = pd.DataFrame({\"Train_R2\": r2_score(Y_train, nn.predict(X_train)).round(3), \n",
    "                           \"Train_MAE\": mean_absolute_error(Y_train_obs, Y_train_prednn).round(2),\n",
    "                           \"Train_RMSE\": np.sqrt(mean_squared_error(Y_train_obs, Y_train_prednn)).round(2),\n",
    "                           \"Test_R2\": r2_score(Y_test, nn.predict(X_test)).round(3),\n",
    "                           \"Test_MAE\": mean_absolute_error(Y_test_obs, Y_test_prednn).round(2),\n",
    "                           \"Test_RMSE\": np.sqrt(mean_squared_error(Y_test_obs, Y_test_prednn)).round(2)}, \n",
    "                           index = index)\n",
    "nn_scores"
   ]
  },
  {
   "cell_type": "markdown",
   "metadata": {},
   "source": [
    "The network ressults plot"
   ]
  },
  {
   "cell_type": "code",
   "execution_count": 54,
   "metadata": {},
   "outputs": [
    {
     "data": {
      "text/plain": [
       "Text(0.5, 1.0, 'Test')"
      ]
     },
     "execution_count": 54,
     "metadata": {},
     "output_type": "execute_result"
    },
    {
     "data": {
      "image/png": "[encoded data removed]",
      "text/plain": [
       "<Figure size 432x288 with 2 Axes>"
      ]
     },
     "metadata": {
      "needs_background": "light"
     },
     "output_type": "display_data"
    }
   ],
   "source": [
    "plt.subplot(1, 2, 1)\n",
    "plt.plot(Y_train, nn.predict(X_train), marker = 'x', color = 'blue', linestyle = 'None', alpha = 0.2)\n",
    "plt.plot([-3, 3], [-3, 3], color = 'black', linewidth = 2)\n",
    "plt.title('Train')\n",
    "\n",
    "plt.subplot(1, 2, 2)\n",
    "plt.plot(Y_test, nn.predict(X_test), marker = 'x', color = 'red', linestyle = 'None', alpha = 0.2)\n",
    "plt.plot([-3, 3], [-3, 3], color='black', linewidth=2)\n",
    "plt.title('Test')"
   ]
  },
  {
   "cell_type": "markdown",
   "metadata": {},
   "source": [
    "### Gaussian process model __GP__\n",
    "#### _The default parameters_"
   ]
  },
  {
   "cell_type": "code",
   "execution_count": 55,
   "metadata": {},
   "outputs": [],
   "source": [
    "from sklearn.gaussian_process import GaussianProcessRegressor"
   ]
  },
  {
   "cell_type": "code",
   "execution_count": 56,
   "metadata": {},
   "outputs": [
    {
     "name": "stdout",
     "output_type": "stream",
     "text": [
      "Parameters currently in use:\n",
      "\n",
      "{'alpha': 1e-10,\n",
      " 'copy_X_train': True,\n",
      " 'kernel': None,\n",
      " 'n_restarts_optimizer': 0,\n",
      " 'normalize_y': False,\n",
      " 'optimizer': 'fmin_l_bfgs_b',\n",
      " 'random_state': None}\n"
     ]
    }
   ],
   "source": [
    "gp_reg = GaussianProcessRegressor()\n",
    "print('Parameters currently in use:\\n')\n",
    "pprint(gp_reg.get_params())"
   ]
  },
  {
   "cell_type": "markdown",
   "metadata": {},
   "source": [
    "#### _Optimisation_"
   ]
  },
  {
   "cell_type": "code",
   "execution_count": 57,
   "metadata": {},
   "outputs": [],
   "source": [
    "from sklearn.gaussian_process.kernels import RBF, Matern, WhiteKernel"
   ]
  },
  {
   "cell_type": "raw",
   "metadata": {},
   "source": [
    "kernel_list = [RBF(length_scale = 1, length_scale_bounds = (1e-3, 1e5))]\n",
    "kernel_list.append(RBF(length_scale = 10, length_scale_bounds = (1e-3, 1e5)))\n",
    "kernel_list.append(RBF(length_scale = 100, length_scale_bounds = (1e-3, 1e5)))\n",
    "kernel_list.append(Matern(length_scale = 1, length_scale_bounds = (1e-3, 1e5)))\n",
    "kernel_list.append(Matern(length_scale = 1, length_scale_bounds = (1e-3, 1e5)) + WhiteKernel(noise_level = 0.2))\n",
    "kernel_list.append(Matern(length_scale = 1, length_scale_bounds = (1e-3, 1e5)) + WhiteKernel(noise_level = 0.1))"
   ]
  },
  {
   "cell_type": "raw",
   "metadata": {},
   "source": [
    "gp_param = {\"kernel\": kernel_list,\n",
    "            \"alpha\": stats.uniform(0, 1)}\n",
    "n_iter_search = 50"
   ]
  },
  {
   "cell_type": "raw",
   "metadata": {},
   "source": [
    "print(\"\\nRunning random search to tune up GP hyperparameters ...\")\n",
    "start_time = time.time()\n",
    "gp_random_search = RandomizedSearchCV(estimator = gp_reg, param_distributions = gp_param, n_iter = n_iter_search, cv = 3)\n",
    "gp_random_search.fit(X_train, Y_train)\n",
    "print(\"Duration: %s secondes ---\" % (time.time() - start_time))\n",
    "gp_random_search.best_estimator_"
   ]
  },
  {
   "cell_type": "raw",
   "metadata": {},
   "source": [
    "gp_random_search.best_params_ =\n",
    "GaussianProcessRegressor(alpha=0.19528574128654064, copy_X_train=True,\n",
    "                         kernel=RBF(length_scale=1), n_restarts_optimizer=0,\n",
    "                         normalize_y=False, optimizer='fmin_l_bfgs_b',\n",
    "                         random_state=None)"
   ]
  },
  {
   "cell_type": "markdown",
   "metadata": {},
   "source": [
    "The __optimal__ model\n",
    "\n",
    "Once the model has been optimized, I ran it again with more restarts. The __gp__ object (the model) was run then exported as a joblib file. To avoid fitting the model on each kernel restart, the fitting has been greyed out in favor of an import of the joblib file."
   ]
  },
  {
   "cell_type": "code",
   "execution_count": 58,
   "metadata": {},
   "outputs": [],
   "source": [
    "gp_reg = GaussianProcessRegressor(alpha=0.19528574128654064, copy_X_train=True,\n",
    "                                  kernel=RBF(length_scale=1), n_restarts_optimizer=0,\n",
    "                                  normalize_y=False, optimizer='fmin_l_bfgs_b',\n",
    "                                  random_state=None)\n",
    "gp = gp_reg.fit(X_train, Y_train)"
   ]
  },
  {
   "cell_type": "markdown",
   "metadata": {},
   "source": [
    "The __gp__ performance in train and test"
   ]
  },
  {
   "cell_type": "code",
   "execution_count": 59,
   "metadata": {},
   "outputs": [],
   "source": [
    "Y_train_predgp = gp.predict(X_train) * std_respvars.values + mean_respvars.values\n",
    "Y_test_predgp =  gp.predict(X_test) * std_respvars.values + mean_respvars.values"
   ]
  },
  {
   "cell_type": "code",
   "execution_count": 60,
   "metadata": {},
   "outputs": [
    {
     "data": {
      "text/html": [
       "<div>\n",
       "<style scoped>\n",
       "    .dataframe tbody tr th:only-of-type {\n",
       "        vertical-align: middle;\n",
       "    }\n",
       "\n",
       "    .dataframe tbody tr th {\n",
       "        vertical-align: top;\n",
       "    }\n",
       "\n",
       "    .dataframe thead th {\n",
       "        text-align: right;\n",
       "    }\n",
       "</style>\n",
       "<table border=\"1\" class=\"dataframe\">\n",
       "  <thead>\n",
       "    <tr style=\"text-align: right;\">\n",
       "      <th></th>\n",
       "      <th>Train_R2</th>\n",
       "      <th>Train_MAE</th>\n",
       "      <th>Train_RMSE</th>\n",
       "      <th>Test_R2</th>\n",
       "      <th>Test_MAE</th>\n",
       "      <th>Test_RMSE</th>\n",
       "    </tr>\n",
       "  </thead>\n",
       "  <tbody>\n",
       "    <tr>\n",
       "      <th>Gaussian processes</th>\n",
       "      <td>0.836</td>\n",
       "      <td>3.06</td>\n",
       "      <td>4.08</td>\n",
       "      <td>0.579</td>\n",
       "      <td>5.1</td>\n",
       "      <td>6.82</td>\n",
       "    </tr>\n",
       "  </tbody>\n",
       "</table>\n",
       "</div>"
      ],
      "text/plain": [
       "                    Train_R2  Train_MAE  Train_RMSE  Test_R2  Test_MAE  \\\n",
       "Gaussian processes     0.836       3.06        4.08    0.579       5.1   \n",
       "\n",
       "                    Test_RMSE  \n",
       "Gaussian processes       6.82  "
      ]
     },
     "execution_count": 60,
     "metadata": {},
     "output_type": "execute_result"
    }
   ],
   "source": [
    "index = ['Gaussian processes']\n",
    "gp_scores = pd.DataFrame({\"Train_R2\": r2_score(Y_train, gp.predict(X_train)).round(3), \n",
    "                          \"Train_MAE\": mean_absolute_error(Y_train_obs, Y_train_predgp).round(2),\n",
    "                           \"Train_RMSE\": np.sqrt(mean_squared_error(Y_train_obs, Y_train_predgp)).round(2),\n",
    "                           \"Test_R2\": r2_score(Y_test, gp.predict(X_test)).round(3),\n",
    "                           \"Test_MAE\": mean_absolute_error(Y_test_obs, Y_test_predgp).round(2),\n",
    "                           \"Test_RMSE\": np.sqrt(mean_squared_error(Y_test_obs, Y_test_predgp)).round(2)}, \n",
    "                           index = index)\n",
    "gp_scores"
   ]
  },
  {
   "cell_type": "raw",
   "metadata": {},
   "source": [
    "# The backup \n",
    "import joblib\n",
    "joblib.dump(gp, 'models/gp.joblib')"
   ]
  },
  {
   "cell_type": "raw",
   "metadata": {},
   "source": [
    "# To load the model\n",
    "import joblib\n",
    "gp = joblib.load('models/gp.joblib')"
   ]
  },
  {
   "cell_type": "markdown",
   "metadata": {},
   "source": [
    "The __gp__ ressults plot"
   ]
  },
  {
   "cell_type": "code",
   "execution_count": 61,
   "metadata": {},
   "outputs": [
    {
     "data": {
      "image/png": "[encoded data removed]",
      "text/plain": [
       "<Figure size 432x288 with 2 Axes>"
      ]
     },
     "metadata": {
      "needs_background": "light"
     },
     "output_type": "display_data"
    }
   ],
   "source": [
    "counter = 1\n",
    "for i in range(len(resp_vars)):\n",
    "    plt.subplot(len(resp_vars), 2, counter)\n",
    "    plt.plot(Y_train[:, 0], gp.predict(X_train), marker = 'x', color = 'blue', linestyle = 'None', alpha = 0.2)\n",
    "    plt.plot([-3, 3], [-3, 3], color = 'black', linewidth = 2)\n",
    "    plt.title('Train')\n",
    "\n",
    "    plt.subplot(1, 2, counter + 1)\n",
    "    plt.plot(Y_test[:, 0], gp.predict(X_test), marker = 'x', color = 'red', linestyle = 'None', alpha = 0.2)\n",
    "    plt.plot([-3, 3], [-3, 3], color = 'black', linewidth = 2)\n",
    "    plt.title('Test')\n",
    "    \n",
    "    counter = counter + 1"
   ]
  },
  {
   "cell_type": "markdown",
   "metadata": {},
   "source": [
    "This chain concatenates scores of the models including Mitscherlich model (file 2.5_)."
   ]
  },
  {
   "cell_type": "code",
   "execution_count": 62,
   "metadata": {},
   "outputs": [
    {
     "data": {
      "text/html": [
       "<div>\n",
       "<style scoped>\n",
       "    .dataframe tbody tr th:only-of-type {\n",
       "        vertical-align: middle;\n",
       "    }\n",
       "\n",
       "    .dataframe tbody tr th {\n",
       "        vertical-align: top;\n",
       "    }\n",
       "\n",
       "    .dataframe thead th {\n",
       "        text-align: right;\n",
       "    }\n",
       "</style>\n",
       "<table border=\"1\" class=\"dataframe\">\n",
       "  <thead>\n",
       "    <tr style=\"text-align: right;\">\n",
       "      <th></th>\n",
       "      <th>Train_R2</th>\n",
       "      <th>Train_MAE</th>\n",
       "      <th>Train_RMSE</th>\n",
       "      <th>Test_R2</th>\n",
       "      <th>Test_MAE</th>\n",
       "      <th>Test_RMSE</th>\n",
       "      <th>Target</th>\n",
       "    </tr>\n",
       "  </thead>\n",
       "  <tbody>\n",
       "    <tr>\n",
       "      <th>Mitscherlich</th>\n",
       "      <td>0.349907</td>\n",
       "      <td>6.225086</td>\n",
       "      <td>8.105052</td>\n",
       "      <td>0.374342</td>\n",
       "      <td>8.324857</td>\n",
       "      <td>10.774794</td>\n",
       "      <td>Yield</td>\n",
       "    </tr>\n",
       "    <tr>\n",
       "      <th>k-nearest neighbors</th>\n",
       "      <td>0.917000</td>\n",
       "      <td>1.600000</td>\n",
       "      <td>2.890000</td>\n",
       "      <td>0.521000</td>\n",
       "      <td>5.500000</td>\n",
       "      <td>7.270000</td>\n",
       "      <td>Yield</td>\n",
       "    </tr>\n",
       "    <tr>\n",
       "      <th>Random forest</th>\n",
       "      <td>0.898000</td>\n",
       "      <td>2.290000</td>\n",
       "      <td>3.210000</td>\n",
       "      <td>0.592000</td>\n",
       "      <td>5.070000</td>\n",
       "      <td>6.720000</td>\n",
       "      <td>Yield</td>\n",
       "    </tr>\n",
       "    <tr>\n",
       "      <th>Neural networks</th>\n",
       "      <td>0.783000</td>\n",
       "      <td>3.540000</td>\n",
       "      <td>4.690000</td>\n",
       "      <td>0.487000</td>\n",
       "      <td>5.570000</td>\n",
       "      <td>7.530000</td>\n",
       "      <td>Yield</td>\n",
       "    </tr>\n",
       "    <tr>\n",
       "      <th>Gaussian processes</th>\n",
       "      <td>0.836000</td>\n",
       "      <td>3.060000</td>\n",
       "      <td>4.080000</td>\n",
       "      <td>0.579000</td>\n",
       "      <td>5.100000</td>\n",
       "      <td>6.820000</td>\n",
       "      <td>Yield</td>\n",
       "    </tr>\n",
       "  </tbody>\n",
       "</table>\n",
       "</div>"
      ],
      "text/plain": [
       "                     Train_R2  Train_MAE  Train_RMSE   Test_R2  Test_MAE  \\\n",
       "Mitscherlich         0.349907   6.225086    8.105052  0.374342  8.324857   \n",
       "k-nearest neighbors  0.917000   1.600000    2.890000  0.521000  5.500000   \n",
       "Random forest        0.898000   2.290000    3.210000  0.592000  5.070000   \n",
       "Neural networks      0.783000   3.540000    4.690000  0.487000  5.570000   \n",
       "Gaussian processes   0.836000   3.060000    4.080000  0.579000  5.100000   \n",
       "\n",
       "                     Test_RMSE Target  \n",
       "Mitscherlich         10.774794  Yield  \n",
       "k-nearest neighbors   7.270000  Yield  \n",
       "Random forest         6.720000  Yield  \n",
       "Neural networks       7.530000  Yield  \n",
       "Gaussian processes    6.820000  Yield  "
      ]
     },
     "execution_count": 62,
     "metadata": {},
     "output_type": "execute_result"
    }
   ],
   "source": [
    "mitsch_train_test_scores = pd.read_csv('output/mitsch_train_test_scores.csv')\n",
    "mitsch_train_test_scores = mitsch_train_test_scores.rename(index = {0: \"Mitscherlich\"})\n",
    "scoresYield = pd.concat([mitsch_train_test_scores, knn_scores, rf_scores, nn_scores, gp_scores], axis = 0, ignore_index = False)\n",
    "scoresYield['Target'] = 'Yield'\n",
    "scoresYield.to_csv('output/scoresYield.csv')\n",
    "scoresYield"
   ]
  },
  {
   "cell_type": "markdown",
   "metadata": {},
   "source": [
    "### Point estimation: prediction of economic optimal __NPK__ dosage\n",
    "\n",
    "#### Create a table to model\n",
    "\n",
    "I sample a random row in the test set and use it as an example where the model is used for diagnosis. The row is referenced by its index. I ensure that the selected trial could be found in the data of the next codes files."
   ]
  },
  {
   "cell_type": "code",
   "execution_count": 63,
   "metadata": {},
   "outputs": [
    {
     "data": {
      "text/html": [
       "<div>\n",
       "<style scoped>\n",
       "    .dataframe tbody tr th:only-of-type {\n",
       "        vertical-align: middle;\n",
       "    }\n",
       "\n",
       "    .dataframe tbody tr th {\n",
       "        vertical-align: top;\n",
       "    }\n",
       "\n",
       "    .dataframe thead th {\n",
       "        text-align: right;\n",
       "    }\n",
       "</style>\n",
       "<table border=\"1\" class=\"dataframe\">\n",
       "  <thead>\n",
       "    <tr style=\"text-align: right;\">\n",
       "      <th></th>\n",
       "      <th>NoEssai</th>\n",
       "      <th>test_type</th>\n",
       "      <th>ID</th>\n",
       "    </tr>\n",
       "  </thead>\n",
       "  <tbody>\n",
       "    <tr>\n",
       "      <th>2540</th>\n",
       "      <td>194</td>\n",
       "      <td>P</td>\n",
       "      <td>194-2-4</td>\n",
       "    </tr>\n",
       "  </tbody>\n",
       "</table>\n",
       "</div>"
      ],
      "text/plain": [
       "      NoEssai test_type       ID\n",
       "2540      194         P  194-2-4"
      ]
     },
     "execution_count": 63,
     "metadata": {},
     "output_type": "execute_result"
    }
   ],
   "source": [
    "r_sample = id_table.loc[blocks.isin(blocks_inTest) & id_table.NoEssai.isin(common_df.NoEssai), \n",
    "                        [\"NoEssai\", \"test_type\", \"ID\"]].sample(1, random_state = 765) #765\n",
    "r_sample.to_csv('output/r_sample.csv')\n",
    "r_sample"
   ]
  },
  {
   "cell_type": "code",
   "execution_count": 64,
   "metadata": {},
   "outputs": [
    {
     "data": {
      "text/plain": [
       "2540"
      ]
     },
     "execution_count": 64,
     "metadata": {},
     "output_type": "execute_result"
    }
   ],
   "source": [
    "# Verify the row index\n",
    "index = r_sample.index[0]\n",
    "index"
   ]
  },
  {
   "cell_type": "markdown",
   "metadata": {},
   "source": [
    "I grab this row with only the columns I need for modeling from the `df_ml_sc` table, which is already on the right scale for modeling."
   ]
  },
  {
   "cell_type": "code",
   "execution_count": 65,
   "metadata": {},
   "outputs": [],
   "source": [
    "reference_row = df_ml_sc.loc[df_ml_sc.index == index, df_ml.columns.isin(num_vars)]# | df_ml.columns.str.startswith(cat_vars[0])]\n",
    "NoEssai = id_table.loc[df_ml_sc.index == index].NoEssai.values[0]"
   ]
  },
  {
   "cell_type": "markdown",
   "metadata": {},
   "source": [
    "The optimal economical dose is where the marginal benefit (__= profit from yield - fertilizers cost__) reaches its maximum. Rates are estimated based on experience."
   ]
  },
  {
   "cell_type": "code",
   "execution_count": 66,
   "metadata": {},
   "outputs": [],
   "source": [
    "N_cost = 1.2 # unit fertilizer N cost\n",
    "P_cost = 1.1 # unit fertilizer P2O5 cost\n",
    "K_cost = 0.9 # unit fertilizer K2O cost\n",
    "price_yield = 250 # unit crop yield price (1 Mg)"
   ]
  },
  {
   "cell_type": "markdown",
   "metadata": {},
   "source": [
    "Instead of generating a grid of values (_which is numerically inefficient_), I generate random NPK doses from _uniform distributions_ on plausible doses. The `random.uniform()` function gives a random floating point number in a given range."
   ]
  },
  {
   "cell_type": "code",
   "execution_count": 67,
   "metadata": {},
   "outputs": [],
   "source": [
    "n_grid_samples = 1000 # number of samples\n",
    "N_range = [0, 250]\n",
    "P_range = [0, 250]\n",
    "K_range = [0, 250]\n",
    "\n",
    "np.random.seed(936492)\n",
    "dose_grid = pd.DataFrame({'NtotDose': np.random.uniform(N_range[0], N_range[1], n_grid_samples),\n",
    "                          'PtotDose': np.random.uniform(P_range[0], P_range[1], n_grid_samples),\n",
    "                          'KtotDose': np.random.uniform(K_range[0], K_range[1], n_grid_samples)})"
   ]
  },
  {
   "cell_type": "markdown",
   "metadata": {},
   "source": [
    "Doses are variables among others, and also need to be scaled on the scale on which they were put in to create the model."
   ]
  },
  {
   "cell_type": "code",
   "execution_count": 68,
   "metadata": {},
   "outputs": [],
   "source": [
    "dose_grid_sc = dose_grid.copy()\n",
    "#dose_vars = dose_grid.columns\n",
    "for var in dose_vars:\n",
    "    dose_grid_sc[var] = (dose_grid[var] - mean_numvars[var]) / std_numvars[var]"
   ]
  },
  {
   "cell_type": "markdown",
   "metadata": {},
   "source": [
    "The last part to create the table is to stack the (_randomly selected_) observation a number of times equal to the __dose_grid__ table length, so that it conveys the same information at each row. Then replace only __NPK__ doses with the one sampled randomly: the __dose_grid__."
   ]
  },
  {
   "cell_type": "code",
   "execution_count": 69,
   "metadata": {},
   "outputs": [],
   "source": [
    "reference_stack = pd.DataFrame(index = range(dose_grid.shape[0]), columns = reference_row.columns)\n",
    "for i in range(reference_stack.shape[1]):\n",
    "    reference_stack.iloc[:, i] = np.repeat(reference_row.values[0, i], reference_stack.shape[0])\n",
    "reference_stack.NtotDose = dose_grid_sc.NtotDose\n",
    "reference_stack.PtotDose = dose_grid_sc.PtotDose\n",
    "reference_stack.KtotDose = dose_grid_sc.KtotDose    "
   ]
  },
  {
   "cell_type": "markdown",
   "metadata": {},
   "source": [
    "Yield is predicted based on the table, then put back to its original scale and inserted in the __dose_grid__ table."
   ]
  },
  {
   "cell_type": "markdown",
   "metadata": {},
   "source": [
    "#### Prediction with __knn__ model"
   ]
  },
  {
   "cell_type": "code",
   "execution_count": 70,
   "metadata": {},
   "outputs": [],
   "source": [
    "yield_sc = knn.predict(reference_stack)\n",
    "dose_grid[\"yield_\"] = yield_sc[:, 0] * std_respvars.values + mean_respvars.values"
   ]
  },
  {
   "cell_type": "markdown",
   "metadata": {},
   "source": [
    "I have fertilizer doses, so I can compute the costs. I can also compute revenue from yield, and marginal benefits by subtracting marginal costs from revenue."
   ]
  },
  {
   "cell_type": "code",
   "execution_count": 71,
   "metadata": {},
   "outputs": [],
   "source": [
    "dose_grid[\"cost\"] = dose_grid.NtotDose * N_cost + dose_grid.PtotDose * P_cost + dose_grid.KtotDose * K_cost\n",
    "dose_grid[\"revenue\"] = dose_grid.yield_ * price_yield\n",
    "dose_grid[\"benefit\"] = dose_grid.revenue - dose_grid.cost"
   ]
  },
  {
   "cell_type": "markdown",
   "metadata": {},
   "source": [
    "I isolate the row where the marginal benefit is maximum, and its informations."
   ]
  },
  {
   "cell_type": "code",
   "execution_count": 72,
   "metadata": {},
   "outputs": [
    {
     "data": {
      "text/plain": [
       "NtotDose      39.85\n",
       "PtotDose     243.39\n",
       "KtotDose     144.65\n",
       "yield_        30.13\n",
       "benefit     7085.78\n",
       "Name: 186, dtype: float64"
      ]
     },
     "execution_count": 72,
     "metadata": {},
     "output_type": "execute_result"
    }
   ],
   "source": [
    "opt_doses_knn = dose_grid.loc[dose_grid[\"benefit\"].idxmax(), [\"NtotDose\", \"PtotDose\", \"KtotDose\", \"yield_\", \"benefit\"]].round(2)\n",
    "opt_doses_knn"
   ]
  },
  {
   "cell_type": "markdown",
   "metadata": {},
   "source": [
    "#### Prediction with __rf__ model"
   ]
  },
  {
   "cell_type": "code",
   "execution_count": 73,
   "metadata": {},
   "outputs": [
    {
     "data": {
      "text/plain": [
       "NtotDose     188.65\n",
       "PtotDose     245.06\n",
       "KtotDose      91.64\n",
       "yield_        31.56\n",
       "benefit     7312.10\n",
       "Name: 695, dtype: float64"
      ]
     },
     "execution_count": 73,
     "metadata": {},
     "output_type": "execute_result"
    }
   ],
   "source": [
    "yield_sc = rfm.predict(reference_stack)\n",
    "dose_grid[\"yield_\"] = yield_sc * std_respvars.values + mean_respvars.values # yield_sc specifically not indexed needed with rfm\n",
    "dose_grid[\"cost\"] = dose_grid.NtotDose * N_cost + dose_grid.PtotDose * P_cost + dose_grid.KtotDose * K_cost\n",
    "dose_grid[\"revenue\"] = dose_grid.yield_ * price_yield\n",
    "dose_grid[\"benefit\"] = dose_grid.revenue - dose_grid.cost\n",
    "opt_doses_rf = dose_grid.loc[dose_grid[\"benefit\"].idxmax(), [\"NtotDose\", \"PtotDose\", \"KtotDose\", \"yield_\", \"benefit\"]].round(2)\n",
    "opt_doses_rf"
   ]
  },
  {
   "cell_type": "markdown",
   "metadata": {},
   "source": [
    "#### Prediction with __nn__ model"
   ]
  },
  {
   "cell_type": "code",
   "execution_count": 74,
   "metadata": {},
   "outputs": [
    {
     "data": {
      "text/plain": [
       "NtotDose      241.56\n",
       "PtotDose      194.78\n",
       "KtotDose       14.22\n",
       "yield_         42.38\n",
       "benefit     10077.31\n",
       "Name: 433, dtype: float64"
      ]
     },
     "execution_count": 74,
     "metadata": {},
     "output_type": "execute_result"
    }
   ],
   "source": [
    "yield_sc = nn.predict(reference_stack)\n",
    "dose_grid[\"yield_\"] = yield_sc * std_respvars.values + mean_respvars.values # yield_sc specifically not indexed needed with nn\n",
    "dose_grid[\"cost\"] = dose_grid.NtotDose * N_cost + dose_grid.PtotDose * P_cost + dose_grid.KtotDose * K_cost\n",
    "dose_grid[\"revenue\"] = dose_grid.yield_ * price_yield\n",
    "dose_grid[\"benefit\"] = dose_grid.revenue - dose_grid.cost\n",
    "opt_doses_nn = dose_grid.loc[dose_grid[\"benefit\"].idxmax(), [\"NtotDose\", \"PtotDose\", \"KtotDose\", \"yield_\", \"benefit\"]].round(2)\n",
    "opt_doses_nn"
   ]
  },
  {
   "cell_type": "markdown",
   "metadata": {},
   "source": [
    "#### Prediction with the __gp__ model"
   ]
  },
  {
   "cell_type": "code",
   "execution_count": 75,
   "metadata": {},
   "outputs": [
    {
     "data": {
      "text/plain": [
       "NtotDose     247.98\n",
       "PtotDose     146.47\n",
       "KtotDose      76.84\n",
       "yield_        33.15\n",
       "benefit     7758.57\n",
       "Name: 928, dtype: float64"
      ]
     },
     "execution_count": 75,
     "metadata": {},
     "output_type": "execute_result"
    }
   ],
   "source": [
    "yield_sc = gp.predict(reference_stack)\n",
    "dose_grid[\"yield_\"] = yield_sc[:, 0] * std_respvars.values + mean_respvars.values\n",
    "dose_grid[\"cost\"] = dose_grid.NtotDose * N_cost + dose_grid.PtotDose * P_cost + dose_grid.KtotDose * K_cost\n",
    "dose_grid[\"revenue\"] = dose_grid.yield_ * price_yield\n",
    "dose_grid[\"benefit\"] = dose_grid.revenue - dose_grid.cost\n",
    "opt_doses_gp = dose_grid.loc[dose_grid[\"benefit\"].idxmax(), [\"NtotDose\", \"PtotDose\", \"KtotDose\", \"yield_\", \"benefit\"]].round(2)\n",
    "opt_doses_gp"
   ]
  },
  {
   "cell_type": "markdown",
   "metadata": {},
   "source": [
    "This chain concatenates the points estimates of the machine learning models, and converts P2O5 and K2O in P and K respectively."
   ]
  },
  {
   "cell_type": "code",
   "execution_count": 76,
   "metadata": {},
   "outputs": [
    {
     "data": {
      "text/html": [
       "<div>\n",
       "<style scoped>\n",
       "    .dataframe tbody tr th:only-of-type {\n",
       "        vertical-align: middle;\n",
       "    }\n",
       "\n",
       "    .dataframe tbody tr th {\n",
       "        vertical-align: top;\n",
       "    }\n",
       "\n",
       "    .dataframe thead th {\n",
       "        text-align: right;\n",
       "    }\n",
       "</style>\n",
       "<table border=\"1\" class=\"dataframe\">\n",
       "  <thead>\n",
       "    <tr style=\"text-align: right;\">\n",
       "      <th></th>\n",
       "      <th>NtotDose</th>\n",
       "      <th>PtotDose</th>\n",
       "      <th>KtotDose</th>\n",
       "      <th>Output</th>\n",
       "      <th>benefit</th>\n",
       "      <th>Target</th>\n",
       "    </tr>\n",
       "  </thead>\n",
       "  <tbody>\n",
       "    <tr>\n",
       "      <th>k-nearest neighbors</th>\n",
       "      <td>39.85</td>\n",
       "      <td>106.11804</td>\n",
       "      <td>120.0595</td>\n",
       "      <td>30.13</td>\n",
       "      <td>7085.78</td>\n",
       "      <td>Yield</td>\n",
       "    </tr>\n",
       "    <tr>\n",
       "      <th>Random forest</th>\n",
       "      <td>188.65</td>\n",
       "      <td>106.84616</td>\n",
       "      <td>76.0612</td>\n",
       "      <td>31.56</td>\n",
       "      <td>7312.10</td>\n",
       "      <td>Yield</td>\n",
       "    </tr>\n",
       "    <tr>\n",
       "      <th>Neural networks</th>\n",
       "      <td>241.56</td>\n",
       "      <td>84.92408</td>\n",
       "      <td>11.8026</td>\n",
       "      <td>42.38</td>\n",
       "      <td>10077.31</td>\n",
       "      <td>Yield</td>\n",
       "    </tr>\n",
       "    <tr>\n",
       "      <th>Gaussian processes</th>\n",
       "      <td>247.98</td>\n",
       "      <td>63.86092</td>\n",
       "      <td>63.7772</td>\n",
       "      <td>33.15</td>\n",
       "      <td>7758.57</td>\n",
       "      <td>Yield</td>\n",
       "    </tr>\n",
       "  </tbody>\n",
       "</table>\n",
       "</div>"
      ],
      "text/plain": [
       "                     NtotDose   PtotDose  KtotDose  Output   benefit Target\n",
       "k-nearest neighbors     39.85  106.11804  120.0595   30.13   7085.78  Yield\n",
       "Random forest          188.65  106.84616   76.0612   31.56   7312.10  Yield\n",
       "Neural networks        241.56   84.92408   11.8026   42.38  10077.31  Yield\n",
       "Gaussian processes     247.98   63.86092   63.7772   33.15   7758.57  Yield"
      ]
     },
     "execution_count": 76,
     "metadata": {},
     "output_type": "execute_result"
    }
   ],
   "source": [
    "keys = [\"NtotDose\", \"PtotDose\", \"KtotDose\", \"yield_\", \"benefit\"]\n",
    "predYield = pd.DataFrame({\"k-nearest neighbors\": opt_doses_knn,\n",
    "                       \"Random forest\": opt_doses_rf,\n",
    "                       \"Neural networks\": opt_doses_nn,\n",
    "                       \"Gaussian processes\": opt_doses_gp},\n",
    "                      index = keys).T\n",
    "predYield['PtotDose'] = predYield.PtotDose*0.436\n",
    "predYield['KtotDose'] = predYield.KtotDose*0.830\n",
    "predYield['Target'] = \"Yield\"\n",
    "predYield = predYield.rename(columns = {\"yield_\":\"Output\"})\n",
    "predYield.drop(['benefit'], axis = 1).to_csv('output/predYield.csv')\n",
    "predYield"
   ]
  },
  {
   "cell_type": "markdown",
   "metadata": {},
   "source": [
    "### NPK doses according to the CRAAQ fertilisation guide"
   ]
  },
  {
   "cell_type": "markdown",
   "metadata": {},
   "source": [
    "- Nitrogen:\n",
    "1. Soil textural groupe G2: 125 - 150 kg N/ha\n",
    "2. Soil textural groupe G3: 135 - 175 kg N/ha\n",
    "- Phosphorous:"
   ]
  },
  {
   "cell_type": "code",
   "execution_count": 77,
   "metadata": {},
   "outputs": [
    {
     "data": {
      "text/html": [
       "<div>\n",
       "<style scoped>\n",
       "    .dataframe tbody tr th:only-of-type {\n",
       "        vertical-align: middle;\n",
       "    }\n",
       "\n",
       "    .dataframe tbody tr th {\n",
       "        vertical-align: top;\n",
       "    }\n",
       "\n",
       "    .dataframe thead th {\n",
       "        text-align: right;\n",
       "    }\n",
       "</style>\n",
       "<table border=\"1\" class=\"dataframe\">\n",
       "  <thead>\n",
       "    <tr style=\"text-align: right;\">\n",
       "      <th></th>\n",
       "      <th>ISP1</th>\n",
       "      <th>P Dose</th>\n",
       "    </tr>\n",
       "  </thead>\n",
       "  <tbody>\n",
       "    <tr>\n",
       "      <th>0</th>\n",
       "      <td>1.428119</td>\n",
       "      <td>87.2</td>\n",
       "    </tr>\n",
       "  </tbody>\n",
       "</table>\n",
       "</div>"
      ],
      "text/plain": [
       "       ISP1  P Dose\n",
       "0  1.428119    87.2"
      ]
     },
     "execution_count": 77,
     "metadata": {},
     "output_type": "execute_result"
    }
   ],
   "source": [
    "pd.DataFrame({\"ISP1\": soil_table.loc[df_ml_sc.index == index, [\"ISP1\"]].values[0],\n",
    "              \"P Dose\": 0.436*craaq_P(soil_table.loc[df_ml_sc.index == index, [\"ISP1\"]].values)})"
   ]
  },
  {
   "cell_type": "markdown",
   "metadata": {},
   "source": [
    "- Potassium:"
   ]
  },
  {
   "cell_type": "code",
   "execution_count": 78,
   "metadata": {},
   "outputs": [
    {
     "data": {
      "text/html": [
       "<div>\n",
       "<style scoped>\n",
       "    .dataframe tbody tr th:only-of-type {\n",
       "        vertical-align: middle;\n",
       "    }\n",
       "\n",
       "    .dataframe tbody tr th {\n",
       "        vertical-align: top;\n",
       "    }\n",
       "\n",
       "    .dataframe thead th {\n",
       "        text-align: right;\n",
       "    }\n",
       "</style>\n",
       "<table border=\"1\" class=\"dataframe\">\n",
       "  <thead>\n",
       "    <tr style=\"text-align: right;\">\n",
       "      <th></th>\n",
       "      <th>soil_K</th>\n",
       "      <th>K Dose</th>\n",
       "    </tr>\n",
       "  </thead>\n",
       "  <tbody>\n",
       "    <tr>\n",
       "      <th>0</th>\n",
       "      <td>83.11</td>\n",
       "      <td>178.45</td>\n",
       "    </tr>\n",
       "  </tbody>\n",
       "</table>\n",
       "</div>"
      ],
      "text/plain": [
       "   soil_K  K Dose\n",
       "0   83.11  178.45"
      ]
     },
     "execution_count": 78,
     "metadata": {},
     "output_type": "execute_result"
    }
   ],
   "source": [
    "pd.DataFrame({\"soil_K\": soil_table.loc[df_ml_sc.index == index, [\"soil_K\"]].values[0],\n",
    "              \"K Dose\": 0.830*craaq_K(soil_table.loc[df_ml_sc.index == index, [\"soil_K\"]].values)})"
   ]
  },
  {
   "cell_type": "markdown",
   "metadata": {},
   "source": [
    "### Prediction specific to trial type\n",
    "\n",
    "I randomly select different test type (N, P, K) trials and plot their responses to compare the goodness of fit of the four models. The same codes are repeated for each element to generate new tables, one for each dose type. The treatment element varied while the others are kept constant at their experimental dosage."
   ]
  },
  {
   "cell_type": "markdown",
   "metadata": {},
   "source": [
    "Reference trial where only __N__ dose varied: `(test_type = N)`"
   ]
  },
  {
   "cell_type": "code",
   "execution_count": 79,
   "metadata": {},
   "outputs": [
    {
     "data": {
      "text/html": [
       "<div>\n",
       "<style scoped>\n",
       "    .dataframe tbody tr th:only-of-type {\n",
       "        vertical-align: middle;\n",
       "    }\n",
       "\n",
       "    .dataframe tbody tr th {\n",
       "        vertical-align: top;\n",
       "    }\n",
       "\n",
       "    .dataframe thead th {\n",
       "        text-align: right;\n",
       "    }\n",
       "</style>\n",
       "<table border=\"1\" class=\"dataframe\">\n",
       "  <thead>\n",
       "    <tr style=\"text-align: right;\">\n",
       "      <th></th>\n",
       "      <th>NoEssai</th>\n",
       "      <th>test_type</th>\n",
       "      <th>ID</th>\n",
       "    </tr>\n",
       "  </thead>\n",
       "  <tbody>\n",
       "    <tr>\n",
       "      <th>1745</th>\n",
       "      <td>8804</td>\n",
       "      <td>N</td>\n",
       "      <td>8804-5-5</td>\n",
       "    </tr>\n",
       "  </tbody>\n",
       "</table>\n",
       "</div>"
      ],
      "text/plain": [
       "      NoEssai test_type        ID\n",
       "1745     8804         N  8804-5-5"
      ]
     },
     "execution_count": 79,
     "metadata": {},
     "output_type": "execute_result"
    }
   ],
   "source": [
    "id_n = id_table.loc[blocks.isin(blocks_inTest) & id_table.NoEssai.isin(common_df.NoEssai)]\n",
    "id_n.index = id_table.loc[blocks.isin(blocks_inTest) & id_table.NoEssai.isin(common_df.NoEssai)].index\n",
    "id_sample_n = id_n.loc[id_n.test_type==\"N\", [\"NoEssai\", \"test_type\", \"ID\"]].sample(1, random_state = 543) #543\n",
    "id_sample_n"
   ]
  },
  {
   "cell_type": "raw",
   "metadata": {},
   "source": [
    "Ndata = df_ml.loc[id_table.NoEssai == id_sample_n.NoEssai.values[0]][[\"RendVendable\", \"NtotDose\"]]\n",
    "plt.plot(Ndata.NtotDose, Ndata.RendVendable, \"o\")"
   ]
  },
  {
   "cell_type": "code",
   "execution_count": 80,
   "metadata": {},
   "outputs": [],
   "source": [
    "reference_row_N = df_ml_sc.loc[df_ml_sc.index == id_sample_n.index[0], \n",
    "                               df_ml.columns.isin(num_vars)]# | df_ml.columns.str.startswith(cat_vars[0])]\n",
    "dose_grid_N = pd.DataFrame({'NtotDose': np.linspace(0, 250, 251),\n",
    "                            'PtotDose': reference_row_N.PtotDose.values[0],\n",
    "                            'KtotDose': reference_row_N.KtotDose.values[0]})\n",
    "\n",
    "dose_grid_N_sc = dose_grid_N.copy()\n",
    "for var in dose_vars:\n",
    "    dose_grid_N_sc[var] = (dose_grid_N[var] - mean_numvars[var]) / std_numvars[var]\n",
    "\n",
    "reference_stack_N = pd.DataFrame(index = range(dose_grid_N.shape[0]), columns = reference_row_N.columns)\n",
    "for i in range(reference_stack_N.shape[1]):\n",
    "    reference_stack_N.iloc[:, i] = np.repeat(reference_row_N.values[0, i], reference_stack_N.shape[0])\n",
    "reference_stack_N.NtotDose = dose_grid_N_sc.NtotDose\n",
    "reference_stack_N.PtotDose = dose_grid_N_sc.PtotDose\n",
    "reference_stack_N.KtotDose = dose_grid_N_sc.KtotDose  "
   ]
  },
  {
   "cell_type": "code",
   "execution_count": 81,
   "metadata": {},
   "outputs": [],
   "source": [
    "# Point estimate\n",
    "knn_N_sc = knn.predict(reference_stack_N)\n",
    "rf_N_sc = rfm.predict(reference_stack_N)\n",
    "nn_N_sc = nn.predict(reference_stack_N)\n",
    "gp_N_sc = gp.predict(reference_stack_N)\n",
    "\n",
    "dose_grid_N[\"yield_knn\"] = knn_N_sc[:, 0] * std_respvars.values + mean_respvars.values\n",
    "dose_grid_N[\"yield_rf\"] = rf_N_sc * std_respvars.values + mean_respvars.values\n",
    "dose_grid_N[\"yield_nn\"] = nn_N_sc * std_respvars.values + mean_respvars.values\n",
    "dose_grid_N[\"yield_gp\"] = gp_N_sc[:, 0] * std_respvars.values + mean_respvars.values\n",
    "# seul N variant, on peut estimer le coût de l'engrais en fonction de N seul\n",
    "dose_grid_N[\"cost\"] = dose_grid_N.NtotDose * N_cost \n",
    "# le revenu varie selon le modèle, et donc le benefice aussi\n",
    "dose_grid_N[\"gp_revenue\"] = dose_grid_N.yield_gp * price_yield\n",
    "dose_grid_N[\"gp_benefit\"] = dose_grid_N.gp_revenue - dose_grid_N.cost\n",
    "doses_opt_N_point = dose_grid_N.loc[dose_grid_N[\"gp_benefit\"].idxmax(), [\"NtotDose\", \"yield_gp\", \"gp_benefit\"]].round(2)\n",
    "Ndata = df_ml.loc[id_table.NoEssai == id_sample_n.NoEssai.values[0]][[\"RendVendable\", \"NtotDose\"]]"
   ]
  },
  {
   "cell_type": "markdown",
   "metadata": {},
   "source": [
    "Reference trial where only __P__ dose varied: `(test_type = P)`"
   ]
  },
  {
   "cell_type": "code",
   "execution_count": 82,
   "metadata": {},
   "outputs": [
    {
     "data": {
      "text/html": [
       "<div>\n",
       "<style scoped>\n",
       "    .dataframe tbody tr th:only-of-type {\n",
       "        vertical-align: middle;\n",
       "    }\n",
       "\n",
       "    .dataframe tbody tr th {\n",
       "        vertical-align: top;\n",
       "    }\n",
       "\n",
       "    .dataframe thead th {\n",
       "        text-align: right;\n",
       "    }\n",
       "</style>\n",
       "<table border=\"1\" class=\"dataframe\">\n",
       "  <thead>\n",
       "    <tr style=\"text-align: right;\">\n",
       "      <th></th>\n",
       "      <th>NoEssai</th>\n",
       "      <th>test_type</th>\n",
       "      <th>ID</th>\n",
       "    </tr>\n",
       "  </thead>\n",
       "  <tbody>\n",
       "    <tr>\n",
       "      <th>5524</th>\n",
       "      <td>412</td>\n",
       "      <td>P</td>\n",
       "      <td>412-3-4</td>\n",
       "    </tr>\n",
       "  </tbody>\n",
       "</table>\n",
       "</div>"
      ],
      "text/plain": [
       "      NoEssai test_type       ID\n",
       "5524      412         P  412-3-4"
      ]
     },
     "execution_count": 82,
     "metadata": {},
     "output_type": "execute_result"
    }
   ],
   "source": [
    "id_p = id_table.loc[blocks.isin(blocks_inTest) & id_table.NoEssai.isin(common_df.NoEssai)]\n",
    "id_p.index = id_table.loc[blocks.isin(blocks_inTest) & id_table.NoEssai.isin(common_df.NoEssai)].index\n",
    "id_sample_p = id_p.loc[id_p.test_type==\"P\", [\"NoEssai\", \"test_type\", \"ID\"]].sample(1, random_state = 7654) #7654\n",
    "id_sample_p"
   ]
  },
  {
   "cell_type": "code",
   "execution_count": 83,
   "metadata": {},
   "outputs": [],
   "source": [
    "#Pdata = df_ml.loc[id_table.NoEssai == id_sample_p.NoEssai.values[0]][[\"RendVendable\", \"PtotDose\"]]\n",
    "#plt.plot(Pdata.PtotDose, Pdata.RendVendable, \"o\")"
   ]
  },
  {
   "cell_type": "code",
   "execution_count": 84,
   "metadata": {},
   "outputs": [],
   "source": [
    "reference_row_P = df_ml_sc.loc[df_ml_sc.index == id_sample_p.index[0], \n",
    "                               df_ml.columns.isin(num_vars)]# | df_ml.columns.str.startswith(cat_vars[0])]\n",
    "\n",
    "dose_grid_P = pd.DataFrame({'NtotDose': reference_row_P.NtotDose.values[0],\n",
    "                          'PtotDose': np.linspace(0, 250, 251),\n",
    "                          'KtotDose': reference_row_P.KtotDose.values[0]})\n",
    "dose_grid_P['P'] = 0.436*dose_grid_P.PtotDose\n",
    "\n",
    "dose_grid_P_sc = dose_grid_P.copy()\n",
    "for var in dose_vars:\n",
    "    dose_grid_P_sc[var] = (dose_grid_P[var] - mean_numvars[var]) / std_numvars[var]\n",
    "\n",
    "reference_stack_P = pd.DataFrame(index = range(dose_grid_P.shape[0]), columns = reference_row_P.columns)\n",
    "for i in range(reference_stack_P.shape[1]):\n",
    "    reference_stack_P.iloc[:, i] = np.repeat(reference_row_P.values[0, i], reference_stack_P.shape[0])\n",
    "reference_stack_P.NtotDose = dose_grid_P_sc.NtotDose\n",
    "reference_stack_P.PtotDose = dose_grid_P_sc.PtotDose\n",
    "reference_stack_P.KtotDose = dose_grid_P_sc.KtotDose  "
   ]
  },
  {
   "cell_type": "code",
   "execution_count": 85,
   "metadata": {},
   "outputs": [],
   "source": [
    "# Point estimate\n",
    "knn_P_sc = knn.predict(reference_stack_P)\n",
    "rf_P_sc = rfm.predict(reference_stack_P)\n",
    "nn_P_sc = nn.predict(reference_stack_P)\n",
    "gp_P_sc = gp.predict(reference_stack_P)\n",
    "\n",
    "dose_grid_P[\"yield_knn\"] = knn_P_sc[:, 0] * std_respvars.values + mean_respvars.values\n",
    "dose_grid_P[\"yield_rf\"] = rf_P_sc * std_respvars.values + mean_respvars.values\n",
    "dose_grid_P[\"yield_nn\"] = nn_P_sc * std_respvars.values + mean_respvars.values\n",
    "dose_grid_P[\"yield_gp\"] = gp_P_sc[:, 0] * std_respvars.values + mean_respvars.values\n",
    "# seul P variant, on peut estimer le coût de l'engrais en fonction P seul\n",
    "dose_grid_P[\"cost\"] = dose_grid_P.PtotDose * P_cost \n",
    "# le revenu varie selon le modèle, et donc le benefice aussi\n",
    "dose_grid_P[\"gp_revenue\"] = dose_grid_P.yield_gp * price_yield\n",
    "dose_grid_P[\"gp_benefit\"] = dose_grid_P.gp_revenue - dose_grid_P.cost\n",
    "doses_opt_P_point = dose_grid_P.loc[dose_grid_P[\"gp_benefit\"].idxmax(), [\"PtotDose\", \"yield_gp\", \"gp_benefit\"]].round(2)\n",
    "Pdata = df_ml.loc[id_table.NoEssai == id_sample_p.NoEssai.values[0]][[\"RendVendable\", \"PtotDose\"]]\n",
    "Pdata['P'] = 0.436*Pdata.PtotDose"
   ]
  },
  {
   "cell_type": "markdown",
   "metadata": {},
   "source": [
    "Reference trial where only __K__ dose varied: `(test_type = K)`"
   ]
  },
  {
   "cell_type": "code",
   "execution_count": 86,
   "metadata": {},
   "outputs": [
    {
     "data": {
      "text/html": [
       "<div>\n",
       "<style scoped>\n",
       "    .dataframe tbody tr th:only-of-type {\n",
       "        vertical-align: middle;\n",
       "    }\n",
       "\n",
       "    .dataframe tbody tr th {\n",
       "        vertical-align: top;\n",
       "    }\n",
       "\n",
       "    .dataframe thead th {\n",
       "        text-align: right;\n",
       "    }\n",
       "</style>\n",
       "<table border=\"1\" class=\"dataframe\">\n",
       "  <thead>\n",
       "    <tr style=\"text-align: right;\">\n",
       "      <th></th>\n",
       "      <th>NoEssai</th>\n",
       "      <th>test_type</th>\n",
       "      <th>ID</th>\n",
       "    </tr>\n",
       "  </thead>\n",
       "  <tbody>\n",
       "    <tr>\n",
       "      <th>3843</th>\n",
       "      <td>320</td>\n",
       "      <td>K</td>\n",
       "      <td>320-3-3</td>\n",
       "    </tr>\n",
       "  </tbody>\n",
       "</table>\n",
       "</div>"
      ],
      "text/plain": [
       "      NoEssai test_type       ID\n",
       "3843      320         K  320-3-3"
      ]
     },
     "execution_count": 86,
     "metadata": {},
     "output_type": "execute_result"
    }
   ],
   "source": [
    "id_k = id_table.loc[blocks.isin(blocks_inTest) & id_table.NoEssai.isin(common_df.NoEssai)]\n",
    "id_k.index = id_table.loc[blocks.isin(blocks_inTest) & id_table.NoEssai.isin(common_df.NoEssai)].index\n",
    "id_sample_k = id_k.loc[id_k.test_type==\"K\", [\"NoEssai\", \"test_type\", \"ID\"]].sample(1, random_state = 6123) #6123\n",
    "id_sample_k"
   ]
  },
  {
   "cell_type": "code",
   "execution_count": 87,
   "metadata": {},
   "outputs": [],
   "source": [
    "#Kdata = df_ml.loc[id_table.NoEssai == id_sample_k.NoEssai.values[0]][[\"RendVendable\", \"KtotDose\"]]\n",
    "#plt.plot(Kdata.KtotDose, Kdata.RendVendable, \"o\")"
   ]
  },
  {
   "cell_type": "code",
   "execution_count": 88,
   "metadata": {},
   "outputs": [],
   "source": [
    "reference_row_K = df_ml_sc.loc[df_ml_sc.index == id_sample_k.index[0], \n",
    "                               df_ml.columns.isin(num_vars)]# | df_ml.columns.str.startswith(cat_vars[0])]\n",
    "\n",
    "dose_grid_K = pd.DataFrame({'NtotDose': reference_row_K.NtotDose.values[0],\n",
    "                           'PtotDose': reference_row_K.PtotDose.values[0],\n",
    "                           'KtotDose': np.linspace(0, 250, 251)})\n",
    "dose_grid_K['K'] = 0.830*dose_grid_K.KtotDose\n",
    "\n",
    "dose_grid_K_sc = dose_grid_K.copy()\n",
    "for var in dose_vars:\n",
    "    dose_grid_K_sc[var] = (dose_grid_K[var] - mean_numvars[var]) / std_numvars[var]\n",
    "\n",
    "reference_stack_K = pd.DataFrame(index = range(dose_grid_K.shape[0]), columns = reference_row_K.columns)\n",
    "for i in range(reference_stack_K.shape[1]):\n",
    "    reference_stack_K.iloc[:, i] = np.repeat(reference_row_K.values[0, i], reference_stack_K.shape[0])\n",
    "reference_stack_K.NtotDose = dose_grid_K_sc.NtotDose\n",
    "reference_stack_K.PtotDose = dose_grid_K_sc.PtotDose\n",
    "reference_stack_K.KtotDose = dose_grid_K_sc.KtotDose  "
   ]
  },
  {
   "cell_type": "code",
   "execution_count": 89,
   "metadata": {},
   "outputs": [],
   "source": [
    "# Point estimate\n",
    "knn_K_sc = knn.predict(reference_stack_K)\n",
    "rf_K_sc = rfm.predict(reference_stack_K)\n",
    "nn_K_sc = nn.predict(reference_stack_K)\n",
    "gp_K_sc = gp.predict(reference_stack_K)\n",
    "\n",
    "dose_grid_K[\"yield_knn\"] = knn_K_sc[:, 0] * std_respvars.values + mean_respvars.values\n",
    "dose_grid_K[\"yield_rf\"] = rf_K_sc * std_respvars.values + mean_respvars.values\n",
    "dose_grid_K[\"yield_nn\"] = nn_K_sc * std_respvars.values + mean_respvars.values\n",
    "dose_grid_K[\"yield_gp\"] = gp_K_sc[:, 0] * std_respvars.values + mean_respvars.values\n",
    "# seul K variant, on peut estimer le coût de l'engrais en fonction de K seul\n",
    "dose_grid_K[\"cost\"] = dose_grid_K.KtotDose * K_cost \n",
    "# le revenu varie selon le modèle, et donc le benefice aussi\n",
    "dose_grid_K[\"gp_revenue\"] = dose_grid_K.yield_gp * price_yield\n",
    "dose_grid_K[\"gp_benefit\"] = dose_grid_K.gp_revenue - dose_grid_K.cost\n",
    "doses_opt_K_point = dose_grid_K.loc[dose_grid_K[\"gp_benefit\"].idxmax(), [\"KtotDose\", \"yield_gp\", \"gp_benefit\"]].round(2)\n",
    "Kdata = df_ml.loc[id_table.NoEssai == id_sample_k.NoEssai.values[0]][[\"RendVendable\", \"KtotDose\"]]\n",
    "Kdata['K'] = 0.830*Kdata.KtotDose"
   ]
  },
  {
   "cell_type": "code",
   "execution_count": 90,
   "metadata": {},
   "outputs": [],
   "source": [
    "# Save selected trials for R\n",
    "pd.concat([id_sample_n, id_sample_p, id_sample_k], axis=0, ignore_index=False).to_csv('output/test_types.csv')"
   ]
  },
  {
   "cell_type": "markdown",
   "metadata": {},
   "source": [
    "### Output data for future visualisation\n",
    "\n",
    "The results are saved in the `output` folder and are loaded in the vizualisation notebook."
   ]
  },
  {
   "cell_type": "code",
   "execution_count": 91,
   "metadata": {},
   "outputs": [],
   "source": [
    "Ndata[\"Sample\"] = id_sample_n.NoEssai.values[0]\n",
    "Pdata[\"Sample\"] = id_sample_p.NoEssai.values[0]\n",
    "Kdata[\"Sample\"] = id_sample_k.NoEssai.values[0]\n",
    "\n",
    "Ndata.to_csv(\"output/yield_model_Ndata.csv\")\n",
    "Pdata.to_csv(\"output/yield_model_Pdata.csv\")\n",
    "Kdata.to_csv(\"output/yield_model_Kdata.csv\")\n",
    "\n",
    "dose_grid_N.to_csv(\"output/yield_model_N.csv\")\n",
    "dose_grid_P.to_csv(\"output/yield_model_P.csv\")\n",
    "dose_grid_K.to_csv(\"output/yield_model_K.csv\")"
   ]
  },
  {
   "cell_type": "markdown",
   "metadata": {},
   "source": [
    "### Probabilistic prediction with gaussian process\n",
    "\n",
    "One advantage of gaussian processes is that it's probabilistic: it doesn't only returns point estimates, but can returns posterior samples. For the demonstration of this section, I use the `reference_stack` data frame. I generate `500` gaussian process samples for each `NPK` triplet from the random doses `dose_grid` used for initial point estimation."
   ]
  },
  {
   "cell_type": "code",
   "execution_count": 92,
   "metadata": {},
   "outputs": [],
   "source": [
    "n_gp_samples = 500\n",
    "gp_samples_sc = gp.sample_y(reference_stack, n_samples = n_gp_samples)[:, 0, :] # [:, 0, :] to remove dummy middle dimension"
   ]
  },
  {
   "cell_type": "markdown",
   "metadata": {},
   "source": [
    "... and put predicted yields back to scale."
   ]
  },
  {
   "cell_type": "code",
   "execution_count": 93,
   "metadata": {},
   "outputs": [],
   "source": [
    "gp_samples = gp_samples_sc.copy()\n",
    "for i in range(n_gp_samples):\n",
    "    gp_samples[:, i] = gp_samples_sc[:, i] * std_respvars.values + mean_respvars.values"
   ]
  },
  {
   "cell_type": "markdown",
   "metadata": {},
   "source": [
    "Gaussian process samples are put in a pandas data frame with pretty column names."
   ]
  },
  {
   "cell_type": "code",
   "execution_count": 94,
   "metadata": {},
   "outputs": [],
   "source": [
    "gp_names = list(range(n_gp_samples))\n",
    "for i in range(n_gp_samples):\n",
    "    gp_names[i] = \"gp\" + str(gp_names[i])\n",
    "gp_yields = pd.DataFrame(gp_samples, columns = gp_names)"
   ]
  },
  {
   "cell_type": "markdown",
   "metadata": {},
   "source": [
    "Yields are proportional to gains."
   ]
  },
  {
   "cell_type": "code",
   "execution_count": 95,
   "metadata": {},
   "outputs": [],
   "source": [
    "gp_revenue = gp_yields * price_yield\n",
    "gp_benefit = gp_revenue.apply(func = lambda x: x - dose_grid[\"cost\"], axis = 0)"
   ]
  },
  {
   "cell_type": "markdown",
   "metadata": {},
   "source": [
    "Then, for each gaussian process, I find the optimal economical dosage. The optimal dosages are gathered in a pandas data frame. The corresponding yield and benefit are also reported."
   ]
  },
  {
   "cell_type": "code",
   "execution_count": 96,
   "metadata": {},
   "outputs": [],
   "source": [
    "doses_opt = pd.DataFrame({\"NtotDose\":0, \"PtotDose\":0, \"KtotDose\":0, \"yield_\":0, \"benefit\":0}, index = gp_names)\n",
    "for i in gp_names:\n",
    "    doses_opt.loc[i] = dose_grid.loc[gp_benefit.loc[:, i].idxmax(), [\"NtotDose\", \"PtotDose\", \"KtotDose\", \"yield_\", \"benefit\"]]\n",
    "doses_opt['P'] = 0.436*doses_opt.PtotDose\n",
    "doses_opt['K'] = 0.830*doses_opt.KtotDose"
   ]
  },
  {
   "cell_type": "markdown",
   "metadata": {},
   "source": [
    "This chain plots the distribution of each fertilizer optimal doses of the same trial (_the randomly selected one `r_sample`_). The red dotted vertical lines show the optimal dosage from the initial gaussian process point estimate."
   ]
  },
  {
   "cell_type": "raw",
   "metadata": {},
   "source": [
    "plt.figure(figsize = (6, 3), dpi = 300, facecolor = 'w', edgecolor = 'k')\n",
    "plt.hist(doses_opt.loc[:, \"NtotDose\"], color = \"lightgrey\", edgecolor = 'grey')\n",
    "plt.xlabel(r\"Optimal dose N ($kg~ha^{-1})$\", size = 14, fontsize = 14)\n",
    "plt.ylabel(\"Count\", size = 14, fontsize = 14)\n",
    "plt.savefig(\"images/probab_convexe.png\", bbox_inches ='tight', dpi = 300)"
   ]
  },
  {
   "cell_type": "code",
   "execution_count": 131,
   "metadata": {},
   "outputs": [
    {
     "data": {
      "image/png": "[encoded data removed]",
      "text/plain": [
       "<Figure size 960x240 with 3 Axes>"
      ]
     },
     "metadata": {},
     "output_type": "display_data"
    }
   ],
   "source": [
    "plt.figure(figsize=(12, 3), dpi= 80, facecolor='w', edgecolor='k')\n",
    "gs = gridspec.GridSpec(1, 3, \n",
    "                       width_ratios=[1,1,1],\n",
    "                       height_ratios=[1]\n",
    "                      ) \n",
    "ax0 = plt.subplot(gs[0])\n",
    "ax0.hist(doses_opt.loc[:, \"NtotDose\"], color = \"lightgrey\", edgecolor = 'grey')\n",
    "ax0.axvline(x = opt_doses_gp[0], color = 'r', linestyle = '--')\n",
    "ax0.set_title(\"Trial N° \" + str(NoEssai))\n",
    "ax0.set_xlabel(r\"Optimal dose N ($kg~ha^{-1})$\")\n",
    "ax0.set_ylabel(\"Count\")\n",
    "\n",
    "ax1 = plt.subplot(gs[1])\n",
    "ax1.hist(doses_opt.loc[:, \"P\"], color = \"lightgrey\", edgecolor = 'grey')\n",
    "ax1.axvline(x = 0.436*opt_doses_gp[1], color = 'r', linestyle = '--')\n",
    "ax1.set_title(\"Trial N° \" + str(NoEssai))\n",
    "ax1.set_xlabel(r\"Optimal dose P ($kg~ha^{-1})$\")\n",
    "\n",
    "ax2 = plt.subplot(gs[2])\n",
    "ax2.hist(doses_opt.loc[:, \"K\"], color = \"lightgrey\", edgecolor = 'grey')\n",
    "ax2.axvline(x = 0.830*opt_doses_gp[2], color = 'r', linestyle = '--')\n",
    "ax2.set_title(\"Trial N° \" + str(NoEssai))\n",
    "ax2.set_xlabel(r\"Optimal dose K ($kg~ha^{-1})$\")\n",
    "\n",
    "plt.tight_layout()"
   ]
  },
  {
   "cell_type": "markdown",
   "metadata": {},
   "source": [
    "These distributions show optimal doses (_most of the time_) on the edge of ranges. How can we use this model for decision making while it's difficult to obtain credible optimal dosage? Using the same trial, I generate new tables, one for each fertilizer type, and where one dose is varying while the others are kept constant _at their __gp__ model computed optimum_."
   ]
  },
  {
   "cell_type": "markdown",
   "metadata": {},
   "source": [
    "#### Prediction where only __N__ dosage varied, trial `r_sample`"
   ]
  },
  {
   "cell_type": "code",
   "execution_count": 132,
   "metadata": {},
   "outputs": [],
   "source": [
    "dose_grid_N = pd.DataFrame({'NtotDose': np.linspace(0, 250, 251),\n",
    "                          'PtotDose': opt_doses_gp.PtotDose,\n",
    "                          'KtotDose': opt_doses_gp.KtotDose})"
   ]
  },
  {
   "cell_type": "code",
   "execution_count": 133,
   "metadata": {},
   "outputs": [],
   "source": [
    "dose_grid_N_sc = dose_grid_N.copy()\n",
    "for var in dose_vars:\n",
    "    dose_grid_N_sc[var] = (dose_grid_N[var] - mean_numvars[var]) / std_numvars[var]"
   ]
  },
  {
   "cell_type": "code",
   "execution_count": 134,
   "metadata": {},
   "outputs": [],
   "source": [
    "reference_stack_N = pd.DataFrame(index = range(dose_grid_N.shape[0]), columns = reference_row.columns)\n",
    "for i in range(reference_stack_N.shape[1]):\n",
    "    reference_stack_N.iloc[:, i] = np.repeat(reference_row.values[0, i], reference_stack_N.shape[0])\n",
    "reference_stack_N.NtotDose = dose_grid_N_sc.NtotDose\n",
    "reference_stack_N.PtotDose = dose_grid_N_sc.PtotDose\n",
    "reference_stack_N.KtotDose = dose_grid_N_sc.KtotDose  "
   ]
  },
  {
   "cell_type": "markdown",
   "metadata": {},
   "source": [
    "Point estimate"
   ]
  },
  {
   "cell_type": "code",
   "execution_count": 135,
   "metadata": {},
   "outputs": [],
   "source": [
    "yield_N_sc = gp.predict(reference_stack_N)\n",
    "dose_grid_N[\"yield_\"] = yield_N_sc[:, 0] * std_respvars.values + mean_respvars.values\n",
    "dose_grid_N[\"cost\"] = dose_grid_N.NtotDose * N_cost + dose_grid_N.PtotDose * P_cost + dose_grid_N.KtotDose * K_cost\n",
    "dose_grid_N[\"revenue\"] = dose_grid_N.yield_ * price_yield\n",
    "dose_grid_N[\"benefit\"] = dose_grid_N.revenue - dose_grid_N.cost\n",
    "doses_opt_N_point = dose_grid_N.loc[dose_grid_N[\"benefit\"].idxmax(), [\"NtotDose\", \"PtotDose\", \"KtotDose\", \"yield_\", \"benefit\"]].round(2)"
   ]
  },
  {
   "cell_type": "markdown",
   "metadata": {},
   "source": [
    "GP samples"
   ]
  },
  {
   "cell_type": "code",
   "execution_count": 136,
   "metadata": {},
   "outputs": [],
   "source": [
    "n_gp_samples = 5\n",
    "gp_samples_N_sc = gp.sample_y(reference_stack_N, n_samples = n_gp_samples, random_state = 615108)[:, 0, :] # [:, 0, :] to remove dummy middle dimension\n",
    "\n",
    "# Scale back to original\n",
    "gp_samples_N = gp_samples_N_sc.copy()\n",
    "for i in range(n_gp_samples):\n",
    "    gp_samples_N[:, i] = gp_samples_N_sc[:, i] * std_respvars.values + mean_respvars.values\n",
    "\n",
    "# Pretty table\n",
    "gp_names = list(range(n_gp_samples))\n",
    "for i in range(n_gp_samples):\n",
    "    gp_names[i] = \"gp\" + str(gp_names[i])\n",
    "gp_yields_N = pd.DataFrame(gp_samples_N, columns = gp_names)\n",
    "\n",
    "# Revenues and benefits\n",
    "gp_revenue_N = gp_yields_N * price_yield\n",
    "gp_benefit_N = gp_revenue_N.apply(func = lambda x: x - dose_grid_N[\"cost\"], axis = 0)\n",
    "\n",
    "# N optimal dosages\n",
    "doses_opt_N_samples = pd.DataFrame({\"NtotDose\":0, \"PtotDose\":0, \"KtotDose\":0, \"yield_\": 0}, index = gp_names)\n",
    "for i in gp_names:\n",
    "    doses_opt_N_samples.loc[i, [\"NtotDose\", \"PtotDose\", \"KtotDose\"]] = dose_grid_N.loc[gp_benefit_N.loc[:, i].idxmax(), [\"NtotDose\", \"PtotDose\", \"KtotDose\"]]\n",
    "    doses_opt_N_samples.loc[i, \"yield_\"] = gp_yields_N.loc[gp_benefit_N.loc[:, i].idxmax(), i]"
   ]
  },
  {
   "cell_type": "markdown",
   "metadata": {},
   "source": [
    "#### Prediction where only __P__ dosage varied, trial `r_sample`"
   ]
  },
  {
   "cell_type": "code",
   "execution_count": 137,
   "metadata": {},
   "outputs": [],
   "source": [
    "dose_grid_P = pd.DataFrame({'NtotDose': opt_doses_gp.NtotDose,\n",
    "                          'PtotDose': np.linspace(0, 250, 251),\n",
    "                          'KtotDose': opt_doses_gp.KtotDose})"
   ]
  },
  {
   "cell_type": "code",
   "execution_count": 138,
   "metadata": {},
   "outputs": [],
   "source": [
    "dose_grid_P_sc = dose_grid_P.copy()\n",
    "for var in dose_vars:\n",
    "    dose_grid_P_sc[var] = (dose_grid_P[var] - mean_numvars[var]) / std_numvars[var]"
   ]
  },
  {
   "cell_type": "code",
   "execution_count": 139,
   "metadata": {},
   "outputs": [],
   "source": [
    "reference_stack_P = pd.DataFrame(index = range(dose_grid_P.shape[0]), columns = reference_row.columns)\n",
    "for i in range(reference_stack_P.shape[1]):\n",
    "    reference_stack_P.iloc[:, i] = np.repeat(reference_row.values[0, i], reference_stack_P.shape[0])\n",
    "reference_stack_P.NtotDose = dose_grid_P_sc.NtotDose\n",
    "reference_stack_P.PtotDose = dose_grid_P_sc.PtotDose\n",
    "reference_stack_P.KtotDose = dose_grid_P_sc.KtotDose  "
   ]
  },
  {
   "cell_type": "markdown",
   "metadata": {},
   "source": [
    "Point estimate"
   ]
  },
  {
   "cell_type": "code",
   "execution_count": 140,
   "metadata": {},
   "outputs": [],
   "source": [
    "yield_P_sc = gp.predict(reference_stack_P)\n",
    "dose_grid_P[\"yield_\"] = yield_P_sc[:, 0] * std_respvars.values + mean_respvars.values\n",
    "dose_grid_P[\"cost\"] = dose_grid_P.NtotDose * N_cost + dose_grid_P.PtotDose * P_cost + dose_grid_P.KtotDose * K_cost\n",
    "dose_grid_P[\"revenue\"] = dose_grid_P.yield_ * price_yield\n",
    "dose_grid_P[\"benefit\"] = dose_grid_P.revenue - dose_grid_P.cost\n",
    "dose_grid_P['P'] = 0.436*dose_grid_P.PtotDose\n",
    "doses_opt_P_point = dose_grid_P.loc[dose_grid_P[\"benefit\"].idxmax(), [\"NtotDose\", \"PtotDose\", \"KtotDose\", \"yield_\", \"benefit\"]].round(2)\n",
    "doses_opt_P_point['P'] = 0.436*doses_opt_P_point.PtotDose"
   ]
  },
  {
   "cell_type": "markdown",
   "metadata": {},
   "source": [
    "GP samples"
   ]
  },
  {
   "cell_type": "code",
   "execution_count": 141,
   "metadata": {},
   "outputs": [],
   "source": [
    "n_gp_samples = 5\n",
    "gp_samples_P_sc = gp.sample_y(reference_stack_P, n_samples = n_gp_samples, random_state = 615108)[:, 0, :] # [:, 0, :] to remove dummy middle dimension\n",
    "\n",
    "# Scale back to original\n",
    "gp_samples_P = gp_samples_P_sc.copy()\n",
    "for i in range(n_gp_samples):\n",
    "    gp_samples_P[:, i] = gp_samples_P_sc[:, i] * std_respvars.values + mean_respvars.values\n",
    "\n",
    "# Pretty table\n",
    "gp_names = list(range(n_gp_samples))\n",
    "for i in range(n_gp_samples):\n",
    "    gp_names[i] = \"gp\" + str(gp_names[i])\n",
    "gp_yields_P = pd.DataFrame(gp_samples_P, columns = gp_names)\n",
    "\n",
    "# Revenues and benefits\n",
    "gp_revenue_P = gp_yields_P * price_yield\n",
    "gp_benefit_P = gp_revenue_P.apply(func = lambda x: x - dose_grid_P[\"cost\"], axis = 0)\n",
    "\n",
    "# P optimal dosages\n",
    "doses_opt_P_samples = pd.DataFrame({\"NtotDose\":0, \"PtotDose\":0, \"KtotDose\":0, \"yield_\": 0}, index = gp_names)\n",
    "for i in gp_names:\n",
    "    doses_opt_P_samples.loc[i, [\"NtotDose\", \"PtotDose\", \"KtotDose\"]] = dose_grid_P.loc[gp_benefit_P.loc[:, i].idxmax(), [\"NtotDose\", \"PtotDose\", \"KtotDose\"]]\n",
    "    doses_opt_P_samples.loc[i, \"yield_\"] = gp_yields_P.loc[gp_benefit_P.loc[:, i].idxmax(), i]\n",
    "doses_opt_P_samples[\"P\"] = 0.436*doses_opt_P_samples.PtotDose"
   ]
  },
  {
   "cell_type": "markdown",
   "metadata": {},
   "source": [
    "#### Prediction where only __K__ dosage varied, trial `r_sample`"
   ]
  },
  {
   "cell_type": "code",
   "execution_count": 142,
   "metadata": {},
   "outputs": [],
   "source": [
    "dose_grid_K = pd.DataFrame({'NtotDose': opt_doses_gp.NtotDose,\n",
    "                          'PtotDose': opt_doses_gp.PtotDose,\n",
    "                          'KtotDose': np.linspace(0, 250, 251)})"
   ]
  },
  {
   "cell_type": "code",
   "execution_count": 143,
   "metadata": {},
   "outputs": [],
   "source": [
    "dose_grid_K_sc = dose_grid_K.copy()\n",
    "for var in dose_vars:\n",
    "    dose_grid_K_sc[var] = (dose_grid_K[var] - mean_numvars[var]) / std_numvars[var]"
   ]
  },
  {
   "cell_type": "code",
   "execution_count": 144,
   "metadata": {},
   "outputs": [],
   "source": [
    "reference_stack_K = pd.DataFrame(index = range(dose_grid_K.shape[0]), columns = reference_row.columns)\n",
    "for i in range(reference_stack_K.shape[1]):\n",
    "    reference_stack_K.iloc[:, i] = np.repeat(reference_row.values[0, i], reference_stack_K.shape[0])\n",
    "reference_stack_K.NtotDose = dose_grid_K_sc.NtotDose\n",
    "reference_stack_K.PtotDose = dose_grid_K_sc.PtotDose\n",
    "reference_stack_K.KtotDose = dose_grid_K_sc.KtotDose  "
   ]
  },
  {
   "cell_type": "markdown",
   "metadata": {},
   "source": [
    "Point estimate"
   ]
  },
  {
   "cell_type": "code",
   "execution_count": 145,
   "metadata": {},
   "outputs": [],
   "source": [
    "yield_K_sc = gp.predict(reference_stack_K)\n",
    "dose_grid_K[\"yield_\"] = yield_K_sc[:, 0] * std_respvars.values + mean_respvars.values\n",
    "dose_grid_K[\"cost\"] = dose_grid_K.NtotDose * N_cost + dose_grid_K.PtotDose * P_cost + dose_grid_K.KtotDose * K_cost\n",
    "dose_grid_K[\"revenue\"] = dose_grid_K.yield_ * price_yield\n",
    "dose_grid_K[\"benefit\"] = dose_grid_K.revenue - dose_grid_K.cost\n",
    "dose_grid_K['K'] = 0.830*dose_grid_K.KtotDose\n",
    "doses_opt_K_point = dose_grid_K.loc[dose_grid_K[\"benefit\"].idxmax(), [\"NtotDose\", \"PtotDose\", \"KtotDose\", \"yield_\", \"benefit\"]].round(2)\n",
    "doses_opt_K_point['K'] = 0.830*doses_opt_K_point.KtotDose"
   ]
  },
  {
   "cell_type": "markdown",
   "metadata": {},
   "source": [
    "GP samples"
   ]
  },
  {
   "cell_type": "code",
   "execution_count": 146,
   "metadata": {},
   "outputs": [],
   "source": [
    "n_gp_samples = 5\n",
    "gp_samples_K_sc = gp.sample_y(reference_stack_K, n_samples = n_gp_samples, random_state = 615108)[:, 0, :] # [:, 0, :] to remove dummy middle dimension\n",
    "\n",
    "# Scale back to original\n",
    "gp_samples_K = gp_samples_K_sc.copy()\n",
    "for i in range(n_gp_samples):\n",
    "    gp_samples_K[:, i] = gp_samples_K_sc[:, i] * std_respvars.values + mean_respvars.values\n",
    "\n",
    "# Pretty table\n",
    "gp_names = list(range(n_gp_samples))\n",
    "for i in range(n_gp_samples):\n",
    "    gp_names[i] = \"gp\" + str(gp_names[i])\n",
    "gp_yields_K = pd.DataFrame(gp_samples_K, columns = gp_names)\n",
    "\n",
    "# Revenues and benefits\n",
    "gp_revenue_K = gp_yields_K * price_yield\n",
    "gp_benefit_K = gp_revenue_K.apply(func = lambda x: x - dose_grid_K[\"cost\"], axis = 0)\n",
    "\n",
    "# K optimal dosages\n",
    "doses_opt_K_samples = pd.DataFrame({\"NtotDose\":0, \"PtotDose\":0, \"KtotDose\":0, \"yield_\": 0}, index = gp_names)\n",
    "for i in gp_names:\n",
    "    doses_opt_K_samples.loc[i, [\"NtotDose\", \"PtotDose\", \"KtotDose\"]] = dose_grid_K.loc[gp_benefit_K.loc[:, i].idxmax(), [\"NtotDose\", \"PtotDose\", \"KtotDose\"]]\n",
    "    doses_opt_K_samples.loc[i, \"yield_\"] = gp_yields_K.loc[gp_benefit_K.loc[:, i].idxmax(), i]\n",
    "doses_opt_K_samples[\"K\"] = 0.830*doses_opt_K_samples.KtotDose"
   ]
  },
  {
   "cell_type": "markdown",
   "metadata": {},
   "source": [
    "#### Plots of all cases\n",
    "\n",
    "Results are presented as the average GP and its point optimal dose in blue, with `5` gaussian processes and their optimal. Histograms of probabilistic optimal doses are shown under the response curves."
   ]
  },
  {
   "cell_type": "code",
   "execution_count": 147,
   "metadata": {},
   "outputs": [
    {
     "data": {
      "image/png": "[encoded data removed]",
      "text/plain": [
       "<Figure size 864x360 with 6 Axes>"
      ]
     },
     "metadata": {
      "needs_background": "light"
     },
     "output_type": "display_data"
    }
   ],
   "source": [
    "fig = plt.figure(figsize=(12, 5))\n",
    "gs = gridspec.GridSpec(2, 3, height_ratios=[3, 1]) \n",
    "\n",
    "# N\n",
    "ax0 = plt.subplot(gs[0])\n",
    "ax0.plot(dose_grid_N.NtotDose, dose_grid_N.yield_, linewidth = 2, color = \"black\")\n",
    "ax0.plot(doses_opt_N_point.NtotDose, doses_opt_N_point.yield_, marker = \"o\", color = \"blue\")\n",
    "for i in gp_yields_N.columns:\n",
    "    ax0.plot(dose_grid_N.NtotDose, gp_yields_N[i], color = \"black\", alpha=0.15)\n",
    "    ax0.plot(doses_opt_N_samples.loc[i, \"NtotDose\"], doses_opt_N_samples.loc[i, \"yield_\"],\n",
    "             marker = \"o\", color = \"black\", alpha = 0.15)\n",
    "if r_sample.test_type.values[0] == \"N\":\n",
    "    plot_Ndata = df_ml.loc[id_table.NoEssai == r_sample.NoEssai.values[0]][[\"RendVendable\", \"NtotDose\"]]\n",
    "    plt.plot(plot_Ndata.NtotDose, plot_Ndata.RendVendable, \"o\", color = \"black\", alpha = 0.15)\n",
    "ax0.set_ylim([0, 50])\n",
    "ax0.set_xlabel(\"N dose - ($kg~ha^{-1})$\")\n",
    "ax0.set_ylabel(\"GP predicted yield ($Mg~ha^{-1})$\")\n",
    "ax0.set_title(\"Trial N° \" + str(NoEssai))\n",
    "\n",
    "ax1 = plt.subplot(gs[3])\n",
    "ax1.hist(doses_opt.loc[:, \"NtotDose\"], color = \"lightgrey\", edgecolor = 'grey')\n",
    "ax1.set_xlabel(\"Optimal dose N ($kg~ha^{-1})$\")\n",
    "ax1.set_ylabel(\"Counts\")\n",
    "\n",
    "# P\n",
    "ax2 = plt.subplot(gs[1])\n",
    "ax2.plot(dose_grid_P.P, dose_grid_P.yield_, linewidth = 2, color = \"black\")\n",
    "ax2.plot(doses_opt_P_point.P, doses_opt_P_point.yield_, marker = \"o\", color = \"blue\")\n",
    "for i in gp_yields_P.columns:\n",
    "    ax2.plot(dose_grid_P.P, gp_yields_P[i], color = \"black\", alpha=0.15)\n",
    "    ax2.plot(doses_opt_P_samples.loc[i, \"P\"], doses_opt_P_samples.loc[i, \"yield_\"],\n",
    "             marker = \"o\", color = \"black\", alpha = 0.15)\n",
    "if r_sample.test_type.values[0] == \"P\":\n",
    "    plot_Pdata = df_ml.loc[id_table.NoEssai == r_sample.NoEssai.values[0]][[\"RendVendable\", \"PtotDose\"]]\n",
    "    plot_Pdata['P'] = 0.436*plot_Pdata.PtotDose\n",
    "    plt.plot(plot_Pdata.P, plot_Pdata.RendVendable, \"o\", color = \"black\", alpha = 0.15)   \n",
    "ax2.set_ylim([0, 50])\n",
    "ax2.set_title(\"Trial N° \" + str(NoEssai))\n",
    "\n",
    "ax3 = plt.subplot(gs[4])\n",
    "ax3.hist(doses_opt.loc[:, \"P\"], color = \"lightgrey\", edgecolor = 'grey')\n",
    "ax3.set_xlabel(r\"Optimal dose P ($kg~ha^{-1})$\")\n",
    "\n",
    "# K\n",
    "ax4 = plt.subplot(gs[2])\n",
    "ax4.plot(dose_grid_K.K, dose_grid_K.yield_, linewidth = 2, color = \"black\")\n",
    "ax4.plot(doses_opt_K_point.K, doses_opt_K_point.yield_, marker = \"o\", color = \"blue\")\n",
    "for i in gp_yields_K.columns:\n",
    "    ax4.plot(dose_grid_K.K, gp_yields_K[i], color = \"black\", alpha=0.15)\n",
    "    ax4.plot(doses_opt_K_samples.loc[i, \"K\"], doses_opt_K_samples.loc[i, \"yield_\"],\n",
    "             marker = \"o\", color = \"black\", alpha = 0.15)\n",
    "if r_sample.test_type.values[0] == \"K\":\n",
    "    plot_Kdata = df_ml.loc[id_table.NoEssai == r_sample.NoEssai.values[0]][[\"RendVendable\", \"KtotDose\"]]\n",
    "    plot_Kdata['K'] = 0.830*plot_Kdata.KtotDose\n",
    "    plt.plot(plot_Kdata.K, plot_Kdata.RendVendable, \"o\", color = \"black\", alpha = 0.15)   \n",
    "ax4.set_ylim([0, 50])\n",
    "ax4.set_title(\"Trial N° \" + str(NoEssai))\n",
    "\n",
    "ax5 = plt.subplot(gs[5])\n",
    "ax5.hist(doses_opt.loc[:, \"K\"], color = \"lightgrey\", edgecolor = 'grey')\n",
    "ax5.set_xlabel(r\"Optimal dose K ($kg~ha^{-1})$\")\n",
    "\n",
    "plt.tight_layout();"
   ]
  },
  {
   "cell_type": "markdown",
   "metadata": {},
   "source": [
    "The distributions are almost similar to those from the uniform random grid doses table. Probabilistic optimum are on the edges of ranges corresponding or not to the prior optimum (_black point_)."
   ]
  },
  {
   "cell_type": "markdown",
   "metadata": {},
   "source": [
    "### Probabilistic predictions based on __trial type__\n",
    "These chains make probabilistic predictions for the three N, P and K trials already modeled using `id_sample_n`, `id_sample_p` and `id_sample_k` respectively."
   ]
  },
  {
   "cell_type": "code",
   "execution_count": 148,
   "metadata": {},
   "outputs": [],
   "source": [
    "# GP samples for the N trial\n",
    "n_gp_samples = 1000 # 500\n",
    "gp_samples_N_sc = gp.sample_y(reference_stack_N, n_samples = n_gp_samples, random_state = 615108)[:, 0, :]\n",
    "\n",
    "# Scale back to original\n",
    "gp_samples_N = gp_samples_N_sc.copy()\n",
    "for i in range(n_gp_samples):\n",
    "    gp_samples_N[:, i] = gp_samples_N_sc[:, i] * std_respvars.values + mean_respvars.values\n",
    "\n",
    "# Pretty table\n",
    "gp_names = list(range(n_gp_samples))\n",
    "for i in range(n_gp_samples):\n",
    "    gp_names[i] = \"gp\" + str(gp_names[i])\n",
    "\n",
    "gp_yields_N = pd.DataFrame(gp_samples_N, columns = gp_names)\n",
    "\n",
    "gp_revenue_N = gp_yields_N * price_yield\n",
    "gp_benefit_N = gp_revenue_N.apply(func = lambda x: x - dose_grid_N[\"cost\"], axis = 0)\n",
    "\n",
    "doses_opt_N_samples = pd.DataFrame({\"NtotDose\":0, \"yield_\": 0}, index = gp_names)\n",
    "for i in gp_names:\n",
    "    doses_opt_N_samples.loc[i, [\"NtotDose\"]] = dose_grid_N.loc[gp_benefit_N.loc[:, i].idxmax(), [\"NtotDose\"]]\n",
    "    doses_opt_N_samples.loc[i, \"yield_\"] = gp_yields_N.loc[gp_benefit_N.loc[:, i].idxmax(), i]"
   ]
  },
  {
   "cell_type": "code",
   "execution_count": 149,
   "metadata": {},
   "outputs": [],
   "source": [
    "# GP samples for the P trial\n",
    "n_gp_samples = 1000 # 500\n",
    "gp_samples_P_sc = gp.sample_y(reference_stack_P, n_samples = n_gp_samples, random_state = 615108)[:, 0, :]\n",
    "\n",
    "# Scale back to original\n",
    "gp_samples_P = gp_samples_P_sc.copy()\n",
    "for i in range(n_gp_samples):\n",
    "    gp_samples_P[:, i] = gp_samples_P_sc[:, i] * std_respvars.values + mean_respvars.values\n",
    "\n",
    "# Pretty table\n",
    "gp_names = list(range(n_gp_samples))\n",
    "for i in range(n_gp_samples):\n",
    "    gp_names[i] = \"gp\" + str(gp_names[i])\n",
    "\n",
    "gp_yields_P = pd.DataFrame(gp_samples_P, columns = gp_names)\n",
    "\n",
    "gp_revenue_P = gp_yields_P * price_yield\n",
    "gp_benefit_P = gp_revenue_P.apply(func = lambda x: x - dose_grid_P[\"cost\"], axis = 0)\n",
    "\n",
    "doses_opt_P_samples = pd.DataFrame({\"PtotDose\":0, \"yield_\": 0}, index = gp_names)\n",
    "for i in gp_names:\n",
    "    doses_opt_P_samples.loc[i, [\"PtotDose\"]] = dose_grid_P.loc[gp_benefit_P.loc[:, i].idxmax(), [\"PtotDose\"]]\n",
    "    doses_opt_P_samples.loc[i, \"yield_\"] = gp_yields_P.loc[gp_benefit_P.loc[:, i].idxmax(), i]\n",
    "doses_opt_P_samples[\"P\"] = 0.436*doses_opt_P_samples.PtotDose"
   ]
  },
  {
   "cell_type": "code",
   "execution_count": 150,
   "metadata": {},
   "outputs": [],
   "source": [
    "# GP samples for the K trial\n",
    "n_gp_samples = 1000 # 500\n",
    "gp_samples_K_sc = gp.sample_y(reference_stack_K, n_samples = n_gp_samples, random_state = 615108)[:, 0, :]\n",
    "\n",
    "# Scale back to original\n",
    "gp_samples_K = gp_samples_K_sc.copy()\n",
    "for i in range(n_gp_samples):\n",
    "    gp_samples_K[:, i] = gp_samples_K_sc[:, i] * std_respvars.values + mean_respvars.values\n",
    "\n",
    "# Pretty table\n",
    "gp_names = list(range(n_gp_samples))\n",
    "for i in range(n_gp_samples):\n",
    "    gp_names[i] = \"gp\" + str(gp_names[i])\n",
    "\n",
    "gp_yields_K = pd.DataFrame(gp_samples_K, columns = gp_names)\n",
    "\n",
    "gp_revenue_K = gp_yields_K * price_yield\n",
    "gp_benefit_K = gp_revenue_K.apply(func = lambda x: x - dose_grid_K[\"cost\"], axis = 0)\n",
    "\n",
    "doses_opt_K_samples = pd.DataFrame({\"KtotDose\":0, \"yield_\": 0}, index = gp_names)\n",
    "for i in gp_names:\n",
    "    doses_opt_K_samples.loc[i, [\"KtotDose\"]] = dose_grid_K.loc[gp_benefit_K.loc[:, i].idxmax(), [\"KtotDose\"]]\n",
    "    doses_opt_K_samples.loc[i, \"yield_\"] = gp_yields_K.loc[gp_benefit_K.loc[:, i].idxmax(), i]\n",
    "doses_opt_K_samples[\"K\"] = 0.830*doses_opt_K_samples.KtotDose"
   ]
  },
  {
   "cell_type": "code",
   "execution_count": 151,
   "metadata": {},
   "outputs": [
    {
     "data": {
      "image/png": "[encoded data removed]",
      "text/plain": [
       "<Figure size 720x360 with 6 Axes>"
      ]
     },
     "metadata": {
      "needs_background": "light"
     },
     "output_type": "display_data"
    }
   ],
   "source": [
    "fig = plt.figure(figsize = (10, 5))\n",
    "gs = gridspec.GridSpec(2, 3, \n",
    "                       width_ratios = [1, 1, 1],\n",
    "                       height_ratios = [3, 1]\n",
    "                      ) \n",
    "# N\n",
    "ax0 = plt.subplot(gs[0])\n",
    "ax0.plot(dose_grid_N.NtotDose, dose_grid_N.yield_, \"-\", color = \"black\")\n",
    "ax0.plot(Ndata.NtotDose, Ndata.RendVendable, \"x\", color = \"black\", alpha = 0.15)\n",
    "ax0.plot(doses_opt_N_point.NtotDose, doses_opt_N_point.yield_, marker = \"o\", color = \"black\")\n",
    "for i in gp_yields_N.columns[0:5]:\n",
    "    ax0.plot(dose_grid_N.NtotDose, gp_yields_N[i], color = \"black\", alpha=0.15)\n",
    "    ax0.plot(doses_opt_N_samples.loc[i, \"NtotDose\"], doses_opt_N_samples.loc[i, \"yield_\"],\n",
    "             marker = \"o\", color = \"black\", alpha = 0.15)\n",
    "ax0.set_ylim([10, 50])\n",
    "ax0.set_xlabel(r\"N dose ($kg~ha^{-1})$\")\n",
    "ax0.set_ylabel(r\"Yield ($Mg~ha^{-1})$\")\n",
    "ax0.set_title(\"N, sample no \" + str(id_sample_n.NoEssai.values[0]))\n",
    "\n",
    "ax1 = plt.subplot(gs[3])\n",
    "ax1.hist(doses_opt_N_samples.loc[:, \"NtotDose\"], color = \"lightgrey\", edgecolor = 'grey')\n",
    "ax1.axvline(x = doses_opt_N_point.NtotDose, color = 'black', linestyle = '--')\n",
    "ax1.set_xlabel(r\"Optimal dose N ($kg~ha^{-1})$\")\n",
    "ax1.set_ylabel(\"Count\")\n",
    "\n",
    "# P\n",
    "ax2 = plt.subplot(gs[1])\n",
    "ax2.plot(dose_grid_P.P, dose_grid_P.yield_, \"-\", color = \"black\")\n",
    "ax2.plot(Pdata.P, Pdata.RendVendable, \"x\", color = \"black\", alpha = 0.15)\n",
    "ax2.plot(doses_opt_P_point.P, doses_opt_P_point.yield_, marker = \"o\", color = \"black\")\n",
    "for i in gp_yields_P.columns[0:5]:\n",
    "    ax2.plot(dose_grid_P.P, gp_yields_P[i], color = \"black\", alpha=0.15)\n",
    "    ax2.plot(doses_opt_P_samples.loc[i, \"P\"], doses_opt_P_samples.loc[i, \"yield_\"],\n",
    "             marker = \"o\", color = \"black\", alpha = 0.15)\n",
    "ax2.set_xlabel(r\"P dose ($kg~ha^{-1})$\")\n",
    "ax2.set_title(\"P, sample no \" + str(id_sample_p.NoEssai.values[0]))\n",
    "\n",
    "ax3 = plt.subplot(gs[4])\n",
    "ax3.hist(doses_opt_P_samples.loc[:, \"P\"], color = \"lightgrey\", edgecolor = 'grey')\n",
    "ax3.axvline(x = doses_opt_P_point.P, color = 'black', linestyle = '--')\n",
    "ax3.set_xlabel(r\"Optimal dose P ($kg~ha^{-1})$\")\n",
    "\n",
    "# K\n",
    "ax4 = plt.subplot(gs[2])\n",
    "ax4.plot(dose_grid_K.K, dose_grid_K.yield_, \"-\", color = \"black\")\n",
    "ax4.plot(Kdata.K, Kdata.RendVendable, \"x\", color = \"black\", alpha = 0.15)\n",
    "ax4.plot(doses_opt_K_point.K, doses_opt_K_point.yield_, marker = \"o\", color = \"black\")\n",
    "for i in gp_yields_K.columns[0:5]:\n",
    "    ax4.plot(dose_grid_K.K, gp_yields_K[i], color = \"black\", alpha=0.15)\n",
    "    ax4.plot(doses_opt_K_samples.loc[i, \"K\"], doses_opt_K_samples.loc[i, \"yield_\"],\n",
    "             marker = \"o\", color = \"black\", alpha = 0.15)\n",
    "ax4.set_xlabel(r\"K dose ($kg~ha^{-1})$\")\n",
    "ax4.set_title(\"K, sample no \" + str(id_sample_k.NoEssai.values[0]))\n",
    "\n",
    "ax5 = plt.subplot(gs[5])\n",
    "ax5.hist(doses_opt_K_samples.loc[:, \"K\"], color = \"lightgrey\", edgecolor = 'grey')\n",
    "ax5.axvline(x = doses_opt_K_point.K, color = 'black', linestyle = '--')\n",
    "ax5.set_xlabel(r\"Optimal dose K ($kg~ha^{-1})$\")\n",
    "\n",
    "plt.tight_layout();\n",
    "plt.savefig(\"images/yield_probab_doses.png\", bbox_inches ='tight', dpi = 300)"
   ]
  },
  {
   "cell_type": "raw",
   "metadata": {},
   "source": []
  },
  {
   "cell_type": "code",
   "execution_count": 152,
   "metadata": {},
   "outputs": [
    {
     "data": {
      "text/html": [
       "<div>\n",
       "<style scoped>\n",
       "    .dataframe tbody tr th:only-of-type {\n",
       "        vertical-align: middle;\n",
       "    }\n",
       "\n",
       "    .dataframe tbody tr th {\n",
       "        vertical-align: top;\n",
       "    }\n",
       "\n",
       "    .dataframe thead th {\n",
       "        text-align: right;\n",
       "    }\n",
       "</style>\n",
       "<table border=\"1\" class=\"dataframe\">\n",
       "  <thead>\n",
       "    <tr style=\"text-align: right;\">\n",
       "      <th></th>\n",
       "      <th>NtotDose</th>\n",
       "      <th>PtotDose</th>\n",
       "      <th>KtotDose</th>\n",
       "      <th>yield_</th>\n",
       "    </tr>\n",
       "  </thead>\n",
       "  <tbody>\n",
       "    <tr>\n",
       "      <th>N trial</th>\n",
       "      <td>250.00</td>\n",
       "      <td>146.47</td>\n",
       "      <td>76.84</td>\n",
       "      <td>33.19</td>\n",
       "    </tr>\n",
       "    <tr>\n",
       "      <th>P trial</th>\n",
       "      <td>247.98</td>\n",
       "      <td>148.00</td>\n",
       "      <td>76.84</td>\n",
       "      <td>33.15</td>\n",
       "    </tr>\n",
       "    <tr>\n",
       "      <th>K trial</th>\n",
       "      <td>247.98</td>\n",
       "      <td>146.47</td>\n",
       "      <td>69.00</td>\n",
       "      <td>33.12</td>\n",
       "    </tr>\n",
       "  </tbody>\n",
       "</table>\n",
       "</div>"
      ],
      "text/plain": [
       "         NtotDose  PtotDose  KtotDose  yield_\n",
       "N trial    250.00    146.47     76.84   33.19\n",
       "P trial    247.98    148.00     76.84   33.15\n",
       "K trial    247.98    146.47     69.00   33.12"
      ]
     },
     "execution_count": 152,
     "metadata": {},
     "output_type": "execute_result"
    }
   ],
   "source": [
    "index = [\"NtotDose\", \"PtotDose\", \"KtotDose\", \"yield_\"]\n",
    "opt_points = pd.DataFrame({\"N trial\": doses_opt_N_point,\n",
    "                           \"P trial\": doses_opt_P_point,\n",
    "                           \"K trial\": doses_opt_K_point},\n",
    "                          index = index)\n",
    "opt_points.T"
   ]
  },
  {
   "cell_type": "code",
   "execution_count": 113,
   "metadata": {},
   "outputs": [],
   "source": [
    "perc = np.arange(25, 85, 5)\n",
    "perc_grid = pd.DataFrame({'perc': perc, \n",
    "                          'perc_dose': np.quantile(doses_opt_N_samples.loc[:, \"NtotDose\"], perc/100).round(0)})"
   ]
  },
  {
   "cell_type": "code",
   "execution_count": 114,
   "metadata": {},
   "outputs": [
    {
     "data": {
      "text/html": [
       "<div>\n",
       "<style scoped>\n",
       "    .dataframe tbody tr th:only-of-type {\n",
       "        vertical-align: middle;\n",
       "    }\n",
       "\n",
       "    .dataframe tbody tr th {\n",
       "        vertical-align: top;\n",
       "    }\n",
       "\n",
       "    .dataframe thead th {\n",
       "        text-align: right;\n",
       "    }\n",
       "</style>\n",
       "<table border=\"1\" class=\"dataframe\">\n",
       "  <thead>\n",
       "    <tr style=\"text-align: right;\">\n",
       "      <th></th>\n",
       "      <th>NtotDose</th>\n",
       "      <th>yield_</th>\n",
       "      <th>benefit</th>\n",
       "      <th>difference_from_opt_yield</th>\n",
       "      <th>difference_from_max_benefit</th>\n",
       "    </tr>\n",
       "  </thead>\n",
       "  <tbody>\n",
       "    <tr>\n",
       "      <th>25</th>\n",
       "      <td>82.0</td>\n",
       "      <td>28.41</td>\n",
       "      <td>6772.63</td>\n",
       "      <td>4.78</td>\n",
       "      <td>995.18</td>\n",
       "    </tr>\n",
       "    <tr>\n",
       "      <th>30</th>\n",
       "      <td>102.0</td>\n",
       "      <td>29.08</td>\n",
       "      <td>6916.18</td>\n",
       "      <td>4.11</td>\n",
       "      <td>851.63</td>\n",
       "    </tr>\n",
       "    <tr>\n",
       "      <th>35</th>\n",
       "      <td>127.0</td>\n",
       "      <td>29.86</td>\n",
       "      <td>7081.21</td>\n",
       "      <td>3.33</td>\n",
       "      <td>686.60</td>\n",
       "    </tr>\n",
       "    <tr>\n",
       "      <th>40</th>\n",
       "      <td>153.0</td>\n",
       "      <td>30.61</td>\n",
       "      <td>7239.15</td>\n",
       "      <td>2.58</td>\n",
       "      <td>528.66</td>\n",
       "    </tr>\n",
       "    <tr>\n",
       "      <th>45</th>\n",
       "      <td>176.0</td>\n",
       "      <td>31.26</td>\n",
       "      <td>7372.45</td>\n",
       "      <td>1.93</td>\n",
       "      <td>395.36</td>\n",
       "    </tr>\n",
       "    <tr>\n",
       "      <th>50</th>\n",
       "      <td>203.0</td>\n",
       "      <td>32.00</td>\n",
       "      <td>7524.99</td>\n",
       "      <td>1.19</td>\n",
       "      <td>242.82</td>\n",
       "    </tr>\n",
       "    <tr>\n",
       "      <th>55</th>\n",
       "      <td>223.0</td>\n",
       "      <td>32.53</td>\n",
       "      <td>7633.86</td>\n",
       "      <td>0.66</td>\n",
       "      <td>133.95</td>\n",
       "    </tr>\n",
       "    <tr>\n",
       "      <th>60</th>\n",
       "      <td>250.0</td>\n",
       "      <td>33.19</td>\n",
       "      <td>7767.81</td>\n",
       "      <td>0.00</td>\n",
       "      <td>0.00</td>\n",
       "    </tr>\n",
       "  </tbody>\n",
       "</table>\n",
       "</div>"
      ],
      "text/plain": [
       "    NtotDose  yield_  benefit  difference_from_opt_yield  \\\n",
       "25      82.0   28.41  6772.63                       4.78   \n",
       "30     102.0   29.08  6916.18                       4.11   \n",
       "35     127.0   29.86  7081.21                       3.33   \n",
       "40     153.0   30.61  7239.15                       2.58   \n",
       "45     176.0   31.26  7372.45                       1.93   \n",
       "50     203.0   32.00  7524.99                       1.19   \n",
       "55     223.0   32.53  7633.86                       0.66   \n",
       "60     250.0   33.19  7767.81                       0.00   \n",
       "\n",
       "    difference_from_max_benefit  \n",
       "25                       995.18  \n",
       "30                       851.63  \n",
       "35                       686.60  \n",
       "40                       528.66  \n",
       "45                       395.36  \n",
       "50                       242.82  \n",
       "55                       133.95  \n",
       "60                         0.00  "
      ]
     },
     "execution_count": 114,
     "metadata": {},
     "output_type": "execute_result"
    }
   ],
   "source": [
    "perc_grid = dose_grid_N.loc[dose_grid_N.NtotDose.isin(perc_grid.perc_dose), [\"NtotDose\", \"yield_\", \"benefit\"]].round(2)\n",
    "perc_grid['difference_from_opt_yield'] = np.abs(doses_opt_N_point[3] - perc_grid.yield_)\n",
    "perc_grid['difference_from_max_benefit'] = np.abs(doses_opt_N_point[4] - perc_grid.benefit)\n",
    "perc_grid.index = perc[:perc_grid.shape[0]]\n",
    "#perc_grid.NtotDose = perc_grid.NtotDose.astype(int)\n",
    "perc_grid"
   ]
  },
  {
   "cell_type": "raw",
   "metadata": {},
   "source": []
  }
 ],
 "metadata": {
  "kernel_info": {
   "name": "python3"
  },
  "kernelspec": {
   "display_name": "Python 3",
   "language": "python",
   "name": "python3"
  },
  "language_info": {
   "codemirror_mode": {
    "name": "ipython",
    "version": 3
   },
   "file_extension": ".py",
   "mimetype": "text/x-python",
   "name": "python",
   "nbconvert_exporter": "python",
   "pygments_lexer": "ipython3",
   "version": "3.7.6"
  },
  "nteract": {
   "version": "0.15.0"
  }
 },
 "nbformat": 4,
 "nbformat_minor": 4
}
