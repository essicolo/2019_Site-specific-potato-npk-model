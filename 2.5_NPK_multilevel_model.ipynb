{
 "cells": [
  {
   "cell_type": "markdown",
   "metadata": {},
   "source": [
    "### 2.5 The Mitscherlich NPK surface response model"
   ]
  },
  {
   "cell_type": "markdown",
   "metadata": {},
   "source": [
    "In order to be compared with ML models, we created a Mitscherlich surface model with fertilizer-dependant rates and environment and a single asymptote. Our model is inspired by [Dodds et al. (1995)](https://link.springer.com/article/10.1007/BF00790661).\n",
    "\n",
    "$$ yield = A \\times \\left( 1- e^{-R_N \\times \\left( E_N + dose_N \\right)} \\right) \\times \\left( 1- e^{-R_P \\times \\left( E_P + dose_P \\right)} \\right) \\times \\left( 1- e^{-R_K \\times \\left( E_K + dose_K \\right)} \\right) $$"
   ]
  },
  {
   "cell_type": "markdown",
   "metadata": {},
   "source": [
    "Import libraries"
   ]
  },
  {
   "cell_type": "code",
   "execution_count": 1,
   "metadata": {},
   "outputs": [
    {
     "name": "stderr",
     "output_type": "stream",
     "text": [
      "-- \u001b[1mAttaching packages\u001b[22m --------------------------------------- tidyverse 1.2.1 --\n",
      "\u001b[32mv\u001b[39m \u001b[34mggplot2\u001b[39m 3.2.1     \u001b[32mv\u001b[39m \u001b[34mpurrr  \u001b[39m 0.3.2\n",
      "\u001b[32mv\u001b[39m \u001b[34mtibble \u001b[39m 2.1.3     \u001b[32mv\u001b[39m \u001b[34mdplyr  \u001b[39m 0.8.3\n",
      "\u001b[32mv\u001b[39m \u001b[34mtidyr  \u001b[39m 1.0.0     \u001b[32mv\u001b[39m \u001b[34mstringr\u001b[39m 1.4.0\n",
      "\u001b[32mv\u001b[39m \u001b[34mreadr  \u001b[39m 1.3.1     \u001b[32mv\u001b[39m \u001b[34mforcats\u001b[39m 0.4.0\n",
      "-- \u001b[1mConflicts\u001b[22m ------------------------------------------ tidyverse_conflicts() --\n",
      "\u001b[31mx\u001b[39m \u001b[34mdplyr\u001b[39m::\u001b[32mfilter()\u001b[39m masks \u001b[34mstats\u001b[39m::filter()\n",
      "\u001b[31mx\u001b[39m \u001b[34mdplyr\u001b[39m::\u001b[32mlag()\u001b[39m    masks \u001b[34mstats\u001b[39m::lag()\n",
      "\n",
      "Attaching package: 'nlme'\n",
      "\n",
      "The following object is masked from 'package:dplyr':\n",
      "\n",
      "    collapse\n",
      "\n"
     ]
    }
   ],
   "source": [
    "library(\"tidyverse\") # data manipulation\n",
    "library(\"stringr\") # strings operations\n",
    "#library(\"fastDummies\") # dummy_columns()\n",
    "library(\"nlme\") # regression\n",
    "library(\"Metrics\") # MAE, RMSE\n",
    "source('lib/Mitschmm.R') # custom functions"
   ]
  },
  {
   "cell_type": "markdown",
   "metadata": {},
   "source": [
    "Import the datasets\n",
    "\n",
    "For comparison with the machine learning models, we must use the same data sets for modeling."
   ]
  },
  {
   "cell_type": "code",
   "execution_count": 2,
   "metadata": {},
   "outputs": [],
   "source": [
    "X_train <- read.csv(\"output/x_train.csv\")\n",
    "X_test <- read.csv(\"output/x_test.csv\")\n",
    "Y_train <- read.csv(\"output/y_train.csv\")\n",
    "Y_test <- read.csv(\"output/y_test.csv\")\n",
    "train_id_table <- read.csv(\"output/train_id_table.csv\")\n",
    "test_id_table <- read.csv(\"output/test_id_table.csv\")"
   ]
  },
  {
   "cell_type": "markdown",
   "metadata": {},
   "source": [
    "All the variables are scaled. For the Mitscherlich modeling purpose, fertilizers and response variables are put back to their original values."
   ]
  },
  {
   "cell_type": "code",
   "execution_count": 3,
   "metadata": {},
   "outputs": [],
   "source": [
    "mean_numvars <- read.csv(\"output/mean_numvars.csv\", header = FALSE)[, 1]\n",
    "std_numvars <- read.csv(\"output/std_numvars.csv\", header = FALSE)[, 1]\n",
    "mean_respvars <- read.csv(\"output/mean_respvars.csv\", header = FALSE)[1, 1]\n",
    "std_respvars <- read.csv(\"output/std_respvars.csv\", header = FALSE)[1, 1]"
   ]
  },
  {
   "cell_type": "code",
   "execution_count": 4,
   "metadata": {},
   "outputs": [],
   "source": [
    "X_train_sc <- X_train\n",
    "X_train_sc$NtotDose <- X_train$NtotDose * std_numvars[7] + mean_numvars[7]\n",
    "X_train_sc$PtotDose <- X_train$PtotDose * std_numvars[8] + mean_numvars[8]\n",
    "X_train_sc$KtotDose <- X_train$KtotDose * std_numvars[9] + mean_numvars[9]\n",
    "\n",
    "Y_train_sc <- Y_train\n",
    "Y_train_sc$RendVendable <- Y_train$RendVendable * std_respvars + mean_respvars"
   ]
  },
  {
   "cell_type": "code",
   "execution_count": 5,
   "metadata": {},
   "outputs": [],
   "source": [
    "X_test_sc <- X_test\n",
    "X_test_sc$NtotDose <- X_test$NtotDose * std_numvars[7] + mean_numvars[7]\n",
    "X_test_sc$PtotDose <- X_test$PtotDose * std_numvars[8] + mean_numvars[8]\n",
    "X_test_sc$KtotDose <- X_test$KtotDose * std_numvars[9] + mean_numvars[9]\n",
    "\n",
    "Y_test_sc <- Y_test\n",
    "Y_test_sc$RendVendable <- Y_test$RendVendable * std_respvars + mean_respvars"
   ]
  },
  {
   "cell_type": "code",
   "execution_count": 6,
   "metadata": {},
   "outputs": [
    {
     "name": "stderr",
     "output_type": "stream",
     "text": [
      "Warning message in bind_rows_(x, .id):\n",
      "\"Unequal factor levels: coercing to character\"Warning message in bind_rows_(x, .id):\n",
      "\"binding character and factor vector, coercing into character vector\"Warning message in bind_rows_(x, .id):\n",
      "\"binding character and factor vector, coercing into character vector\"Warning message in bind_rows_(x, .id):\n",
      "\"Unequal factor levels: coercing to character\"Warning message in bind_rows_(x, .id):\n",
      "\"binding character and factor vector, coercing into character vector\"Warning message in bind_rows_(x, .id):\n",
      "\"binding character and factor vector, coercing into character vector\""
     ]
    }
   ],
   "source": [
    "df_mm_tr <- bind_cols(train_id_table, X_train_sc, Y_train_sc)\n",
    "df_mm_te <- bind_cols(test_id_table, X_test_sc, Y_test_sc)\n",
    "df_mm <- bind_rows(df_mm_tr, df_mm_te)"
   ]
  },
  {
   "cell_type": "code",
   "execution_count": 7,
   "metadata": {},
   "outputs": [],
   "source": [
    "df_mm$NoEssai <- factor(df_mm$NoEssai)\n",
    "df_mm$NoBloc <- factor(df_mm$NoBloc)\n",
    "df_mm <- df_mm %>% select(-starts_with('X'))"
   ]
  },
  {
   "cell_type": "code",
   "execution_count": 8,
   "metadata": {},
   "outputs": [],
   "source": [
    "keys_col <- c('NoEssai', 'NoBloc', 'NoTraitement')\n",
    "num_vars <- c('DensitePlants', 'growing.season',\n",
    "            'temp_moy_5years', 'prec_tot_5years', 'sdi_5years', 'gdd_5years',\n",
    "            #'NtotDose', 'PtotDose', 'KtotDose',\n",
    "            'soilTextIlr1', 'soilTextIlr2', 'soilTextIlr3',\n",
    "            'soilTypeIlr1_3', 'soilTypeIlr2_3',\n",
    "            'soil_pH', \n",
    "            'soil_P1_Fv.AlP', 'soil_P1_Al.P', 'soil_K2_FvMgCa.K', 'soil_K2_Fv.MgCa', 'soil_K2_Mg.Ca')\n",
    "#cat_vars <- 'PrecCropFiveClasses'\n",
    "resp_vars <- 'RendVendable'\n",
    "dose_vars <- c('NtotDose', 'PtotDose', 'KtotDose')"
   ]
  },
  {
   "cell_type": "markdown",
   "metadata": {},
   "source": [
    "### The multilevel model \n",
    "\n",
    "The __Mitscherlich__ ordinary model approach was selected in a trivariate response scheme as mentioned in introduction. All the parameters starting values were set to zero. "
   ]
  },
  {
   "cell_type": "code",
   "execution_count": 9,
   "metadata": {},
   "outputs": [],
   "source": [
    "start_list <- list()\n",
    "for (i in 1:length(num_vars)) {\n",
    "  if (is.factor(df_mm[num_vars[i]][[1]])) {\n",
    "    start_list[[i]] <- rep(0, length(levels(df_mm[num_vars[i]][[1]]))-1)\n",
    "  } else {\n",
    "    start_list[[i]] <- 0\n",
    "  }\n",
    "}\n",
    "start_vector <- unlist(start_list)"
   ]
  },
  {
   "cell_type": "markdown",
   "metadata": {},
   "source": [
    "As presented by Dodds et al. (1996), to model the response of three variables (__N__, __P__ and __K__ treatments), we would like te have an equation which is a Mitscherlich curve (or similar to) in each dimension.\n",
    "- Asymptote `(Asym)` is the yield toward which the curve converges with increasing dose. \n",
    "- Environment `(Env)` describes the fertilizer-equivalent dose provided by environmental conditions, and \n",
    "- Rate `(Rate)` is the steepness of the curve relating Environment to Asymptote. \n",
    "\n",
    "The __Asym__ is unique while __Env__ and __Rate__ are defined for each fertilizer. Hence, we defined fertilizer-equivalent dose provided by environmental conditions for N `(Env_N)`, P `(Env_N)`, and K `(Env_N)`, and three steepnesses `(Rate_N)`, `(Rate_N)` and `(Rate_N)` respectively. These first level parameters are linear combinations of experimental conditions with random effects applied only on `Asym`. The right-hand side `(rhs)` of the formula to construct the linear combinations in the `nlme` model is given by:"
   ]
  },
  {
   "cell_type": "code",
   "execution_count": 10,
   "metadata": {},
   "outputs": [
    {
     "data": {
      "text/html": [
       "'DensitePlants+growing.season+temp_moy_5years+prec_tot_5years+sdi_5years+gdd_5years+soilTextIlr1+soilTextIlr2+soilTextIlr3+soilTypeIlr1_3+soilTypeIlr2_3+soil_pH+soil_P1_Fv.AlP+soil_P1_Al.P+soil_K2_FvMgCa.K+soil_K2_Fv.MgCa+soil_K2_Mg.Ca'"
      ],
      "text/latex": [
       "'DensitePlants+growing.season+temp\\_moy\\_5years+prec\\_tot\\_5years+sdi\\_5years+gdd\\_5years+soilTextIlr1+soilTextIlr2+soilTextIlr3+soilTypeIlr1\\_3+soilTypeIlr2\\_3+soil\\_pH+soil\\_P1\\_Fv.AlP+soil\\_P1\\_Al.P+soil\\_K2\\_FvMgCa.K+soil\\_K2\\_Fv.MgCa+soil\\_K2\\_Mg.Ca'"
      ],
      "text/markdown": [
       "'DensitePlants+growing.season+temp_moy_5years+prec_tot_5years+sdi_5years+gdd_5years+soilTextIlr1+soilTextIlr2+soilTextIlr3+soilTypeIlr1_3+soilTypeIlr2_3+soil_pH+soil_P1_Fv.AlP+soil_P1_Al.P+soil_K2_FvMgCa.K+soil_K2_Fv.MgCa+soil_K2_Mg.Ca'"
      ],
      "text/plain": [
       "[1] \"DensitePlants+growing.season+temp_moy_5years+prec_tot_5years+sdi_5years+gdd_5years+soilTextIlr1+soilTextIlr2+soilTextIlr3+soilTypeIlr1_3+soilTypeIlr2_3+soil_pH+soil_P1_Fv.AlP+soil_P1_Al.P+soil_K2_FvMgCa.K+soil_K2_Fv.MgCa+soil_K2_Mg.Ca\""
      ]
     },
     "metadata": {},
     "output_type": "display_data"
    }
   ],
   "source": [
    "rhs <- paste(num_vars, collapse = \"+\")\n",
    "rhs"
   ]
  },
  {
   "cell_type": "markdown",
   "metadata": {},
   "source": [
    "This chain defines the non-linear mixed effects model using the training dataset `df_mm_tr`."
   ]
  },
  {
   "cell_type": "code",
   "execution_count": 11,
   "metadata": {},
   "outputs": [],
   "source": [
    "mm_NPK <- nlme(RendVendable ~ Asym * ((1-exp(-Rate_N*(NtotDose+Env_N)))) * ((1-exp(-Rate_P*(PtotDose+Env_P)))) * ((1-exp(-Rate_K*(KtotDose+Env_K)))),\n",
    "             data = df_mm_tr,\n",
    "             start = c(Asym = 40, start_vector,\n",
    "                       Rate_N = 0.1, start_vector,\n",
    "                       Env_N = 50, start_vector,\n",
    "                       Rate_P = 0.1, start_vector,\n",
    "                       Env_P = 50, start_vector,\n",
    "                       Rate_K = 0.05, start_vector,\n",
    "                       Env_K = 100, start_vector\n",
    "             ), \n",
    "             fixed = list(as.formula(paste(\"Asym ~ \", rhs)),\n",
    "                          as.formula(paste(\"Rate_N ~ \", rhs)),\n",
    "                          as.formula(paste(\"Env_N ~ \", rhs)),\n",
    "                          as.formula(paste(\"Rate_P ~ \", rhs)),\n",
    "                          as.formula(paste(\"Env_P ~ \", rhs)),\n",
    "                          as.formula(paste(\"Rate_K ~ \", rhs)),\n",
    "                          as.formula(paste(\"Env_K ~ \", rhs))\n",
    "             ), \n",
    "             random = Asym ~ 1 | NoEssai/NoBloc,\n",
    "             control = list(maxIter = 100, returnObject = TRUE, \n",
    "                            msVerbose = FALSE, minScale = 1e-8),\n",
    "             method = 'REML')"
   ]
  },
  {
   "cell_type": "markdown",
   "metadata": {},
   "source": [
    "### Model goodness of fit assessement\n",
    "We check the goodness of fit using the R-square, MAE and RSME values at level __0__ (_without random effects of blocks and trials_)."
   ]
  },
  {
   "cell_type": "code",
   "execution_count": 12,
   "metadata": {},
   "outputs": [
    {
     "data": {
      "text/html": [
       "<table>\n",
       "<caption>A data.frame: 1 × 3</caption>\n",
       "<thead>\n",
       "\t<tr><th scope=col>Train_R2</th><th scope=col>Train_MAE</th><th scope=col>Train_RMSE</th></tr>\n",
       "\t<tr><th scope=col>&lt;dbl&gt;</th><th scope=col>&lt;dbl&gt;</th><th scope=col>&lt;dbl&gt;</th></tr>\n",
       "</thead>\n",
       "<tbody>\n",
       "\t<tr><td>0.3499065</td><td>6.225086</td><td>8.105052</td></tr>\n",
       "</tbody>\n",
       "</table>\n"
      ],
      "text/latex": [
       "A data.frame: 1 × 3\n",
       "\\begin{tabular}{r|lll}\n",
       " Train\\_R2 & Train\\_MAE & Train\\_RMSE\\\\\n",
       " <dbl> & <dbl> & <dbl>\\\\\n",
       "\\hline\n",
       "\t 0.3499065 & 6.225086 & 8.105052\\\\\n",
       "\\end{tabular}\n"
      ],
      "text/markdown": [
       "\n",
       "A data.frame: 1 × 3\n",
       "\n",
       "| Train_R2 &lt;dbl&gt; | Train_MAE &lt;dbl&gt; | Train_RMSE &lt;dbl&gt; |\n",
       "|---|---|---|\n",
       "| 0.3499065 | 6.225086 | 8.105052 |\n",
       "\n"
      ],
      "text/plain": [
       "  Train_R2  Train_MAE Train_RMSE\n",
       "1 0.3499065 6.225086  8.105052  "
      ]
     },
     "metadata": {},
     "output_type": "display_data"
    }
   ],
   "source": [
    "good_tr <- data.frame(Train_R2 = rsq(y = df_mm_tr$RendVendable, y_hat = predict(object = mm_NPK, level = 0)), \n",
    "                      Train_MAE = mae(actual = df_mm_tr$RendVendable, predicted = predict(object = mm_NPK, level = 0)), \n",
    "                      Train_RMSE = rmse(actual = df_mm_tr$RendVendable, predicted = predict(object = mm_NPK, level = 0)))\n",
    "good_tr"
   ]
  },
  {
   "cell_type": "markdown",
   "metadata": {},
   "source": [
    "Goodness of fit with test set\n",
    "\n",
    "Because the function `predict()` meets a bug with new data using our custum model, the chains below uses a custom function `pred_mitsch()`. "
   ]
  },
  {
   "cell_type": "raw",
   "metadata": {},
   "source": [
    "pred_mitsch(mm = mm_NPK, newdata = df_mm_te, rhs = rhs)$pred"
   ]
  },
  {
   "cell_type": "code",
   "execution_count": 13,
   "metadata": {},
   "outputs": [
    {
     "data": {
      "text/html": [
       "<table>\n",
       "<caption>A data.frame: 1 × 3</caption>\n",
       "<thead>\n",
       "\t<tr><th scope=col>Test_R2</th><th scope=col>Test_MAE</th><th scope=col>Test_RMSE</th></tr>\n",
       "\t<tr><th scope=col>&lt;dbl&gt;</th><th scope=col>&lt;dbl&gt;</th><th scope=col>&lt;dbl&gt;</th></tr>\n",
       "</thead>\n",
       "<tbody>\n",
       "\t<tr><td>0.3743418</td><td>8.324857</td><td>10.77479</td></tr>\n",
       "</tbody>\n",
       "</table>\n"
      ],
      "text/latex": [
       "A data.frame: 1 × 3\n",
       "\\begin{tabular}{r|lll}\n",
       " Test\\_R2 & Test\\_MAE & Test\\_RMSE\\\\\n",
       " <dbl> & <dbl> & <dbl>\\\\\n",
       "\\hline\n",
       "\t 0.3743418 & 8.324857 & 10.77479\\\\\n",
       "\\end{tabular}\n"
      ],
      "text/markdown": [
       "\n",
       "A data.frame: 1 × 3\n",
       "\n",
       "| Test_R2 &lt;dbl&gt; | Test_MAE &lt;dbl&gt; | Test_RMSE &lt;dbl&gt; |\n",
       "|---|---|---|\n",
       "| 0.3743418 | 8.324857 | 10.77479 |\n",
       "\n"
      ],
      "text/plain": [
       "  Test_R2   Test_MAE Test_RMSE\n",
       "1 0.3743418 8.324857 10.77479 "
      ]
     },
     "metadata": {},
     "output_type": "display_data"
    }
   ],
   "source": [
    "good_te <- data.frame(Test_R2 = rsq(y = df_mm_te$RendVendable, \n",
    "                                    y_hat = pred_mitsch(mm = mm_NPK, newdata = df_mm_te, rhs = rhs)$pred),\n",
    "                      Test_MAE = mae(actual = df_mm_te$RendVendable, \n",
    "                                     predicted = pred_mitsch(mm = mm_NPK, newdata = df_mm_te, rhs = rhs)$pred), \n",
    "                      Test_RMSE = rmse(actual = df_mm_te$RendVendable, \n",
    "                                       predicted = pred_mitsch(mm = mm_NPK, newdata = df_mm_te, rhs = rhs)$pred))\n",
    "good_te"
   ]
  },
  {
   "cell_type": "code",
   "execution_count": 14,
   "metadata": {},
   "outputs": [
    {
     "data": {
      "text/html": [
       "<table>\n",
       "<caption>A data.frame: 1 × 6</caption>\n",
       "<thead>\n",
       "\t<tr><th></th><th scope=col>Train_R2</th><th scope=col>Train_MAE</th><th scope=col>Train_RMSE</th><th scope=col>Test_R2</th><th scope=col>Test_MAE</th><th scope=col>Test_RMSE</th></tr>\n",
       "\t<tr><th></th><th scope=col>&lt;dbl&gt;</th><th scope=col>&lt;dbl&gt;</th><th scope=col>&lt;dbl&gt;</th><th scope=col>&lt;dbl&gt;</th><th scope=col>&lt;dbl&gt;</th><th scope=col>&lt;dbl&gt;</th></tr>\n",
       "</thead>\n",
       "<tbody>\n",
       "\t<tr><th scope=row>Mitscherlich</th><td>0.3499065</td><td>6.225086</td><td>8.105052</td><td>0.3743418</td><td>8.324857</td><td>10.77479</td></tr>\n",
       "</tbody>\n",
       "</table>\n"
      ],
      "text/latex": [
       "A data.frame: 1 × 6\n",
       "\\begin{tabular}{r|llllll}\n",
       "  & Train\\_R2 & Train\\_MAE & Train\\_RMSE & Test\\_R2 & Test\\_MAE & Test\\_RMSE\\\\\n",
       "  & <dbl> & <dbl> & <dbl> & <dbl> & <dbl> & <dbl>\\\\\n",
       "\\hline\n",
       "\tMitscherlich & 0.3499065 & 6.225086 & 8.105052 & 0.3743418 & 8.324857 & 10.77479\\\\\n",
       "\\end{tabular}\n"
      ],
      "text/markdown": [
       "\n",
       "A data.frame: 1 × 6\n",
       "\n",
       "| <!--/--> | Train_R2 &lt;dbl&gt; | Train_MAE &lt;dbl&gt; | Train_RMSE &lt;dbl&gt; | Test_R2 &lt;dbl&gt; | Test_MAE &lt;dbl&gt; | Test_RMSE &lt;dbl&gt; |\n",
       "|---|---|---|---|---|---|---|\n",
       "| Mitscherlich | 0.3499065 | 6.225086 | 8.105052 | 0.3743418 | 8.324857 | 10.77479 |\n",
       "\n"
      ],
      "text/plain": [
       "             Train_R2  Train_MAE Train_RMSE Test_R2   Test_MAE Test_RMSE\n",
       "Mitscherlich 0.3499065 6.225086  8.105052   0.3743418 8.324857 10.77479 "
      ]
     },
     "metadata": {},
     "output_type": "display_data"
    }
   ],
   "source": [
    "mitsch_train_test_scores <- bind_cols(good_tr, good_te)\n",
    "#colnames(mitsch_train_test_scores) <- gsub(\"_\",\" \", colnames(mitsch_train_test_scores))\n",
    "rownames(mitsch_train_test_scores) = \"Mitscherlich\"\n",
    "write_csv(mitsch_train_test_scores, 'output/mitsch_train_test_scores.csv')\n",
    "mitsch_train_test_scores"
   ]
  },
  {
   "cell_type": "markdown",
   "metadata": {},
   "source": [
    "### Point estimation: prediction of economic optimal __NPK__ dosage\n",
    "\n",
    "#### Create a table to model\n",
    "\n",
    "The same random row used in the __`1.4.1_ml-marketable-yield-model.ipynb`__ notebook is repoted here as the example where the model is used for diagnosis. The row is referenced by its `NoEssai-NoBloc-NoTraitement` identifyer."
   ]
  },
  {
   "cell_type": "code",
   "execution_count": 15,
   "metadata": {},
   "outputs": [],
   "source": [
    "r_sample <- read.csv('output/r_sample.csv')\n",
    "reference_row <- df_mm %>%\n",
    "  filter(ID == r_sample$ID)"
   ]
  },
  {
   "cell_type": "markdown",
   "metadata": {},
   "source": [
    "Instead of generating a grid of values (_which is numerically inefficient_), I generate random NPK doses from _uniform distributions_ on plausible doses. The random uniform `runif()` function gives a random floating point number in a given range."
   ]
  },
  {
   "cell_type": "code",
   "execution_count": 16,
   "metadata": {},
   "outputs": [],
   "source": [
    "n_grid_samples <- 1000 # number of samples\n",
    "N_range <- c(0, 250)\n",
    "P_range <- c(0, 250)\n",
    "K_range <- c(0, 250)"
   ]
  },
  {
   "cell_type": "markdown",
   "metadata": {},
   "source": [
    "We grab the _reference_row_ with only the columns we need for modeling. The last part to create the table is to stack the (_selected_) observation a number of times equal to the __dose_grid__ table length, so that it conveys the same information at each row. Then replace only __NPK__ doses with the one sampled randomly: the __dose_grid__."
   ]
  },
  {
   "cell_type": "code",
   "execution_count": 17,
   "metadata": {},
   "outputs": [],
   "source": [
    "reference_stack <- data.frame(matrix(nrow = n_grid_samples, ncol = ncol(reference_row)))\n",
    "colnames(reference_stack) <- colnames(reference_row)\n",
    "for (i in 1:ncol(reference_stack)) {\n",
    "  reference_stack[, i] = reference_row[1, i]\n",
    "}\n",
    "set.seed(936492)\n",
    "reference_stack$NtotDose <- runif(n_grid_samples, N_range[1], N_range[2])\n",
    "reference_stack$PtotDose <- runif(n_grid_samples, P_range[1], P_range[2])\n",
    "reference_stack$KtotDose <- runif(n_grid_samples, K_range[1], K_range[2])"
   ]
  },
  {
   "cell_type": "markdown",
   "metadata": {},
   "source": [
    "The test dataset prediction"
   ]
  },
  {
   "cell_type": "markdown",
   "metadata": {},
   "source": [
    "The optimal economical dose is where the marginal benefit reaches its maximum. Rates are estimated based on experience."
   ]
  },
  {
   "cell_type": "code",
   "execution_count": 18,
   "metadata": {},
   "outputs": [],
   "source": [
    "N_cost = 1.2 # unit fertilizer N cost\n",
    "P_cost = 1.1 # unit fertilizer P2O5 cost\n",
    "K_cost = 0.9 # unit fertilizer K2O cost\n",
    "price_yield = 250 # unit crop yield price (1 Mg)"
   ]
  },
  {
   "cell_type": "markdown",
   "metadata": {},
   "source": [
    "I have fertilizer doses, so I can compute the costs. I can also compute revenue from yield, and marginal benefits by subtracting marginal costs from revenue (__profit from yield - fertilizers cost__)."
   ]
  },
  {
   "cell_type": "code",
   "execution_count": 19,
   "metadata": {},
   "outputs": [],
   "source": [
    "reference_stack <- reference_stack %>%\n",
    "    mutate(Prediction = pred_mitsch(mm = mm_NPK, newdata = ., rhs = rhs)$pred,\n",
    "           cost = NtotDose * N_cost + PtotDose * P_cost + KtotDose * K_cost, \n",
    "           revenue = Prediction * price_yield, \n",
    "           benefit = revenue - cost)"
   ]
  },
  {
   "cell_type": "raw",
   "metadata": {},
   "source": [
    "glimpse(reference_stack)"
   ]
  },
  {
   "cell_type": "markdown",
   "metadata": {},
   "source": [
    "I isolate the row where the marginal benefit is maximum, and its informations."
   ]
  },
  {
   "cell_type": "code",
   "execution_count": 20,
   "metadata": {},
   "outputs": [
    {
     "data": {
      "text/html": [
       "<table>\n",
       "<caption>A data.frame: 1 × 5</caption>\n",
       "<thead>\n",
       "\t<tr><th scope=col>NtotDose</th><th scope=col>PtotDose</th><th scope=col>KtotDose</th><th scope=col>Output</th><th scope=col>Target</th></tr>\n",
       "\t<tr><th scope=col>&lt;dbl&gt;</th><th scope=col>&lt;dbl&gt;</th><th scope=col>&lt;dbl&gt;</th><th scope=col>&lt;dbl&gt;</th><th scope=col>&lt;chr&gt;</th></tr>\n",
       "</thead>\n",
       "<tbody>\n",
       "\t<tr><td>154.4034</td><td>81.54881</td><td>11.07511</td><td>32.167</td><td>Yield</td></tr>\n",
       "</tbody>\n",
       "</table>\n"
      ],
      "text/latex": [
       "A data.frame: 1 × 5\n",
       "\\begin{tabular}{r|lllll}\n",
       " NtotDose & PtotDose & KtotDose & Output & Target\\\\\n",
       " <dbl> & <dbl> & <dbl> & <dbl> & <chr>\\\\\n",
       "\\hline\n",
       "\t 154.4034 & 81.54881 & 11.07511 & 32.167 & Yield\\\\\n",
       "\\end{tabular}\n"
      ],
      "text/markdown": [
       "\n",
       "A data.frame: 1 × 5\n",
       "\n",
       "| NtotDose &lt;dbl&gt; | PtotDose &lt;dbl&gt; | KtotDose &lt;dbl&gt; | Output &lt;dbl&gt; | Target &lt;chr&gt; |\n",
       "|---|---|---|---|---|\n",
       "| 154.4034 | 81.54881 | 11.07511 | 32.167 | Yield |\n",
       "\n"
      ],
      "text/plain": [
       "  NtotDose PtotDose KtotDose Output Target\n",
       "1 154.4034 81.54881 11.07511 32.167 Yield "
      ]
     },
     "metadata": {},
     "output_type": "display_data"
    }
   ],
   "source": [
    "predMitsch <- reference_stack[which.max(reference_stack$benefit), c(dose_vars, 'Prediction', 'benefit')] %>% \n",
    "                    select(-benefit) %>% rename(Output = Prediction) %>% mutate(Target = \"Yield\")\n",
    "predMitsch$PtotDose <- predMitsch$PtotDose*0.436\n",
    "predMitsch$KtotDose <- predMitsch$KtotDose*0.830\n",
    "write_csv(predMitsch, 'output/predMitsch.csv')\n",
    "predMitsch"
   ]
  },
  {
   "cell_type": "markdown",
   "metadata": {},
   "source": [
    "Plot for the selected trial type (_NB : les 3 elements ont été variés à la fois_)"
   ]
  },
  {
   "cell_type": "code",
   "execution_count": 21,
   "metadata": {},
   "outputs": [
    {
     "data": {
      "image/png": "[encoded data removed]",
      "text/plain": [
       "plot without title"
      ]
     },
     "metadata": {},
     "output_type": "display_data"
    }
   ],
   "source": [
    "options(repr.plot.wight = 4, repr.plot.height = 4)\n",
    "df_mm %>%\n",
    "  filter(NoEssai == r_sample$NoEssai) %>%\n",
    "  ggplot(aes(x = PtotDose, y = RendVendable)) +\n",
    "  geom_point() +\n",
    "  geom_line(aes(x = PtotDose, y = Prediction), data = reference_stack) # a P trial"
   ]
  },
  {
   "cell_type": "markdown",
   "metadata": {},
   "source": [
    "### Prediction specific to trial type"
   ]
  },
  {
   "cell_type": "markdown",
   "metadata": {},
   "source": [
    "Reference trial where only __N__ dose varied: `(test_type = N)`"
   ]
  },
  {
   "cell_type": "code",
   "execution_count": 22,
   "metadata": {},
   "outputs": [],
   "source": [
    "test_types <- read.csv('output/test_types.csv')\n",
    "reference_row <- df_mm %>%\n",
    "  filter(ID == test_types$ID[1])"
   ]
  },
  {
   "cell_type": "code",
   "execution_count": 23,
   "metadata": {},
   "outputs": [
    {
     "data": {
      "text/html": [
       "<table>\n",
       "<caption>A data.frame: 3 × 4</caption>\n",
       "<thead>\n",
       "\t<tr><th scope=col>X</th><th scope=col>NoEssai</th><th scope=col>test_type</th><th scope=col>ID</th></tr>\n",
       "\t<tr><th scope=col>&lt;int&gt;</th><th scope=col>&lt;int&gt;</th><th scope=col>&lt;fct&gt;</th><th scope=col>&lt;fct&gt;</th></tr>\n",
       "</thead>\n",
       "<tbody>\n",
       "\t<tr><td>1745</td><td>8804</td><td>N</td><td>8804-5-5</td></tr>\n",
       "\t<tr><td>5524</td><td> 412</td><td>P</td><td>412-3-4 </td></tr>\n",
       "\t<tr><td>3843</td><td> 320</td><td>K</td><td>320-3-3 </td></tr>\n",
       "</tbody>\n",
       "</table>\n"
      ],
      "text/latex": [
       "A data.frame: 3 × 4\n",
       "\\begin{tabular}{r|llll}\n",
       " X & NoEssai & test\\_type & ID\\\\\n",
       " <int> & <int> & <fct> & <fct>\\\\\n",
       "\\hline\n",
       "\t 1745 & 8804 & N & 8804-5-5\\\\\n",
       "\t 5524 &  412 & P & 412-3-4 \\\\\n",
       "\t 3843 &  320 & K & 320-3-3 \\\\\n",
       "\\end{tabular}\n"
      ],
      "text/markdown": [
       "\n",
       "A data.frame: 3 × 4\n",
       "\n",
       "| X &lt;int&gt; | NoEssai &lt;int&gt; | test_type &lt;fct&gt; | ID &lt;fct&gt; |\n",
       "|---|---|---|---|\n",
       "| 1745 | 8804 | N | 8804-5-5 |\n",
       "| 5524 |  412 | P | 412-3-4  |\n",
       "| 3843 |  320 | K | 320-3-3  |\n",
       "\n"
      ],
      "text/plain": [
       "  X    NoEssai test_type ID      \n",
       "1 1745 8804    N         8804-5-5\n",
       "2 5524  412    P         412-3-4 \n",
       "3 3843  320    K         320-3-3 "
      ]
     },
     "metadata": {},
     "output_type": "display_data"
    }
   ],
   "source": [
    "test_types"
   ]
  },
  {
   "cell_type": "code",
   "execution_count": 24,
   "metadata": {},
   "outputs": [],
   "source": [
    "n_grid_samples <- 251 # number of samples\n",
    "N_range <- c(0, 250)\n",
    "P_range <- c(reference_row$PtotDose, reference_row$PtotDose)\n",
    "K_range <- c(reference_row$KtotDose, reference_row$KtotDose)"
   ]
  },
  {
   "cell_type": "code",
   "execution_count": 25,
   "metadata": {},
   "outputs": [],
   "source": [
    "reference_stack <- data.frame(matrix(nrow = n_grid_samples, ncol = ncol(reference_row)))\n",
    "colnames(reference_stack) <- colnames(reference_row)\n",
    "for (i in 1:ncol(reference_stack)) {\n",
    "  reference_stack[, i] = reference_row[1, i]\n",
    "}\n",
    "set.seed(936492)\n",
    "reference_stack$NtotDose <- runif(n_grid_samples, N_range[1], N_range[2])\n",
    "reference_stack$PtotDose <- runif(n_grid_samples, P_range[1], P_range[2])\n",
    "reference_stack$KtotDose <- runif(n_grid_samples, K_range[1], K_range[2])"
   ]
  },
  {
   "cell_type": "markdown",
   "metadata": {},
   "source": [
    "The prediction"
   ]
  },
  {
   "cell_type": "code",
   "execution_count": 26,
   "metadata": {},
   "outputs": [],
   "source": [
    "reference_stack <- reference_stack %>%\n",
    "    mutate(Prediction = pred_mitsch(mm = mm_NPK, newdata = ., rhs = rhs)$pred,\n",
    "           cost = NtotDose * N_cost + PtotDose * P_cost + KtotDose * K_cost, \n",
    "           revenue = Prediction * price_yield, \n",
    "           benefit = revenue - cost)"
   ]
  },
  {
   "cell_type": "markdown",
   "metadata": {},
   "source": [
    "The optimum"
   ]
  },
  {
   "cell_type": "code",
   "execution_count": 27,
   "metadata": {},
   "outputs": [
    {
     "data": {
      "text/html": [
       "<table>\n",
       "<caption>A data.frame: 1 × 5</caption>\n",
       "<thead>\n",
       "\t<tr><th></th><th scope=col>NtotDose</th><th scope=col>PtotDose</th><th scope=col>KtotDose</th><th scope=col>Prediction</th><th scope=col>benefit</th></tr>\n",
       "\t<tr><th></th><th scope=col>&lt;dbl&gt;</th><th scope=col>&lt;dbl&gt;</th><th scope=col>&lt;dbl&gt;</th><th scope=col>&lt;dbl&gt;</th><th scope=col>&lt;dbl&gt;</th></tr>\n",
       "</thead>\n",
       "<tbody>\n",
       "\t<tr><th scope=row>143</th><td>248.4125</td><td>120.0013</td><td>120.007</td><td>35.67834</td><td>8381.483</td></tr>\n",
       "</tbody>\n",
       "</table>\n"
      ],
      "text/latex": [
       "A data.frame: 1 × 5\n",
       "\\begin{tabular}{r|lllll}\n",
       "  & NtotDose & PtotDose & KtotDose & Prediction & benefit\\\\\n",
       "  & <dbl> & <dbl> & <dbl> & <dbl> & <dbl>\\\\\n",
       "\\hline\n",
       "\t143 & 248.4125 & 120.0013 & 120.007 & 35.67834 & 8381.483\\\\\n",
       "\\end{tabular}\n"
      ],
      "text/markdown": [
       "\n",
       "A data.frame: 1 × 5\n",
       "\n",
       "| <!--/--> | NtotDose &lt;dbl&gt; | PtotDose &lt;dbl&gt; | KtotDose &lt;dbl&gt; | Prediction &lt;dbl&gt; | benefit &lt;dbl&gt; |\n",
       "|---|---|---|---|---|---|\n",
       "| 143 | 248.4125 | 120.0013 | 120.007 | 35.67834 | 8381.483 |\n",
       "\n"
      ],
      "text/plain": [
       "    NtotDose PtotDose KtotDose Prediction benefit \n",
       "143 248.4125 120.0013 120.007  35.67834   8381.483"
      ]
     },
     "metadata": {},
     "output_type": "display_data"
    }
   ],
   "source": [
    "reference_stack[which.max(reference_stack$benefit), c(dose_vars, 'Prediction', 'benefit')]"
   ]
  },
  {
   "cell_type": "code",
   "execution_count": 28,
   "metadata": {},
   "outputs": [],
   "source": [
    "# Save predictions for N trial\n",
    "write_csv(reference_stack[, c(dose_vars, 'Prediction', 'benefit')], 'output/yield_mitsch_N.csv')"
   ]
  },
  {
   "cell_type": "markdown",
   "metadata": {},
   "source": [
    "Plot for the N trial"
   ]
  },
  {
   "cell_type": "code",
   "execution_count": 29,
   "metadata": {},
   "outputs": [
    {
     "data": {
      "image/png": "[encoded data removed]",
      "text/plain": [
       "plot without title"
      ]
     },
     "metadata": {},
     "output_type": "display_data"
    }
   ],
   "source": [
    "options(repr.plot.wigth = 4, repr.plot.height = 4)\n",
    "df_mm %>%\n",
    "    filter(NoEssai == reference_row$NoEssai) %>% \n",
    "    ggplot(aes(x = NtotDose, y = RendVendable)) +\n",
    "    geom_point() +\n",
    "    geom_line(aes(x = NtotDose, y = Prediction), data = reference_stack)"
   ]
  },
  {
   "cell_type": "markdown",
   "metadata": {},
   "source": [
    "Reference trial where only __P__ dose varied: `(test_type = P)`"
   ]
  },
  {
   "cell_type": "code",
   "execution_count": 30,
   "metadata": {},
   "outputs": [],
   "source": [
    "reference_row <- df_mm %>%\n",
    "  filter(ID == test_types$ID[2])"
   ]
  },
  {
   "cell_type": "code",
   "execution_count": 31,
   "metadata": {},
   "outputs": [],
   "source": [
    "n_grid_samples <- 251 # number of samples\n",
    "N_range <- c(reference_row$NtotDose, reference_row$NtotDose)\n",
    "P_range <- c(0, 250)\n",
    "K_range <- c(reference_row$KtotDose, reference_row$KtotDose)"
   ]
  },
  {
   "cell_type": "code",
   "execution_count": 32,
   "metadata": {},
   "outputs": [],
   "source": [
    "reference_stack <- data.frame(matrix(nrow = n_grid_samples, ncol = ncol(reference_row)))\n",
    "colnames(reference_stack) <- colnames(reference_row)\n",
    "for (i in 1:ncol(reference_stack)) {\n",
    "  reference_stack[, i] = reference_row[1, i]\n",
    "}\n",
    "set.seed(936492)\n",
    "reference_stack$NtotDose <- runif(n_grid_samples, N_range[1], N_range[2])\n",
    "reference_stack$PtotDose <- runif(n_grid_samples, P_range[1], P_range[2])\n",
    "reference_stack$KtotDose <- runif(n_grid_samples, K_range[1], K_range[2])"
   ]
  },
  {
   "cell_type": "markdown",
   "metadata": {},
   "source": [
    "The prediction"
   ]
  },
  {
   "cell_type": "code",
   "execution_count": 33,
   "metadata": {},
   "outputs": [],
   "source": [
    "reference_stack <- reference_stack %>%\n",
    "    mutate(Prediction = pred_mitsch(mm = mm_NPK, newdata = ., rhs = rhs)$pred,\n",
    "           cost = NtotDose * N_cost + PtotDose * P_cost + KtotDose * K_cost, \n",
    "           revenue = Prediction * price_yield, \n",
    "           benefit = revenue - cost,\n",
    "           P = PtotDose*0.436)"
   ]
  },
  {
   "cell_type": "markdown",
   "metadata": {},
   "source": [
    "The optimum"
   ]
  },
  {
   "cell_type": "code",
   "execution_count": 34,
   "metadata": {},
   "outputs": [
    {
     "data": {
      "text/html": [
       "<table>\n",
       "<caption>A data.frame: 1 × 6</caption>\n",
       "<thead>\n",
       "\t<tr><th></th><th scope=col>NtotDose</th><th scope=col>PtotDose</th><th scope=col>KtotDose</th><th scope=col>Prediction</th><th scope=col>benefit</th><th scope=col>P</th></tr>\n",
       "\t<tr><th></th><th scope=col>&lt;dbl&gt;</th><th scope=col>&lt;dbl&gt;</th><th scope=col>&lt;dbl&gt;</th><th scope=col>&lt;dbl&gt;</th><th scope=col>&lt;dbl&gt;</th><th scope=col>&lt;dbl&gt;</th></tr>\n",
       "</thead>\n",
       "<tbody>\n",
       "\t<tr><th scope=row>36</th><td>164.9965</td><td>88.19127</td><td>214.9956</td><td>32.1963</td><td>7560.574</td><td>38.45139</td></tr>\n",
       "</tbody>\n",
       "</table>\n"
      ],
      "text/latex": [
       "A data.frame: 1 × 6\n",
       "\\begin{tabular}{r|llllll}\n",
       "  & NtotDose & PtotDose & KtotDose & Prediction & benefit & P\\\\\n",
       "  & <dbl> & <dbl> & <dbl> & <dbl> & <dbl> & <dbl>\\\\\n",
       "\\hline\n",
       "\t36 & 164.9965 & 88.19127 & 214.9956 & 32.1963 & 7560.574 & 38.45139\\\\\n",
       "\\end{tabular}\n"
      ],
      "text/markdown": [
       "\n",
       "A data.frame: 1 × 6\n",
       "\n",
       "| <!--/--> | NtotDose &lt;dbl&gt; | PtotDose &lt;dbl&gt; | KtotDose &lt;dbl&gt; | Prediction &lt;dbl&gt; | benefit &lt;dbl&gt; | P &lt;dbl&gt; |\n",
       "|---|---|---|---|---|---|---|\n",
       "| 36 | 164.9965 | 88.19127 | 214.9956 | 32.1963 | 7560.574 | 38.45139 |\n",
       "\n"
      ],
      "text/plain": [
       "   NtotDose PtotDose KtotDose Prediction benefit  P       \n",
       "36 164.9965 88.19127 214.9956 32.1963    7560.574 38.45139"
      ]
     },
     "metadata": {},
     "output_type": "display_data"
    }
   ],
   "source": [
    "reference_stack[which.max(reference_stack$benefit), c(dose_vars, 'Prediction', 'benefit', 'P')]"
   ]
  },
  {
   "cell_type": "code",
   "execution_count": 35,
   "metadata": {},
   "outputs": [],
   "source": [
    "# Save predictions for P trial\n",
    "write_csv(reference_stack[, c(dose_vars, 'Prediction', 'benefit', 'P')], 'output/yield_mitsch_P.csv')"
   ]
  },
  {
   "cell_type": "markdown",
   "metadata": {},
   "source": [
    "Plot for the P trial"
   ]
  },
  {
   "cell_type": "code",
   "execution_count": 36,
   "metadata": {},
   "outputs": [
    {
     "data": {
      "image/png": "[encoded data removed]",
      "text/plain": [
       "plot without title"
      ]
     },
     "metadata": {},
     "output_type": "display_data"
    }
   ],
   "source": [
    "df_mm %>%\n",
    "    filter(NoEssai == reference_row$NoEssai) %>% \n",
    "    ggplot(aes(x = PtotDose, y = RendVendable)) +\n",
    "    geom_point() +\n",
    "    geom_line(aes(x = PtotDose, y = Prediction), data = reference_stack)"
   ]
  },
  {
   "cell_type": "markdown",
   "metadata": {},
   "source": [
    "Reference trial where only __K__ dose varied: `(test_type = K)`"
   ]
  },
  {
   "cell_type": "code",
   "execution_count": 37,
   "metadata": {},
   "outputs": [],
   "source": [
    "reference_row <- df_mm %>%\n",
    "  filter(ID == test_types$ID[3])"
   ]
  },
  {
   "cell_type": "code",
   "execution_count": 38,
   "metadata": {},
   "outputs": [],
   "source": [
    "n_grid_samples <- 251 # number of samples\n",
    "N_range <- c(reference_row$NtotDose, reference_row$NtotDose)\n",
    "P_range <- c(reference_row$PtotDose, reference_row$PtotDose)\n",
    "K_range <- c(0, 250)"
   ]
  },
  {
   "cell_type": "code",
   "execution_count": 39,
   "metadata": {},
   "outputs": [],
   "source": [
    "reference_stack <- data.frame(matrix(nrow = n_grid_samples, ncol = ncol(reference_row)))\n",
    "colnames(reference_stack) <- colnames(reference_row)\n",
    "for (i in 1:ncol(reference_stack)) {\n",
    "  reference_stack[, i] = reference_row[1, i]\n",
    "}\n",
    "set.seed(936492)\n",
    "reference_stack$NtotDose <- runif(n_grid_samples, N_range[1], N_range[2])\n",
    "reference_stack$PtotDose <- runif(n_grid_samples, P_range[1], P_range[2])\n",
    "reference_stack$KtotDose <- runif(n_grid_samples, K_range[1], K_range[2])"
   ]
  },
  {
   "cell_type": "markdown",
   "metadata": {},
   "source": [
    "The prediction"
   ]
  },
  {
   "cell_type": "code",
   "execution_count": 40,
   "metadata": {},
   "outputs": [],
   "source": [
    "reference_stack <- reference_stack %>%\n",
    "    mutate(Prediction = pred_mitsch(mm = mm_NPK, newdata = ., rhs = rhs)$pred,\n",
    "           cost = NtotDose * N_cost + PtotDose * P_cost + KtotDose * K_cost, \n",
    "           revenue = Prediction * price_yield, \n",
    "           benefit = revenue - cost,\n",
    "           K = KtotDose*0.830)"
   ]
  },
  {
   "cell_type": "markdown",
   "metadata": {},
   "source": [
    "The optimum"
   ]
  },
  {
   "cell_type": "code",
   "execution_count": 41,
   "metadata": {},
   "outputs": [
    {
     "data": {
      "text/html": [
       "<table>\n",
       "<caption>A data.frame: 1 × 6</caption>\n",
       "<thead>\n",
       "\t<tr><th></th><th scope=col>NtotDose</th><th scope=col>PtotDose</th><th scope=col>KtotDose</th><th scope=col>Prediction</th><th scope=col>benefit</th><th scope=col>K</th></tr>\n",
       "\t<tr><th></th><th scope=col>&lt;dbl&gt;</th><th scope=col>&lt;dbl&gt;</th><th scope=col>&lt;dbl&gt;</th><th scope=col>&lt;dbl&gt;</th><th scope=col>&lt;dbl&gt;</th><th scope=col>&lt;dbl&gt;</th></tr>\n",
       "</thead>\n",
       "<tbody>\n",
       "\t<tr><th scope=row>240</th><td>149.9983</td><td>50.00981</td><td>0.3544926</td><td>33.4415</td><td>8125.047</td><td>0.2942288</td></tr>\n",
       "</tbody>\n",
       "</table>\n"
      ],
      "text/latex": [
       "A data.frame: 1 × 6\n",
       "\\begin{tabular}{r|llllll}\n",
       "  & NtotDose & PtotDose & KtotDose & Prediction & benefit & K\\\\\n",
       "  & <dbl> & <dbl> & <dbl> & <dbl> & <dbl> & <dbl>\\\\\n",
       "\\hline\n",
       "\t240 & 149.9983 & 50.00981 & 0.3544926 & 33.4415 & 8125.047 & 0.2942288\\\\\n",
       "\\end{tabular}\n"
      ],
      "text/markdown": [
       "\n",
       "A data.frame: 1 × 6\n",
       "\n",
       "| <!--/--> | NtotDose &lt;dbl&gt; | PtotDose &lt;dbl&gt; | KtotDose &lt;dbl&gt; | Prediction &lt;dbl&gt; | benefit &lt;dbl&gt; | K &lt;dbl&gt; |\n",
       "|---|---|---|---|---|---|---|\n",
       "| 240 | 149.9983 | 50.00981 | 0.3544926 | 33.4415 | 8125.047 | 0.2942288 |\n",
       "\n"
      ],
      "text/plain": [
       "    NtotDose PtotDose KtotDose  Prediction benefit  K        \n",
       "240 149.9983 50.00981 0.3544926 33.4415    8125.047 0.2942288"
      ]
     },
     "metadata": {},
     "output_type": "display_data"
    }
   ],
   "source": [
    "reference_stack[which.max(reference_stack$benefit), c(dose_vars, 'Prediction', 'benefit', 'K')]"
   ]
  },
  {
   "cell_type": "code",
   "execution_count": 42,
   "metadata": {},
   "outputs": [],
   "source": [
    "# Save predictions for K trial\n",
    "write_csv(reference_stack[, c(dose_vars, 'Prediction', 'benefit', 'K')], 'output/yield_mitsch_K.csv')"
   ]
  },
  {
   "cell_type": "markdown",
   "metadata": {},
   "source": [
    "Plot for the K trial"
   ]
  },
  {
   "cell_type": "code",
   "execution_count": 43,
   "metadata": {},
   "outputs": [
    {
     "data": {
      "image/png": "[encoded data removed]",
      "text/plain": [
       "plot without title"
      ]
     },
     "metadata": {},
     "output_type": "display_data"
    }
   ],
   "source": [
    "df_mm %>%\n",
    "    filter(NoEssai == reference_row$NoEssai) %>% \n",
    "    ggplot(aes(x = KtotDose, y = RendVendable)) +\n",
    "    geom_point() +\n",
    "    geom_line(aes(x = KtotDose, y = Prediction), data = reference_stack)"
   ]
  },
  {
   "cell_type": "raw",
   "metadata": {},
   "source": []
  }
 ],
 "metadata": {
  "kernelspec": {
   "display_name": "R",
   "language": "R",
   "name": "ir"
  },
  "language_info": {
   "codemirror_mode": "r",
   "file_extension": ".r",
   "mimetype": "text/x-r-source",
   "name": "R",
   "pygments_lexer": "r",
   "version": "3.6.3"
  }
 },
 "nbformat": 4,
 "nbformat_minor": 4
}
