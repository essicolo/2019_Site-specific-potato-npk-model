{
 "cells": [
  {
   "cell_type": "markdown",
   "metadata": {},
   "source": [
    "## 1.1 Preprocessing soil, fertilizers and yield variables"
   ]
  },
  {
   "cell_type": "code",
   "execution_count": 2,
   "metadata": {
    "source_hidden": true
   },
   "outputs": [],
   "source": [
    "library(\"tidyverse\")       # loads dplyr & ggplot2\n",
    "library(\"robCompositions\") # impCoda & impKNNa: for data imputation\n",
    "library(\"compositions\")    # for ILR transformations: acomp, ilr, ilrInv\n",
    "library(\"zCompositions\")   # cmultRepl(), reatment of Zeros, Left-Censored and Missing Values in Compositional Data Sets\n",
    "select <- dplyr::select"
   ]
  },
  {
   "cell_type": "markdown",
   "metadata": {},
   "source": [
    "Load the potato raw data frame __`Potato_df.csv`__."
   ]
  },
  {
   "cell_type": "code",
   "execution_count": 2,
   "metadata": {},
   "outputs": [],
   "source": [
    "data_df <- read.csv('data/Potato_df.csv')"
   ]
  },
  {
   "cell_type": "markdown",
   "metadata": {},
   "source": [
    "### Arrange data table"
   ]
  },
  {
   "cell_type": "markdown",
   "metadata": {},
   "source": [
    "Relevel preceding crop categories: __LRC__  as reference"
   ]
  },
  {
   "cell_type": "code",
   "execution_count": 3,
   "metadata": {},
   "outputs": [],
   "source": [
    "data_df$PrecCropFiveClasses <- relevel(factor(data_df$PrecCropFiveClasses), ref = \"LRC\")"
   ]
  },
  {
   "cell_type": "markdown",
   "metadata": {},
   "source": [
    "Choose cultivar __Superior__ as reference, it as the maximum number of samples in the data frame."
   ]
  },
  {
   "cell_type": "code",
   "execution_count": 4,
   "metadata": {},
   "outputs": [
    {
     "data": {
      "text/html": [
       "<table>\n",
       "<caption>A data.frame: 6 × 3</caption>\n",
       "<thead>\n",
       "\t<tr><th scope=col>numHY</th><th scope=col>percent</th><th scope=col>Cultivar</th></tr>\n",
       "\t<tr><th scope=col>&lt;dbl&gt;</th><th scope=col>&lt;dbl&gt;</th><th scope=col>&lt;fct&gt;</th></tr>\n",
       "</thead>\n",
       "<tbody>\n",
       "\t<tr><td>3108</td><td>24.03</td><td>Superior </td></tr>\n",
       "\t<tr><td>1544</td><td>11.94</td><td>Kennebec </td></tr>\n",
       "\t<tr><td>1420</td><td>10.98</td><td>Goldrush </td></tr>\n",
       "\t<tr><td>1145</td><td> 8.85</td><td>Shepody  </td></tr>\n",
       "\t<tr><td> 989</td><td> 7.65</td><td>Chieftain</td></tr>\n",
       "\t<tr><td> 686</td><td> 5.30</td><td>FL 1207  </td></tr>\n",
       "</tbody>\n",
       "</table>\n"
      ],
      "text/latex": [
       "A data.frame: 6 × 3\n",
       "\\begin{tabular}{r|lll}\n",
       " numHY & percent & Cultivar\\\\\n",
       " <dbl> & <dbl> & <fct>\\\\\n",
       "\\hline\n",
       "\t 3108 & 24.03 & Superior \\\\\n",
       "\t 1544 & 11.94 & Kennebec \\\\\n",
       "\t 1420 & 10.98 & Goldrush \\\\\n",
       "\t 1145 &  8.85 & Shepody  \\\\\n",
       "\t  989 &  7.65 & Chieftain\\\\\n",
       "\t  686 &  5.30 & FL 1207  \\\\\n",
       "\\end{tabular}\n"
      ],
      "text/markdown": [
       "\n",
       "A data.frame: 6 × 3\n",
       "\n",
       "| numHY &lt;dbl&gt; | percent &lt;dbl&gt; | Cultivar &lt;fct&gt; |\n",
       "|---|---|---|\n",
       "| 3108 | 24.03 | Superior  |\n",
       "| 1544 | 11.94 | Kennebec  |\n",
       "| 1420 | 10.98 | Goldrush  |\n",
       "| 1145 |  8.85 | Shepody   |\n",
       "|  989 |  7.65 | Chieftain |\n",
       "|  686 |  5.30 | FL 1207   |\n",
       "\n"
      ],
      "text/plain": [
       "  numHY percent Cultivar \n",
       "1 3108  24.03   Superior \n",
       "2 1544  11.94   Kennebec \n",
       "3 1420  10.98   Goldrush \n",
       "4 1145   8.85   Shepody  \n",
       "5  989   7.65   Chieftain\n",
       "6  686   5.30   FL 1207  "
      ]
     },
     "metadata": {},
     "output_type": "display_data"
    }
   ],
   "source": [
    "percentage <- round(with(data_df, prop.table(table(Cultivar)) * 100), 2)\n",
    "distribution <- with(data_df, cbind(numHY = table(Cultivar), percent = percentage))\n",
    "\n",
    "distribution <- data.frame(cbind(distribution, rownames(distribution)))\n",
    "colnames(distribution)[3] <- \"Cultivar\"\n",
    "\n",
    "distribution$numHY <- as.numeric(as.character(distribution$numHY)) # nHY = number of samples\n",
    "distribution$percent <- as.numeric(as.character(distribution$percent)) # percentage\n",
    "distribution %>% arrange(desc(numHY)) %>% head()"
   ]
  },
  {
   "cell_type": "code",
   "execution_count": 5,
   "metadata": {},
   "outputs": [],
   "source": [
    "data_df$Cultivar <-  relevel(factor(data_df$Cultivar), ref = \"Superior\")"
   ]
  },
  {
   "cell_type": "markdown",
   "metadata": {},
   "source": [
    "Relevel maturity order __Maturity5__ in ascending order."
   ]
  },
  {
   "cell_type": "code",
   "execution_count": 6,
   "metadata": {},
   "outputs": [],
   "source": [
    "data_df$Maturity5 <- ordered(data_df$Maturity5, \n",
    "                             levels = c(\"early\", \"early mid-season\", \"mid-season\", \"mid-season late\", \"late\"))"
   ]
  },
  {
   "cell_type": "markdown",
   "metadata": {},
   "source": [
    "For soil texture categories, if sand content (__SableMesure__)  is missing (__NA__), replace it by the centroid of the textural category. Do the same for clay (__ArgileMesure__). Then, compute silt (__LimonMesure__) from clay  and sand."
   ]
  },
  {
   "cell_type": "code",
   "execution_count": 7,
   "metadata": {},
   "outputs": [],
   "source": [
    "data_df <- data_df %>%\n",
    "  mutate(SableMesure = ifelse(is.na(SableMesure), SableCentroid, SableMesure)) %>%\n",
    "  mutate(ArgileMesure = ifelse(is.na(ArgileMesure), ArgileCentroid, ArgileMesure))\n",
    "data_df <- data_df %>% mutate(LimonDiff = 100 - SableMesure - ArgileMesure)"
   ]
  },
  {
   "cell_type": "markdown",
   "metadata": {},
   "source": [
    "### Fertilization trials\n",
    "Numerous informations are added, like minimal and maximal doses per trial, the number of doses as treatments, and the number of blocks per trial."
   ]
  },
  {
   "cell_type": "markdown",
   "metadata": {},
   "source": [
    "__Nitrogen__ trials"
   ]
  },
  {
   "cell_type": "code",
   "execution_count": 8,
   "metadata": {},
   "outputs": [],
   "source": [
    "# Total N applied\n",
    "tmpNsemisDose <- data_df$NsemisDose\n",
    "tmpNfracDose <- data_df$NfracDose\n",
    "tmpNsemisDose[is.na(data_df$NsemisDose)] <- 0\n",
    "tmpNfracDose[is.na(data_df$NfracDose)] <- 0\n",
    "data_df$NtotDose <- tmpNsemisDose + tmpNfracDose"
   ]
  },
  {
   "cell_type": "code",
   "execution_count": 9,
   "metadata": {},
   "outputs": [],
   "source": [
    "# Maximal dose per trial\n",
    "N_max.dose.trial <- data_df %>%\n",
    "  group_by(NoEssai) %>%\n",
    "  summarize(N_maxDoseTrial = max(NtotDose))\n",
    "# minimal dose per trial\n",
    "N_min.dose.trial <- data_df %>%\n",
    "  group_by(NoEssai) %>%\n",
    "  summarize(N_minDoseTrial = min(NtotDose))\n",
    "# append to the data set\n",
    "data_df <- left_join(data_df, N_max.dose.trial, 'NoEssai')\n",
    "data_df <- left_join(data_df, N_min.dose.trial, 'NoEssai')"
   ]
  },
  {
   "cell_type": "markdown",
   "metadata": {},
   "source": [
    "__Phosphorous__ trials: To compute indexes for phosphorus, the aluminum of the soil is considered since it's a fixative factor. `Al_total = Alsol + AlTabi`."
   ]
  },
  {
   "cell_type": "code",
   "execution_count": 10,
   "metadata": {},
   "outputs": [],
   "source": [
    "tmpAlSolTabi <- data_df$AlSolTabi\n",
    "tmpAlSol <- data_df$AlSol\n",
    "tmpAlSolTabi[is.na(data_df$AlSolTabi)] <- 0\n",
    "tmpAlSol[is.na(data_df$AlSol)] <- 0\n",
    "data_df$AlsoilTot <- tmpAlSolTabi + tmpAlSol # AlSolTot changed to AlsoilTot as in translate_col.csv file\n",
    "data_df$AlsoilTot[data_df$AlsoilTot == 0] <- NA"
   ]
  },
  {
   "cell_type": "code",
   "execution_count": 11,
   "metadata": {},
   "outputs": [],
   "source": [
    "P_max.dose.trial <- data_df %>%\n",
    "  group_by(NoEssai) %>%\n",
    "  summarize(P_maxDoseTrial = max(PtotDose))\n",
    "\n",
    "P_min.dose.trial <- data_df %>%\n",
    "  group_by(NoEssai) %>%\n",
    "  summarize(P_minDoseTrial = min(PtotDose))\n",
    "\n",
    "data_df <- left_join(data_df, P_max.dose.trial, 'NoEssai')\n",
    "data_df <- left_join(data_df, P_min.dose.trial, 'NoEssai')"
   ]
  },
  {
   "cell_type": "markdown",
   "metadata": {},
   "source": [
    "__Potassium__ trials"
   ]
  },
  {
   "cell_type": "code",
   "execution_count": 12,
   "metadata": {},
   "outputs": [],
   "source": [
    "K_max.dose.trial <- data_df %>%\n",
    "  group_by(NoEssai) %>%\n",
    "  summarize(K_maxDoseTrial = max(KtotDose))\n",
    "\n",
    "K_min.dose.trial <- data_df %>%\n",
    "  group_by(NoEssai) %>%\n",
    "  summarize(K_minDoseTrial = min(KtotDose))\n",
    "\n",
    "data_df <- left_join(data_df, K_max.dose.trial, 'NoEssai')\n",
    "data_df <- left_join(data_df, K_min.dose.trial, 'NoEssai')"
   ]
  },
  {
   "cell_type": "markdown",
   "metadata": {},
   "source": [
    "This chain counts thes __number of doses__ per block."
   ]
  },
  {
   "cell_type": "code",
   "execution_count": 13,
   "metadata": {},
   "outputs": [],
   "source": [
    "nDose <- data_df %>%\n",
    "  select(NoEssai, NoBloc, NtotDose) %>%\n",
    "  group_by(NoEssai, NoBloc) %>%\n",
    "  summarise(N_numDoseLevels = length(unique(NtotDose)))\n",
    "\n",
    "pDose <- data_df %>%\n",
    "  select(NoEssai, NoBloc, PtotDose) %>%\n",
    "  group_by(NoEssai, NoBloc) %>%\n",
    "  summarise(P_numDoseLevels = length(unique(PtotDose)))\n",
    "\n",
    "kDose <- data_df %>%\n",
    "  select(NoEssai, NoBloc, KtotDose) %>%\n",
    "  group_by(NoEssai, NoBloc) %>%\n",
    "  summarise(K_numDoseLevels = length(unique(KtotDose)))\n",
    "\n",
    "data_df <- data_df %>% \n",
    "    left_join(nDose, by = c('NoEssai', 'NoBloc')) %>%\n",
    "    left_join(pDose, by = c('NoEssai', 'NoBloc')) %>%\n",
    "    left_join(kDose, by = c('NoEssai', 'NoBloc'))"
   ]
  },
  {
   "cell_type": "markdown",
   "metadata": {},
   "source": [
    "... and this one counts the __number of blocks__ per trial."
   ]
  },
  {
   "cell_type": "code",
   "execution_count": 14,
   "metadata": {},
   "outputs": [],
   "source": [
    "nBloc <- data_df %>%\n",
    "  select(one_of(c(\"NoEssai\", \"NoBloc\"))) %>%\n",
    "  group_by(NoEssai) %>%\n",
    "  summarise(Bloc_numLevels = length(unique(NoBloc)))\n",
    "\n",
    "data_df <- data_df %>% left_join(nBloc, by = c('NoEssai'))"
   ]
  },
  {
   "cell_type": "markdown",
   "metadata": {},
   "source": [
    "This chain computes the __length of growing seasons__."
   ]
  },
  {
   "cell_type": "code",
   "execution_count": 15,
   "metadata": {},
   "outputs": [],
   "source": [
    "data_df$growing.season <- data_df$DOYrecolte - data_df$DOYplantation"
   ]
  },
  {
   "cell_type": "markdown",
   "metadata": {},
   "source": [
    "### Soils data\n",
    "\n",
    "__Soil elements__\n",
    "\n",
    "Data imputation of soil analysis results. \n",
    "- Exclude \"Bsol\",  \"CuSol\", \"ZnSol\", and \"MnSol\" because too few data available\n",
    "- no soil analysis data from Origine == \"Inventaire provincial\" and\n",
    "- SourceProject == \"Giroux, M. 1982. Can. J Soil Sc., 62: 503-517.\".\n",
    "- The imputation will be made by the mean of full data after imputation"
   ]
  },
  {
   "cell_type": "code",
   "execution_count": 16,
   "metadata": {},
   "outputs": [],
   "source": [
    "keys_col <- c(\"NoEssai\", \"NoBloc\", \"NoTraitement\")\n",
    "soil_col <- c(\"CaSol\", \"MgSol\", \"Ksol\", \"FeSol\", \"AlsoilTot\", \"Psol\") \n",
    "# AlSolTot changed to AlsoilTot to correspond with names in translate_col.csv file (later)"
   ]
  },
  {
   "cell_type": "code",
   "execution_count": 17,
   "metadata": {},
   "outputs": [],
   "source": [
    "# Keep track of rows where soil analysis is empty\n",
    "data_df$soilAnalysis_allNA <- apply(data_df[soil_col], 1, function(X) all(is.na(X)))\n",
    "# Keep track of rows where soil analysis contains any NA\n",
    "data_df$soilAnalysis_anyNA <- apply(data_df[soil_col], 1, function(X) any(is.na(X)))\n",
    "# Number of NAs in soil data\n",
    "data_df$soilAnalysis_countNA <- apply(data_df[soil_col], 1, function(X) sum(is.na(X)))\n",
    "# There is 6 components. Not imputing more than half\n",
    "data_df$soilAnalysis_hasTooMuchNA <- data_df$soilAnalysis_countNA > 3"
   ]
  },
  {
   "cell_type": "markdown",
   "metadata": {},
   "source": [
    "Impute with kNN (robCompositions)"
   ]
  },
  {
   "cell_type": "code",
   "execution_count": 18,
   "metadata": {},
   "outputs": [],
   "source": [
    "set.seed(23165)\n",
    "soil_imputeElemRob <- impCoda(as.matrix(data_df[!data_df$soilAnalysis_hasTooMuchNA, soil_col]),\n",
    "                              maxit = 10, \n",
    "                              eps = 0.5, \n",
    "                              method = \"ltsReg\",\n",
    "                              closed = TRUE, \n",
    "                              init = \"KNN\", \n",
    "                              k = 10, \n",
    "                              noise = 0)\n",
    "colnames(soil_imputeElemRob$xImp) <- paste0(soil_col, '_imp')"
   ]
  },
  {
   "cell_type": "markdown",
   "metadata": {},
   "source": [
    "Push imputed soil elements into the main table"
   ]
  },
  {
   "cell_type": "code",
   "execution_count": 19,
   "metadata": {},
   "outputs": [],
   "source": [
    "data_df <- left_join(x = data_df,\n",
    "                     y = data.frame(NoEssai = data_df$NoEssai[!data_df$soilAnalysis_hasTooMuchNA],\n",
    "                                    NoBloc = data_df$NoBloc[!data_df$soilAnalysis_hasTooMuchNA],\n",
    "                                    NoTraitement = data_df$NoTraitement[!data_df$soilAnalysis_hasTooMuchNA],\n",
    "                                    soil_imputeElemRob$xImp),\n",
    "                     by = keys_col)"
   ]
  },
  {
   "cell_type": "markdown",
   "metadata": {},
   "source": [
    "Add `environmental index`  __ISP1__ = P-m3 / Al-m3 with imputed elements"
   ]
  },
  {
   "cell_type": "code",
   "execution_count": 20,
   "metadata": {},
   "outputs": [],
   "source": [
    "data_df <- data_df %>%\n",
    "    mutate(ISP1 = Psol_imp * 100/ AlsoilTot_imp)"
   ]
  },
  {
   "cell_type": "markdown",
   "metadata": {},
   "source": [
    "__Soil carbon__"
   ]
  },
  {
   "cell_type": "code",
   "execution_count": 21,
   "metadata": {},
   "outputs": [],
   "source": [
    "data_df$Csol <- ifelse(data_df$MOouCtot == 'MO', 0.58*data_df$MOsol, data_df$MOsol)"
   ]
  },
  {
   "cell_type": "markdown",
   "metadata": {},
   "source": [
    "__pH__\n",
    "\n",
    "Convert `pH_CaCl2` to `pH_H2O`."
   ]
  },
  {
   "cell_type": "code",
   "execution_count": 22,
   "metadata": {},
   "outputs": [],
   "source": [
    "data_df$pH1dans1_H2O <- data_df$pH1dans1\n",
    "pH_filter <- data_df$pHactifMethode == 'CaCl2' & !is.na(data_df$pH1dans1_H2O)\n",
    "data_df$pH1dans1_H2O[pH_filter] <- 0.27 + 1.03 * data_df$pH1dans1[pH_filter]"
   ]
  },
  {
   "cell_type": "markdown",
   "metadata": {},
   "source": [
    "Impute pH and soil carbon from soil analysis, but apart because the Aitchison metric is inappropriate"
   ]
  },
  {
   "cell_type": "code",
   "execution_count": 23,
   "metadata": {},
   "outputs": [],
   "source": [
    "data_df$pHOM_allNA <- apply(data_df[c(\"pH1dans1_H2O\", \"Csol\")], 1, function(X) all(is.na(X)))\n",
    "data_df$pHOM_anyNA <- apply(data_df[c(\"pH1dans1_H2O\", \"Csol\")], 1, function(X) any(is.na(X)))\n",
    "data_df$pHOM_countNA <- apply(data_df[c(\"pH1dans1_H2O\", \"Csol\")], 1, function(X) sum(is.na(X)))"
   ]
  },
  {
   "cell_type": "code",
   "execution_count": 24,
   "metadata": {},
   "outputs": [],
   "source": [
    "data_impOMpH <- data_df %>%\n",
    "                     select(one_of(c(keys_col, soil_col, \"pH1dans1_H2O\", \"Csol\"))) %>%\n",
    "                     filter(!data_df$soilAnalysis_hasTooMuchNA, !data_df$pHOM_allNA)"
   ]
  },
  {
   "cell_type": "code",
   "execution_count": 25,
   "metadata": {},
   "outputs": [],
   "source": [
    "# impute on log for Carbon\n",
    "data_impOMpH[c(soil_col, 'Csol')] <- log10(data_impOMpH[c(soil_col, 'Csol')]) \n",
    "soil_imputeOMpHRob <- impKNNa(as.matrix(select(data_impOMpH, -one_of(keys_col))), \n",
    "                              metric = \"Euclidean\",\n",
    "                              k = 6, primitive = TRUE,\n",
    "                              normknn = TRUE, \n",
    "                              adj = 'median') # impute pH and C\n",
    "soil_imputeOMpHRob$xImp[, 8] <- 10^soil_imputeOMpHRob$xImp[, 8] # C back to original scale\n",
    "\n",
    "soilImputedOMpH <- as_tibble(data.frame(data_impOMpH[keys_col], soil_imputeOMpHRob$xImp[, c(7, 8)]))\n",
    "colnames(soilImputedOMpH)[c(4, 5)] <- c(\"pH1dans1_H2O_imp\", \"Csol_imp\")"
   ]
  },
  {
   "cell_type": "markdown",
   "metadata": {},
   "source": [
    "Push to data_df"
   ]
  },
  {
   "cell_type": "code",
   "execution_count": 26,
   "metadata": {},
   "outputs": [],
   "source": [
    "data_df <- left_join(x = data_df,\n",
    "                     y = soilImputedOMpH,\n",
    "                     by = keys_col)"
   ]
  },
  {
   "cell_type": "markdown",
   "metadata": {},
   "source": [
    "### Soil types and composition balances computation\n",
    "Custom functions are used for compositional data analysis."
   ]
  },
  {
   "cell_type": "code",
   "execution_count": 27,
   "metadata": {},
   "outputs": [],
   "source": [
    "source('https://raw.githubusercontent.com/essicolo/AgFun/master/ilrNA.R') # or source(\"lib/ilrNA.R\")\n",
    "source('https://raw.githubusercontent.com/essicolo/AgFun/master/ilrDefinition.R') # or source(\"lib/ilrDefinition.R\")\n",
    "source(\"https://raw.githubusercontent.com/essicolo/AgFun/master/codadend2.R\") # source(\"lib/codadend2.R\")"
   ]
  },
  {
   "cell_type": "markdown",
   "metadata": {},
   "source": [
    "#### Soil textural balances\n",
    "\n",
    "__Texture__: Transform texture proportions to balances: `[C | Mineral]`, `[Sand,Silt | Clay]`  and ` [Sand | Silt]` "
   ]
  },
  {
   "cell_type": "code",
   "execution_count": 28,
   "metadata": {},
   "outputs": [],
   "source": [
    "soilTextParts <- cbind(data_df$Csol_imp, \n",
    "                       (1-data_df$Csol_imp/100) * data_df[c('SableMesure','LimonDiff','ArgileMesure')])\n",
    "soilTextComp <- acomp(soilTextParts)\n",
    "soilTextSBP <- matrix(c(-1, 1, 1, 1,\n",
    "                        0, 1, 1,-1,\n",
    "                        0, 1,-1, 0),\n",
    "                      byrow = TRUE,\n",
    "                      ncol = 4)\n",
    "soilTextBal <- ilr(soilTextComp, V = gsi.buildilrBase(t(soilTextSBP)))\n",
    "soilTextBal <- ilrNA(soilTextComp, soilTextSBP, soilTextBal)"
   ]
  },
  {
   "cell_type": "markdown",
   "metadata": {},
   "source": [
    "Store balances in the main data frame"
   ]
  },
  {
   "cell_type": "code",
   "execution_count": 29,
   "metadata": {},
   "outputs": [],
   "source": [
    "data_df$soilTextIlr1 <- soilTextBal[, 1] # [C | Mineral]\n",
    "data_df$soilTextIlr2 <- soilTextBal[, 2] # [Sand,Silt | Clay]\n",
    "data_df$soilTextIlr3 <- soilTextBal[, 3] # [Sand | Silt]"
   ]
  },
  {
   "cell_type": "markdown",
   "metadata": {},
   "source": [
    "#### Soil elements balances"
   ]
  },
  {
   "cell_type": "code",
   "execution_count": 30,
   "metadata": {},
   "outputs": [],
   "source": [
    "# Compute the filling value\n",
    "data_df$FvSol_imp <- 1e6 - rowSums(data_df[, paste0(soil_col, '_imp')])"
   ]
  },
  {
   "cell_type": "markdown",
   "metadata": {},
   "source": [
    "Sequential binary partitions:"
   ]
  },
  {
   "cell_type": "code",
   "execution_count": 31,
   "metadata": {},
   "outputs": [],
   "source": [
    "# Several SBPs embedded in a list\n",
    "soilElemSBP <- list()"
   ]
  },
  {
   "cell_type": "markdown",
   "metadata": {},
   "source": [
    "Classical soil analysis"
   ]
  },
  {
   "cell_type": "code",
   "execution_count": 32,
   "metadata": {},
   "outputs": [],
   "source": [
    "soilElemSBP$all <- matrix(c( 1, 1, 1, 1, 1, 1,-1,\n",
    "                             1, 1, 1,-1,-1,-1, 0,\n",
    "                            -1,-1, 1, 0, 0, 0, 0, # balance [Ca,Mg | K] for response to K dose\n",
    "                             1,-1, 0, 0, 0, 0, 0,\n",
    "                             0, 0, 0, 1,-1,-1, 0,\n",
    "                             0, 0, 0, 0,-1, 1, 0), # balance [Al | P] for response to P dose\n",
    "                                            byrow = TRUE, ncol = 7)\n",
    "colnames(soilElemSBP$all) <- c(soil_col, 'FvSol')"
   ]
  },
  {
   "cell_type": "markdown",
   "metadata": {},
   "source": [
    "Phosphorous analysis 1"
   ]
  },
  {
   "cell_type": "code",
   "execution_count": 33,
   "metadata": {},
   "outputs": [],
   "source": [
    "soilElemSBP$P1 <- matrix(c( 1, 1,-1,  # [Al,P | Fv]\n",
    "                            1,-1, 0), # [Al | P]\n",
    "                         byrow = TRUE, ncol = 3)\n",
    "colnames(soilElemSBP$P1) <- c('Psol', 'AlSol', 'FvSol')"
   ]
  },
  {
   "cell_type": "markdown",
   "metadata": {},
   "source": [
    "Phosphorous analysis 2"
   ]
  },
  {
   "cell_type": "code",
   "execution_count": 34,
   "metadata": {},
   "outputs": [],
   "source": [
    "soilElemSBP$P2 <- matrix(c( 1,-1,-1,  # [Al,Fv | P]\n",
    "                            0, 1,-1), # [Fv | Al]\n",
    "                         byrow = TRUE, ncol = 3)\n",
    "colnames(soilElemSBP$P2) <- c('Psol', 'AlSol', 'FvSol')"
   ]
  },
  {
   "cell_type": "markdown",
   "metadata": {},
   "source": [
    "Potassium analysis 1"
   ]
  },
  {
   "cell_type": "code",
   "execution_count": 35,
   "metadata": {},
   "outputs": [],
   "source": [
    "soilElemSBP$K1 <- matrix(c( 1, 1, 1,-1, # [Mg,Ca,K | Fv]\n",
    "                            1,-1,-1, 0, # [Ca,Mg | K]\n",
    "                            0, 1,-1, 0),# [Mg | Ca]\n",
    "                         byrow = TRUE, ncol = 4)\n",
    "colnames(soilElemSBP$K1) <- c('Ksol', 'Casol', 'MgSol', 'FvSol')"
   ]
  },
  {
   "cell_type": "markdown",
   "metadata": {},
   "source": [
    "Potassium analysis 2"
   ]
  },
  {
   "cell_type": "code",
   "execution_count": 36,
   "metadata": {},
   "outputs": [],
   "source": [
    "soilElemSBP$K2 <- matrix(c( 1,-1,-1,-1, # [Mg,Ca,Fv | K]\n",
    "                            0, 1, 1,-1, # [Fv | Ca,Mg]\n",
    "                            0, 1,-1, 0),# [Mg | Ca]\n",
    "                         byrow = TRUE, ncol = 4)\n",
    "colnames(soilElemSBP$K2) <- c('Ksol', 'Casol', 'MgSol', 'FvSol')"
   ]
  },
  {
   "cell_type": "markdown",
   "metadata": {},
   "source": [
    "Function to remove extra tags in columns names"
   ]
  },
  {
   "cell_type": "code",
   "execution_count": 37,
   "metadata": {},
   "outputs": [],
   "source": [
    "# sub and gsub perform replacement of the first and all matches respectively\n",
    "sbpCleanColNames <- function(sbp) {\n",
    "  a <- gsub(\"Sol\", \"\", colnames(sbp))\n",
    "  a <- gsub(\"sol\", \"\", a)\n",
    "  a <- gsub(\"Tot\", \"\", a)\n",
    "  return(a)\n",
    "}\n",
    "\n",
    "for (i in seq_along(soilElemSBP)) {\n",
    "  colnames(soilElemSBP[[i]]) <- sbpCleanColNames(soilElemSBP[[i]])\n",
    "}"
   ]
  },
  {
   "cell_type": "markdown",
   "metadata": {},
   "source": [
    "Common table"
   ]
  },
  {
   "cell_type": "code",
   "execution_count": 38,
   "metadata": {},
   "outputs": [
    {
     "name": "stderr",
     "output_type": "stream",
     "text": [
      "Warning message in acomp(data_df[, c(paste(soil_col, \"_imp\", sep = \"\"), \"FvSol_imp\")]):\n",
      "\"Negative values in composition are used as detection limits\""
     ]
    }
   ],
   "source": [
    "soilElemComp_df <- data.frame(acomp(data_df[, c(paste(soil_col, '_imp', sep = ''), 'FvSol_imp')]))"
   ]
  },
  {
   "cell_type": "markdown",
   "metadata": {},
   "source": [
    "Tables for specific SBPs"
   ]
  },
  {
   "cell_type": "code",
   "execution_count": 39,
   "metadata": {},
   "outputs": [],
   "source": [
    "soilElemComp <- list()\n",
    "soilElemComp$all <- soilElemComp_df"
   ]
  },
  {
   "cell_type": "code",
   "execution_count": 40,
   "metadata": {},
   "outputs": [],
   "source": [
    "soilElemComp$P1 <- data.frame(soilElemComp_df[c('AlsoilTot_imp', 'Psol_imp')],\n",
    "                              Fv = apply(soilElemComp_df[c('AlsoilTot_imp', 'Psol_imp')], \n",
    "                                         1, function(X) 1-sum(X)))\n",
    "# AlSolTot changed to AlsoilTot"
   ]
  },
  {
   "cell_type": "code",
   "execution_count": 41,
   "metadata": {},
   "outputs": [],
   "source": [
    "soilElemComp$P2 <- soilElemComp$P1"
   ]
  },
  {
   "cell_type": "code",
   "execution_count": 42,
   "metadata": {},
   "outputs": [],
   "source": [
    "soilElemComp$K1 <- data.frame(soilElemComp_df[c('Ksol_imp', 'CaSol_imp', 'MgSol_imp')],\n",
    "                              Fv = apply(soilElemComp_df[c('Ksol_imp', 'CaSol_imp', 'MgSol_imp')],\n",
    "                                         1, function(X) 1-sum(X)))"
   ]
  },
  {
   "cell_type": "code",
   "execution_count": 43,
   "metadata": {},
   "outputs": [],
   "source": [
    "soilElemComp$K2 <- soilElemComp$K1"
   ]
  },
  {
   "cell_type": "markdown",
   "metadata": {},
   "source": [
    "This chain computes all the balances of the list."
   ]
  },
  {
   "cell_type": "code",
   "execution_count": 44,
   "metadata": {},
   "outputs": [],
   "source": [
    "soilElemBal <- list()\n",
    "for (i in seq_along(soilElemComp)) {\n",
    "  soilElemBal[[i]] <- ilr(soilElemComp[[i]], V = gsi.buildilrBase(t(soilElemSBP[[i]])))\n",
    "  soilElemBal[[i]] <- ilrNA(comp = as.matrix(soilElemComp[[i]]), sbp = soilElemSBP[[i]], bal = soilElemBal[[i]])\n",
    "  colnames(soilElemBal[[i]]) <- paste0(\"soil_\", names(soilElemComp)[i], \"_\",\n",
    "                                       ilrDefinition(soilElemSBP[[i]], side = \"-+\", sep.elem = \"\", sep.bal = \".\",\n",
    "                                                     sep.left = \"\", sep.right = \"\"))\n",
    "  soilElemBal[[i]] <- cbind(data_df[keys_col], soilElemBal[[i]])\n",
    "  \n",
    "  # push soil balances to data_df\n",
    "  data_df <- left_join(data_df, soilElemBal[[i]], by = keys_col)\n",
    "}\n",
    "names(soilElemBal) <- names(soilElemComp)"
   ]
  },
  {
   "cell_type": "markdown",
   "metadata": {},
   "source": [
    "#### Soil morphology: pedological soil type"
   ]
  },
  {
   "cell_type": "code",
   "execution_count": 45,
   "metadata": {},
   "outputs": [],
   "source": [
    "soilTypeSBP.3 <- matrix(c(-1, 1,-1,\n",
    "                          -1, 0, 1),\n",
    "                        byrow = TRUE,\n",
    "                        ncol = 3)\n",
    "colnames(soilTypeSBP.3) <- c('loam.gley', 'sand.podzol', 'sand.gley')\n",
    "\n",
    "soilTypeComp.3 <- acomp(data_df[c('m.3a', 'm.3b', 'm.3c')])\n",
    "soilTypeBal.3 <- ilr(soilTypeComp.3, V = gsi.buildilrBase(t(soilTypeSBP.3)))\n",
    "soilTypeBal.3 <- ilrNA(soilTypeComp.3, soilTypeSBP.3, soilTypeBal.3)\n",
    "\n",
    "data_df$soilTypeIlr1.3 <- soilTypeBal.3[, 1] # ilr1 [gley | podzol]\n",
    "data_df$soilTypeIlr2.3 <- soilTypeBal.3[, 2] # ilr2 gley.[fine | coarse]"
   ]
  },
  {
   "cell_type": "markdown",
   "metadata": {},
   "source": [
    "Vizualise in reduced space"
   ]
  },
  {
   "cell_type": "code",
   "execution_count": 46,
   "metadata": {},
   "outputs": [
    {
     "data": {
      "image/png": "[encoded data removed]",
      "text/plain": [
       "plot without title"
      ]
     },
     "metadata": {},
     "output_type": "display_data"
    }
   ],
   "source": [
    "soilTypeBal.3.NA <- apply(soilTypeBal.3, 1, anyNA)\n",
    "soilTypeBal.3.pca <- princomp(soilTypeBal.3[!soilTypeBal.3.NA, ])\n",
    "options(repr.plot.width = 6, repr.plot.height = 6)\n",
    "biplot(soilTypeBal.3.pca)"
   ]
  },
  {
   "cell_type": "markdown",
   "metadata": {},
   "source": [
    "### Yield record\n",
    "\n",
    "__Maximum yield per trial__: `rdt_max` stores the maximal yield per trial, for later data filtering. If yield was not recorded, `rdt_max` stores `NA`."
   ]
  },
  {
   "cell_type": "code",
   "execution_count": 64,
   "metadata": {},
   "outputs": [],
   "source": [
    "rdt_max <- rep(NA, nrow(data_df)) # max yield per trial (empty vector)\n",
    "\n",
    "for (i in 1:nlevels(factor(data_df$NoEssai))) {\n",
    "  filtre <- data_df$NoEssai == levels(factor(data_df$NoEssai))[i] # filter for test i\n",
    "  rdt_max[filtre] <- ifelse(is.na(data_df$RendVendable[filtre]), NA, \n",
    "                            max(data_df$RendVendable[filtre], na.rm = TRUE))\n",
    "}\n",
    "rdt_max[!is.finite(rdt_max)] <- NA\n",
    "data_df$RendVendableMaxParEssai <- rdt_max"
   ]
  },
  {
   "cell_type": "markdown",
   "metadata": {},
   "source": [
    "__Tuber size__ proportions"
   ]
  },
  {
   "cell_type": "code",
   "execution_count": 48,
   "metadata": {},
   "outputs": [
    {
     "data": {
      "text/html": [
       "<table>\n",
       "<caption>A matrix: 1 × 6 of type dbl</caption>\n",
       "<thead>\n",
       "\t<tr><th scope=col>1</th><th scope=col>2</th><th scope=col>3</th><th scope=col>4</th><th scope=col>5</th><th scope=col>6</th></tr>\n",
       "</thead>\n",
       "<tbody>\n",
       "\t<tr><td>100</td><td>100</td><td>100</td><td>100</td><td>100</td><td>100</td></tr>\n",
       "</tbody>\n",
       "</table>\n"
      ],
      "text/latex": [
       "A matrix: 1 × 6 of type dbl\n",
       "\\begin{tabular}{llllll}\n",
       " 1 & 2 & 3 & 4 & 5 & 6\\\\\n",
       "\\hline\n",
       "\t 100 & 100 & 100 & 100 & 100 & 100\\\\\n",
       "\\end{tabular}\n"
      ],
      "text/markdown": [
       "\n",
       "A matrix: 1 × 6 of type dbl\n",
       "\n",
       "| 1 | 2 | 3 | 4 | 5 | 6 |\n",
       "|---|---|---|---|---|---|\n",
       "| 100 | 100 | 100 | 100 | 100 | 100 |\n",
       "\n"
      ],
      "text/plain": [
       "     1   2   3   4   5   6  \n",
       "[1,] 100 100 100 100 100 100"
      ]
     },
     "metadata": {},
     "output_type": "display_data"
    }
   ],
   "source": [
    "data_df <- data_df %>%\n",
    "                mutate(pcGros = RendGros*100/RendVendable,              # Large size\n",
    "                      pcMoy = RendMoy*100/RendVendable,                 # Medium size\n",
    "                      pcPetit = RendPetit*100/RendVendable)             # Small size\n",
    "t(apply(data_df %>% select(pcGros, pcMoy, pcPetit) %>% head(), 1, sum))"
   ]
  },
  {
   "cell_type": "code",
   "execution_count": 49,
   "metadata": {},
   "outputs": [
    {
     "name": "stdout",
     "output_type": "stream",
     "text": [
      "No. corrected values:  1322 \n"
     ]
    }
   ],
   "source": [
    "prop_col <- c('pcGros', 'pcMoy', 'pcPetit')\n",
    "yieldparts <- data_df %>% select(pcGros, pcMoy, pcPetit)\n",
    "zComp <- cmultRepl(data_df[complete.cases(yieldparts), prop_col], method = \"GBM\", output = \"prop\", delta = 0.65)\n",
    "colnames(zComp) <- c('zGros', 'zMoy', 'zPetit')"
   ]
  },
  {
   "cell_type": "code",
   "execution_count": 50,
   "metadata": {},
   "outputs": [
    {
     "data": {
      "text/html": [
       "<table>\n",
       "<caption>A data.frame: 6 × 6</caption>\n",
       "<thead>\n",
       "\t<tr><th scope=col>zGros</th><th scope=col>zMoy</th><th scope=col>zPetit</th><th scope=col>NoEssai</th><th scope=col>NoBloc</th><th scope=col>NoTraitement</th></tr>\n",
       "\t<tr><th scope=col>&lt;dbl&gt;</th><th scope=col>&lt;dbl&gt;</th><th scope=col>&lt;dbl&gt;</th><th scope=col>&lt;int&gt;</th><th scope=col>&lt;int&gt;</th><th scope=col>&lt;int&gt;</th></tr>\n",
       "</thead>\n",
       "<tbody>\n",
       "\t<tr><td>0.1892980</td><td>0.6024166</td><td>0.20828539</td><td>1</td><td>1</td><td>1</td></tr>\n",
       "\t<tr><td>0.4430038</td><td>0.4351702</td><td>0.12182604</td><td>1</td><td>1</td><td>2</td></tr>\n",
       "\t<tr><td>0.3945892</td><td>0.4140548</td><td>0.19135599</td><td>1</td><td>1</td><td>3</td></tr>\n",
       "\t<tr><td>0.4702467</td><td>0.4325109</td><td>0.09724238</td><td>1</td><td>1</td><td>4</td></tr>\n",
       "\t<tr><td>0.4856669</td><td>0.4129353</td><td>0.10139777</td><td>1</td><td>1</td><td>5</td></tr>\n",
       "\t<tr><td>0.4653202</td><td>0.4182833</td><td>0.11639649</td><td>1</td><td>1</td><td>6</td></tr>\n",
       "</tbody>\n",
       "</table>\n"
      ],
      "text/latex": [
       "A data.frame: 6 × 6\n",
       "\\begin{tabular}{r|llllll}\n",
       " zGros & zMoy & zPetit & NoEssai & NoBloc & NoTraitement\\\\\n",
       " <dbl> & <dbl> & <dbl> & <int> & <int> & <int>\\\\\n",
       "\\hline\n",
       "\t 0.1892980 & 0.6024166 & 0.20828539 & 1 & 1 & 1\\\\\n",
       "\t 0.4430038 & 0.4351702 & 0.12182604 & 1 & 1 & 2\\\\\n",
       "\t 0.3945892 & 0.4140548 & 0.19135599 & 1 & 1 & 3\\\\\n",
       "\t 0.4702467 & 0.4325109 & 0.09724238 & 1 & 1 & 4\\\\\n",
       "\t 0.4856669 & 0.4129353 & 0.10139777 & 1 & 1 & 5\\\\\n",
       "\t 0.4653202 & 0.4182833 & 0.11639649 & 1 & 1 & 6\\\\\n",
       "\\end{tabular}\n"
      ],
      "text/markdown": [
       "\n",
       "A data.frame: 6 × 6\n",
       "\n",
       "| zGros &lt;dbl&gt; | zMoy &lt;dbl&gt; | zPetit &lt;dbl&gt; | NoEssai &lt;int&gt; | NoBloc &lt;int&gt; | NoTraitement &lt;int&gt; |\n",
       "|---|---|---|---|---|---|\n",
       "| 0.1892980 | 0.6024166 | 0.20828539 | 1 | 1 | 1 |\n",
       "| 0.4430038 | 0.4351702 | 0.12182604 | 1 | 1 | 2 |\n",
       "| 0.3945892 | 0.4140548 | 0.19135599 | 1 | 1 | 3 |\n",
       "| 0.4702467 | 0.4325109 | 0.09724238 | 1 | 1 | 4 |\n",
       "| 0.4856669 | 0.4129353 | 0.10139777 | 1 | 1 | 5 |\n",
       "| 0.4653202 | 0.4182833 | 0.11639649 | 1 | 1 | 6 |\n",
       "\n"
      ],
      "text/plain": [
       "  zGros     zMoy      zPetit     NoEssai NoBloc NoTraitement\n",
       "1 0.1892980 0.6024166 0.20828539 1       1      1           \n",
       "2 0.4430038 0.4351702 0.12182604 1       1      2           \n",
       "3 0.3945892 0.4140548 0.19135599 1       1      3           \n",
       "4 0.4702467 0.4325109 0.09724238 1       1      4           \n",
       "5 0.4856669 0.4129353 0.10139777 1       1      5           \n",
       "6 0.4653202 0.4182833 0.11639649 1       1      6           "
      ]
     },
     "metadata": {},
     "output_type": "display_data"
    }
   ],
   "source": [
    "zComp <- zComp %>% mutate(NoEssai = data_df$NoEssai[complete.cases(yieldparts)],\n",
    "                         NoBloc = data_df$NoBloc[complete.cases(yieldparts)],\n",
    "                         NoTraitement = data_df$NoTraitement[complete.cases(yieldparts)])\n",
    "head(zComp)"
   ]
  },
  {
   "cell_type": "code",
   "execution_count": 52,
   "metadata": {},
   "outputs": [],
   "source": [
    "data_df <- data_df %>% left_join(zComp, by = keys_col)\n",
    "yieldparts <- data_df %>% select(zGros, zMoy, zPetit)"
   ]
  },
  {
   "cell_type": "markdown",
   "metadata": {},
   "source": [
    "Tuber size sequential binary partition (__sbp__):"
   ]
  },
  {
   "cell_type": "code",
   "execution_count": 53,
   "metadata": {},
   "outputs": [],
   "source": [
    "sbp <- matrix(c( 1, -1, -1,             # [Medium, Small | Large]\n",
    "                 0, 1, -1),             # [Small | Medium]\n",
    "             byrow = TRUE, ncol = 3)\n",
    "colnames(sbp) <- c('Large', 'Medium', 'Small')"
   ]
  },
  {
   "cell_type": "code",
   "execution_count": 54,
   "metadata": {},
   "outputs": [],
   "source": [
    "yieldComp <- acomp(yieldparts)\n",
    "yieldBal2 <- ilr(yieldComp, V = gsi.buildilrBase(t(sbp)))\n",
    "yieldBal2 <- ilrNA(yieldComp, sbp, yieldBal2) # ilrNA(acomp(data), matrix sbp, ilr transformed object)"
   ]
  },
  {
   "cell_type": "code",
   "execution_count": 55,
   "metadata": {},
   "outputs": [],
   "source": [
    "data_df$tsizeMS_L <- yieldBal2[, 1] # ilr1 [Large, Small | Medium] qui msximisé privilégie la Table\n",
    "data_df$tsizeS_M <- yieldBal2[, 2] # ilr2 [Large | Small] qui msximisé privilégie la Transformation"
   ]
  },
  {
   "cell_type": "markdown",
   "metadata": {},
   "source": [
    "This __processed__ data frame is saved as `balanced_potato_df`."
   ]
  },
  {
   "cell_type": "code",
   "execution_count": 68,
   "metadata": {},
   "outputs": [],
   "source": [
    "write_csv(data_df, 'output/balanced_potato_df.csv')"
   ]
  },
  {
   "cell_type": "raw",
   "metadata": {},
   "source": []
  }
 ],
 "metadata": {
  "kernelspec": {
   "display_name": "R",
   "language": "R",
   "name": "ir"
  },
  "language_info": {
   "codemirror_mode": "r",
   "file_extension": ".r",
   "mimetype": "text/x-r-source",
   "name": "R",
   "pygments_lexer": "r",
   "version": "3.6.3"
  }
 },
 "nbformat": 4,
 "nbformat_minor": 4
}
